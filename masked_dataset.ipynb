{
 "cells": [
  {
   "cell_type": "code",
   "execution_count": 15,
   "metadata": {},
   "outputs": [
    {
     "data": {
      "text/plain": [
       "<src.data.fast_dataset.FastDataset at 0x7f47a4edad00>"
      ]
     },
     "execution_count": 15,
     "metadata": {},
     "output_type": "execute_result"
    }
   ],
   "source": [
    "# # pyright: reportMissingImports=false\n",
    "# import os\n",
    "# import numpy as np\n",
    "# import torch\n",
    "# import torch.nn.functional as F\n",
    "# from torchvision.transforms import (\n",
    "#     Compose,    \n",
    "#     Normalize,\n",
    "#     Resize,\n",
    "#     RandomHorizontalFlip,\n",
    "#     ToTensor,\n",
    "#     ToPILImage,\n",
    "# )\n",
    "# from torchvision.datasets import ImageFolder\n",
    "# from src.augment.geoaug import GeoAugment\n",
    "\n",
    "# def pyramid_transform(img_size, mask_size,  mean=0, std=1):\n",
    "#     transform = {\n",
    "#         'preprocess': Compose([\n",
    "#             Resize([mask_size, mask_size]),\n",
    "#             ToTensor(),            \n",
    "#         ]),\n",
    "#         'head': Compose([\n",
    "#             ToPILImage(),\n",
    "#             RandomHorizontalFlip(),            \n",
    "#         ]),\n",
    "#         'image': Compose([\n",
    "#             Resize([img_size, img_size]),\n",
    "#             ToTensor(),\n",
    "#             Normalize(mean=(mean), std=(std)),\n",
    "#         ]),        \n",
    "#     }\n",
    "#     def final_transform(img, mask):\n",
    "#         img = transform['preprocess'](img)\n",
    "#         img = img * mask        \n",
    "#         flipped = transform['head'](img)\n",
    "#         return {\n",
    "#             'image': transform['image'](flipped),            \n",
    "#         }\n",
    "#     return final_transform\n",
    "\n",
    "# class FastDataset(torch.utils.data.Dataset):\n",
    "    \n",
    "#     def __init__(self, config):\n",
    "        \n",
    "#         self.num_workers = config.num_workers\n",
    "#         self.pin_memory = config.pin_memory        \n",
    "#         self.outline_size =  config.fast_outline_size\n",
    "#         self.geoaug_policy = config.geoaug_policy\n",
    "\n",
    "#         self.image_root = config.fast_image_root\n",
    "#         self.mask_root = config.mask_root            \n",
    "#         self.image_size = config.fast_image_size\n",
    "#         self.mask_size = config.mask_size\n",
    "#         self.image_mean = config.fast_image_mean\n",
    "#         self.image_std = config.fast_image_std\n",
    "        \n",
    "#         blueprint = np.load(os.path.join(config.data_dir, config.blueprint))\n",
    "#         points = torch.tensor(blueprint['points'])                \n",
    "                       \n",
    "#         self.points = self.scale(points, self.outline_size)                \n",
    "        \n",
    "#         self.transform = pyramid_transform(self.image_size, self.mask_size, \n",
    "#                                            self.image_mean, self.image_std)\n",
    "#         self.img_ds = ImageFolder(self.image_root)\n",
    "        \n",
    "#     def scale(self, t, size):\n",
    "#         return F.interpolate(t, size=size, mode='bicubic', align_corners=True)\n",
    "        \n",
    "#     def __len__(self):\n",
    "#         return len(self.img_ds)\n",
    "    \n",
    "#     def __getitem__(self, idx):              \n",
    "#         points = self.points[idx % self.points.size(0)]\n",
    "#         idx_img = idx % len(self.img_ds)\n",
    "#         image, _ = self.img_ds[idx_img]\n",
    "#         mask_path =  self.img_ds.imgs[0][0].replace(self.image_root, self.mask_root)\n",
    "#         mask = torch.load(mask_path.replace('.png', '.pth'))\n",
    "#         res = self.transform(image, mask)        \n",
    "#         res['outline'] = GeoAugment(points, policy=self.geoaug_policy)         \n",
    "#         return res\n",
    "\n",
    "from src.data.fast_dataset import FastDataset\n",
    "    \n",
    "from src.config import get_parser\n",
    "\n",
    "config = get_parser().parse_args(args=[])  \n",
    "\n",
    "ds = FastDataset(config)\n",
    "ds"
   ]
  },
  {
   "cell_type": "code",
   "execution_count": 16,
   "metadata": {},
   "outputs": [
    {
     "data": {
      "image/png": "[encoded data removed]",
      "text/plain": [
       "<PIL.Image.Image image mode=RGB size=128x128 at 0x7F47A4C3AD90>"
      ]
     },
     "execution_count": 16,
     "metadata": {},
     "output_type": "execute_result"
    }
   ],
   "source": [
    "ToPILImage()(ds[0]['image'])"
   ]
  },
  {
   "cell_type": "code",
   "execution_count": 14,
   "metadata": {},
   "outputs": [
    {
     "data": {
      "text/plain": [
       "('/home/bobi/Desktop/db/ffhq-dataset/images1024x1024/00000/00000.png', 0)"
      ]
     },
     "execution_count": 14,
     "metadata": {},
     "output_type": "execute_result"
    }
   ],
   "source": [
    "ds.img_ds.imgs[0]"
   ]
  },
  {
   "cell_type": "code",
   "execution_count": 23,
   "metadata": {},
   "outputs": [
    {
     "data": {
      "text/plain": [
       "(<PIL.Image.Image image mode=RGB size=1024x1024 at 0x7F03F3100EB0>, 0)"
      ]
     },
     "execution_count": 23,
     "metadata": {},
     "output_type": "execute_result"
    }
   ],
   "source": [
    "ds.img_ds[0]#[0]['image']"
   ]
  },
  {
   "cell_type": "code",
   "execution_count": 27,
   "metadata": {},
   "outputs": [
    {
     "ename": "TypeError",
     "evalue": "ToTensor() takes no arguments",
     "output_type": "error",
     "traceback": [
      "\u001b[0;31m---------------------------------------------------------------------------\u001b[0m",
      "\u001b[0;31mTypeError\u001b[0m                                 Traceback (most recent call last)",
      "\u001b[0;32m<ipython-input-27-b2e11602213c>\u001b[0m in \u001b[0;36m<module>\u001b[0;34m\u001b[0m\n\u001b[0;32m----> 1\u001b[0;31m \u001b[0mds\u001b[0m\u001b[0;34m[\u001b[0m\u001b[0;36m1\u001b[0m\u001b[0;34m]\u001b[0m\u001b[0;34m\u001b[0m\u001b[0;34m\u001b[0m\u001b[0m\n\u001b[0m",
      "\u001b[0;32m<ipython-input-26-05d7967aa88a>\u001b[0m in \u001b[0;36m__getitem__\u001b[0;34m(self, idx)\u001b[0m\n\u001b[1;32m     69\u001b[0m         \u001b[0mmask_path\u001b[0m \u001b[0;34m=\u001b[0m  \u001b[0mself\u001b[0m\u001b[0;34m.\u001b[0m\u001b[0mimg_ds\u001b[0m\u001b[0;34m.\u001b[0m\u001b[0mimgs\u001b[0m\u001b[0;34m[\u001b[0m\u001b[0;36m0\u001b[0m\u001b[0;34m]\u001b[0m\u001b[0;34m[\u001b[0m\u001b[0;36m0\u001b[0m\u001b[0;34m]\u001b[0m\u001b[0;34m.\u001b[0m\u001b[0mreplace\u001b[0m\u001b[0;34m(\u001b[0m\u001b[0mself\u001b[0m\u001b[0;34m.\u001b[0m\u001b[0mimage_root\u001b[0m\u001b[0;34m,\u001b[0m \u001b[0mself\u001b[0m\u001b[0;34m.\u001b[0m\u001b[0mmask_root\u001b[0m\u001b[0;34m)\u001b[0m\u001b[0;34m\u001b[0m\u001b[0;34m\u001b[0m\u001b[0m\n\u001b[1;32m     70\u001b[0m         \u001b[0mmask\u001b[0m \u001b[0;34m=\u001b[0m \u001b[0mtorch\u001b[0m\u001b[0;34m.\u001b[0m\u001b[0mload\u001b[0m\u001b[0;34m(\u001b[0m\u001b[0mmask_path\u001b[0m\u001b[0;34m.\u001b[0m\u001b[0mreplace\u001b[0m\u001b[0;34m(\u001b[0m\u001b[0;34m'.png'\u001b[0m\u001b[0;34m,\u001b[0m \u001b[0;34m'.pth'\u001b[0m\u001b[0;34m)\u001b[0m\u001b[0;34m)\u001b[0m\u001b[0;34m\u001b[0m\u001b[0;34m\u001b[0m\u001b[0m\n\u001b[0;32m---> 71\u001b[0;31m         \u001b[0mres\u001b[0m \u001b[0;34m=\u001b[0m \u001b[0mself\u001b[0m\u001b[0;34m.\u001b[0m\u001b[0mtransform\u001b[0m\u001b[0;34m(\u001b[0m\u001b[0mimage\u001b[0m\u001b[0;34m,\u001b[0m \u001b[0mmask\u001b[0m\u001b[0;34m)\u001b[0m\u001b[0;34m\u001b[0m\u001b[0;34m\u001b[0m\u001b[0m\n\u001b[0m\u001b[1;32m     72\u001b[0m         \u001b[0mres\u001b[0m\u001b[0;34m[\u001b[0m\u001b[0;34m'outline'\u001b[0m\u001b[0;34m]\u001b[0m \u001b[0;34m=\u001b[0m \u001b[0mGeoAugment\u001b[0m\u001b[0;34m(\u001b[0m\u001b[0mpoints\u001b[0m\u001b[0;34m,\u001b[0m \u001b[0mpolicy\u001b[0m\u001b[0;34m=\u001b[0m\u001b[0mself\u001b[0m\u001b[0;34m.\u001b[0m\u001b[0mgeoaug_policy\u001b[0m\u001b[0;34m)\u001b[0m\u001b[0;34m\u001b[0m\u001b[0;34m\u001b[0m\u001b[0m\n\u001b[1;32m     73\u001b[0m         \u001b[0;32mreturn\u001b[0m \u001b[0mres\u001b[0m\u001b[0;34m\u001b[0m\u001b[0;34m\u001b[0m\u001b[0m\n",
      "\u001b[0;32m<ipython-input-26-05d7967aa88a>\u001b[0m in \u001b[0;36mfinal_transform\u001b[0;34m(img, mask)\u001b[0m\n\u001b[1;32m     26\u001b[0m     }\n\u001b[1;32m     27\u001b[0m     \u001b[0;32mdef\u001b[0m \u001b[0mfinal_transform\u001b[0m\u001b[0;34m(\u001b[0m\u001b[0mimg\u001b[0m\u001b[0;34m,\u001b[0m \u001b[0mmask\u001b[0m\u001b[0;34m)\u001b[0m\u001b[0;34m:\u001b[0m\u001b[0;34m\u001b[0m\u001b[0;34m\u001b[0m\u001b[0m\n\u001b[0;32m---> 28\u001b[0;31m         \u001b[0mimg\u001b[0m \u001b[0;34m=\u001b[0m \u001b[0mToTensor\u001b[0m\u001b[0;34m(\u001b[0m\u001b[0mimg\u001b[0m\u001b[0;34m)\u001b[0m\u001b[0;34m\u001b[0m\u001b[0;34m\u001b[0m\u001b[0m\n\u001b[0m\u001b[1;32m     29\u001b[0m         \u001b[0mprint\u001b[0m\u001b[0;34m(\u001b[0m\u001b[0mimg\u001b[0m\u001b[0;34m.\u001b[0m\u001b[0mshape\u001b[0m\u001b[0;34m,\u001b[0m \u001b[0mmask\u001b[0m\u001b[0;34m.\u001b[0m\u001b[0mshape\u001b[0m\u001b[0;34m)\u001b[0m\u001b[0;34m\u001b[0m\u001b[0;34m\u001b[0m\u001b[0m\n\u001b[1;32m     30\u001b[0m         \u001b[0mflipped\u001b[0m \u001b[0;34m=\u001b[0m \u001b[0mtransform\u001b[0m\u001b[0;34m[\u001b[0m\u001b[0;34m'head'\u001b[0m\u001b[0;34m]\u001b[0m\u001b[0;34m(\u001b[0m\u001b[0mimg\u001b[0m\u001b[0;34m)\u001b[0m\u001b[0;34m\u001b[0m\u001b[0;34m\u001b[0m\u001b[0m\n",
      "\u001b[0;31mTypeError\u001b[0m: ToTensor() takes no arguments"
     ]
    }
   ],
   "source": []
  },
  {
   "cell_type": "code",
   "execution_count": null,
   "metadata": {},
   "outputs": [],
   "source": []
  }
 ],
 "metadata": {
  "kernelspec": {
   "display_name": "pytorch3d_0.3",
   "language": "python",
   "name": "pytorch3d_0.3"
  },
  "language_info": {
   "codemirror_mode": {
    "name": "ipython",
    "version": 3
   },
   "file_extension": ".py",
   "mimetype": "text/x-python",
   "name": "python",
   "nbconvert_exporter": "python",
   "pygments_lexer": "ipython3",
   "version": "3.8.5"
  }
 },
 "nbformat": 4,
 "nbformat_minor": 4
}
