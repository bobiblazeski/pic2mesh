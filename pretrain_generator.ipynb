{
 "cells": [
  {
   "cell_type": "code",
   "execution_count": 1,
   "metadata": {},
   "outputs": [
    {
     "data": {
      "text/html": [
       "        <script type=\"text/javascript\">\n",
       "        window.PlotlyConfig = {MathJaxConfig: 'local'};\n",
       "        if (window.MathJax) {MathJax.Hub.Config({SVG: {font: \"STIX-Web\"}});}\n",
       "        if (typeof require !== 'undefined') {\n",
       "        require.undef(\"plotly\");\n",
       "        requirejs.config({\n",
       "            paths: {\n",
       "                'plotly': ['https://cdn.plot.ly/plotly-latest.min']\n",
       "            }\n",
       "        });\n",
       "        require(['plotly'], function(Plotly) {\n",
       "            window._Plotly = Plotly;\n",
       "        });\n",
       "        }\n",
       "        </script>\n",
       "        "
      ]
     },
     "metadata": {},
     "output_type": "display_data"
    },
    {
     "data": {
      "text/html": [
       "        <script type=\"text/javascript\">\n",
       "        window.PlotlyConfig = {MathJaxConfig: 'local'};\n",
       "        if (window.MathJax) {MathJax.Hub.Config({SVG: {font: \"STIX-Web\"}});}\n",
       "        if (typeof require !== 'undefined') {\n",
       "        require.undef(\"plotly\");\n",
       "        requirejs.config({\n",
       "            paths: {\n",
       "                'plotly': ['https://cdn.plot.ly/plotly-latest.min']\n",
       "            }\n",
       "        });\n",
       "        require(['plotly'], function(Plotly) {\n",
       "            window._Plotly = Plotly;\n",
       "        });\n",
       "        }\n",
       "        </script>\n",
       "        "
      ]
     },
     "metadata": {},
     "output_type": "display_data"
    },
    {
     "data": {
      "text/html": [
       "        <script type=\"text/javascript\">\n",
       "        window.PlotlyConfig = {MathJaxConfig: 'local'};\n",
       "        if (window.MathJax) {MathJax.Hub.Config({SVG: {font: \"STIX-Web\"}});}\n",
       "        if (typeof require !== 'undefined') {\n",
       "        require.undef(\"plotly\");\n",
       "        requirejs.config({\n",
       "            paths: {\n",
       "                'plotly': ['https://cdn.plot.ly/plotly-latest.min']\n",
       "            }\n",
       "        });\n",
       "        require(['plotly'], function(Plotly) {\n",
       "            window._Plotly = Plotly;\n",
       "        });\n",
       "        }\n",
       "        </script>\n",
       "        "
      ]
     },
     "metadata": {},
     "output_type": "display_data"
    },
    {
     "data": {
      "text/html": [
       "        <script type=\"text/javascript\">\n",
       "        window.PlotlyConfig = {MathJaxConfig: 'local'};\n",
       "        if (window.MathJax) {MathJax.Hub.Config({SVG: {font: \"STIX-Web\"}});}\n",
       "        if (typeof require !== 'undefined') {\n",
       "        require.undef(\"plotly\");\n",
       "        requirejs.config({\n",
       "            paths: {\n",
       "                'plotly': ['https://cdn.plot.ly/plotly-latest.min']\n",
       "            }\n",
       "        });\n",
       "        require(['plotly'], function(Plotly) {\n",
       "            window._Plotly = Plotly;\n",
       "        });\n",
       "        }\n",
       "        </script>\n",
       "        "
      ]
     },
     "metadata": {},
     "output_type": "display_data"
    }
   ],
   "source": [
    "import torch\n",
    "\n",
    "import pytorch_lightning as pl\n",
    "\n",
    "from src.config import get_parser\n",
    "#from src.models.gan import GAN\n",
    "from src.callback.points_image import PointsImage\n",
    "from src.data.masked_datamodule import MaskedDataModule\n",
    "from src.callback.export_mesh import ExportMesh\n",
    "from pytorch3d.loss.chamfer import chamfer_distance"
   ]
  },
  {
   "cell_type": "code",
   "execution_count": 2,
   "metadata": {},
   "outputs": [],
   "source": [
    "import math\n",
    "from collections import OrderedDict\n",
    "\n",
    "import torch\n",
    "import torch.nn as nn\n",
    "import torch.nn.functional as F\n",
    "\n",
    "from src.stylegan2.op import fused_leaky_relu\n",
    "from src.stylegan2.Blocks import ModConvLayer\n",
    "#from src.models.blocks import ConvBlock\n",
    "from src.utilities.util import grid_to_list\n",
    "\n",
    "class ConvBlock(nn.Sequential):\n",
    "    def __init__(self, in_channel, out_ch, ker_size, stride, padding):\n",
    "        super(ConvBlock,self).__init__()\n",
    "        self.add_module('conv',nn.Conv2d(in_channel, out_ch, \n",
    "                                         kernel_size=ker_size,\n",
    "                                         stride=stride,\n",
    "                                         padding=padding)),\n",
    "        self.add_module('norm',nn.BatchNorm2d(out_ch)),\n",
    "        #self.add_module('norm',nn.InstanceNorm2d(out_ch)),\n",
    "        self.add_module('LeakyRelu',nn.LeakyReLU(0.2, inplace=True))\n",
    "        #self.add_module('Nonlinearity',nn.Tanh())\n",
    "        #self.add_module('GELU',nn.GELU())\n",
    "        #self.add_module('Nonlinearity', nn.Hardswish(inplace=True))\n",
    "\n",
    "#     def weights_init(m):\n",
    "#         classname = m.__class__.__name__\n",
    "#         if classname.find('Conv2d') != -1:\n",
    "#             m.weight.data.normal_(0.0, 0.02)\n",
    "#         elif classname.find('Norm') != -1:\n",
    "#             m.weight.data.normal_(1.0, 0.02)\n",
    "#             m.bias.data.fill_(0) \n",
    "\n",
    "\n",
    "    \n",
    "class Generator(nn.Module):\n",
    "    def __init__(self, opt):\n",
    "        super(Generator, self).__init__()                      \n",
    "        in_ch, out_ch, ker_size, stride, padding = (opt.G_in_ch,\n",
    "            opt.G_out_ch, opt.ker_size, opt.stride, opt.padd_size)\n",
    "        self.head =  ConvBlock(in_ch, out_ch, ker_size, stride=stride, padding=padding)\n",
    "        self.b1 = ConvBlock(out_ch, out_ch, ker_size, stride=stride, padding=padding)\n",
    "        self.b2 = ConvBlock(out_ch, out_ch, ker_size, stride=stride, padding=padding)\n",
    "        self.b3 = ConvBlock(out_ch, out_ch, ker_size, stride=stride, padding=padding)        \n",
    "        \n",
    "        \n",
    "        self.s1 = nn.Conv2d(out_ch, 3, ker_size, stride=stride, padding=padding)\n",
    "        self.s2 = nn.Conv2d(out_ch, 3, ker_size, stride=stride, padding=padding)\n",
    "        self.s3 = nn.Conv2d(out_ch, 3, ker_size, stride=stride, padding=padding)\n",
    "        \n",
    "        self.p1 = nn.AvgPool2d(kernel_size=4, stride=4)\n",
    "        self.p2 = nn.AvgPool2d(kernel_size=2, stride=2)\n",
    "        #self.p3 = nn.AvgPool2d(kernel_size=2, stride=2)\n",
    "        \n",
    "    \n",
    "    def upscale(self, x, scale_factor):\n",
    "        return F.interpolate(x, scale_factor=scale_factor, mode='bilinear', align_corners=True)        \n",
    "    \n",
    "    def forward(self, points):                        \n",
    "        x = self.head(points)\n",
    "        \n",
    "        x = self.b1(x)\n",
    "        vrt = self.upscale(self.s1(self.p1(x)), 4) + points\n",
    "        \n",
    "        x = self.b2(x)\n",
    "        vrt = self.upscale(self.s2(self.p2(x)), 2) + vrt\n",
    "        \n",
    "        x = self.b3(x)        \n",
    "        vrt = self.s3(x) + vrt\n",
    "        \n",
    "        #vrt = grid_to_list(vrt)\n",
    "        return vrt"
   ]
  },
  {
   "cell_type": "code",
   "execution_count": 3,
   "metadata": {},
   "outputs": [
    {
     "data": {
      "text/plain": [
       "GAN(\n",
       "  (G): Generator(\n",
       "    (head): ConvBlock(\n",
       "      (conv): Conv2d(3, 256, kernel_size=(3, 3), stride=(1, 1), padding=(1, 1))\n",
       "      (norm): BatchNorm2d(256, eps=1e-05, momentum=0.1, affine=True, track_running_stats=True)\n",
       "      (LeakyRelu): LeakyReLU(negative_slope=0.2, inplace=True)\n",
       "    )\n",
       "    (b1): ConvBlock(\n",
       "      (conv): Conv2d(256, 256, kernel_size=(3, 3), stride=(1, 1), padding=(1, 1))\n",
       "      (norm): BatchNorm2d(256, eps=1e-05, momentum=0.1, affine=True, track_running_stats=True)\n",
       "      (LeakyRelu): LeakyReLU(negative_slope=0.2, inplace=True)\n",
       "    )\n",
       "    (b2): ConvBlock(\n",
       "      (conv): Conv2d(256, 256, kernel_size=(3, 3), stride=(1, 1), padding=(1, 1))\n",
       "      (norm): BatchNorm2d(256, eps=1e-05, momentum=0.1, affine=True, track_running_stats=True)\n",
       "      (LeakyRelu): LeakyReLU(negative_slope=0.2, inplace=True)\n",
       "    )\n",
       "    (b3): ConvBlock(\n",
       "      (conv): Conv2d(256, 256, kernel_size=(3, 3), stride=(1, 1), padding=(1, 1))\n",
       "      (norm): BatchNorm2d(256, eps=1e-05, momentum=0.1, affine=True, track_running_stats=True)\n",
       "      (LeakyRelu): LeakyReLU(negative_slope=0.2, inplace=True)\n",
       "    )\n",
       "    (s1): Conv2d(256, 3, kernel_size=(3, 3), stride=(1, 1), padding=(1, 1))\n",
       "    (s2): Conv2d(256, 3, kernel_size=(3, 3), stride=(1, 1), padding=(1, 1))\n",
       "    (s3): Conv2d(256, 3, kernel_size=(3, 3), stride=(1, 1), padding=(1, 1))\n",
       "    (p1): AvgPool2d(kernel_size=4, stride=4, padding=0)\n",
       "    (p2): AvgPool2d(kernel_size=2, stride=2, padding=0)\n",
       "  )\n",
       ")"
      ]
     },
     "execution_count": 3,
     "metadata": {},
     "output_type": "execute_result"
    }
   ],
   "source": [
    "import time\n",
    "from collections import OrderedDict\n",
    "\n",
    "import torch\n",
    "import torch.nn.functional as F\n",
    "import pytorch_lightning as pl\n",
    "from pytorch3d.structures import Meshes\n",
    "from pytorch3d.loss import ( \n",
    "    mesh_edge_loss, \n",
    "    mesh_laplacian_smoothing, \n",
    "    mesh_normal_consistency,\n",
    ")\n",
    "\n",
    "from src.models.discriminator import Discriminator\n",
    "#from src.models.generator import Generator\n",
    "from src.render.mesh_renderer import MeshPointsRenderer\n",
    "from src.loss.edge_loss import EdgeLoss\n",
    "from src.utilities.util import grid_to_list\n",
    "\n",
    "class GAN(pl.LightningModule):\n",
    "    \n",
    "    def __init__(self, hparams):\n",
    "        super().__init__()\n",
    "        self.hparams = hparams        \n",
    "        \n",
    "        self.G = Generator(hparams)                     \n",
    "        #self.edge_loss = EdgeLoss(hparams)\n",
    "     \n",
    "    def forward(self, points):\n",
    "        return self.G(points)        \n",
    "    \n",
    "    def training_step(self, batch, batch_idx):\n",
    "        points_coarse = batch['points_coarse']#batch['points']             \n",
    "        points_fine = batch['points']                \n",
    "        bs = points_fine.size(0)        \n",
    "        \n",
    "        # train generator        \n",
    "        points_noise = points_coarse + torch.randn_like(points_coarse) * self.hparams.G_noise_amp            \n",
    "        vertices = self.G(points_noise)\n",
    "        #print(vertices.shape)\n",
    "        #vrt_loss = F.mse_loss(vertices, points_noise.reshape_as(vertices))\n",
    "        points_fine = points_fine.reshape_as(vertices)\n",
    "        vrt_loss = F.l1_loss(vertices, points_fine)\n",
    "        #chm_loss, _ = chamfer_distance(vertices, points_fine)\n",
    "        \n",
    "        #vrt_loss = vrt_loss / bs\n",
    "        #cos_sim = torch.cosine_similarity(normals, pt_normals, dim=-1)\n",
    "        #normal_consistency_loss = -(cos_sim.sum() / cos_sim.numel() - 1.)\n",
    "\n",
    "        #edge_loss = self.edge_loss(vertices)            \n",
    "        g_loss = torch.sqrt(vrt_loss) #+ chm_loss#+ edge_loss * self.hparams.mesh_edge_loss_weight\n",
    "        #+ normal_consistency_loss * self.hparams.mesh_normal_consistency_weight\n",
    "        #tqdm_dict = {'g_loss': g_loss}\n",
    "\n",
    "        self.log(\"loss/g_loss\", g_loss)\n",
    "        self.log(\"loss/vrt_loss\", vrt_loss)\n",
    "        #self.log(\"loss/chm_loss\", chm_loss)\n",
    "        #self.log(\"loss/edge_loss\", edge_loss)\n",
    "        #self.log(\"loss/normal_consistency_loss\", normal_consistency_loss, on_epoch=True)\n",
    "        #return OrderedDict({ 'loss': g_loss, })\n",
    "        return g_loss\n",
    "    \n",
    "    def configure_optimizers(self):\n",
    "        lr_g = self.hparams.lr_g        \n",
    "        b1 = self.hparams.beta1\n",
    "        b2 = self.hparams.beta2      \n",
    "#       opt_g = torch.optim.RMSprop(self.G.parameters())\n",
    "        opt_g = torch.optim.AdamW(self.G.parameters(), \n",
    "                                  lr=lr_g#, betas=(b1, b2)\n",
    "                                 )\n",
    "#         opt_g = torch.optim.Adam(self.G.parameters())\n",
    "        return opt_g\n",
    "    \n",
    "config = get_parser().parse_args(args=[])\n",
    "config.batch_size = 4# + 128\n",
    "config.blueprint = 'blueprint_16_512.npz'\n",
    "#config.blueprint = 'vezuvio255.npz'\n",
    "\n",
    "#config.blueprint = 'blueprint_noise_1_512.npz'\n",
    "config.data_blueprint_size = 512\n",
    "config.data_blueprint_coarse =  256 + 128\n",
    "config.data_patch_size = 64\n",
    "config.lr_g = 0.01\n",
    "config.log_mesh_interval = 1\n",
    "\n",
    "# config.ker_size = 5\n",
    "# config.stride = 1\n",
    "# config.padd_size = 2\n",
    "\n",
    "config.G_out_ch = 256 # 256 default\n",
    "model = GAN(config)\n",
    "model\n",
    "\n",
    "#torch.optim.RMSprop()"
   ]
  },
  {
   "cell_type": "code",
   "execution_count": 4,
   "metadata": {},
   "outputs": [
    {
     "name": "stdout",
     "output_type": "stream",
     "text": [
      "torch.Size([16, 3, 512, 512])\n"
     ]
    },
    {
     "data": {
      "text/plain": [
       "<src.data.masked_datamodule.MaskedDataModule at 0x7f06b764d730>"
      ]
     },
     "execution_count": 4,
     "metadata": {},
     "output_type": "execute_result"
    }
   ],
   "source": [
    "#config.batch_size = 128\n",
    "# config.blueprint = 'blueprint_16_512.npz'\n",
    "# config.data_blueprint_size = 64\n",
    "# config.data_blueprint_coarse = \n",
    "config.data_patch_size = 16\n",
    "config.batch_size = 128\n",
    "config.num_workers = 6\n",
    "dm = MaskedDataModule(config)\n",
    "dm.setup()\n",
    "dm"
   ]
  },
  {
   "cell_type": "code",
   "execution_count": 5,
   "metadata": {},
   "outputs": [
    {
     "name": "stderr",
     "output_type": "stream",
     "text": [
      "GPU available: True, used: True\n",
      "TPU available: None, using: 0 TPU cores\n",
      "\n",
      "  | Name | Type      | Params\n",
      "-----------------------------------\n",
      "0 | G    | Generator | 1.8 M \n",
      "-----------------------------------\n",
      "1.8 M     Trainable params\n",
      "0         Non-trainable params\n",
      "1.8 M     Total params\n",
      "7.201     Total estimated model params size (MB)\n"
     ]
    },
    {
     "data": {
      "application/vnd.jupyter.widget-view+json": {
       "model_id": "fafbc3ac6e9c4763b4985afc90c39cca",
       "version_major": 2,
       "version_minor": 0
      },
      "text/plain": [
       "HBox(children=(FloatProgress(value=1.0, bar_style='info', description='Training', layout=Layout(flex='2'), max…"
      ]
     },
     "metadata": {},
     "output_type": "display_data"
    },
    {
     "name": "stdout",
     "output_type": "stream",
     "text": [
      "points.size(-2), points.size(-1) 512 512\n"
     ]
    },
    {
     "name": "stderr",
     "output_type": "stream",
     "text": [
      "/home/bobi/miniconda3/envs/pytorch3d/lib/python3.8/site-packages/pytorch_lightning/utilities/distributed.py:51: UserWarning:\n",
      "\n",
      "Detected KeyboardInterrupt, attempting graceful shutdown...\n",
      "\n"
     ]
    },
    {
     "name": "stdout",
     "output_type": "stream",
     "text": [
      "\n"
     ]
    },
    {
     "data": {
      "text/plain": [
       "1"
      ]
     },
     "execution_count": 5,
     "metadata": {},
     "output_type": "execute_result"
    }
   ],
   "source": [
    "trainer = pl.Trainer(gpus=1, callbacks=[ExportMesh(config)])\n",
    "trainer.fit(model, dm)\n",
    "#trainer.tune(model)"
   ]
  },
  {
   "cell_type": "code",
   "execution_count": null,
   "metadata": {},
   "outputs": [],
   "source": [
    "len(torch.rand(1, 3, 64, 64).shape)"
   ]
  },
  {
   "cell_type": "code",
   "execution_count": null,
   "metadata": {},
   "outputs": [],
   "source": [
    "grid_to_list(torch.rand(1, 3, 64, 64)).shape"
   ]
  },
  {
   "cell_type": "code",
   "execution_count": null,
   "metadata": {},
   "outputs": [],
   "source": [
    " points_coarse = batch['points_coarse']#batch['points']             \n",
    "        points_fine = batch['points']                \n",
    "        bs = points_fine.size(0)        \n",
    "        \n",
    "        # train generator\n",
    "        with torch.autograd.set_detect_anomaly(True):            \n",
    "            points_noise = points_coarse + torch.randn_like(points_coarse) * self.hparams.G_noise_amp\n",
    "            z_size = self.hparams.latent_size\n",
    "            zero_styles = [torch.zeros(bs, z_size, device=points_coarse.device) for _ in range(3)]\n",
    "            vertices = self.G(points_noise, zero_styles)\n",
    "            #print(vertices.shape)\n",
    "            #vrt_loss = F.mse_loss(vertices, points_noise.reshape_as(vertices))\n",
    "            points_fine = points_fine.reshape_as(vertices)\n",
    "            vrt_loss = F.l1_loss(vertices, points_fine)"
   ]
  }
 ],
 "metadata": {
  "kernelspec": {
   "display_name": "pytorch3d_0.3",
   "language": "python",
   "name": "pytorch3d_0.3"
  },
  "language_info": {
   "codemirror_mode": {
    "name": "ipython",
    "version": 3
   },
   "file_extension": ".py",
   "mimetype": "text/x-python",
   "name": "python",
   "nbconvert_exporter": "python",
   "pygments_lexer": "ipython3",
   "version": "3.8.5"
  }
 },
 "nbformat": 4,
 "nbformat_minor": 4
}
