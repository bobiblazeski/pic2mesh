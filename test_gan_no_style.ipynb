{
 "cells": [
  {
   "cell_type": "code",
   "execution_count": 1,
   "metadata": {},
   "outputs": [],
   "source": [
    "import torch\n",
    "\n",
    "import pytorch_lightning as pl\n",
    "\n",
    "from src.config import get_parser\n",
    "from src.models.gan import GAN\n",
    "\n",
    "from src.data.masked_datamodule import MaskedDataModule"
   ]
  },
  {
   "cell_type": "code",
   "execution_count": 2,
   "metadata": {
    "scrolled": true
   },
   "outputs": [
    {
     "data": {
      "text/plain": [
       "GAN(\n",
       "  (G): Generator(\n",
       "    (head): ConvBlock(\n",
       "      (conv): Conv2d(3, 128, kernel_size=(3, 3), stride=(1, 1), padding=(1, 1))\n",
       "      (norm): BatchNorm2d(128, eps=1e-05, momentum=0.1, affine=True, track_running_stats=True)\n",
       "      (LeakyRelu): LeakyReLU(negative_slope=0.2, inplace=True)\n",
       "    )\n",
       "    (body): Sequential(\n",
       "      (b1): ConvBlock(\n",
       "        (conv): Conv2d(128, 128, kernel_size=(3, 3), stride=(1, 1), padding=(1, 1))\n",
       "        (norm): BatchNorm2d(128, eps=1e-05, momentum=0.1, affine=True, track_running_stats=True)\n",
       "        (LeakyRelu): LeakyReLU(negative_slope=0.2, inplace=True)\n",
       "      )\n",
       "      (b2): ConvBlock(\n",
       "        (conv): Conv2d(128, 128, kernel_size=(3, 3), stride=(1, 1), padding=(1, 1))\n",
       "        (norm): BatchNorm2d(128, eps=1e-05, momentum=0.1, affine=True, track_running_stats=True)\n",
       "        (LeakyRelu): LeakyReLU(negative_slope=0.2, inplace=True)\n",
       "      )\n",
       "      (b3): ConvBlock(\n",
       "        (conv): Conv2d(128, 128, kernel_size=(3, 3), stride=(1, 1), padding=(1, 1))\n",
       "        (norm): BatchNorm2d(128, eps=1e-05, momentum=0.1, affine=True, track_running_stats=True)\n",
       "        (LeakyRelu): LeakyReLU(negative_slope=0.2, inplace=True)\n",
       "      )\n",
       "    )\n",
       "    (tail): Sequential(\n",
       "      (0): Conv2d(128, 3, kernel_size=(3, 3), stride=(1, 1), padding=(1, 1))\n",
       "      (1): Tanh()\n",
       "    )\n",
       "  )\n",
       "  (D): Discriminator(\n",
       "    (model): Sequential(\n",
       "      (b0): ConvBlock(\n",
       "        (conv): Conv2d(3, 128, kernel_size=(3, 3), stride=(1, 1), padding=(1, 1))\n",
       "        (norm): BatchNorm2d(128, eps=1e-05, momentum=0.1, affine=True, track_running_stats=True)\n",
       "        (LeakyRelu): LeakyReLU(negative_slope=0.2, inplace=True)\n",
       "      )\n",
       "      (b1): ConvBlock(\n",
       "        (conv): Conv2d(128, 128, kernel_size=(3, 3), stride=(1, 1), padding=(1, 1))\n",
       "        (norm): BatchNorm2d(128, eps=1e-05, momentum=0.1, affine=True, track_running_stats=True)\n",
       "        (LeakyRelu): LeakyReLU(negative_slope=0.2, inplace=True)\n",
       "      )\n",
       "      (b2): ConvBlock(\n",
       "        (conv): Conv2d(128, 128, kernel_size=(3, 3), stride=(1, 1), padding=(1, 1))\n",
       "        (norm): BatchNorm2d(128, eps=1e-05, momentum=0.1, affine=True, track_running_stats=True)\n",
       "        (LeakyRelu): LeakyReLU(negative_slope=0.2, inplace=True)\n",
       "      )\n",
       "      (b3): ConvBlock(\n",
       "        (conv): Conv2d(128, 128, kernel_size=(3, 3), stride=(1, 1), padding=(1, 1))\n",
       "        (norm): BatchNorm2d(128, eps=1e-05, momentum=0.1, affine=True, track_running_stats=True)\n",
       "        (LeakyRelu): LeakyReLU(negative_slope=0.2, inplace=True)\n",
       "      )\n",
       "      (avgpool): AdaptiveAvgPool2d(output_size=(1, 1))\n",
       "      (flatten): Flatten(start_dim=1, end_dim=-1)\n",
       "      (linear): Linear(in_features=128, out_features=1, bias=True)\n",
       "      (sigmoid): Sigmoid()\n",
       "    )\n",
       "  )\n",
       "  (R): Renderer()\n",
       ")"
      ]
     },
     "execution_count": 2,
     "metadata": {},
     "output_type": "execute_result"
    }
   ],
   "source": [
    "from collections import OrderedDict\n",
    "\n",
    "import torch\n",
    "import torch.nn.functional as F\n",
    "import pytorch_lightning as pl\n",
    "\n",
    "from src.models.discriminator import Discriminator\n",
    "from src.models.generator import Generator\n",
    "from src.models.stylist import Stylist\n",
    "from src.renderer import Renderer\n",
    "\n",
    "class GAN(pl.LightningModule):\n",
    "    \n",
    "    def __init__(self, hparams):\n",
    "        super().__init__()\n",
    "        self.hparams = hparams\n",
    "        self.automatic_optimization = False\n",
    "        self.mean = sum(hparams.image_mean) / len(hparams.image_mean)\n",
    "        self.std = sum(hparams.image_std) / len(hparams.image_std)\n",
    "        \n",
    "        self.G = Generator(hparams)\n",
    "        self.D = Discriminator(hparams)        \n",
    "        # Renderer requires device, created in .to() step\n",
    "        self.R = Renderer(hparams)\n",
    "        \n",
    "     \n",
    "    def forward(self, shape, style):\n",
    "        return self.G(shape, style)\n",
    "    \n",
    "    def adversarial_loss(self, y_hat, y):\n",
    "        return F.mse_loss(y_hat, y)\n",
    "    \n",
    "    def training_step(self, batch, batch_idx, optimizer_idx):        \n",
    "        img_patch = batch['img_patch']\n",
    "        points =  batch['points']\n",
    "        normals = batch['normals']            \n",
    "        bs = img_patch.size(0)\n",
    "        \n",
    "        self.R.setup(points.device)\n",
    "        \n",
    "        # train generator\n",
    "        if optimizer_idx == 0:            \n",
    "            vertices = self.G(points)\n",
    "            print(points.shape, vertices.shape)\n",
    "            renders =  self.R(vertices).permute(0, 3, 1, 2)             \n",
    "            renders = (renders - self.mean) / self.std\n",
    "\n",
    "            # ground truth result (ie: all fake)\n",
    "            # put on GPU because we created this tensor inside training_loop\n",
    "            valid = torch.ones(bs, 1).type_as(points)            \n",
    "           \n",
    "            g_loss = self.adversarial_loss(self.D(renders), valid)\n",
    "            tqdm_dict = {'g_loss': g_loss}\n",
    "            output = OrderedDict({\n",
    "                'loss': g_loss,\n",
    "                'progress_bar': tqdm_dict,\n",
    "                'log': tqdm_dict\n",
    "            })\n",
    "            return output\n",
    "\n",
    "        # train discriminator\n",
    "        if optimizer_idx == 1:\n",
    "            # Measure discriminator's ability to classify real from generated samples\n",
    "\n",
    "            # how well can it label as real?\n",
    "            valid = torch.ones(bs, 1).type_as(points)         \n",
    "\n",
    "            real_loss = self.adversarial_loss(self.D(imgs), valid)\n",
    "\n",
    "            # how well can it label as fake?\n",
    "            fake = torch.zeros(imgs.size(0), 1).type_as(points)            \n",
    "                        \n",
    "            vertices = self.G(points)            \n",
    "            renders =  self.R(vertices).permute(0, 3, 1, 2)           \n",
    "            renders = (renders - self.mean) / self.std\n",
    "\n",
    "            fake_loss = self.adversarial_loss(\n",
    "                self.D(renders.detach()), fake)\n",
    "\n",
    "            # discriminator loss is the average of these\n",
    "            d_loss = (real_loss + fake_loss) / 2\n",
    "            tqdm_dict = {'d_loss': d_loss}\n",
    "            output = OrderedDict({\n",
    "                'loss': d_loss,\n",
    "                'progress_bar': tqdm_dict,\n",
    "                'log': tqdm_dict\n",
    "            })\n",
    "            return output\n",
    "\n",
    "    \n",
    "    def configure_optimizers(self):\n",
    "        lr_g = self.hparams.lr_g\n",
    "        lr_d = self.hparams.lr_d\n",
    "        b1 = self.hparams.beta1\n",
    "        b2 = self.hparams.beta2      \n",
    "        opt_g = torch.optim.Adam(self.G.parameters(), \n",
    "                                 lr=lr_g, betas=(b1, b2))\n",
    "        opt_d = torch.optim.Adam(self.D.parameters(), \n",
    "                                 lr=lr_d, betas=(b1, b2))\n",
    "        return [opt_g, opt_d], []\n",
    "    \n",
    "config = get_parser().parse_args(args=[])\n",
    "config.batch_size = 4\n",
    "model = GAN(config)\n",
    "model"
   ]
  },
  {
   "cell_type": "code",
   "execution_count": 3,
   "metadata": {},
   "outputs": [
    {
     "data": {
      "text/plain": [
       "<src.data.masked_datamodule.MaskedDataModule at 0x7f7c72f28a60>"
      ]
     },
     "execution_count": 3,
     "metadata": {},
     "output_type": "execute_result"
    }
   ],
   "source": [
    "dm = MaskedDataModule(config)\n",
    "dm.setup()\n",
    "dm"
   ]
  },
  {
   "cell_type": "code",
   "execution_count": 5,
   "metadata": {},
   "outputs": [
    {
     "name": "stderr",
     "output_type": "stream",
     "text": [
      "GPU available: True, used: True\n",
      "TPU available: None, using: 0 TPU cores\n",
      "\n",
      "  | Name | Type          | Params\n",
      "---------------------------------------\n",
      "0 | G    | Generator     | 450 K \n",
      "1 | D    | Discriminator | 447 K \n",
      "2 | R    | Renderer      | 0     \n",
      "---------------------------------------\n",
      "898 K     Trainable params\n",
      "0         Non-trainable params\n",
      "898 K     Total params\n",
      "3.593     Total estimated model params size (MB)\n"
     ]
    },
    {
     "data": {
      "application/vnd.jupyter.widget-view+json": {
       "model_id": "937498cb8b3941febfbe530526409422",
       "version_major": 2,
       "version_minor": 0
      },
      "text/plain": [
       "HBox(children=(FloatProgress(value=1.0, bar_style='info', description='Training', layout=Layout(flex='2'), max…"
      ]
     },
     "metadata": {},
     "output_type": "display_data"
    },
    {
     "name": "stdout",
     "output_type": "stream",
     "text": [
      "torch.Size([4, 3, 256, 256]) torch.Size([4, 3, 256, 256])\n"
     ]
    },
    {
     "name": "stderr",
     "output_type": "stream",
     "text": [
      "/home/bobi/miniconda3/envs/pytorch3d/lib/python3.8/site-packages/pytorch_lightning/utilities/distributed.py:51: UserWarning: The {progress_bar:dict keyword} was deprecated in 0.9.1 and will be removed in 1.0.0\n",
      "Please use self.log(...) inside the lightningModule instead.\n",
      "# log on a step or aggregate epoch metric to the logger and/or progress bar (inside LightningModule)\n",
      "self.log('train_loss', loss, on_step=True, on_epoch=True, prog_bar=True)\n",
      "  warnings.warn(*args, **kwargs)\n",
      "/home/bobi/miniconda3/envs/pytorch3d/lib/python3.8/site-packages/pytorch_lightning/utilities/distributed.py:51: UserWarning: The {log:dict keyword} was deprecated in 0.9.1 and will be removed in 1.0.0\n",
      "Please use self.log(...) inside the lightningModule instead.\n",
      "# log on a step or aggregate epoch metric to the logger and/or progress bar (inside LightningModule)\n",
      "self.log('train_loss', loss, on_step=True, on_epoch=True, prog_bar=True)\n",
      "  warnings.warn(*args, **kwargs)\n"
     ]
    },
    {
     "name": "stdout",
     "output_type": "stream",
     "text": [
      "torch.Size([4, 3, 256, 256]) torch.Size([4, 3, 256, 256])\n",
      "torch.Size([4, 3, 256, 256]) torch.Size([4, 3, 256, 256])\n",
      "torch.Size([4, 3, 256, 256]) torch.Size([4, 3, 256, 256])\n",
      "torch.Size([4, 3, 256, 256]) torch.Size([4, 3, 256, 256])\n",
      "torch.Size([4, 3, 256, 256]) torch.Size([4, 3, 256, 256])\n",
      "torch.Size([4, 3, 256, 256]) torch.Size([4, 3, 256, 256])\n",
      "torch.Size([4, 3, 256, 256]) torch.Size([4, 3, 256, 256])\n",
      "torch.Size([4, 3, 256, 256]) torch.Size([4, 3, 256, 256])\n",
      "torch.Size([4, 3, 256, 256]) torch.Size([4, 3, 256, 256])\n",
      "torch.Size([4, 3, 256, 256]) torch.Size([4, 3, 256, 256])\n",
      "torch.Size([4, 3, 256, 256]) torch.Size([4, 3, 256, 256])\n",
      "torch.Size([4, 3, 256, 256]) torch.Size([4, 3, 256, 256])\n",
      "torch.Size([4, 3, 256, 256]) torch.Size([4, 3, 256, 256])\n",
      "torch.Size([4, 3, 256, 256]) torch.Size([4, 3, 256, 256])\n",
      "torch.Size([4, 3, 256, 256]) torch.Size([4, 3, 256, 256])\n",
      "torch.Size([4, 3, 256, 256]) torch.Size([4, 3, 256, 256])\n",
      "torch.Size([4, 3, 256, 256]) torch.Size([4, 3, 256, 256])\n",
      "torch.Size([4, 3, 256, 256]) torch.Size([4, 3, 256, 256])\n",
      "torch.Size([4, 3, 256, 256]) torch.Size([4, 3, 256, 256])\n",
      "torch.Size([4, 3, 256, 256]) torch.Size([4, 3, 256, 256])\n",
      "torch.Size([4, 3, 256, 256]) torch.Size([4, 3, 256, 256])\n",
      "torch.Size([4, 3, 256, 256]) torch.Size([4, 3, 256, 256])\n",
      "torch.Size([4, 3, 256, 256]) torch.Size([4, 3, 256, 256])\n",
      "torch.Size([4, 3, 256, 256]) torch.Size([4, 3, 256, 256])\n",
      "torch.Size([4, 3, 256, 256]) torch.Size([4, 3, 256, 256])\n",
      "torch.Size([4, 3, 256, 256]) torch.Size([4, 3, 256, 256])\n",
      "torch.Size([4, 3, 256, 256]) torch.Size([4, 3, 256, 256])\n",
      "torch.Size([4, 3, 256, 256]) torch.Size([4, 3, 256, 256])\n",
      "torch.Size([4, 3, 256, 256]) torch.Size([4, 3, 256, 256])\n",
      "torch.Size([4, 3, 256, 256]) torch.Size([4, 3, 256, 256])\n",
      "torch.Size([4, 3, 256, 256]) torch.Size([4, 3, 256, 256])\n",
      "torch.Size([4, 3, 256, 256]) torch.Size([4, 3, 256, 256])\n",
      "torch.Size([4, 3, 256, 256]) torch.Size([4, 3, 256, 256])\n",
      "torch.Size([4, 3, 256, 256]) torch.Size([4, 3, 256, 256])\n",
      "torch.Size([4, 3, 256, 256]) torch.Size([4, 3, 256, 256])\n",
      "\n"
     ]
    },
    {
     "name": "stderr",
     "output_type": "stream",
     "text": [
      "/home/bobi/miniconda3/envs/pytorch3d/lib/python3.8/site-packages/pytorch_lightning/utilities/distributed.py:51: UserWarning: Detected KeyboardInterrupt, attempting graceful shutdown...\n",
      "  warnings.warn(*args, **kwargs)\n",
      "Traceback (most recent call last):\n",
      "  File \"/home/bobi/miniconda3/envs/pytorch3d/lib/python3.8/multiprocessing/queues.py\", line 245, in _feed\n",
      "    send_bytes(obj)\n",
      "  File \"/home/bobi/miniconda3/envs/pytorch3d/lib/python3.8/multiprocessing/connection.py\", line 200, in send_bytes\n",
      "    self._send_bytes(m[offset:offset + size])\n",
      "  File \"/home/bobi/miniconda3/envs/pytorch3d/lib/python3.8/multiprocessing/connection.py\", line 411, in _send_bytes\n",
      "    self._send(header + buf)\n",
      "  File \"/home/bobi/miniconda3/envs/pytorch3d/lib/python3.8/multiprocessing/connection.py\", line 368, in _send\n",
      "    n = write(self._handle, buf)\n",
      "BrokenPipeError: [Errno 32] Broken pipe\n"
     ]
    },
    {
     "data": {
      "text/plain": [
       "1"
      ]
     },
     "execution_count": 5,
     "metadata": {},
     "output_type": "execute_result"
    }
   ],
   "source": [
    "trainer = pl.Trainer(gpus=1, max_epochs=5, progress_bar_refresh_rate=20)\n",
    "trainer.fit(model, dm)"
   ]
  },
  {
   "cell_type": "code",
   "execution_count": 4,
   "metadata": {},
   "outputs": [
    {
     "name": "stdout",
     "output_type": "stream",
     "text": [
      "style_img torch.Size([4, 1, 192, 192])\n",
      "img_patch torch.Size([4, 1, 256, 256])\n",
      "points torch.Size([4, 3, 512, 512])\n",
      "normals torch.Size([4, 3, 512, 512])\n"
     ]
    }
   ],
   "source": [
    "batch = next(iter(dm.train_dataloader()))\n",
    "for key in batch.keys():\n",
    "    print(key, batch[key].shape)"
   ]
  },
  {
   "cell_type": "code",
   "execution_count": 6,
   "metadata": {},
   "outputs": [
    {
     "name": "stdout",
     "output_type": "stream",
     "text": [
      "------------------------------------------------------------------------------------------\n",
      "Layer (type:depth-idx)                   Output Shape              Param #\n",
      "==========================================================================================\n",
      "├─Sequential: 1-1                        [-1, 512, 6, 6]           --\n",
      "|    └─Conv2d: 2-1                       [-1, 64, 192, 192]        640\n",
      "|    └─BatchNorm2d: 2-2                  [-1, 64, 192, 192]        128\n",
      "|    └─ReLU: 2-3                         [-1, 64, 192, 192]        --\n",
      "|    └─MaxPool2d: 2-4                    [-1, 64, 96, 96]          --\n",
      "|    └─Conv2d: 2-5                       [-1, 128, 96, 96]         73,856\n",
      "|    └─BatchNorm2d: 2-6                  [-1, 128, 96, 96]         256\n",
      "|    └─ReLU: 2-7                         [-1, 128, 96, 96]         --\n",
      "|    └─MaxPool2d: 2-8                    [-1, 128, 48, 48]         --\n",
      "|    └─Conv2d: 2-9                       [-1, 256, 48, 48]         295,168\n",
      "|    └─BatchNorm2d: 2-10                 [-1, 256, 48, 48]         512\n",
      "|    └─ReLU: 2-11                        [-1, 256, 48, 48]         --\n",
      "|    └─Conv2d: 2-12                      [-1, 256, 48, 48]         590,080\n",
      "|    └─BatchNorm2d: 2-13                 [-1, 256, 48, 48]         512\n",
      "|    └─ReLU: 2-14                        [-1, 256, 48, 48]         --\n",
      "|    └─MaxPool2d: 2-15                   [-1, 256, 24, 24]         --\n",
      "|    └─Conv2d: 2-16                      [-1, 512, 24, 24]         1,180,160\n",
      "|    └─BatchNorm2d: 2-17                 [-1, 512, 24, 24]         1,024\n",
      "|    └─ReLU: 2-18                        [-1, 512, 24, 24]         --\n",
      "|    └─Conv2d: 2-19                      [-1, 512, 24, 24]         2,359,808\n",
      "|    └─BatchNorm2d: 2-20                 [-1, 512, 24, 24]         1,024\n",
      "|    └─ReLU: 2-21                        [-1, 512, 24, 24]         --\n",
      "|    └─MaxPool2d: 2-22                   [-1, 512, 12, 12]         --\n",
      "|    └─Conv2d: 2-23                      [-1, 512, 12, 12]         2,359,808\n",
      "|    └─BatchNorm2d: 2-24                 [-1, 512, 12, 12]         1,024\n",
      "|    └─ReLU: 2-25                        [-1, 512, 12, 12]         --\n",
      "|    └─Conv2d: 2-26                      [-1, 512, 12, 12]         2,359,808\n",
      "|    └─BatchNorm2d: 2-27                 [-1, 512, 12, 12]         1,024\n",
      "|    └─ReLU: 2-28                        [-1, 512, 12, 12]         --\n",
      "|    └─MaxPool2d: 2-29                   [-1, 512, 6, 6]           --\n",
      "├─Linear: 1-2                            [-1, 128]                 65,664\n",
      "==========================================================================================\n",
      "Total params: 9,290,496\n",
      "Trainable params: 9,290,496\n",
      "Non-trainable params: 0\n",
      "Total mult-adds (G): 5.47\n",
      "------------------------------------------------------------------------------------------\n",
      "Input size (MB): 0.14\n",
      "Forward/backward pass size (MB): 83.25\n",
      "Params size (MB): 35.44\n",
      "Estimated Total Size (MB): 118.83\n",
      "------------------------------------------------------------------------------------------\n"
     ]
    }
   ],
   "source": [
    "from torchsummary import summary\n",
    "\n",
    "summary(model.S, (1, 192, 192));"
   ]
  },
  {
   "cell_type": "code",
   "execution_count": 3,
   "metadata": {},
   "outputs": [
    {
     "name": "stdout",
     "output_type": "stream",
     "text": [
      "------------------------------------------------------------------------------------------\n",
      "Layer (type:depth-idx)                   Output Shape              Param #\n",
      "==========================================================================================\n",
      "├─Sequential: 1-1                        [-1, 512, 12, 12]         --\n",
      "|    └─Conv2d: 2-1                       [-1, 64, 192, 192]        640\n",
      "|    └─BatchNorm2d: 2-2                  [-1, 64, 192, 192]        128\n",
      "|    └─ReLU: 2-3                         [-1, 64, 192, 192]        --\n",
      "|    └─MaxPool2d: 2-4                    [-1, 64, 96, 96]          --\n",
      "|    └─Conv2d: 2-5                       [-1, 128, 96, 96]         73,856\n",
      "|    └─BatchNorm2d: 2-6                  [-1, 128, 96, 96]         256\n",
      "|    └─ReLU: 2-7                         [-1, 128, 96, 96]         --\n",
      "|    └─MaxPool2d: 2-8                    [-1, 128, 48, 48]         --\n",
      "|    └─Conv2d: 2-9                       [-1, 256, 48, 48]         295,168\n",
      "|    └─BatchNorm2d: 2-10                 [-1, 256, 48, 48]         512\n",
      "|    └─ReLU: 2-11                        [-1, 256, 48, 48]         --\n",
      "|    └─Conv2d: 2-12                      [-1, 256, 48, 48]         590,080\n",
      "|    └─BatchNorm2d: 2-13                 [-1, 256, 48, 48]         512\n",
      "|    └─ReLU: 2-14                        [-1, 256, 48, 48]         --\n",
      "|    └─MaxPool2d: 2-15                   [-1, 256, 24, 24]         --\n",
      "|    └─Conv2d: 2-16                      [-1, 512, 24, 24]         1,180,160\n",
      "|    └─BatchNorm2d: 2-17                 [-1, 512, 24, 24]         1,024\n",
      "|    └─ReLU: 2-18                        [-1, 512, 24, 24]         --\n",
      "|    └─Conv2d: 2-19                      [-1, 512, 24, 24]         2,359,808\n",
      "|    └─BatchNorm2d: 2-20                 [-1, 512, 24, 24]         1,024\n",
      "|    └─ReLU: 2-21                        [-1, 512, 24, 24]         --\n",
      "|    └─MaxPool2d: 2-22                   [-1, 512, 12, 12]         --\n",
      "├─Linear: 1-2                            [-1, 128]                 65,664\n",
      "==========================================================================================\n",
      "Total params: 4,568,832\n",
      "Trainable params: 4,568,832\n",
      "Non-trainable params: 0\n",
      "Total mult-adds (G): 4.78\n",
      "------------------------------------------------------------------------------------------\n",
      "Input size (MB): 0.14\n",
      "Forward/backward pass size (MB): 81.00\n",
      "Params size (MB): 17.43\n",
      "Estimated Total Size (MB): 98.57\n",
      "------------------------------------------------------------------------------------------\n"
     ]
    }
   ],
   "source": [
    "from torchsummary import summary\n",
    "\n",
    "summary(model.S, (1, 192, 192));"
   ]
  },
  {
   "cell_type": "code",
   "execution_count": 8,
   "metadata": {},
   "outputs": [
    {
     "name": "stdout",
     "output_type": "stream",
     "text": [
      "------------------------------------------------------------------------------------------\n",
      "Layer (type:depth-idx)                   Output Shape              Param #\n",
      "==========================================================================================\n",
      "├─ModConvLayer: 1-1                      [-1, 128, 512, 512]       --\n",
      "|    └─EqualizedModConv2d: 2-1           [-1, 128, 512, 512]       --\n",
      "|    |    └─EqualizedLinear: 3-1         [-1, 6]                   774\n",
      "├─Sequential: 1-2                        [-1, 128, 512, 512]       --\n",
      "|    └─ConvBlock: 2-2                    [-1, 128, 512, 512]       --\n",
      "|    |    └─Conv2d: 3-2                  [-1, 128, 512, 512]       147,584\n",
      "|    |    └─BatchNorm2d: 3-3             [-1, 128, 512, 512]       256\n",
      "|    |    └─LeakyReLU: 3-4               [-1, 128, 512, 512]       --\n",
      "|    └─ConvBlock: 2-3                    [-1, 128, 512, 512]       --\n",
      "|    |    └─Conv2d: 3-5                  [-1, 128, 512, 512]       147,584\n",
      "|    |    └─BatchNorm2d: 3-6             [-1, 128, 512, 512]       256\n",
      "|    |    └─LeakyReLU: 3-7               [-1, 128, 512, 512]       --\n",
      "|    └─ConvBlock: 2-4                    [-1, 128, 512, 512]       --\n",
      "|    |    └─Conv2d: 3-8                  [-1, 128, 512, 512]       147,584\n",
      "|    |    └─BatchNorm2d: 3-9             [-1, 128, 512, 512]       256\n",
      "|    |    └─LeakyReLU: 3-10              [-1, 128, 512, 512]       --\n",
      "├─Sequential: 1-3                        [-1, 128, 512, 512]       --\n",
      "|    └─Conv2d: 2-5                       [-1, 128, 512, 512]       147,584\n",
      "|    └─Tanh: 2-6                         [-1, 128, 512, 512]       --\n",
      "==========================================================================================\n",
      "Total params: 591,878\n",
      "Trainable params: 591,878\n",
      "Non-trainable params: 0\n",
      "Total mult-adds (G): 156.43\n",
      "------------------------------------------------------------------------------------------\n",
      "Input size (MB): 6.00\n",
      "Forward/backward pass size (MB): 1792.00\n",
      "Params size (MB): 2.26\n",
      "Estimated Total Size (MB): 1800.26\n",
      "------------------------------------------------------------------------------------------\n"
     ]
    }
   ],
   "source": [
    "summary(model.G, [(3, 512, 512), (3, 512, 512), (config.dlatent_size,)]);"
   ]
  },
  {
   "cell_type": "code",
   "execution_count": 9,
   "metadata": {},
   "outputs": [
    {
     "name": "stdout",
     "output_type": "stream",
     "text": [
      "------------------------------------------------------------------------------------------\n",
      "Layer (type:depth-idx)                   Output Shape              Param #\n",
      "==========================================================================================\n",
      "├─Sequential: 1-1                        [-1, 128]                 --\n",
      "|    └─ConvBlock: 2-1                    [-1, 128, 512, 512]       --\n",
      "|    |    └─Conv2d: 3-1                  [-1, 128, 512, 512]       3,584\n",
      "|    |    └─BatchNorm2d: 3-2             [-1, 128, 512, 512]       256\n",
      "|    |    └─LeakyReLU: 3-3               [-1, 128, 512, 512]       --\n",
      "|    └─ConvBlock: 2-2                    [-1, 128, 512, 512]       --\n",
      "|    |    └─Conv2d: 3-4                  [-1, 128, 512, 512]       147,584\n",
      "|    |    └─BatchNorm2d: 3-5             [-1, 128, 512, 512]       256\n",
      "|    |    └─LeakyReLU: 3-6               [-1, 128, 512, 512]       --\n",
      "|    └─ConvBlock: 2-3                    [-1, 128, 512, 512]       --\n",
      "|    |    └─Conv2d: 3-7                  [-1, 128, 512, 512]       147,584\n",
      "|    |    └─BatchNorm2d: 3-8             [-1, 128, 512, 512]       256\n",
      "|    |    └─LeakyReLU: 3-9               [-1, 128, 512, 512]       --\n",
      "|    └─ConvBlock: 2-4                    [-1, 128, 512, 512]       --\n",
      "|    |    └─Conv2d: 3-10                 [-1, 128, 512, 512]       147,584\n",
      "|    |    └─BatchNorm2d: 3-11            [-1, 128, 512, 512]       256\n",
      "|    |    └─LeakyReLU: 3-12              [-1, 128, 512, 512]       --\n",
      "|    └─AdaptiveAvgPool2d: 2-5            [-1, 128, 1, 1]           --\n",
      "|    └─Flatten: 2-6                      [-1, 128]                 --\n",
      "├─Linear: 1-2                            [-1, 32]                  4,128\n",
      "├─Linear: 1-3                            [-1, 64]                  8,192\n",
      "==========================================================================================\n",
      "Total params: 459,680\n",
      "Trainable params: 459,680\n",
      "Non-trainable params: 0\n",
      "Total mult-adds (G): 116.87\n",
      "------------------------------------------------------------------------------------------\n",
      "Input size (MB): 3.00\n",
      "Forward/backward pass size (MB): 2048.00\n",
      "Params size (MB): 1.75\n",
      "Estimated Total Size (MB): 2052.75\n",
      "------------------------------------------------------------------------------------------\n"
     ]
    }
   ],
   "source": [
    "rsz = config.raster_image_size\n",
    "summary(model.D, (3, rsz, rsz));"
   ]
  },
  {
   "cell_type": "code",
   "execution_count": null,
   "metadata": {},
   "outputs": [],
   "source": []
  }
 ],
 "metadata": {
  "kernelspec": {
   "display_name": "pytorch3d_0.3",
   "language": "python",
   "name": "pytorch3d_0.3"
  },
  "language_info": {
   "codemirror_mode": {
    "name": "ipython",
    "version": 3
   },
   "file_extension": ".py",
   "mimetype": "text/x-python",
   "name": "python",
   "nbconvert_exporter": "python",
   "pygments_lexer": "ipython3",
   "version": "3.8.5"
  }
 },
 "nbformat": 4,
 "nbformat_minor": 4
}
