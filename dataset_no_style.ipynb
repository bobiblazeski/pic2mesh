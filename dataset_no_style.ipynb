{
 "cells": [
  {
   "cell_type": "code",
   "execution_count": 1,
   "metadata": {},
   "outputs": [
    {
     "data": {
      "text/plain": [
       "<__main__.MaskedDataset at 0x7f13103d02e0>"
      ]
     },
     "execution_count": 1,
     "metadata": {},
     "output_type": "execute_result"
    }
   ],
   "source": [
    "import os\n",
    "import numpy as np\n",
    "import torch\n",
    "import torch.nn.functional as F\n",
    "import torchvision.transforms as transforms\n",
    "\n",
    "from random import randint\n",
    "from PIL import Image\n",
    "\n",
    "class MaskedDataset(torch.utils.data.Dataset):\n",
    "    def __init__(self, config):\n",
    "        self.patch_size = config.data_patch_size\n",
    "        self.raster_patch_size = config.raster_patch_size\n",
    "        self.img_dir = config.data_image_dir\n",
    "        self.mask_dir = config.data_mask_dir        \n",
    "        images =  set([x.replace('.png', '') for x \n",
    "                       in os.listdir(self.img_dir) if x.endswith('.png')])        \n",
    "        \n",
    "        masks = set([x.replace('.pt', '') for x \n",
    "                     in os.listdir(self.mask_dir ) if x.endswith('.pt')])        \n",
    "\n",
    "        self.entries = list(images & masks)        \n",
    "        if len(self.entries) < len(images):\n",
    "            print('Missing masks', images - masks)\n",
    "            \n",
    "        self.transform = {    \n",
    "            \"image_normed\": transforms.Compose([\n",
    "                transforms.ToTensor(),\n",
    "                #transforms.Resize(config.data_image_size),\n",
    "                transforms.Normalize(config.image_mean, config.image_std),\n",
    "                transforms.Grayscale(),\n",
    "            ]),\n",
    "            \"mask\": transforms.Lambda(lambda x: \n",
    "                torch.nn.functional.interpolate(x.float(),\n",
    "                    size=config.data_image_size, mode='nearest').squeeze(0)),            \n",
    "            \"img_patch\": transforms.Compose([\n",
    "                transforms.Resize(config.data_image_resized),\n",
    "                transforms.RandomCrop(config.data_patch_size),\n",
    "            ]),            \n",
    "        }        \n",
    "        blueprint = np.load(os.path.join(config.data_dir, config.blueprint))        \n",
    "        points = torch.tensor(blueprint['points'])\n",
    "        normals = torch.tensor(blueprint['normals'])\n",
    "        assert len(points.shape) == 4 and len(normals.shape) == 4\n",
    "        points = F.interpolate(points, size=config.data_blueprint_size,\n",
    "                               mode='bicubic', align_corners=True)\n",
    "        normals = F.interpolate(normals, size=config.data_blueprint_size, \n",
    "                                mode='bicubic', align_corners=True)        \n",
    "        normals = F.normalize(normals)        \n",
    "        self.points = points[0]\n",
    "        self.normals = normals[0]        \n",
    "        self.wmax = self.points.size(-1)\n",
    "        self.hmax = self.points.size(-2)\n",
    "        \n",
    "    def __len__(self):\n",
    "        return len(self.entries)\n",
    "    \n",
    "    def __getitem__(self, idx):\n",
    "        entry_path = self.entries[idx]\n",
    "        img = Image.open(os.path.join(self.img_dir, entry_path + '.png'))\n",
    "        mask =  torch.load(os.path.join(self.mask_dir, entry_path + '.pt'))\n",
    "\n",
    "        img_normed  = self.transform['image_normed'](img)\n",
    "        mask_resized = self.transform['mask'](mask)\n",
    "        res_masked =  img_normed * mask_resized        \n",
    "        img_patch = self.transform['img_patch'](res_masked)\n",
    "                \n",
    "        w = randint(0, self.wmax - self.patch_size)\n",
    "        h = randint(0, self.hmax - self.patch_size)          \n",
    "        points = self.points[:, w:w + self.patch_size, h:h + self.patch_size]\n",
    "        normals = self.normals[:, w:w + self.patch_size, h:h + self.patch_size]\n",
    "        \n",
    "        return {            \n",
    "            'img_patch': img_patch,\n",
    "            'points': points,\n",
    "            'normals': normals,\n",
    "        }\n",
    "    \n",
    "    \n",
    "from src.config import get_parser\n",
    "\n",
    "config = get_parser().parse_args(args=[])\n",
    "ds = MaskedDataset(config)\n",
    "ds"
   ]
  },
  {
   "cell_type": "code",
   "execution_count": 2,
   "metadata": {},
   "outputs": [
    {
     "data": {
      "text/plain": [
       "torch.Size([3, 640, 640])"
      ]
     },
     "execution_count": 2,
     "metadata": {},
     "output_type": "execute_result"
    }
   ],
   "source": [
    "ds.points.shape"
   ]
  },
  {
   "cell_type": "code",
   "execution_count": 3,
   "metadata": {},
   "outputs": [
    {
     "name": "stdout",
     "output_type": "stream",
     "text": [
      "img_patch torch.Size([1, 256, 256])\n",
      "points torch.Size([3, 256, 256])\n",
      "normals torch.Size([3, 256, 256])\n"
     ]
    }
   ],
   "source": [
    "batch = ds[0]\n",
    "for key in batch:\n",
    "    print(key, batch[key].shape)"
   ]
  },
  {
   "cell_type": "code",
   "execution_count": null,
   "metadata": {},
   "outputs": [],
   "source": []
  }
 ],
 "metadata": {
  "kernelspec": {
   "display_name": "pytorch3d_0.3",
   "language": "python",
   "name": "pytorch3d_0.3"
  },
  "language_info": {
   "codemirror_mode": {
    "name": "ipython",
    "version": 3
   },
   "file_extension": ".py",
   "mimetype": "text/x-python",
   "name": "python",
   "nbconvert_exporter": "python",
   "pygments_lexer": "ipython3",
   "version": "3.8.5"
  }
 },
 "nbformat": 4,
 "nbformat_minor": 4
}
