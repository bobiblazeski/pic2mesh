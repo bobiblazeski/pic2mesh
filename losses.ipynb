{
 "cells": [
  {
   "cell_type": "code",
   "execution_count": 2,
   "metadata": {},
   "outputs": [],
   "source": [
    "import torch\n",
    "import torch.nn as nn\n",
    "import torch.nn.functional as F\n",
    "from pytorch3d.loss import (\n",
    "    chamfer_distance, \n",
    "    mesh_edge_loss, \n",
    "    mesh_laplacian_smoothing, \n",
    "    mesh_normal_consistency,\n",
    ")"
   ]
  },
  {
   "cell_type": "code",
   "execution_count": null,
   "metadata": {},
   "outputs": [],
   "source": [
    "# Losses\n",
    "## Vertices\n",
    "### Lattice\n",
    "### Compares points aligned on a lattice\n",
    "def lattice_loss(current, target):\n",
    "    return F.mse_loss(current, target)\n",
    "### Chamfer\n",
    "### Unaligned distance between points\n",
    "def chamfer_loss(current, target):\n",
    "    return chamfer_distance(current, target)\n",
    "### Vertex adversarial loss\n",
    "### Do generated lattice represent face\n",
    "def vertex_adversarial(current):\n",
    "    return net(current)\n",
    "\n",
    "### Symmetry\n",
    "### Compares left side vs right side\n",
    "def symmetry_loss(current):\n",
    "    return F.l1_loss(current, current*torch.tensor([[1., -1., 1.]])\n",
    "\n",
    "## Render\n",
    "### Adversarial loss\n",
    "### Is rendered image real\n",
    "def render_adversarial(render):\n",
    "    return net(render)\n",
    "### Feature loss\n",
    "### Are features of the  renders real\n",
    "def feature_loss(render):\n",
    "    return net(render)\n",
    "\n",
    "### Reconstruction loss\n",
    "### Compare lattice render and grid render\n",
    "def reconstruction_loss(grid_render, lattice_render):\n",
    "    return F.mse_loss(grid_render, lattice_render)"
   ]
  },
  {
   "cell_type": "code",
   "execution_count": 12,
   "metadata": {},
   "outputs": [
    {
     "name": "stdout",
     "output_type": "stream",
     "text": [
      "3 8 64\n",
      "4 16 256\n",
      "5 32 1024\n",
      "6 64 4096\n",
      "7 128 16384\n",
      "8 256 65536\n",
      "9 512 262144\n"
     ]
    }
   ],
   "source": [
    "# Architecture\n",
    "# 1  Input\n",
    "# 32x32 = 1024\n",
    "## Scaled down \n",
    "## Superpixel\n",
    "## Blend\n",
    "\n",
    "## Generator\n",
    "## How to prevent hedgehog????\n",
    "#  64\n",
    "# 128\n",
    "# 256\n"
   ]
  },
  {
   "cell_type": "code",
   "execution_count": null,
   "metadata": {},
   "outputs": [],
   "source": []
  }
 ],
 "metadata": {
  "kernelspec": {
   "display_name": "pytorch3d_0.3",
   "language": "python",
   "name": "pytorch3d_0.3"
  },
  "language_info": {
   "codemirror_mode": {
    "name": "ipython",
    "version": 3
   },
   "file_extension": ".py",
   "mimetype": "text/x-python",
   "name": "python",
   "nbconvert_exporter": "python",
   "pygments_lexer": "ipython3",
   "version": "3.8.5"
  }
 },
 "nbformat": 4,
 "nbformat_minor": 4
}
