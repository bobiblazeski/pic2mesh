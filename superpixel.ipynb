{
 "cells": [
  {
   "cell_type": "code",
   "execution_count": 1,
   "metadata": {},
   "outputs": [],
   "source": [
    "import torch\n",
    "torch.set_printoptions(sci_mode=False)"
   ]
  },
  {
   "cell_type": "code",
   "execution_count": 2,
   "metadata": {},
   "outputs": [
    {
     "name": "stdout",
     "output_type": "stream",
     "text": [
      "tensor([[ 0,  1,  2,  3],\n",
      "        [ 4,  5,  6,  7],\n",
      "        [ 8,  9, 10, 11],\n",
      "        [12, 13, 14, 15]])\n",
      "torch.Size([2, 2, 2, 2])\n",
      "2 2\n"
     ]
    },
    {
     "data": {
      "text/plain": [
       "tensor([[[ 0.,  2.],\n",
       "         [ 8., 10.]],\n",
       "\n",
       "        [[ 1.,  3.],\n",
       "         [ 9., 11.]],\n",
       "\n",
       "        [[ 4.,  6.],\n",
       "         [12., 14.]],\n",
       "\n",
       "        [[ 5.,  7.],\n",
       "         [13., 15.]]])"
      ]
     },
     "execution_count": 2,
     "metadata": {},
     "output_type": "execute_result"
    }
   ],
   "source": [
    "from math import sqrt\n",
    "\n",
    "def channel_matrix(m, ch_rows, ch_cols):\n",
    "    rows, cols = m.shape\n",
    "    rn, cn = rows // ch_rows, cols // ch_cols\n",
    "    r = torch.zeros(ch_rows, ch_cols, rn, cn)\n",
    "    print(r.shape)\n",
    "    for chr_r in range(ch_rows):\n",
    "        for chr_c in range(ch_cols):\n",
    "            for i in range(rn):\n",
    "                for j in range(cn):\n",
    "                    r[chr_r, chr_c, i, j] = m[i * rn +chr_r, j * cn+ chr_c]\n",
    "    print(rn, cn)\n",
    "    return r.reshape(ch_rows * ch_cols, rn, cn)\n",
    "m = torch.arange(16).reshape(4, 4)\n",
    "print(m)\n",
    "channel_matrix(m, 2, 2)#.shape"
   ]
  },
  {
   "cell_type": "code",
   "execution_count": 3,
   "metadata": {},
   "outputs": [
    {
     "name": "stdout",
     "output_type": "stream",
     "text": [
      "torch.Size([1, 1, 4, 4])\n"
     ]
    },
    {
     "ename": "IndexError",
     "evalue": "index 4 is out of bounds for dimension 1 with size 4",
     "output_type": "error",
     "traceback": [
      "\u001b[0;31m---------------------------------------------------------------------------\u001b[0m",
      "\u001b[0;31mIndexError\u001b[0m                                Traceback (most recent call last)",
      "\u001b[0;32m<ipython-input-3-9918cea97259>\u001b[0m in \u001b[0;36m<module>\u001b[0;34m\u001b[0m\n\u001b[0;32m----> 1\u001b[0;31m \u001b[0mchannel_matrix\u001b[0m\u001b[0;34m(\u001b[0m\u001b[0mm\u001b[0m\u001b[0;34m,\u001b[0m \u001b[0;36m1\u001b[0m\u001b[0;34m,\u001b[0m \u001b[0;36m1\u001b[0m\u001b[0;34m)\u001b[0m\u001b[0;34m\u001b[0m\u001b[0;34m\u001b[0m\u001b[0m\n\u001b[0m",
      "\u001b[0;32m<ipython-input-2-58f5f00e26b1>\u001b[0m in \u001b[0;36mchannel_matrix\u001b[0;34m(m, ch_rows, ch_cols)\u001b[0m\n\u001b[1;32m     10\u001b[0m             \u001b[0;32mfor\u001b[0m \u001b[0mi\u001b[0m \u001b[0;32min\u001b[0m \u001b[0mrange\u001b[0m\u001b[0;34m(\u001b[0m\u001b[0mrn\u001b[0m\u001b[0;34m)\u001b[0m\u001b[0;34m:\u001b[0m\u001b[0;34m\u001b[0m\u001b[0;34m\u001b[0m\u001b[0m\n\u001b[1;32m     11\u001b[0m                 \u001b[0;32mfor\u001b[0m \u001b[0mj\u001b[0m \u001b[0;32min\u001b[0m \u001b[0mrange\u001b[0m\u001b[0;34m(\u001b[0m\u001b[0mcn\u001b[0m\u001b[0;34m)\u001b[0m\u001b[0;34m:\u001b[0m\u001b[0;34m\u001b[0m\u001b[0;34m\u001b[0m\u001b[0m\n\u001b[0;32m---> 12\u001b[0;31m                     \u001b[0mr\u001b[0m\u001b[0;34m[\u001b[0m\u001b[0mchr_r\u001b[0m\u001b[0;34m,\u001b[0m \u001b[0mchr_c\u001b[0m\u001b[0;34m,\u001b[0m \u001b[0mi\u001b[0m\u001b[0;34m,\u001b[0m \u001b[0mj\u001b[0m\u001b[0;34m]\u001b[0m \u001b[0;34m=\u001b[0m \u001b[0mm\u001b[0m\u001b[0;34m[\u001b[0m\u001b[0mi\u001b[0m \u001b[0;34m*\u001b[0m \u001b[0mrn\u001b[0m \u001b[0;34m+\u001b[0m\u001b[0mchr_r\u001b[0m\u001b[0;34m,\u001b[0m \u001b[0mj\u001b[0m \u001b[0;34m*\u001b[0m \u001b[0mcn\u001b[0m\u001b[0;34m+\u001b[0m \u001b[0mchr_c\u001b[0m\u001b[0;34m]\u001b[0m\u001b[0;34m\u001b[0m\u001b[0;34m\u001b[0m\u001b[0m\n\u001b[0m\u001b[1;32m     13\u001b[0m     \u001b[0mprint\u001b[0m\u001b[0;34m(\u001b[0m\u001b[0mrn\u001b[0m\u001b[0;34m,\u001b[0m \u001b[0mcn\u001b[0m\u001b[0;34m)\u001b[0m\u001b[0;34m\u001b[0m\u001b[0;34m\u001b[0m\u001b[0m\n\u001b[1;32m     14\u001b[0m     \u001b[0;32mreturn\u001b[0m \u001b[0mr\u001b[0m\u001b[0;34m.\u001b[0m\u001b[0mreshape\u001b[0m\u001b[0;34m(\u001b[0m\u001b[0mch_rows\u001b[0m \u001b[0;34m*\u001b[0m \u001b[0mch_cols\u001b[0m\u001b[0;34m,\u001b[0m \u001b[0mrn\u001b[0m\u001b[0;34m,\u001b[0m \u001b[0mcn\u001b[0m\u001b[0;34m)\u001b[0m\u001b[0;34m\u001b[0m\u001b[0;34m\u001b[0m\u001b[0m\n",
      "\u001b[0;31mIndexError\u001b[0m: index 4 is out of bounds for dimension 1 with size 4"
     ]
    }
   ],
   "source": [
    "channel_matrix(m, 1, 1)"
   ]
  },
  {
   "cell_type": "code",
   "execution_count": 36,
   "metadata": {
    "scrolled": true
   },
   "outputs": [
    {
     "name": "stdout",
     "output_type": "stream",
     "text": [
      "4 4 torch.Size([2, 2, 4, 4])\n",
      "0 0 0 0\n",
      "0 0\n",
      "0 1 0 0\n",
      "0 2\n",
      "0 2 0 0\n",
      "0 4\n",
      "0 3 0 0\n",
      "0 6\n",
      "1 0 0 0\n",
      "2 0\n",
      "1 1 0 0\n",
      "2 2\n",
      "1 2 0 0\n",
      "2 4\n",
      "1 3 0 0\n",
      "2 6\n",
      "2 0 0 0\n",
      "4 0\n",
      "2 1 0 0\n",
      "4 2\n",
      "2 2 0 0\n",
      "4 4\n",
      "2 3 0 0\n",
      "4 6\n",
      "3 0 0 0\n",
      "6 0\n",
      "3 1 0 0\n",
      "6 2\n",
      "3 2 0 0\n",
      "6 4\n",
      "3 3 0 0\n",
      "6 6\n",
      "0 0 0 1\n",
      "0 1\n",
      "0 1 0 1\n",
      "0 3\n",
      "0 2 0 1\n",
      "0 5\n",
      "0 3 0 1\n",
      "0 7\n",
      "1 0 0 1\n",
      "2 1\n",
      "1 1 0 1\n",
      "2 3\n",
      "1 2 0 1\n",
      "2 5\n",
      "1 3 0 1\n",
      "2 7\n",
      "2 0 0 1\n",
      "4 1\n",
      "2 1 0 1\n",
      "4 3\n",
      "2 2 0 1\n",
      "4 5\n",
      "2 3 0 1\n",
      "4 7\n",
      "3 0 0 1\n",
      "6 1\n",
      "3 1 0 1\n",
      "6 3\n",
      "3 2 0 1\n",
      "6 5\n",
      "3 3 0 1\n",
      "6 7\n",
      "0 0 1 0\n",
      "1 0\n",
      "0 1 1 0\n",
      "1 2\n",
      "0 2 1 0\n",
      "1 4\n",
      "0 3 1 0\n",
      "1 6\n",
      "1 0 1 0\n",
      "3 0\n",
      "1 1 1 0\n",
      "3 2\n",
      "1 2 1 0\n",
      "3 4\n",
      "1 3 1 0\n",
      "3 6\n",
      "2 0 1 0\n",
      "5 0\n",
      "2 1 1 0\n",
      "5 2\n",
      "2 2 1 0\n",
      "5 4\n",
      "2 3 1 0\n",
      "5 6\n",
      "3 0 1 0\n",
      "7 0\n",
      "3 1 1 0\n",
      "7 2\n",
      "3 2 1 0\n",
      "7 4\n",
      "3 3 1 0\n",
      "7 6\n",
      "0 0 1 1\n",
      "1 1\n",
      "0 1 1 1\n",
      "1 3\n",
      "0 2 1 1\n",
      "1 5\n",
      "0 3 1 1\n",
      "1 7\n",
      "1 0 1 1\n",
      "3 1\n",
      "1 1 1 1\n",
      "3 3\n",
      "1 2 1 1\n",
      "3 5\n",
      "1 3 1 1\n",
      "3 7\n",
      "2 0 1 1\n",
      "5 1\n",
      "2 1 1 1\n",
      "5 3\n",
      "2 2 1 1\n",
      "5 5\n",
      "2 3 1 1\n",
      "5 7\n",
      "3 0 1 1\n",
      "7 1\n",
      "3 1 1 1\n",
      "7 3\n",
      "3 2 1 1\n",
      "7 5\n",
      "3 3 1 1\n",
      "7 7\n",
      "4 4\n"
     ]
    },
    {
     "data": {
      "text/plain": [
       "tensor([[[[ 0.,  2.,  4.,  6.],\n",
       "          [16., 18., 20., 22.],\n",
       "          [32., 34., 36., 38.],\n",
       "          [48., 50., 52., 54.]],\n",
       "\n",
       "         [[ 1.,  3.,  5.,  7.],\n",
       "          [17., 19., 21., 23.],\n",
       "          [33., 35., 37., 39.],\n",
       "          [49., 51., 53., 55.]]],\n",
       "\n",
       "\n",
       "        [[[ 8., 10., 12., 14.],\n",
       "          [24., 26., 28., 30.],\n",
       "          [40., 42., 44., 46.],\n",
       "          [56., 58., 60., 62.]],\n",
       "\n",
       "         [[ 9., 11., 13., 15.],\n",
       "          [25., 27., 29., 31.],\n",
       "          [41., 43., 45., 47.],\n",
       "          [57., 59., 61., 63.]]]])"
      ]
     },
     "execution_count": 36,
     "metadata": {},
     "output_type": "execute_result"
    }
   ],
   "source": [
    "def channel_matrix(m, ch_rows, ch_cols):\n",
    "    rows, cols = m.shape\n",
    "    rn, cn = rows // ch_rows, cols // ch_cols\n",
    "    r = torch.zeros(ch_rows, ch_cols, rn, cn)\n",
    "    assert r.numel() == m.numel()    \n",
    "    for chr_r in range(ch_rows):\n",
    "        for chr_c in range(ch_cols):\n",
    "            for i in range(rn):\n",
    "                for j in range(cn):           \n",
    "                    print(i, j, chr_r, chr_c)\n",
    "                    print(i * ch_rows +chr_r, j * ch_cols+ chr_c)\n",
    "                    r[chr_r, chr_c, i, j] = m[i * ch_rows +chr_r, j * ch_cols+ chr_c]    \n",
    "    return r\n",
    "\n",
    "m = torch.arange(64).reshape(8, 8)\n",
    "channel_matrix(m, 2, 2)#.shape"
   ]
  },
  {
   "cell_type": "code",
   "execution_count": 23,
   "metadata": {},
   "outputs": [
    {
     "data": {
      "text/plain": [
       "tensor([[ 0,  1,  2,  3,  4,  5,  6,  7],\n",
       "        [ 8,  9, 10, 11, 12, 13, 14, 15],\n",
       "        [16, 17, 18, 19, 20, 21, 22, 23],\n",
       "        [24, 25, 26, 27, 28, 29, 30, 31],\n",
       "        [32, 33, 34, 35, 36, 37, 38, 39],\n",
       "        [40, 41, 42, 43, 44, 45, 46, 47],\n",
       "        [48, 49, 50, 51, 52, 53, 54, 55],\n",
       "        [56, 57, 58, 59, 60, 61, 62, 63]])"
      ]
     },
     "execution_count": 23,
     "metadata": {},
     "output_type": "execute_result"
    }
   ],
   "source": [
    "m"
   ]
  },
  {
   "cell_type": "code",
   "execution_count": 12,
   "metadata": {},
   "outputs": [
    {
     "data": {
      "text/plain": [
       "tensor([[[[ 0.,  2.],\n",
       "          [ 8., 10.]],\n",
       "\n",
       "         [[ 1.,  3.],\n",
       "          [ 9., 11.]]],\n",
       "\n",
       "\n",
       "        [[[ 4.,  6.],\n",
       "          [12., 14.]],\n",
       "\n",
       "         [[ 5.,  7.],\n",
       "          [13., 15.]]]])"
      ]
     },
     "execution_count": 12,
     "metadata": {},
     "output_type": "execute_result"
    }
   ],
   "source": [
    "def channel_matrix(m, ch_rows, ch_cols):\n",
    "    rows, cols = m.shape\n",
    "    rn, cn = rows // ch_rows, cols // ch_cols\n",
    "    r = torch.zeros(ch_rows, ch_cols, rn, cn)\n",
    "    assert r.numel() == m.numel()    \n",
    "    for chr_r in range(ch_rows):\n",
    "        for chr_c in range(ch_cols):\n",
    "            for i in range(rn):\n",
    "                for j in range(cn):                               \n",
    "                    r[chr_r, chr_c, i, j] = m[i * ch_rows + chr_r, j * ch_cols+ chr_c]\n",
    "    return r\n",
    "\n",
    "m = torch.arange(16).reshape(4, 4)\n",
    "channel_matrix(m, 2, 2)#.shape"
   ]
  },
  {
   "cell_type": "code",
   "execution_count": 11,
   "metadata": {},
   "outputs": [
    {
     "data": {
      "text/plain": [
       "torch.Size([128, 128])"
      ]
     },
     "execution_count": 11,
     "metadata": {},
     "output_type": "execute_result"
    }
   ],
   "source": [
    "m = torch.arange(128**2).reshape(128, 128)\n",
    "m.shape"
   ]
  },
  {
   "cell_type": "code",
   "execution_count": 46,
   "metadata": {},
   "outputs": [
    {
     "data": {
      "text/plain": [
       "torch.Size([2, 2, 64, 64])"
      ]
     },
     "execution_count": 46,
     "metadata": {},
     "output_type": "execute_result"
    }
   ],
   "source": [
    "r = channel_matrix(m, 2, 2)\n",
    "r.shape"
   ]
  },
  {
   "cell_type": "code",
   "execution_count": null,
   "metadata": {},
   "outputs": [],
   "source": [
    "r = channel_matrix(m, 2, 2)\n",
    "r.shape"
   ]
  },
  {
   "cell_type": "code",
   "execution_count": 9,
   "metadata": {},
   "outputs": [
    {
     "data": {
      "text/plain": [
       "tensor([[[[ 0.,  1.,  2.,  3.],\n",
       "          [ 4.,  5.,  6.,  7.],\n",
       "          [ 8.,  9., 10., 11.],\n",
       "          [12., 13., 14., 15.]]]])"
      ]
     },
     "execution_count": 9,
     "metadata": {},
     "output_type": "execute_result"
    }
   ],
   "source": [
    "\n",
    "m = torch.arange(16).reshape(4, 4)\n",
    "channel_matrix(m, 1, 1)#.shape"
   ]
  },
  {
   "cell_type": "code",
   "execution_count": null,
   "metadata": {},
   "outputs": [],
   "source": []
  }
 ],
 "metadata": {
  "kernelspec": {
   "display_name": "pytorch3d_0.3",
   "language": "python",
   "name": "pytorch3d_0.3"
  },
  "language_info": {
   "codemirror_mode": {
    "name": "ipython",
    "version": 3
   },
   "file_extension": ".py",
   "mimetype": "text/x-python",
   "name": "python",
   "nbconvert_exporter": "python",
   "pygments_lexer": "ipython3",
   "version": "3.8.5"
  }
 },
 "nbformat": 4,
 "nbformat_minor": 4
}
