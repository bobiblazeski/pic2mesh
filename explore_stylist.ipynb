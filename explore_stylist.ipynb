{
 "cells": [
  {
   "cell_type": "code",
   "execution_count": 1,
   "metadata": {},
   "outputs": [],
   "source": [
    "import torch\n",
    "from torchsummary import summary\n",
    "\n",
    "from src.config import get_parser\n",
    "from src.models.stylist import Stylist"
   ]
  },
  {
   "cell_type": "code",
   "execution_count": 2,
   "metadata": {},
   "outputs": [
    {
     "name": "stdout",
     "output_type": "stream",
     "text": [
      "vgg7\n"
     ]
    },
    {
     "data": {
      "text/plain": [
       "Stylist(\n",
       "  (features): Sequential(\n",
       "    (0): Conv2d(1, 64, kernel_size=(3, 3), stride=(1, 1), padding=(1, 1))\n",
       "    (1): BatchNorm2d(64, eps=1e-05, momentum=0.1, affine=True, track_running_stats=True)\n",
       "    (2): ReLU()\n",
       "    (3): MaxPool2d(kernel_size=2, stride=2, padding=0, dilation=1, ceil_mode=False)\n",
       "    (4): Conv2d(64, 128, kernel_size=(3, 3), stride=(1, 1), padding=(1, 1))\n",
       "    (5): BatchNorm2d(128, eps=1e-05, momentum=0.1, affine=True, track_running_stats=True)\n",
       "    (6): ReLU()\n",
       "    (7): MaxPool2d(kernel_size=2, stride=2, padding=0, dilation=1, ceil_mode=False)\n",
       "    (8): Conv2d(128, 256, kernel_size=(3, 3), stride=(1, 1), padding=(1, 1))\n",
       "    (9): BatchNorm2d(256, eps=1e-05, momentum=0.1, affine=True, track_running_stats=True)\n",
       "    (10): ReLU()\n",
       "    (11): Conv2d(256, 256, kernel_size=(3, 3), stride=(1, 1), padding=(1, 1))\n",
       "    (12): BatchNorm2d(256, eps=1e-05, momentum=0.1, affine=True, track_running_stats=True)\n",
       "    (13): ReLU()\n",
       "    (14): MaxPool2d(kernel_size=2, stride=2, padding=0, dilation=1, ceil_mode=False)\n",
       "  )\n",
       "  (cont): Linear(in_features=256, out_features=128, bias=True)\n",
       ")"
      ]
     },
     "execution_count": 2,
     "metadata": {},
     "output_type": "execute_result"
    }
   ],
   "source": [
    "config = get_parser().parse_args(args=[])\n",
    "config.backbone = 'vgg7'\n",
    "config.latent_size = 128\n",
    "print(config.backbone)\n",
    "\n",
    "stylist = Stylist(config)\n",
    "stylist"
   ]
  },
  {
   "cell_type": "code",
   "execution_count": 6,
   "metadata": {},
   "outputs": [
    {
     "data": {
      "text/plain": [
       "256"
      ]
     },
     "execution_count": 6,
     "metadata": {},
     "output_type": "execute_result"
    }
   ],
   "source": [
    "cfg = {\n",
    "    'vgg7': [64, 'M', 128, 'M', 256, 256, 'M'],\n",
    "    'vgg9': [64, 'M', 128, 'M', 256, 256, 'M', 512, 512, 'M'],\n",
    "    'vgg11': [64, 'M', 128, 'M', 256, 256, 'M', 512, 512, 'M', 512, 512, 'M'],\n",
    "    'vgg13': [64, 64, 'M', 128, 128, 'M', 256, 256, 'M', 512, 512, 'M', 512, 512, 'M'],\n",
    "    'vgg16': [64, 64, 'M', 128, 128, 'M', 256, 256, 256, 'M', 512, 512, 512, 'M', 512, 512, 512, 'M'],\n",
    "    'vgg19': [64, 64, 'M', 128, 128, 'M', 256, 256, 256, 256, 'M', 512, 512, 512, 512, 'M', 512, 512, 512, 512, 'M'],\n",
    "    'vgg19cut': [64, 64, 'M', 128, 128, 'M', 256, 256, 256, 256, 'M', 512, 512, 512, 512, 'M', 512, 512, 512, 512, 'N'],\n",
    "}\n",
    "\n",
    "\n",
    "cfg['vgg7'][-2]"
   ]
  },
  {
   "cell_type": "code",
   "execution_count": 4,
   "metadata": {},
   "outputs": [
    {
     "name": "stdout",
     "output_type": "stream",
     "text": [
      "------------------------------------------------------------------------------------------\n",
      "Layer (type:depth-idx)                   Output Shape              Param #\n",
      "==========================================================================================\n",
      "├─Sequential: 1-1                        [-1, 256, 16, 16]         --\n",
      "|    └─Conv2d: 2-1                       [-1, 64, 128, 128]        640\n",
      "|    └─BatchNorm2d: 2-2                  [-1, 64, 128, 128]        128\n",
      "|    └─ReLU: 2-3                         [-1, 64, 128, 128]        --\n",
      "|    └─MaxPool2d: 2-4                    [-1, 64, 64, 64]          --\n",
      "|    └─Conv2d: 2-5                       [-1, 128, 64, 64]         73,856\n",
      "|    └─BatchNorm2d: 2-6                  [-1, 128, 64, 64]         256\n",
      "|    └─ReLU: 2-7                         [-1, 128, 64, 64]         --\n",
      "|    └─MaxPool2d: 2-8                    [-1, 128, 32, 32]         --\n",
      "|    └─Conv2d: 2-9                       [-1, 256, 32, 32]         295,168\n",
      "|    └─BatchNorm2d: 2-10                 [-1, 256, 32, 32]         512\n",
      "|    └─ReLU: 2-11                        [-1, 256, 32, 32]         --\n",
      "|    └─Conv2d: 2-12                      [-1, 256, 32, 32]         590,080\n",
      "|    └─BatchNorm2d: 2-13                 [-1, 256, 32, 32]         512\n",
      "|    └─ReLU: 2-14                        [-1, 256, 32, 32]         --\n",
      "|    └─MaxPool2d: 2-15                   [-1, 256, 16, 16]         --\n",
      "├─Linear: 1-2                            [-1, 128]                 32,896\n",
      "==========================================================================================\n",
      "Total params: 994,048\n",
      "Trainable params: 994,048\n",
      "Non-trainable params: 0\n",
      "Total mult-adds (G): 1.22\n",
      "------------------------------------------------------------------------------------------\n",
      "Input size (MB): 0.06\n",
      "Forward/backward pass size (MB): 32.00\n",
      "Params size (MB): 3.79\n",
      "Estimated Total Size (MB): 35.86\n",
      "------------------------------------------------------------------------------------------\n"
     ]
    },
    {
     "data": {
      "text/plain": [
       "------------------------------------------------------------------------------------------\n",
       "Layer (type:depth-idx)                   Output Shape              Param #\n",
       "==========================================================================================\n",
       "├─Sequential: 1-1                        [-1, 256, 16, 16]         --\n",
       "|    └─Conv2d: 2-1                       [-1, 64, 128, 128]        640\n",
       "|    └─BatchNorm2d: 2-2                  [-1, 64, 128, 128]        128\n",
       "|    └─ReLU: 2-3                         [-1, 64, 128, 128]        --\n",
       "|    └─MaxPool2d: 2-4                    [-1, 64, 64, 64]          --\n",
       "|    └─Conv2d: 2-5                       [-1, 128, 64, 64]         73,856\n",
       "|    └─BatchNorm2d: 2-6                  [-1, 128, 64, 64]         256\n",
       "|    └─ReLU: 2-7                         [-1, 128, 64, 64]         --\n",
       "|    └─MaxPool2d: 2-8                    [-1, 128, 32, 32]         --\n",
       "|    └─Conv2d: 2-9                       [-1, 256, 32, 32]         295,168\n",
       "|    └─BatchNorm2d: 2-10                 [-1, 256, 32, 32]         512\n",
       "|    └─ReLU: 2-11                        [-1, 256, 32, 32]         --\n",
       "|    └─Conv2d: 2-12                      [-1, 256, 32, 32]         590,080\n",
       "|    └─BatchNorm2d: 2-13                 [-1, 256, 32, 32]         512\n",
       "|    └─ReLU: 2-14                        [-1, 256, 32, 32]         --\n",
       "|    └─MaxPool2d: 2-15                   [-1, 256, 16, 16]         --\n",
       "├─Linear: 1-2                            [-1, 128]                 32,896\n",
       "==========================================================================================\n",
       "Total params: 994,048\n",
       "Trainable params: 994,048\n",
       "Non-trainable params: 0\n",
       "Total mult-adds (G): 1.22\n",
       "------------------------------------------------------------------------------------------\n",
       "Input size (MB): 0.06\n",
       "Forward/backward pass size (MB): 32.00\n",
       "Params size (MB): 3.79\n",
       "Estimated Total Size (MB): 35.86\n",
       "------------------------------------------------------------------------------------------"
      ]
     },
     "execution_count": 4,
     "metadata": {},
     "output_type": "execute_result"
    }
   ],
   "source": [
    "summary(stylist, (1, 128, 128))"
   ]
  },
  {
   "cell_type": "code",
   "execution_count": null,
   "metadata": {},
   "outputs": [],
   "source": []
  }
 ],
 "metadata": {
  "kernelspec": {
   "display_name": "pytorch3d_0.3",
   "language": "python",
   "name": "pytorch3d_0.3"
  },
  "language_info": {
   "codemirror_mode": {
    "name": "ipython",
    "version": 3
   },
   "file_extension": ".py",
   "mimetype": "text/x-python",
   "name": "python",
   "nbconvert_exporter": "python",
   "pygments_lexer": "ipython3",
   "version": "3.8.5"
  }
 },
 "nbformat": 4,
 "nbformat_minor": 4
}
