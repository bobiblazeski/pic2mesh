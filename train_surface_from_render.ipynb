{
 "cells": [
  {
   "cell_type": "code",
   "execution_count": 1,
   "metadata": {},
   "outputs": [
    {
     "data": {
      "text/html": [
       "        <script type=\"text/javascript\">\n",
       "        window.PlotlyConfig = {MathJaxConfig: 'local'};\n",
       "        if (window.MathJax) {MathJax.Hub.Config({SVG: {font: \"STIX-Web\"}});}\n",
       "        if (typeof require !== 'undefined') {\n",
       "        require.undef(\"plotly\");\n",
       "        requirejs.config({\n",
       "            paths: {\n",
       "                'plotly': ['https://cdn.plot.ly/plotly-latest.min']\n",
       "            }\n",
       "        });\n",
       "        require(['plotly'], function(Plotly) {\n",
       "            window._Plotly = Plotly;\n",
       "        });\n",
       "        }\n",
       "        </script>\n",
       "        "
      ]
     },
     "metadata": {},
     "output_type": "display_data"
    },
    {
     "data": {
      "text/html": [
       "        <script type=\"text/javascript\">\n",
       "        window.PlotlyConfig = {MathJaxConfig: 'local'};\n",
       "        if (window.MathJax) {MathJax.Hub.Config({SVG: {font: \"STIX-Web\"}});}\n",
       "        if (typeof require !== 'undefined') {\n",
       "        require.undef(\"plotly\");\n",
       "        requirejs.config({\n",
       "            paths: {\n",
       "                'plotly': ['https://cdn.plot.ly/plotly-latest.min']\n",
       "            }\n",
       "        });\n",
       "        require(['plotly'], function(Plotly) {\n",
       "            window._Plotly = Plotly;\n",
       "        });\n",
       "        }\n",
       "        </script>\n",
       "        "
      ]
     },
     "metadata": {},
     "output_type": "display_data"
    },
    {
     "data": {
      "text/html": [
       "        <script type=\"text/javascript\">\n",
       "        window.PlotlyConfig = {MathJaxConfig: 'local'};\n",
       "        if (window.MathJax) {MathJax.Hub.Config({SVG: {font: \"STIX-Web\"}});}\n",
       "        if (typeof require !== 'undefined') {\n",
       "        require.undef(\"plotly\");\n",
       "        requirejs.config({\n",
       "            paths: {\n",
       "                'plotly': ['https://cdn.plot.ly/plotly-latest.min']\n",
       "            }\n",
       "        });\n",
       "        require(['plotly'], function(Plotly) {\n",
       "            window._Plotly = Plotly;\n",
       "        });\n",
       "        }\n",
       "        </script>\n",
       "        "
      ]
     },
     "metadata": {},
     "output_type": "display_data"
    },
    {
     "data": {
      "text/html": [
       "        <script type=\"text/javascript\">\n",
       "        window.PlotlyConfig = {MathJaxConfig: 'local'};\n",
       "        if (window.MathJax) {MathJax.Hub.Config({SVG: {font: \"STIX-Web\"}});}\n",
       "        if (typeof require !== 'undefined') {\n",
       "        require.undef(\"plotly\");\n",
       "        requirejs.config({\n",
       "            paths: {\n",
       "                'plotly': ['https://cdn.plot.ly/plotly-latest.min']\n",
       "            }\n",
       "        });\n",
       "        require(['plotly'], function(Plotly) {\n",
       "            window._Plotly = Plotly;\n",
       "        });\n",
       "        }\n",
       "        </script>\n",
       "        "
      ]
     },
     "metadata": {},
     "output_type": "display_data"
    }
   ],
   "source": [
    "import torch\n",
    "import torch.nn as nn\n",
    "import torch.nn.functional as F\n",
    "import pytorch_lightning as pl\n",
    "from pytorch3d.loss import (\n",
    "    chamfer_distance,    \n",
    ")\n",
    "from pytorch3d.structures import Meshes\n",
    "from pytorch3d.ops import sample_points_from_meshes\n",
    "from src.callback.log_render_sample import LogRenderSample\n",
    "from src.utilities.util import (\n",
    "    grid_to_list,\n",
    "    make_faces,\n",
    ")"
   ]
  },
  {
   "cell_type": "code",
   "execution_count": 2,
   "metadata": {},
   "outputs": [
    {
     "data": {
      "text/plain": [
       "Generator(\n",
       "  (trunk): Sequential(\n",
       "    (head): ConvBlock(\n",
       "      (conv): Conv2d(1, 128, kernel_size=(3, 3), stride=(1, 1), padding=(1, 1), bias=False)\n",
       "      (lrelu): LeakyReLU(negative_slope=0.2)\n",
       "    )\n",
       "    (upsample): Upsample(scale_factor=2.0, mode=nearest)\n",
       "    (main): Sequential(\n",
       "      (b0): ConvBlock(\n",
       "        (conv): Conv2d(128, 128, kernel_size=(3, 3), stride=(1, 1), padding=(1, 1), bias=False)\n",
       "        (lrelu): LeakyReLU(negative_slope=0.2)\n",
       "      )\n",
       "      (b1): ConvBlock(\n",
       "        (conv): Conv2d(128, 256, kernel_size=(3, 3), stride=(1, 1), padding=(1, 1), bias=False)\n",
       "        (lrelu): LeakyReLU(negative_slope=0.2)\n",
       "      )\n",
       "      (b2): ConvBlock(\n",
       "        (conv): Conv2d(256, 256, kernel_size=(3, 3), stride=(1, 1), padding=(1, 1), bias=False)\n",
       "        (lrelu): LeakyReLU(negative_slope=0.2)\n",
       "      )\n",
       "    )\n",
       "  )\n",
       "  (points): Sequential(\n",
       "    (0): Conv2d(256, 3, kernel_size=(3, 3), stride=(1, 1), padding=(1, 1), bias=False)\n",
       "    (1): Tanh()\n",
       "  )\n",
       ")"
      ]
     },
     "execution_count": 2,
     "metadata": {},
     "output_type": "execute_result"
    }
   ],
   "source": [
    "# pyright: reportMissingImports=false\n",
    "\n",
    "from collections import OrderedDict\n",
    "\n",
    "import torch\n",
    "import torch.nn as nn\n",
    "import torch.nn.functional as F\n",
    "from torch.nn.utils import spectral_norm\n",
    "\n",
    "from src.models.util import ConvBlock\n",
    "from src.utilities.operators import mean_distance\n",
    "from src.data.sample_render import SampleRenderDataModule\n",
    "        \n",
    "class Generator(nn.Module):\n",
    "    def __init__(self, config):        \n",
    "        super(Generator,self).__init__()\n",
    "        channels =  config.fast_generator_channels\n",
    "        self.trunk = nn.Sequential(OrderedDict([\n",
    "            ('head', ConvBlock(1, channels[0])),\n",
    "            ('upsample', nn.Upsample(scale_factor=2)),\n",
    "            ('main', nn.Sequential(OrderedDict([\n",
    "                ('b'+str(i), ConvBlock(in_ch, out_ch))\n",
    "                    for i, (in_ch, out_ch) in \n",
    "                    enumerate(zip(channels, channels[1:]))])))\n",
    "        ]))\n",
    "        self.points = nn.Sequential(\n",
    "            spectral_norm(nn.Conv2d(channels[-1], 3, 3, 1, 1, bias=False)),\n",
    "            #nn.Sigmoid(),)\n",
    "            nn.Tanh(),)\n",
    "\n",
    "    def forward(self, outline):\n",
    "        trunk = self.trunk(outline)\n",
    "        points = self.points(trunk)        \n",
    "        return points\n",
    "from src.config import get_parser\n",
    "\n",
    "config = get_parser().parse_args(args=[])  \n",
    "\n",
    "G = Generator(config)    \n",
    "G"
   ]
  },
  {
   "cell_type": "code",
   "execution_count": 3,
   "metadata": {
    "scrolled": true
   },
   "outputs": [
    {
     "name": "stdout",
     "output_type": "stream",
     "text": [
      "image torch.Size([8, 1, 128, 128])\n",
      "label torch.Size([8])\n",
      "samples torch.Size([8, 65536, 3])\n"
     ]
    }
   ],
   "source": [
    "dm = SampleRenderDataModule(config)\n",
    "batch = next(iter(dm.train_dataloader()))\n",
    "for k,v in batch.items():\n",
    "    print(k, v.shape)"
   ]
  },
  {
   "cell_type": "code",
   "execution_count": 4,
   "metadata": {},
   "outputs": [
    {
     "data": {
      "text/plain": [
       "RenderToSurface(\n",
       "  (G): Generator(\n",
       "    (trunk): Sequential(\n",
       "      (head): ConvBlock(\n",
       "        (conv): Conv2d(1, 128, kernel_size=(3, 3), stride=(1, 1), padding=(1, 1), bias=False)\n",
       "        (lrelu): LeakyReLU(negative_slope=0.2)\n",
       "      )\n",
       "      (upsample): Upsample(scale_factor=2.0, mode=nearest)\n",
       "      (main): Sequential(\n",
       "        (b0): ConvBlock(\n",
       "          (conv): Conv2d(128, 128, kernel_size=(3, 3), stride=(1, 1), padding=(1, 1), bias=False)\n",
       "          (lrelu): LeakyReLU(negative_slope=0.2)\n",
       "        )\n",
       "        (b1): ConvBlock(\n",
       "          (conv): Conv2d(128, 256, kernel_size=(3, 3), stride=(1, 1), padding=(1, 1), bias=False)\n",
       "          (lrelu): LeakyReLU(negative_slope=0.2)\n",
       "        )\n",
       "        (b2): ConvBlock(\n",
       "          (conv): Conv2d(256, 256, kernel_size=(3, 3), stride=(1, 1), padding=(1, 1), bias=False)\n",
       "          (lrelu): LeakyReLU(negative_slope=0.2)\n",
       "        )\n",
       "      )\n",
       "    )\n",
       "    (points): Sequential(\n",
       "      (0): Conv2d(256, 3, kernel_size=(3, 3), stride=(1, 1), padding=(1, 1), bias=False)\n",
       "      (1): Tanh()\n",
       "    )\n",
       "  )\n",
       ")"
      ]
     },
     "execution_count": 4,
     "metadata": {},
     "output_type": "execute_result"
    }
   ],
   "source": [
    "class RenderToSurface(pl.LightningModule):\n",
    "    \n",
    "    def __init__(self, hparams):\n",
    "        super().__init__()        \n",
    "        self.save_hyperparameters(hparams)\n",
    "        \n",
    "        self.G = Generator(hparams)\n",
    "        self.faces = None                     \n",
    "\n",
    "    def training_step(self, batch, batch_idx):\n",
    "        v = self.G(batch['image'])\n",
    "        if self.faces is None:\n",
    "            _, _, w, h = v.shape\n",
    "            faces = make_faces(w, h)[None]\n",
    "            self.faces = torch.tensor(faces, device=v.device)\n",
    "        v = grid_to_list(v)        \n",
    "        meshes = Meshes(verts=v, faces=self.faces.expand(v.size(0), -1, -1))\n",
    "        samples = sample_points_from_meshes(meshes)\n",
    "        \n",
    "        loss, _ = chamfer_distance(samples, batch['samples'])        \n",
    "        self.log(f\"train/loss\", loss.item())\n",
    "        return loss\n",
    "        \n",
    "        \n",
    "    def configure_optimizers(self):\n",
    "        lr, betas = 0.0003, (0.5, 0.999)        \n",
    "        opt_g = torch.optim.Adam(self.G.parameters(),  lr=lr, betas=betas)\n",
    "        return [opt_g], []\n",
    "                 \n",
    "model = RenderToSurface(config)\n",
    "model"
   ]
  },
  {
   "cell_type": "code",
   "execution_count": 5,
   "metadata": {},
   "outputs": [
    {
     "name": "stderr",
     "output_type": "stream",
     "text": [
      "GPU available: True, used: True\n",
      "TPU available: False, using: 0 TPU cores\n",
      "IPU available: False, using: 0 IPUs\n",
      "LOCAL_RANK: 0 - CUDA_VISIBLE_DEVICES: [0]\n",
      "\n",
      "  | Name | Type      | Params\n",
      "-----------------------------------\n",
      "0 | G    | Generator | 1.0 M \n",
      "-----------------------------------\n",
      "1.0 M     Trainable params\n",
      "0         Non-trainable params\n",
      "1.0 M     Total params\n",
      "4.161     Total estimated model params size (MB)\n"
     ]
    },
    {
     "data": {
      "application/vnd.jupyter.widget-view+json": {
       "model_id": "caa7507eda6b48fbafec4a62971a252b",
       "version_major": 2,
       "version_minor": 0
      },
      "text/plain": [
       "HBox(children=(FloatProgress(value=1.0, bar_style='info', description='Training', layout=Layout(flex='2'), max…"
      ]
     },
     "metadata": {},
     "output_type": "display_data"
    },
    {
     "name": "stderr",
     "output_type": "stream",
     "text": [
      "Traceback (most recent call last):\n",
      "/home/bobi/miniconda3/envs/pytorch3d_05/lib/python3.8/site-packages/pytorch_lightning/trainer/trainer.py:1047: UserWarning:\n",
      "\n",
      "Detected KeyboardInterrupt, attempting graceful shutdown...\n",
      "\n"
     ]
    }
   ],
   "source": [
    "trainer = pl.Trainer(gpus=1, max_epochs=3000, #progress_bar_refresh_rate=5,\n",
    "                     #terminate_on_nan=True, \n",
    "                     #profiler=\"pytorch\",\n",
    "                     #log_every_n_steps=2, \n",
    "                     callbacks=[LogRenderSample(config)],\n",
    "                     precision=32,\n",
    "                     #resume_from_checkpoint=\"./lightning_logs/version_9/checkpoints/epoch=1999-step=23999.ckpt\"\n",
    "                    )\n",
    "trainer.fit(model, dm)"
   ]
  },
  {
   "cell_type": "code",
   "execution_count": null,
   "metadata": {},
   "outputs": [],
   "source": []
  }
 ],
 "metadata": {
  "kernelspec": {
   "display_name": "pytorch3d_05",
   "language": "python",
   "name": "pytorch3d_05"
  },
  "language_info": {
   "codemirror_mode": {
    "name": "ipython",
    "version": 3
   },
   "file_extension": ".py",
   "mimetype": "text/x-python",
   "name": "python",
   "nbconvert_exporter": "python",
   "pygments_lexer": "ipython3",
   "version": "3.8.11"
  }
 },
 "nbformat": 4,
 "nbformat_minor": 4
}
