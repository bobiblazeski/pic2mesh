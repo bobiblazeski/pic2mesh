{
 "cells": [
  {
   "cell_type": "code",
   "execution_count": 1,
   "metadata": {},
   "outputs": [],
   "source": [
    "import os\n",
    "from argparse import ArgumentParser\n",
    "\n",
    "\n"
   ]
  },
  {
   "cell_type": "code",
   "execution_count": 7,
   "metadata": {},
   "outputs": [
    {
     "data": {
      "text/plain": [
       "Namespace(D_act_name='Swish', D_filters=[3, 32, 64], D_num_outcomes=32, D_use_adaptive_reparam=True, D_use_spectral_norm=False, Dsteps=3, Gsteps=3, alpha=10, backbone='vgg11', beta1=0.5, dlatent_size=128, gamma=0.1, in_channel=3, ker_size=3, lambda_grad=0.1, lr_d=0.0005, lr_g=0.0005, manualSeed=None, max_size=250, min_nfc=32, min_size=25, nc_im=3, nc_z=3, netD='', netG='', nfc=32, niter=2000, noise_amp=0.1, not_cuda=0, num_layer=5, out='Output', out_channel=32, padd_size=0, scale_factor=0.75, stride=1)"
      ]
     },
     "execution_count": 7,
     "metadata": {},
     "output_type": "execute_result"
    }
   ],
   "source": [
    "import argparse\n",
    "\n",
    "from distutils.util import strtobool\n",
    "\n",
    "\n",
    "\n",
    "\n",
    "def get_parser():\n",
    "    parser = argparse.ArgumentParser()\n",
    "    \n",
    "    # Discriminator\n",
    "    parser.add_argument('--D_num_outcomes', help='No of discriminator outcomes', \n",
    "                        default=32)    \n",
    "    parser.add_argument('--D_filters', nargs='+', type=int, \n",
    "                        default=[3, 32, 64],\n",
    "                        help=\"Examples: -D_filters 3 32 64\")\n",
    "    parser.add_argument('--D_act_name', \n",
    "                        help='Discriminator activation name Swish or LeakyReLU',\n",
    "                        default='Swish')\n",
    "    parser.add_argument('--D_use_adaptive_reparam', dest='D_use_adaptive_reparam', \n",
    "                        default=True, type=lambda x: bool(strtobool(x)))\n",
    "    parser.add_argument('--D_use_spectral_norm', dest='D_use_spectral_norm', \n",
    "                        default=False, type=lambda x: bool(strtobool(x)))\n",
    "    \n",
    "    # Stylist\n",
    "    parser.add_argument('--backbone', default='vgg11')\n",
    "    \n",
    "    # Generator\n",
    "    parser.add_argument('--dlatent_size', type=int, default=128)\n",
    "    parser.add_argument('--in_channel', type=int, default=3)\n",
    "    parser.add_argument('--out_channel',type=int,help='kernel size',default=32)\n",
    "    \n",
    "    \n",
    "    #networks hyper parameters:\n",
    "    parser.add_argument('--nfc', type=int, default=32)\n",
    "    parser.add_argument('--min_nfc', type=int, default=32)\n",
    "    parser.add_argument('--ker_size',type=int,help='kernel size',default=3)\n",
    "    parser.add_argument('--num_layer',type=int,help='number of layers',default=5)\n",
    "    parser.add_argument('--stride',help='stride',default=1)\n",
    "    parser.add_argument('--padd_size',type=int,help='net pad size',default=0)#math.floor(opt.ker_size/2)\n",
    "    \n",
    "    #parser.add_argument('--mode', help='task to be done', default='train')\n",
    "    #workspace:\n",
    "    parser.add_argument('--not_cuda', action='store_true', help='disables cuda', default=0)\n",
    "    \n",
    "    #load, input, save configurations:\n",
    "    parser.add_argument('--netG', default='', help=\"path to netG (to continue training)\")\n",
    "    parser.add_argument('--netD', default='', help=\"path to netD (to continue training)\")\n",
    "    parser.add_argument('--manualSeed', type=int, help='manual seed')\n",
    "    parser.add_argument('--nc_z',type=int,help='noise # channels',default=3)\n",
    "    parser.add_argument('--nc_im',type=int,help='image # channels',default=3)\n",
    "    parser.add_argument('--out',help='output folder',default='Output')\n",
    "        \n",
    "    #pyramid parameters:\n",
    "    parser.add_argument('--scale_factor',type=float,help='pyramid scale factor',default=0.75)#pow(0.5,1/6))\n",
    "    parser.add_argument('--noise_amp',type=float,help='addative noise cont weight',default=0.1)\n",
    "    parser.add_argument('--min_size',type=int,help='image minimal size at the coarser scale',default=25)\n",
    "    parser.add_argument('--max_size', type=int,help='image minimal size at the coarser scale', default=250)\n",
    "\n",
    "    #optimization hyper parameters:\n",
    "    parser.add_argument('--niter', type=int, default=2000, help='number of epochs to train per scale')\n",
    "    parser.add_argument('--gamma',type=float,help='scheduler gamma',default=0.1)\n",
    "    parser.add_argument('--lr_g', type=float, default=0.0005, help='learning rate, default=0.0005')\n",
    "    parser.add_argument('--lr_d', type=float, default=0.0005, help='learning rate, default=0.0005')\n",
    "    parser.add_argument('--beta1', type=float, default=0.5, help='beta1 for adam. default=0.5')\n",
    "    parser.add_argument('--Gsteps',type=int, help='Generator inner steps',default=3)\n",
    "    parser.add_argument('--Dsteps',type=int, help='Discriminator inner steps',default=3)\n",
    "    parser.add_argument('--lambda_grad',type=float, help='gradient penelty weight',default=0.1)\n",
    "    parser.add_argument('--alpha',type=float, help='reconstruction loss weight',default=10)\n",
    "\n",
    "    \n",
    "    return parser\n",
    "\n",
    "parser  = get_parser()\n",
    "config = parser.parse_args(args=[])\n",
    "config"
   ]
  },
  {
   "cell_type": "code",
   "execution_count": 1,
   "metadata": {},
   "outputs": [
    {
     "data": {
      "text/plain": [
       "Namespace(D_act_name='Swish', D_filters=[3, 32, 64], D_num_outcomes=32, D_use_adaptive_reparam=True, D_use_spectral_norm=False, Dsteps=3, Gsteps=3, alpha=10, backbone='vgg11', beta1=0.5, dlatent_size=128, gamma=0.1, in_channel=3, ker_size=3, lambda_grad=0.1, lr_d=0.0005, lr_g=0.0005, manualSeed=None, max_size=250, min_nfc=32, min_size=25, nc_im=3, nc_z=3, netD='', netG='', nfc=32, niter=2000, noise_amp=0.1, not_cuda=0, num_layer=5, out='Output', out_channel=32, padd_size=0, scale_factor=0.75, stride=1)"
      ]
     },
     "execution_count": 1,
     "metadata": {},
     "output_type": "execute_result"
    }
   ],
   "source": [
    "from src.config import get_parser\n",
    "\n",
    "parser  = get_parser()\n",
    "config = parser.parse_args(args=[])\n",
    "config"
   ]
  },
  {
   "cell_type": "code",
   "execution_count": 2,
   "metadata": {},
   "outputs": [
    {
     "name": "stdout",
     "output_type": "stream",
     "text": [
      "Discriminator(\n",
      "  (model): Sequential(\n",
      "    (b0): DiscriminatorBlock(\n",
      "      (conv_res): Conv2d(3, 32, kernel_size=(1, 1), stride=(2, 2))\n",
      "      (net): Sequential(\n",
      "        (conv1): Conv2d(3, 32, kernel_size=(3, 3), stride=(1, 1), padding=(1, 1))\n",
      "        (act1): Swish()\n",
      "        (conv2): Conv2d(32, 32, kernel_size=(3, 3), stride=(1, 1), padding=(1, 1))\n",
      "        (act2): Swish()\n",
      "      )\n",
      "      (downsample): Conv2d(32, 32, kernel_size=(3, 3), stride=(2, 2), padding=(1, 1))\n",
      "    )\n",
      "    (b1): DiscriminatorBlock(\n",
      "      (conv_res): Conv2d(32, 64, kernel_size=(1, 1), stride=(1, 1))\n",
      "      (net): Sequential(\n",
      "        (conv1): Conv2d(32, 64, kernel_size=(3, 3), stride=(1, 1), padding=(1, 1))\n",
      "        (act1): Swish()\n",
      "        (conv2): Conv2d(64, 64, kernel_size=(3, 3), stride=(1, 1), padding=(1, 1))\n",
      "        (act2): Swish()\n",
      "      )\n",
      "    )\n",
      "    (avgpool): AdaptiveAvgPool2d(output_size=(1, 1))\n",
      "    (flatten): Flatten(start_dim=1, end_dim=-1)\n",
      "  )\n",
      "  (fc): Linear(in_features=64, out_features=32, bias=True)\n",
      "  (reparam): Linear(in_features=64, out_features=64, bias=False)\n",
      ")\n"
     ]
    },
    {
     "data": {
      "text/plain": [
       "torch.Size([1, 32])"
      ]
     },
     "execution_count": 2,
     "metadata": {},
     "output_type": "execute_result"
    }
   ],
   "source": [
    "from src.models.discriminator import Discriminator\n",
    "\n",
    "D = Discriminator(config)\n",
    "print(D)\n",
    "import torch\n",
    "D(torch.rand(1, 3, 32, 32)).shape"
   ]
  },
  {
   "cell_type": "code",
   "execution_count": 3,
   "metadata": {},
   "outputs": [
    {
     "name": "stdout",
     "output_type": "stream",
     "text": [
      "Generator(\n",
      "  (head): ModConvLayer(\n",
      "    (conv): EqualizedModConv2d(3, 32, 3, upsample=False, downsample=False)\n",
      "  )\n",
      "  (body): Sequential(\n",
      "    (block1): ConvBlock(\n",
      "      (conv): Conv2d(32, 32, kernel_size=(3, 3), stride=(1, 1))\n",
      "      (norm): BatchNorm2d(32, eps=1e-05, momentum=0.1, affine=True, track_running_stats=True)\n",
      "      (LeakyRelu): LeakyReLU(negative_slope=0.2, inplace=True)\n",
      "    )\n",
      "    (block2): ConvBlock(\n",
      "      (conv): Conv2d(32, 32, kernel_size=(3, 3), stride=(1, 1))\n",
      "      (norm): BatchNorm2d(32, eps=1e-05, momentum=0.1, affine=True, track_running_stats=True)\n",
      "      (LeakyRelu): LeakyReLU(negative_slope=0.2, inplace=True)\n",
      "    )\n",
      "    (block3): ConvBlock(\n",
      "      (conv): Conv2d(32, 32, kernel_size=(3, 3), stride=(1, 1))\n",
      "      (norm): BatchNorm2d(32, eps=1e-05, momentum=0.1, affine=True, track_running_stats=True)\n",
      "      (LeakyRelu): LeakyReLU(negative_slope=0.2, inplace=True)\n",
      "    )\n",
      "  )\n",
      "  (tail): Sequential(\n",
      "    (0): Conv2d(32, 3, kernel_size=(3, 3), stride=(1, 1))\n",
      "    (1): Tanh()\n",
      "  )\n",
      ")\n",
      "torch.Size([1, 3, 128, 128])\n",
      "torch.Size([1, 32, 128, 128])\n",
      "torch.Size([1, 32, 122, 122])\n",
      "torch.Size([1, 3, 120, 120])\n"
     ]
    },
    {
     "data": {
      "text/plain": [
       "torch.Size([1, 3, 120, 120])"
      ]
     },
     "execution_count": 3,
     "metadata": {},
     "output_type": "execute_result"
    }
   ],
   "source": [
    "from src.models.generator import Generator\n",
    "\n",
    "G = Generator(config)\n",
    "print(G)\n",
    "img = torch.rand(1, 3, 128, 128)\n",
    "style = torch.rand(1, config.dlatent_size)\n",
    "G(img, style).shape"
   ]
  },
  {
   "cell_type": "code",
   "execution_count": 4,
   "metadata": {},
   "outputs": [
    {
     "data": {
      "text/plain": [
       "'vgg11'"
      ]
     },
     "execution_count": 4,
     "metadata": {},
     "output_type": "execute_result"
    }
   ],
   "source": [
    "config.backbone"
   ]
  },
  {
   "cell_type": "code",
   "execution_count": 5,
   "metadata": {},
   "outputs": [
    {
     "name": "stdout",
     "output_type": "stream",
     "text": [
      "Stylist(\n",
      "  (features): Sequential(\n",
      "    (0): Conv2d(3, 64, kernel_size=(3, 3), stride=(1, 1), padding=(1, 1))\n",
      "    (1): BatchNorm2d(64, eps=1e-05, momentum=0.1, affine=True, track_running_stats=True)\n",
      "    (2): ReLU()\n",
      "    (3): MaxPool2d(kernel_size=2, stride=2, padding=0, dilation=1, ceil_mode=False)\n",
      "    (4): Conv2d(64, 128, kernel_size=(3, 3), stride=(1, 1), padding=(1, 1))\n",
      "    (5): BatchNorm2d(128, eps=1e-05, momentum=0.1, affine=True, track_running_stats=True)\n",
      "    (6): ReLU()\n",
      "    (7): MaxPool2d(kernel_size=2, stride=2, padding=0, dilation=1, ceil_mode=False)\n",
      "    (8): Conv2d(128, 256, kernel_size=(3, 3), stride=(1, 1), padding=(1, 1))\n",
      "    (9): BatchNorm2d(256, eps=1e-05, momentum=0.1, affine=True, track_running_stats=True)\n",
      "    (10): ReLU()\n",
      "    (11): Conv2d(256, 256, kernel_size=(3, 3), stride=(1, 1), padding=(1, 1))\n",
      "    (12): BatchNorm2d(256, eps=1e-05, momentum=0.1, affine=True, track_running_stats=True)\n",
      "    (13): ReLU()\n",
      "    (14): MaxPool2d(kernel_size=2, stride=2, padding=0, dilation=1, ceil_mode=False)\n",
      "    (15): Conv2d(256, 512, kernel_size=(3, 3), stride=(1, 1), padding=(1, 1))\n",
      "    (16): BatchNorm2d(512, eps=1e-05, momentum=0.1, affine=True, track_running_stats=True)\n",
      "    (17): ReLU()\n",
      "    (18): Conv2d(512, 512, kernel_size=(3, 3), stride=(1, 1), padding=(1, 1))\n",
      "    (19): BatchNorm2d(512, eps=1e-05, momentum=0.1, affine=True, track_running_stats=True)\n",
      "    (20): ReLU()\n",
      "    (21): MaxPool2d(kernel_size=2, stride=2, padding=0, dilation=1, ceil_mode=False)\n",
      "    (22): Conv2d(512, 512, kernel_size=(3, 3), stride=(1, 1), padding=(1, 1))\n",
      "    (23): BatchNorm2d(512, eps=1e-05, momentum=0.1, affine=True, track_running_stats=True)\n",
      "    (24): ReLU()\n",
      "    (25): Conv2d(512, 512, kernel_size=(3, 3), stride=(1, 1), padding=(1, 1))\n",
      "    (26): BatchNorm2d(512, eps=1e-05, momentum=0.1, affine=True, track_running_stats=True)\n",
      "    (27): ReLU()\n",
      "    (28): MaxPool2d(kernel_size=2, stride=2, padding=0, dilation=1, ceil_mode=False)\n",
      "  )\n",
      "  (cont): Linear(in_features=512, out_features=128, bias=True)\n",
      ")\n"
     ]
    },
    {
     "data": {
      "text/plain": [
       "torch.Size([1, 128])"
      ]
     },
     "execution_count": 5,
     "metadata": {},
     "output_type": "execute_result"
    }
   ],
   "source": [
    "from src.models.stylist import Stylist\n",
    "\n",
    "S = Stylist(config)\n",
    "print(S)\n",
    "S(torch.rand(1, 3, 64, 64)).shape"
   ]
  },
  {
   "cell_type": "code",
   "execution_count": null,
   "metadata": {},
   "outputs": [],
   "source": []
  },
  {
   "cell_type": "code",
   "execution_count": null,
   "metadata": {},
   "outputs": [],
   "source": []
  }
 ],
 "metadata": {
  "kernelspec": {
   "display_name": "pytorch3d_0.3",
   "language": "python",
   "name": "pytorch3d_0.3"
  },
  "language_info": {
   "codemirror_mode": {
    "name": "ipython",
    "version": 3
   },
   "file_extension": ".py",
   "mimetype": "text/x-python",
   "name": "python",
   "nbconvert_exporter": "python",
   "pygments_lexer": "ipython3",
   "version": "3.8.5"
  }
 },
 "nbformat": 4,
 "nbformat_minor": 4
}
