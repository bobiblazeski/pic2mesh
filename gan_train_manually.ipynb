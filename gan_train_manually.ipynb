{
 "cells": [
  {
   "cell_type": "code",
   "execution_count": 3,
   "metadata": {},
   "outputs": [],
   "source": [
    "import torch\n",
    "from torchvision import transforms\n",
    "from torchvision.datasets import ImageFolder\n",
    "from torch.utils.data import DataLoader\n",
    "\n",
    "from src.data.data_util import (\n",
    "    pyramid_transform, \n",
    "    calculate_mean_std,\n",
    "    loader_generator,\n",
    ")\n",
    "from src.data.masked_dataset import MaskedDataset\n",
    "from src.config import get_parser\n",
    "\n",
    "from src.models.stylist import Stylist\n",
    "from src.models.generator import Generator\n",
    "from src.models.discriminator import Discriminator\n",
    "from src.render.mesh_renderer import MeshPointsRenderer\n",
    "from src.utilities.util import grid_to_list\n",
    "# itr = iter(loader)\n",
    "# for i in range(len(loader)):\n",
    "#     batch = next(itr)\n",
    "#     print(i)\n",
    "\n",
    "mean = 0.1834\n",
    "std = 0.2670"
   ]
  },
  {
   "cell_type": "code",
   "execution_count": 4,
   "metadata": {},
   "outputs": [
    {
     "name": "stdout",
     "output_type": "stream",
     "text": [
      "torch.Size([16, 3, 512, 512])\n"
     ]
    },
    {
     "data": {
      "text/plain": [
       "torch.Size([16, 3, 128, 128])"
      ]
     },
     "execution_count": 4,
     "metadata": {},
     "output_type": "execute_result"
    }
   ],
   "source": [
    "config = get_parser().parse_args(args=[])\n",
    "\n",
    "config.batch_size = 8# + 128\n",
    "config.blueprint = 'blueprint_16_512.npz'\n",
    "#config.blueprint = 'vezuvio255.npz'\n",
    "\n",
    "#config.blueprint = 'blueprint_noise_1_512.npz'\n",
    "config.data_blueprint_size = 128\n",
    "config.data_blueprint_coarse =  128\n",
    "config.data_patch_size = 128\n",
    "config.lr_g = 0.01\n",
    "config.log_mesh_interval = 1\n",
    "\n",
    "# config.ker_size = 5\n",
    "# config.stride = 1\n",
    "# config.padd_size = 2\n",
    "config.latent_size = 32\n",
    "\n",
    "pts_ds = MaskedDataset(config)\n",
    "pts_ds.points.shape"
   ]
  },
  {
   "cell_type": "code",
   "execution_count": 5,
   "metadata": {},
   "outputs": [
    {
     "name": "stdout",
     "output_type": "stream",
     "text": [
      "cuda\n"
     ]
    },
    {
     "data": {
      "text/plain": [
       "torch.Size([8, 3, 128, 128])"
      ]
     },
     "execution_count": 5,
     "metadata": {},
     "output_type": "execute_result"
    }
   ],
   "source": [
    "device = torch.device(\"cuda\")\n",
    "print(device)\n",
    "\n",
    "pts =  pts_ds.points[:config.batch_size].to(device)\n",
    "pts.shape"
   ]
  },
  {
   "cell_type": "code",
   "execution_count": 7,
   "metadata": {},
   "outputs": [
    {
     "data": {
      "text/plain": [
       "(torch.Size([8, 1, 128, 128]),\n",
       " torch.Size([8, 1, 64, 64]),\n",
       " torch.Size([8, 1, 32, 32]))"
      ]
     },
     "execution_count": 7,
     "metadata": {},
     "output_type": "execute_result"
    }
   ],
   "source": [
    "root = '/home/bobi/Desktop/db/ffhq-dataset/thumbnails'\n",
    "ds = ImageFolder(root, transform=pyramid_transform(mean, std))\n",
    "loader = DataLoader(ds, batch_size=config.batch_size, shuffle=True)\n",
    "res = next(iter(loader))\n",
    "res[0]['large'].shape, res[0]['medium'].shape, res[0]['small'].shape"
   ]
  },
  {
   "cell_type": "code",
   "execution_count": 8,
   "metadata": {},
   "outputs": [
    {
     "data": {
      "text/plain": [
       "<function src.data.data_util.pyramid_transform.<locals>.final_transform(img)>"
      ]
     },
     "execution_count": 8,
     "metadata": {},
     "output_type": "execute_result"
    }
   ],
   "source": [
    "ds.transform"
   ]
  },
  {
   "cell_type": "code",
   "execution_count": 38,
   "metadata": {},
   "outputs": [
    {
     "data": {
      "text/plain": [
       "Stylist(\n",
       "  (features): Sequential(\n",
       "    (0): Conv2d(1, 64, kernel_size=(3, 3), stride=(1, 1), padding=(1, 1))\n",
       "    (1): BatchNorm2d(64, eps=1e-05, momentum=0.1, affine=True, track_running_stats=True)\n",
       "    (2): ReLU()\n",
       "    (3): MaxPool2d(kernel_size=2, stride=2, padding=0, dilation=1, ceil_mode=False)\n",
       "    (4): Conv2d(64, 128, kernel_size=(3, 3), stride=(1, 1), padding=(1, 1))\n",
       "    (5): BatchNorm2d(128, eps=1e-05, momentum=0.1, affine=True, track_running_stats=True)\n",
       "    (6): ReLU()\n",
       "    (7): MaxPool2d(kernel_size=2, stride=2, padding=0, dilation=1, ceil_mode=False)\n",
       "    (8): Conv2d(128, 256, kernel_size=(3, 3), stride=(1, 1), padding=(1, 1))\n",
       "    (9): BatchNorm2d(256, eps=1e-05, momentum=0.1, affine=True, track_running_stats=True)\n",
       "    (10): ReLU()\n",
       "    (11): Conv2d(256, 256, kernel_size=(3, 3), stride=(1, 1), padding=(1, 1))\n",
       "    (12): BatchNorm2d(256, eps=1e-05, momentum=0.1, affine=True, track_running_stats=True)\n",
       "    (13): ReLU()\n",
       "    (14): MaxPool2d(kernel_size=2, stride=2, padding=0, dilation=1, ceil_mode=False)\n",
       "  )\n",
       "  (cont): Linear(in_features=256, out_features=32, bias=True)\n",
       ")"
      ]
     },
     "execution_count": 38,
     "metadata": {},
     "output_type": "execute_result"
    }
   ],
   "source": [
    "stylist =  Stylist(config).to(device)\n",
    "stylist"
   ]
  },
  {
   "cell_type": "code",
   "execution_count": 39,
   "metadata": {},
   "outputs": [
    {
     "data": {
      "text/plain": [
       "Generator(\n",
       "  (head): ConvBlock(\n",
       "    (conv): Conv2d(3, 256, kernel_size=(3, 3), stride=(1, 1), padding=(1, 1))\n",
       "    (norm): BatchNorm2d(256, eps=1e-05, momentum=0.1, affine=True, track_running_stats=True)\n",
       "    (LeakyRelu): LeakyReLU(negative_slope=0.2, inplace=True)\n",
       "  )\n",
       "  (b1): GenBlock(\n",
       "    (mod_conv): ModulateConvBlock(\n",
       "      (style): DenseBlock(\n",
       "        (fc): Linear(in_features=32, out_features=256, bias=False)\n",
       "        (activate): Identity()\n",
       "      )\n",
       "      (activate): LeakyReLU(negative_slope=0.2, inplace=True)\n",
       "    )\n",
       "    (conv1): ConvBlock(\n",
       "      (conv): Conv2d(256, 256, kernel_size=(3, 3), stride=(1, 1), padding=(1, 1))\n",
       "      (norm): BatchNorm2d(256, eps=1e-05, momentum=0.1, affine=True, track_running_stats=True)\n",
       "      (LeakyRelu): LeakyReLU(negative_slope=0.2, inplace=True)\n",
       "    )\n",
       "    (conv2): ConvBlock(\n",
       "      (conv): Conv2d(256, 256, kernel_size=(3, 3), stride=(1, 1), padding=(1, 1))\n",
       "      (norm): BatchNorm2d(256, eps=1e-05, momentum=0.1, affine=True, track_running_stats=True)\n",
       "      (LeakyRelu): LeakyReLU(negative_slope=0.2, inplace=True)\n",
       "    )\n",
       "    (to_points): Conv2d(256, 3, kernel_size=(3, 3), stride=(1, 1), padding=(1, 1))\n",
       "    (pool): AvgPool2d(kernel_size=4, stride=4, padding=0)\n",
       "  )\n",
       ")"
      ]
     },
     "execution_count": 39,
     "metadata": {},
     "output_type": "execute_result"
    }
   ],
   "source": [
    "generator = Generator(config).to(device)\n",
    "generator"
   ]
  },
  {
   "cell_type": "code",
   "execution_count": 47,
   "metadata": {},
   "outputs": [
    {
     "data": {
      "text/plain": [
       "MeshPointsRenderer(\n",
       "  (vrt_nrm): VertexNormals: size: 128 path: ./data/trimap_128.pth\n",
       "  (renderer): MeshRenderer(\n",
       "    (rasterizer): MeshRasterizer(\n",
       "      (cameras): FoVPerspectiveCameras()\n",
       "    )\n",
       "    (shader): SoftPhongShader(\n",
       "      (lights): PointLights()\n",
       "      (materials): Materials()\n",
       "      (cameras): FoVPerspectiveCameras()\n",
       "    )\n",
       "  )\n",
       ")"
      ]
     },
     "execution_count": 47,
     "metadata": {},
     "output_type": "execute_result"
    }
   ],
   "source": [
    "mesh_renderer = MeshPointsRenderer(config).to(device)\n",
    "mesh_renderer.setup(device)   \n",
    "mesh_renderer"
   ]
  },
  {
   "cell_type": "code",
   "execution_count": 41,
   "metadata": {
    "scrolled": true
   },
   "outputs": [
    {
     "name": "stdout",
     "output_type": "stream",
     "text": [
      "torch.Size([8, 1, 128, 128])\n",
      "torch.Size([8, 32])\n"
     ]
    },
    {
     "data": {
      "text/plain": [
       "torch.Size([8, 3, 128, 128])"
      ]
     },
     "execution_count": 41,
     "metadata": {},
     "output_type": "execute_result"
    }
   ],
   "source": [
    "batch, _ = next(iter(loader))\n",
    "image = batch['large'].to(device)\n",
    "print(image.shape)\n",
    "style = stylist(image)\n",
    "print(style.shape)\n",
    "\n",
    "pts = generator(pts, style)\n",
    "pts.shape"
   ]
  },
  {
   "cell_type": "code",
   "execution_count": 75,
   "metadata": {},
   "outputs": [
    {
     "name": "stdout",
     "output_type": "stream",
     "text": [
      "torch.Size([8, 1, 128, 128])\n",
      "torch.Size([8, 1, 128, 128])\n"
     ]
    }
   ],
   "source": [
    "images = mesh_renderer(grid_to_list(pts))\n",
    "images = images[..., :3].mean(-1, keepdim=True).permute(0, 3, 1, 2)\n",
    "print(images.shape)\n",
    "images = (images - mean) / std\n",
    "print(images.shape)"
   ]
  },
  {
   "cell_type": "code",
   "execution_count": null,
   "metadata": {},
   "outputs": [],
   "source": [
    "for batch_no, (batch, _) in enumerate(loader):\n",
    "    image = batch['image'].to(device)\n",
    "    style = stylist(image)\n",
    "    "
   ]
  },
  {
   "cell_type": "code",
   "execution_count": 70,
   "metadata": {},
   "outputs": [
    {
     "data": {
      "image/png": "[encoded data removed]",
      "text/plain": [
       "<Figure size 720x720 with 1 Axes>"
      ]
     },
     "metadata": {
      "needs_background": "light"
     },
     "output_type": "display_data"
    }
   ],
   "source": [
    "import matplotlib.pyplot as plt\n",
    "\n",
    "images = mesh_renderer(grid_to_list(pts))\n",
    "plt.figure(figsize=(10, 10))\n",
    "plt.imshow(images[0, ..., :3].detach().cpu().numpy())\n",
    "plt.grid(\"off\");\n",
    "plt.axis(\"off\");\n"
   ]
  },
  {
   "cell_type": "code",
   "execution_count": 71,
   "metadata": {},
   "outputs": [
    {
     "data": {
      "image/png": "[encoded data removed]",
      "text/plain": [
       "<Figure size 720x720 with 1 Axes>"
      ]
     },
     "metadata": {
      "needs_background": "light"
     },
     "output_type": "display_data"
    }
   ],
   "source": [
    "import matplotlib.pyplot as plt\n",
    "\n",
    "images = mesh_renderer(grid_to_list(pts))\n",
    "plt.figure(figsize=(10, 10))\n",
    "plt.imshow(images[0, ..., :3].mean(-1).detach().cpu().numpy())\n",
    "plt.grid(\"off\");\n",
    "plt.axis(\"off\");"
   ]
  },
  {
   "cell_type": "code",
   "execution_count": null,
   "metadata": {},
   "outputs": [],
   "source": []
  }
 ],
 "metadata": {
  "kernelspec": {
   "display_name": "pytorch3d_0.3",
   "language": "python",
   "name": "pytorch3d_0.3"
  },
  "language_info": {
   "codemirror_mode": {
    "name": "ipython",
    "version": 3
   },
   "file_extension": ".py",
   "mimetype": "text/x-python",
   "name": "python",
   "nbconvert_exporter": "python",
   "pygments_lexer": "ipython3",
   "version": "3.8.5"
  }
 },
 "nbformat": 4,
 "nbformat_minor": 4
}
