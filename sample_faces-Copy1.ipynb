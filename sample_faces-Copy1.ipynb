{
 "cells": [
  {
   "cell_type": "code",
   "execution_count": 1,
   "metadata": {},
   "outputs": [],
   "source": [
    "from collections import OrderedDict\n",
    "\n",
    "import numpy as np\n",
    "import trimesh\n",
    "import open3d as o3d\n",
    "import torch\n",
    "import os\n",
    "import glob\n",
    "\n",
    "\n",
    "from src.polar_traversal import gather_all_paths, sample_all_paths\n",
    "\n",
    "np.set_printoptions(precision=4, suppress=True)\n",
    "torch.set_printoptions(precision=4, sci_mode=False)"
   ]
  },
  {
   "cell_type": "code",
   "execution_count": 2,
   "metadata": {},
   "outputs": [
    {
     "name": "stdout",
     "output_type": "stream",
     "text": [
      "12 ./data/centered_3.stl\n",
      "1024\n"
     ]
    },
    {
     "data": {
      "text/plain": [
       "((512, 512, 3), (512, 512, 3))"
      ]
     },
     "execution_count": 2,
     "metadata": {},
     "output_type": "execute_result"
    }
   ],
   "source": [
    "stl_dir = \"./data/face_stl/\"\n",
    "stls = [os.path.join(stl_dir, f) \n",
    "        for f in os.listdir(stl_dir) \n",
    "        if f.endswith(\".stl\")]\n",
    "\n",
    "stls.sort()\n",
    "# Problems 26, 45, 69\n",
    "idx = 12\n",
    "file_name = stls[idx]\n",
    "\n",
    "file_name = './data/centered_3.stl'\n",
    "print(idx, file_name)\n",
    "\n",
    "s_no =  512\n",
    "latitudes_num = s_no * 2\n",
    "paths = gather_all_paths(file_name, latitudes_num)\n",
    "print(len(paths))\n",
    "\n",
    "samples_num = s_no // 2\n",
    "samples = sample_all_paths(paths, samples_num)\n",
    "vertices, normals = samples\n",
    "vertices.shape, normals.shape"
   ]
  },
  {
   "cell_type": "code",
   "execution_count": null,
   "metadata": {},
   "outputs": [],
   "source": [
    "points = vertices.reshape(-1, 3)\n",
    "pcd = o3d.geometry.PointCloud()\n",
    "pcd.points = o3d.utility.Vector3dVector(points)    \n",
    "o3d.visualization.draw_geometries([pcd])"
   ]
  },
  {
   "cell_type": "code",
   "execution_count": null,
   "metadata": {},
   "outputs": [],
   "source": [
    "torch.cat((torch.tensor(vertices), \n",
    "             torch.tensor(normals)), dim=-1).shape"
   ]
  },
  {
   "cell_type": "code",
   "execution_count": null,
   "metadata": {},
   "outputs": [],
   "source": [
    "blueprint = OrderedDict({\n",
    "    'vertices': torch.tensor(vertices).permute(2, 0, 1)[None].float(),\n",
    "    'normals': torch.tensor(normals).permute(2, 0, 1)[None].float(),\n",
    "})\n",
    "torch.save(blueprint, './data/blueprint.pt')"
   ]
  },
  {
   "cell_type": "code",
   "execution_count": null,
   "metadata": {
    "scrolled": true
   },
   "outputs": [],
   "source": [
    "blueprint = torch.load('./data/blueprint.pt')\n",
    "blueprint['vertices'].shape, blueprint['normals'].shape"
   ]
  },
  {
   "cell_type": "code",
   "execution_count": null,
   "metadata": {},
   "outputs": [],
   "source": [
    "from src.renderer import Renderer\n",
    "from src.config import get_parser\n",
    "\n",
    "device =  torch.device(\"cuda\")\n",
    "\n",
    "parser  = get_parser()\n",
    "opt = parser.parse_args(args=[])\n",
    "opt\n",
    "\n",
    "renderer = Renderer(opt).to(device)\n",
    "renderer"
   ]
  },
  {
   "cell_type": "code",
   "execution_count": null,
   "metadata": {},
   "outputs": [],
   "source": [
    "from pytorch3d.ops import sample_points_from_meshes\n",
    "\n",
    "\n",
    "from pytorch3d.structures import (\n",
    "    Pointclouds,\n",
    "    Meshes,\n",
    ")\n",
    "from pytorch3d.io import load_obj\n",
    "from pytorch3d.renderer import (\n",
    "    FoVOrthographicCameras, \n",
    "    FoVPerspectiveCameras, look_at_view_transform, look_at_rotation,\n",
    "    RasterizationSettings, MeshRenderer, MeshRasterizer, BlendParams,\n",
    "    SoftSilhouetteShader, HardPhongShader, PointLights, TexturesVertex,\n",
    ")\n",
    "\n",
    "# Set the cuda device\n",
    "device = torch.device(\"cuda:0\")\n",
    "torch.cuda.set_device(device)\n",
    "\n",
    "# Load the obj and ignore the textures and materials.\n",
    "verts, faces_idx, _ =  load_obj(\"./data/teapot.obj\")\n",
    "faces = faces_idx.verts_idx\n",
    "\n",
    "# Initialize each vertex to be white in color.\n",
    "verts_rgb = torch.ones_like(verts)[None] # (1, V, 3)\n",
    "textures =  TexturesVertex(verts_features=verts_rgb.to(device))\n",
    "\n",
    "# Create a Meshes object for the teapot. Here we have only one mesh in the batch\n",
    "teapot_mesh = Meshes(\n",
    "    verts=[verts.to(device)],\n",
    "    faces=[faces.to(device)],\n",
    "    textures=textures,\n",
    ")\n",
    "teapot_mesh\n",
    "\n",
    "n_points = 1000000\n",
    "vertices, normals = sample_points_from_meshes(teapot_mesh, \n",
    "    n_points, return_normals=True)\n",
    "\n",
    "vertices =  vertices[0].to(device)\n",
    "normals =  normals[0].to(device)\n",
    "\n",
    "rgb = torch.ones((n_points, 4), device=device) - 0.3\n",
    "\n",
    "point_cloud = Pointclouds(points=[vertices], \n",
    "                          normals=[normals],\n",
    "                          features=[rgb],)\n",
    "\n",
    "\n",
    "import matplotlib.pyplot as plt\n",
    "\n",
    "images =  renderer(point_cloud)\n",
    "plt.figure(figsize=(10, 10))\n",
    "plt.imshow(images[0, ..., :3].cpu().numpy())\n",
    "plt.grid(\"off\")\n",
    "plt.axis(\"off\");"
   ]
  },
  {
   "cell_type": "code",
   "execution_count": null,
   "metadata": {},
   "outputs": [],
   "source": [
    "from src.util import make_faces\n",
    "\n",
    "blueprint = torch.load('./data/blueprint.pt')\n",
    "blueprint['vertices'].shape, blueprint['normals'].shape"
   ]
  },
  {
   "cell_type": "code",
   "execution_count": null,
   "metadata": {},
   "outputs": [],
   "source": [
    "w, h, _ = blueprint['vertices'].shape\n",
    "faces = make_faces(w, h)\n",
    "faces.shape"
   ]
  },
  {
   "cell_type": "code",
   "execution_count": null,
   "metadata": {},
   "outputs": [],
   "source": [
    "from pytorch3d.structures import Meshes\n",
    "\n",
    "verts = blueprint['vertices'].reshape(-1, 3)\n",
    "faces_idx = torch.tensor(faces)\n",
    "mesh = Meshes(verts=[verts], faces=[faces_idx])\n",
    "mesh"
   ]
  },
  {
   "cell_type": "code",
   "execution_count": null,
   "metadata": {},
   "outputs": [],
   "source": [
    "norms = mesh.faces_normals_list()[0]\n",
    "norms.shape"
   ]
  },
  {
   "cell_type": "code",
   "execution_count": null,
   "metadata": {},
   "outputs": [],
   "source": [
    "blueprint['normals'].reshape(-1, 3).shape"
   ]
  },
  {
   "cell_type": "code",
   "execution_count": null,
   "metadata": {},
   "outputs": [],
   "source": [
    "verts_normals = mesh.verts_normals_list()[0]\n",
    "verts_normals.shape"
   ]
  },
  {
   "cell_type": "code",
   "execution_count": null,
   "metadata": {
    "scrolled": true
   },
   "outputs": [],
   "source": [
    "norms = mesh.faces_normals_list()[0]\n",
    "norms.shape"
   ]
  },
  {
   "cell_type": "code",
   "execution_count": null,
   "metadata": {},
   "outputs": [],
   "source": []
  },
  {
   "cell_type": "code",
   "execution_count": null,
   "metadata": {
    "scrolled": false
   },
   "outputs": [],
   "source": [
    "import matplotlib.pyplot as plt\n",
    "\n",
    "images =  renderer(pt_cloud)\n",
    "plt.figure(figsize=(10, 10))\n",
    "plt.imshow(images[0, ..., :3].cpu().numpy())\n",
    "plt.grid(\"off\")\n",
    "plt.axis(\"off\");"
   ]
  },
  {
   "cell_type": "code",
   "execution_count": null,
   "metadata": {},
   "outputs": [],
   "source": [
    "vertices.dtype,normals, rgb"
   ]
  },
  {
   "cell_type": "code",
   "execution_count": null,
   "metadata": {
    "scrolled": false
   },
   "outputs": [],
   "source": [
    "mesh_1 = trimesh.Trimesh(vertices=verts_p.cpu(), faces=faces)\n",
    "mesh_1.show()"
   ]
  },
  {
   "cell_type": "code",
   "execution_count": null,
   "metadata": {},
   "outputs": [],
   "source": []
  },
  {
   "cell_type": "code",
   "execution_count": null,
   "metadata": {},
   "outputs": [],
   "source": [
    "file = stls[idx].split('/')[-1].replace('.stl', '.npz')\n",
    "np.savez_compressed('./data/512/'+file, samples=samples)"
   ]
  },
  {
   "cell_type": "code",
   "execution_count": null,
   "metadata": {},
   "outputs": [],
   "source": [
    "latitudes_num = 1024\n",
    "samples_num = 256\n",
    "\n",
    "for idx, stl in enumerate(stls):\n",
    "    print(idx, stl)\n",
    "    file_name = stls[idx]\n",
    "    print(idx, file_name)    \n",
    "    paths = gather_all_paths(file_name, latitudes_num)\n",
    "    samples = sample_all_paths(paths, samples_num)\n",
    "    file = file_name.split('/')[-1].replace('.stl', '.npz')\n",
    "    np.savez_compressed('./data/512/'+file, samples=samples)"
   ]
  },
  {
   "cell_type": "code",
   "execution_count": null,
   "metadata": {
    "scrolled": false
   },
   "outputs": [],
   "source": [
    "len(paths[100])"
   ]
  },
  {
   "cell_type": "code",
   "execution_count": null,
   "metadata": {},
   "outputs": [],
   "source": []
  }
 ],
 "metadata": {
  "kernelspec": {
   "display_name": "pytorch3d_0.3",
   "language": "python",
   "name": "pytorch3d_0.3"
  },
  "language_info": {
   "codemirror_mode": {
    "name": "ipython",
    "version": 3
   },
   "file_extension": ".py",
   "mimetype": "text/x-python",
   "name": "python",
   "nbconvert_exporter": "python",
   "pygments_lexer": "ipython3",
   "version": "3.8.5"
  }
 },
 "nbformat": 4,
 "nbformat_minor": 4
}
