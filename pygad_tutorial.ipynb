{
 "cells": [
  {
   "cell_type": "code",
   "execution_count": 1,
   "metadata": {},
   "outputs": [
    {
     "name": "stderr",
     "output_type": "stream",
     "text": [
      "/home/bobi/miniconda3/envs/pytorch3d_05/lib/python3.8/site-packages/pygad/pygad.py:469: UserWarning: The percentage of genes to mutate (mutation_percent_genes=10) resutled in selecting (0) genes. The number of genes to mutate is set to 1 (mutation_num_genes=1).\n",
      "If you do not want to mutate any gene, please set mutation_type=None.\n",
      "  if not self.suppress_warnings: warnings.warn(\"The percentage of genes to mutate (mutation_percent_genes={mutation_percent}) resutled in selecting ({mutation_num}) genes. The number of genes to mutate is set to 1 (mutation_num_genes=1).\\nIf you do not want to mutate any gene, please set mutation_type=None.\".format(mutation_percent=mutation_percent_genes, mutation_num=mutation_num_genes))\n"
     ]
    },
    {
     "data": {
      "text/plain": [
       "<pygad.pygad.GA at 0x7fc2045493d0>"
      ]
     },
     "execution_count": 1,
     "metadata": {},
     "output_type": "execute_result"
    }
   ],
   "source": [
    "import pygad\n",
    "\n",
    "def fitness_function(solution, solution_idx):\n",
    "    return sum(solution)\n",
    "\n",
    "ga_instance = pygad.GA(num_generations=1,\n",
    "                      num_parents_mating=2,\n",
    "                      sol_per_pop=3,\n",
    "                      num_genes=4,\n",
    "                      fitness_func=fitness_function,\n",
    "                      init_range_low=5,\n",
    "                      init_range_high=15)\n",
    "\n",
    "ga_instance"
   ]
  },
  {
   "cell_type": "code",
   "execution_count": 2,
   "metadata": {},
   "outputs": [
    {
     "data": {
      "text/plain": [
       "array([[ 6.17476802, 12.37934286,  7.37122265,  8.34064756],\n",
       "       [ 6.47781378, 14.52047552,  7.94759933,  7.76714504],\n",
       "       [ 7.98449481, 14.24995264,  5.55967965, 11.39658074]])"
      ]
     },
     "execution_count": 2,
     "metadata": {},
     "output_type": "execute_result"
    }
   ],
   "source": [
    "ga_instance.initial_population"
   ]
  },
  {
   "cell_type": "code",
   "execution_count": 3,
   "metadata": {},
   "outputs": [
    {
     "data": {
      "text/plain": [
       "(array([2.42270903, 3.16989955, 4.7749829 , 1.84912199]),\n",
       " 12.216713477106108,\n",
       " 0)"
      ]
     },
     "execution_count": 3,
     "metadata": {},
     "output_type": "execute_result"
    }
   ],
   "source": [
    "ga_instance = pygad.GA(num_generations=10, \n",
    "                      num_parents_mating=2,\n",
    "                      sol_per_pop=3,\n",
    "                      num_genes=4,\n",
    "                      fitness_func=fitness_function,\n",
    "                      mutation_percent_genes=50,\n",
    "                      init_range_low=1,\n",
    "                      init_range_high=3)\n",
    "ga_instance.run()\n",
    "solution, solution_fitness, solution_idx = ga_instance.best_solution()\n",
    "solution, solution_fitness, solution_idx"
   ]
  },
  {
   "cell_type": "code",
   "execution_count": 4,
   "metadata": {},
   "outputs": [
    {
     "data": {
      "text/plain": [
       "array([[2, 2, 1, 2],\n",
       "       [1, 1, 1, 2],\n",
       "       [2, 1, 2, 2]])"
      ]
     },
     "execution_count": 4,
     "metadata": {},
     "output_type": "execute_result"
    }
   ],
   "source": [
    "ga_instance = pygad.GA(num_generations=10,\n",
    "                      num_parents_mating=2,\n",
    "                      sol_per_pop=3,\n",
    "                      num_genes=4,\n",
    "                      fitness_func=fitness_function,\n",
    "                      init_range_low=1,\n",
    "                      init_range_high=3,\n",
    "                      gene_type=int)\n",
    "ga_instance.initial_population"
   ]
  },
  {
   "cell_type": "code",
   "execution_count": 5,
   "metadata": {},
   "outputs": [
    {
     "data": {
      "text/plain": [
       "array([[5, 7, 6, 9, 8, 7, 8, 6, 6, 7],\n",
       "       [9, 9, 6, 9, 8, 9, 5, 5, 6, 8],\n",
       "       [5, 7, 7, 8, 7, 5, 8, 5, 8, 6]])"
      ]
     },
     "execution_count": 5,
     "metadata": {},
     "output_type": "execute_result"
    }
   ],
   "source": [
    "ga_instance = pygad.GA(num_generations=10,\n",
    "                      num_parents_mating=2,\n",
    "                      sol_per_pop=3,\n",
    "                      num_genes=10,\n",
    "                      fitness_func=fitness_function,\n",
    "                      init_range_low=5,\n",
    "                      init_range_high=10,\n",
    "                      gene_type=int)\n",
    "ga_instance.initial_population"
   ]
  },
  {
   "cell_type": "code",
   "execution_count": 7,
   "metadata": {},
   "outputs": [],
   "source": [
    "ga_instance = pygad.GA(num_generations=1000,\n",
    "                      num_parents_mating=2,\n",
    "                      sol_per_pop=3,\n",
    "                      num_genes=4,\n",
    "                      fitness_func=fitness_function,\n",
    "                      init_range_low=5,\n",
    "                      init_range_high=10, \n",
    "                      random_mutation_min_val=5,\n",
    "                      random_mutation_max_val=10,\n",
    "                      mutation_by_replacement=True,)"
   ]
  },
  {
   "cell_type": "code",
   "execution_count": 8,
   "metadata": {},
   "outputs": [
    {
     "data": {
      "text/plain": [
       "array([[7.24934101, 6.77396058, 9.49804284, 5.0890842 ],\n",
       "       [6.20745228, 7.5014528 , 9.52891025, 5.57887344],\n",
       "       [7.44401145, 5.92983879, 9.6040048 , 8.9782091 ]])"
      ]
     },
     "execution_count": 8,
     "metadata": {},
     "output_type": "execute_result"
    }
   ],
   "source": [
    "ga_instance.population"
   ]
  },
  {
   "cell_type": "code",
   "execution_count": null,
   "metadata": {},
   "outputs": [],
   "source": []
  }
 ],
 "metadata": {
  "kernelspec": {
   "display_name": "pytorch3d_05",
   "language": "python",
   "name": "pytorch3d_05"
  },
  "language_info": {
   "codemirror_mode": {
    "name": "ipython",
    "version": 3
   },
   "file_extension": ".py",
   "mimetype": "text/x-python",
   "name": "python",
   "nbconvert_exporter": "python",
   "pygments_lexer": "ipython3",
   "version": "3.8.11"
  }
 },
 "nbformat": 4,
 "nbformat_minor": 4
}
