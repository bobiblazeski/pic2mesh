{
 "cells": [
  {
   "cell_type": "code",
   "execution_count": 10,
   "metadata": {},
   "outputs": [
    {
     "data": {
      "text/html": [
       "        <script type=\"text/javascript\">\n",
       "        window.PlotlyConfig = {MathJaxConfig: 'local'};\n",
       "        if (window.MathJax) {MathJax.Hub.Config({SVG: {font: \"STIX-Web\"}});}\n",
       "        if (typeof require !== 'undefined') {\n",
       "        require.undef(\"plotly\");\n",
       "        requirejs.config({\n",
       "            paths: {\n",
       "                'plotly': ['https://cdn.plot.ly/plotly-latest.min']\n",
       "            }\n",
       "        });\n",
       "        require(['plotly'], function(Plotly) {\n",
       "            window._Plotly = Plotly;\n",
       "        });\n",
       "        }\n",
       "        </script>\n",
       "        "
      ]
     },
     "metadata": {},
     "output_type": "display_data"
    },
    {
     "data": {
      "text/html": [
       "        <script type=\"text/javascript\">\n",
       "        window.PlotlyConfig = {MathJaxConfig: 'local'};\n",
       "        if (window.MathJax) {MathJax.Hub.Config({SVG: {font: \"STIX-Web\"}});}\n",
       "        if (typeof require !== 'undefined') {\n",
       "        require.undef(\"plotly\");\n",
       "        requirejs.config({\n",
       "            paths: {\n",
       "                'plotly': ['https://cdn.plot.ly/plotly-latest.min']\n",
       "            }\n",
       "        });\n",
       "        require(['plotly'], function(Plotly) {\n",
       "            window._Plotly = Plotly;\n",
       "        });\n",
       "        }\n",
       "        </script>\n",
       "        "
      ]
     },
     "metadata": {},
     "output_type": "display_data"
    },
    {
     "data": {
      "text/html": [
       "        <script type=\"text/javascript\">\n",
       "        window.PlotlyConfig = {MathJaxConfig: 'local'};\n",
       "        if (window.MathJax) {MathJax.Hub.Config({SVG: {font: \"STIX-Web\"}});}\n",
       "        if (typeof require !== 'undefined') {\n",
       "        require.undef(\"plotly\");\n",
       "        requirejs.config({\n",
       "            paths: {\n",
       "                'plotly': ['https://cdn.plot.ly/plotly-latest.min']\n",
       "            }\n",
       "        });\n",
       "        require(['plotly'], function(Plotly) {\n",
       "            window._Plotly = Plotly;\n",
       "        });\n",
       "        }\n",
       "        </script>\n",
       "        "
      ]
     },
     "metadata": {},
     "output_type": "display_data"
    },
    {
     "data": {
      "text/html": [
       "        <script type=\"text/javascript\">\n",
       "        window.PlotlyConfig = {MathJaxConfig: 'local'};\n",
       "        if (window.MathJax) {MathJax.Hub.Config({SVG: {font: \"STIX-Web\"}});}\n",
       "        if (typeof require !== 'undefined') {\n",
       "        require.undef(\"plotly\");\n",
       "        requirejs.config({\n",
       "            paths: {\n",
       "                'plotly': ['https://cdn.plot.ly/plotly-latest.min']\n",
       "            }\n",
       "        });\n",
       "        require(['plotly'], function(Plotly) {\n",
       "            window._Plotly = Plotly;\n",
       "        });\n",
       "        }\n",
       "        </script>\n",
       "        "
      ]
     },
     "metadata": {},
     "output_type": "display_data"
    }
   ],
   "source": [
    "import torch\n",
    "from src.utilities.util import (\n",
    "    grid_to_list,\n",
    "    make_faces,\n",
    ")\n",
    "\n",
    "\n",
    "torch.set_printoptions(\n",
    "    precision=2,\n",
    "    sci_mode=False)"
   ]
  },
  {
   "cell_type": "code",
   "execution_count": 48,
   "metadata": {
    "scrolled": true
   },
   "outputs": [
    {
     "name": "stdout",
     "output_type": "stream",
     "text": [
      "torch.Size([3, 512, 512])\n"
     ]
    }
   ],
   "source": [
    "n = 512\n",
    "offset = 0.1\n",
    "start = -1 + offset\n",
    "step = (2 - (2*offset)) / n\n",
    "\n",
    "m = torch.zeros(3, n, n)\n",
    "for i in range(n):\n",
    "    for j in range(n):\n",
    "        m[0, i, j] = start + i * step\n",
    "        m[1, i, j] = start + j * step\n",
    "        m[2, i, j] = torch.randn(1) / 4\n",
    "        \n",
    "print(m.shape)"
   ]
  },
  {
   "cell_type": "code",
   "execution_count": 28,
   "metadata": {},
   "outputs": [
    {
     "data": {
      "text/plain": [
       "torch.Size([1, 262144, 3])"
      ]
     },
     "execution_count": 28,
     "metadata": {},
     "output_type": "execute_result"
    }
   ],
   "source": [
    "vertices = grid_to_list(m[None])\n",
    "vertices.shape"
   ]
  },
  {
   "cell_type": "code",
   "execution_count": 53,
   "metadata": {},
   "outputs": [
    {
     "data": {
      "text/plain": [
       "(522242, 3)"
      ]
     },
     "execution_count": 53,
     "metadata": {},
     "output_type": "execute_result"
    }
   ],
   "source": [
    "faces = make_faces(n, n)\n",
    "faces.shape"
   ]
  },
  {
   "cell_type": "code",
   "execution_count": 55,
   "metadata": {},
   "outputs": [],
   "source": [
    "import trimesh\n",
    "\n",
    "vertices = grid_to_list(m[None])[0]\n",
    "\n",
    "mesh = trimesh.Trimesh(vertices=vertices, faces=faces)\n",
    "mesh.show()\n",
    "\n",
    "mesh.export('./data/noise_grid_{}.stl'.format(n));"
   ]
  },
  {
   "cell_type": "code",
   "execution_count": 31,
   "metadata": {},
   "outputs": [],
   "source": [
    "import torchgeometry as tgm\n"
   ]
  },
  {
   "cell_type": "code",
   "execution_count": 32,
   "metadata": {},
   "outputs": [
    {
     "data": {
      "text/plain": [
       "GaussianBlur()"
      ]
     },
     "execution_count": 32,
     "metadata": {},
     "output_type": "execute_result"
    }
   ],
   "source": [
    "# create the operator\n",
    "gauss"
   ]
  },
  {
   "cell_type": "code",
   "execution_count": 33,
   "metadata": {
    "scrolled": true
   },
   "outputs": [
    {
     "data": {
      "text/plain": [
       "tensor([[[[    -0.33,     -0.44,     -0.54,  ...,     -0.54,     -0.44,\n",
       "               -0.33],\n",
       "          [    -0.44,     -0.58,     -0.72,  ...,     -0.72,     -0.58,\n",
       "               -0.44],\n",
       "          [    -0.54,     -0.72,     -0.89,  ...,     -0.89,     -0.72,\n",
       "               -0.54],\n",
       "          ...,\n",
       "          [     0.54,      0.72,      0.89,  ...,      0.89,      0.72,\n",
       "                0.54],\n",
       "          [     0.43,      0.58,      0.72,  ...,      0.72,      0.58,\n",
       "                0.43],\n",
       "          [     0.33,      0.44,      0.54,  ...,      0.54,      0.44,\n",
       "                0.33]],\n",
       "\n",
       "         [[    -0.33,     -0.44,     -0.54,  ...,      0.54,      0.43,\n",
       "                0.33],\n",
       "          [    -0.44,     -0.58,     -0.72,  ...,      0.72,      0.58,\n",
       "                0.44],\n",
       "          [    -0.54,     -0.72,     -0.89,  ...,      0.89,      0.72,\n",
       "                0.54],\n",
       "          ...,\n",
       "          [    -0.54,     -0.72,     -0.89,  ...,      0.89,      0.72,\n",
       "                0.54],\n",
       "          [    -0.44,     -0.58,     -0.72,  ...,      0.72,      0.58,\n",
       "                0.44],\n",
       "          [    -0.33,     -0.44,     -0.54,  ...,      0.54,      0.43,\n",
       "                0.33]],\n",
       "\n",
       "         [[    -0.00,     -0.01,     -0.03,  ...,      0.01,     -0.01,\n",
       "               -0.02],\n",
       "          [    -0.01,     -0.03,     -0.05,  ...,      0.03,      0.00,\n",
       "               -0.01],\n",
       "          [    -0.00,     -0.04,     -0.07,  ...,      0.01,     -0.00,\n",
       "               -0.02],\n",
       "          ...,\n",
       "          [     0.01,      0.03,      0.02,  ...,     -0.09,     -0.06,\n",
       "               -0.05],\n",
       "          [    -0.02,     -0.01,     -0.02,  ...,     -0.10,     -0.08,\n",
       "               -0.06],\n",
       "          [     0.00,      0.02,      0.01,  ...,     -0.06,     -0.06,\n",
       "               -0.05]]]])"
      ]
     },
     "execution_count": 33,
     "metadata": {},
     "output_type": "execute_result"
    }
   ],
   "source": [
    "gauss(m[None])"
   ]
  },
  {
   "cell_type": "code",
   "execution_count": 79,
   "metadata": {},
   "outputs": [
    {
     "name": "stdout",
     "output_type": "stream",
     "text": [
      "torch.Size([1, 3, 512, 512])\n"
     ]
    }
   ],
   "source": [
    "import trimesh\n",
    "\n",
    "gauss = tgm.image.GaussianBlur((27, 27), (40.25, 40.25))\n",
    "#gauss1 = tgm.image.GaussianBlur((, 21), (40.25, 40.25))\n",
    "blurred = gauss(m[None])\n",
    "\n",
    "blurred_vertices = torch.cat((m[None][:, :2, :, :],\n",
    "             blurred[:, 2:, :, :]\n",
    "            ), dim=1)\n",
    "print(blurred_vertices.shape)\n",
    "vertices = grid_to_list(blurred_vertices)[0]\n",
    "mesh = trimesh.Trimesh(vertices=vertices, faces=faces)\n",
    "mesh.show()\n",
    "\n",
    "mesh.export('./data/noise_grid_{}.stl'.format(n));"
   ]
  },
  {
   "cell_type": "code",
   "execution_count": 41,
   "metadata": {},
   "outputs": [
    {
     "data": {
      "text/plain": [
       "(tensor(-0.88), tensor(0.88))"
      ]
     },
     "execution_count": 41,
     "metadata": {},
     "output_type": "execute_result"
    }
   ],
   "source": [
    "gauss = tgm.image.GaussianBlur((11, 11), (20.25, 20.25))\n",
    "gauss(m[None]).min(), gauss(m[None]).max()"
   ]
  },
  {
   "cell_type": "code",
   "execution_count": 60,
   "metadata": {},
   "outputs": [
    {
     "data": {
      "text/plain": [
       "torch.Size([1, 3, 512, 512])"
      ]
     },
     "execution_count": 60,
     "metadata": {},
     "output_type": "execute_result"
    }
   ],
   "source": [
    "blurred = gauss(m[None])\n",
    "blurred.shape\n",
    "#gauss(m[2, :, :][None])"
   ]
  },
  {
   "cell_type": "code",
   "execution_count": 66,
   "metadata": {},
   "outputs": [
    {
     "data": {
      "text/plain": [
       "(torch.Size([1, 2, 512, 512]), torch.Size([1, 1, 512, 512]))"
      ]
     },
     "execution_count": 66,
     "metadata": {},
     "output_type": "execute_result"
    }
   ],
   "source": [
    "m[None][:, :2, :, :].shape, blurred[:, 2:, :, :].shape"
   ]
  },
  {
   "cell_type": "code",
   "execution_count": 70,
   "metadata": {},
   "outputs": [
    {
     "data": {
      "text/plain": [
       "torch.Size([1, 3, 512, 512])"
      ]
     },
     "execution_count": 70,
     "metadata": {},
     "output_type": "execute_result"
    }
   ],
   "source": [
    "torch.cat((m[None][:, :2, :, :],\n",
    "             blurred[:, 2:, :, :]\n",
    "            ), dim=1).shape"
   ]
  },
  {
   "cell_type": "code",
   "execution_count": 74,
   "metadata": {},
   "outputs": [],
   "source": [
    "import numpy as np"
   ]
  },
  {
   "cell_type": "code",
   "execution_count": 77,
   "metadata": {},
   "outputs": [
    {
     "data": {
      "text/plain": [
       "(16, 3, 512, 512)"
      ]
     },
     "execution_count": 77,
     "metadata": {},
     "output_type": "execute_result"
    }
   ],
   "source": [
    "loaded = np.load('./data1/blueprint_16_512.npz')\n",
    "loaded['points'].shape"
   ]
  },
  {
   "cell_type": "code",
   "execution_count": 82,
   "metadata": {},
   "outputs": [],
   "source": [
    "np.savez_compressed('./data/blueprint_noise_1_512.npz',\n",
    "           points=blurred_vertices,\n",
    "           normals=blurred_vertices)"
   ]
  },
  {
   "cell_type": "code",
   "execution_count": null,
   "metadata": {},
   "outputs": [],
   "source": []
  }
 ],
 "metadata": {
  "kernelspec": {
   "display_name": "pytorch3d_0.3",
   "language": "python",
   "name": "pytorch3d_0.3"
  },
  "language_info": {
   "codemirror_mode": {
    "name": "ipython",
    "version": 3
   },
   "file_extension": ".py",
   "mimetype": "text/x-python",
   "name": "python",
   "nbconvert_exporter": "python",
   "pygments_lexer": "ipython3",
   "version": "3.8.5"
  }
 },
 "nbformat": 4,
 "nbformat_minor": 4
}
