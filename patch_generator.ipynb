{
 "cells": [
  {
   "cell_type": "code",
   "execution_count": 27,
   "metadata": {
    "scrolled": true
   },
   "outputs": [
    {
     "data": {
      "text/plain": [
       "Generator(\n",
       "  (points): SinGenerator(\n",
       "    (trunk): Sequential(\n",
       "      (head): ConvBlock(\n",
       "        (conv): Conv2d(3, 128, kernel_size=(3, 3), stride=(1, 1), padding=(1, 1), bias=False)\n",
       "        (norm): BatchNorm2d(128, eps=1e-05, momentum=0.1, affine=True, track_running_stats=True)\n",
       "        (lrelu): LeakyReLU(negative_slope=0.2)\n",
       "      )\n",
       "      (main): Sequential(\n",
       "        (b0): ConvBlock(\n",
       "          (conv): Conv2d(128, 128, kernel_size=(3, 3), stride=(1, 1), padding=(1, 1), bias=False)\n",
       "          (norm): BatchNorm2d(128, eps=1e-05, momentum=0.1, affine=True, track_running_stats=True)\n",
       "          (lrelu): LeakyReLU(negative_slope=0.2)\n",
       "        )\n",
       "        (b1): ConvBlock(\n",
       "          (conv): Conv2d(128, 256, kernel_size=(3, 3), stride=(1, 1), padding=(1, 1), bias=False)\n",
       "          (norm): BatchNorm2d(256, eps=1e-05, momentum=0.1, affine=True, track_running_stats=True)\n",
       "          (lrelu): LeakyReLU(negative_slope=0.2)\n",
       "        )\n",
       "        (b2): ConvBlock(\n",
       "          (conv): Conv2d(256, 256, kernel_size=(3, 3), stride=(1, 1), padding=(1, 1), bias=False)\n",
       "          (norm): BatchNorm2d(256, eps=1e-05, momentum=0.1, affine=True, track_running_stats=True)\n",
       "          (lrelu): LeakyReLU(negative_slope=0.2)\n",
       "        )\n",
       "      )\n",
       "    )\n",
       "    (points): Sequential(\n",
       "      (0): Conv2d(256, 1, kernel_size=(3, 3), stride=(1, 1), padding=(1, 1), bias=False)\n",
       "      (1): Sigmoid()\n",
       "    )\n",
       "  )\n",
       ")"
      ]
     },
     "execution_count": 27,
     "metadata": {},
     "output_type": "execute_result"
    }
   ],
   "source": [
    "from collections import OrderedDict\n",
    "\n",
    "import torch\n",
    "import torch.nn as nn\n",
    "import torch.nn.functional as F\n",
    "from torch.nn.utils import spectral_norm\n",
    "\n",
    "from src.models.util import ConvBlock\n",
    "from src.utilities.operators import mean_distance\n",
    "from types import SimpleNamespace\n",
    "\n",
    "class SinGenerator(nn.Module):\n",
    "    def __init__(self, channels):\n",
    "        super(SinGenerator,self).__init__()\n",
    "        self.trunk = nn.Sequential(OrderedDict([\n",
    "            ('head', ConvBlock(3, channels[0])),\n",
    "            ('main', nn.Sequential(OrderedDict([\n",
    "                ('b'+str(i), ConvBlock(in_ch, out_ch))\n",
    "                for i, (in_ch, out_ch) in \n",
    "                enumerate(zip(channels, channels[1:]))])))\n",
    "        ]))\n",
    "        self.points = nn.Sequential(\n",
    "            spectral_norm(nn.Conv2d(channels[-1], 1, 3, 1, 1, bias=False)),\n",
    "            nn.Sigmoid(),)      \n",
    "\n",
    "    def scale(self, t, size):\n",
    "        return F.interpolate(t, size=size, mode='bilinear', align_corners=True)\n",
    "\n",
    "    def forward(self, outline):\n",
    "        trunk = self.trunk(outline)\n",
    "        points = self.points(trunk)        \n",
    "        return points\n",
    "\n",
    "    \n",
    "class Generator(nn.Module):\n",
    "    def __init__(self, config):\n",
    "        super(Generator, self).__init__()                      \n",
    "        channels =  config.fast_generator_channels \n",
    "        self.points = SinGenerator(channels)\n",
    "        #self.colors = SkipGenerator(channels)\n",
    "    \n",
    "    def get_means(self, t):        \n",
    "        means = t.detach().reshape(t.size(0), -1).mean(1)\n",
    "        return means.reshape(-1, 1, 1, 1)\n",
    "        \n",
    "    def forward(self, points, normals):\n",
    "        #print(baseline.size(-1),  outline.size(-1))       \n",
    "        dist = mean_distance(pts) / 2\n",
    "        magnitudes = self.points(points)        \n",
    "        magnitudes = magnitudes - self.get_means(magnitudes)\n",
    "        magnitudes = magnitudes * dist.reshape(-1, 1, 1, 1)           \n",
    "        res = points + normals * magnitudes\n",
    "        return points, torch.ones_like(points)\n",
    "\n",
    "\n",
    "sn = SimpleNamespace(fast_generator_channels=[ 128, 128, 256, 256])\n",
    "\n",
    "G = Generator(sn)\n",
    "G"
   ]
  },
  {
   "cell_type": "code",
   "execution_count": 28,
   "metadata": {},
   "outputs": [
    {
     "data": {
      "text/plain": [
       "torch.Size([2, 3, 4, 4])"
      ]
     },
     "execution_count": 28,
     "metadata": {},
     "output_type": "execute_result"
    }
   ],
   "source": [
    "pts = torch.rand(2, 3, 4, 4)\n",
    "pts.shape"
   ]
  },
  {
   "cell_type": "code",
   "execution_count": 30,
   "metadata": {},
   "outputs": [
    {
     "data": {
      "text/plain": [
       "torch.Size([2, 3, 4, 4])"
      ]
     },
     "execution_count": 30,
     "metadata": {},
     "output_type": "execute_result"
    }
   ],
   "source": [
    "vrt, _ = G(pts, pts)\n",
    "vrt.shape"
   ]
  },
  {
   "cell_type": "code",
   "execution_count": 24,
   "metadata": {},
   "outputs": [
    {
     "data": {
      "text/plain": [
       "tensor([0.6706, 0.7254])"
      ]
     },
     "execution_count": 24,
     "metadata": {},
     "output_type": "execute_result"
    }
   ],
   "source": [
    "dist = mean_distance(pts)\n",
    "dist"
   ]
  },
  {
   "cell_type": "code",
   "execution_count": 25,
   "metadata": {},
   "outputs": [
    {
     "data": {
      "text/plain": [
       "(tensor([0.5016, 0.5575]), torch.Size([2]))"
      ]
     },
     "execution_count": 25,
     "metadata": {},
     "output_type": "execute_result"
    }
   ],
   "source": [
    "means = vrt.detach().reshape(pts.size(0), -1).mean(1)\n",
    "means, means.shape"
   ]
  },
  {
   "cell_type": "code",
   "execution_count": 26,
   "metadata": {},
   "outputs": [
    {
     "data": {
      "text/plain": [
       "tensor([[[[ 0.1090, -0.0768,  0.2078,  0.0793],\n",
       "          [ 0.0754, -0.0079,  0.0776, -0.0473],\n",
       "          [-0.0315,  0.0518, -0.1015,  0.0277],\n",
       "          [-0.1717, -0.0138, -0.1900,  0.0120]]],\n",
       "\n",
       "\n",
       "        [[[-0.0134,  0.0399,  0.0886,  0.1228],\n",
       "          [ 0.0176,  0.0110, -0.0573, -0.0844],\n",
       "          [-0.0429,  0.1672,  0.1582,  0.0219],\n",
       "          [-0.0550, -0.1100, -0.1240, -0.1403]]]], grad_fn=<SubBackward0>)"
      ]
     },
     "execution_count": 26,
     "metadata": {},
     "output_type": "execute_result"
    }
   ],
   "source": [
    "vrt - means.reshape(-1, 1, 1, 1)"
   ]
  },
  {
   "cell_type": "code",
   "execution_count": null,
   "metadata": {},
   "outputs": [],
   "source": []
  }
 ],
 "metadata": {
  "kernelspec": {
   "display_name": "pytorch3d_0.3",
   "language": "python",
   "name": "pytorch3d_0.3"
  },
  "language_info": {
   "codemirror_mode": {
    "name": "ipython",
    "version": 3
   },
   "file_extension": ".py",
   "mimetype": "text/x-python",
   "name": "python",
   "nbconvert_exporter": "python",
   "pygments_lexer": "ipython3",
   "version": "3.8.5"
  }
 },
 "nbformat": 4,
 "nbformat_minor": 4
}
