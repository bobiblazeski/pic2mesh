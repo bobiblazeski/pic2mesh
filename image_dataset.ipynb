{
 "cells": [
  {
   "cell_type": "code",
   "execution_count": 22,
   "metadata": {},
   "outputs": [],
   "source": [
    "import torch\n",
    "from torchvision.transforms import (\n",
    "    Compose,\n",
    "    Grayscale,    \n",
    "    Normalize,\n",
    "    Resize,\n",
    "    RandomHorizontalFlip,\n",
    "    ToTensor,    \n",
    ")\n",
    "from torchvision.datasets import ImageFolder\n",
    "from torch.utils.data import DataLoader"
   ]
  },
  {
   "cell_type": "code",
   "execution_count": 23,
   "metadata": {},
   "outputs": [
    {
     "data": {
      "text/plain": [
       "Dataset ImageFolder\n",
       "    Number of datapoints: 70000\n",
       "    Root location: /home/bobi/Desktop/db/ffhq-dataset/thumbnails\n",
       "    StandardTransform\n",
       "Transform: <function img_transform at 0x7f71b33a14c0>"
      ]
     },
     "execution_count": 23,
     "metadata": {},
     "output_type": "execute_result"
    }
   ],
   "source": [
    "transform = {\n",
    "    'head': Compose([\n",
    "        RandomHorizontalFlip(),\n",
    "        Grayscale(),\n",
    "    ]),\n",
    "    'large': Compose([\n",
    "        Resize([128, 128]),\n",
    "        ToTensor(),\n",
    "        Normalize(mean=(0.5), std=(0.5)),\n",
    "    ]),\n",
    "    'medium': Compose([\n",
    "        Resize([64, 64]),\n",
    "        ToTensor(),\n",
    "        Normalize(mean=(0.5), std=(0.5)),\n",
    "    ]),\n",
    "    'small': Compose([\n",
    "        Resize([32, 32]),\n",
    "        ToTensor(),\n",
    "        Normalize(mean=(0.5), std=(0.5)),\n",
    "    ]),\n",
    "}\n",
    "\n",
    "def img_transform(img):\n",
    "    flipped = transform['head'](img)\n",
    "    return {\n",
    "        'large': transform['large'](flipped),\n",
    "        'medium': transform['medium'](flipped),\n",
    "        'small': transform['small'](flipped),\n",
    "    }    \n",
    "    \n",
    "root = '/home/bobi/Desktop/db/ffhq-dataset/thumbnails'\n",
    "ds = ImageFolder(root, transform=img_transform)\n",
    "ds"
   ]
  },
  {
   "cell_type": "code",
   "execution_count": 24,
   "metadata": {
    "scrolled": true
   },
   "outputs": [
    {
     "data": {
      "text/plain": [
       "{'large': tensor([[[ 0.3804,  0.3882,  0.4039,  ...,  0.3412,  0.3098,  0.2784],\n",
       "          [ 0.3882,  0.3961,  0.4039,  ...,  0.5137,  0.5059,  0.5059],\n",
       "          [ 0.3804,  0.3882,  0.3882,  ...,  0.5373,  0.5373,  0.5373],\n",
       "          ...,\n",
       "          [-0.4353, -0.4510, -0.4588,  ...,  0.5765,  0.5686,  0.5765],\n",
       "          [-0.4118, -0.4510, -0.4902,  ...,  0.5765,  0.5686,  0.5608],\n",
       "          [-0.4588, -0.4510, -0.4980,  ...,  0.5765,  0.5686,  0.5686]]]),\n",
       " 'medium': tensor([[[ 0.3882,  0.3961,  0.3961,  ...,  0.4824,  0.4510,  0.4196],\n",
       "          [ 0.3961,  0.3961,  0.3961,  ...,  0.5451,  0.5451,  0.5451],\n",
       "          [ 0.3961,  0.3961,  0.4039,  ...,  0.5451,  0.5529,  0.5529],\n",
       "          ...,\n",
       "          [-0.4118, -0.1686,  0.1608,  ...,  0.5765,  0.5765,  0.5765],\n",
       "          [-0.4275, -0.3098,  0.0431,  ...,  0.5686,  0.5765,  0.5765],\n",
       "          [-0.4510, -0.4196, -0.0902,  ...,  0.5686,  0.5765,  0.5686]]]),\n",
       " 'small': tensor([[[ 0.3961,  0.3961,  0.3961,  ...,  0.5294,  0.5216,  0.4980],\n",
       "          [ 0.3961,  0.4039,  0.4039,  ...,  0.5608,  0.5529,  0.5608],\n",
       "          [ 0.3961,  0.4039,  0.4039,  ...,  0.5765,  0.5686,  0.5686],\n",
       "          ...,\n",
       "          [ 0.1137,  0.3961,  0.2000,  ...,  0.5608,  0.5765,  0.5843],\n",
       "          [-0.1843,  0.2706,  0.1529,  ...,  0.5529,  0.5765,  0.5765],\n",
       "          [-0.3569,  0.1137,  0.0980,  ...,  0.5529,  0.5686,  0.5765]]])}"
      ]
     },
     "execution_count": 24,
     "metadata": {},
     "output_type": "execute_result"
    }
   ],
   "source": [
    "ds[1100][0]"
   ]
  },
  {
   "cell_type": "code",
   "execution_count": 28,
   "metadata": {},
   "outputs": [
    {
     "data": {
      "text/plain": [
       "<torch.utils.data.dataloader.DataLoader at 0x7f71b2f2b520>"
      ]
     },
     "execution_count": 28,
     "metadata": {},
     "output_type": "execute_result"
    }
   ],
   "source": [
    "loader = DataLoader(ds, batch_size=8, shuffle=True)\n",
    "loader"
   ]
  },
  {
   "cell_type": "code",
   "execution_count": 30,
   "metadata": {
    "scrolled": true
   },
   "outputs": [
    {
     "data": {
      "text/plain": [
       "(torch.Size([8, 1, 128, 128]),\n",
       " torch.Size([8, 1, 64, 64]),\n",
       " torch.Size([8, 1, 32, 32]))"
      ]
     },
     "execution_count": 30,
     "metadata": {},
     "output_type": "execute_result"
    }
   ],
   "source": [
    "res = next(iter(loader))\n",
    "res[0]['large'].shape, res[0]['medium'].shape, res[0]['small'].shape"
   ]
  },
  {
   "cell_type": "code",
   "execution_count": null,
   "metadata": {},
   "outputs": [],
   "source": []
  }
 ],
 "metadata": {
  "kernelspec": {
   "display_name": "pytorch3d_0.3",
   "language": "python",
   "name": "pytorch3d_0.3"
  },
  "language_info": {
   "codemirror_mode": {
    "name": "ipython",
    "version": 3
   },
   "file_extension": ".py",
   "mimetype": "text/x-python",
   "name": "python",
   "nbconvert_exporter": "python",
   "pygments_lexer": "ipython3",
   "version": "3.8.5"
  }
 },
 "nbformat": 4,
 "nbformat_minor": 4
}
