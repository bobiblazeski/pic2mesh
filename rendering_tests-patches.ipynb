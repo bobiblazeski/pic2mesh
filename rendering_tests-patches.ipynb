{
 "cells": [
  {
   "cell_type": "code",
   "execution_count": 10,
   "metadata": {},
   "outputs": [],
   "source": [
    "import os\n",
    "import matplotlib.pyplot as plt\n",
    "import numpy as np\n",
    "\n",
    "import torch\n",
    "import torch.nn.functional as F\n",
    "\n",
    "from src.renderer import Renderer\n",
    "from src.data.masked_datamodule import MaskedDataModule\n",
    "from src.config import get_parser"
   ]
  },
  {
   "cell_type": "code",
   "execution_count": 11,
   "metadata": {},
   "outputs": [],
   "source": [
    "import argparse\n",
    "\n",
    "from distutils.util import strtobool\n",
    "\n",
    "def get_parser():\n",
    "    parser = argparse.ArgumentParser()\n",
    "    \n",
    "    # General\n",
    "    parser.add_argument('--data_dir', help='Tensor storage',default='./data/')\n",
    "\n",
    "    # Renderer    \n",
    "    parser.add_argument('--viewpoint_distance', type=float, default=1.25, \n",
    "                        help='Distance from camera to the object')\n",
    "    parser.add_argument('--viewpoint_elevation', type=float, default=0.0, \n",
    "                        help='Angle of elevation in degrees')\n",
    "    parser.add_argument('--viewpoint_azimuth', type=float, default=0.0, \n",
    "                        help='No rotation so the camera is positioned on the +Z axis')\n",
    "    parser.add_argument('--lights_location', nargs='+', type=float, \n",
    "                        default=[0.0, -1.0, 2.0],\n",
    "                        help=\"Examples: -lights_location 0.0, -1.0, 3.0\")\n",
    "\n",
    "    parser.add_argument('--raster_image_size', type=int, default=512, \n",
    "                        help='Rasterizer image size')\n",
    "    parser.add_argument('--raster_radius', type=float, default=0.01, \n",
    "                        help='Points radius')\n",
    "    parser.add_argument('--raster_points_per_pixel', type=int, default=4)\n",
    "    parser.add_argument('--raster_patch_size', type=int, default=1000)\n",
    "    parser.add_argument('--raster_max_brightness', type=float, default=0.7, \n",
    "                        help='Maximum brightness of pixel, [0-1]')\n",
    "\n",
    "    # Discriminator\n",
    "    parser.add_argument('--D_num_outcomes', help='No of discriminator outcomes', \n",
    "                        default=32)    \n",
    "    parser.add_argument('--D_filters', nargs='+', type=int, \n",
    "                        default=[3, 32, 64],\n",
    "                        help=\"Examples: -D_filters 3 32 64\")\n",
    "    parser.add_argument('--D_act_name', \n",
    "                        help='Discriminator activation name Swish or LeakyReLU',\n",
    "                        default='Swish')\n",
    "    parser.add_argument('--D_use_adaptive_reparam', dest='D_use_adaptive_reparam', \n",
    "                        default=True, type=lambda x: bool(strtobool(x)))\n",
    "    parser.add_argument('--D_use_spectral_norm', dest='D_use_spectral_norm', \n",
    "                        default=False, type=lambda x: bool(strtobool(x)))\n",
    "    \n",
    "    # Stylist\n",
    "    parser.add_argument('--backbone', default='vgg11')\n",
    "    \n",
    "    # Generator\n",
    "    parser.add_argument('--dlatent_size', type=int, default=128)\n",
    "    parser.add_argument('--in_channel', type=int, default=6) # 3 just points, 6 normals too\n",
    "    parser.add_argument('--out_channel',type=int,help='kernel size',default=32)\n",
    "\n",
    "    parser.add_argument('--blueprint', default='blueprint127.npz')\n",
    "    parser.add_argument('--G_noise_amp',type=float, help='Generator noise scale.', default=0.003)\n",
    "    parser.add_argument('--G_use_adaptive_reparam', dest='G_use_adaptive_reparam', \n",
    "                        default=True, type=lambda x: bool(strtobool(x)))\n",
    "    \n",
    "    #networks hyper parameters:\n",
    "    parser.add_argument('--nfc', type=int, default=32)\n",
    "    parser.add_argument('--min_nfc', type=int, default=32)\n",
    "    parser.add_argument('--ker_size',type=int,help='kernel size',default=3)\n",
    "    parser.add_argument('--num_layer',type=int,help='number of layers',default=5)\n",
    "    parser.add_argument('--stride',help='stride',default=1)\n",
    "    parser.add_argument('--padd_size',type=int,help='net pad size',default=1)#math.floor(opt.ker_size/2)\n",
    "    \n",
    "    #parser.add_argument('--mode', help='task to be done', default='train')\n",
    "    #workspace:\n",
    "    parser.add_argument('--not_cuda', action='store_true', help='disables cuda', default=0)\n",
    "    \n",
    "    #load, input, save configurations:\n",
    "    parser.add_argument('--netG', default='', help=\"path to netG (to continue training)\")\n",
    "    parser.add_argument('--netD', default='', help=\"path to netD (to continue training)\")\n",
    "    parser.add_argument('--manualSeed', type=int, help='manual seed')\n",
    "    parser.add_argument('--nc_z',type=int,help='noise # channels',default=3)\n",
    "    parser.add_argument('--nc_im',type=int,help='image # channels',default=3)\n",
    "    parser.add_argument('--out',help='output folder',default='Output')\n",
    "        \n",
    "    #pyramid parameters:\n",
    "    parser.add_argument('--scale_factor',type=float,help='pyramid scale factor',default=0.75)#pow(0.5,1/6))\n",
    "    parser.add_argument('--noise_amp',type=float,help='addative noise cont weight',default=0.1)\n",
    "    parser.add_argument('--min_size',type=int,help='image minimal size at the coarser scale',default=25)\n",
    "    parser.add_argument('--max_size', type=int,help='image minimal size at the coarser scale', default=250)\n",
    "\n",
    "    #optimization hyper parameters:\n",
    "    parser.add_argument('--niter', type=int, default=2000, help='number of epochs to train per scale')\n",
    "    parser.add_argument('--gamma',type=float,help='scheduler gamma',default=0.1)\n",
    "    parser.add_argument('--lr_g', type=float, default=0.0005, help='learning rate, default=0.0005')\n",
    "    parser.add_argument('--lr_d', type=float, default=0.0005, help='learning rate, default=0.0005')\n",
    "    parser.add_argument('--beta1', type=float, default=0.5, help='beta1 for adam. default=0.5')\n",
    "    parser.add_argument('--Gsteps',type=int, help='Generator inner steps',default=3)\n",
    "    parser.add_argument('--Dsteps',type=int, help='Discriminator inner steps',default=3)\n",
    "    parser.add_argument('--lambda_grad',type=float, help='gradient penelty weight',default=0.1)\n",
    "    parser.add_argument('--alpha',type=float, help='reconstruction loss weight',default=10)\n",
    "\n",
    "    # data module\n",
    "    parser.add_argument('--data_blueprint', help='Blueprint file', default='./data/blueprint127.npz')\n",
    "    parser.add_argument('--data_image_dir', help='Images directory', \n",
    "                        default='/home/bobi/Desktop/db/ffhq-dataset/images1024x1024')\n",
    "    parser.add_argument('--data_mask_dir', help='Image masks directory', \n",
    "                        default='/home/bobi/Desktop/face-parsing.PyTorch/res/masks')\n",
    "    parser.add_argument('--data_image_size', help='Original image size', type=int, default=1024)\n",
    "    parser.add_argument('--data_mask_size', help='Mask size', type=int, default=512)\n",
    "    parser.add_argument('--data_image_resized', help='Image resized', type=int, default=256)\n",
    "    parser.add_argument('--data_patch_size', help='Patch size', type=int, default=256)\n",
    "    parser.add_argument('--data_style_img', help='Style image size', type=int, default=192)\n",
    "\n",
    "    parser.add_argument('--batch_size', type=int, default=4)\n",
    "    parser.add_argument('--num_workers', type=int, default=4)\n",
    "    \n",
    "\n",
    "    return parser\n",
    "\n",
    "config = get_parser().parse_args(args=[])\n",
    "\n",
    "# Set the cuda device\n",
    "device = torch.device(\"cuda:0\")\n",
    "\n",
    "# renderer = Renderer(config).to(device)\n",
    "# renderer"
   ]
  },
  {
   "cell_type": "code",
   "execution_count": 12,
   "metadata": {},
   "outputs": [
    {
     "name": "stdout",
     "output_type": "stream",
     "text": [
      "1000\n",
      "vert_tri_indices torch.Size([1000000, 6]) torch.int64\n",
      "vert_tri_weights torch.Size([1, 1000000, 6, 1]) torch.float32\n",
      "faces torch.Size([1, 1996002, 3]) torch.int64\n"
     ]
    }
   ],
   "source": [
    "opt = config\n",
    "loaded = torch.load(os.path.join(opt.data_dir, \n",
    "                'trimap_{}.pth'.format(opt.raster_patch_size)))\n",
    "print(opt.raster_patch_size)\n",
    "for key in loaded.keys():\n",
    "    print(key, loaded[key].shape, loaded[key].dtype)"
   ]
  },
  {
   "cell_type": "code",
   "execution_count": 36,
   "metadata": {},
   "outputs": [
    {
     "data": {
      "text/plain": [
       "Renderer(\n",
       "  (renderer): ShadingPointsRenderer(\n",
       "    (rasterizer): PointsRasterizer(\n",
       "      (cameras): FoVPerspectiveCameras()\n",
       "    )\n",
       "    (compositor): ShadingCompositor(\n",
       "      (lights): PointLights()\n",
       "      (materials): Materials()\n",
       "      (cameras): FoVPerspectiveCameras()\n",
       "    )\n",
       "  )\n",
       ")"
      ]
     },
     "execution_count": 36,
     "metadata": {},
     "output_type": "execute_result"
    }
   ],
   "source": [
    "import os\n",
    "import torch \n",
    "\n",
    "from pytorch3d.structures import Pointclouds\n",
    "import pytorch3d.transforms as T3\n",
    "\n",
    "from pytorch3d.renderer import (\n",
    "    FoVPerspectiveCameras,\n",
    "    look_at_view_transform,\n",
    "    PointLights,\n",
    "    PointsRasterizer,\n",
    "    PointsRasterizationSettings,\n",
    ")\n",
    "\n",
    "from src.ShadingPointsRenderer import (\n",
    "    ShadingCompositor,\n",
    "    ShadingPointsRenderer,\n",
    ")\n",
    "from src.util import make_faces\n",
    "\n",
    "def vertex_tris(faces):\n",
    "    res = []\n",
    "    for vid in range(faces.max()+1):\n",
    "        vertex_faces = []\n",
    "        for fid, face in enumerate(faces):\n",
    "            if vid in face:\n",
    "                vertex_faces.append(fid)\n",
    "        res.append(vertex_faces)\n",
    "    return res\n",
    "\n",
    "def vertex_tri_maps(faces):\n",
    "    vts = vertex_tris(faces)\n",
    "    r, c = len(vts), max([len(x) for  x in vts])\n",
    "    vert_tri_indices = torch.zeros(r, c, dtype=torch.long)\n",
    "    vert_tri_weights = torch.zeros(r, c)    \n",
    "    for r, tris in enumerate(vts):\n",
    "        weight = 1. / len(tris)\n",
    "        for c, tri_id in enumerate(tris):\n",
    "            vert_tri_indices[r, c] = tri_id\n",
    "            vert_tri_weights[r, c] = weight\n",
    "    return vert_tri_indices, vert_tri_weights.unsqueeze(dim=-1)[None]\n",
    "\n",
    "def get_face_normals(vrt, faces):    \n",
    "    v1 = vrt.index_select(1,faces[:, 1]) - vrt.index_select(1, faces[:, 0])\n",
    "    v2 = vrt.index_select(1,faces[:, 2]) - vrt.index_select(1, faces[:, 0])\n",
    "    face_normals = F.normalize(v1.cross(v2), p=2, dim=-1)  # [F, 3]\n",
    "    return face_normals\n",
    "\n",
    "def get_vertex_normals(face_normals, vert_tri_indices, vert_tri_weights):\n",
    "    bs = face_normals.size(0)\n",
    "    r, c = vert_tri_indices.shape\n",
    "    fn_group = face_normals.index_select(1, \n",
    "        vert_tri_indices.flatten()).reshape(bs, r, c, 3)\n",
    "    weighted_fn_group = fn_group * vert_tri_weights    \n",
    "    vertex_normals = weighted_fn_group.sum(dim=-2)\n",
    "    return F.normalize(vertex_normals, p=2, dim=-1)\n",
    "\n",
    "class Renderer(torch.nn.Module):\n",
    "    def __init__(self, opt):    \n",
    "        super(Renderer, self).__init__()\n",
    "        self.opt = opt\n",
    "        self.max_brightness = opt.raster_max_brightness\n",
    "        # opt.raster_patch_size\n",
    "        #faces = make_faces(opt.raster_patch_size, opt.raster_patch_size)\n",
    "        #vert_tri_indices, vert_tri_weights = vertex_tri_maps(faces)     \n",
    "        trimap =  torch.load(os.path.join(opt.data_dir, \n",
    "            'trimap_{}.pth'.format(opt.raster_patch_size)))\n",
    "        \n",
    "        self.register_buffer('faces',  trimap['faces'][0])\n",
    "        self.register_buffer('vert_tri_indices', trimap['vert_tri_indices'])\n",
    "        self.register_buffer('vert_tri_weights', trimap['vert_tri_weights'])\n",
    "    \n",
    "    def to(self, device):\n",
    "        new_self = super(Renderer, self).to(device)\n",
    "        \n",
    "        R, T = look_at_view_transform(\n",
    "            self.opt.viewpoint_distance, \n",
    "            self.opt.viewpoint_elevation, \n",
    "            self.opt.viewpoint_azimuth, \n",
    "            device=device)\n",
    "        cameras = FoVPerspectiveCameras(\n",
    "            device=device, R=R, T=T)\n",
    "        raster_settings = PointsRasterizationSettings(\n",
    "            image_size= self.opt.raster_image_size, \n",
    "            radius = self.opt.raster_radius,\n",
    "            points_per_pixel = self.opt.raster_points_per_pixel,\n",
    "        )\n",
    "        rasterizer = PointsRasterizer(\n",
    "            cameras= cameras, \n",
    "            raster_settings=raster_settings\n",
    "        )\n",
    "        lights = PointLights(device=device, \n",
    "                             location=[self.opt.lights_location])\n",
    "        compositor = ShadingCompositor(\n",
    "            device=device, \n",
    "            cameras=cameras,\n",
    "            lights=lights\n",
    "        )        \n",
    "        new_self.renderer = ShadingPointsRenderer(\n",
    "            rasterizer=rasterizer,\n",
    "            compositor=compositor,\n",
    "        ) \n",
    "        return new_self\n",
    "    \n",
    "    def __call__(self, points, normals=None, translate=False):        \n",
    "        bs = points.size(0) # (b, 3, w, h)\n",
    "        points = points.reshape(bs, 3, -1).permute(0, 2, 1)\n",
    "        rgb = torch.ones((bs, points.size(1), 3), \n",
    "                         device=points.device) * self.max_brightness\n",
    "        if normals is not None:\n",
    "            normals = normals.reshape(bs, 3, -1).permute(0, 2, 1)            \n",
    "        else:\n",
    "            face_normals = get_face_normals(points, self.faces)\n",
    "            normals = get_vertex_normals(face_normals,\n",
    "                self.vert_tri_indices, self.vert_tri_weights)\n",
    "        \n",
    "        point_cloud = Pointclouds(points=points, \n",
    "                      normals=normals,\n",
    "                      features=rgb)      \n",
    "        #print(points.shape, normals.shape, rgb.shape)\n",
    "        if translate:\n",
    "            T = T3.Translate(-points.mean(dim=-2, keepdim=False)).to(points.device)\n",
    "            points = T.transform_points(points)\n",
    "            normals = T.transform_normals(normals)\n",
    "\n",
    "        point_cloud = Pointclouds(points=points, \n",
    "                          normals=normals,\n",
    "                          features=rgb)\n",
    "        return self.renderer(point_cloud)\n",
    "    \n",
    "    \n",
    "config = get_parser().parse_args(args=[])\n",
    "\n",
    "# Set the cuda device\n",
    "device = torch.device(\"cuda:0\")\n",
    "\n",
    "renderer = Renderer(config).to(device)\n",
    "renderer"
   ]
  },
  {
   "cell_type": "code",
   "execution_count": 37,
   "metadata": {},
   "outputs": [
    {
     "data": {
      "text/plain": [
       "((1, 3, 256, 256), (1, 3, 256, 256))"
      ]
     },
     "execution_count": 37,
     "metadata": {},
     "output_type": "execute_result"
    }
   ],
   "source": [
    "blueprint = np.load(os.path.join(config.data_dir, config.blueprint))\n",
    "w =  config.raster_patch_size\n",
    "blueprint['points'].shape, blueprint['normals'].shape"
   ]
  },
  {
   "cell_type": "code",
   "execution_count": 39,
   "metadata": {},
   "outputs": [
    {
     "data": {
      "text/plain": [
       "(torch.Size([1, 3, 1000, 1000]), torch.Size([1, 3, 1000, 1000]))"
      ]
     },
     "execution_count": 39,
     "metadata": {},
     "output_type": "execute_result"
    }
   ],
   "source": [
    "import torch.nn.functional as F \n",
    "blueprint = np.load(os.path.join(config.data_dir, config.blueprint))\n",
    "w =  config.raster_patch_size\n",
    "\n",
    "def resize(t, w):\n",
    "    return F.interpolate(t, size=(w, w), mode='bicubic', align_corners=True)\n",
    "\n",
    "def normalize(t):\n",
    "    return F.normalize(t, p=2, dim=1)\n",
    "\n",
    "ws, wd = 0, 128\n",
    "hs, hd = 0, 128\n",
    "points = torch.tensor(blueprint['points'][:, :, ws:ws+wd, hs:hs+hd], device=device)\n",
    "normals = torch.tensor(blueprint['normals'][:, :, ws:ws+wd, hs:hs+hd], device=device)                      \n",
    "\n",
    "\n",
    "points = resize(points, w)#[0]\n",
    "normals = normalize(resize(points, w))#[0]\n",
    "points.shape, normals.shape"
   ]
  },
  {
   "cell_type": "code",
   "execution_count": 40,
   "metadata": {},
   "outputs": [
    {
     "data": {
      "text/plain": [
       "torch.Size([1, 1000000, 3])"
      ]
     },
     "execution_count": 40,
     "metadata": {},
     "output_type": "execute_result"
    }
   ],
   "source": [
    "points.shape\n",
    "bs = points.size(0) # (b, 3, w, h)\n",
    "pt_points = points.reshape(bs, 3, -1).permute(0, 2, 1)\n",
    "pt_points.shape"
   ]
  },
  {
   "cell_type": "code",
   "execution_count": 41,
   "metadata": {},
   "outputs": [
    {
     "data": {
      "image/png": "[encoded data removed]",
      "text/plain": [
       "<Figure size 720x720 with 1 Axes>"
      ]
     },
     "metadata": {
      "needs_background": "light"
     },
     "output_type": "display_data"
    }
   ],
   "source": [
    "images = renderer(points.to(device), normals.to(device), translate=True)\n",
    "\n",
    "plt.figure(figsize=(10, 10))\n",
    "plt.imshow(images[0, ..., :3].cpu().numpy())\n",
    "plt.grid(\"off\")\n",
    "plt.axis(\"off\");"
   ]
  },
  {
   "cell_type": "code",
   "execution_count": 23,
   "metadata": {},
   "outputs": [
    {
     "data": {
      "text/plain": [
       "tensor([[[-0.3747, -0.0023,  0.3172]]], device='cuda:0')"
      ]
     },
     "execution_count": 23,
     "metadata": {},
     "output_type": "execute_result"
    }
   ],
   "source": [
    "pt_points = points.reshape(bs, 3, -1).permute(0, 2, 1)\n",
    "pt_points.mean(dim=-2, keepdim=True)\n",
    "# T = T3.Translate(-pt_points.mean(dim=0))#.to(points.device)\n",
    "# points = T.transform_points(points)\n",
    "#normals = T.transform_normals(normals)\n"
   ]
  },
  {
   "cell_type": "code",
   "execution_count": 20,
   "metadata": {},
   "outputs": [
    {
     "data": {
      "text/plain": [
       "torch.Size([1, 1000000, 3])"
      ]
     },
     "execution_count": 20,
     "metadata": {},
     "output_type": "execute_result"
    }
   ],
   "source": [
    "pt_points.shape"
   ]
  },
  {
   "cell_type": "code",
   "execution_count": null,
   "metadata": {},
   "outputs": [],
   "source": []
  },
  {
   "cell_type": "code",
   "execution_count": 42,
   "metadata": {},
   "outputs": [
    {
     "data": {
      "image/png": "[encoded data removed]",
      "text/plain": [
       "<Figure size 720x720 with 1 Axes>"
      ]
     },
     "metadata": {
      "needs_background": "light"
     },
     "output_type": "display_data"
    }
   ],
   "source": [
    "images = renderer(points.to(device))\n",
    "\n",
    "plt.figure(figsize=(10, 10))\n",
    "plt.imshow(images[0, ..., :3].cpu().numpy())\n",
    "plt.grid(\"off\")\n",
    "plt.axis(\"off\");"
   ]
  },
  {
   "cell_type": "code",
   "execution_count": 41,
   "metadata": {},
   "outputs": [
    {
     "data": {
      "text/plain": [
       "2.0"
      ]
     },
     "execution_count": 41,
     "metadata": {},
     "output_type": "execute_result"
    }
   ],
   "source": [
    "config.viewpoint_distance"
   ]
  },
  {
   "cell_type": "code",
   "execution_count": 9,
   "metadata": {},
   "outputs": [
    {
     "data": {
      "text/plain": [
       "(torch.Size([1, 65536, 3]), torch.Size([1, 130050, 3]))"
      ]
     },
     "execution_count": 9,
     "metadata": {},
     "output_type": "execute_result"
    }
   ],
   "source": [
    "op = config\n",
    "bs = points.size(0)\n",
    "vrt = points.reshape(bs, 3, -1).permute(0, 2, 1).to(device)\n",
    "trimap =  torch.load(os.path.join(opt.data_dir, \n",
    "            'trimap_{}.pth'.format(opt.raster_patch_size)))\n",
    "faces =  trimap['faces'].to(device) \n",
    "vrt.shape, faces.shape    "
   ]
  },
  {
   "cell_type": "code",
   "execution_count": 10,
   "metadata": {},
   "outputs": [],
   "source": [
    "def get_face_normals(vrt, faces):    \n",
    "    v1 = vrt.index_select(1,faces[:, 1]) - vrt.index_select(1, faces[:, 0])\n",
    "    v2 = vrt.index_select(1,faces[:, 2]) - vrt.index_select(1, faces[:, 0])\n",
    "    face_normals = F.normalize(v1.cross(v2), p=2, dim=-1)  # [F, 3]\n",
    "    return face_normals\n",
    "\n",
    "face_normals = get_face_normals(vrt, faces[0])"
   ]
  },
  {
   "cell_type": "code",
   "execution_count": 12,
   "metadata": {},
   "outputs": [
    {
     "data": {
      "text/plain": [
       "<pytorch3d.structures.pointclouds.Pointclouds at 0x7fc5fa7e1190>"
      ]
     },
     "execution_count": 12,
     "metadata": {},
     "output_type": "execute_result"
    }
   ],
   "source": [
    "bs = points.size(0)\n",
    "points = points.reshape(bs, 3, -1).permute(0, 2, 1)\n",
    "rgb = torch.ones((bs, points.size(1), 3), \n",
    "                 device=points.device) #* self.max_brightness\n",
    "point_cloud = Pointclouds(points=points, \n",
    "              features=rgb)\n",
    "point_cloud"
   ]
  },
  {
   "cell_type": "code",
   "execution_count": 24,
   "metadata": {},
   "outputs": [
    {
     "data": {
      "text/plain": [
       "torch.Size([1, 1000000, 3])"
      ]
     },
     "execution_count": 24,
     "metadata": {},
     "output_type": "execute_result"
    }
   ],
   "source": [
    "pt_points.shape"
   ]
  },
  {
   "cell_type": "code",
   "execution_count": 25,
   "metadata": {},
   "outputs": [
    {
     "data": {
      "text/plain": [
       "torch.Size([4, 1000, 3])"
      ]
     },
     "execution_count": 25,
     "metadata": {},
     "output_type": "execute_result"
    }
   ],
   "source": [
    "pp = torch.rand(4, 1000, 3)\n",
    "pp.shape"
   ]
  },
  {
   "cell_type": "code",
   "execution_count": 29,
   "metadata": {},
   "outputs": [
    {
     "data": {
      "text/plain": [
       "torch.Size([4, 3])"
      ]
     },
     "execution_count": 29,
     "metadata": {},
     "output_type": "execute_result"
    }
   ],
   "source": [
    "pp_mean = pp.mean(dim=-2, keepdim=False)\n",
    "pp_mean.shape"
   ]
  },
  {
   "cell_type": "code",
   "execution_count": 31,
   "metadata": {},
   "outputs": [
    {
     "data": {
      "text/plain": [
       "torch.Size([4, 1, 3])"
      ]
     },
     "execution_count": 31,
     "metadata": {},
     "output_type": "execute_result"
    }
   ],
   "source": [
    "pp_mean.unsqueeze(1).shape"
   ]
  },
  {
   "cell_type": "code",
   "execution_count": 33,
   "metadata": {
    "scrolled": true
   },
   "outputs": [
    {
     "data": {
      "text/plain": [
       "torch.Size([4, 1000, 3])"
      ]
     },
     "execution_count": 33,
     "metadata": {},
     "output_type": "execute_result"
    }
   ],
   "source": [
    "(pp - pp_mean.unsqueeze(1)).shape"
   ]
  },
  {
   "cell_type": "code",
   "execution_count": null,
   "metadata": {},
   "outputs": [],
   "source": [
    "T3.Translate()"
   ]
  },
  {
   "cell_type": "code",
   "execution_count": 35,
   "metadata": {},
   "outputs": [],
   "source": [
    "T = T3.Translate(-pt_points.mean(dim=-2, keepdim=False)).to(device)\n",
    "points = T.transform_points(pt_points)\n",
    "#normals = T.transform_normals(normals)"
   ]
  },
  {
   "cell_type": "code",
   "execution_count": null,
   "metadata": {},
   "outputs": [],
   "source": []
  }
 ],
 "metadata": {
  "kernelspec": {
   "display_name": "pytorch3d_0.3",
   "language": "python",
   "name": "pytorch3d_0.3"
  },
  "language_info": {
   "codemirror_mode": {
    "name": "ipython",
    "version": 3
   },
   "file_extension": ".py",
   "mimetype": "text/x-python",
   "name": "python",
   "nbconvert_exporter": "python",
   "pygments_lexer": "ipython3",
   "version": "3.8.5"
  }
 },
 "nbformat": 4,
 "nbformat_minor": 4
}
