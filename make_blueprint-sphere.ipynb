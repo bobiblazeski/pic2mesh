{
 "cells": [
  {
   "cell_type": "code",
   "execution_count": 1,
   "metadata": {},
   "outputs": [],
   "source": [
    "import numpy as np\n",
    "import torch\n",
    "\n",
    "from src.utilities.blueprint import Blueprint"
   ]
  },
  {
   "cell_type": "code",
   "execution_count": 11,
   "metadata": {
    "scrolled": true
   },
   "outputs": [
    {
     "name": "stdout",
     "output_type": "stream",
     "text": [
      "0 128\n",
      "1 128\n",
      "2 128\n",
      "3 128\n",
      "4 128\n",
      "5 128\n",
      "6 128\n",
      "7 128\n",
      "8 128\n",
      "9 128\n",
      "10 128\n",
      "11 128\n",
      "12 128\n",
      "13 128\n",
      "14 128\n",
      "15 128\n",
      "16 128\n",
      "17 128\n",
      "18 128\n",
      "19 128\n",
      "20 128\n",
      "21 128\n",
      "22 128\n",
      "23 128\n",
      "24 128\n",
      "25 128\n",
      "26 128\n",
      "27 128\n",
      "28 128\n",
      "29 128\n",
      "30 128\n",
      "31 128\n",
      "32 128\n",
      "33 128\n",
      "34 128\n",
      "35 128\n",
      "36 128\n",
      "37 128\n",
      "38 128\n",
      "39 128\n",
      "40 128\n",
      "41 128\n",
      "42 128\n",
      "43 128\n",
      "44 128\n",
      "45 128\n",
      "46 128\n",
      "47 128\n",
      "48 128\n",
      "49 128\n",
      "50 128\n",
      "51 128\n",
      "52 128\n",
      "53 128\n",
      "54 128\n",
      "55 128\n",
      "56 128\n",
      "57 128\n",
      "58 128\n",
      "59 128\n",
      "60 128\n",
      "61 128\n",
      "62 128\n",
      "63 128\n",
      "64 128\n",
      "65 128\n",
      "66 128\n",
      "67 128\n",
      "68 128\n",
      "69 128\n",
      "70 128\n",
      "71 128\n",
      "72 128\n",
      "73 128\n",
      "74 128\n",
      "75 128\n",
      "76 128\n",
      "77 128\n",
      "78 128\n",
      "79 128\n",
      "80 128\n",
      "81 128\n",
      "82 128\n",
      "83 128\n",
      "84 128\n",
      "85 128\n",
      "86 128\n",
      "87 128\n",
      "88 128\n",
      "89 128\n",
      "90 128\n",
      "91 128\n",
      "92 128\n",
      "93 128\n",
      "94 128\n",
      "95 128\n",
      "96 128\n",
      "97 128\n",
      "98 128\n",
      "99 128\n",
      "100 128\n",
      "101 128\n",
      "102 128\n",
      "103 128\n",
      "104 128\n",
      "105 128\n",
      "106 128\n",
      "107 128\n",
      "108 128\n",
      "109 128\n",
      "110 128\n",
      "111 128\n",
      "112 128\n",
      "113 128\n",
      "114 128\n",
      "115 128\n",
      "116 128\n",
      "117 128\n",
      "118 128\n",
      "119 128\n",
      "120 128\n",
      "121 128\n",
      "122 128\n",
      "123 128\n",
      "124 128\n",
      "125 128\n",
      "126 128\n",
      "127 128\n",
      "Blueprint: ./data/hemisphere.stl latitudes_num: 128\n",
      "0 tensor(-1)\n",
      "path ./data/hemisphere_1.npz tensor([0])\n",
      "1 tensor(0)\n",
      "path ./data/hemisphere_1.npz tensor([1])\n"
     ]
    },
    {
     "data": {
      "text/plain": [
       "(torch.Size([1, 3, 4, 4]), torch.Size([1, 3, 4, 4]))"
      ]
     },
     "execution_count": 11,
     "metadata": {},
     "output_type": "execute_result"
    }
   ],
   "source": [
    "#stl_path = './data/centered_3.stl'\n",
    "stl_path = './data/hemisphere.stl'\n",
    "\n",
    "def get_stl_name(s):\n",
    "    return s.split('/')[-1].replace('.stl', '')\n",
    "\n",
    "stl_name = get_stl_name(stl_path)\n",
    "\n",
    "square_no = 1\n",
    "latitudes_num = 128\n",
    "blueprint = Blueprint(stl_path, latitudes_num, offset=0)\n",
    "print(blueprint)\n",
    "torch.save(blueprint.paths, f'./data/temp/{stl_name}_plane_{len(blueprint.paths)}.pth')\n",
    "blueprint_path = f'./data/{stl_name}_{square_no}.npz'\n",
    "# print(blueprint_path)\n",
    "res = blueprint.grid_sample(square_no, blueprint_path)\n",
    "res['points'].shape, res['normals'].shape"
   ]
  },
  {
   "cell_type": "code",
   "execution_count": 12,
   "metadata": {},
   "outputs": [
    {
     "name": "stdout",
     "output_type": "stream",
     "text": [
      "torch.Size([16, 3])\n"
     ]
    },
    {
     "data": {
      "text/plain": [
       "'./data/hemisphere_1.stl'"
      ]
     },
     "execution_count": 12,
     "metadata": {},
     "output_type": "execute_result"
    }
   ],
   "source": [
    "import trimesh\n",
    "\n",
    "from src.utilities.util import make_faces\n",
    "\n",
    "res = np.load(blueprint_path)\n",
    "points = torch.tensor(res['points'])\n",
    "_, _, w, h,  = points.shape\n",
    "faces = make_faces(w, h)\n",
    "faces.shape\n",
    "\n",
    "b_vertices = points.squeeze().reshape(3, -1).t()\n",
    "print(b_vertices.shape)\n",
    "\n",
    "mesh = trimesh.Trimesh(vertices=b_vertices, faces=faces)\n",
    "mesh.show()\n",
    "filename=  f'./data/{stl_name}_{square_no}.stl'\n",
    "mesh.export(filename);\n",
    "filename"
   ]
  },
  {
   "cell_type": "code",
   "execution_count": null,
   "metadata": {},
   "outputs": [],
   "source": []
  }
 ],
 "metadata": {
  "kernelspec": {
   "display_name": "pytorch3d_0.3",
   "language": "python",
   "name": "pytorch3d_0.3"
  },
  "language_info": {
   "codemirror_mode": {
    "name": "ipython",
    "version": 3
   },
   "file_extension": ".py",
   "mimetype": "text/x-python",
   "name": "python",
   "nbconvert_exporter": "python",
   "pygments_lexer": "ipython3",
   "version": "3.8.5"
  }
 },
 "nbformat": 4,
 "nbformat_minor": 4
}
