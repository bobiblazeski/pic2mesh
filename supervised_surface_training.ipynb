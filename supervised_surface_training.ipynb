{
 "cells": [
  {
   "cell_type": "code",
   "execution_count": 1,
   "metadata": {},
   "outputs": [
    {
     "data": {
      "text/html": [
       "        <script type=\"text/javascript\">\n",
       "        window.PlotlyConfig = {MathJaxConfig: 'local'};\n",
       "        if (window.MathJax) {MathJax.Hub.Config({SVG: {font: \"STIX-Web\"}});}\n",
       "        if (typeof require !== 'undefined') {\n",
       "        require.undef(\"plotly\");\n",
       "        requirejs.config({\n",
       "            paths: {\n",
       "                'plotly': ['https://cdn.plot.ly/plotly-latest.min']\n",
       "            }\n",
       "        });\n",
       "        require(['plotly'], function(Plotly) {\n",
       "            window._Plotly = Plotly;\n",
       "        });\n",
       "        }\n",
       "        </script>\n",
       "        "
      ]
     },
     "metadata": {},
     "output_type": "display_data"
    },
    {
     "data": {
      "text/html": [
       "        <script type=\"text/javascript\">\n",
       "        window.PlotlyConfig = {MathJaxConfig: 'local'};\n",
       "        if (window.MathJax) {MathJax.Hub.Config({SVG: {font: \"STIX-Web\"}});}\n",
       "        if (typeof require !== 'undefined') {\n",
       "        require.undef(\"plotly\");\n",
       "        requirejs.config({\n",
       "            paths: {\n",
       "                'plotly': ['https://cdn.plot.ly/plotly-latest.min']\n",
       "            }\n",
       "        });\n",
       "        require(['plotly'], function(Plotly) {\n",
       "            window._Plotly = Plotly;\n",
       "        });\n",
       "        }\n",
       "        </script>\n",
       "        "
      ]
     },
     "metadata": {},
     "output_type": "display_data"
    },
    {
     "data": {
      "text/html": [
       "        <script type=\"text/javascript\">\n",
       "        window.PlotlyConfig = {MathJaxConfig: 'local'};\n",
       "        if (window.MathJax) {MathJax.Hub.Config({SVG: {font: \"STIX-Web\"}});}\n",
       "        if (typeof require !== 'undefined') {\n",
       "        require.undef(\"plotly\");\n",
       "        requirejs.config({\n",
       "            paths: {\n",
       "                'plotly': ['https://cdn.plot.ly/plotly-latest.min']\n",
       "            }\n",
       "        });\n",
       "        require(['plotly'], function(Plotly) {\n",
       "            window._Plotly = Plotly;\n",
       "        });\n",
       "        }\n",
       "        </script>\n",
       "        "
      ]
     },
     "metadata": {},
     "output_type": "display_data"
    },
    {
     "data": {
      "text/html": [
       "        <script type=\"text/javascript\">\n",
       "        window.PlotlyConfig = {MathJaxConfig: 'local'};\n",
       "        if (window.MathJax) {MathJax.Hub.Config({SVG: {font: \"STIX-Web\"}});}\n",
       "        if (typeof require !== 'undefined') {\n",
       "        require.undef(\"plotly\");\n",
       "        requirejs.config({\n",
       "            paths: {\n",
       "                'plotly': ['https://cdn.plot.ly/plotly-latest.min']\n",
       "            }\n",
       "        });\n",
       "        require(['plotly'], function(Plotly) {\n",
       "            window._Plotly = Plotly;\n",
       "        });\n",
       "        }\n",
       "        </script>\n",
       "        "
      ]
     },
     "metadata": {},
     "output_type": "display_data"
    }
   ],
   "source": [
    "# Train generator and discriminator \n",
    "# directly on surface\n",
    "import torch\n",
    "import torch.nn as nn\n",
    "import torch.nn.functional as F\n",
    "import pytorch_lightning as pl\n",
    "from pytorch3d.loss import (\n",
    "    chamfer_distance,    \n",
    ")\n",
    "\n",
    "from src.callback.log_mesh import LogMesh\n",
    "from src.utilities.util import grid_to_list\n",
    "from src.models.discriminator import Discriminator\n",
    "from src.models.surface_generator import Generator"
   ]
  },
  {
   "cell_type": "code",
   "execution_count": 2,
   "metadata": {},
   "outputs": [
    {
     "data": {
      "text/plain": [
       "SurfaceSupervised(\n",
       "  (G): Generator(\n",
       "    (points): SurfaceGenerator(\n",
       "      (trunk): Sequential(\n",
       "        (head): UpConvBlock(\n",
       "          (upsample): Upsample(scale_factor=4.0, mode=bilinear)\n",
       "          (conv): Conv2d(3, 128, kernel_size=(3, 3), stride=(1, 1), padding=(1, 1), bias=False)\n",
       "          (lrelu): LeakyReLU(negative_slope=0.2)\n",
       "        )\n",
       "        (main): Sequential(\n",
       "          (b0): ConvBlock(\n",
       "            (conv): Conv2d(128, 128, kernel_size=(3, 3), stride=(1, 1), padding=(1, 1), bias=False)\n",
       "            (lrelu): LeakyReLU(negative_slope=0.2)\n",
       "          )\n",
       "          (b1): ConvBlock(\n",
       "            (conv): Conv2d(128, 128, kernel_size=(3, 3), stride=(1, 1), padding=(1, 1), bias=False)\n",
       "            (lrelu): LeakyReLU(negative_slope=0.2)\n",
       "          )\n",
       "          (b2): ConvBlock(\n",
       "            (conv): Conv2d(128, 128, kernel_size=(3, 3), stride=(1, 1), padding=(1, 1), bias=False)\n",
       "            (lrelu): LeakyReLU(negative_slope=0.2)\n",
       "          )\n",
       "        )\n",
       "      )\n",
       "      (points): Sequential(\n",
       "        (0): Conv2d(128, 3, kernel_size=(3, 3), stride=(1, 1), padding=(1, 1), bias=False)\n",
       "        (1): Tanh()\n",
       "      )\n",
       "    )\n",
       "  )\n",
       ")"
      ]
     },
     "execution_count": 2,
     "metadata": {},
     "output_type": "execute_result"
    }
   ],
   "source": [
    "class SurfaceSupervised(pl.LightningModule):\n",
    "    \n",
    "    def __init__(self, hparams):\n",
    "        super().__init__()        \n",
    "        self.save_hyperparameters(hparams)\n",
    "        \n",
    "        self.G = Generator(hparams)\n",
    "        #self.D = Discriminator(hparams)\n",
    "        \n",
    "        \n",
    "    def forward(self, outline):\n",
    "        return self.G(outline)\n",
    "    \n",
    "    def log_all(self, r, p, d):\n",
    "        for k, v in  d.items(): \n",
    "            self.log(f\"{r}_loss_{p}/{k}\", v)        \n",
    "            \n",
    "    def adversarial_loss(self, lbl, is_real):\n",
    "        trg = torch.ones_like(lbl) if is_real else torch.zeros_like(lbl)\n",
    "        return F.binary_cross_entropy_with_logits(lbl, trg)\n",
    "    \n",
    "    def train_generator(self, vertices, batch):\n",
    "        loss = F.l1_loss(vertices, batch['baseline'])                         \n",
    "        log =  {\n",
    "            'G_loss' : loss.item(),            \n",
    "        }        \n",
    "        return loss, log    \n",
    "    \n",
    "    def training_step(self, batch, batch_idx):\n",
    "        vertices = self.G(batch['outline'])\n",
    "        loss, log = self.train_generator(vertices, batch)\n",
    "        self.log_all('train', 'G', log)            \n",
    "        return loss\n",
    "        \n",
    "#     def validation_step(self, batch, batch_idx):\n",
    "#         vertices = self.G(batch['outline'])\n",
    "#         _, log = self.train_discriminator(vertices, batch)        \n",
    "#         self.log_all('val', 'D', log)   \n",
    "#         _, log = self.train_generator(vertices, batch)\n",
    "#         self.log_all('val', 'G', log)     \n",
    "        \n",
    "    def configure_optimizers(self):\n",
    "        lr, betas = 0.0003, (0.5, 0.999)\n",
    "        #opt_d = torch.optim.Adam(self.D.parameters(), lr=lr, betas=betas)\n",
    "        opt_g = torch.optim.Adam(self.G.parameters(),  lr=lr, betas=betas)\n",
    "        return [opt_g], []\n",
    "    \n",
    "    \n",
    "\n",
    "from src.config import get_parser\n",
    "\n",
    "config = get_parser().parse_args(args=[])   \n",
    "\n",
    "config.log_mesh_interval = 100\n",
    "config.fast_outline_size =  32\n",
    "#config.fast_baseline_size = 128\n",
    "#config.fast_image_size = 128\n",
    "config.fast_batch_size = 16\n",
    "config.raster_faces_per_pixel = 4\n",
    "config.G_noise_amp = 0.005 #0.002\n",
    "#config.geoaug_policy = 'scaling'\n",
    "#config.fast_discriminator_channels[0] = 3\n",
    "\n",
    "\n",
    "model = SurfaceSupervised(config)\n",
    "model"
   ]
  },
  {
   "cell_type": "code",
   "execution_count": 3,
   "metadata": {},
   "outputs": [
    {
     "data": {
      "text/plain": [
       "<src.data.surface_datamodule.SurfaceDataModule at 0x7fb3b2158f70>"
      ]
     },
     "execution_count": 3,
     "metadata": {},
     "output_type": "execute_result"
    }
   ],
   "source": [
    "from src.data.surface_datamodule import SurfaceDataModule\n",
    "\n",
    "dm = SurfaceDataModule(config)    \n",
    "dm"
   ]
  },
  {
   "cell_type": "code",
   "execution_count": null,
   "metadata": {},
   "outputs": [
    {
     "name": "stderr",
     "output_type": "stream",
     "text": [
      "Using native 16bit precision.\n",
      "GPU available: True, used: True\n",
      "TPU available: False, using: 0 TPU cores\n",
      "IPU available: False, using: 0 IPUs\n",
      "LOCAL_RANK: 0 - CUDA_VISIBLE_DEVICES: [0]\n",
      "\n",
      "  | Name | Type      | Params\n",
      "-----------------------------------\n",
      "0 | G    | Generator | 449 K \n",
      "-----------------------------------\n",
      "449 K     Trainable params\n",
      "0         Non-trainable params\n",
      "449 K     Total params\n",
      "1.797     Total estimated model params size (MB)\n"
     ]
    },
    {
     "data": {
      "application/vnd.jupyter.widget-view+json": {
       "model_id": "89309cda11c049f196de1ca3c1dd43ac",
       "version_major": 2,
       "version_minor": 0
      },
      "text/plain": [
       "HBox(children=(FloatProgress(value=1.0, bar_style='info', description='Training', layout=Layout(flex='2'), max…"
      ]
     },
     "metadata": {},
     "output_type": "display_data"
    }
   ],
   "source": [
    "trainer = pl.Trainer(gpus=1, max_epochs=1000, progress_bar_refresh_rate=5,\n",
    "                     #terminate_on_nan=True, \n",
    "                     #profiler=\"pytorch\",\n",
    "                     log_every_n_steps=2, \n",
    "                     callbacks=[LogMesh(config)],\n",
    "                     precision=16,\n",
    "                    )\n",
    "trainer.fit(model, dm)"
   ]
  },
  {
   "cell_type": "code",
   "execution_count": null,
   "metadata": {},
   "outputs": [],
   "source": []
  }
 ],
 "metadata": {
  "kernelspec": {
   "display_name": "pytorch3d_05",
   "language": "python",
   "name": "pytorch3d_05"
  },
  "language_info": {
   "codemirror_mode": {
    "name": "ipython",
    "version": 3
   },
   "file_extension": ".py",
   "mimetype": "text/x-python",
   "name": "python",
   "nbconvert_exporter": "python",
   "pygments_lexer": "ipython3",
   "version": "3.8.11"
  }
 },
 "nbformat": 4,
 "nbformat_minor": 4
}
