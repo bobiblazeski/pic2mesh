{
 "cells": [
  {
   "cell_type": "code",
   "execution_count": 1,
   "metadata": {},
   "outputs": [],
   "source": [
    "from collections import OrderedDict\n",
    "\n",
    "\n",
    "import torch\n",
    "import torch.nn as nn\n",
    "import torch.nn.functional as F\n",
    "from torch.nn.utils import spectral_norm\n",
    "\n",
    "from src.models.layers import (\n",
    "    ConstantInput,    \n",
    "    StyledConv2d,\n",
    ")\n",
    "\n",
    "\n",
    "from src.config import get_parser\n",
    "\n",
    "config = get_parser().parse_args(args=[]) "
   ]
  },
  {
   "cell_type": "code",
   "execution_count": 2,
   "metadata": {},
   "outputs": [
    {
     "name": "stdout",
     "output_type": "stream",
     "text": [
      "Stylist(\n",
      "  (conv0): ConvBlock(\n",
      "    (conv): Conv2d(1, 256, kernel_size=(3, 3), stride=(1, 1), padding=(1, 1), bias=False)\n",
      "    (lrelu): LeakyReLU(negative_slope=0.2)\n",
      "  )\n",
      "  (conv1): ConvBlock(\n",
      "    (conv): Conv2d(256, 256, kernel_size=(3, 3), stride=(1, 1), padding=(1, 1), bias=False)\n",
      "    (lrelu): LeakyReLU(negative_slope=0.2)\n",
      "  )\n",
      "  (conv2): ConvBlock(\n",
      "    (conv): Conv2d(256, 256, kernel_size=(3, 3), stride=(1, 1), padding=(1, 1), bias=False)\n",
      "    (lrelu): LeakyReLU(negative_slope=0.2)\n",
      "  )\n",
      "  (avgpool): AdaptiveAvgPool2d(output_size=(1, 1))\n",
      "  (flatten): Flatten(start_dim=1, end_dim=-1)\n",
      "  (linear): Linear(in_features=256, out_features=256, bias=True)\n",
      ")\n"
     ]
    },
    {
     "data": {
      "text/plain": [
       "torch.Size([3, 256])"
      ]
     },
     "execution_count": 2,
     "metadata": {},
     "output_type": "execute_result"
    }
   ],
   "source": [
    "from src.models.util import ConvBlock\n",
    "\n",
    "\n",
    "class Stylist(nn.Sequential):\n",
    "    def __init__(self, config):\n",
    "        super(Stylist,self).__init__()\n",
    "        channels = config.stylist_channels\n",
    "        style_dim = config.style_dim\n",
    "        for i, (in_ch, out_ch) in enumerate(zip(channels, channels[1:])):\n",
    "            self.add_module(f'conv{i}', ConvBlock(in_ch, out_ch))            \n",
    "        self.add_module('avgpool', nn.AdaptiveAvgPool2d((1, 1)))\n",
    "        self.add_module('flatten', nn.Flatten())\n",
    "        self.add_module('linear', nn.Linear(channels[-1], style_dim))\n",
    "\n",
    "stylist = Stylist(config)\n",
    "print(stylist)\n",
    "\n",
    "stylist(torch.rand(3, 1, 256, 256)).shape"
   ]
  },
  {
   "cell_type": "code",
   "execution_count": 5,
   "metadata": {},
   "outputs": [
    {
     "name": "stdout",
     "output_type": "stream",
     "text": [
      "Synthesis(\n",
      "  (input): ConstantInput()\n",
      "  (head): StyledConv2d(\n",
      "    (conv): ModulatedConv2d(\n",
      "      (modulation): Linear(in_features=256, out_features=3, bias=True)\n",
      "    )\n",
      "    (noise): NoiseInjection()\n",
      "    (act): LeakyReLU(negative_slope=0.2)\n",
      "  )\n",
      "  (trunk): ModuleList(\n",
      "    (0): StyledConv2d(\n",
      "      (conv): ModulatedConv2d(\n",
      "        (modulation): Linear(in_features=256, out_features=256, bias=True)\n",
      "      )\n",
      "      (noise): NoiseInjection()\n",
      "      (act): LeakyReLU(negative_slope=0.2)\n",
      "    )\n",
      "    (1): StyledConv2d(\n",
      "      (conv): ModulatedConv2d(\n",
      "        (modulation): Linear(in_features=256, out_features=256, bias=True)\n",
      "      )\n",
      "      (noise): NoiseInjection()\n",
      "      (act): LeakyReLU(negative_slope=0.2)\n",
      "    )\n",
      "    (2): StyledConv2d(\n",
      "      (conv): ModulatedConv2d(\n",
      "        (modulation): Linear(in_features=256, out_features=256, bias=True)\n",
      "      )\n",
      "      (noise): NoiseInjection()\n",
      "      (act): LeakyReLU(negative_slope=0.2)\n",
      "    )\n",
      "  )\n",
      "  (tail): Sequential(\n",
      "    (0): Conv2d(256, 3, kernel_size=(3, 3), stride=(1, 1), padding=(1, 1), bias=False)\n",
      "    (1): Tanh()\n",
      "  )\n",
      ")\n"
     ]
    },
    {
     "data": {
      "text/plain": [
       "torch.Size([3, 3, 32, 32])"
      ]
     },
     "execution_count": 5,
     "metadata": {},
     "output_type": "execute_result"
    }
   ],
   "source": [
    "class Synthesis(nn.Module):\n",
    "    def __init__(self, config):        \n",
    "        super(Synthesis,self).__init__()        \n",
    "        channels = config.synthesis_channels        \n",
    "        self.input = ConstantInput(config.initial_input_file,\n",
    "            config.grid_size, config.initial_input_fixed)\n",
    "        self.head = StyledConv2d(3, channels[0], config.style_dim, 3)              \n",
    "        self.trunk = nn.ModuleList([\n",
    "            StyledConv2d(in_ch, out_ch, config.style_dim, 3)\n",
    "            for i, (in_ch, out_ch) in\n",
    "            enumerate(zip(channels, channels[1:]))\n",
    "        ])\n",
    "        self.tail = nn.Sequential(\n",
    "            spectral_norm(nn.Conv2d(channels[-1], 3, 3, 1, 1, bias=False)),            \n",
    "            nn.Tanh(),)\n",
    "\n",
    "    def forward(self, style):\n",
    "        x = self.input(style)        \n",
    "        x = self.head(x, style) \n",
    "        for layer in self.trunk:\n",
    "            x = layer(x, style)        \n",
    "        x = self.tail(x)        \n",
    "        return x\n",
    "    \n",
    "\n",
    "\n",
    "synthesis = Synthesis(config)    \n",
    "print(synthesis)\n",
    "\n",
    "synthesis(torch.rand(3, config.style_dim)).shape"
   ]
  },
  {
   "cell_type": "code",
   "execution_count": 8,
   "metadata": {},
   "outputs": [
    {
     "data": {
      "text/plain": [
       "torch.Size([5, 3, 256, 256])"
      ]
     },
     "execution_count": 8,
     "metadata": {},
     "output_type": "execute_result"
    }
   ],
   "source": [
    "class Generator(nn.Module):\n",
    "    def __init__(self, config):        \n",
    "        super(Generator,self).__init__()\n",
    "        self.stylist = Stylist(config)\n",
    "        self.synthesis = Synthesis(config)    \n",
    "        \n",
    "    def forward(self, image):\n",
    "        style = self.stylist(image) \n",
    "        points = self.synthesis(style)\n",
    "        return points\n",
    "    \n",
    "G = Generator(config)    \n",
    "G(torch.rand(5, 1, 64, 64)).shape"
   ]
  },
  {
   "cell_type": "code",
   "execution_count": 3,
   "metadata": {
    "scrolled": true
   },
   "outputs": [
    {
     "data": {
      "text/plain": [
       "StyleGenerator(\n",
       "  (stylist): Stylist(\n",
       "    (conv0): ConvBlock(\n",
       "      (conv): Conv2d(1, 256, kernel_size=(3, 3), stride=(1, 1), padding=(1, 1), bias=False)\n",
       "      (lrelu): LeakyReLU(negative_slope=0.2)\n",
       "    )\n",
       "    (conv1): ConvBlock(\n",
       "      (conv): Conv2d(256, 256, kernel_size=(3, 3), stride=(1, 1), padding=(1, 1), bias=False)\n",
       "      (lrelu): LeakyReLU(negative_slope=0.2)\n",
       "    )\n",
       "    (conv2): ConvBlock(\n",
       "      (conv): Conv2d(256, 256, kernel_size=(3, 3), stride=(1, 1), padding=(1, 1), bias=False)\n",
       "      (lrelu): LeakyReLU(negative_slope=0.2)\n",
       "    )\n",
       "    (avgpool): AdaptiveAvgPool2d(output_size=(1, 1))\n",
       "    (flatten): Flatten(start_dim=1, end_dim=-1)\n",
       "    (linear): Linear(in_features=256, out_features=256, bias=True)\n",
       "  )\n",
       "  (synthesis): Synthesis(\n",
       "    (input): ConstantInput()\n",
       "    (head): StyledConv2d(\n",
       "      (conv): ModulatedConv2d(\n",
       "        (modulation): Linear(in_features=256, out_features=3, bias=True)\n",
       "      )\n",
       "      (noise): NoiseInjection()\n",
       "      (act): LeakyReLU(negative_slope=0.2)\n",
       "    )\n",
       "    (trunk): Sequential(\n",
       "      (b0): ConvBlock(\n",
       "        (conv): Conv2d(256, 256, kernel_size=(3, 3), stride=(1, 1), padding=(1, 1), bias=False)\n",
       "        (lrelu): LeakyReLU(negative_slope=0.2)\n",
       "      )\n",
       "      (b1): ConvBlock(\n",
       "        (conv): Conv2d(256, 256, kernel_size=(3, 3), stride=(1, 1), padding=(1, 1), bias=False)\n",
       "        (lrelu): LeakyReLU(negative_slope=0.2)\n",
       "      )\n",
       "      (b2): ConvBlock(\n",
       "        (conv): Conv2d(256, 256, kernel_size=(3, 3), stride=(1, 1), padding=(1, 1), bias=False)\n",
       "        (lrelu): LeakyReLU(negative_slope=0.2)\n",
       "      )\n",
       "    )\n",
       "    (tail): Sequential(\n",
       "      (0): Conv2d(256, 3, kernel_size=(3, 3), stride=(1, 1), padding=(1, 1), bias=False)\n",
       "      (1): Tanh()\n",
       "    )\n",
       "  )\n",
       ")"
      ]
     },
     "execution_count": 3,
     "metadata": {},
     "output_type": "execute_result"
    }
   ],
   "source": [
    "from src.models.style_generator import StyleGenerator\n",
    "\n",
    "G = StyleGenerator(config)\n",
    "G"
   ]
  },
  {
   "cell_type": "code",
   "execution_count": 4,
   "metadata": {},
   "outputs": [
    {
     "data": {
      "text/plain": [
       "torch.Size([5, 3, 256, 256])"
      ]
     },
     "execution_count": 4,
     "metadata": {},
     "output_type": "execute_result"
    }
   ],
   "source": [
    "G(torch.rand(5, 1, 32, 32)).shape\n"
   ]
  },
  {
   "cell_type": "code",
   "execution_count": null,
   "metadata": {},
   "outputs": [],
   "source": []
  }
 ],
 "metadata": {
  "kernelspec": {
   "display_name": "pytorch3d_0.3",
   "language": "python",
   "name": "pytorch3d_0.3"
  },
  "language_info": {
   "codemirror_mode": {
    "name": "ipython",
    "version": 3
   },
   "file_extension": ".py",
   "mimetype": "text/x-python",
   "name": "python",
   "nbconvert_exporter": "python",
   "pygments_lexer": "ipython3",
   "version": "3.8.5"
  }
 },
 "nbformat": 4,
 "nbformat_minor": 4
}
