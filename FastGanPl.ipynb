{
 "cells": [
  {
   "cell_type": "code",
   "execution_count": null,
   "metadata": {},
   "outputs": [],
   "source": [
    "import torch\n",
    "import pytorch_lightning as pl\n",
    "\n",
    "from src.render.mesh_renderer import MeshPointsRenderer\n",
    "from src.models.discriminator import Discriminator\n",
    "from src.models.generator import Generator\n",
    "\n",
    "class GAN(pl.LightningModule):\n",
    "    \n",
    "    def __init__(self, hparams):\n",
    "        super().__init__()\n",
    "        self.hparams = hparams\n",
    "        #self.automatic_optimization = False\n",
    "        self.mean = sum(hparams.image_mean) / len(hparams.image_mean)\n",
    "        self.std = sum(hparams.image_std) / len(hparams.image_std)\n",
    "        \n",
    "        self.G = Generator(hparams)\n",
    "        self.D = Discriminator(hparams)                \n",
    "        self.R = MeshPointsRenderer(hparams)     \n",
    "        self.edge_loss = EdgeLoss(hparams)\n",
    "        \n",
    "     \n",
    "    def forward(self, points):\n",
    "        return self.G(points)\n",
    "    \n",
    "    def adversarial_loss(self, y_hat, y):\n",
    "        return F.mse_loss(y_hat, y)\n",
    "    \n",
    "    def training_step(self, batch, batch_idx, optimizer_idx):        \n",
    "        img_patch = batch['image']\n",
    "        blueprint = batch['blueprint']\n",
    "        \n",
    "        self.R.setup(points.device)        \n",
    "        \n",
    "        # train generator\n",
    "        if optimizer_idx == 0:\n",
    "            \n",
    "            return OrderedDict({ 'loss': g_loss, })\n",
    "\n",
    "        # train discriminator\n",
    "        if optimizer_idx == 1:            \n",
    "            \n",
    "            self.log(\"loss/d_loss\", d_loss, on_step=True)            \n",
    "            return OrderedDict({ 'loss': d_loss, })\n",
    "\n",
    "    \n",
    "    def configure_optimizers(self):\n",
    "        lr_g = self.hparams.lr_g\n",
    "        lr_d = self.hparams.lr_d\n",
    "        b1 = self.hparams.beta1\n",
    "        b2 = self.hparams.beta2      \n",
    "        opt_g = torch.optim.Adam(self.G.parameters(), \n",
    "                                 lr=lr_g, betas=(b1, b2))\n",
    "        opt_d = torch.optim.Adam(self.D.parameters(), \n",
    "                                 lr=lr_d, betas=(b1, b2))\n",
    "        return [opt_g, opt_d], []"
   ]
  }
 ],
 "metadata": {
  "kernelspec": {
   "display_name": "pytorch3d_0.3",
   "language": "python",
   "name": "pytorch3d_0.3"
  },
  "language_info": {
   "codemirror_mode": {
    "name": "ipython",
    "version": 3
   },
   "file_extension": ".py",
   "mimetype": "text/x-python",
   "name": "python",
   "nbconvert_exporter": "python",
   "pygments_lexer": "ipython3",
   "version": "3.8.5"
  }
 },
 "nbformat": 4,
 "nbformat_minor": 4
}
