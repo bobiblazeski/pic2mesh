{
 "cells": [
  {
   "cell_type": "code",
   "execution_count": 9,
   "metadata": {},
   "outputs": [
    {
     "data": {
      "text/plain": [
       "(torch.Size([1, 3, 640, 640]), torch.Size([1, 3, 640, 640]))"
      ]
     },
     "execution_count": 9,
     "metadata": {},
     "output_type": "execute_result"
    }
   ],
   "source": [
    "import os\n",
    "import numpy as np\n",
    "import torch\n",
    "import torch.nn.functional as F\n",
    "from src.config import get_parser\n",
    "from src.util import make_faces\n",
    "from pytorch3d.structures import Meshes\n",
    "\n",
    "config = get_parser().parse_args(args=[])\n",
    "\n",
    "blueprint = np.load(os.path.join(config.data_dir, config.blueprint)) \n",
    "points = torch.tensor(blueprint['points'])\n",
    "normals = torch.tensor(blueprint['normals'])\n",
    "points = F.interpolate(points, size=config.data_blueprint_size,\n",
    "                               mode='bicubic', align_corners=True)\n",
    "normals = F.interpolate(normals, size=config.data_blueprint_size, \n",
    "                        mode='bicubic', align_corners=True)   \n",
    "points.shape, normals.shape"
   ]
  },
  {
   "cell_type": "code",
   "execution_count": 4,
   "metadata": {},
   "outputs": [
    {
     "data": {
      "text/plain": [
       "torch.Size([816642, 3])"
      ]
     },
     "execution_count": 4,
     "metadata": {},
     "output_type": "execute_result"
    }
   ],
   "source": [
    "faces = torch.tensor(make_faces(config.data_blueprint_size, config.data_blueprint_size))\n",
    "faces.shape"
   ]
  },
  {
   "cell_type": "code",
   "execution_count": 7,
   "metadata": {},
   "outputs": [
    {
     "data": {
      "text/plain": [
       "(torch.Size([5, 409600, 3]), torch.Size([5, 816642, 3]))"
      ]
     },
     "execution_count": 7,
     "metadata": {},
     "output_type": "execute_result"
    }
   ],
   "source": [
    "bs = 5\n",
    "verts = points.reshape(1, 3, -1).permute(0, 2, 1).expand(bs, -1, -1)\n",
    "face_id = faces[None].expand(bs, -1, -1)\n",
    "verts.shape, face_id.shape"
   ]
  },
  {
   "cell_type": "code",
   "execution_count": 10,
   "metadata": {},
   "outputs": [
    {
     "data": {
      "text/plain": [
       "<pytorch3d.structures.meshes.Meshes at 0x7fb0d929bf40>"
      ]
     },
     "execution_count": 10,
     "metadata": {},
     "output_type": "execute_result"
    }
   ],
   "source": [
    "trg_mesh = Meshes(verts=verts, faces=face_id)\n",
    "trg_mesh"
   ]
  },
  {
   "cell_type": "code",
   "execution_count": 13,
   "metadata": {},
   "outputs": [
    {
     "data": {
      "text/plain": [
       "tensor(8.8474e-05)"
      ]
     },
     "execution_count": 13,
     "metadata": {},
     "output_type": "execute_result"
    }
   ],
   "source": [
    "from src.loss.edge_loss import EdgeLoss\n",
    "\n",
    "config.data_patch_size = config.data_blueprint_size\n",
    "edgeLoss = EdgeLoss(config)\n",
    "edgeLoss(verts)"
   ]
  },
  {
   "cell_type": "code",
   "execution_count": null,
   "metadata": {},
   "outputs": [],
   "source": [
    "def _compute_laplacian_packed(self, refresh: bool = False):\n",
    "    \"\"\"\n",
    "    Computes the laplacian in packed form.\n",
    "    The definition of the laplacian is\n",
    "    L[i, j] =    -1       , if i == j\n",
    "    L[i, j] = 1 / deg(i)  , if (i, j) is an edge\n",
    "    L[i, j] =    0        , otherwise\n",
    "    where deg(i) is the degree of the i-th vertex in the graph\n",
    "\n",
    "    Returns:\n",
    "        Sparse FloatTensor of shape (V, V) where V = sum(V_n)\n",
    "\n",
    "    \"\"\"   \n",
    "    verts_packed = self.verts_packed()  # (sum(V_n), 3)\n",
    "    edges_packed = self.edges_packed()  # (sum(E_n), 3)\n",
    "    V = verts_packed.shape[0]  # sum(V_n)\n",
    "\n",
    "    e0, e1 = edges_packed.unbind(1)\n",
    "\n",
    "    idx01 = torch.stack([e0, e1], dim=1)  # (sum(E_n), 2)\n",
    "    idx10 = torch.stack([e1, e0], dim=1)  # (sum(E_n), 2)\n",
    "    idx = torch.cat([idx01, idx10], dim=0).t()  # (2, 2*sum(E_n))\n",
    "\n",
    "    # First, we construct the adjacency matrix,\n",
    "    # i.e. A[i, j] = 1 if (i,j) is an edge, or\n",
    "    # A[e0, e1] = 1 &  A[e1, e0] = 1\n",
    "    ones = torch.ones(idx.shape[1], dtype=torch.float32, device=self.device)\n",
    "    A = torch.sparse.FloatTensor(idx, ones, (V, V))\n",
    "\n",
    "    # the sum of i-th row of A gives the degree of the i-th vertex\n",
    "    deg = torch.sparse.sum(A, dim=1).to_dense()\n",
    "\n",
    "    # We construct the Laplacian matrix by adding the non diagonal values\n",
    "    # i.e. L[i, j] = 1 ./ deg(i) if (i, j) is an edge\n",
    "    deg0 = deg[e0]\n",
    "    deg0 = torch.where(deg0 > 0.0, 1.0 / deg0, deg0)\n",
    "    deg1 = deg[e1]\n",
    "    deg1 = torch.where(deg1 > 0.0, 1.0 / deg1, deg1)\n",
    "    val = torch.cat([deg0, deg1])\n",
    "    L = torch.sparse.FloatTensor(idx, val, (V, V))\n",
    "\n",
    "    # Then we add the diagonal values L[i, i] = -1.\n",
    "    idx = torch.arange(V, device=self.device)\n",
    "    idx = torch.stack([idx, idx], dim=0)\n",
    "    ones = torch.ones(idx.shape[1], dtype=torch.float32, device=self.device)\n",
    "    L -= torch.sparse.FloatTensor(idx, ones, (V, V))\n",
    "\n",
    "    self._laplacian_packed = L\n",
    "    \n",
    "self = meshes    "
   ]
  }
 ],
 "metadata": {
  "kernelspec": {
   "display_name": "pytorch3d_0.3",
   "language": "python",
   "name": "pytorch3d_0.3"
  },
  "language_info": {
   "codemirror_mode": {
    "name": "ipython",
    "version": 3
   },
   "file_extension": ".py",
   "mimetype": "text/x-python",
   "name": "python",
   "nbconvert_exporter": "python",
   "pygments_lexer": "ipython3",
   "version": "3.8.5"
  }
 },
 "nbformat": 4,
 "nbformat_minor": 4
}
