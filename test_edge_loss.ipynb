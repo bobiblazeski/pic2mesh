{
 "cells": [
  {
   "cell_type": "code",
   "execution_count": 9,
   "metadata": {},
   "outputs": [
    {
     "data": {
      "text/plain": [
       "(torch.Size([1, 3, 640, 640]), torch.Size([1, 3, 640, 640]))"
      ]
     },
     "execution_count": 9,
     "metadata": {},
     "output_type": "execute_result"
    }
   ],
   "source": [
    "import os\n",
    "import numpy as np\n",
    "import torch\n",
    "import torch.nn.functional as F\n",
    "from src.config import get_parser\n",
    "from src.util import make_faces\n",
    "from pytorch3d.structures import Meshes\n",
    "\n",
    "config = get_parser().parse_args(args=[])\n",
    "\n",
    "blueprint = np.load(os.path.join(config.data_dir, config.blueprint)) \n",
    "points = torch.tensor(blueprint['points'])\n",
    "normals = torch.tensor(blueprint['normals'])\n",
    "points = F.interpolate(points, size=config.data_blueprint_size,\n",
    "                               mode='bicubic', align_corners=True)\n",
    "normals = F.interpolate(normals, size=config.data_blueprint_size, \n",
    "                        mode='bicubic', align_corners=True)   \n",
    "points.shape, normals.shape"
   ]
  },
  {
   "cell_type": "code",
   "execution_count": 4,
   "metadata": {},
   "outputs": [
    {
     "data": {
      "text/plain": [
       "torch.Size([816642, 3])"
      ]
     },
     "execution_count": 4,
     "metadata": {},
     "output_type": "execute_result"
    }
   ],
   "source": [
    "faces = torch.tensor(make_faces(config.data_blueprint_size, config.data_blueprint_size))\n",
    "faces.shape"
   ]
  },
  {
   "cell_type": "code",
   "execution_count": 7,
   "metadata": {},
   "outputs": [
    {
     "data": {
      "text/plain": [
       "(torch.Size([5, 409600, 3]), torch.Size([5, 816642, 3]))"
      ]
     },
     "execution_count": 7,
     "metadata": {},
     "output_type": "execute_result"
    }
   ],
   "source": [
    "bs = 5\n",
    "verts = points.reshape(1, 3, -1).permute(0, 2, 1).expand(bs, -1, -1)\n",
    "face_id = faces[None].expand(bs, -1, -1)\n",
    "verts.shape, face_id.shape"
   ]
  },
  {
   "cell_type": "code",
   "execution_count": 10,
   "metadata": {},
   "outputs": [
    {
     "data": {
      "text/plain": [
       "<pytorch3d.structures.meshes.Meshes at 0x7fb0d929bf40>"
      ]
     },
     "execution_count": 10,
     "metadata": {},
     "output_type": "execute_result"
    }
   ],
   "source": [
    "trg_mesh = Meshes(verts=verts, faces=face_id)\n",
    "trg_mesh"
   ]
  },
  {
   "cell_type": "code",
   "execution_count": 13,
   "metadata": {},
   "outputs": [
    {
     "data": {
      "text/plain": [
       "tensor(8.8474e-05)"
      ]
     },
     "execution_count": 13,
     "metadata": {},
     "output_type": "execute_result"
    }
   ],
   "source": [
    "from src.loss.edge_loss import EdgeLoss\n",
    "\n",
    "config.data_patch_size = config.data_blueprint_size\n",
    "edgeLoss = EdgeLoss(config)\n",
    "edgeLoss(verts)"
   ]
  },
  {
   "cell_type": "code",
   "execution_count": null,
   "metadata": {},
   "outputs": [],
   "source": []
  }
 ],
 "metadata": {
  "kernelspec": {
   "display_name": "pytorch3d_0.3",
   "language": "python",
   "name": "pytorch3d_0.3"
  },
  "language_info": {
   "codemirror_mode": {
    "name": "ipython",
    "version": 3
   },
   "file_extension": ".py",
   "mimetype": "text/x-python",
   "name": "python",
   "nbconvert_exporter": "python",
   "pygments_lexer": "ipython3",
   "version": "3.8.5"
  }
 },
 "nbformat": 4,
 "nbformat_minor": 4
}
