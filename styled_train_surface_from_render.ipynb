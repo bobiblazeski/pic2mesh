{
 "cells": [
  {
   "cell_type": "code",
   "execution_count": 1,
   "metadata": {},
   "outputs": [
    {
     "data": {
      "text/html": [
       "        <script type=\"text/javascript\">\n",
       "        window.PlotlyConfig = {MathJaxConfig: 'local'};\n",
       "        if (window.MathJax) {MathJax.Hub.Config({SVG: {font: \"STIX-Web\"}});}\n",
       "        if (typeof require !== 'undefined') {\n",
       "        require.undef(\"plotly\");\n",
       "        requirejs.config({\n",
       "            paths: {\n",
       "                'plotly': ['https://cdn.plot.ly/plotly-latest.min']\n",
       "            }\n",
       "        });\n",
       "        require(['plotly'], function(Plotly) {\n",
       "            window._Plotly = Plotly;\n",
       "        });\n",
       "        }\n",
       "        </script>\n",
       "        "
      ]
     },
     "metadata": {},
     "output_type": "display_data"
    },
    {
     "data": {
      "text/html": [
       "        <script type=\"text/javascript\">\n",
       "        window.PlotlyConfig = {MathJaxConfig: 'local'};\n",
       "        if (window.MathJax) {MathJax.Hub.Config({SVG: {font: \"STIX-Web\"}});}\n",
       "        if (typeof require !== 'undefined') {\n",
       "        require.undef(\"plotly\");\n",
       "        requirejs.config({\n",
       "            paths: {\n",
       "                'plotly': ['https://cdn.plot.ly/plotly-latest.min']\n",
       "            }\n",
       "        });\n",
       "        require(['plotly'], function(Plotly) {\n",
       "            window._Plotly = Plotly;\n",
       "        });\n",
       "        }\n",
       "        </script>\n",
       "        "
      ]
     },
     "metadata": {},
     "output_type": "display_data"
    },
    {
     "data": {
      "text/html": [
       "        <script type=\"text/javascript\">\n",
       "        window.PlotlyConfig = {MathJaxConfig: 'local'};\n",
       "        if (window.MathJax) {MathJax.Hub.Config({SVG: {font: \"STIX-Web\"}});}\n",
       "        if (typeof require !== 'undefined') {\n",
       "        require.undef(\"plotly\");\n",
       "        requirejs.config({\n",
       "            paths: {\n",
       "                'plotly': ['https://cdn.plot.ly/plotly-latest.min']\n",
       "            }\n",
       "        });\n",
       "        require(['plotly'], function(Plotly) {\n",
       "            window._Plotly = Plotly;\n",
       "        });\n",
       "        }\n",
       "        </script>\n",
       "        "
      ]
     },
     "metadata": {},
     "output_type": "display_data"
    },
    {
     "data": {
      "text/html": [
       "        <script type=\"text/javascript\">\n",
       "        window.PlotlyConfig = {MathJaxConfig: 'local'};\n",
       "        if (window.MathJax) {MathJax.Hub.Config({SVG: {font: \"STIX-Web\"}});}\n",
       "        if (typeof require !== 'undefined') {\n",
       "        require.undef(\"plotly\");\n",
       "        requirejs.config({\n",
       "            paths: {\n",
       "                'plotly': ['https://cdn.plot.ly/plotly-latest.min']\n",
       "            }\n",
       "        });\n",
       "        require(['plotly'], function(Plotly) {\n",
       "            window._Plotly = Plotly;\n",
       "        });\n",
       "        }\n",
       "        </script>\n",
       "        "
      ]
     },
     "metadata": {},
     "output_type": "display_data"
    }
   ],
   "source": [
    "import torch\n",
    "import torch.nn as nn\n",
    "import torch.nn.functional as F\n",
    "import pytorch_lightning as pl\n",
    "from pytorch3d.loss import (\n",
    "    chamfer_distance,    \n",
    ")\n",
    "from pytorch3d.structures import Meshes\n",
    "from pytorch3d.ops import sample_points_from_meshes\n",
    "from src.callback.log_render_sample import LogRenderSample\n",
    "from src.utilities.util import (\n",
    "    grid_to_list,\n",
    "    make_faces,\n",
    "    list_to_grid,\n",
    ")"
   ]
  },
  {
   "cell_type": "code",
   "execution_count": 2,
   "metadata": {},
   "outputs": [
    {
     "data": {
      "text/plain": [
       "StyleGenerator(\n",
       "  (stylist): Stylist(\n",
       "    (conv0): ConvBlock(\n",
       "      (conv): Conv2d(1, 256, kernel_size=(3, 3), stride=(1, 1), padding=(1, 1), bias=False)\n",
       "      (lrelu): LeakyReLU(negative_slope=0.2)\n",
       "    )\n",
       "    (conv1): ConvBlock(\n",
       "      (conv): Conv2d(256, 256, kernel_size=(3, 3), stride=(1, 1), padding=(1, 1), bias=False)\n",
       "      (lrelu): LeakyReLU(negative_slope=0.2)\n",
       "    )\n",
       "    (conv2): ConvBlock(\n",
       "      (conv): Conv2d(256, 256, kernel_size=(3, 3), stride=(1, 1), padding=(1, 1), bias=False)\n",
       "      (lrelu): LeakyReLU(negative_slope=0.2)\n",
       "    )\n",
       "    (avgpool): AdaptiveAvgPool2d(output_size=(1, 1))\n",
       "    (flatten): Flatten(start_dim=1, end_dim=-1)\n",
       "    (linear): Linear(in_features=256, out_features=256, bias=True)\n",
       "  )\n",
       "  (synthesis): Synthesis(\n",
       "    (input): ConstantInput()\n",
       "    (head): StyledConv2d(\n",
       "      (conv): ModulatedConv2d(\n",
       "        (modulation): Linear(in_features=256, out_features=3, bias=True)\n",
       "      )\n",
       "      (noise): NoiseInjection()\n",
       "      (act): LeakyReLU(negative_slope=0.2)\n",
       "    )\n",
       "    (trunk): Sequential(\n",
       "      (b0): ConvBlock(\n",
       "        (conv): Conv2d(256, 256, kernel_size=(3, 3), stride=(1, 1), padding=(1, 1), bias=False)\n",
       "        (lrelu): LeakyReLU(negative_slope=0.2)\n",
       "      )\n",
       "      (b1): ConvBlock(\n",
       "        (conv): Conv2d(256, 256, kernel_size=(3, 3), stride=(1, 1), padding=(1, 1), bias=False)\n",
       "        (lrelu): LeakyReLU(negative_slope=0.2)\n",
       "      )\n",
       "      (b2): ConvBlock(\n",
       "        (conv): Conv2d(256, 256, kernel_size=(3, 3), stride=(1, 1), padding=(1, 1), bias=False)\n",
       "        (lrelu): LeakyReLU(negative_slope=0.2)\n",
       "      )\n",
       "    )\n",
       "    (tail): Sequential(\n",
       "      (0): Conv2d(256, 3, kernel_size=(3, 3), stride=(1, 1), padding=(1, 1), bias=False)\n",
       "      (1): Tanh()\n",
       "    )\n",
       "  )\n",
       ")"
      ]
     },
     "execution_count": 2,
     "metadata": {},
     "output_type": "execute_result"
    }
   ],
   "source": [
    "from src.models.style_generator import StyleGenerator\n",
    "from src.config import get_parser\n",
    "\n",
    "config = get_parser().parse_args(args=[])  \n",
    "config.fast_image_size = 32\n",
    "config.fast_batch_size = 8\n",
    "config.fast_generator_channels = [256, 256, 256, 256, 256]\n",
    "\n",
    "G = StyleGenerator(config)    \n",
    "G"
   ]
  },
  {
   "cell_type": "code",
   "execution_count": 3,
   "metadata": {
    "scrolled": true
   },
   "outputs": [
    {
     "name": "stdout",
     "output_type": "stream",
     "text": [
      "image torch.Size([8, 1, 32, 32])\n",
      "label torch.Size([8])\n",
      "samples torch.Size([8, 1024, 3])\n",
      "grid torch.Size([8, 3, 32, 32])\n"
     ]
    }
   ],
   "source": [
    "from src.data.sample_render import SampleRenderDataModule\n",
    "\n",
    "dm = SampleRenderDataModule(config)\n",
    "batch = next(iter(dm.train_dataloader()))\n",
    "for k,v in batch.items():\n",
    "    print(k, v.shape)"
   ]
  },
  {
   "cell_type": "code",
   "execution_count": 4,
   "metadata": {},
   "outputs": [
    {
     "data": {
      "text/plain": [
       "RenderToSurface(\n",
       "  (G): StyleGenerator(\n",
       "    (stylist): Stylist(\n",
       "      (conv0): ConvBlock(\n",
       "        (conv): Conv2d(1, 256, kernel_size=(3, 3), stride=(1, 1), padding=(1, 1), bias=False)\n",
       "        (lrelu): LeakyReLU(negative_slope=0.2)\n",
       "      )\n",
       "      (conv1): ConvBlock(\n",
       "        (conv): Conv2d(256, 256, kernel_size=(3, 3), stride=(1, 1), padding=(1, 1), bias=False)\n",
       "        (lrelu): LeakyReLU(negative_slope=0.2)\n",
       "      )\n",
       "      (conv2): ConvBlock(\n",
       "        (conv): Conv2d(256, 256, kernel_size=(3, 3), stride=(1, 1), padding=(1, 1), bias=False)\n",
       "        (lrelu): LeakyReLU(negative_slope=0.2)\n",
       "      )\n",
       "      (avgpool): AdaptiveAvgPool2d(output_size=(1, 1))\n",
       "      (flatten): Flatten(start_dim=1, end_dim=-1)\n",
       "      (linear): Linear(in_features=256, out_features=256, bias=True)\n",
       "    )\n",
       "    (synthesis): Synthesis(\n",
       "      (input): ConstantInput()\n",
       "      (head): StyledConv2d(\n",
       "        (conv): ModulatedConv2d(\n",
       "          (modulation): Linear(in_features=256, out_features=3, bias=True)\n",
       "        )\n",
       "        (noise): NoiseInjection()\n",
       "        (act): LeakyReLU(negative_slope=0.2)\n",
       "      )\n",
       "      (trunk): Sequential(\n",
       "        (b0): ConvBlock(\n",
       "          (conv): Conv2d(256, 256, kernel_size=(3, 3), stride=(1, 1), padding=(1, 1), bias=False)\n",
       "          (lrelu): LeakyReLU(negative_slope=0.2)\n",
       "        )\n",
       "        (b1): ConvBlock(\n",
       "          (conv): Conv2d(256, 256, kernel_size=(3, 3), stride=(1, 1), padding=(1, 1), bias=False)\n",
       "          (lrelu): LeakyReLU(negative_slope=0.2)\n",
       "        )\n",
       "        (b2): ConvBlock(\n",
       "          (conv): Conv2d(256, 256, kernel_size=(3, 3), stride=(1, 1), padding=(1, 1), bias=False)\n",
       "          (lrelu): LeakyReLU(negative_slope=0.2)\n",
       "        )\n",
       "      )\n",
       "      (tail): Sequential(\n",
       "        (0): Conv2d(256, 3, kernel_size=(3, 3), stride=(1, 1), padding=(1, 1), bias=False)\n",
       "        (1): Tanh()\n",
       "      )\n",
       "    )\n",
       "  )\n",
       ")"
      ]
     },
     "execution_count": 4,
     "metadata": {},
     "output_type": "execute_result"
    }
   ],
   "source": [
    "class RenderToSurface(pl.LightningModule):\n",
    "    \n",
    "    def __init__(self, hparams):\n",
    "        super().__init__()        \n",
    "        self.save_hyperparameters(hparams)\n",
    "        \n",
    "        self.G = StyleGenerator(hparams)\n",
    "        self.faces = None                     \n",
    "\n",
    "    def training_step(self, batch, batch_idx):\n",
    "        v = self.G(batch['image'])\n",
    "#         if self.faces is None:\n",
    "#             _, _, w, h = v.shape\n",
    "#             faces = make_faces(w, h)[None]\n",
    "#             self.faces = torch.tensor(faces, device=v.device)\n",
    "        #print(batch['image'].shape, v.shape, batch['grid'].shape)        \n",
    "        loss_grid = F.l1_loss(v, batch['grid'].reshape_as(v))\n",
    "        #loss_grid = F.l1_loss(v, list_to_grid(batch['grid']))\n",
    "        #v = grid_to_list(v)        \n",
    "        #meshes = Meshes(verts=v, faces=self.faces.expand(v.size(0), -1, -1))\n",
    "        #samples = sample_points_from_meshes(meshes)\n",
    "                \n",
    "        \n",
    "        #loss_samples, _ = chamfer_distance(samples, batch['samples'])        \n",
    "        loss = loss_grid #+ loss_samples\n",
    "        \n",
    "        #self.log(f\"train/loss_samples\", loss_samples.item())\n",
    "        self.log(f\"train/loss_grid\", loss_grid.item())\n",
    "        self.log(f\"train/loss\", loss.item())\n",
    "        return loss\n",
    "        \n",
    "        \n",
    "    def configure_optimizers(self):\n",
    "        lr, betas = 0.0001, (0.5, 0.999)        \n",
    "        opt_g = torch.optim.Adam(self.G.parameters(),  lr=lr, betas=betas)\n",
    "        return [opt_g], []\n",
    "                 \n",
    "model = RenderToSurface(config)\n",
    "model"
   ]
  },
  {
   "cell_type": "code",
   "execution_count": null,
   "metadata": {},
   "outputs": [
    {
     "name": "stderr",
     "output_type": "stream",
     "text": [
      "GPU available: True, used: True\n",
      "TPU available: False, using: 0 TPU cores\n",
      "IPU available: False, using: 0 IPUs\n",
      "LOCAL_RANK: 0 - CUDA_VISIBLE_DEVICES: [0]\n",
      "\n",
      "  | Name | Type           | Params\n",
      "----------------------------------------\n",
      "0 | G    | StyleGenerator | 3.0 M \n",
      "----------------------------------------\n",
      "3.0 M     Trainable params\n",
      "0         Non-trainable params\n",
      "3.0 M     Total params\n",
      "12.128    Total estimated model params size (MB)\n"
     ]
    },
    {
     "data": {
      "application/vnd.jupyter.widget-view+json": {
       "model_id": "287c080c3d7f425caadd0aa18db3c1c8",
       "version_major": 2,
       "version_minor": 0
      },
      "text/plain": [
       "HBox(children=(FloatProgress(value=1.0, bar_style='info', description='Training', layout=Layout(flex='2'), max…"
      ]
     },
     "metadata": {},
     "output_type": "display_data"
    },
    {
     "name": "stderr",
     "output_type": "stream",
     "text": [
      "Traceback (most recent call last):\n",
      "  File \"/home/bobi/miniconda3/envs/pytorch3d_05/lib/python3.8/multiprocessing/util.py\", line 300, in _run_finalizers\n",
      "    finalizer()\n",
      "  File \"/home/bobi/miniconda3/envs/pytorch3d_05/lib/python3.8/multiprocessing/util.py\", line 224, in __call__\n",
      "    res = self._callback(*self._args, **self._kwargs)\n",
      "  File \"/home/bobi/miniconda3/envs/pytorch3d_05/lib/python3.8/multiprocessing/util.py\", line 133, in _remove_temp_dir\n",
      "    rmtree(tempdir)\n",
      "  File \"/home/bobi/miniconda3/envs/pytorch3d_05/lib/python3.8/shutil.py\", line 722, in rmtree\n",
      "    onerror(os.rmdir, path, sys.exc_info())\n",
      "  File \"/home/bobi/miniconda3/envs/pytorch3d_05/lib/python3.8/shutil.py\", line 720, in rmtree\n",
      "    os.rmdir(path)\n",
      "OSError: [Errno 39] Directory not empty: '/tmp/pymp-2c4diprj'\n",
      "Traceback (most recent call last):\n",
      "  File \"/home/bobi/miniconda3/envs/pytorch3d_05/lib/python3.8/multiprocessing/util.py\", line 300, in _run_finalizers\n",
      "    finalizer()\n",
      "  File \"/home/bobi/miniconda3/envs/pytorch3d_05/lib/python3.8/multiprocessing/util.py\", line 224, in __call__\n",
      "    res = self._callback(*self._args, **self._kwargs)\n",
      "  File \"/home/bobi/miniconda3/envs/pytorch3d_05/lib/python3.8/multiprocessing/util.py\", line 133, in _remove_temp_dir\n",
      "    rmtree(tempdir)\n",
      "  File \"/home/bobi/miniconda3/envs/pytorch3d_05/lib/python3.8/shutil.py\", line 722, in rmtree\n",
      "    onerror(os.rmdir, path, sys.exc_info())\n",
      "  File \"/home/bobi/miniconda3/envs/pytorch3d_05/lib/python3.8/shutil.py\", line 720, in rmtree\n",
      "    os.rmdir(path)\n",
      "OSError: [Errno 39] Directory not empty: '/tmp/pymp-eu_q4pa4'\n",
      "Traceback (most recent call last):\n",
      "  File \"/home/bobi/miniconda3/envs/pytorch3d_05/lib/python3.8/multiprocessing/util.py\", line 300, in _run_finalizers\n",
      "    finalizer()\n",
      "  File \"/home/bobi/miniconda3/envs/pytorch3d_05/lib/python3.8/multiprocessing/util.py\", line 224, in __call__\n",
      "    res = self._callback(*self._args, **self._kwargs)\n",
      "  File \"/home/bobi/miniconda3/envs/pytorch3d_05/lib/python3.8/multiprocessing/util.py\", line 133, in _remove_temp_dir\n",
      "    rmtree(tempdir)\n",
      "  File \"/home/bobi/miniconda3/envs/pytorch3d_05/lib/python3.8/shutil.py\", line 722, in rmtree\n",
      "    onerror(os.rmdir, path, sys.exc_info())\n",
      "  File \"/home/bobi/miniconda3/envs/pytorch3d_05/lib/python3.8/shutil.py\", line 720, in rmtree\n",
      "    os.rmdir(path)\n",
      "OSError: [Errno 39] Directory not empty: '/tmp/pymp-d37798nm'\n"
     ]
    }
   ],
   "source": [
    "trainer = pl.Trainer(gpus=1, max_epochs=3000, #progress_bar_refresh_rate=5,\n",
    "                     #terminate_on_nan=True, \n",
    "                     #profiler=\"pytorch\",\n",
    "                     #log_every_n_steps=2, \n",
    "                     callbacks=[LogRenderSample(config)],\n",
    "                     precision=32,\n",
    "                     #resume_from_checkpoint=\"./lightning_logs/version_9/checkpoints/epoch=1999-step=23999.ckpt\"\n",
    "                    )\n",
    "trainer.fit(model, dm)"
   ]
  },
  {
   "cell_type": "code",
   "execution_count": null,
   "metadata": {},
   "outputs": [],
   "source": []
  }
 ],
 "metadata": {
  "kernelspec": {
   "display_name": "pytorch3d_05",
   "language": "python",
   "name": "pytorch3d_05"
  },
  "language_info": {
   "codemirror_mode": {
    "name": "ipython",
    "version": 3
   },
   "file_extension": ".py",
   "mimetype": "text/x-python",
   "name": "python",
   "nbconvert_exporter": "python",
   "pygments_lexer": "ipython3",
   "version": "3.8.11"
  }
 },
 "nbformat": 4,
 "nbformat_minor": 4
}
