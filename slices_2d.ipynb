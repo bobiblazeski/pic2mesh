{
 "cells": [
  {
   "cell_type": "code",
   "execution_count": 1,
   "metadata": {},
   "outputs": [
    {
     "data": {
      "text/plain": [
       "torch.Size([5, 3, 8, 8])"
      ]
     },
     "execution_count": 1,
     "metadata": {},
     "output_type": "execute_result"
    }
   ],
   "source": [
    "import math\n",
    "import torch\n",
    "import torch.nn as nn\n",
    "import torch.nn.functional as F\n",
    "\n",
    "class ConstantInput(nn.Module):\n",
    "    def __init__(self, file, size, fixed):                \n",
    "        super().__init__()\n",
    "        t = torch.load(file)\n",
    "        t = F.interpolate(t, size=size, mode='bilinear', align_corners=True)        \n",
    "        self.fixed = fixed\n",
    "        if fixed:\n",
    "            self.register_buffer('input', t)\n",
    "        else:\n",
    "            self.input = nn.Parameter(t)\n",
    "\n",
    "    def forward(self, t):\n",
    "        if self.fixed:\n",
    "            return self.input.expand(t.shape[0], -1, -1, -1)\n",
    "        return self.input.repeat(t.shape[0], 1, 1, 1)\n",
    "    \n",
    "file = './data/mean_face_256.pth'\n",
    "size = 8\n",
    "fixed = True\n",
    "ci = ConstantInput(file, size, fixed)\n",
    "ci(torch.rand(5, 3, size, size)).shape"
   ]
  },
  {
   "cell_type": "code",
   "execution_count": 2,
   "metadata": {},
   "outputs": [
    {
     "data": {
      "text/plain": [
       "(tensor([[2, 4],\n",
       "         [3, 3],\n",
       "         [1, 2]]),\n",
       " torch.int64)"
      ]
     },
     "execution_count": 2,
     "metadata": {},
     "output_type": "execute_result"
    }
   ],
   "source": [
    "slices = torch.tensor([\n",
    "    [2, 4],\n",
    "    [3, 3],\n",
    "    [1, 2],\n",
    "])\n",
    "slices, slices.dtype"
   ]
  },
  {
   "cell_type": "code",
   "execution_count": 3,
   "metadata": {
    "scrolled": true
   },
   "outputs": [
    {
     "data": {
      "text/plain": [
       "torch.Size([3, 3, 4, 4])"
      ]
     },
     "execution_count": 3,
     "metadata": {},
     "output_type": "execute_result"
    }
   ],
   "source": [
    "sz = 4\n",
    "res = torch.zeros(slices.size(0), 3, sz, sz)\n",
    "res.shape"
   ]
  },
  {
   "cell_type": "code",
   "execution_count": 12,
   "metadata": {},
   "outputs": [
    {
     "name": "stdout",
     "output_type": "stream",
     "text": [
      "tensor(2) tensor(4)\n",
      "torch.Size([3, 4, 4])\n",
      "tensor(3) tensor(3)\n",
      "torch.Size([3, 4, 4])\n",
      "tensor(1) tensor(2)\n",
      "torch.Size([3, 4, 4])\n"
     ]
    },
    {
     "data": {
      "text/plain": [
       "torch.Size([3, 3, 4, 4])"
      ]
     },
     "execution_count": 12,
     "metadata": {},
     "output_type": "execute_result"
    }
   ],
   "source": [
    "initial = ci.input[0]\n",
    "for i, (r, c) in enumerate(slices):\n",
    "    print(r, c)Michael Zarren\n",
    "    print(initial[:, r:r+sz, c:c+sz].shape)\n",
    "    res[i] = initial[:, r:r+sz, c:c+sz]\n",
    "res.shape    "
   ]
  },
  {
   "cell_type": "code",
   "execution_count": 6,
   "metadata": {},
   "outputs": [
    {
     "data": {
      "text/plain": [
       "torch.Size([3, 8, 8])"
      ]
     },
     "execution_count": 6,
     "metadata": {},
     "output_type": "execute_result"
    }
   ],
   "source": [
    "initial.shape"
   ]
  },
  {
   "cell_type": "code",
   "execution_count": 10,
   "metadata": {},
   "outputs": [
    {
     "data": {
      "text/plain": [
       "torch.Size([3, 4, 4])"
      ]
     },
     "execution_count": 10,
     "metadata": {},
     "output_type": "execute_result"
    }
   ],
   "source": [
    "initial[:, r:r+sz, c:c+sz].shape"
   ]
  },
  {
   "cell_type": "code",
   "execution_count": 15,
   "metadata": {},
   "outputs": [
    {
     "data": {
      "text/plain": [
       "torch.Size([3, 3, 4, 4])"
      ]
     },
     "execution_count": 15,
     "metadata": {},
     "output_type": "execute_result"
    }
   ],
   "source": [
    "class Slices2D(nn.Module):\n",
    "    def __init__(self, file, size):                \n",
    "        super().__init__()\n",
    "        t = torch.load(file)\n",
    "        t = F.interpolate(t, size=size, mode='bilinear', align_corners=True)[0]\n",
    "        self.register_buffer('t', t)\n",
    "\n",
    "    def forward(self, slices, size):\n",
    "        res = torch.empty(slices.size(0), 3, size, size, device=slices.device)\n",
    "        for i, (r, c) in enumerate(slices):\n",
    "            res[i] = initial[:, r:r+size, c:c+size]\n",
    "        return res\n",
    "\n",
    "s2d = Slices2D(file, size)    \n",
    "s2d(slices, 4).shape"
   ]
  },
  {
   "cell_type": "code",
   "execution_count": null,
   "metadata": {},
   "outputs": [],
   "source": []
  }
 ],
 "metadata": {
  "kernelspec": {
   "display_name": "pytorch3d_05",
   "language": "python",
   "name": "pytorch3d_05"
  },
  "language_info": {
   "codemirror_mode": {
    "name": "ipython",
    "version": 3
   },
   "file_extension": ".py",
   "mimetype": "text/x-python",
   "name": "python",
   "nbconvert_exporter": "python",
   "pygments_lexer": "ipython3",
   "version": "3.8.11"
  }
 },
 "nbformat": 4,
 "nbformat_minor": 4
}
