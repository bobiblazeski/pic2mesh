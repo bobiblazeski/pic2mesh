{
 "cells": [
  {
   "cell_type": "code",
   "execution_count": 28,
   "metadata": {},
   "outputs": [],
   "source": [
    "import torch\n",
    "import torch.nn as nn\n",
    "import torch.nn.functional as F\n",
    "\n",
    "torch.set_printoptions(precision=4,    \n",
    "    sci_mode=False)"
   ]
  },
  {
   "cell_type": "code",
   "execution_count": 37,
   "metadata": {},
   "outputs": [
    {
     "data": {
      "text/plain": [
       "(tensor([[[[6., 0.],\n",
       "           [2., 4.]],\n",
       " \n",
       "          [[2., 4.],\n",
       "           [5., 7.]],\n",
       " \n",
       "          [[4., 7.],\n",
       "           [8., 2.]]]]),\n",
       " torch.Size([1, 3, 2, 2]))"
      ]
     },
     "execution_count": 37,
     "metadata": {},
     "output_type": "execute_result"
    }
   ],
   "source": [
    "pts = torch.randint(0, 9, (1, 3, 2, 2)).float()\n",
    "pts, pts.shape"
   ]
  },
  {
   "cell_type": "code",
   "execution_count": 9,
   "metadata": {},
   "outputs": [
    {
     "data": {
      "text/plain": [
       "torch.Size([3, 3, 2, 2])"
      ]
     },
     "execution_count": 9,
     "metadata": {},
     "output_type": "execute_result"
    }
   ],
   "source": [
    "hdist =  nn.Conv2d(3, 3, 2)\n",
    "hdist.weight.shape"
   ]
  },
  {
   "cell_type": "code",
   "execution_count": 31,
   "metadata": {},
   "outputs": [
    {
     "name": "stdout",
     "output_type": "stream",
     "text": [
      "torch.Size([3, 3, 2, 2])\n"
     ]
    },
    {
     "data": {
      "text/plain": [
       "(tensor([[[[-0.8143]],\n",
       " \n",
       "          [[-0.7561]],\n",
       " \n",
       "          [[-1.0464]]]]),\n",
       " torch.Size([1, 3, 1, 1]))"
      ]
     },
     "execution_count": 31,
     "metadata": {},
     "output_type": "execute_result"
    }
   ],
   "source": [
    "hood = [[+1., -1.],\n",
    "        [+0., +0.]]\n",
    "\n",
    "zeros = [[0.000, 0.000],\n",
    "         [0.000, 0.000],]\n",
    "\n",
    "weights = torch.tensor([\n",
    "    [hood, zeros, zeros],\n",
    "    [zeros, hood, zeros],\n",
    "    [zeros, zeros, hood],\n",
    "])\n",
    "\n",
    "print(weights.shape)\n",
    "hdist =  nn.Conv2d(3, 3, 2)\n",
    "hdist.weight.data = weights\n",
    "hdist.requires_grad_(False)\n",
    "hdist(pts), hdist(pts).shape"
   ]
  },
  {
   "cell_type": "code",
   "execution_count": 33,
   "metadata": {},
   "outputs": [
    {
     "data": {
      "text/plain": [
       "tensor([[[[ 0.,  1.],\n",
       "          [-1.,  2.]],\n",
       "\n",
       "         [[ 0.,  1.],\n",
       "          [-1.,  2.]],\n",
       "\n",
       "         [[ 0.,  1.],\n",
       "          [-1.,  2.]]]])"
      ]
     },
     "execution_count": 33,
     "metadata": {},
     "output_type": "execute_result"
    }
   ],
   "source": [
    "pts"
   ]
  },
  {
   "cell_type": "code",
   "execution_count": 27,
   "metadata": {},
   "outputs": [
    {
     "name": "stdout",
     "output_type": "stream",
     "text": [
      "torch.Size([1, 3, 2, 2])\n"
     ]
    },
    {
     "data": {
      "text/plain": [
       "(tensor(1.1445), torch.Size([1, 1, 1, 1]))"
      ]
     },
     "execution_count": 27,
     "metadata": {},
     "output_type": "execute_result"
    }
   ],
   "source": [
    "third = 1/3\n",
    "hood = [[third, third],\n",
    "        [    0,     0]]\n",
    "\n",
    "weights = torch.tensor([\n",
    "    [hood, hood, hood],\n",
    "])\n",
    "\n",
    "print(weights.shape)\n",
    "hdist =  nn.Conv2d(3, 1, 2)\n",
    "hdist.weight.data = weights\n",
    "hdist.requires_grad_(False)\n",
    "hdist(pts).squeeze(), hdist(pts).shape"
   ]
  },
  {
   "cell_type": "code",
   "execution_count": 40,
   "metadata": {},
   "outputs": [
    {
     "data": {
      "text/plain": [
       "tensor([[[[6.]],\n",
       "\n",
       "         [[2.]],\n",
       "\n",
       "         [[3.]]]])"
      ]
     },
     "execution_count": 40,
     "metadata": {},
     "output_type": "execute_result"
    }
   ],
   "source": [
    "torch.abs(F.conv2d(pts, weights))"
   ]
  },
  {
   "cell_type": "code",
   "execution_count": 64,
   "metadata": {
    "scrolled": true
   },
   "outputs": [
    {
     "data": {
      "text/plain": [
       "(tensor([6.1536, 5.9232]), tensor([6.2034, 5.6097]))"
      ]
     },
     "execution_count": 64,
     "metadata": {},
     "output_type": "execute_result"
    }
   ],
   "source": [
    "def horizontal_distance(pts):\n",
    "    bs = pts.size(0)\n",
    "    hood = [[+1., -1.],\n",
    "            [+0., +0.]]\n",
    "\n",
    "    zeros = [[0.000, 0.000],\n",
    "             [0.000, 0.000],]\n",
    "\n",
    "    weights = torch.tensor([\n",
    "        [hood, zeros, zeros],\n",
    "        [zeros, hood, zeros],\n",
    "        [zeros, zeros, hood],\n",
    "    ]).to(pts.device)\n",
    "    dist = F.conv2d(pts, weights) ** 2\n",
    "    dist = dist.sum(dim=1)    \n",
    "    dist = torch.sqrt(dist)\n",
    "    dist = dist.reshape(bs, -1).mean(1)\n",
    "    return dist\n",
    "\n",
    "def vertical_distance(pts):\n",
    "    bs = pts.size(0)\n",
    "    hood = [[+1., +0.],\n",
    "            [-1., +0.]]\n",
    "\n",
    "    zeros = [[+0., +0.],\n",
    "             [+0., +0.],]\n",
    "\n",
    "    weights = torch.tensor([\n",
    "        [hood, zeros, zeros],\n",
    "        [zeros, hood, zeros],\n",
    "        [zeros, zeros, hood],\n",
    "    ]).to(pts.device)\n",
    "    dist = F.conv2d(pts, weights) ** 2\n",
    "    dist = dist.sum(dim=1)    \n",
    "    dist = torch.sqrt(dist)\n",
    "    dist = dist.reshape(bs, -1).mean(1)\n",
    "    return dist\n",
    "\n",
    "\n",
    "    \n",
    "pts = torch.randint(0, 9, (2, 3, 5, 5)).float()\n",
    "h_dist = horizontal_distance(pts)\n",
    "v_dist = vertical_distance(pts)\n",
    "h_dist, v_dist"
   ]
  },
  {
   "cell_type": "code",
   "execution_count": 66,
   "metadata": {},
   "outputs": [
    {
     "data": {
      "text/plain": [
       "tensor([6.1785, 5.7665])"
      ]
     },
     "execution_count": 66,
     "metadata": {},
     "output_type": "execute_result"
    }
   ],
   "source": [
    "(h_dist + v_dist) / 2"
   ]
  },
  {
   "cell_type": "code",
   "execution_count": 68,
   "metadata": {},
   "outputs": [
    {
     "data": {
      "text/plain": [
       "tensor([6.1785, 5.7665])"
      ]
     },
     "execution_count": 68,
     "metadata": {},
     "output_type": "execute_result"
    }
   ],
   "source": [
    "def mean_distance(pts):    \n",
    "    def get_distance(pts, hood):\n",
    "        zeros = [[0., 0.],\n",
    "                 [0., 0.],]\n",
    "\n",
    "        weights = torch.tensor([\n",
    "            [hood, zeros, zeros],\n",
    "            [zeros, hood, zeros],\n",
    "            [zeros, zeros, hood],\n",
    "        ]).to(pts.device)\n",
    "        dist = F.conv2d(pts, weights) ** 2\n",
    "        dist = dist.sum(dim=1)    \n",
    "        dist = torch.sqrt(dist)\n",
    "        dist = dist.reshape(pts.size(0), -1)\n",
    "        return dist.mean(1)\n",
    "    \n",
    "    v_hood = [[+1., +0.],\n",
    "              [-1., +0.]]\n",
    "    h_hood = [[+1., -1.],\n",
    "              [+0., +0.]]\n",
    "    v_dist = get_distance(pts, v_hood)\n",
    "    h_dist = get_distance(pts, h_hood)\n",
    "    return (v_dist + h_dist) / 2\n",
    "\n",
    "mean_distance(pts)"
   ]
  },
  {
   "cell_type": "code",
   "execution_count": 71,
   "metadata": {},
   "outputs": [
    {
     "data": {
      "text/plain": [
       "namespace(k=[128, 128, 256, 256])"
      ]
     },
     "execution_count": 71,
     "metadata": {},
     "output_type": "execute_result"
    }
   ],
   "source": [
    "from types import SimpleNamespace\n",
    "\n",
    "sn = SimpleNamespace(k=[ 128, 128, 256, 256])\n",
    "sn"
   ]
  },
  {
   "cell_type": "code",
   "execution_count": 70,
   "metadata": {},
   "outputs": [
    {
     "data": {
      "text/plain": [
       "namespace(f=1)"
      ]
     },
     "execution_count": 70,
     "metadata": {},
     "output_type": "execute_result"
    }
   ],
   "source": [
    "sn.f = 1\n",
    "sn"
   ]
  },
  {
   "cell_type": "code",
   "execution_count": null,
   "metadata": {},
   "outputs": [],
   "source": []
  }
 ],
 "metadata": {
  "kernelspec": {
   "display_name": "pytorch3d_0.3",
   "language": "python",
   "name": "pytorch3d_0.3"
  },
  "language_info": {
   "codemirror_mode": {
    "name": "ipython",
    "version": 3
   },
   "file_extension": ".py",
   "mimetype": "text/x-python",
   "name": "python",
   "nbconvert_exporter": "python",
   "pygments_lexer": "ipython3",
   "version": "3.8.5"
  }
 },
 "nbformat": 4,
 "nbformat_minor": 4
}
