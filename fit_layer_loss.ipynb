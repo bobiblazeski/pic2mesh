{
 "cells": [
  {
   "cell_type": "code",
   "execution_count": 1,
   "metadata": {},
   "outputs": [
    {
     "data": {
      "text/html": [
       "        <script type=\"text/javascript\">\n",
       "        window.PlotlyConfig = {MathJaxConfig: 'local'};\n",
       "        if (window.MathJax) {MathJax.Hub.Config({SVG: {font: \"STIX-Web\"}});}\n",
       "        if (typeof require !== 'undefined') {\n",
       "        require.undef(\"plotly\");\n",
       "        requirejs.config({\n",
       "            paths: {\n",
       "                'plotly': ['https://cdn.plot.ly/plotly-latest.min']\n",
       "            }\n",
       "        });\n",
       "        require(['plotly'], function(Plotly) {\n",
       "            window._Plotly = Plotly;\n",
       "        });\n",
       "        }\n",
       "        </script>\n",
       "        "
      ]
     },
     "metadata": {},
     "output_type": "display_data"
    },
    {
     "data": {
      "text/html": [
       "        <script type=\"text/javascript\">\n",
       "        window.PlotlyConfig = {MathJaxConfig: 'local'};\n",
       "        if (window.MathJax) {MathJax.Hub.Config({SVG: {font: \"STIX-Web\"}});}\n",
       "        if (typeof require !== 'undefined') {\n",
       "        require.undef(\"plotly\");\n",
       "        requirejs.config({\n",
       "            paths: {\n",
       "                'plotly': ['https://cdn.plot.ly/plotly-latest.min']\n",
       "            }\n",
       "        });\n",
       "        require(['plotly'], function(Plotly) {\n",
       "            window._Plotly = Plotly;\n",
       "        });\n",
       "        }\n",
       "        </script>\n",
       "        "
      ]
     },
     "metadata": {},
     "output_type": "display_data"
    },
    {
     "data": {
      "text/html": [
       "        <script type=\"text/javascript\">\n",
       "        window.PlotlyConfig = {MathJaxConfig: 'local'};\n",
       "        if (window.MathJax) {MathJax.Hub.Config({SVG: {font: \"STIX-Web\"}});}\n",
       "        if (typeof require !== 'undefined') {\n",
       "        require.undef(\"plotly\");\n",
       "        requirejs.config({\n",
       "            paths: {\n",
       "                'plotly': ['https://cdn.plot.ly/plotly-latest.min']\n",
       "            }\n",
       "        });\n",
       "        require(['plotly'], function(Plotly) {\n",
       "            window._Plotly = Plotly;\n",
       "        });\n",
       "        }\n",
       "        </script>\n",
       "        "
      ]
     },
     "metadata": {},
     "output_type": "display_data"
    },
    {
     "data": {
      "text/html": [
       "        <script type=\"text/javascript\">\n",
       "        window.PlotlyConfig = {MathJaxConfig: 'local'};\n",
       "        if (window.MathJax) {MathJax.Hub.Config({SVG: {font: \"STIX-Web\"}});}\n",
       "        if (typeof require !== 'undefined') {\n",
       "        require.undef(\"plotly\");\n",
       "        requirejs.config({\n",
       "            paths: {\n",
       "                'plotly': ['https://cdn.plot.ly/plotly-latest.min']\n",
       "            }\n",
       "        });\n",
       "        require(['plotly'], function(Plotly) {\n",
       "            window._Plotly = Plotly;\n",
       "        });\n",
       "        }\n",
       "        </script>\n",
       "        "
      ]
     },
     "metadata": {},
     "output_type": "display_data"
    }
   ],
   "source": [
    "import torch\n",
    "import torch.nn as nn\n",
    "import torch.nn.functional as F\n",
    "\n",
    "import pytorch_lightning as pl\n",
    "\n",
    "from src.utilities.operators import mean_2d_3ch\n",
    "from src.data.image_patch import ImagePatchDataModule\n",
    "from src.loss.layer_loss import LayerLoss\n",
    "from src.render.mesh_points_renderer import MeshPointsRenderer\n",
    "from src.utilities.util import (\n",
    "    make_faces, \n",
    "    list_to_grid, \n",
    "    grid_to_list,\n",
    ")\n",
    "from src.config import get_parser\n",
    "\n",
    "from torchvision.transforms import ToPILImage"
   ]
  },
  {
   "cell_type": "code",
   "execution_count": 6,
   "metadata": {},
   "outputs": [],
   "source": [
    "def create_model(no_ch):\n",
    "    return nn.Sequential(\n",
    "        nn.Conv2d(3, no_ch, 3, stride=1, padding=1,\n",
    "            padding_mode='replicate'),\n",
    "        nn.ReLU(),\n",
    "#         nn.Conv2d(no_ch, no_ch, 3, stride=1, padding=1,\n",
    "#             padding_mode='replicate'),\n",
    "#         nn.ReLU(),\n",
    "        nn.Conv2d(no_ch, 3, 3, stride=1, padding=1,\n",
    "            padding_mode='replicate'),\n",
    "        nn.Tanh(),\n",
    "    )"
   ]
  },
  {
   "cell_type": "code",
   "execution_count": 7,
   "metadata": {},
   "outputs": [
    {
     "name": "stdout",
     "output_type": "stream",
     "text": [
      "Setting up [baseline] perceptual loss: trunk [alex], v[0.1], spatial [off]\n"
     ]
    },
    {
     "data": {
      "text/plain": [
       "RenderToSurface(\n",
       "  (renderer): MeshPointsRenderer()\n",
       "  (v_model): Sequential(\n",
       "    (0): Conv2d(3, 128, kernel_size=(3, 3), stride=(1, 1), padding=(1, 1), padding_mode=replicate)\n",
       "    (1): ReLU()\n",
       "    (2): Conv2d(128, 3, kernel_size=(3, 3), stride=(1, 1), padding=(1, 1), padding_mode=replicate)\n",
       "    (3): Tanh()\n",
       "  )\n",
       "  (c_model): Sequential(\n",
       "    (0): Conv2d(3, 128, kernel_size=(3, 3), stride=(1, 1), padding=(1, 1), padding_mode=replicate)\n",
       "    (1): ReLU()\n",
       "    (2): Conv2d(128, 3, kernel_size=(3, 3), stride=(1, 1), padding=(1, 1), padding_mode=replicate)\n",
       "    (3): Tanh()\n",
       "  )\n",
       "  (loss_fn): LayerLoss(\n",
       "    (net): alexnet(\n",
       "      (slice1): Sequential(\n",
       "        (0): Conv2d(3, 64, kernel_size=(11, 11), stride=(4, 4), padding=(2, 2))\n",
       "        (1): ReLU(inplace=True)\n",
       "      )\n",
       "      (slice2): Sequential(\n",
       "        (2): MaxPool2d(kernel_size=3, stride=2, padding=0, dilation=1, ceil_mode=False)\n",
       "        (3): Conv2d(64, 192, kernel_size=(5, 5), stride=(1, 1), padding=(2, 2))\n",
       "        (4): ReLU(inplace=True)\n",
       "      )\n",
       "      (slice3): Sequential(\n",
       "        (5): MaxPool2d(kernel_size=3, stride=2, padding=0, dilation=1, ceil_mode=False)\n",
       "        (6): Conv2d(192, 384, kernel_size=(3, 3), stride=(1, 1), padding=(1, 1))\n",
       "        (7): ReLU(inplace=True)\n",
       "      )\n",
       "      (slice4): Sequential(\n",
       "        (8): Conv2d(384, 256, kernel_size=(3, 3), stride=(1, 1), padding=(1, 1))\n",
       "        (9): ReLU(inplace=True)\n",
       "      )\n",
       "      (slice5): Sequential(\n",
       "        (10): Conv2d(256, 256, kernel_size=(3, 3), stride=(1, 1), padding=(1, 1))\n",
       "        (11): ReLU(inplace=True)\n",
       "      )\n",
       "    )\n",
       "  )\n",
       "  (mean2d3ch): Conv2d(3, 3, kernel_size=(33, 33), stride=(1, 1), padding=(16, 16), bias=False, padding_mode=replicate)\n",
       ")"
      ]
     },
     "execution_count": 7,
     "metadata": {},
     "output_type": "execute_result"
    }
   ],
   "source": [
    "class RenderToSurface(pl.LightningModule):\n",
    "    \n",
    "    def __init__(self, hparams, patch_file, patch_size, no_channels, mean_size):\n",
    "        super().__init__()        \n",
    "        self.save_hyperparameters(hparams)\n",
    "        \n",
    "        self.noise_lvl = 0.0003\n",
    "        self.renderer = MeshPointsRenderer(config)\n",
    "        \n",
    "        self.patch_file = patch_file        \n",
    "        vertices = F.interpolate(torch.load(patch_file)['vertices'],  \n",
    "            size=patch_size, mode='bilinear', align_corners=True)\n",
    "        self.register_buffer('vertices', vertices)\n",
    "        \n",
    "        self.no_channels = no_channels\n",
    "        self.v_model = create_model(no_channels)\n",
    "        self.c_model = create_model(no_channels)\n",
    "        _, _, w, h = vertices.shape\n",
    "        self.register_buffer('faces',\n",
    "            torch.tensor(make_faces(w, h)[None]))\n",
    "        layers=['relu1', 'relu2']#, 'relu3']#, 'relu4', 'relu5']\n",
    "        self.loss_fn = LayerLoss('alex', layers=layers)\n",
    "        self.mean2d3ch =  mean_2d_3ch(mean_size)\n",
    "        \n",
    "        \n",
    "    def training_step(self, batch, batch_idx):        \n",
    "        bs = batch.size(0)\n",
    "        faces = self.faces.expand(bs, -1, -1)\n",
    "        vert = self.vertices.expand(bs, -1, -1, -1)\n",
    "        vert = vert + torch.randn_like(vert) * self.noise_lvl        \n",
    "        mean_orig = self.mean2d3ch(vert)\n",
    "        \n",
    "        res = self.v_model(vert)\n",
    "        res = res + mean_orig - self.mean2d3ch(res)\n",
    "        colors = self.c_model(vert)\n",
    "        \n",
    "        imgs = self.renderer(res, faces, colors=colors,  mean=0.5, std=0.5, grayscale=False)\n",
    "        imgs = torch.clamp(imgs, -1, 1)\n",
    "                             \n",
    "        loss = self.loss_fn(imgs, batch)\n",
    "        #print(loss)\n",
    "        self.log(f\"train/loss\", loss.item())\n",
    "        return loss\n",
    "        \n",
    "        \n",
    "    def configure_optimizers(self):\n",
    "        lr, betas = 0.0001, (0.5, 0.999)        \n",
    "        opt_g = torch.optim.Adam(list(self.v_model.parameters()) +\n",
    "             list(self.c_model.parameters()),  lr=lr)#, betas=betas)\n",
    "        return [opt_g], []\n",
    "\n",
    "config = get_parser().parse_args(args=[])  \n",
    "config.viewpoint_distance = 1.05\n",
    "config.fast_image_size = 32\n",
    "config.batch_size = 4\n",
    "\n",
    "patch_file = './data/patch_64_64.pth'\n",
    "patch_size = 256\n",
    "no_channels = 128\n",
    "mean_size = 33\n",
    "img_file = './data/skin0.png'\n",
    "                             \n",
    "                             \n",
    "model = RenderToSurface(config, patch_file, patch_size, no_channels, mean_size)\n",
    "model                        "
   ]
  },
  {
   "cell_type": "code",
   "execution_count": 8,
   "metadata": {},
   "outputs": [
    {
     "data": {
      "text/plain": [
       "<src.data.image_patch.ImagePatchDataModule at 0x7f74f1c12a60>"
      ]
     },
     "execution_count": 8,
     "metadata": {},
     "output_type": "execute_result"
    }
   ],
   "source": [
    "dm = ImagePatchDataModule(config, img_file)\n",
    "dm"
   ]
  },
  {
   "cell_type": "code",
   "execution_count": 9,
   "metadata": {
    "scrolled": false
   },
   "outputs": [
    {
     "name": "stderr",
     "output_type": "stream",
     "text": [
      "GPU available: True, used: True\n",
      "TPU available: False, using: 0 TPU cores\n",
      "IPU available: False, using: 0 IPUs\n",
      "LOCAL_RANK: 0 - CUDA_VISIBLE_DEVICES: [0]\n",
      "\n",
      "  | Name      | Type               | Params\n",
      "-------------------------------------------------\n",
      "0 | renderer  | MeshPointsRenderer | 0     \n",
      "1 | v_model   | Sequential         | 7.0 K \n",
      "2 | c_model   | Sequential         | 7.0 K \n",
      "3 | loss_fn   | LayerLoss          | 2.5 M \n",
      "4 | mean2d3ch | Conv2d             | 9.8 K \n",
      "-------------------------------------------------\n",
      "14.1 K    Trainable params\n",
      "2.5 M     Non-trainable params\n",
      "2.5 M     Total params\n",
      "9.974     Total estimated model params size (MB)\n"
     ]
    },
    {
     "data": {
      "application/vnd.jupyter.widget-view+json": {
       "model_id": "4e2993853c454dd8b7c474a6f3161be6",
       "version_major": 2,
       "version_minor": 0
      },
      "text/plain": [
       "HBox(children=(FloatProgress(value=1.0, bar_style='info', description='Training', layout=Layout(flex='2'), max…"
      ]
     },
     "metadata": {},
     "output_type": "display_data"
    }
   ],
   "source": [
    "trainer = pl.Trainer(gpus=1, max_epochs=3000, #progress_bar_refresh_rate=5,\n",
    "                     #terminate_on_nan=True, \n",
    "                     #profiler=\"pytorch\",\n",
    "                     #log_every_n_steps=2, \n",
    "                     #callbacks=[LogRenderSample(config)],\n",
    "                     precision=32,\n",
    "                     #resume_from_checkpoint=\"./lightning_logs/version_16/checkpoints/epoch=0-step=581.ckpt\"\n",
    "                    )\n",
    "trainer.fit(model, dm)"
   ]
  },
  {
   "cell_type": "code",
   "execution_count": null,
   "metadata": {},
   "outputs": [],
   "source": []
  }
 ],
 "metadata": {
  "kernelspec": {
   "display_name": "pytorch3d_05",
   "language": "python",
   "name": "pytorch3d_05"
  },
  "language_info": {
   "codemirror_mode": {
    "name": "ipython",
    "version": 3
   },
   "file_extension": ".py",
   "mimetype": "text/x-python",
   "name": "python",
   "nbconvert_exporter": "python",
   "pygments_lexer": "ipython3",
   "version": "3.8.11"
  }
 },
 "nbformat": 4,
 "nbformat_minor": 4
}
