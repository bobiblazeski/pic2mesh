{
 "cells": [
  {
   "cell_type": "code",
   "execution_count": 23,
   "metadata": {},
   "outputs": [
    {
     "data": {
      "text/plain": [
       "VertexNormals: size: 4 path: ./data/trimap_4.pth"
      ]
     },
     "execution_count": 23,
     "metadata": {},
     "output_type": "execute_result"
    }
   ],
   "source": [
    "import os\n",
    "from collections import OrderedDict\n",
    "import torch\n",
    "import torch.nn.functional as F\n",
    "from src.util import (\n",
    "    make_faces,    \n",
    ")    \n",
    "\n",
    "def vertex_tris(faces):\n",
    "    res = [[] for _ in range(faces.max()+1)]\n",
    "    for fid, face in enumerate(faces):        \n",
    "        for vid in face:\n",
    "            res[vid].append(fid)        \n",
    "    return res\n",
    "\n",
    "def vertex_tri_maps(faces):\n",
    "    vts = vertex_tris(faces)\n",
    "    r, c = len(vts), max([len(x) for  x in vts])\n",
    "    vert_tri_indices = torch.zeros(r, c, dtype=torch.long)\n",
    "    vert_tri_weights = torch.zeros(r, c)    \n",
    "    for r, tris in enumerate(vts):        \n",
    "        weight = 1. #/ len(tris)\n",
    "        for c, tri_id in enumerate(tris):\n",
    "            vert_tri_indices[r, c] = tri_id\n",
    "            vert_tri_weights[r, c] = weight\n",
    "    return vert_tri_indices, vert_tri_weights.unsqueeze(dim=-1)[None]\n",
    "\n",
    "class VertexNormals(torch.nn.Module):\n",
    "    \n",
    "    def __init__(self, opt, load=True):\n",
    "        super().__init__()\n",
    "        self.size = opt.data_patch_size\n",
    "        self.path = os.path.join(opt.data_dir, \n",
    "            'trimap_{}.pth'.format(opt.data_patch_size))\n",
    "        if load and os.path.exists(self.path):\n",
    "            trimap = torch.load(self.path)\n",
    "        else:\n",
    "            trimap = self.make_trimap(opt.data_patch_size)\n",
    "            torch.save(trimap, self.path)\n",
    "        self.assign_trimap(trimap)\n",
    "    \n",
    "    def assign_trimap(self,  trimap):\n",
    "        self.register_buffer('faces',  trimap['faces'])\n",
    "        self.register_buffer('vert_tri_indices', trimap['vert_tri_indices'])\n",
    "        self.register_buffer('vert_tri_weights', trimap['vert_tri_weights'])\n",
    "\n",
    "    def vertex_normals_mean(self, vrt):\n",
    "        face_normals = self.get_face_normals(vrt)\n",
    "        bs = face_normals.size(0)\n",
    "        r, c = self.vert_tri_indices.shape\n",
    "        fn_group = face_normals.index_select(1, \n",
    "            self.vert_tri_indices.flatten()).reshape(bs, r, c, 3)\n",
    "        weighted_fn_group = fn_group * self.vert_tri_weights    \n",
    "        vertex_normals = weighted_fn_group.sum(dim=-2)\n",
    "        return F.normalize(vertex_normals, p=2, dim=-1)\n",
    "    \n",
    "    def vertex_normals_weighted_area(self, vrt):\n",
    "        face_normals = self.get_face_normals(vrt)\n",
    "        face_areas = self.get_face_areas(vrt)\n",
    "        bs = face_normals.size(0)\n",
    "        r, c = self.vert_tri_indices.shape\n",
    "        fn_group = face_normals.index_select(1, \n",
    "            self.vert_tri_indices.flatten()).reshape(bs, r, c, 3)\n",
    "        \n",
    "        fa_group = face_areas.index_select(1, \n",
    "            self.vert_tri_indices.flatten()).reshape(bs, r, c, 1)\n",
    "        weighted_fa_group = fa_group * self.vert_tri_weights        \n",
    "        \n",
    "        weighted_fn_group = fn_group * fa_group   \n",
    "        vertex_normals = weighted_fn_group.sum(dim=-2)\n",
    "        return F.normalize(vertex_normals, p=2, dim=-1)\n",
    "    \n",
    "    def get_face_normals(self, vrt):\n",
    "        faces = self.faces\n",
    "        v1 = vrt.index_select(1,faces[:, 1]) - vrt.index_select(1, faces[:, 0])\n",
    "        v2 = vrt.index_select(1,faces[:, 2]) - vrt.index_select(1, faces[:, 0])\n",
    "        face_normals = F.normalize(v1.cross(v2), p=2, dim=-1)  # [F, 3]\n",
    "        return face_normals\n",
    " \n",
    "    \n",
    "    def get_face_areas(self, vrt):\n",
    "        faces = self.faces\n",
    "\n",
    "        v0 = vrt.index_select(1, faces[:, 0])\n",
    "        v1 = vrt.index_select(1, faces[:, 1])\n",
    "        v2 = vrt.index_select(1, faces[:, 2])\n",
    "\n",
    "        a = torch.norm(v1 - v0, dim=-1)\n",
    "        b = torch.norm(v2 - v0, dim=-1)\n",
    "        c = torch.norm(v2 - v1, dim=-1)\n",
    "\n",
    "        s = (a + b + c) / 2\n",
    "        return torch.sqrt(s*(s-a)*(s-b)*(s-c)).unsqueeze(dim=-1)\n",
    "        \n",
    "    def __repr__(self):\n",
    "        return f'VertexNormals: size: {self.size} path: {self.path}'\n",
    "    \n",
    "    def make_trimap(self, size):\n",
    "        faces = torch.tensor(make_faces(size, size))\n",
    "        vert_tri_indices, vert_tri_weights = vertex_tri_maps(faces)\n",
    "        return OrderedDict(OrderedDict([\n",
    "          ('vert_tri_indices', vert_tri_indices),\n",
    "          ('vert_tri_weights', vert_tri_weights),\n",
    "          ('faces', faces),\n",
    "        ]))\n",
    "    \n",
    "from argparse import Namespace\n",
    "\n",
    "opt = Namespace()\n",
    "opt.data_patch_size = 4\n",
    "opt.data_dir = './data'\n",
    "    \n",
    "vn = VertexNormals(opt, load=False)    \n",
    "vn"
   ]
  },
  {
   "cell_type": "code",
   "execution_count": 20,
   "metadata": {
    "scrolled": true
   },
   "outputs": [
    {
     "data": {
      "text/plain": [
       "torch.Size([1, 18, 3])"
      ]
     },
     "execution_count": 20,
     "metadata": {},
     "output_type": "execute_result"
    }
   ],
   "source": [
    "vrt = torch.rand(1, 4**2, 3)\n",
    "face_normals = vn.get_face_normals(vrt)\n",
    "face_normals.shape"
   ]
  },
  {
   "cell_type": "code",
   "execution_count": 14,
   "metadata": {},
   "outputs": [
    {
     "data": {
      "text/plain": [
       "(torch.Size([1, 18]), torch.Size([1, 18]), torch.Size([1, 18]))"
      ]
     },
     "execution_count": 14,
     "metadata": {},
     "output_type": "execute_result"
    }
   ],
   "source": [
    "self = vn\n",
    "\n",
    "\n",
    "faces = self.faces\n",
    "\n",
    "v0 = vrt.index_select(1, faces[:, 0])\n",
    "v1 = vrt.index_select(1, faces[:, 1])\n",
    "v2 = vrt.index_select(1, faces[:, 2])\n",
    "\n",
    "a = torch.norm(v1 - v0, dim=-1)\n",
    "b = torch.norm(v2 - v0, dim=-1)\n",
    "c = torch.norm(v2 - v1, dim=-1)\n",
    "\n",
    "a.shape, b.shape, c.shape\n",
    "# face_normals = F.normalize(v1.cross(v2), p=2, dim=-1)  # [F, 3]\n",
    "# face_normals.shape"
   ]
  },
  {
   "cell_type": "code",
   "execution_count": 10,
   "metadata": {},
   "outputs": [
    {
     "data": {
      "text/plain": [
       "torch.Size([1, 18])"
      ]
     },
     "execution_count": 10,
     "metadata": {},
     "output_type": "execute_result"
    }
   ],
   "source": [
    "torch.norm(d0, dim=-1).shape"
   ]
  },
  {
   "cell_type": "code",
   "execution_count": 15,
   "metadata": {},
   "outputs": [
    {
     "data": {
      "text/plain": [
       "torch.Size([1, 18])"
      ]
     },
     "execution_count": 15,
     "metadata": {},
     "output_type": "execute_result"
    }
   ],
   "source": [
    "s = (a + b + c) / 2\n",
    "s.shape"
   ]
  },
  {
   "cell_type": "code",
   "execution_count": 18,
   "metadata": {},
   "outputs": [
    {
     "data": {
      "text/plain": [
       "torch.Size([1, 18, 1])"
      ]
     },
     "execution_count": 18,
     "metadata": {},
     "output_type": "execute_result"
    }
   ],
   "source": [
    "area = torch.sqrt(s*(s-a)*(s-b)*(s-c)).unsqueeze(dim=-1)\n",
    "area.shape"
   ]
  },
  {
   "cell_type": "code",
   "execution_count": 19,
   "metadata": {},
   "outputs": [
    {
     "data": {
      "text/plain": [
       "tensor([[[0.0457],\n",
       "         [0.0563],\n",
       "         [0.0753],\n",
       "         [0.3535],\n",
       "         [0.3572],\n",
       "         [0.3478],\n",
       "         [0.0457],\n",
       "         [0.0694],\n",
       "         [0.1011],\n",
       "         [0.1260],\n",
       "         [0.0270],\n",
       "         [0.0473],\n",
       "         [0.1203],\n",
       "         [0.1110],\n",
       "         [0.2059],\n",
       "         [0.1934],\n",
       "         [0.1958],\n",
       "         [0.1200]]])"
      ]
     },
     "execution_count": 19,
     "metadata": {},
     "output_type": "execute_result"
    }
   ],
   "source": [
    "area"
   ]
  },
  {
   "cell_type": "code",
   "execution_count": 24,
   "metadata": {},
   "outputs": [
    {
     "data": {
      "text/plain": [
       "tensor([[[-0.8071,  0.3850, -0.4477],\n",
       "         [-0.7340,  0.2182,  0.6431],\n",
       "         [-0.3662,  0.5688,  0.7365],\n",
       "         [-0.3709,  0.5662,  0.7361],\n",
       "         [-0.9351,  0.3503,  0.0530],\n",
       "         [-0.5659, -0.7684, -0.2989],\n",
       "         [ 0.7011,  0.6292, -0.3356],\n",
       "         [ 0.8337,  0.5522, -0.0052],\n",
       "         [-0.4385,  0.8386,  0.3232],\n",
       "         [-0.2773,  0.7977,  0.5355],\n",
       "         [ 0.3311, -0.8590, -0.3904],\n",
       "         [ 0.8275,  0.2958, -0.4772],\n",
       "         [-0.5680,  0.7756,  0.2753],\n",
       "         [ 0.3528,  0.9039, -0.2419],\n",
       "         [-0.6222,  0.3325,  0.7087],\n",
       "         [ 0.1378, -0.9344, -0.3284]]])"
      ]
     },
     "execution_count": 24,
     "metadata": {},
     "output_type": "execute_result"
    }
   ],
   "source": [
    "self = vn\n",
    "\n",
    "face_normals = self.get_face_normals(vrt)\n",
    "face_areas = self.get_face_areas(vrt)\n",
    "\n",
    "bs = face_normals.size(0)\n",
    "r, c = self.vert_tri_indices.shape\n",
    "fn_group = face_normals.index_select(1, \n",
    "    self.vert_tri_indices.flatten()).reshape(bs, r, c, 3)\n",
    "weighted_fn_group = fn_group * self.vert_tri_weights    \n",
    "vertex_normals = weighted_fn_group.sum(dim=-2)\n",
    "F.normalize(vertex_normals, p=2, dim=-1)"
   ]
  },
  {
   "cell_type": "code",
   "execution_count": 25,
   "metadata": {},
   "outputs": [
    {
     "data": {
      "text/plain": [
       "tensor([[[0.1571],\n",
       "         [0.0609],\n",
       "         [0.1026],\n",
       "         [0.2294],\n",
       "         [0.2132],\n",
       "         [0.1625],\n",
       "         [0.2804],\n",
       "         [0.1887],\n",
       "         [0.0686],\n",
       "         [0.0893],\n",
       "         [0.1664],\n",
       "         [0.2833],\n",
       "         [0.0880],\n",
       "         [0.3470],\n",
       "         [0.0678],\n",
       "         [0.0467],\n",
       "         [0.1112],\n",
       "         [0.0753]]])"
      ]
     },
     "execution_count": 25,
     "metadata": {},
     "output_type": "execute_result"
    }
   ],
   "source": [
    "face_areas"
   ]
  },
  {
   "cell_type": "code",
   "execution_count": 30,
   "metadata": {},
   "outputs": [
    {
     "data": {
      "text/plain": [
       "tensor([[[[0.1571],\n",
       "          [0.0609],\n",
       "          [0.0000],\n",
       "          [0.0000],\n",
       "          [0.0000],\n",
       "          [0.0000]],\n",
       "\n",
       "         [[0.0609],\n",
       "          [0.1026],\n",
       "          [0.2294],\n",
       "          [0.0000],\n",
       "          [0.0000],\n",
       "          [0.0000]],\n",
       "\n",
       "         [[0.2294],\n",
       "          [0.2132],\n",
       "          [0.1625],\n",
       "          [0.0000],\n",
       "          [0.0000],\n",
       "          [0.0000]],\n",
       "\n",
       "         [[0.1625],\n",
       "          [0.0000],\n",
       "          [0.0000],\n",
       "          [0.0000],\n",
       "          [0.0000],\n",
       "          [0.0000]],\n",
       "\n",
       "         [[0.1571],\n",
       "          [0.2804],\n",
       "          [0.1887],\n",
       "          [0.0000],\n",
       "          [0.0000],\n",
       "          [0.0000]],\n",
       "\n",
       "         [[0.1571],\n",
       "          [0.0609],\n",
       "          [0.1026],\n",
       "          [0.1887],\n",
       "          [0.0686],\n",
       "          [0.0893]],\n",
       "\n",
       "         [[0.1026],\n",
       "          [0.2294],\n",
       "          [0.2132],\n",
       "          [0.0893],\n",
       "          [0.1664],\n",
       "          [0.2833]],\n",
       "\n",
       "         [[0.2132],\n",
       "          [0.1625],\n",
       "          [0.2833],\n",
       "          [0.0000],\n",
       "          [0.0000],\n",
       "          [0.0000]],\n",
       "\n",
       "         [[0.2804],\n",
       "          [0.0880],\n",
       "          [0.3470],\n",
       "          [0.0000],\n",
       "          [0.0000],\n",
       "          [0.0000]],\n",
       "\n",
       "         [[0.2804],\n",
       "          [0.1887],\n",
       "          [0.0686],\n",
       "          [0.3470],\n",
       "          [0.0678],\n",
       "          [0.0467]],\n",
       "\n",
       "         [[0.0686],\n",
       "          [0.0893],\n",
       "          [0.1664],\n",
       "          [0.0467],\n",
       "          [0.1112],\n",
       "          [0.0753]],\n",
       "\n",
       "         [[0.1664],\n",
       "          [0.2833],\n",
       "          [0.0753],\n",
       "          [0.0000],\n",
       "          [0.0000],\n",
       "          [0.0000]],\n",
       "\n",
       "         [[0.0880],\n",
       "          [0.0000],\n",
       "          [0.0000],\n",
       "          [0.0000],\n",
       "          [0.0000],\n",
       "          [0.0000]],\n",
       "\n",
       "         [[0.0880],\n",
       "          [0.3470],\n",
       "          [0.0678],\n",
       "          [0.0000],\n",
       "          [0.0000],\n",
       "          [0.0000]],\n",
       "\n",
       "         [[0.0678],\n",
       "          [0.0467],\n",
       "          [0.1112],\n",
       "          [0.0000],\n",
       "          [0.0000],\n",
       "          [0.0000]],\n",
       "\n",
       "         [[0.1112],\n",
       "          [0.0753],\n",
       "          [0.0000],\n",
       "          [0.0000],\n",
       "          [0.0000],\n",
       "          [0.0000]]]])"
      ]
     },
     "execution_count": 30,
     "metadata": {},
     "output_type": "execute_result"
    }
   ],
   "source": [
    "fa_group = face_areas.index_select(1, \n",
    "    self.vert_tri_indices.flatten()).reshape(bs, r, c, 1)\n",
    "weighted_fa_group = fa_group * self.vert_tri_weights    \n",
    "weighted_fa_group"
   ]
  },
  {
   "cell_type": "code",
   "execution_count": 31,
   "metadata": {},
   "outputs": [
    {
     "data": {
      "text/plain": [
       "torch.Size([1, 16, 6, 1])"
      ]
     },
     "execution_count": 31,
     "metadata": {},
     "output_type": "execute_result"
    }
   ],
   "source": [
    "weighted_fa_group.shape"
   ]
  },
  {
   "cell_type": "code",
   "execution_count": 32,
   "metadata": {},
   "outputs": [
    {
     "data": {
      "text/plain": [
       "tensor([[[[ 0.0329, -0.0296, -0.1507],\n",
       "          [-0.0312,  0.0203,  0.0482],\n",
       "          [ 0.0000, -0.0000, -0.0000],\n",
       "          [ 0.0000, -0.0000, -0.0000],\n",
       "          [ 0.0000, -0.0000, -0.0000],\n",
       "          [ 0.0000, -0.0000, -0.0000]],\n",
       "\n",
       "         [[-0.0312,  0.0203,  0.0482],\n",
       "          [-0.0950,  0.0270, -0.0281],\n",
       "          [-0.0578, -0.0214,  0.2209],\n",
       "          [ 0.0000, -0.0000, -0.0000],\n",
       "          [ 0.0000, -0.0000, -0.0000],\n",
       "          [ 0.0000, -0.0000, -0.0000]],\n",
       "\n",
       "         [[-0.0578, -0.0214,  0.2209],\n",
       "          [ 0.0546,  0.0206, -0.2050],\n",
       "          [-0.0603,  0.0920,  0.1196],\n",
       "          [ 0.0000, -0.0000, -0.0000],\n",
       "          [ 0.0000, -0.0000, -0.0000],\n",
       "          [ 0.0000, -0.0000, -0.0000]],\n",
       "\n",
       "         [[-0.0603,  0.0920,  0.1196],\n",
       "          [ 0.0000, -0.0000, -0.0000],\n",
       "          [ 0.0000, -0.0000, -0.0000],\n",
       "          [ 0.0000, -0.0000, -0.0000],\n",
       "          [ 0.0000, -0.0000, -0.0000],\n",
       "          [ 0.0000, -0.0000, -0.0000]],\n",
       "\n",
       "         [[ 0.0329, -0.0296, -0.1507],\n",
       "          [-0.0867,  0.2046,  0.1711],\n",
       "          [-0.1696, -0.0315,  0.0766],\n",
       "          [ 0.0000, -0.0000, -0.0000],\n",
       "          [ 0.0000, -0.0000, -0.0000],\n",
       "          [ 0.0000, -0.0000, -0.0000]],\n",
       "\n",
       "         [[ 0.0329, -0.0296, -0.1507],\n",
       "          [-0.0312,  0.0203,  0.0482],\n",
       "          [-0.0950,  0.0270, -0.0281],\n",
       "          [-0.1696, -0.0315,  0.0766],\n",
       "          [ 0.0590, -0.0260, -0.0237],\n",
       "          [ 0.0492, -0.0745,  0.0003]],\n",
       "\n",
       "         [[-0.0950,  0.0270, -0.0281],\n",
       "          [-0.0578, -0.0214,  0.2209],\n",
       "          [ 0.0546,  0.0206, -0.2050],\n",
       "          [ 0.0492, -0.0745,  0.0003],\n",
       "          [-0.0461,  0.1589, -0.0176],\n",
       "          [ 0.2750, -0.0272,  0.0624]],\n",
       "\n",
       "         [[ 0.0546,  0.0206, -0.2050],\n",
       "          [-0.0603,  0.0920,  0.1196],\n",
       "          [ 0.2750, -0.0272,  0.0624],\n",
       "          [ 0.0000, -0.0000, -0.0000],\n",
       "          [ 0.0000, -0.0000, -0.0000],\n",
       "          [ 0.0000, -0.0000, -0.0000]],\n",
       "\n",
       "         [[-0.0867,  0.2046,  0.1711],\n",
       "          [-0.0500,  0.0682,  0.0242],\n",
       "          [ 0.1560, -0.2385, -0.1980],\n",
       "          [ 0.0000, -0.0000, -0.0000],\n",
       "          [ 0.0000, -0.0000, -0.0000],\n",
       "          [ 0.0000, -0.0000, -0.0000]],\n",
       "\n",
       "         [[-0.0867,  0.2046,  0.1711],\n",
       "          [-0.1696, -0.0315,  0.0766],\n",
       "          [ 0.0590, -0.0260, -0.0237],\n",
       "          [ 0.1560, -0.2385, -0.1980],\n",
       "          [ 0.0334,  0.0590,  0.0026],\n",
       "          [-0.0398,  0.0177,  0.0169]],\n",
       "\n",
       "         [[ 0.0590, -0.0260, -0.0237],\n",
       "          [ 0.0492, -0.0745,  0.0003],\n",
       "          [-0.0461,  0.1589, -0.0176],\n",
       "          [-0.0398,  0.0177,  0.0169],\n",
       "          [-0.0272, -0.1029,  0.0321],\n",
       "          [ 0.0337, -0.0340, -0.0582]],\n",
       "\n",
       "         [[-0.0461,  0.1589, -0.0176],\n",
       "          [ 0.2750, -0.0272,  0.0624],\n",
       "          [ 0.0337, -0.0340, -0.0582],\n",
       "          [ 0.0000, -0.0000, -0.0000],\n",
       "          [ 0.0000, -0.0000, -0.0000],\n",
       "          [ 0.0000, -0.0000, -0.0000]],\n",
       "\n",
       "         [[-0.0500,  0.0682,  0.0242],\n",
       "          [ 0.0000, -0.0000, -0.0000],\n",
       "          [ 0.0000, -0.0000, -0.0000],\n",
       "          [ 0.0000, -0.0000, -0.0000],\n",
       "          [ 0.0000, -0.0000, -0.0000],\n",
       "          [ 0.0000, -0.0000, -0.0000]],\n",
       "\n",
       "         [[-0.0500,  0.0682,  0.0242],\n",
       "          [ 0.1560, -0.2385, -0.1980],\n",
       "          [ 0.0334,  0.0590,  0.0026],\n",
       "          [ 0.0000, -0.0000, -0.0000],\n",
       "          [ 0.0000, -0.0000, -0.0000],\n",
       "          [ 0.0000, -0.0000, -0.0000]],\n",
       "\n",
       "         [[ 0.0334,  0.0590,  0.0026],\n",
       "          [-0.0398,  0.0177,  0.0169],\n",
       "          [-0.0272, -0.1029,  0.0321],\n",
       "          [ 0.0000, -0.0000, -0.0000],\n",
       "          [ 0.0000, -0.0000, -0.0000],\n",
       "          [ 0.0000, -0.0000, -0.0000]],\n",
       "\n",
       "         [[-0.0272, -0.1029,  0.0321],\n",
       "          [ 0.0337, -0.0340, -0.0582],\n",
       "          [ 0.0000, -0.0000, -0.0000],\n",
       "          [ 0.0000, -0.0000, -0.0000],\n",
       "          [ 0.0000, -0.0000, -0.0000],\n",
       "          [ 0.0000, -0.0000, -0.0000]]]])"
      ]
     },
     "execution_count": 32,
     "metadata": {},
     "output_type": "execute_result"
    }
   ],
   "source": [
    "weighted_fn_group * weighted_fa_group"
   ]
  },
  {
   "cell_type": "code",
   "execution_count": null,
   "metadata": {},
   "outputs": [],
   "source": []
  }
 ],
 "metadata": {
  "kernelspec": {
   "display_name": "pytorch3d_0.3",
   "language": "python",
   "name": "pytorch3d_0.3"
  },
  "language_info": {
   "codemirror_mode": {
    "name": "ipython",
    "version": 3
   },
   "file_extension": ".py",
   "mimetype": "text/x-python",
   "name": "python",
   "nbconvert_exporter": "python",
   "pygments_lexer": "ipython3",
   "version": "3.8.5"
  }
 },
 "nbformat": 4,
 "nbformat_minor": 4
}
