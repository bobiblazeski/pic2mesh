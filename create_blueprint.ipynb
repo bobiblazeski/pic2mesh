{
 "cells": [
  {
   "cell_type": "code",
   "execution_count": 1,
   "metadata": {},
   "outputs": [
    {
     "name": "stdout",
     "output_type": "stream",
     "text": [
      "0 5\n",
      "1 5\n",
      "2 5\n",
      "3 5\n",
      "4 5\n",
      "5 5\n"
     ]
    },
    {
     "data": {
      "text/plain": [
       "tensor([[254., 253., 252., 251., 250., 249., 248., 247., 246., 245., 244., 243.],\n",
       "        [255.,  90.,  89.,  88.,  87.,  86.,  85.,  84.,  83.,  82.,  81., 286.],\n",
       "        [256.,  91.,  34.,  33.,  32.,  31.,  30.,  29.,  28.,  27., 116., 285.],\n",
       "        [257.,  92.,  35.,  14.,  13.,  12.,  11.,  10.,   9.,  54., 115., 284.],\n",
       "        [258.,  93.,  36.,  15.,   6.,   5.,   4.,   3.,  28.,  53., 114., 283.],\n",
       "        [259.,  94.,  37.,  16.,   7.,   2.,   1.,  14.,  27.,  52., 113., 282.],\n",
       "        [260.,  95.,  38.,  17.,   8.,   3.,   4.,  13.,  26.,  51., 112., 281.],\n",
       "        [261.,  96.,  39.,  18.,   9.,  10.,  11.,  12.,  25.,  50., 111., 280.],\n",
       "        [262.,  97.,  40.,  19.,  20.,  21.,  22.,  23.,  24.,  49., 110., 279.],\n",
       "        [263.,  98.,  41.,  42.,  43.,  44.,  45.,  46.,  47.,  48., 109., 278.],\n",
       "        [264.,  99., 100., 101., 102., 103., 104., 105., 106., 107., 108., 277.],\n",
       "        [265., 266., 267., 268., 269., 270., 271., 272., 273., 274., 275., 276.]])"
      ]
     },
     "execution_count": 1,
     "metadata": {},
     "output_type": "execute_result"
    }
   ],
   "source": [
    "import torch\n",
    "\n",
    "torch.set_printoptions(sci_mode=False)\n",
    "\n",
    "def square_indices(n):\n",
    "    max_idx = 2 * (n+1)\n",
    "    res = [[0, x] for x in range(max_idx -1, -1, -1)]\\\n",
    "        + [[x, 0] for x in range(1, max_idx)]\\\n",
    "        + [[max_idx -1, x] for x in range(1, max_idx)]\\\n",
    "        + [[x, max_idx -1] for x in range(max_idx -2, 0, -1)]\n",
    "    return res\n",
    "\n",
    "# I need to create a grid from a mesh\n",
    "def mesh_grid(mesh, square_no):\n",
    "    side = (square_no+1) * 2\n",
    "    grid = torch.zeros(side, side)\n",
    "    for sq_no in range(square_no+1):\n",
    "        fill_square(mesh, grid, sq_no, square_no)\n",
    "    return grid\n",
    "\n",
    "def fill_square(mesh, grid, sq_no, square_no):\n",
    "    print(sq_no, square_no)\n",
    "    sq_ids =  square_indices(sq_no)\n",
    "    offset = square_no - sq_no\n",
    "    for no, (i, k) in enumerate(sq_ids):\n",
    "        grid[i+offset, k+offset] = 3 **sq_no + no\n",
    "    \n",
    "mesh_grid(None, 5)"
   ]
  },
  {
   "cell_type": "code",
   "execution_count": 19,
   "metadata": {
    "scrolled": true
   },
   "outputs": [
    {
     "name": "stdout",
     "output_type": "stream",
     "text": [
      "Blueprint: ./data/centered_3.stl\n"
     ]
    },
    {
     "data": {
      "text/plain": [
       "(torch.Size([10, 10, 3]), torch.Size([10, 10, 3]))"
      ]
     },
     "execution_count": 19,
     "metadata": {},
     "output_type": "execute_result"
    }
   ],
   "source": [
    "import numpy as np\n",
    "import torch\n",
    "from src.polar_traversal import (\n",
    "    Bridge,\n",
    "    make_latitudes,\n",
    "    get_start,\n",
    "    gather_path,\n",
    "    cumulative_distances,\n",
    ")\n",
    "\n",
    "def get_sample(pos, normed, path_points, path_normals):    \n",
    "    i = 1\n",
    "    while i < len(normed):\n",
    "        d0, d1 = normed[i-1], normed[i]\n",
    "        if pos <= d1:\n",
    "            ratio = (pos - d0) / (d1 - d0) \n",
    "            pnt = ratio * path_points[i-1] + (1 - ratio) * path_points[i]\n",
    "            nrm = ratio * path_normals[i-1] + (1 - ratio) * path_normals[i]\n",
    "            return pnt, nrm, i\n",
    "        i += 1\n",
    "    raise (pos, normed, path)\n",
    "\n",
    "def single_path_sample(path, layer_no, total_layers):\n",
    "    cumulative = cumulative_distances(path['points'])\n",
    "    normed =  cumulative / cumulative[-1]\n",
    "    pos = layer_no / total_layers    \n",
    "    pnt, nrm, _ = get_sample(pos, normed, \n",
    "                             path['points'], path['normals'])\n",
    "    return pnt, nrm\n",
    "\n",
    "\n",
    "\n",
    "def get_angles_series(n):\n",
    "    return [x for x in range(0, n*2+1, 2)]\n",
    "\n",
    "def get_shifted_latitudes(no):\n",
    "    lats = make_latitudes(no)\n",
    "    rot = len(lats) // 4\n",
    "    return np.vstack([lats[rot:], lats[:rot]])\n",
    "\n",
    "def get_sample(pos, normed, path_points, path_normals):    \n",
    "    i = 1\n",
    "    while i < len(normed):\n",
    "        d0, d1 = normed[i-1], normed[i]\n",
    "        if pos <= d1:\n",
    "            ratio = (pos - d0) / (d1 - d0) \n",
    "            pnt = ratio * path_points[i-1] + (1 - ratio) * path_points[i]\n",
    "            nrm = ratio * path_normals[i-1] + (1 - ratio) * path_normals[i]\n",
    "            return pnt, nrm, i\n",
    "        i += 1\n",
    "    raise (pos, normed, path)\n",
    "\n",
    "def single_path_sample(path, layer_no, total_layers):\n",
    "    cumulative = cumulative_distances(path['points'])\n",
    "    normed =  cumulative / cumulative[-1]\n",
    "    pos = layer_no / total_layers    \n",
    "    pnt, nrm, _ = get_sample(pos, normed, \n",
    "                             path['points'], path['normals'])\n",
    "    return torch.tensor(pnt).float(), torch.tensor(nrm).float()\n",
    "\n",
    "def square_indices(n):\n",
    "    max_idx = 2 * (n+1)\n",
    "    res = [[0, x] for x in range(max_idx -1, -1, -1)]\\\n",
    "        + [[x, 0] for x in range(1, max_idx)]\\\n",
    "        + [[max_idx -1, x] for x in range(1, max_idx)]\\\n",
    "        + [[x, max_idx -1] for x in range(max_idx -2, 0, -1)]\n",
    "    return res\n",
    "\n",
    "def shifted_square_indices(sq_no, square_no):    \n",
    "    sq_ids =  square_indices(sq_no)\n",
    "    ost = square_no - sq_no\n",
    "    return [(i+ost, k+ost) for (i, k) in iter(sq_ids)]\n",
    "\n",
    "class Blueprint:\n",
    "    \n",
    "    def __init__(self, path):\n",
    "        self.path = path\n",
    "        self.bridge = Bridge(path)\n",
    "        \n",
    "    def __repr__(self):\n",
    "        return f'Blueprint: {self.path}'    \n",
    "\n",
    "    def grid_sample(self, square_no):\n",
    "        side = (square_no + 1) * 2\n",
    "        points = torch.zeros(side, side, 3)\n",
    "        normals = torch.zeros(side, side, 3)\n",
    "        \n",
    "        face_id, point, normal = get_start(self.bridge.mesh)\n",
    "        for sq_no in range(square_no+1):\n",
    "            side = (sq_no + 1) * 2\n",
    "            angles_no = 4 * (sq_no + 1)\n",
    "            latitudes = get_shifted_latitudes(angles_no)\n",
    "            \n",
    "            sq_ids = shifted_square_indices(sq_no, square_no)            \n",
    "            for (r, c), latitude in zip(sq_ids, latitudes):\n",
    "                path = gather_path(latitude, face_id, point, normal, self.bridge)\n",
    "                pnt, nrm = single_path_sample(path, sq_no, square_no)\n",
    "                points[r, c] = pnt\n",
    "                normals[r, c] = nrm            \n",
    "        return points, normals\n",
    "\n",
    "path = './data/centered_3.stl'\n",
    "square_no = 4\n",
    "blueprint = Blueprint(path)\n",
    "print(blueprint)\n",
    "\n",
    "points, normals = blueprint.grid_sample(square_no)\n",
    "points.shape, normals.shape"
   ]
  },
  {
   "cell_type": "code",
   "execution_count": 8,
   "metadata": {},
   "outputs": [
    {
     "data": {
      "text/plain": [
       "(4, [0, 2, 4, 6, 8])"
      ]
     },
     "execution_count": 8,
     "metadata": {},
     "output_type": "execute_result"
    }
   ],
   "source": [
    "sides = get_angles_series(square_no)\n",
    "square_no, sides"
   ]
  },
  {
   "cell_type": "code",
   "execution_count": 13,
   "metadata": {},
   "outputs": [
    {
     "data": {
      "text/plain": [
       "[0]"
      ]
     },
     "execution_count": 13,
     "metadata": {},
     "output_type": "execute_result"
    }
   ],
   "source": [
    "torch.zeros(4, 8) #= 4\n",
    "# 0 -  2\n",
    "# 1 -  4\n",
    "# 2 -  6\n",
    "# 3 -  8\n",
    "# 4 - 10\n",
    "get_angles_series(0)"
   ]
  },
  {
   "cell_type": "code",
   "execution_count": 36,
   "metadata": {},
   "outputs": [
    {
     "data": {
      "text/plain": [
       "[(2, 3), (2, 2), (3, 2), (3, 3)]"
      ]
     },
     "execution_count": 36,
     "metadata": {},
     "output_type": "execute_result"
    }
   ],
   "source": [
    "def square_indices(n):\n",
    "    max_idx = 2 * (n+1)\n",
    "    res = [[0, x] for x in range(max_idx -1, -1, -1)]\\\n",
    "        + [[x, 0] for x in range(1, max_idx)]\\\n",
    "        + [[max_idx -1, x] for x in range(1, max_idx)]\\\n",
    "        + [[x, max_idx -1] for x in range(max_idx -2, 0, -1)]\n",
    "    return res\n",
    "\n",
    "def shifted_square_indices(sq_no, square_no):    \n",
    "    sq_ids =  square_indices(sq_no)\n",
    "    ost = square_no - sq_no\n",
    "    return [(i+ost, k+ost) for (i, k) in iter(sq_ids)]\n",
    "\n",
    "sq_no, square_no = 0, 2\n",
    "shifted_square_indices(sq_no, square_no)"
   ]
  },
  {
   "cell_type": "code",
   "execution_count": 13,
   "metadata": {},
   "outputs": [
    {
     "name": "stdout",
     "output_type": "stream",
     "text": [
      "[0, 2, 4, 6, 8]\n",
      "4\n",
      "12\n",
      "20\n",
      "28\n",
      "36\n"
     ]
    }
   ],
   "source": [
    "square_no = 4\n",
    "sides = get_angles_series(square_no)\n",
    "print(sides)\n",
    "side = sides[-1]\n",
    "for side in sides:\n",
    "    angles_no = get_angles_no(side)\n",
    "    print(angles_no)"
   ]
  },
  {
   "cell_type": "code",
   "execution_count": 17,
   "metadata": {
    "scrolled": true
   },
   "outputs": [
    {
     "data": {
      "text/plain": [
       "array([[[ 0.0000000e+00,  0.0000000e+00],\n",
       "        [ 2.0000000e+00,  0.0000000e+00]],\n",
       "\n",
       "       [[ 0.0000000e+00,  0.0000000e+00],\n",
       "        [ 1.7320508e+00,  1.0000000e+00]],\n",
       "\n",
       "       [[ 0.0000000e+00,  0.0000000e+00],\n",
       "        [ 9.9999994e-01,  1.7320508e+00]],\n",
       "\n",
       "       [[ 0.0000000e+00,  0.0000000e+00],\n",
       "        [-8.7422777e-08,  2.0000000e+00]],\n",
       "\n",
       "       [[ 0.0000000e+00,  0.0000000e+00],\n",
       "        [-1.0000001e+00,  1.7320508e+00]],\n",
       "\n",
       "       [[ 0.0000000e+00,  0.0000000e+00],\n",
       "        [-1.7320508e+00,  1.0000001e+00]],\n",
       "\n",
       "       [[ 0.0000000e+00,  0.0000000e+00],\n",
       "        [-2.0000000e+00, -1.7484555e-07]],\n",
       "\n",
       "       [[ 0.0000000e+00,  0.0000000e+00],\n",
       "        [-1.7320505e+00, -1.0000004e+00]],\n",
       "\n",
       "       [[ 0.0000000e+00,  0.0000000e+00],\n",
       "        [-9.9999982e-01, -1.7320509e+00]],\n",
       "\n",
       "       [[ 0.0000000e+00,  0.0000000e+00],\n",
       "        [ 2.3849761e-08, -2.0000000e+00]],\n",
       "\n",
       "       [[ 0.0000000e+00,  0.0000000e+00],\n",
       "        [ 9.9999982e-01, -1.7320509e+00]],\n",
       "\n",
       "       [[ 0.0000000e+00,  0.0000000e+00],\n",
       "        [ 1.7320511e+00, -9.9999952e-01]]], dtype=float32)"
      ]
     },
     "execution_count": 17,
     "metadata": {},
     "output_type": "execute_result"
    }
   ],
   "source": [
    "lats = make_latitudes(12)\n",
    "lats"
   ]
  },
  {
   "cell_type": "code",
   "execution_count": 23,
   "metadata": {},
   "outputs": [
    {
     "data": {
      "text/plain": [
       "3"
      ]
     },
     "execution_count": 23,
     "metadata": {},
     "output_type": "execute_result"
    }
   ],
   "source": [
    "rot = len(lats) // 4\n",
    "rot"
   ]
  },
  {
   "cell_type": "code",
   "execution_count": 24,
   "metadata": {},
   "outputs": [
    {
     "data": {
      "text/plain": [
       "(12, 2, 2)"
      ]
     },
     "execution_count": 24,
     "metadata": {},
     "output_type": "execute_result"
    }
   ],
   "source": [
    "lats.shape"
   ]
  },
  {
   "cell_type": "code",
   "execution_count": 25,
   "metadata": {},
   "outputs": [
    {
     "data": {
      "text/plain": [
       "(9, 2, 2)"
      ]
     },
     "execution_count": 25,
     "metadata": {},
     "output_type": "execute_result"
    }
   ],
   "source": [
    "lats[rot:].shape"
   ]
  },
  {
   "cell_type": "code",
   "execution_count": 26,
   "metadata": {},
   "outputs": [
    {
     "data": {
      "text/plain": [
       "(3, 2, 2)"
      ]
     },
     "execution_count": 26,
     "metadata": {},
     "output_type": "execute_result"
    }
   ],
   "source": [
    "lats[:rot].shape"
   ]
  },
  {
   "cell_type": "code",
   "execution_count": 30,
   "metadata": {},
   "outputs": [
    {
     "data": {
      "text/plain": [
       "(12, 2, 2)"
      ]
     },
     "execution_count": 30,
     "metadata": {},
     "output_type": "execute_result"
    }
   ],
   "source": [
    "import numpy as np\n",
    "\n",
    "np.vstack([lats[rot:], lats[:rot]]).shape"
   ]
  },
  {
   "cell_type": "code",
   "execution_count": null,
   "metadata": {},
   "outputs": [],
   "source": [
    "\n"
   ]
  }
 ],
 "metadata": {
  "kernelspec": {
   "display_name": "pytorch3d_0.3",
   "language": "python",
   "name": "pytorch3d_0.3"
  },
  "language_info": {
   "codemirror_mode": {
    "name": "ipython",
    "version": 3
   },
   "file_extension": ".py",
   "mimetype": "text/x-python",
   "name": "python",
   "nbconvert_exporter": "python",
   "pygments_lexer": "ipython3",
   "version": "3.8.5"
  }
 },
 "nbformat": 4,
 "nbformat_minor": 4
}
