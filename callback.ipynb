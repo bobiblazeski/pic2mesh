{
 "cells": [
  {
   "cell_type": "code",
   "execution_count": 1,
   "metadata": {},
   "outputs": [],
   "source": [
    "import torchvision\n",
    "import pytorch_lightning as pl"
   ]
  },
  {
   "cell_type": "code",
   "execution_count": null,
   "metadata": {},
   "outputs": [],
   "source": [
    "class ExportCallback(pl.callbacks.Callback):\n",
    "    \n",
    "    def __init__(\n",
    "        self,\n",
    "        num_samples = 3,\n",
    "        nrow = 8,\n",
    "        padding = 2,\n",
    "        normalize = False,\n",
    "        norm_range = None,\n",
    "        scale_each = False,\n",
    "        pad_value = 0,\n",
    "    ):\n",
    "        super().__init__()\n",
    "        self.num_samples = num_samples\n",
    "        self.nrow = nrow\n",
    "        self.padding = padding\n",
    "        self.normalize = normalize\n",
    "        self.norm_range = norm_range\n",
    "        self.scale_each = scale_each\n",
    "        self.pad_value = pad_value\n",
    "        \n",
    "    def on_epoch_end(self, trainer, pl_module):\n",
    "        dim = (self.num_samples, pl_module.hparams.latent_dim)  # type: ignore[union-attr]\n",
    "        z = torch.normal(mean=0.0, std=1.0, size=dim, device=pl_module.device)\n",
    "\n",
    "        # generate images\n",
    "        with torch.no_grad():\n",
    "            pl_module.eval()\n",
    "            images = pl_module(z)\n",
    "            pl_module.train()\n",
    "\n",
    "        if len(images.size()) == 2:\n",
    "            img_dim = pl_module.img_dim\n",
    "            images = images.view(self.num_samples, *img_dim)\n",
    "\n",
    "        grid = torchvision.utils.make_grid(\n",
    "            tensor=images,\n",
    "            nrow=self.nrow,\n",
    "            padding=self.padding,\n",
    "            normalize=self.normalize,\n",
    "            range=self.norm_range,\n",
    "            scale_each=self.scale_each,\n",
    "            pad_value=self.pad_value,\n",
    "        )\n",
    "        str_title = f\"{pl_module.__class__.__name__}_images\"\n",
    "        trainer.logger.experiment.add_image(str_title, grid, global_step=trainer.global_step)\n"
   ]
  }
 ],
 "metadata": {
  "kernelspec": {
   "display_name": "pytorch3d_0.3",
   "language": "python",
   "name": "pytorch3d_0.3"
  },
  "language_info": {
   "codemirror_mode": {
    "name": "ipython",
    "version": 3
   },
   "file_extension": ".py",
   "mimetype": "text/x-python",
   "name": "python",
   "nbconvert_exporter": "python",
   "pygments_lexer": "ipython3",
   "version": "3.8.5"
  }
 },
 "nbformat": 4,
 "nbformat_minor": 4
}
