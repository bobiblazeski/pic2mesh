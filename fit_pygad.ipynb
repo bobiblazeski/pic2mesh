{
 "cells": [
  {
   "cell_type": "code",
   "execution_count": 3,
   "metadata": {},
   "outputs": [],
   "source": [
    "import torch\n",
    "\n",
    "from src.data.image_patch import ImagePatchDataModule\n",
    "from src.render.mesh_points_renderer import MeshPointsRenderer\n",
    "from src.utilities.util import (\n",
    "    make_faces, \n",
    "    list_to_grid, \n",
    "    grid_to_list,\n",
    ")\n",
    "\n",
    "from src.config import get_parser\n",
    "\n",
    "from torchvision.transforms import ToPILImage"
   ]
  },
  {
   "cell_type": "code",
   "execution_count": 4,
   "metadata": {},
   "outputs": [
    {
     "data": {
      "text/plain": [
       "device(type='cuda')"
      ]
     },
     "execution_count": 4,
     "metadata": {},
     "output_type": "execute_result"
    }
   ],
   "source": [
    "config = get_parser().parse_args(args=[])  \n",
    "config.viewpoint_distance = 1.05\n",
    "config.fast_image_size = 32\n",
    "config.batch_size = 4\n",
    "\n",
    "patch_file = './data/patch_64_64.pth'\n",
    "mean_size = 33\n",
    "img_file = './data/skin0.png'\n",
    "\n",
    "device = torch.device('cuda')\n",
    "device"
   ]
  },
  {
   "cell_type": "code",
   "execution_count": null,
   "metadata": {},
   "outputs": [],
   "source": []
  }
 ],
 "metadata": {
  "kernelspec": {
   "display_name": "pytorch3d_05",
   "language": "python",
   "name": "pytorch3d_05"
  },
  "language_info": {
   "codemirror_mode": {
    "name": "ipython",
    "version": 3
   },
   "file_extension": ".py",
   "mimetype": "text/x-python",
   "name": "python",
   "nbconvert_exporter": "python",
   "pygments_lexer": "ipython3",
   "version": "3.8.11"
  }
 },
 "nbformat": 4,
 "nbformat_minor": 4
}
