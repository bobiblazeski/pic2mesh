{
 "cells": [
  {
   "cell_type": "code",
   "execution_count": 1,
   "metadata": {},
   "outputs": [],
   "source": [
    "from argparse import Namespace\n",
    "\n",
    "\n",
    "import torch\n",
    "import torch.nn as nn\n",
    "import torch.nn.functional as F\n",
    "\n",
    "\n",
    "from src.models.generator import Generator"
   ]
  },
  {
   "cell_type": "code",
   "execution_count": 3,
   "metadata": {},
   "outputs": [
    {
     "name": "stdout",
     "output_type": "stream",
     "text": [
      "Generator(\n",
      "  (head): ModConvLayer(\n",
      "    (conv): EqualizedModConv2d(3, 32, 3, upsample=False, downsample=False)\n",
      "  )\n",
      "  (body): Sequential(\n",
      "    (block1): ConvBlock(\n",
      "      (conv): Conv2d(32, 32, kernel_size=(3, 3), stride=(1, 1), padding=(1, 1))\n",
      "      (norm): BatchNorm2d(32, eps=1e-05, momentum=0.1, affine=True, track_running_stats=True)\n",
      "      (LeakyRelu): LeakyReLU(negative_slope=0.2, inplace=True)\n",
      "    )\n",
      "    (block2): ConvBlock(\n",
      "      (conv): Conv2d(32, 32, kernel_size=(3, 3), stride=(1, 1), padding=(1, 1))\n",
      "      (norm): BatchNorm2d(32, eps=1e-05, momentum=0.1, affine=True, track_running_stats=True)\n",
      "      (LeakyRelu): LeakyReLU(negative_slope=0.2, inplace=True)\n",
      "    )\n",
      "    (block3): ConvBlock(\n",
      "      (conv): Conv2d(32, 32, kernel_size=(3, 3), stride=(1, 1), padding=(1, 1))\n",
      "      (norm): BatchNorm2d(32, eps=1e-05, momentum=0.1, affine=True, track_running_stats=True)\n",
      "      (LeakyRelu): LeakyReLU(negative_slope=0.2, inplace=True)\n",
      "    )\n",
      "  )\n",
      "  (tail): Sequential(\n",
      "    (0): Conv2d(32, 3, kernel_size=(3, 3), stride=(1, 1), padding=(1, 1))\n",
      "    (1): Tanh()\n",
      "  )\n",
      ")\n",
      "torch.Size([1, 3, 128, 128])\n",
      "torch.Size([1, 32, 128, 128])\n",
      "torch.Size([1, 32, 128, 128])\n",
      "torch.Size([1, 3, 128, 128])\n"
     ]
    },
    {
     "data": {
      "text/plain": [
       "torch.Size([1, 3, 128, 128])"
      ]
     },
     "execution_count": 3,
     "metadata": {},
     "output_type": "execute_result"
    }
   ],
   "source": [
    "opt = Namespace(\n",
    "    dlatent_size=128,\n",
    "    in_channel=3,\n",
    "    out_channel=32,\n",
    "    kernel=3,\n",
    "    ker_size=3,\n",
    "    # Body\n",
    "    num_layer=5,\n",
    "    nfc=32,\n",
    "    min_nfc=32,\n",
    "    padd_size=1, #math.floor(opt.ker_size/2)\n",
    "    nc_im=3,  # image # channels\n",
    "    \n",
    ")\n",
    "G = Generator(opt)\n",
    "print(G)\n",
    "img = torch.rand(1, 3, 128, 128)\n",
    "style = torch.rand(1, opt.dlatent_size)\n",
    "G(img, style).shape"
   ]
  },
  {
   "cell_type": "code",
   "execution_count": null,
   "metadata": {},
   "outputs": [],
   "source": []
  }
 ],
 "metadata": {
  "kernelspec": {
   "display_name": "Python 3",
   "language": "python",
   "name": "python3"
  },
  "language_info": {
   "codemirror_mode": {
    "name": "ipython",
    "version": 3
   },
   "file_extension": ".py",
   "mimetype": "text/x-python",
   "name": "python",
   "nbconvert_exporter": "python",
   "pygments_lexer": "ipython3",
   "version": "3.8.5"
  }
 },
 "nbformat": 4,
 "nbformat_minor": 4
}
