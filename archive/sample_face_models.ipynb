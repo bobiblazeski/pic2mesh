{
 "cells": [
  {
   "cell_type": "code",
   "execution_count": 1,
   "metadata": {},
   "outputs": [],
   "source": [
    "import numpy as np\n",
    "import trimesh\n",
    "import open3d as o3d\n",
    "import torch\n",
    "import os\n",
    "import glob\n",
    "\n",
    "\n",
    "from src.polar_traversal import gather_all_paths, sample_all_paths\n",
    "\n",
    "np.set_printoptions(precision=4, suppress=True)\n",
    "torch.set_printoptions(precision=4, sci_mode=False)"
   ]
  },
  {
   "cell_type": "code",
   "execution_count": null,
   "metadata": {},
   "outputs": [
    {
     "name": "stdout",
     "output_type": "stream",
     "text": [
      "26 ./data/face_stls/carl_detroit.stl\n"
     ]
    }
   ],
   "source": [
    "stl_dir = \"./data/face_stls/\"\n",
    "stls = [os.path.join(stl_dir, f) \n",
    "        for f in os.listdir(stl_dir) \n",
    "        if f.endswith(\".stl\")]\n",
    "\n",
    "stls.sort()\n",
    "# Problems 26, 45, 69\n",
    "idx = 26\n",
    "file_name = stls[idx]\n",
    "print(idx, file_name)\n",
    "latitudes_num = 1024\n",
    "paths = gather_all_paths(file_name, latitudes_num)\n",
    "print(len(paths))\n",
    "\n",
    "samples_num = 256\n",
    "samples = sample_all_paths(paths, samples_num)\n",
    "print(samples[0].shape, samples[1].shape)"
   ]
  },
  {
   "cell_type": "code",
   "execution_count": null,
   "metadata": {
    "scrolled": true
   },
   "outputs": [],
   "source": [
    "vertices, normals = samples\n",
    "vertices.shape, normals.shape"
   ]
  },
  {
   "cell_type": "code",
   "execution_count": null,
   "metadata": {},
   "outputs": [],
   "source": [
    "points = vertices.reshape(-1, 3)\n",
    "pcd = o3d.geometry.PointCloud()\n",
    "pcd.points = o3d.utility.Vector3dVector(points)    \n",
    "o3d.visualization.draw_geometries([pcd])"
   ]
  },
  {
   "cell_type": "code",
   "execution_count": null,
   "metadata": {
    "scrolled": true
   },
   "outputs": [],
   "source": [
    "samples.shape"
   ]
  },
  {
   "cell_type": "code",
   "execution_count": null,
   "metadata": {},
   "outputs": [],
   "source": []
  },
  {
   "cell_type": "code",
   "execution_count": null,
   "metadata": {},
   "outputs": [],
   "source": [
    "file = stls[idx].split('/')[-1].replace('.stl', '.npz')\n",
    "np.savez_compressed('./data/512/'+file, samples=samples)"
   ]
  },
  {
   "cell_type": "code",
   "execution_count": null,
   "metadata": {},
   "outputs": [],
   "source": [
    "latitudes_num = 1024\n",
    "samples_num = 256\n",
    "\n",
    "for idx, stl in enumerate(stls):\n",
    "    print(idx, stl)\n",
    "    file_name = stls[idx]\n",
    "    print(idx, file_name)    \n",
    "    paths = gather_all_paths(file_name, latitudes_num)\n",
    "    samples = sample_all_paths(paths, samples_num)\n",
    "    file = file_name.split('/')[-1].replace('.stl', '.npz')\n",
    "    np.savez_compressed('./data/512/'+file, samples=samples)"
   ]
  },
  {
   "cell_type": "code",
   "execution_count": null,
   "metadata": {
    "scrolled": false
   },
   "outputs": [],
   "source": [
    "len(paths[100])"
   ]
  },
  {
   "cell_type": "code",
   "execution_count": null,
   "metadata": {},
   "outputs": [],
   "source": []
  }
 ],
 "metadata": {
  "kernelspec": {
   "display_name": "pytorch3d_0.3",
   "language": "python",
   "name": "pytorch3d_0.3"
  },
  "language_info": {
   "codemirror_mode": {
    "name": "ipython",
    "version": 3
   },
   "file_extension": ".py",
   "mimetype": "text/x-python",
   "name": "python",
   "nbconvert_exporter": "python",
   "pygments_lexer": "ipython3",
   "version": "3.8.5"
  }
 },
 "nbformat": 4,
 "nbformat_minor": 4
}
