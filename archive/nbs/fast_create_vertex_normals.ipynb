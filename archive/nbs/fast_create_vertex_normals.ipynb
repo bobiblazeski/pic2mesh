{
 "cells": [
  {
   "cell_type": "code",
   "execution_count": 48,
   "metadata": {},
   "outputs": [],
   "source": [
    "import torch\n",
    "from src.util import make_faces\n",
    "\n",
    "def vertex_tris(faces):\n",
    "#     res = []\n",
    "#     face_max = faces.max()+1\n",
    "#     for vid in range(face_max):\n",
    "#         if vid % 1000 == 0:\n",
    "#             print(vid, face_max)\n",
    "#         vertex_faces = []\n",
    "#         for fid, face in enumerate(faces):\n",
    "#             #if vid in face:\n",
    "#             if vid == face[0] or vid == face[1] or vid == face[2]:\n",
    "#                 vertex_faces.append(fid)\n",
    "#         res.append(vertex_faces)\n",
    "    res = [[] for _ in range(faces.max()+1)]\n",
    "    for fid, face in enumerate(faces):\n",
    "        for vid in face:\n",
    "            res[vid].append(fid)        \n",
    "    return res\n",
    "\n",
    "def vertex_tri_maps(faces):\n",
    "    vts = vertex_tris(faces)\n",
    "    r, c = len(vts), max([len(x) for  x in vts])\n",
    "    vert_tri_indices = torch.zeros(r, c, dtype=torch.long)\n",
    "    vert_tri_weights = torch.zeros(r, c)    \n",
    "    for r, tris in enumerate(vts):\n",
    "        if r % 1000 == 0:\n",
    "            print(r, len(vts))\n",
    "        weight = 1. / len(tris)\n",
    "        for c, tri_id in enumerate(tris):\n",
    "            vert_tri_indices[r, c] = tri_id\n",
    "            vert_tri_weights[r, c] = weight\n",
    "    return vert_tri_indices, vert_tri_weights.unsqueeze(dim=-1)[None]"
   ]
  },
  {
   "cell_type": "code",
   "execution_count": 49,
   "metadata": {},
   "outputs": [
    {
     "data": {
      "text/plain": [
       "16"
      ]
     },
     "execution_count": 49,
     "metadata": {},
     "output_type": "execute_result"
    }
   ],
   "source": [
    "from src.config import get_parser\n",
    "\n",
    "opt = get_parser().parse_args(args=[])\n",
    "opt.raster_patch_size = 512\n",
    "opt.raster_patch_size\n",
    "#vert_tri_indices, vert_tri_weights = vertex_tri_maps(faces)"
   ]
  },
  {
   "cell_type": "code",
   "execution_count": 50,
   "metadata": {},
   "outputs": [
    {
     "data": {
      "text/plain": [
       "(450, 3)"
      ]
     },
     "execution_count": 50,
     "metadata": {},
     "output_type": "execute_result"
    }
   ],
   "source": [
    "faces = make_faces(opt.raster_patch_size, opt.raster_patch_size)\n",
    "faces.shape"
   ]
  },
  {
   "cell_type": "code",
   "execution_count": 51,
   "metadata": {},
   "outputs": [
    {
     "data": {
      "text/plain": [
       "[[0],\n",
       " [0, 1, 2],\n",
       " [2, 3, 4],\n",
       " [4, 5, 6],\n",
       " [6, 7, 8],\n",
       " [8, 9, 10],\n",
       " [10, 11, 12],\n",
       " [12, 13, 14],\n",
       " [14, 15, 16],\n",
       " [16, 17, 18],\n",
       " [18, 19, 20],\n",
       " [20, 21, 22],\n",
       " [22, 23, 24],\n",
       " [24, 25, 26],\n",
       " [26, 27, 28],\n",
       " [28, 29],\n",
       " [0, 1, 30],\n",
       " [1, 2, 3, 30, 31, 32],\n",
       " [3, 4, 5, 32, 33, 34],\n",
       " [5, 6, 7, 34, 35, 36],\n",
       " [7, 8, 9, 36, 37, 38],\n",
       " [9, 10, 11, 38, 39, 40],\n",
       " [11, 12, 13, 40, 41, 42],\n",
       " [13, 14, 15, 42, 43, 44],\n",
       " [15, 16, 17, 44, 45, 46],\n",
       " [17, 18, 19, 46, 47, 48],\n",
       " [19, 20, 21, 48, 49, 50],\n",
       " [21, 22, 23, 50, 51, 52],\n",
       " [23, 24, 25, 52, 53, 54],\n",
       " [25, 26, 27, 54, 55, 56],\n",
       " [27, 28, 29, 56, 57, 58],\n",
       " [29, 58, 59],\n",
       " [30, 31, 60],\n",
       " [31, 32, 33, 60, 61, 62],\n",
       " [33, 34, 35, 62, 63, 64],\n",
       " [35, 36, 37, 64, 65, 66],\n",
       " [37, 38, 39, 66, 67, 68],\n",
       " [39, 40, 41, 68, 69, 70],\n",
       " [41, 42, 43, 70, 71, 72],\n",
       " [43, 44, 45, 72, 73, 74],\n",
       " [45, 46, 47, 74, 75, 76],\n",
       " [47, 48, 49, 76, 77, 78],\n",
       " [49, 50, 51, 78, 79, 80],\n",
       " [51, 52, 53, 80, 81, 82],\n",
       " [53, 54, 55, 82, 83, 84],\n",
       " [55, 56, 57, 84, 85, 86],\n",
       " [57, 58, 59, 86, 87, 88],\n",
       " [59, 88, 89],\n",
       " [60, 61, 90],\n",
       " [61, 62, 63, 90, 91, 92],\n",
       " [63, 64, 65, 92, 93, 94],\n",
       " [65, 66, 67, 94, 95, 96],\n",
       " [67, 68, 69, 96, 97, 98],\n",
       " [69, 70, 71, 98, 99, 100],\n",
       " [71, 72, 73, 100, 101, 102],\n",
       " [73, 74, 75, 102, 103, 104],\n",
       " [75, 76, 77, 104, 105, 106],\n",
       " [77, 78, 79, 106, 107, 108],\n",
       " [79, 80, 81, 108, 109, 110],\n",
       " [81, 82, 83, 110, 111, 112],\n",
       " [83, 84, 85, 112, 113, 114],\n",
       " [85, 86, 87, 114, 115, 116],\n",
       " [87, 88, 89, 116, 117, 118],\n",
       " [89, 118, 119],\n",
       " [90, 91, 120],\n",
       " [91, 92, 93, 120, 121, 122],\n",
       " [93, 94, 95, 122, 123, 124],\n",
       " [95, 96, 97, 124, 125, 126],\n",
       " [97, 98, 99, 126, 127, 128],\n",
       " [99, 100, 101, 128, 129, 130],\n",
       " [101, 102, 103, 130, 131, 132],\n",
       " [103, 104, 105, 132, 133, 134],\n",
       " [105, 106, 107, 134, 135, 136],\n",
       " [107, 108, 109, 136, 137, 138],\n",
       " [109, 110, 111, 138, 139, 140],\n",
       " [111, 112, 113, 140, 141, 142],\n",
       " [113, 114, 115, 142, 143, 144],\n",
       " [115, 116, 117, 144, 145, 146],\n",
       " [117, 118, 119, 146, 147, 148],\n",
       " [119, 148, 149],\n",
       " [120, 121, 150],\n",
       " [121, 122, 123, 150, 151, 152],\n",
       " [123, 124, 125, 152, 153, 154],\n",
       " [125, 126, 127, 154, 155, 156],\n",
       " [127, 128, 129, 156, 157, 158],\n",
       " [129, 130, 131, 158, 159, 160],\n",
       " [131, 132, 133, 160, 161, 162],\n",
       " [133, 134, 135, 162, 163, 164],\n",
       " [135, 136, 137, 164, 165, 166],\n",
       " [137, 138, 139, 166, 167, 168],\n",
       " [139, 140, 141, 168, 169, 170],\n",
       " [141, 142, 143, 170, 171, 172],\n",
       " [143, 144, 145, 172, 173, 174],\n",
       " [145, 146, 147, 174, 175, 176],\n",
       " [147, 148, 149, 176, 177, 178],\n",
       " [149, 178, 179],\n",
       " [150, 151, 180],\n",
       " [151, 152, 153, 180, 181, 182],\n",
       " [153, 154, 155, 182, 183, 184],\n",
       " [155, 156, 157, 184, 185, 186],\n",
       " [157, 158, 159, 186, 187, 188],\n",
       " [159, 160, 161, 188, 189, 190],\n",
       " [161, 162, 163, 190, 191, 192],\n",
       " [163, 164, 165, 192, 193, 194],\n",
       " [165, 166, 167, 194, 195, 196],\n",
       " [167, 168, 169, 196, 197, 198],\n",
       " [169, 170, 171, 198, 199, 200],\n",
       " [171, 172, 173, 200, 201, 202],\n",
       " [173, 174, 175, 202, 203, 204],\n",
       " [175, 176, 177, 204, 205, 206],\n",
       " [177, 178, 179, 206, 207, 208],\n",
       " [179, 208, 209],\n",
       " [180, 181, 210],\n",
       " [181, 182, 183, 210, 211, 212],\n",
       " [183, 184, 185, 212, 213, 214],\n",
       " [185, 186, 187, 214, 215, 216],\n",
       " [187, 188, 189, 216, 217, 218],\n",
       " [189, 190, 191, 218, 219, 220],\n",
       " [191, 192, 193, 220, 221, 222],\n",
       " [193, 194, 195, 222, 223, 224],\n",
       " [195, 196, 197, 224, 225, 226],\n",
       " [197, 198, 199, 226, 227, 228],\n",
       " [199, 200, 201, 228, 229, 230],\n",
       " [201, 202, 203, 230, 231, 232],\n",
       " [203, 204, 205, 232, 233, 234],\n",
       " [205, 206, 207, 234, 235, 236],\n",
       " [207, 208, 209, 236, 237, 238],\n",
       " [209, 238, 239],\n",
       " [210, 211, 240],\n",
       " [211, 212, 213, 240, 241, 242],\n",
       " [213, 214, 215, 242, 243, 244],\n",
       " [215, 216, 217, 244, 245, 246],\n",
       " [217, 218, 219, 246, 247, 248],\n",
       " [219, 220, 221, 248, 249, 250],\n",
       " [221, 222, 223, 250, 251, 252],\n",
       " [223, 224, 225, 252, 253, 254],\n",
       " [225, 226, 227, 254, 255, 256],\n",
       " [227, 228, 229, 256, 257, 258],\n",
       " [229, 230, 231, 258, 259, 260],\n",
       " [231, 232, 233, 260, 261, 262],\n",
       " [233, 234, 235, 262, 263, 264],\n",
       " [235, 236, 237, 264, 265, 266],\n",
       " [237, 238, 239, 266, 267, 268],\n",
       " [239, 268, 269],\n",
       " [240, 241, 270],\n",
       " [241, 242, 243, 270, 271, 272],\n",
       " [243, 244, 245, 272, 273, 274],\n",
       " [245, 246, 247, 274, 275, 276],\n",
       " [247, 248, 249, 276, 277, 278],\n",
       " [249, 250, 251, 278, 279, 280],\n",
       " [251, 252, 253, 280, 281, 282],\n",
       " [253, 254, 255, 282, 283, 284],\n",
       " [255, 256, 257, 284, 285, 286],\n",
       " [257, 258, 259, 286, 287, 288],\n",
       " [259, 260, 261, 288, 289, 290],\n",
       " [261, 262, 263, 290, 291, 292],\n",
       " [263, 264, 265, 292, 293, 294],\n",
       " [265, 266, 267, 294, 295, 296],\n",
       " [267, 268, 269, 296, 297, 298],\n",
       " [269, 298, 299],\n",
       " [270, 271, 300],\n",
       " [271, 272, 273, 300, 301, 302],\n",
       " [273, 274, 275, 302, 303, 304],\n",
       " [275, 276, 277, 304, 305, 306],\n",
       " [277, 278, 279, 306, 307, 308],\n",
       " [279, 280, 281, 308, 309, 310],\n",
       " [281, 282, 283, 310, 311, 312],\n",
       " [283, 284, 285, 312, 313, 314],\n",
       " [285, 286, 287, 314, 315, 316],\n",
       " [287, 288, 289, 316, 317, 318],\n",
       " [289, 290, 291, 318, 319, 320],\n",
       " [291, 292, 293, 320, 321, 322],\n",
       " [293, 294, 295, 322, 323, 324],\n",
       " [295, 296, 297, 324, 325, 326],\n",
       " [297, 298, 299, 326, 327, 328],\n",
       " [299, 328, 329],\n",
       " [300, 301, 330],\n",
       " [301, 302, 303, 330, 331, 332],\n",
       " [303, 304, 305, 332, 333, 334],\n",
       " [305, 306, 307, 334, 335, 336],\n",
       " [307, 308, 309, 336, 337, 338],\n",
       " [309, 310, 311, 338, 339, 340],\n",
       " [311, 312, 313, 340, 341, 342],\n",
       " [313, 314, 315, 342, 343, 344],\n",
       " [315, 316, 317, 344, 345, 346],\n",
       " [317, 318, 319, 346, 347, 348],\n",
       " [319, 320, 321, 348, 349, 350],\n",
       " [321, 322, 323, 350, 351, 352],\n",
       " [323, 324, 325, 352, 353, 354],\n",
       " [325, 326, 327, 354, 355, 356],\n",
       " [327, 328, 329, 356, 357, 358],\n",
       " [329, 358, 359],\n",
       " [330, 331, 360],\n",
       " [331, 332, 333, 360, 361, 362],\n",
       " [333, 334, 335, 362, 363, 364],\n",
       " [335, 336, 337, 364, 365, 366],\n",
       " [337, 338, 339, 366, 367, 368],\n",
       " [339, 340, 341, 368, 369, 370],\n",
       " [341, 342, 343, 370, 371, 372],\n",
       " [343, 344, 345, 372, 373, 374],\n",
       " [345, 346, 347, 374, 375, 376],\n",
       " [347, 348, 349, 376, 377, 378],\n",
       " [349, 350, 351, 378, 379, 380],\n",
       " [351, 352, 353, 380, 381, 382],\n",
       " [353, 354, 355, 382, 383, 384],\n",
       " [355, 356, 357, 384, 385, 386],\n",
       " [357, 358, 359, 386, 387, 388],\n",
       " [359, 388, 389],\n",
       " [360, 361, 390],\n",
       " [361, 362, 363, 390, 391, 392],\n",
       " [363, 364, 365, 392, 393, 394],\n",
       " [365, 366, 367, 394, 395, 396],\n",
       " [367, 368, 369, 396, 397, 398],\n",
       " [369, 370, 371, 398, 399, 400],\n",
       " [371, 372, 373, 400, 401, 402],\n",
       " [373, 374, 375, 402, 403, 404],\n",
       " [375, 376, 377, 404, 405, 406],\n",
       " [377, 378, 379, 406, 407, 408],\n",
       " [379, 380, 381, 408, 409, 410],\n",
       " [381, 382, 383, 410, 411, 412],\n",
       " [383, 384, 385, 412, 413, 414],\n",
       " [385, 386, 387, 414, 415, 416],\n",
       " [387, 388, 389, 416, 417, 418],\n",
       " [389, 418, 419],\n",
       " [390, 391, 420],\n",
       " [391, 392, 393, 420, 421, 422],\n",
       " [393, 394, 395, 422, 423, 424],\n",
       " [395, 396, 397, 424, 425, 426],\n",
       " [397, 398, 399, 426, 427, 428],\n",
       " [399, 400, 401, 428, 429, 430],\n",
       " [401, 402, 403, 430, 431, 432],\n",
       " [403, 404, 405, 432, 433, 434],\n",
       " [405, 406, 407, 434, 435, 436],\n",
       " [407, 408, 409, 436, 437, 438],\n",
       " [409, 410, 411, 438, 439, 440],\n",
       " [411, 412, 413, 440, 441, 442],\n",
       " [413, 414, 415, 442, 443, 444],\n",
       " [415, 416, 417, 444, 445, 446],\n",
       " [417, 418, 419, 446, 447, 448],\n",
       " [419, 448, 449],\n",
       " [420, 421],\n",
       " [421, 422, 423],\n",
       " [423, 424, 425],\n",
       " [425, 426, 427],\n",
       " [427, 428, 429],\n",
       " [429, 430, 431],\n",
       " [431, 432, 433],\n",
       " [433, 434, 435],\n",
       " [435, 436, 437],\n",
       " [437, 438, 439],\n",
       " [439, 440, 441],\n",
       " [441, 442, 443],\n",
       " [443, 444, 445],\n",
       " [445, 446, 447],\n",
       " [447, 448, 449],\n",
       " [449]]"
      ]
     },
     "execution_count": 51,
     "metadata": {},
     "output_type": "execute_result"
    }
   ],
   "source": [
    "vts = vertex_tris(faces)\n",
    "vts"
   ]
  },
  {
   "cell_type": "code",
   "execution_count": 11,
   "metadata": {
    "scrolled": true
   },
   "outputs": [
    {
     "name": "stdout",
     "output_type": "stream",
     "text": [
      "0 256\n",
      "0 256\n"
     ]
    }
   ],
   "source": [
    "\n",
    "def vertex_tris(faces):\n",
    "    res = []\n",
    "    for vid in range(faces.max()+1):\n",
    "        if vid % 1000 == 0:\n",
    "            print(vid, faces.max()+1)\n",
    "        vertex_faces = []\n",
    "        for fid, face in enumerate(faces):\n",
    "            if vid in face:\n",
    "                vertex_faces.append(fid)\n",
    "        res.append(vertex_faces)\n",
    "    return res\n",
    "\n",
    "faces = make_faces(opt.raster_patch_size, opt.raster_patch_size)\n",
    "%lprun  vert_tri_indices, vert_tri_weights = vertex_tri_maps(faces)"
   ]
  },
  {
   "cell_type": "code",
   "execution_count": 13,
   "metadata": {},
   "outputs": [
    {
     "name": "stdout",
     "output_type": "stream",
     "text": [
      "0 256\n",
      "0 256\n",
      "\n",
      "*** Profile printout saved to text file 'lprof0'. \n"
     ]
    }
   ],
   "source": [
    "%lprun -T lprof0 -f vertex_tri_maps vertex_tri_maps(faces)"
   ]
  },
  {
   "cell_type": "code",
   "execution_count": 14,
   "metadata": {},
   "outputs": [
    {
     "name": "stdout",
     "output_type": "stream",
     "text": [
      "Timer unit: 1e-06 s\n",
      "\n",
      "Total time: 0.339094 s\n",
      "File: <ipython-input-1-cc5d96e7860d>\n",
      "Function: vertex_tri_maps at line 14\n",
      "\n",
      "Line #      Hits         Time  Per Hit   % Time  Line Contents\n",
      "==============================================================\n",
      "    14                                           def vertex_tri_maps(faces):\n",
      "    15         1     319961.0 319961.0     94.4      vts = vertex_tris(faces)\n",
      "    16         1         44.0     44.0      0.0      r, c = len(vts), max([len(x) for  x in vts])\n",
      "    17         1         44.0     44.0      0.0      vert_tri_indices = torch.zeros(r, c, dtype=torch.long)\n",
      "    18         1          6.0      6.0      0.0      vert_tri_weights = torch.zeros(r, c)    \n",
      "    19       257        116.0      0.5      0.0      for r, tris in enumerate(vts):\n",
      "    20       256        145.0      0.6      0.0          if r % 1000 == 0:\n",
      "    21         1        425.0    425.0      0.1              print(r, len(vts))\n",
      "    22       256        176.0      0.7      0.1          weight = 1. / len(tris)\n",
      "    23      1606       1029.0      0.6      0.3          for c, tri_id in enumerate(tris):\n",
      "    24      1350       8495.0      6.3      2.5              vert_tri_indices[r, c] = tri_id\n",
      "    25      1350       8640.0      6.4      2.5              vert_tri_weights[r, c] = weight\n",
      "    26         1         13.0     13.0      0.0      return vert_tri_indices, vert_tri_weights.unsqueeze(dim=-1)[None]\n"
     ]
    }
   ],
   "source": [
    "print(open('lprof0', 'r').read())"
   ]
  },
  {
   "cell_type": "code",
   "execution_count": 15,
   "metadata": {},
   "outputs": [
    {
     "name": "stdout",
     "output_type": "stream",
     "text": [
      "0 256\n",
      "\n",
      "*** Profile printout saved to text file 'lprof1'. \n"
     ]
    }
   ],
   "source": [
    "%lprun -T lprof1 -f vertex_tris vertex_tris(faces)"
   ]
  },
  {
   "cell_type": "code",
   "execution_count": 16,
   "metadata": {},
   "outputs": [
    {
     "name": "stdout",
     "output_type": "stream",
     "text": [
      "Timer unit: 1e-06 s\n",
      "\n",
      "Total time: 0.386704 s\n",
      "File: <ipython-input-11-15c0e8056c29>\n",
      "Function: vertex_tris at line 1\n",
      "\n",
      "Line #      Hits         Time  Per Hit   % Time  Line Contents\n",
      "==============================================================\n",
      "     1                                           def vertex_tris(faces):\n",
      "     2         1          1.0      1.0      0.0      res = []\n",
      "     3       257        126.0      0.5      0.0      for vid in range(faces.max()+1):\n",
      "     4       256        132.0      0.5      0.0          if vid % 1000 == 0:\n",
      "     5         1        321.0    321.0      0.1              print(vid, faces.max()+1)\n",
      "     6       256         83.0      0.3      0.0          vertex_faces = []\n",
      "     7    115456      60205.0      0.5     15.6          for fid, face in enumerate(faces):\n",
      "     8    115200     325142.0      2.8     84.1              if vid in face:\n",
      "     9      1350        560.0      0.4      0.1                  vertex_faces.append(fid)\n",
      "    10       256        133.0      0.5      0.0          res.append(vertex_faces)\n",
      "    11         1          1.0      1.0      0.0      return res\n"
     ]
    }
   ],
   "source": [
    "print(open('lprof1', 'r').read())"
   ]
  },
  {
   "cell_type": "code",
   "execution_count": 22,
   "metadata": {},
   "outputs": [
    {
     "name": "stdout",
     "output_type": "stream",
     "text": [
      "\n",
      "*** Profile printout saved to text file 'lprof2'. \n"
     ]
    }
   ],
   "source": [
    "def vertex_tris(faces):\n",
    "    res = []\n",
    "    for vid in range(faces.max()+1):\n",
    "        vertex_faces = []\n",
    "        for fid, face in enumerate(faces):\n",
    "            #print(vid, face)\n",
    "            if vid == face[0] or vid == face[1] or vid == face[2]:                \n",
    "                vertex_faces.append(fid)\n",
    "        res.append(vertex_faces)\n",
    "    return res\n",
    "\n",
    "%lprun -T lprof2 -f vertex_tris vertex_tris(faces)"
   ]
  },
  {
   "cell_type": "code",
   "execution_count": 23,
   "metadata": {},
   "outputs": [
    {
     "name": "stdout",
     "output_type": "stream",
     "text": [
      "Timer unit: 1e-06 s\n",
      "\n",
      "Total time: 0.181714 s\n",
      "File: <ipython-input-22-1f620d4f92e9>\n",
      "Function: vertex_tris at line 1\n",
      "\n",
      "Line #      Hits         Time  Per Hit   % Time  Line Contents\n",
      "==============================================================\n",
      "     1                                           def vertex_tris(faces):\n",
      "     2         1          1.0      1.0      0.0      res = []\n",
      "     3       257        118.0      0.5      0.1      for vid in range(faces.max()+1):\n",
      "     4       256         69.0      0.3      0.0          vertex_faces = []\n",
      "     5    115456      50104.0      0.4     27.6          for fid, face in enumerate(faces):\n",
      "     6                                                       #print(vid, face)\n",
      "     7    115200     130812.0      1.1     72.0              if vid == face[0] or vid == face[1] or vid == face[2]:                \n",
      "     8      1350        496.0      0.4      0.3                  vertex_faces.append(fid)\n",
      "     9       256        113.0      0.4      0.1          res.append(vertex_faces)\n",
      "    10         1          1.0      1.0      0.0      return res\n"
     ]
    }
   ],
   "source": [
    "print(open('lprof2', 'r').read())"
   ]
  },
  {
   "cell_type": "code",
   "execution_count": 7,
   "metadata": {},
   "outputs": [
    {
     "data": {
      "text/plain": [
       "array([[ 0,  1,  4],\n",
       "       [ 1,  5,  4],\n",
       "       [ 1,  2,  5],\n",
       "       [ 2,  6,  5],\n",
       "       [ 2,  3,  6],\n",
       "       [ 3,  7,  6],\n",
       "       [ 4,  5,  8],\n",
       "       [ 5,  9,  8],\n",
       "       [ 5,  6,  9],\n",
       "       [ 6, 10,  9],\n",
       "       [ 6,  7, 10],\n",
       "       [ 7, 11, 10],\n",
       "       [ 8,  9, 12],\n",
       "       [ 9, 13, 12],\n",
       "       [ 9, 10, 13],\n",
       "       [10, 14, 13],\n",
       "       [10, 11, 14],\n",
       "       [11, 15, 14]])"
      ]
     },
     "execution_count": 7,
     "metadata": {},
     "output_type": "execute_result"
    }
   ],
   "source": [
    "from collections import OrderedDict\n",
    "\n",
    "obj = OrderedDict(OrderedDict([\n",
    "  ('vert_tri_indices', vert_tri_indices),\n",
    "  ('vert_tri_weights', vert_tri_weights),\n",
    "  ('faces', torch.tensor(faces[None])),\n",
    "]))\n",
    "file = './data/vert_tri_{}.pth'.format(opt.raster_patch_size)\n",
    "torch.save(obj, file)\n",
    "file"
   ]
  },
  {
   "cell_type": "code",
   "execution_count": 8,
   "metadata": {},
   "outputs": [
    {
     "data": {
      "text/plain": [
       "(torch.Size([16384, 6]), torch.Size([1, 16384, 6, 1]))"
      ]
     },
     "execution_count": 8,
     "metadata": {},
     "output_type": "execute_result"
    }
   ],
   "source": [
    "vert_tri_indices.shape, vert_tri_weights.shape"
   ]
  },
  {
   "cell_type": "code",
   "execution_count": null,
   "metadata": {},
   "outputs": [],
   "source": [
    "import torch \n",
    "from collections import OrderedDict\n",
    "\n",
    "opt = get_parser().parse_args(args=[])\n",
    "\n",
    "\n",
    "opt.raster_patch_size = raster_patch_size\n",
    "faces = make_faces(opt.raster_patch_size, opt.raster_patch_size)\n",
    "\n",
    "loaded =  torch.load(os.path.join(opt.data_dir, \n",
    "            'vert_tri_{}.pth'.format(opt.raster_patch_size)))\n",
    "obj = OrderedDict(OrderedDict([\n",
    "  ('vert_tri_indices', vert_tri_indices),\n",
    "  ('vert_tri_weights', vert_tri_weights),\n",
    "  ('faces', torch.tensor(faces[None])),\n",
    "])\n",
    "file = './data/trimap_{}.pth'.format(opt.raster_patch_size)\n",
    "torch.save(obj, file)"
   ]
  },
  {
   "cell_type": "code",
   "execution_count": 9,
   "metadata": {
    "scrolled": true
   },
   "outputs": [
    {
     "data": {
      "text/plain": [
       "'./data/vert_tri_128.pth'"
      ]
     },
     "execution_count": 9,
     "metadata": {},
     "output_type": "execute_result"
    }
   ],
   "source": [
    "from collections import OrderedDict\n",
    "\n",
    "obj = OrderedDict(OrderedDict([\n",
    "  ('vert_tri_indices', vert_tri_indices),\n",
    "  ('vert_tri_weights', vert_tri_weights),\n",
    "  ('faces', torch.tensor(faces[None])),\n",
    "]))\n",
    "file = './data/vert_tri_{}.pth'.format(opt.raster_patch_size)\n",
    "torch.save(obj, file)\n",
    "file"
   ]
  },
  {
   "cell_type": "code",
   "execution_count": 10,
   "metadata": {
    "scrolled": true
   },
   "outputs": [
    {
     "data": {
      "text/plain": [
       "OrderedDict([('vert_tri_indices',\n",
       "              tensor([[    0,     0,     0,     0,     0,     0],\n",
       "                      [    0,     1,     2,     0,     0,     0],\n",
       "                      [    2,     3,     4,     0,     0,     0],\n",
       "                      ...,\n",
       "                      [32253, 32254, 32255,     0,     0,     0],\n",
       "                      [32255, 32256, 32257,     0,     0,     0],\n",
       "                      [32257,     0,     0,     0,     0,     0]])),\n",
       "             ('vert_tri_weights',\n",
       "              tensor([[[[1.0000],\n",
       "                        [0.0000],\n",
       "                        [0.0000],\n",
       "                        [0.0000],\n",
       "                        [0.0000],\n",
       "                        [0.0000]],\n",
       "              \n",
       "                       [[0.3333],\n",
       "                        [0.3333],\n",
       "                        [0.3333],\n",
       "                        [0.0000],\n",
       "                        [0.0000],\n",
       "                        [0.0000]],\n",
       "              \n",
       "                       [[0.3333],\n",
       "                        [0.3333],\n",
       "                        [0.3333],\n",
       "                        [0.0000],\n",
       "                        [0.0000],\n",
       "                        [0.0000]],\n",
       "              \n",
       "                       ...,\n",
       "              \n",
       "                       [[0.3333],\n",
       "                        [0.3333],\n",
       "                        [0.3333],\n",
       "                        [0.0000],\n",
       "                        [0.0000],\n",
       "                        [0.0000]],\n",
       "              \n",
       "                       [[0.3333],\n",
       "                        [0.3333],\n",
       "                        [0.3333],\n",
       "                        [0.0000],\n",
       "                        [0.0000],\n",
       "                        [0.0000]],\n",
       "              \n",
       "                       [[1.0000],\n",
       "                        [0.0000],\n",
       "                        [0.0000],\n",
       "                        [0.0000],\n",
       "                        [0.0000],\n",
       "                        [0.0000]]]]))])"
      ]
     },
     "execution_count": 10,
     "metadata": {},
     "output_type": "execute_result"
    }
   ],
   "source": [
    "loaded = torch.load(file)\n",
    "loaded"
   ]
  },
  {
   "cell_type": "code",
   "execution_count": 11,
   "metadata": {},
   "outputs": [
    {
     "data": {
      "text/plain": [
       "(torch.Size([16384, 6]), torch.Size([1, 16384, 6, 1]))"
      ]
     },
     "execution_count": 11,
     "metadata": {},
     "output_type": "execute_result"
    }
   ],
   "source": [
    "loaded['vert_tri_indices'].shape, loaded['vert_tri_weights'].shape"
   ]
  },
  {
   "cell_type": "code",
   "execution_count": null,
   "metadata": {},
   "outputs": [],
   "source": [
    "import numpy as np\n",
    "\n",
    "def make_faces(w, h):\n",
    "    mesh_indices = []\n",
    "    for iw  in range(w-1):\n",
    "        for ih in range(h-1):\n",
    "            mesh_indices.append([iw*w+ih, iw*w+ih+1, (iw+1)*w+ih])            \n",
    "            mesh_indices.append([iw*w+ih+1, (iw+1)*w+ih+1, (iw+1)*w+ih])\n",
    "    return np.array(mesh_indices)\n",
    "\n",
    "faces = make_faces(4, 4)\n",
    "faces"
   ]
  },
  {
   "cell_type": "code",
   "execution_count": 44,
   "metadata": {},
   "outputs": [
    {
     "data": {
      "text/plain": [
       "(18, 3)"
      ]
     },
     "execution_count": 44,
     "metadata": {},
     "output_type": "execute_result"
    }
   ],
   "source": [
    "\n",
    "from src.config import get_parser\n",
    "\n",
    "opt = get_parser().parse_args(args=[])\n",
    "opt.raster_patch_size = 4\n",
    "opt.raster_patch_size\n",
    "#vert_tri_indices, vert_t\n",
    "\n",
    "\n",
    "\n",
    "faces = make_faces(opt.raster_patch_size , opt.raster_patch_size)\n",
    "faces.shape"
   ]
  },
  {
   "cell_type": "code",
   "execution_count": 45,
   "metadata": {},
   "outputs": [
    {
     "name": "stdout",
     "output_type": "stream",
     "text": [
      "0 16\n"
     ]
    },
    {
     "data": {
      "text/plain": [
       "[[0],\n",
       " [0, 1, 2],\n",
       " [2, 3, 4],\n",
       " [4, 5],\n",
       " [0, 1, 6],\n",
       " [1, 2, 3, 6, 7, 8],\n",
       " [3, 4, 5, 8, 9, 10],\n",
       " [5, 10, 11],\n",
       " [6, 7, 12],\n",
       " [7, 8, 9, 12, 13, 14],\n",
       " [9, 10, 11, 14, 15, 16],\n",
       " [11, 16, 17],\n",
       " [12, 13],\n",
       " [13, 14, 15],\n",
       " [15, 16, 17],\n",
       " [17]]"
      ]
     },
     "execution_count": 45,
     "metadata": {},
     "output_type": "execute_result"
    }
   ],
   "source": [
    "def vertex_tris(faces):\n",
    "    res = []\n",
    "    face_max = faces.max()+1\n",
    "    for vid in range(face_max):\n",
    "        if vid % 1000 == 0:\n",
    "            print(vid, face_max)\n",
    "        vertex_faces = []\n",
    "        for fid, face in enumerate(faces):\n",
    "            #if vid in face:\n",
    "            if vid == face[0] or vid == face[1] or vid == face[2]:\n",
    "                vertex_faces.append(fid)\n",
    "        res.append(vertex_faces)\n",
    "    return res\n",
    "\n",
    "vt_tris = vertex_tris(faces)\n",
    "vt_tris"
   ]
  },
  {
   "cell_type": "code",
   "execution_count": 47,
   "metadata": {},
   "outputs": [
    {
     "data": {
      "text/plain": [
       "[[0],\n",
       " [0, 1, 2],\n",
       " [2, 3, 4],\n",
       " [4, 5],\n",
       " [0, 1, 6],\n",
       " [1, 2, 3, 6, 7, 8],\n",
       " [3, 4, 5, 8, 9, 10],\n",
       " [5, 10, 11],\n",
       " [6, 7, 12],\n",
       " [7, 8, 9, 12, 13, 14],\n",
       " [9, 10, 11, 14, 15, 16],\n",
       " [11, 16, 17],\n",
       " [12, 13],\n",
       " [13, 14, 15],\n",
       " [15, 16, 17],\n",
       " [17]]"
      ]
     },
     "execution_count": 47,
     "metadata": {},
     "output_type": "execute_result"
    }
   ],
   "source": [
    "res = [[] for _ in range(faces.max()+1)]\n",
    "for fid, face in enumerate(faces):\n",
    "    for vid in face:\n",
    "        res[vid].append(fid)\n",
    "res"
   ]
  },
  {
   "cell_type": "code",
   "execution_count": null,
   "metadata": {},
   "outputs": [],
   "source": []
  }
 ],
 "metadata": {
  "kernelspec": {
   "display_name": "pytorch3d_0.3",
   "language": "python",
   "name": "pytorch3d_0.3"
  },
  "language_info": {
   "codemirror_mode": {
    "name": "ipython",
    "version": 3
   },
   "file_extension": ".py",
   "mimetype": "text/x-python",
   "name": "python",
   "nbconvert_exporter": "python",
   "pygments_lexer": "ipython3",
   "version": "3.8.5"
  }
 },
 "nbformat": 4,
 "nbformat_minor": 4
}
