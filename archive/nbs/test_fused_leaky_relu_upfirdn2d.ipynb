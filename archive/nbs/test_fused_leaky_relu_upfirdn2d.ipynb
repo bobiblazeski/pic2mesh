{
 "cells": [
  {
   "cell_type": "code",
   "execution_count": 1,
   "metadata": {},
   "outputs": [],
   "source": [
    "import torch\n",
    "import torch.nn as nn\n",
    "import torch.nn.functional as F\n",
    "\n",
    "from src.stylegan2.op import (\n",
    "    fused_leaky_relu,\n",
    "    upfirdn2d,\n",
    ")\n",
    "\n",
    "from src.stylegan2.CustomLayers import (\n",
    "    Blur,\n",
    "    EqualizedLinear, \n",
    "    EqualizedModConv2d,         \n",
    ")\n",
    "\n",
    "from src.stylegan2.Blocks import  (\n",
    "    ModConvLayer,    \n",
    ")"
   ]
  },
  {
   "cell_type": "code",
   "execution_count": 2,
   "metadata": {},
   "outputs": [
    {
     "name": "stdout",
     "output_type": "stream",
     "text": [
      "torch.Size([1, 3, 8, 8])\n",
      "torch.Size([1, 3, 8, 8])\n"
     ]
    }
   ],
   "source": [
    "print(upfirdn2d(torch.randn(1,3,10,10).cuda(),torch.randn(3,3).cuda()).shape)\n",
    "print(upfirdn2d(torch.randn(1,3,10,10), torch.randn(3,3)).shape)"
   ]
  },
  {
   "cell_type": "code",
   "execution_count": 3,
   "metadata": {},
   "outputs": [
    {
     "data": {
      "text/plain": [
       "torch.Size([3, 32])"
      ]
     },
     "execution_count": 3,
     "metadata": {},
     "output_type": "execute_result"
    }
   ],
   "source": [
    "el = EqualizedLinear(64, 32, activation='lrelu')\n",
    "el(torch.rand(3, 64)).shape"
   ]
  },
  {
   "cell_type": "code",
   "execution_count": 4,
   "metadata": {},
   "outputs": [
    {
     "data": {
      "text/plain": [
       "torch.Size([2, 4, 2, 2])"
      ]
     },
     "execution_count": 4,
     "metadata": {},
     "output_type": "execute_result"
    }
   ],
   "source": [
    "blur = Blur((3, 3), (0, 0))\n",
    "blur(torch.rand((2, 4, 3, 3))).shape"
   ]
  },
  {
   "cell_type": "code",
   "execution_count": 5,
   "metadata": {},
   "outputs": [
    {
     "data": {
      "text/plain": [
       "torch.Size([7, 128, 8, 8])"
      ]
     },
     "execution_count": 5,
     "metadata": {},
     "output_type": "execute_result"
    }
   ],
   "source": [
    "dlatent_size = 256\n",
    "in_channel = 64\n",
    "out_channel = 128\n",
    "kernel = 3\n",
    "modconv2d = EqualizedModConv2d(dlatent_size, in_channel, out_channel, kernel,\n",
    "                     up=False, down=False, demodulate=True, resample_kernel=None,\n",
    "                     gain=1., use_wscale=True, lrmul=1.)   \n",
    "\n",
    "bs = 7\n",
    "modconv2d(torch.rand((bs, in_channel, 8, 8)),\n",
    "          torch.rand((bs, dlatent_size))).shape"
   ]
  },
  {
   "cell_type": "code",
   "execution_count": 6,
   "metadata": {},
   "outputs": [
    {
     "data": {
      "text/plain": [
       "EqualizedModConv2d(64, 128, 3, upsample=False, downsample=False)"
      ]
     },
     "execution_count": 6,
     "metadata": {},
     "output_type": "execute_result"
    }
   ],
   "source": [
    "modconv2d"
   ]
  },
  {
   "cell_type": "code",
   "execution_count": 13,
   "metadata": {},
   "outputs": [
    {
     "data": {
      "text/plain": [
       "torch.Size([7, 128, 8, 8])"
      ]
     },
     "execution_count": 13,
     "metadata": {},
     "output_type": "execute_result"
    }
   ],
   "source": [
    "modconvlayer = ModConvLayer(\n",
    "    dlatent_size, \n",
    "    in_channel,\n",
    "    out_channel, kernel, \n",
    ")\n",
    "modconvlayer(torch.rand((bs, in_channel, 8, 8)), \n",
    "             torch.rand((bs, dlatent_size))).shape"
   ]
  },
  {
   "cell_type": "code",
   "execution_count": null,
   "metadata": {},
   "outputs": [],
   "source": [
    "class ModConvLayer(nn.Module):\n",
    "    def __init__(self, dlatent_size, in_channel, out_channel, \n",
    "                 kernel, up=False, down=False, use_noise=True):\n",
    "        super(ModConvLayer, self).__init__()\n",
    "\n",
    "        self.conv = EqualizedModConv2d(dlatent_size=dlatent_size,\n",
    "                                       in_channel=in_channel, out_channel=out_channel,\n",
    "                                       kernel=kernel, up=up, down=down)\n",
    "        self.bias = nn.Parameter(torch.zeros(out_channel), requires_grad=True)\n",
    "\n",
    "        self.use_noise = use_noise\n",
    "        if self.use_noise:\n",
    "            self.noise_strength = nn.Parameter(\n",
    "                torch.zeros(1), requires_grad=True)\n",
    "\n",
    "    def forward(self, x, dlatents_in_range, noise_input=None):\n",
    "        x = self.conv(x, dlatents_in_range)\n",
    "\n",
    "        if self.use_noise:\n",
    "            if noise_input is None:\n",
    "                batch, _, height, width = x.shape\n",
    "                noise_input = x.new_empty(batch, 1, height, width).normal_()\n",
    "\n",
    "            x += self.noise_strength * noise_input\n",
    "\n",
    "        out = fused_leaky_relu(x, self.bias)  # act='lrelu'\n",
    "\n",
    "        return out"
   ]
  }
 ],
 "metadata": {
  "kernelspec": {
   "display_name": "pytorch3d_0.3",
   "language": "python",
   "name": "pytorch3d_0.3"
  },
  "language_info": {
   "codemirror_mode": {
    "name": "ipython",
    "version": 3
   },
   "file_extension": ".py",
   "mimetype": "text/x-python",
   "name": "python",
   "nbconvert_exporter": "python",
   "pygments_lexer": "ipython3",
   "version": "3.8.5"
  }
 },
 "nbformat": 4,
 "nbformat_minor": 4
}
