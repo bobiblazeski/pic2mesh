{
 "cells": [
  {
   "cell_type": "code",
   "execution_count": 26,
   "metadata": {},
   "outputs": [],
   "source": [
    "import numpy as np\n",
    "import torch\n",
    "import torch.nn.functional as  F\n",
    "import trimesh\n",
    "import pytorch3d\n",
    "from pytorch3d.utils import ico_sphere\n",
    "\n",
    "from src.config import get_parser\n",
    "from src.util import make_faces\n",
    "\n",
    "\n",
    "torch.set_printoptions(sci_mode=False, precision=4)"
   ]
  },
  {
   "cell_type": "code",
   "execution_count": 2,
   "metadata": {},
   "outputs": [
    {
     "data": {
      "text/plain": [
       "(torch.Size([3, 256, 256]), torch.Size([3, 256, 256]))"
      ]
     },
     "execution_count": 2,
     "metadata": {},
     "output_type": "execute_result"
    }
   ],
   "source": [
    "config = get_parser().parse_args(args=[])\n",
    "\n",
    "# Set the cuda device\n",
    "device = torch.device(\"cuda:0\")\n",
    "\n",
    "\n",
    "blueprint =  np.load(config.blueprint)        \n",
    "points = torch.tensor(blueprint['points'])[0]\n",
    "normals = torch.tensor(blueprint['normals'])[0]\n",
    "points.shape, normals.shape"
   ]
  },
  {
   "cell_type": "code",
   "execution_count": 3,
   "metadata": {},
   "outputs": [
    {
     "data": {
      "text/plain": [
       "array([[    0,     1,   256],\n",
       "       [    1,   257,   256],\n",
       "       [    1,     2,   257],\n",
       "       ...,\n",
       "       [65278, 65534, 65533],\n",
       "       [65278, 65279, 65534],\n",
       "       [65279, 65535, 65534]])"
      ]
     },
     "execution_count": 3,
     "metadata": {},
     "output_type": "execute_result"
    }
   ],
   "source": [
    "# Vertex normals are calculated by averaging all of the \n",
    "# face normals of triangles of which the vertex is a part. \n",
    "_, w, h = points.shape\n",
    "faces = make_faces(w, h)\n",
    "faces"
   ]
  },
  {
   "cell_type": "code",
   "execution_count": 4,
   "metadata": {},
   "outputs": [
    {
     "data": {
      "text/plain": [
       "array([[ 0.68647611, -0.72714585,  0.00307691],\n",
       "       [-0.41663866, -0.79746992,  0.4364103 ],\n",
       "       [ 0.561194  , -0.48419887,  0.67127696],\n",
       "       [ 0.53644249,  0.60476166,  0.58863638],\n",
       "       [-0.49963522, -0.79064121, -0.35390836],\n",
       "       [ 0.17280246, -0.97347702, -0.14993929],\n",
       "       [ 0.84690504,  0.45590931,  0.27367601],\n",
       "       [ 0.61293173,  0.4128088 , -0.67372367],\n",
       "       [ 0.61293173,  0.4128088 , -0.67372367],\n",
       "       [ 0.61293173,  0.4128088 , -0.67372367]])"
      ]
     },
     "execution_count": 4,
     "metadata": {},
     "output_type": "execute_result"
    }
   ],
   "source": [
    "vertices = np.array([[ 0.82667452,  0.89591247,  0.91638623],\n",
    "                        [ 0.10045271,  0.50575086,  0.73920507],\n",
    "                        [ 0.06341482,  0.17413744,  0.6316301 ],\n",
    "                        [ 0.75613029,  0.82585983,  0.10012549],\n",
    "                        [ 0.45498342,  0.5636221 ,  0.10940527],\n",
    "                        [ 0.46079863,  0.54088544,  0.1519899 ],\n",
    "                        [ 0.61961934,  0.78550213,  0.43406491],\n",
    "                        [ 0.12654252,  0.7514213 ,  0.18265301],\n",
    "                        [ 0.94441365,  0.00428673,  0.46893573],\n",
    "                        [ 0.79083297,  0.70198129,  0.75670947]] )\n",
    "faces = np.array( [[0,1,2],\n",
    "                   [0,2,3], \n",
    "                   [1,2,3], \n",
    "                   [1,4,5], \n",
    "                   [2,5,6], \n",
    "                   [6,3,7], \n",
    "                   [9,8,7]])\n",
    "\n",
    "def normalize_v3(arr):\n",
    "    ''' Normalize a numpy array of 3 component vectors shape=(n,3) '''\n",
    "    lens = np.sqrt( arr[:,0]**2 + arr[:,1]**2 + arr[:,2]**2 )\n",
    "    arr[:,0] /= lens\n",
    "    arr[:,1] /= lens\n",
    "    arr[:,2] /= lens                \n",
    "    return arr\n",
    "\n",
    "#Create a zeroed array with the same type and shape as our vertices i.e., per vertex normal\n",
    "norm = np.zeros( vertices.shape, dtype=vertices.dtype )\n",
    "#Create an indexed view into the vertex array using the array of three indices for triangles\n",
    "tris = vertices[faces]\n",
    "#Calculate the normal for all the triangles, by taking the cross product of the vectors v1-v0, and v2-v0 in each triangle             \n",
    "n = np.cross( tris[::,1 ] - tris[::,0]  , tris[::,2 ] - tris[::,0] )\n",
    "# n is now an array of normals per triangle. The length of each normal is dependent the vertices, \n",
    "# we need to normalize these, so that our next step weights each normal equally.\n",
    "normalize_v3(n)\n",
    "# now we have a normalized array of normals, one per triangle, i.e., per triangle normals.\n",
    "# But instead of one per triangle (i.e., flat shading), we add to each vertex in that triangle, \n",
    "# the triangles' normal. Multiple triangles would then contribute to every vertex, so we need to normalize again afterwards.\n",
    "# The cool part, we can actually add the normals through an indexed view of our (zeroed) per vertex normal array\n",
    "norm[ faces[:,0] ] += n\n",
    "norm[ faces[:,1] ] += n\n",
    "norm[ faces[:,2] ] += n\n",
    "normalize_v3(norm)\n",
    "norm"
   ]
  },
  {
   "cell_type": "code",
   "execution_count": 5,
   "metadata": {},
   "outputs": [],
   "source": [
    "mesh = trimesh.Trimesh(\n",
    "    vertices=vertices,\n",
    "    faces=faces,\n",
    "    #face_normals=norm\n",
    "    vertex_normals=norm,\n",
    ")\n",
    "mesh.show();"
   ]
  },
  {
   "cell_type": "code",
   "execution_count": 6,
   "metadata": {},
   "outputs": [
    {
     "data": {
      "text/plain": [
       "((10, 3), (7, 3), (10, 3))"
      ]
     },
     "execution_count": 6,
     "metadata": {},
     "output_type": "execute_result"
    }
   ],
   "source": [
    "norm.shape, faces.shape, vertices.shape"
   ]
  },
  {
   "cell_type": "code",
   "execution_count": 7,
   "metadata": {},
   "outputs": [
    {
     "data": {
      "text/plain": [
       "(torch.Size([12, 3]),\n",
       " torch.Size([12, 3]),\n",
       " torch.Size([20, 3]),\n",
       " torch.Size([20, 3]))"
      ]
     },
     "execution_count": 7,
     "metadata": {},
     "output_type": "execute_result"
    }
   ],
   "source": [
    "src_mesh = ico_sphere(0, device)\n",
    "ico_vertices = src_mesh.verts_list()[0]\n",
    "ico_vertex_normals = src_mesh.verts_normals_list()[0]\n",
    "ico_faces = src_mesh.faces_list()[0]\n",
    "ico_face_normals = src_mesh.faces_normals_list()[0]\n",
    "ico_vertices.shape, ico_vertex_normals.shape, ico_faces.shape, ico_face_normals.shape"
   ]
  },
  {
   "cell_type": "code",
   "execution_count": 8,
   "metadata": {
    "scrolled": true
   },
   "outputs": [
    {
     "data": {
      "text/plain": [
       "torch.Size([20, 3, 3])"
      ]
     },
     "execution_count": 8,
     "metadata": {},
     "output_type": "execute_result"
    }
   ],
   "source": [
    "tris = ico_vertices[ico_faces]\n",
    "tris.shape"
   ]
  },
  {
   "cell_type": "code",
   "execution_count": 9,
   "metadata": {},
   "outputs": [
    {
     "data": {
      "text/plain": [
       "torch.Size([20, 3])"
      ]
     },
     "execution_count": 9,
     "metadata": {},
     "output_type": "execute_result"
    }
   ],
   "source": [
    "# torch.cross(vertices_faces[:, 2] - vertices_faces[:, 1],\n",
    "#             vertices_faces[:, 0] - vertices_faces[:, 1],\n",
    "#                     dim=1)\n",
    "\n",
    "vec1 = ico_vertices[ico_faces[:, 1]] - ico_vertices[ico_faces[:, 0]]\n",
    "vec2 = ico_vertices[ico_faces[:, 2]] - ico_vertices[ico_faces[:, 0]]\n",
    "face_norm = F.normalize(vec1.cross(vec2), p=2, dim=-1)  # [F, 3]\n",
    "face_norm.shape"
   ]
  },
  {
   "cell_type": "code",
   "execution_count": 10,
   "metadata": {},
   "outputs": [
    {
     "data": {
      "text/plain": [
       "True"
      ]
     },
     "execution_count": 10,
     "metadata": {},
     "output_type": "execute_result"
    }
   ],
   "source": [
    "torch.allclose(face_norm, ico_face_normals)"
   ]
  },
  {
   "cell_type": "code",
   "execution_count": null,
   "metadata": {},
   "outputs": [],
   "source": [
    "faces_packed = self.faces_packed()\n",
    "verts_packed = self.verts_packed()\n",
    "verts_normals = torch.zeros_like(verts_packed)\n",
    "vertices_faces = verts_packed[faces_packed]\n",
    "\n",
    "# NOTE: this is already applying the area weighting as the magnitude\n",
    "# of the cross product is 2 x area of the triangle.\n",
    "# pyre-fixme[16]: `Tensor` has no attribute `index_add`.\n",
    "verts_normals = verts_normals.index_add(\n",
    "    0,\n",
    "    faces_packed[:, 1],\n",
    "    torch.cross(\n",
    "        vertices_faces[:, 2] - vertices_faces[:, 1],\n",
    "        vertices_faces[:, 0] - vertices_faces[:, 1],\n",
    "        dim=1,\n",
    "    ),\n",
    ")\n",
    "verts_normals = verts_normals.index_add(\n",
    "    0,\n",
    "    faces_packed[:, 2],\n",
    "    torch.cross(\n",
    "        vertices_faces[:, 0] - vertices_faces[:, 2],\n",
    "        vertices_faces[:, 1] - vertices_faces[:, 2],\n",
    "        dim=1,\n",
    "    ),\n",
    ")\n",
    "verts_normals = verts_normals.index_add(\n",
    "    0,\n",
    "    faces_packed[:, 0],\n",
    "    torch.cross(\n",
    "        vertices_faces[:, 1] - vertices_faces[:, 0],\n",
    "        vertices_faces[:, 2] - vertices_faces[:, 0],\n",
    "        dim=1,\n",
    "    ),\n",
    ")\n",
    "\n",
    "self._verts_normals_packed = torch.nn.functional.normalize(\n",
    "    verts_normals, eps=1e-6, dim=1\n",
    ")"
   ]
  },
  {
   "cell_type": "code",
   "execution_count": 11,
   "metadata": {
    "scrolled": true
   },
   "outputs": [
    {
     "data": {
      "text/plain": [
       "(tensor([[ 0, 11,  5],\n",
       "         [ 0,  5,  1],\n",
       "         [ 0,  1,  7],\n",
       "         [ 0,  7, 10],\n",
       "         [ 0, 10, 11],\n",
       "         [ 1,  5,  9],\n",
       "         [ 5, 11,  4],\n",
       "         [11, 10,  2],\n",
       "         [10,  7,  6],\n",
       "         [ 7,  1,  8],\n",
       "         [ 3,  9,  4],\n",
       "         [ 3,  4,  2],\n",
       "         [ 3,  2,  6],\n",
       "         [ 3,  6,  8],\n",
       "         [ 3,  8,  9],\n",
       "         [ 4,  9,  5],\n",
       "         [ 2,  4, 11],\n",
       "         [ 6,  2, 10],\n",
       "         [ 8,  6,  7],\n",
       "         [ 9,  8,  1]], device='cuda:0'),\n",
       " tensor(11, device='cuda:0'))"
      ]
     },
     "execution_count": 11,
     "metadata": {},
     "output_type": "execute_result"
    }
   ],
   "source": [
    "ico_faces, ico_faces.max()"
   ]
  },
  {
   "cell_type": "code",
   "execution_count": 18,
   "metadata": {},
   "outputs": [
    {
     "data": {
      "text/plain": [
       "[[0, 1],\n",
       " [0, 2, 3],\n",
       " [0, 1, 2, 4],\n",
       " [1, 2, 5],\n",
       " [3],\n",
       " [3, 4],\n",
       " [4, 5],\n",
       " [5, 6],\n",
       " [6],\n",
       " [6]]"
      ]
     },
     "execution_count": 18,
     "metadata": {},
     "output_type": "execute_result"
    }
   ],
   "source": [
    "def vertex_tris(faces):\n",
    "    res = []\n",
    "    for vid in range(faces.max()+1):\n",
    "        vertex_faces = []\n",
    "        for fid, face in enumerate(faces):\n",
    "            if vid in face:\n",
    "                vertex_faces.append(fid)\n",
    "        res.append(vertex_faces)\n",
    "    return res\n",
    "\n",
    "vts = vertex_tris(faces)\n",
    "vts"
   ]
  },
  {
   "cell_type": "code",
   "execution_count": 19,
   "metadata": {},
   "outputs": [
    {
     "data": {
      "text/plain": [
       "4"
      ]
     },
     "execution_count": 19,
     "metadata": {},
     "output_type": "execute_result"
    }
   ],
   "source": [
    "max([len(x) for  x in vts])"
   ]
  },
  {
   "cell_type": "code",
   "execution_count": 40,
   "metadata": {},
   "outputs": [
    {
     "data": {
      "text/plain": [
       "{'indices': tensor([[ 0,  1,  2,  3,  4],\n",
       "         [ 1,  2,  5,  9, 19],\n",
       "         [ 7, 11, 12, 16, 17],\n",
       "         [10, 11, 12, 13, 14],\n",
       "         [ 6, 10, 11, 15, 16],\n",
       "         [ 0,  1,  5,  6, 15],\n",
       "         [ 8, 12, 13, 17, 18],\n",
       "         [ 2,  3,  8,  9, 18],\n",
       "         [ 9, 13, 14, 18, 19],\n",
       "         [ 5, 10, 14, 15, 19],\n",
       "         [ 3,  4,  7,  8, 17],\n",
       "         [ 0,  4,  6,  7, 16]]),\n",
       " 'weights': tensor([[0.2000, 0.2000, 0.2000, 0.2000, 0.2000],\n",
       "         [0.2000, 0.2000, 0.2000, 0.2000, 0.2000],\n",
       "         [0.2000, 0.2000, 0.2000, 0.2000, 0.2000],\n",
       "         [0.2000, 0.2000, 0.2000, 0.2000, 0.2000],\n",
       "         [0.2000, 0.2000, 0.2000, 0.2000, 0.2000],\n",
       "         [0.2000, 0.2000, 0.2000, 0.2000, 0.2000],\n",
       "         [0.2000, 0.2000, 0.2000, 0.2000, 0.2000],\n",
       "         [0.2000, 0.2000, 0.2000, 0.2000, 0.2000],\n",
       "         [0.2000, 0.2000, 0.2000, 0.2000, 0.2000],\n",
       "         [0.2000, 0.2000, 0.2000, 0.2000, 0.2000],\n",
       "         [0.2000, 0.2000, 0.2000, 0.2000, 0.2000],\n",
       "         [0.2000, 0.2000, 0.2000, 0.2000, 0.2000]])}"
      ]
     },
     "execution_count": 40,
     "metadata": {},
     "output_type": "execute_result"
    }
   ],
   "source": [
    "r, c = len(vts), max([len(x) for  x in vts])\n",
    "tri_indices = torch.zeros(r, c, dtype=torch.long)\n",
    "tri_weights = torch.zeros(r, c, dtype=torch.long)\n",
    "\n",
    "def vertex_tri_maps(faces):\n",
    "    vts = vertex_tris(faces)\n",
    "    r, c = len(vts), max([len(x) for  x in vts])\n",
    "    res = {\n",
    "        \"indices\": torch.zeros(r, c, dtype=torch.long), \n",
    "        \"weights\": torch.zeros(r, c), \n",
    "    }\n",
    "    for r, tris in enumerate(vts):\n",
    "        weight = 1. / len(tris)\n",
    "        for c, tri_id in enumerate(tris):\n",
    "            res['indices'][r, c] = tri_id\n",
    "            res['weights'][r, c] = weight\n",
    "    return res\n",
    "vert_tri_map =  vertex_tri_maps(ico_faces)\n",
    "vert_tri_map"
   ]
  },
  {
   "cell_type": "code",
   "execution_count": 41,
   "metadata": {
    "scrolled": true
   },
   "outputs": [
    {
     "data": {
      "text/plain": [
       "torch.Size([12, 5, 3])"
      ]
     },
     "execution_count": 41,
     "metadata": {},
     "output_type": "execute_result"
    }
   ],
   "source": [
    "face_norm[vert_tri_map['indices']].shape"
   ]
  },
  {
   "cell_type": "code",
   "execution_count": 42,
   "metadata": {},
   "outputs": [
    {
     "data": {
      "text/plain": [
       "torch.Size([12, 5])"
      ]
     },
     "execution_count": 42,
     "metadata": {},
     "output_type": "execute_result"
    }
   ],
   "source": [
    "vert_tri_map['weights'].shape"
   ]
  },
  {
   "cell_type": "code",
   "execution_count": 43,
   "metadata": {},
   "outputs": [
    {
     "data": {
      "text/plain": [
       "torch.Size([12, 5, 1])"
      ]
     },
     "execution_count": 43,
     "metadata": {},
     "output_type": "execute_result"
    }
   ],
   "source": [
    "vert_tri_map['weights'].unsqueeze(dim=-1).shape"
   ]
  },
  {
   "cell_type": "code",
   "execution_count": 44,
   "metadata": {
    "scrolled": true
   },
   "outputs": [
    {
     "data": {
      "text/plain": [
       "torch.Size([12, 5, 3])"
      ]
     },
     "execution_count": 44,
     "metadata": {},
     "output_type": "execute_result"
    }
   ],
   "source": [
    "vert_tri_weights =  vert_tri_map['weights'].unsqueeze(dim=-1).to(device)\n",
    "weighted_face_norm = face_norm[vert_tri_map['indices']] * vert_tri_weights\n",
    "weighted_face_norm.shape"
   ]
  },
  {
   "cell_type": "code",
   "execution_count": 50,
   "metadata": {},
   "outputs": [
    {
     "name": "stdout",
     "output_type": "stream",
     "text": [
      "torch.Size([12, 3])\n"
     ]
    },
    {
     "data": {
      "text/plain": [
       "tensor([[    -0.5257,      0.8507,     -0.0000],\n",
       "        [     0.5257,      0.8507,      0.0000],\n",
       "        [    -0.5257,     -0.8507,      0.0000],\n",
       "        [     0.5257,     -0.8507,     -0.0000],\n",
       "        [     0.0000,     -0.5257,      0.8507],\n",
       "        [    -0.0000,      0.5257,      0.8507],\n",
       "        [     0.0000,     -0.5257,     -0.8507],\n",
       "        [     0.0000,      0.5257,     -0.8507],\n",
       "        [     0.8507,      0.0000,     -0.5257],\n",
       "        [     0.8507,      0.0000,      0.5257],\n",
       "        [    -0.8507,     -0.0000,     -0.5257],\n",
       "        [    -0.8507,      0.0000,      0.5257]], device='cuda:0')"
      ]
     },
     "execution_count": 50,
     "metadata": {},
     "output_type": "execute_result"
    }
   ],
   "source": [
    "vertex_normals = weighted_face_norm.sum(dim=-2)\n",
    "vertex_normals = F.normalize(vertex_normals, p=2, dim=-1)\n",
    "print(vertex_normals.shape)\n",
    "vertex_normals"
   ]
  },
  {
   "cell_type": "code",
   "execution_count": 46,
   "metadata": {},
   "outputs": [
    {
     "data": {
      "text/plain": [
       "False"
      ]
     },
     "execution_count": 46,
     "metadata": {},
     "output_type": "execute_result"
    }
   ],
   "source": [
    "torch.allclose(ico_vertex_normals, vertex_normals)"
   ]
  },
  {
   "cell_type": "code",
   "execution_count": 47,
   "metadata": {},
   "outputs": [
    {
     "data": {
      "text/plain": [
       "tensor([[    -0.5257,      0.8507,     -0.0000],\n",
       "        [     0.5257,      0.8507,      0.0000],\n",
       "        [    -0.5257,     -0.8507,      0.0000],\n",
       "        [     0.5257,     -0.8507,     -0.0000],\n",
       "        [    -0.0000,     -0.5257,      0.8507],\n",
       "        [     0.0000,      0.5257,      0.8507],\n",
       "        [     0.0000,     -0.5257,     -0.8507],\n",
       "        [    -0.0000,      0.5257,     -0.8507],\n",
       "        [     0.8507,     -0.0000,     -0.5257],\n",
       "        [     0.8507,      0.0000,      0.5257],\n",
       "        [    -0.8507,      0.0000,     -0.5257],\n",
       "        [    -0.8507,     -0.0000,      0.5257]], device='cuda:0')"
      ]
     },
     "execution_count": 47,
     "metadata": {},
     "output_type": "execute_result"
    }
   ],
   "source": [
    "ico_vertex_normals"
   ]
  },
  {
   "cell_type": "code",
   "execution_count": 48,
   "metadata": {},
   "outputs": [
    {
     "data": {
      "text/plain": [
       "tensor([[    -0.5257,      0.8507,     -0.0000],\n",
       "        [     0.5257,      0.8507,      0.0000],\n",
       "        [    -0.5257,     -0.8507,      0.0000],\n",
       "        [     0.5257,     -0.8507,     -0.0000],\n",
       "        [     0.0000,     -0.5257,      0.8507],\n",
       "        [    -0.0000,      0.5257,      0.8507],\n",
       "        [     0.0000,     -0.5257,     -0.8507],\n",
       "        [     0.0000,      0.5257,     -0.8507],\n",
       "        [     0.8507,      0.0000,     -0.5257],\n",
       "        [     0.8507,      0.0000,      0.5257],\n",
       "        [    -0.8507,     -0.0000,     -0.5257],\n",
       "        [    -0.8507,      0.0000,      0.5257]], device='cuda:0')"
      ]
     },
     "execution_count": 48,
     "metadata": {},
     "output_type": "execute_result"
    }
   ],
   "source": [
    " F.normalize(vertex_normals, p=2, dim=-1)"
   ]
  },
  {
   "cell_type": "code",
   "execution_count": 51,
   "metadata": {},
   "outputs": [
    {
     "data": {
      "text/plain": [
       "False"
      ]
     },
     "execution_count": 51,
     "metadata": {},
     "output_type": "execute_result"
    }
   ],
   "source": [
    "torch.allclose(ico_vertex_normals, vertex_normals, )"
   ]
  },
  {
   "cell_type": "code",
   "execution_count": 56,
   "metadata": {},
   "outputs": [
    {
     "data": {
      "text/plain": [
       "5.7220458984375e-06"
      ]
     },
     "execution_count": 56,
     "metadata": {},
     "output_type": "execute_result"
    }
   ],
   "source": [
    "(ico_vertex_normals - vertex_normals).max().item()"
   ]
  },
  {
   "cell_type": "code",
   "execution_count": null,
   "metadata": {},
   "outputs": [],
   "source": []
  }
 ],
 "metadata": {
  "kernelspec": {
   "display_name": "pytorch3d_0.3",
   "language": "python",
   "name": "pytorch3d_0.3"
  },
  "language_info": {
   "codemirror_mode": {
    "name": "ipython",
    "version": 3
   },
   "file_extension": ".py",
   "mimetype": "text/x-python",
   "name": "python",
   "nbconvert_exporter": "python",
   "pygments_lexer": "ipython3",
   "version": "3.8.5"
  }
 },
 "nbformat": 4,
 "nbformat_minor": 4
}
