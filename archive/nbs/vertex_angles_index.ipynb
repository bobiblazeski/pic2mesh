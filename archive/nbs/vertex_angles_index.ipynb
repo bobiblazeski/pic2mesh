{
 "cells": [
  {
   "cell_type": "code",
   "execution_count": 1,
   "metadata": {},
   "outputs": [
    {
     "data": {
      "text/html": [
       "        <script type=\"text/javascript\">\n",
       "        window.PlotlyConfig = {MathJaxConfig: 'local'};\n",
       "        if (window.MathJax) {MathJax.Hub.Config({SVG: {font: \"STIX-Web\"}});}\n",
       "        if (typeof require !== 'undefined') {\n",
       "        require.undef(\"plotly\");\n",
       "        requirejs.config({\n",
       "            paths: {\n",
       "                'plotly': ['https://cdn.plot.ly/plotly-latest.min']\n",
       "            }\n",
       "        });\n",
       "        require(['plotly'], function(Plotly) {\n",
       "            window._Plotly = Plotly;\n",
       "        });\n",
       "        }\n",
       "        </script>\n",
       "        "
      ]
     },
     "metadata": {},
     "output_type": "display_data"
    },
    {
     "data": {
      "text/html": [
       "        <script type=\"text/javascript\">\n",
       "        window.PlotlyConfig = {MathJaxConfig: 'local'};\n",
       "        if (window.MathJax) {MathJax.Hub.Config({SVG: {font: \"STIX-Web\"}});}\n",
       "        if (typeof require !== 'undefined') {\n",
       "        require.undef(\"plotly\");\n",
       "        requirejs.config({\n",
       "            paths: {\n",
       "                'plotly': ['https://cdn.plot.ly/plotly-latest.min']\n",
       "            }\n",
       "        });\n",
       "        require(['plotly'], function(Plotly) {\n",
       "            window._Plotly = Plotly;\n",
       "        });\n",
       "        }\n",
       "        </script>\n",
       "        "
      ]
     },
     "metadata": {},
     "output_type": "display_data"
    },
    {
     "data": {
      "text/html": [
       "        <script type=\"text/javascript\">\n",
       "        window.PlotlyConfig = {MathJaxConfig: 'local'};\n",
       "        if (window.MathJax) {MathJax.Hub.Config({SVG: {font: \"STIX-Web\"}});}\n",
       "        if (typeof require !== 'undefined') {\n",
       "        require.undef(\"plotly\");\n",
       "        requirejs.config({\n",
       "            paths: {\n",
       "                'plotly': ['https://cdn.plot.ly/plotly-latest.min']\n",
       "            }\n",
       "        });\n",
       "        require(['plotly'], function(Plotly) {\n",
       "            window._Plotly = Plotly;\n",
       "        });\n",
       "        }\n",
       "        </script>\n",
       "        "
      ]
     },
     "metadata": {},
     "output_type": "display_data"
    },
    {
     "data": {
      "text/html": [
       "        <script type=\"text/javascript\">\n",
       "        window.PlotlyConfig = {MathJaxConfig: 'local'};\n",
       "        if (window.MathJax) {MathJax.Hub.Config({SVG: {font: \"STIX-Web\"}});}\n",
       "        if (typeof require !== 'undefined') {\n",
       "        require.undef(\"plotly\");\n",
       "        requirejs.config({\n",
       "            paths: {\n",
       "                'plotly': ['https://cdn.plot.ly/plotly-latest.min']\n",
       "            }\n",
       "        });\n",
       "        require(['plotly'], function(Plotly) {\n",
       "            window._Plotly = Plotly;\n",
       "        });\n",
       "        }\n",
       "        </script>\n",
       "        "
      ]
     },
     "metadata": {},
     "output_type": "display_data"
    }
   ],
   "source": [
    "import os\n",
    "from collections import OrderedDict\n",
    "import torch\n",
    "import torch.nn.functional as F\n",
    "from src.util import (\n",
    "    make_faces,    \n",
    ")    \n",
    "\n",
    "def vertex_tris(faces):\n",
    "    res = [[] for _ in range(faces.max()+1)]\n",
    "    for fid, face in enumerate(faces):        \n",
    "        for vid in face:\n",
    "            res[vid].append(fid)        \n",
    "    return res\n",
    "\n",
    "def vertex_tri_maps(faces):\n",
    "    vts = vertex_tris(faces)\n",
    "    r, c = len(vts), max([len(x) for  x in vts])\n",
    "    vert_tri_indices = torch.zeros(r, c, dtype=torch.long)\n",
    "    vert_tri_weights = torch.zeros(r, c)    \n",
    "    for r, tris in enumerate(vts):        \n",
    "        weight = 1. #/ len(tris)\n",
    "        for c, tri_id in enumerate(tris):\n",
    "            vert_tri_indices[r, c] = tri_id\n",
    "            vert_tri_weights[r, c] = weight\n",
    "    return vert_tri_indices, vert_tri_weights.unsqueeze(dim=-1)[None]"
   ]
  },
  {
   "cell_type": "code",
   "execution_count": 4,
   "metadata": {},
   "outputs": [
    {
     "name": "stdout",
     "output_type": "stream",
     "text": [
      "(2, 3)\n"
     ]
    },
    {
     "data": {
      "text/plain": [
       "array([[2, 0, 3],\n",
       "       [1, 3, 0]])"
      ]
     },
     "execution_count": 4,
     "metadata": {},
     "output_type": "execute_result"
    }
   ],
   "source": [
    "side = 2\n",
    "faces = make_faces(side, side)\n",
    "print(faces.shape)\n",
    "faces"
   ]
  },
  {
   "cell_type": "code",
   "execution_count": 6,
   "metadata": {
    "scrolled": true
   },
   "outputs": [
    {
     "name": "stdout",
     "output_type": "stream",
     "text": [
      "torch.Size([4, 6, 3])\n"
     ]
    }
   ],
   "source": [
    "vrt_no = side ** 2\n",
    "angle_sel = torch.randint(0, vrt_no, (vrt_no, 6, 3))\n",
    "print(angle_sel.shape)\n",
    "#angle_sel"
   ]
  },
  {
   "cell_type": "code",
   "execution_count": 10,
   "metadata": {},
   "outputs": [
    {
     "data": {
      "text/plain": [
       "torch.Size([4, 6, 3])"
      ]
     },
     "execution_count": 10,
     "metadata": {},
     "output_type": "execute_result"
    }
   ],
   "source": [
    "angle_vrt_idx = torch.zeros(vrt_no, 6, 3, dtype=torch.long) -1\n",
    "angle_vrt_idx.shape"
   ]
  },
  {
   "cell_type": "code",
   "execution_count": 13,
   "metadata": {},
   "outputs": [
    {
     "name": "stdout",
     "output_type": "stream",
     "text": [
      "tensor(-1)\n",
      "tensor(-1)\n",
      "tensor(-1)\n",
      "tensor(-1)\n",
      "tensor(-1)\n",
      "tensor(-1)\n"
     ]
    }
   ],
   "source": [
    "for m in angle_vrt_idx[0]:\n",
    "    print(m[0].item())"
   ]
  },
  {
   "cell_type": "code",
   "execution_count": 14,
   "metadata": {},
   "outputs": [
    {
     "data": {
      "text/plain": [
       "tensor(-1)"
      ]
     },
     "execution_count": 14,
     "metadata": {},
     "output_type": "execute_result"
    }
   ],
   "source": [
    "angle_vrt_idx[0, 1, 2]"
   ]
  },
  {
   "cell_type": "code",
   "execution_count": 21,
   "metadata": {},
   "outputs": [
    {
     "name": "stdout",
     "output_type": "stream",
     "text": [
      "torch.Size([4, 6, 3])\n"
     ]
    },
    {
     "data": {
      "text/plain": [
       "tensor([[[2, 0, 3],\n",
       "         [1, 0, 3],\n",
       "         [0, 0, 0],\n",
       "         [0, 0, 0],\n",
       "         [0, 0, 0],\n",
       "         [0, 0, 0]],\n",
       "\n",
       "        [[3, 1, 0],\n",
       "         [0, 0, 0],\n",
       "         [0, 0, 0],\n",
       "         [0, 0, 0],\n",
       "         [0, 0, 0],\n",
       "         [0, 0, 0]],\n",
       "\n",
       "        [[0, 2, 3],\n",
       "         [0, 0, 0],\n",
       "         [0, 0, 0],\n",
       "         [0, 0, 0],\n",
       "         [0, 0, 0],\n",
       "         [0, 0, 0]],\n",
       "\n",
       "        [[2, 3, 0],\n",
       "         [1, 3, 0],\n",
       "         [0, 0, 0],\n",
       "         [0, 0, 0],\n",
       "         [0, 0, 0],\n",
       "         [0, 0, 0]]])"
      ]
     },
     "execution_count": 21,
     "metadata": {},
     "output_type": "execute_result"
    }
   ],
   "source": [
    "angle_vrt_idx = torch.zeros(vrt_no, 6, 3, dtype=torch.long) -1\n",
    "\n",
    "for face in faces:\n",
    "    v0, v1, v2 = face\n",
    "    for i, m in enumerate(angle_vrt_idx[v0]):\n",
    "        if m[0].item() == -1:\n",
    "            angle_vrt_idx[v0, i, 0] = v1\n",
    "            angle_vrt_idx[v0, i, 1] = v0\n",
    "            angle_vrt_idx[v0, i, 2] = v2\n",
    "            break\n",
    "    for i, m in enumerate(angle_vrt_idx[v1]):\n",
    "        if m[0].item() == -1:\n",
    "            angle_vrt_idx[v1, i, 0] = v0\n",
    "            angle_vrt_idx[v1, i, 1] = v1\n",
    "            angle_vrt_idx[v1, i, 2] = v2\n",
    "            break\n",
    "    for i, m in enumerate(angle_vrt_idx[v2]):\n",
    "        if m[0].item() == -1:\n",
    "            angle_vrt_idx[v2, i, 0] = v0\n",
    "            angle_vrt_idx[v2, i, 1] = v2\n",
    "            angle_vrt_idx[v2, i, 2] = v1\n",
    "            break\n",
    "            \n",
    "angle_vrt_idx = torch.where(angle_vrt_idx > 0, angle_vrt_idx, 0)\n",
    "print(angle_vrt_idx.shape)\n",
    "angle_vrt_idx"
   ]
  },
  {
   "cell_type": "code",
   "execution_count": 29,
   "metadata": {},
   "outputs": [
    {
     "name": "stdout",
     "output_type": "stream",
     "text": [
      "torch.Size([1, 4, 6, 3, 3])\n"
     ]
    }
   ],
   "source": [
    "#def get_angles(vrt):\n",
    "vrt_no = 4\n",
    "vrt = torch.rand(1, vrt_no, 3)\n",
    "\n",
    "bs = vrt.size(0)\n",
    "angle_pts = vrt.index_select(1, angle_vrt_idx.view(-1)).reshape(bs, vrt_no, 6, 3, 3)\n",
    "print(angle_pts.shape)"
   ]
  },
  {
   "cell_type": "code",
   "execution_count": 30,
   "metadata": {
    "scrolled": true
   },
   "outputs": [
    {
     "data": {
      "text/plain": [
       "(tensor([[[[-0.0074,  0.1447,  0.4200],\n",
       "           [-0.1492,  0.0498, -0.4213],\n",
       "           [ 0.0000,  0.0000,  0.0000],\n",
       "           [ 0.0000,  0.0000,  0.0000],\n",
       "           [ 0.0000,  0.0000,  0.0000],\n",
       "           [ 0.0000,  0.0000,  0.0000]],\n",
       " \n",
       "          [[-0.4587,  0.1465,  0.0729],\n",
       "           [ 0.0000,  0.0000,  0.0000],\n",
       "           [ 0.0000,  0.0000,  0.0000],\n",
       "           [ 0.0000,  0.0000,  0.0000],\n",
       "           [ 0.0000,  0.0000,  0.0000],\n",
       "           [ 0.0000,  0.0000,  0.0000]],\n",
       " \n",
       "          [[ 0.0074, -0.1447, -0.4200],\n",
       "           [ 0.0000,  0.0000,  0.0000],\n",
       "           [ 0.0000,  0.0000,  0.0000],\n",
       "           [ 0.0000,  0.0000,  0.0000],\n",
       "           [ 0.0000,  0.0000,  0.0000],\n",
       "           [ 0.0000,  0.0000,  0.0000]],\n",
       " \n",
       "          [[ 0.6005, -0.0516,  0.7683],\n",
       "           [ 0.4587, -0.1465, -0.0729],\n",
       "           [ 0.0000,  0.0000,  0.0000],\n",
       "           [ 0.0000,  0.0000,  0.0000],\n",
       "           [ 0.0000,  0.0000,  0.0000],\n",
       "           [ 0.0000,  0.0000,  0.0000]]]]),\n",
       " tensor([[[[-0.6079,  0.1963, -0.3484],\n",
       "           [-0.6079,  0.1963, -0.3484],\n",
       "           [ 0.0000,  0.0000,  0.0000],\n",
       "           [ 0.0000,  0.0000,  0.0000],\n",
       "           [ 0.0000,  0.0000,  0.0000],\n",
       "           [ 0.0000,  0.0000,  0.0000]],\n",
       " \n",
       "          [[ 0.1492, -0.0498,  0.4213],\n",
       "           [ 0.0000,  0.0000,  0.0000],\n",
       "           [ 0.0000,  0.0000,  0.0000],\n",
       "           [ 0.0000,  0.0000,  0.0000],\n",
       "           [ 0.0000,  0.0000,  0.0000],\n",
       "           [ 0.0000,  0.0000,  0.0000]],\n",
       " \n",
       "          [[-0.6005,  0.0516, -0.7683],\n",
       "           [ 0.0000,  0.0000,  0.0000],\n",
       "           [ 0.0000,  0.0000,  0.0000],\n",
       "           [ 0.0000,  0.0000,  0.0000],\n",
       "           [ 0.0000,  0.0000,  0.0000],\n",
       "           [ 0.0000,  0.0000,  0.0000]],\n",
       " \n",
       "          [[ 0.6079, -0.1963,  0.3484],\n",
       "           [ 0.6079, -0.1963,  0.3484],\n",
       "           [ 0.0000,  0.0000,  0.0000],\n",
       "           [ 0.0000,  0.0000,  0.0000],\n",
       "           [ 0.0000,  0.0000,  0.0000],\n",
       "           [ 0.0000,  0.0000,  0.0000]]]]))"
      ]
     },
     "execution_count": 30,
     "metadata": {},
     "output_type": "execute_result"
    }
   ],
   "source": [
    "a = angle_pts[:, :, :, 0]\n",
    "b = angle_pts[:, :, :, 1]\n",
    "c = angle_pts[:, :, :, 2]\n",
    "\n",
    "ba = a - b\n",
    "bc = c - b\n",
    "ba, bc"
   ]
  },
  {
   "cell_type": "code",
   "execution_count": 39,
   "metadata": {
    "scrolled": true
   },
   "outputs": [
    {
     "name": "stdout",
     "output_type": "stream",
     "text": [
      "torch.Size([1, 4, 6, 3]) torch.Size([1, 4, 6, 3])\n"
     ]
    },
    {
     "data": {
      "text/plain": [
       "tensor([[[[-0.0166,  0.3258,  0.9453],\n",
       "          [-0.3317,  0.1108, -0.9368],\n",
       "          [ 0.0000,  0.0000,  0.0000],\n",
       "          [ 0.0000,  0.0000,  0.0000],\n",
       "          [ 0.0000,  0.0000,  0.0000],\n",
       "          [ 0.0000,  0.0000,  0.0000]],\n",
       "\n",
       "         [[-0.9419,  0.3008,  0.1497],\n",
       "          [ 0.0000,  0.0000,  0.0000],\n",
       "          [ 0.0000,  0.0000,  0.0000],\n",
       "          [ 0.0000,  0.0000,  0.0000],\n",
       "          [ 0.0000,  0.0000,  0.0000],\n",
       "          [ 0.0000,  0.0000,  0.0000]],\n",
       "\n",
       "         [[ 0.0166, -0.3258, -0.9453],\n",
       "          [ 0.0000,  0.0000,  0.0000],\n",
       "          [ 0.0000,  0.0000,  0.0000],\n",
       "          [ 0.0000,  0.0000,  0.0000],\n",
       "          [ 0.0000,  0.0000,  0.0000],\n",
       "          [ 0.0000,  0.0000,  0.0000]],\n",
       "\n",
       "         [[ 0.6149, -0.0528,  0.7868],\n",
       "          [ 0.9419, -0.3008, -0.1497],\n",
       "          [ 0.0000,  0.0000,  0.0000],\n",
       "          [ 0.0000,  0.0000,  0.0000],\n",
       "          [ 0.0000,  0.0000,  0.0000],\n",
       "          [ 0.0000,  0.0000,  0.0000]]]])"
      ]
     },
     "execution_count": 39,
     "metadata": {},
     "output_type": "execute_result"
    }
   ],
   "source": [
    "eps = 1e-08\n",
    "baNrm = ba / (torch.norm(ba, dim=-1).unsqueeze(-1) + eps)\n",
    "bcNrm = bc / (torch.norm(bc, dim=-1).unsqueeze(-1) + eps)\n",
    "print(baNrm.shape, bcNrm.shape)\n",
    "baNrm"
   ]
  },
  {
   "cell_type": "code",
   "execution_count": 42,
   "metadata": {
    "scrolled": true
   },
   "outputs": [
    {
     "name": "stdout",
     "output_type": "stream",
     "text": [
      "torch.Size([1, 4, 6, 1])\n"
     ]
    },
    {
     "data": {
      "text/plain": [
       "tensor([[[[-0.3508],\n",
       "          [ 0.7556],\n",
       "          [ 0.0000],\n",
       "          [ 0.0000],\n",
       "          [ 0.0000],\n",
       "          [ 0.0000]],\n",
       "\n",
       "         [[-0.2055],\n",
       "          [ 0.0000],\n",
       "          [ 0.0000],\n",
       "          [ 0.0000],\n",
       "          [ 0.0000],\n",
       "          [ 0.0000]],\n",
       "\n",
       "         [[ 0.7163],\n",
       "          [ 0.0000],\n",
       "          [ 0.0000],\n",
       "          [ 0.0000],\n",
       "          [ 0.0000],\n",
       "          [ 0.0000]],\n",
       "\n",
       "         [[ 0.9047],\n",
       "          [ 0.7963],\n",
       "          [ 0.0000],\n",
       "          [ 0.0000],\n",
       "          [ 0.0000],\n",
       "          [ 0.0000]]]])"
      ]
     },
     "execution_count": 42,
     "metadata": {},
     "output_type": "execute_result"
    }
   ],
   "source": [
    "dot_bac = (baNrm * bcNrm).sum(dim=-1).unsqueeze(-1)\n",
    "print(dot_bac.shape)\n",
    "dot_bac"
   ]
  },
  {
   "cell_type": "code",
   "execution_count": 43,
   "metadata": {
    "scrolled": false
   },
   "outputs": [
    {
     "data": {
      "text/plain": [
       "tensor([[[[1.9293],\n",
       "          [0.7142],\n",
       "          [1.5708],\n",
       "          [1.5708],\n",
       "          [1.5708],\n",
       "          [1.5708]],\n",
       "\n",
       "         [[1.7778],\n",
       "          [1.5708],\n",
       "          [1.5708],\n",
       "          [1.5708],\n",
       "          [1.5708],\n",
       "          [1.5708]],\n",
       "\n",
       "         [[0.7722],\n",
       "          [1.5708],\n",
       "          [1.5708],\n",
       "          [1.5708],\n",
       "          [1.5708],\n",
       "          [1.5708]],\n",
       "\n",
       "         [[0.4401],\n",
       "          [0.6496],\n",
       "          [1.5708],\n",
       "          [1.5708],\n",
       "          [1.5708],\n",
       "          [1.5708]]]])"
      ]
     },
     "execution_count": 43,
     "metadata": {},
     "output_type": "execute_result"
    }
   ],
   "source": [
    "torch.arccos(dot_bac)"
   ]
  },
  {
   "cell_type": "code",
   "execution_count": 47,
   "metadata": {
    "scrolled": true
   },
   "outputs": [
    {
     "name": "stdout",
     "output_type": "stream",
     "text": [
      "torch.Size([1, 4, 6, 1])\n"
     ]
    },
    {
     "data": {
      "text/plain": [
       "tensor([[[[1.9293],\n",
       "          [0.7142],\n",
       "          [1.5708],\n",
       "          [1.5708],\n",
       "          [1.5708],\n",
       "          [1.5708]],\n",
       "\n",
       "         [[1.7778],\n",
       "          [1.5708],\n",
       "          [1.5708],\n",
       "          [1.5708],\n",
       "          [1.5708],\n",
       "          [1.5708]],\n",
       "\n",
       "         [[0.7722],\n",
       "          [1.5708],\n",
       "          [1.5708],\n",
       "          [1.5708],\n",
       "          [1.5708],\n",
       "          [1.5708]],\n",
       "\n",
       "         [[0.4401],\n",
       "          [0.6496],\n",
       "          [1.5708],\n",
       "          [1.5708],\n",
       "          [1.5708],\n",
       "          [1.5708]]]])"
      ]
     },
     "execution_count": 47,
     "metadata": {},
     "output_type": "execute_result"
    }
   ],
   "source": [
    "def get_angles(vrt):\n",
    "    bs = vrt.size(0)\n",
    "    angle_pts = vrt.index_select(1, angle_vrt_idx.view(-1)).reshape(bs, vrt_no, 6, 3, 3)\n",
    "    a = angle_pts[:, :, :, 0]\n",
    "    b = angle_pts[:, :, :, 1]\n",
    "    c = angle_pts[:, :, :, 2]\n",
    "\n",
    "    ba = a - b\n",
    "    bc = c - b\n",
    "    \n",
    "    ba_nrm = torch.norm(ba, dim=-1).unsqueeze(-1)\n",
    "    bc_nrm = torch.norm(bc, dim=-1).unsqueeze(-1)\n",
    "    ba_nrm = torch.where(ba_nrm > 0, ba_nrm, torch.tensor(1.))\n",
    "    bc_nrm = torch.where(bc_nrm > 0, bc_nrm, torch.tensor(1.))\n",
    "    \n",
    "    ba_normed = ba / ba_nrm\n",
    "    bc_normed = bc / bc_nrm\n",
    "    dot_bac = (ba_normed * bc_normed).sum(dim=-1).unsqueeze(-1)\n",
    "    angles = torch.arccos(dot_bac)\n",
    "    return angles\n",
    "\n",
    "angles = get_angles(vrt)\n",
    "print(angles.shape)\n",
    "angles"
   ]
  },
  {
   "cell_type": "code",
   "execution_count": 50,
   "metadata": {},
   "outputs": [
    {
     "name": "stdout",
     "output_type": "stream",
     "text": [
      "torch.Size([4, 6, 3])\n"
     ]
    }
   ],
   "source": [
    "angle_vrt_idx = torch.zeros(vrt_no, 6, 3, dtype=torch.long) -1\n",
    "#angle_vrt_idx = \n",
    "for face in faces:\n",
    "    v0, v1, v2 = face\n",
    "    for i, m in enumerate(angle_vrt_idx[v0]):\n",
    "        if m[0].item() == -1:\n",
    "            angle_vrt_idx[v0, i, 0] = v1\n",
    "            angle_vrt_idx[v0, i, 1] = v0\n",
    "            angle_vrt_idx[v0, i, 2] = v2\n",
    "            break\n",
    "    for i, m in enumerate(angle_vrt_idx[v1]):\n",
    "        if m[0].item() == -1:\n",
    "            angle_vrt_idx[v1, i, 0] = v0\n",
    "            angle_vrt_idx[v1, i, 1] = v1\n",
    "            angle_vrt_idx[v1, i, 2] = v2\n",
    "            break\n",
    "    for i, m in enumerate(angle_vrt_idx[v2]):\n",
    "        if m[0].item() == -1:\n",
    "            angle_vrt_idx[v2, i, 0] = v0\n",
    "            angle_vrt_idx[v2, i, 1] = v2\n",
    "            angle_vrt_idx[v2, i, 2] = v1\n",
    "            break\n",
    "            \n",
    "#angle_vrt_idx = torch.where(angle_vrt_idx > 0, angle_vrt_idx, 0)\n",
    "print(angle_vrt_idx.shape)\n",
    "#angle_vrt_idx"
   ]
  },
  {
   "cell_type": "code",
   "execution_count": 53,
   "metadata": {},
   "outputs": [
    {
     "data": {
      "text/plain": [
       "torch.Size([4, 6])"
      ]
     },
     "execution_count": 53,
     "metadata": {},
     "output_type": "execute_result"
    }
   ],
   "source": [
    "angle_vrt_idx.sum(dim=-1).shape"
   ]
  },
  {
   "cell_type": "code",
   "execution_count": 58,
   "metadata": {
    "scrolled": true
   },
   "outputs": [
    {
     "name": "stdout",
     "output_type": "stream",
     "text": [
      "torch.Size([1, 4, 6, 1])\n"
     ]
    },
    {
     "data": {
      "text/plain": [
       "tensor([[[[1.],\n",
       "          [1.],\n",
       "          [0.],\n",
       "          [0.],\n",
       "          [0.],\n",
       "          [0.]],\n",
       "\n",
       "         [[1.],\n",
       "          [0.],\n",
       "          [0.],\n",
       "          [0.],\n",
       "          [0.],\n",
       "          [0.]],\n",
       "\n",
       "         [[1.],\n",
       "          [0.],\n",
       "          [0.],\n",
       "          [0.],\n",
       "          [0.],\n",
       "          [0.]],\n",
       "\n",
       "         [[1.],\n",
       "          [1.],\n",
       "          [0.],\n",
       "          [0.],\n",
       "          [0.],\n",
       "          [0.]]]])"
      ]
     },
     "execution_count": 58,
     "metadata": {},
     "output_type": "execute_result"
    }
   ],
   "source": [
    "angle_vrt_wt = torch.where(angle_vrt_idx.sum(dim=-1) != -3, 1., 0.)[None].unsqueeze(-1)\n",
    "print(angle_vrt_wt.shape)\n",
    "angle_vrt_wt"
   ]
  },
  {
   "cell_type": "code",
   "execution_count": 61,
   "metadata": {},
   "outputs": [
    {
     "data": {
      "text/plain": [
       "(torch.Size([4, 6, 3]), torch.Size([1, 4, 6, 1]))"
      ]
     },
     "execution_count": 61,
     "metadata": {},
     "output_type": "execute_result"
    }
   ],
   "source": [
    "def vertex_angle_maps(faces):\n",
    "    vrt_no =  faces.max() + 1 \n",
    "    angle_vrt_idx = torch.zeros(vrt_no, 6, 3, dtype=torch.long) -1\n",
    "    #angle_vrt_idx = \n",
    "    for face in faces:\n",
    "        v0, v1, v2 = face\n",
    "        for i, m in enumerate(angle_vrt_idx[v0]):\n",
    "            if m[0].item() == -1:\n",
    "                angle_vrt_idx[v0, i, 0] = v1\n",
    "                angle_vrt_idx[v0, i, 1] = v0\n",
    "                angle_vrt_idx[v0, i, 2] = v2\n",
    "                break\n",
    "        for i, m in enumerate(angle_vrt_idx[v1]):\n",
    "            if m[0].item() == -1:\n",
    "                angle_vrt_idx[v1, i, 0] = v0\n",
    "                angle_vrt_idx[v1, i, 1] = v1\n",
    "                angle_vrt_idx[v1, i, 2] = v2\n",
    "                break\n",
    "        for i, m in enumerate(angle_vrt_idx[v2]):\n",
    "            if m[0].item() == -1:\n",
    "                angle_vrt_idx[v2, i, 0] = v0\n",
    "                angle_vrt_idx[v2, i, 1] = v2\n",
    "                angle_vrt_idx[v2, i, 2] = v1\n",
    "                break\n",
    "    angle_vrt_wt = torch.where(angle_vrt_idx.sum(dim=-1) != -3, 1., 0.)\n",
    "    angle_vrt_wt = angle_vrt_wt[None].unsqueeze(-1)\n",
    "    angle_vrt_idx = torch.where(angle_vrt_idx > 0, angle_vrt_idx, 0)\n",
    "    return angle_vrt_idx, angle_vrt_wt\n",
    "\n",
    "angle_vrt_idx, angle_vrt_wt = vertex_angle_maps(faces)\n",
    "angle_vrt_idx.shape, angle_vrt_wt.shape"
   ]
  },
  {
   "cell_type": "code",
   "execution_count": 63,
   "metadata": {},
   "outputs": [
    {
     "data": {
      "text/plain": [
       "torch.Size([1, 4, 6, 1])"
      ]
     },
     "execution_count": 63,
     "metadata": {},
     "output_type": "execute_result"
    }
   ],
   "source": [
    "def get_vertex_angles(vrt, angle_vrt_idx, angle_vrt_wt):\n",
    "    bs = vrt.size(0)\n",
    "    angle_pts = vrt.index_select(1, angle_vrt_idx.view(-1)).reshape(bs, vrt_no, 6, 3, 3)\n",
    "    a = angle_pts[:, :, :, 0]\n",
    "    b = angle_pts[:, :, :, 1]\n",
    "    c = angle_pts[:, :, :, 2]\n",
    "\n",
    "    ba = a - b\n",
    "    bc = c - b\n",
    "    \n",
    "    ba_nrm = torch.norm(ba, dim=-1).unsqueeze(-1)\n",
    "    bc_nrm = torch.norm(bc, dim=-1).unsqueeze(-1)\n",
    "    ba_nrm = torch.where(ba_nrm > 0, ba_nrm, torch.tensor(1.))\n",
    "    bc_nrm = torch.where(bc_nrm > 0, bc_nrm, torch.tensor(1.))\n",
    "    \n",
    "    ba_normed = ba / ba_nrm\n",
    "    bc_normed = bc / bc_nrm\n",
    "    dot_bac = (ba_normed * bc_normed).sum(dim=-1).unsqueeze(-1)\n",
    "    angles = torch.arccos(dot_bac) * angle_vrt_wt\n",
    "    return angles\n",
    "\n",
    "side = 2\n",
    "vrt = torch.rand(1, side ** 2, 3)\n",
    "angles = get_vertex_angles(vrt, angle_vrt_idx, angle_vrt_wt)\n",
    "angles.shape"
   ]
  },
  {
   "cell_type": "code",
   "execution_count": 64,
   "metadata": {},
   "outputs": [
    {
     "data": {
      "text/plain": [
       "torch.Size([3, 4, 6, 1])"
      ]
     },
     "execution_count": 64,
     "metadata": {},
     "output_type": "execute_result"
    }
   ],
   "source": [
    "side = 2\n",
    "vrt = torch.rand(3, side ** 2, 3)\n",
    "angles = get_angles(vrt, angle_vrt_idx, angle_vrt_wt)\n",
    "angles.shape"
   ]
  },
  {
   "cell_type": "code",
   "execution_count": 83,
   "metadata": {},
   "outputs": [
    {
     "data": {
      "text/plain": [
       "VertexNormals: size: 4 path: ./data/trimap_4.pth"
      ]
     },
     "execution_count": 83,
     "metadata": {},
     "output_type": "execute_result"
    }
   ],
   "source": [
    "import os\n",
    "from collections import OrderedDict\n",
    "import torch\n",
    "import torch.nn.functional as F\n",
    "from src.util import (\n",
    "    make_faces,    \n",
    ")    \n",
    "\n",
    "def vertex_tris(faces):\n",
    "    res = [[] for _ in range(faces.max()+1)]\n",
    "    for fid, face in enumerate(faces):        \n",
    "        for vid in face:\n",
    "            res[vid].append(fid)        \n",
    "    return res\n",
    "\n",
    "def vertex_tri_maps(faces):\n",
    "    vts = vertex_tris(faces)\n",
    "    r, c = len(vts), max([len(x) for  x in vts])\n",
    "    vert_tri_indices = torch.zeros(r, c, dtype=torch.long)\n",
    "    vert_tri_weights = torch.zeros(r, c)    \n",
    "    for r, tris in enumerate(vts):        \n",
    "        weight = 1. #/ len(tris)\n",
    "        for c, tri_id in enumerate(tris):\n",
    "            vert_tri_indices[r, c] = tri_id\n",
    "            vert_tri_weights[r, c] = weight\n",
    "    return vert_tri_indices, vert_tri_weights.unsqueeze(dim=-1)[None]\n",
    "\n",
    "def vertex_angle_maps(faces):\n",
    "    vrt_no =  faces.max() + 1 \n",
    "    angle_vrt_idx = torch.zeros(vrt_no, 6, 3, dtype=torch.long) -1\n",
    "    #angle_vrt_idx = \n",
    "    for face in faces:\n",
    "        v0, v1, v2 = face\n",
    "        for i, m in enumerate(angle_vrt_idx[v0]):\n",
    "            if m[0].item() == -1:\n",
    "                angle_vrt_idx[v0, i, 0] = v1\n",
    "                angle_vrt_idx[v0, i, 1] = v0\n",
    "                angle_vrt_idx[v0, i, 2] = v2\n",
    "                break\n",
    "        for i, m in enumerate(angle_vrt_idx[v1]):\n",
    "            if m[0].item() == -1:\n",
    "                angle_vrt_idx[v1, i, 0] = v0\n",
    "                angle_vrt_idx[v1, i, 1] = v1\n",
    "                angle_vrt_idx[v1, i, 2] = v2\n",
    "                break\n",
    "        for i, m in enumerate(angle_vrt_idx[v2]):\n",
    "            if m[0].item() == -1:\n",
    "                angle_vrt_idx[v2, i, 0] = v0\n",
    "                angle_vrt_idx[v2, i, 1] = v2\n",
    "                angle_vrt_idx[v2, i, 2] = v1\n",
    "                break\n",
    "    angle_vrt_wt = torch.where(angle_vrt_idx.sum(dim=-1) != -3, 1., 0.)\n",
    "    angle_vrt_wt = angle_vrt_wt[None].unsqueeze(-1)\n",
    "    angle_vrt_idx = torch.where(angle_vrt_idx > 0, angle_vrt_idx, 0)\n",
    "    return angle_vrt_idx, angle_vrt_wt\n",
    "\n",
    "\n",
    "class VertexNormals(torch.nn.Module):\n",
    "    \n",
    "    def __init__(self, opt, load=True):\n",
    "        super().__init__()\n",
    "        self.size = opt.data_patch_size\n",
    "        self.path = os.path.join(opt.data_dir, \n",
    "            'trimap_{}.pth'.format(opt.data_patch_size))\n",
    "        if load and os.path.exists(self.path):\n",
    "            trimap = torch.load(self.path)\n",
    "        else:\n",
    "            trimap = self.make_trimap(opt.data_patch_size)\n",
    "            torch.save(trimap, self.path)\n",
    "        self.assign_trimap(trimap)\n",
    "    \n",
    "    def assign_trimap(self,  trimap):\n",
    "        self.register_buffer('faces',  trimap['faces'])\n",
    "        self.register_buffer('vert_tri_indices', trimap['vert_tri_indices'])\n",
    "        self.register_buffer('vert_tri_weights', trimap['vert_tri_weights'])        \n",
    "        self.register_buffer('angle_vrt_idx', trimap['angle_vrt_idx'])\n",
    "        self.register_buffer('angle_vrt_wt', trimap['angle_vrt_wt'])\n",
    "\n",
    "    def vertex_normals_mean(self, vrt):\n",
    "        face_normals = self.get_face_normals(vrt)\n",
    "        bs = face_normals.size(0)\n",
    "        r, c = self.vert_tri_indices.shape\n",
    "        fn_group = face_normals.index_select(1, \n",
    "            self.vert_tri_indices.flatten()).reshape(bs, r, c, 3)\n",
    "        weighted_fn_group = fn_group * self.vert_tri_weights    \n",
    "        vertex_normals = weighted_fn_group.sum(dim=-2)\n",
    "        return F.normalize(vertex_normals, p=2, dim=-1)\n",
    "    \n",
    "    def vertex_normals_weighted_area(self, vrt):\n",
    "        face_normals = self.get_face_normals(vrt)\n",
    "        face_areas = self.get_face_areas(vrt)\n",
    "        bs = face_normals.size(0)\n",
    "        r, c = self.vert_tri_indices.shape\n",
    "        fn_group = face_normals.index_select(1, \n",
    "            self.vert_tri_indices.flatten()).reshape(bs, r, c, 3)\n",
    "        \n",
    "        fa_group = face_areas.index_select(1, \n",
    "            self.vert_tri_indices.flatten()).reshape(bs, r, c, 1)\n",
    "        weighted_fa_group = fa_group * self.vert_tri_weights        \n",
    "        \n",
    "        weighted_fn_group = fn_group * fa_group   \n",
    "        vertex_normals = weighted_fn_group.sum(dim=-2)\n",
    "        return F.normalize(vertex_normals, p=2, dim=-1)\n",
    "    \n",
    "    def vertex_normals_weighted_angles(self, vrt):\n",
    "        face_normals = self.get_face_normals(vrt)\n",
    "        vertex_angles = self.get_vertex_angles(vrt)\n",
    "        bs = face_normals.size(0)\n",
    "        r, c = self.vert_tri_indices.shape\n",
    "        fn_group = face_normals.index_select(1, \n",
    "            self.vert_tri_indices.flatten()).reshape(bs, r, c, 3)\n",
    "\n",
    "        weighted_fn_group = fn_group * vertex_angles   \n",
    "        vertex_normals = weighted_fn_group.sum(dim=-2)\n",
    "        return F.normalize(vertex_normals, p=2, dim=-1)\n",
    "    \n",
    "    def get_face_normals(self, vrt):\n",
    "        faces = self.faces\n",
    "        v1 = vrt.index_select(1,faces[:, 1]) - vrt.index_select(1, faces[:, 0])\n",
    "        v2 = vrt.index_select(1,faces[:, 2]) - vrt.index_select(1, faces[:, 0])\n",
    "        face_normals = F.normalize(v1.cross(v2), p=2, dim=-1)  # [F, 3]\n",
    "        return face_normals\n",
    " \n",
    "    \n",
    "    def get_face_areas(self, vrt):\n",
    "        faces = self.faces\n",
    "\n",
    "        v0 = vrt.index_select(1, faces[:, 0])\n",
    "        v1 = vrt.index_select(1, faces[:, 1])\n",
    "        v2 = vrt.index_select(1, faces[:, 2])\n",
    "\n",
    "        a = torch.norm(v1 - v0, dim=-1)\n",
    "        b = torch.norm(v2 - v0, dim=-1)\n",
    "        c = torch.norm(v2 - v1, dim=-1)\n",
    "\n",
    "        s = (a + b + c) / 2\n",
    "        return torch.sqrt(s*(s-a)*(s-b)*(s-c)).unsqueeze(dim=-1)\n",
    "    \n",
    "    def get_vertex_angles(self, vrt):\n",
    "        angle_vrt_idx, angle_vrt_wt\n",
    "        bs = vrt.size(0)\n",
    "        angle_pts = vrt.index_select(1, self.angle_vrt_idx.view(-1))\n",
    "        angle_pts = angle_pts.reshape(bs, -1, 6, 3, 3)\n",
    "        a = angle_pts[:, :, :, 0]\n",
    "        b = angle_pts[:, :, :, 1]\n",
    "        c = angle_pts[:, :, :, 2]\n",
    "\n",
    "        ba = a - b\n",
    "        bc = c - b\n",
    "\n",
    "        ba_nrm = torch.norm(ba, dim=-1).unsqueeze(-1)\n",
    "        bc_nrm = torch.norm(bc, dim=-1).unsqueeze(-1)\n",
    "        ba_nrm = torch.where(ba_nrm > 0, ba_nrm, torch.tensor(1.))\n",
    "        bc_nrm = torch.where(bc_nrm > 0, bc_nrm, torch.tensor(1.))\n",
    "\n",
    "        ba_normed = ba / ba_nrm\n",
    "        bc_normed = bc / bc_nrm\n",
    "        dot_bac = (ba_normed * bc_normed).sum(dim=-1).unsqueeze(-1)\n",
    "        angles = torch.arccos(dot_bac) * self.angle_vrt_wt\n",
    "        return angles\n",
    "        \n",
    "    def __repr__(self):\n",
    "        return f'VertexNormals: size: {self.size} path: {self.path}'\n",
    "    \n",
    "    def make_trimap(self, size):\n",
    "        faces = torch.tensor(make_faces(size, size))\n",
    "        vert_tri_indices, vert_tri_weights = vertex_tri_maps(faces)\n",
    "        angle_vrt_idx, angle_vrt_wt = vertex_angle_maps(faces)\n",
    "        return OrderedDict(OrderedDict([\n",
    "          ('vert_tri_indices', vert_tri_indices),\n",
    "          ('vert_tri_weights', vert_tri_weights),\n",
    "          ('faces', faces),\n",
    "          ('angle_vrt_idx', angle_vrt_idx),\n",
    "          ('angle_vrt_wt', angle_vrt_wt),\n",
    "        ]))\n",
    "    \n",
    "\n",
    "from argparse import Namespace\n",
    "\n",
    "opt = Namespace()\n",
    "opt.data_patch_size = 4\n",
    "opt.data_dir = './data'\n",
    "    \n",
    "vn = VertexNormals(opt, load=False)    \n",
    "vn"
   ]
  },
  {
   "cell_type": "code",
   "execution_count": 87,
   "metadata": {},
   "outputs": [
    {
     "data": {
      "text/plain": [
       "torch.Size([3, 16, 3])"
      ]
     },
     "execution_count": 87,
     "metadata": {},
     "output_type": "execute_result"
    }
   ],
   "source": [
    "vn.vertex_normals_weighted_angles(torch.rand(3, 4**2, 3)).shape"
   ]
  },
  {
   "cell_type": "code",
   "execution_count": 69,
   "metadata": {
    "scrolled": true
   },
   "outputs": [
    {
     "data": {
      "text/plain": [
       "tensor([[[-0.7848,  0.0928,  0.6127],\n",
       "         [-0.4388,  0.7942, -0.4203],\n",
       "         [ 0.1824, -0.9828,  0.0285],\n",
       "         [-0.2433,  0.1500, -0.9583],\n",
       "         [ 0.9133, -0.2668,  0.3077],\n",
       "         [-0.7852,  0.6184, -0.0310],\n",
       "         [-0.2432, -0.8824, -0.4028],\n",
       "         [-0.2963,  0.0643, -0.9529],\n",
       "         [-0.4481, -0.3672,  0.8151],\n",
       "         [-0.5630, -0.6324,  0.5320],\n",
       "         [-0.7874, -0.2311, -0.5716],\n",
       "         [-0.7202,  0.4793, -0.5016],\n",
       "         [-0.9542, -0.0856,  0.2868],\n",
       "         [-0.6985, -0.3931,  0.5980],\n",
       "         [ 0.4125, -0.2790, -0.8672],\n",
       "         [ 0.0870,  0.9650,  0.2474]]])"
      ]
     },
     "execution_count": 69,
     "metadata": {},
     "output_type": "execute_result"
    }
   ],
   "source": [
    "vn.vertex_normals_mean(torch.rand(1, 4**2, 3))"
   ]
  },
  {
   "cell_type": "code",
   "execution_count": 70,
   "metadata": {},
   "outputs": [
    {
     "data": {
      "text/plain": [
       "tensor([[[ 0.7990, -0.5796,  0.1599],\n",
       "         [ 0.7537, -0.6504,  0.0945],\n",
       "         [ 0.5777, -0.7052,  0.4112],\n",
       "         [ 0.7763, -0.6028,  0.1842],\n",
       "         [ 0.5251, -0.8342,  0.1684],\n",
       "         [ 0.8467, -0.3847,  0.3676],\n",
       "         [ 0.0080,  0.2465,  0.9691],\n",
       "         [ 0.6881, -0.5961,  0.4137],\n",
       "         [ 0.8520, -0.5104,  0.1165],\n",
       "         [-0.9481,  0.3160,  0.0364],\n",
       "         [ 0.8459,  0.1381, -0.5152],\n",
       "         [ 0.7885, -0.5873,  0.1823],\n",
       "         [ 0.8295, -0.5222,  0.1981],\n",
       "         [ 0.8374, -0.4616,  0.2929],\n",
       "         [ 0.6515, -0.7496,  0.1165],\n",
       "         [ 0.7376, -0.6750,  0.0184]]])"
      ]
     },
     "execution_count": 70,
     "metadata": {},
     "output_type": "execute_result"
    }
   ],
   "source": [
    "vn.vertex_normals_weighted_area(torch.rand(1, 4**2, 3))"
   ]
  },
  {
   "cell_type": "code",
   "execution_count": 71,
   "metadata": {},
   "outputs": [
    {
     "ename": "RuntimeError",
     "evalue": "shape '[1, 4, 6, 3, 3]' is invalid for input of size 864",
     "output_type": "error",
     "traceback": [
      "\u001b[0;31m---------------------------------------------------------------------------\u001b[0m",
      "\u001b[0;31mRuntimeError\u001b[0m                              Traceback (most recent call last)",
      "\u001b[0;32m<ipython-input-71-a05a5c39eff1>\u001b[0m in \u001b[0;36m<module>\u001b[0;34m\u001b[0m\n\u001b[1;32m      3\u001b[0m \u001b[0;34m\u001b[0m\u001b[0m\n\u001b[1;32m      4\u001b[0m \u001b[0mface_normals\u001b[0m \u001b[0;34m=\u001b[0m \u001b[0mself\u001b[0m\u001b[0;34m.\u001b[0m\u001b[0mget_face_normals\u001b[0m\u001b[0;34m(\u001b[0m\u001b[0mvrt\u001b[0m\u001b[0;34m)\u001b[0m\u001b[0;34m\u001b[0m\u001b[0;34m\u001b[0m\u001b[0m\n\u001b[0;32m----> 5\u001b[0;31m \u001b[0mvertex_angles\u001b[0m \u001b[0;34m=\u001b[0m \u001b[0mself\u001b[0m\u001b[0;34m.\u001b[0m\u001b[0mget_vertex_angles\u001b[0m\u001b[0;34m(\u001b[0m\u001b[0mvrt\u001b[0m\u001b[0;34m)\u001b[0m\u001b[0;34m\u001b[0m\u001b[0;34m\u001b[0m\u001b[0m\n\u001b[0m\u001b[1;32m      6\u001b[0m \u001b[0mbs\u001b[0m \u001b[0;34m=\u001b[0m \u001b[0mface_normals\u001b[0m\u001b[0;34m.\u001b[0m\u001b[0msize\u001b[0m\u001b[0;34m(\u001b[0m\u001b[0;36m0\u001b[0m\u001b[0;34m)\u001b[0m\u001b[0;34m\u001b[0m\u001b[0;34m\u001b[0m\u001b[0m\n\u001b[1;32m      7\u001b[0m \u001b[0mr\u001b[0m\u001b[0;34m,\u001b[0m \u001b[0mc\u001b[0m \u001b[0;34m=\u001b[0m \u001b[0mself\u001b[0m\u001b[0;34m.\u001b[0m\u001b[0mvert_tri_indices\u001b[0m\u001b[0;34m.\u001b[0m\u001b[0mshape\u001b[0m\u001b[0;34m\u001b[0m\u001b[0;34m\u001b[0m\u001b[0m\n",
      "\u001b[0;32m<ipython-input-65-f284f28218b5>\u001b[0m in \u001b[0;36mget_vertex_angles\u001b[0;34m(self, vrt)\u001b[0m\n\u001b[1;32m    140\u001b[0m         \u001b[0mangle_vrt_idx\u001b[0m\u001b[0;34m,\u001b[0m \u001b[0mangle_vrt_wt\u001b[0m\u001b[0;34m\u001b[0m\u001b[0;34m\u001b[0m\u001b[0m\n\u001b[1;32m    141\u001b[0m         \u001b[0mbs\u001b[0m \u001b[0;34m=\u001b[0m \u001b[0mvrt\u001b[0m\u001b[0;34m.\u001b[0m\u001b[0msize\u001b[0m\u001b[0;34m(\u001b[0m\u001b[0;36m0\u001b[0m\u001b[0;34m)\u001b[0m\u001b[0;34m\u001b[0m\u001b[0;34m\u001b[0m\u001b[0m\n\u001b[0;32m--> 142\u001b[0;31m         angle_pts = vrt.index_select(1, \n\u001b[0m\u001b[1;32m    143\u001b[0m             self.angle_vrt_idx.view(-1)).reshape(bs, vrt_no, 6, 3, 3)\n\u001b[1;32m    144\u001b[0m         \u001b[0ma\u001b[0m \u001b[0;34m=\u001b[0m \u001b[0mangle_pts\u001b[0m\u001b[0;34m[\u001b[0m\u001b[0;34m:\u001b[0m\u001b[0;34m,\u001b[0m \u001b[0;34m:\u001b[0m\u001b[0;34m,\u001b[0m \u001b[0;34m:\u001b[0m\u001b[0;34m,\u001b[0m \u001b[0;36m0\u001b[0m\u001b[0;34m]\u001b[0m\u001b[0;34m\u001b[0m\u001b[0;34m\u001b[0m\u001b[0m\n",
      "\u001b[0;31mRuntimeError\u001b[0m: shape '[1, 4, 6, 3, 3]' is invalid for input of size 864"
     ]
    }
   ],
   "source": [
    "self = vn\n",
    "vrt = torch.rand(1, 4**2, 3)\n",
    "\n",
    "face_normals = self.get_face_normals(vrt)\n",
    "vertex_angles = self.get_vertex_angles(vrt)\n",
    "bs = face_normals.size(0)\n",
    "r, c = self.vert_tri_indices.shape\n",
    "fn_group = face_normals.index_select(1, \n",
    "    self.vert_tri_indices.flatten()).reshape(bs, r, c, 3)\n",
    "\n",
    "weighted_fn_group = fn_group * vrt_angles   \n",
    "vertex_normals = weighted_fn_group.sum(dim=-2)\n",
    "F.normalize(vertex_normals, p=2, dim=-1)"
   ]
  },
  {
   "cell_type": "code",
   "execution_count": 80,
   "metadata": {},
   "outputs": [
    {
     "data": {
      "text/plain": [
       "torch.Size([1, 16, 6, 1])"
      ]
     },
     "execution_count": 80,
     "metadata": {},
     "output_type": "execute_result"
    }
   ],
   "source": [
    "self = vn\n",
    "vrt = torch.rand(1, 4**2, 3)\n",
    "\n",
    "angle_vrt_idx, angle_vrt_wt\n",
    "bs = vrt.size(0)\n",
    "angle_pts = vrt.index_select(1, self.angle_vrt_idx.view(-1))\n",
    "angle_pts = angle_pts.reshape(bs, -1, 6, 3, 3)\n",
    "a = angle_pts[:, :, :, 0]\n",
    "b = angle_pts[:, :, :, 1]\n",
    "c = angle_pts[:, :, :, 2]\n",
    "\n",
    "ba = a - b\n",
    "bc = c - b\n",
    "\n",
    "ba_nrm = torch.norm(ba, dim=-1).unsqueeze(-1)\n",
    "bc_nrm = torch.norm(bc, dim=-1).unsqueeze(-1)\n",
    "ba_nrm = torch.where(ba_nrm > 0, ba_nrm, torch.tensor(1.))\n",
    "bc_nrm = torch.where(bc_nrm > 0, bc_nrm, torch.tensor(1.))\n",
    "\n",
    "ba_normed = ba / ba_nrm\n",
    "bc_normed = bc / bc_nrm\n",
    "dot_bac = (ba_normed * bc_normed).sum(dim=-1).unsqueeze(-1)\n",
    "angles = torch.arccos(dot_bac) * self.angle_vrt_wt\n",
    "angles.shape"
   ]
  },
  {
   "cell_type": "code",
   "execution_count": 75,
   "metadata": {},
   "outputs": [
    {
     "data": {
      "text/plain": [
       "torch.Size([1, 288, 3])"
      ]
     },
     "execution_count": 75,
     "metadata": {},
     "output_type": "execute_result"
    }
   ],
   "source": [
    "angle_pts.shape"
   ]
  },
  {
   "cell_type": "code",
   "execution_count": 77,
   "metadata": {},
   "outputs": [
    {
     "data": {
      "text/plain": [
       "torch.Size([1, 16, 6, 3, 3])"
      ]
     },
     "execution_count": 77,
     "metadata": {},
     "output_type": "execute_result"
    }
   ],
   "source": [
    "angle_pts.reshape(bs, -1, 6, 3, 3).shape"
   ]
  },
  {
   "cell_type": "code",
   "execution_count": null,
   "metadata": {},
   "outputs": [],
   "source": []
  }
 ],
 "metadata": {
  "kernelspec": {
   "display_name": "pytorch3d_0.3",
   "language": "python",
   "name": "pytorch3d_0.3"
  },
  "language_info": {
   "codemirror_mode": {
    "name": "ipython",
    "version": 3
   },
   "file_extension": ".py",
   "mimetype": "text/x-python",
   "name": "python",
   "nbconvert_exporter": "python",
   "pygments_lexer": "ipython3",
   "version": "3.8.5"
  }
 },
 "nbformat": 4,
 "nbformat_minor": 4
}
