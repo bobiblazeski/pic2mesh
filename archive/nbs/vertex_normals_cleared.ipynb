{
 "cells": [
  {
   "cell_type": "code",
   "execution_count": 1,
   "metadata": {},
   "outputs": [
    {
     "data": {
      "text/html": [
       "        <script type=\"text/javascript\">\n",
       "        window.PlotlyConfig = {MathJaxConfig: 'local'};\n",
       "        if (window.MathJax) {MathJax.Hub.Config({SVG: {font: \"STIX-Web\"}});}\n",
       "        if (typeof require !== 'undefined') {\n",
       "        require.undef(\"plotly\");\n",
       "        requirejs.config({\n",
       "            paths: {\n",
       "                'plotly': ['https://cdn.plot.ly/plotly-latest.min']\n",
       "            }\n",
       "        });\n",
       "        require(['plotly'], function(Plotly) {\n",
       "            window._Plotly = Plotly;\n",
       "        });\n",
       "        }\n",
       "        </script>\n",
       "        "
      ]
     },
     "metadata": {},
     "output_type": "display_data"
    },
    {
     "data": {
      "text/html": [
       "        <script type=\"text/javascript\">\n",
       "        window.PlotlyConfig = {MathJaxConfig: 'local'};\n",
       "        if (window.MathJax) {MathJax.Hub.Config({SVG: {font: \"STIX-Web\"}});}\n",
       "        if (typeof require !== 'undefined') {\n",
       "        require.undef(\"plotly\");\n",
       "        requirejs.config({\n",
       "            paths: {\n",
       "                'plotly': ['https://cdn.plot.ly/plotly-latest.min']\n",
       "            }\n",
       "        });\n",
       "        require(['plotly'], function(Plotly) {\n",
       "            window._Plotly = Plotly;\n",
       "        });\n",
       "        }\n",
       "        </script>\n",
       "        "
      ]
     },
     "metadata": {},
     "output_type": "display_data"
    },
    {
     "data": {
      "text/html": [
       "        <script type=\"text/javascript\">\n",
       "        window.PlotlyConfig = {MathJaxConfig: 'local'};\n",
       "        if (window.MathJax) {MathJax.Hub.Config({SVG: {font: \"STIX-Web\"}});}\n",
       "        if (typeof require !== 'undefined') {\n",
       "        require.undef(\"plotly\");\n",
       "        requirejs.config({\n",
       "            paths: {\n",
       "                'plotly': ['https://cdn.plot.ly/plotly-latest.min']\n",
       "            }\n",
       "        });\n",
       "        require(['plotly'], function(Plotly) {\n",
       "            window._Plotly = Plotly;\n",
       "        });\n",
       "        }\n",
       "        </script>\n",
       "        "
      ]
     },
     "metadata": {},
     "output_type": "display_data"
    },
    {
     "data": {
      "text/html": [
       "        <script type=\"text/javascript\">\n",
       "        window.PlotlyConfig = {MathJaxConfig: 'local'};\n",
       "        if (window.MathJax) {MathJax.Hub.Config({SVG: {font: \"STIX-Web\"}});}\n",
       "        if (typeof require !== 'undefined') {\n",
       "        require.undef(\"plotly\");\n",
       "        requirejs.config({\n",
       "            paths: {\n",
       "                'plotly': ['https://cdn.plot.ly/plotly-latest.min']\n",
       "            }\n",
       "        });\n",
       "        require(['plotly'], function(Plotly) {\n",
       "            window._Plotly = Plotly;\n",
       "        });\n",
       "        }\n",
       "        </script>\n",
       "        "
      ]
     },
     "metadata": {},
     "output_type": "display_data"
    }
   ],
   "source": [
    "import torch\n",
    "import torch.nn.functional as F\n",
    "import pytorch3d\n",
    "from pytorch3d.utils import ico_sphere\n",
    "\n",
    "from src.util import make_faces\n",
    "\n",
    "torch.set_printoptions(sci_mode=False, precision=4)"
   ]
  },
  {
   "cell_type": "code",
   "execution_count": 2,
   "metadata": {},
   "outputs": [],
   "source": [
    "def vertex_tris(faces):\n",
    "    res = []\n",
    "    for vid in range(faces.max()+1):\n",
    "        vertex_faces = []\n",
    "        for fid, face in enumerate(faces):\n",
    "            if vid in face:\n",
    "                vertex_faces.append(fid)\n",
    "        res.append(vertex_faces)\n",
    "    return res\n",
    "\n",
    "def get_face_normals(vertices, faces):\n",
    "    vec1 = vertices[faces[:, 1]] - vertices[faces[:, 0]]\n",
    "    vec2 = vertices[faces[:, 2]] - vertices[faces[:, 0]]\n",
    "    face_normals = F.normalize(vec1.cross(vec2), p=2, dim=-1)  # [F, 3]\n",
    "    return face_normals\n",
    "\n",
    "\n",
    "\n",
    "def get_vertex_normals(face_normals, vert_tri_indices, vert_tri_weights):    \n",
    "    weighted_face_normals = face_normals[vert_tri_indices] * vert_tri_weights\n",
    "    vertex_normals = weighted_face_normals.sum(dim=-2)\n",
    "    return vertex_normals\n"
   ]
  },
  {
   "cell_type": "code",
   "execution_count": 3,
   "metadata": {},
   "outputs": [
    {
     "data": {
      "text/plain": [
       "(torch.Size([12, 3]),\n",
       " torch.Size([12, 3]),\n",
       " torch.Size([20, 3]),\n",
       " torch.Size([20, 3]))"
      ]
     },
     "execution_count": 3,
     "metadata": {},
     "output_type": "execute_result"
    }
   ],
   "source": [
    "device = torch.device(\"cuda:0\")\n",
    "\n",
    "src_mesh = ico_sphere(0, device)\n",
    "ico_vertices = src_mesh.verts_list()[0]\n",
    "ico_vertex_normals = src_mesh.verts_normals_list()[0]\n",
    "ico_faces = src_mesh.faces_list()[0]\n",
    "ico_face_normals = src_mesh.faces_normals_list()[0]\n",
    "ico_vertices.shape, ico_vertex_normals.shape, ico_faces.shape, ico_face_normals.shape"
   ]
  },
  {
   "cell_type": "code",
   "execution_count": 4,
   "metadata": {},
   "outputs": [
    {
     "data": {
      "text/plain": [
       "torch.Size([20, 3, 3])"
      ]
     },
     "execution_count": 4,
     "metadata": {},
     "output_type": "execute_result"
    }
   ],
   "source": [
    "tris = ico_vertices[ico_faces]\n",
    "tris.shape"
   ]
  },
  {
   "cell_type": "code",
   "execution_count": 7,
   "metadata": {},
   "outputs": [
    {
     "name": "stdout",
     "output_type": "stream",
     "text": [
      "torch.Size([20, 3])\n"
     ]
    },
    {
     "data": {
      "text/plain": [
       "True"
      ]
     },
     "execution_count": 7,
     "metadata": {},
     "output_type": "execute_result"
    }
   ],
   "source": [
    "face_normals = get_face_normals(ico_vertices, ico_faces)\n",
    "print(face_normals.shape)\n",
    "torch.allclose(face_normals, ico_face_normals)"
   ]
  },
  {
   "cell_type": "code",
   "execution_count": 19,
   "metadata": {},
   "outputs": [
    {
     "data": {
      "text/plain": [
       "(torch.Size([12, 5]), torch.Size([12, 5, 1]))"
      ]
     },
     "execution_count": 19,
     "metadata": {},
     "output_type": "execute_result"
    }
   ],
   "source": [
    "def vertex_tri_maps(faces):\n",
    "    vts = vertex_tris(faces)\n",
    "    r, c = len(vts), max([len(x) for  x in vts])\n",
    "    vert_tri_indices = torch.zeros(r, c, dtype=torch.long)\n",
    "    vert_tri_weights = torch.zeros(r, c)    \n",
    "    for r, tris in enumerate(vts):\n",
    "        weight = 1. / len(tris)\n",
    "        for c, tri_id in enumerate(tris):\n",
    "            vert_tri_indices[r, c] = tri_id\n",
    "            vert_tri_weights[r, c] = weight\n",
    "    return vert_tri_indices, vert_tri_weights.unsqueeze(dim=-1)\n",
    "\n",
    "vert_tri_indices, vert_tri_weights = vertex_tri_maps(ico_faces)\n",
    "vert_tri_indices = vert_tri_indices.to(device)\n",
    "vert_tri_weights = vert_tri_weights.to(device)\n",
    "\n",
    "vert_tri_indices.shape, vert_tri_weights.shape"
   ]
  },
  {
   "cell_type": "code",
   "execution_count": 22,
   "metadata": {},
   "outputs": [
    {
     "data": {
      "text/plain": [
       "tensor([[    -0.5257,      0.8507,     -0.0000],\n",
       "        [     0.5257,      0.8507,      0.0000],\n",
       "        [    -0.5257,     -0.8507,      0.0000],\n",
       "        [     0.5257,     -0.8507,     -0.0000],\n",
       "        [     0.0000,     -0.5257,      0.8507],\n",
       "        [    -0.0000,      0.5257,      0.8507],\n",
       "        [     0.0000,     -0.5257,     -0.8507],\n",
       "        [     0.0000,      0.5257,     -0.8507],\n",
       "        [     0.8507,      0.0000,     -0.5257],\n",
       "        [     0.8507,      0.0000,      0.5257],\n",
       "        [    -0.8507,     -0.0000,     -0.5257],\n",
       "        [    -0.8507,      0.0000,      0.5257]], device='cuda:0')"
      ]
     },
     "execution_count": 22,
     "metadata": {},
     "output_type": "execute_result"
    }
   ],
   "source": [
    "def get_vertex_normals(face_normals, vert_tri_indices, vert_tri_weights):    \n",
    "    weighted_face_normals = face_normals[vert_tri_indices] * vert_tri_weights\n",
    "    vertex_normals = weighted_face_normals.sum(dim=-2)\n",
    "    return  F.normalize(vertex_normals, p=2, dim=-1)\n",
    "\n",
    "get_vertex_normals(face_normals, vert_tri_indices, vert_tri_weights)"
   ]
  },
  {
   "cell_type": "code",
   "execution_count": 21,
   "metadata": {},
   "outputs": [
    {
     "data": {
      "text/plain": [
       "tensor([[    -0.5257,      0.8507,     -0.0000],\n",
       "        [     0.5257,      0.8507,      0.0000],\n",
       "        [    -0.5257,     -0.8507,      0.0000],\n",
       "        [     0.5257,     -0.8507,     -0.0000],\n",
       "        [    -0.0000,     -0.5257,      0.8507],\n",
       "        [     0.0000,      0.5257,      0.8507],\n",
       "        [     0.0000,     -0.5257,     -0.8507],\n",
       "        [    -0.0000,      0.5257,     -0.8507],\n",
       "        [     0.8507,     -0.0000,     -0.5257],\n",
       "        [     0.8507,      0.0000,      0.5257],\n",
       "        [    -0.8507,      0.0000,     -0.5257],\n",
       "        [    -0.8507,     -0.0000,      0.5257]], device='cuda:0')"
      ]
     },
     "execution_count": 21,
     "metadata": {},
     "output_type": "execute_result"
    }
   ],
   "source": [
    "ico_vertex_normals"
   ]
  },
  {
   "cell_type": "code",
   "execution_count": null,
   "metadata": {},
   "outputs": [],
   "source": []
  }
 ],
 "metadata": {
  "kernelspec": {
   "display_name": "pytorch3d_0.3",
   "language": "python",
   "name": "pytorch3d_0.3"
  },
  "language_info": {
   "codemirror_mode": {
    "name": "ipython",
    "version": 3
   },
   "file_extension": ".py",
   "mimetype": "text/x-python",
   "name": "python",
   "nbconvert_exporter": "python",
   "pygments_lexer": "ipython3",
   "version": "3.8.5"
  }
 },
 "nbformat": 4,
 "nbformat_minor": 4
}
