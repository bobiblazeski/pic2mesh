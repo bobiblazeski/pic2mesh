{
 "cells": [
  {
   "cell_type": "code",
   "execution_count": 13,
   "metadata": {},
   "outputs": [],
   "source": [
    "import math\n",
    "import os\n",
    "import torch\n",
    "import torch.nn.functional as F\n",
    "import matplotlib.pyplot as plt\n",
    "from skimage.io import imread\n",
    "\n",
    "# Util function for loading point clouds|\n",
    "import numpy as np\n",
    "\n",
    "# Data structures and functions for rendering\n",
    "from pytorch3d.structures import Pointclouds\n",
    "from pytorch3d.vis.plotly_vis import AxisArgs, plot_batch_individually, plot_scene\n",
    "from pytorch3d.renderer import (\n",
    "    look_at_view_transform,\n",
    "    FoVOrthographicCameras, \n",
    "    PointsRasterizationSettings,\n",
    "    PointsRenderer,\n",
    "    PulsarPointsRenderer,\n",
    "    PointsRasterizer,\n",
    "    AlphaCompositor,\n",
    "    NormWeightedCompositor\n",
    ")\n",
    "\n",
    "from pytorch3d.renderer.points.pulsar import Renderer"
   ]
  },
  {
   "cell_type": "code",
   "execution_count": 4,
   "metadata": {},
   "outputs": [
    {
     "data": {
      "text/plain": [
       "torch.Size([1048576, 3])"
      ]
     },
     "execution_count": 4,
     "metadata": {},
     "output_type": "execute_result"
    }
   ],
   "source": [
    "device = torch.device(\"cuda:0\")\n",
    "\n",
    "# Set paths\n",
    "DATA_DIR = \"./data\"\n",
    "obj_filename = os.path.join(DATA_DIR, \"flame_pcd.npz\")\n",
    "\n",
    "# Load point cloud\n",
    "pointcloud = np.load(obj_filename)['samples'].reshape(-1, 3)\n",
    "verts = torch.Tensor(pointcloud).to(device)\n",
    "verts.shape"
   ]
  },
  {
   "cell_type": "code",
   "execution_count": 5,
   "metadata": {},
   "outputs": [],
   "source": [
    "point_cloud = Pointclouds(points=[verts])"
   ]
  },
  {
   "cell_type": "code",
   "execution_count": 23,
   "metadata": {},
   "outputs": [
    {
     "data": {
      "text/plain": [
       "<matplotlib.image.AxesImage at 0x7f986048d550>"
      ]
     },
     "execution_count": 23,
     "metadata": {},
     "output_type": "execute_result"
    },
    {
     "data": {
      "image/png": "[encoded data removed]",
      "text/plain": [
       "<Figure size 432x288 with 1 Axes>"
      ]
     },
     "metadata": {
      "needs_background": "light"
     },
     "output_type": "display_data"
    }
   ],
   "source": [
    "n_points = 10\n",
    "width = 1_000\n",
    "height = 1_000\n",
    "# The PyTorch3D system is right handed; in pulsar you can choose the handedness.\n",
    "# For easy reproducibility we use a right handed coordinate system here.\n",
    "renderer = Renderer(width, height, n_points, right_handed_system=True).to(device)\n",
    "# Generate sample data.\n",
    "vert_pos = torch.rand(n_points, 3, dtype=torch.float32, device=device) * 10.0\n",
    "vert_pos[:, 2] += 25.0\n",
    "vert_pos[:, :2] -= 5.0\n",
    "vert_col = torch.rand(n_points, 3, dtype=torch.float32, device=device)\n",
    "vert_col = torch.zeros(n_points, 3, dtype=torch.float32, device=device)\n",
    "vert_rad = torch.ones(n_points, dtype=torch.float32, device=device)\n",
    "cam_params = torch.tensor(\n",
    "    [\n",
    "        0.0,\n",
    "        0.0,\n",
    "        0.0,  # Position 0, 0, 0 (x, y, z).\n",
    "        0.0,\n",
    "        math.pi,  # Because of the right handed system, the camera must look 'back'.\n",
    "        0.0,  # Rotation 0, 0, 0 (in axis-angle format).\n",
    "        5.0,  # Focal length in world size.\n",
    "        2.0,  # Sensor size in world size.\n",
    "    ],\n",
    "    dtype=torch.float32,\n",
    "    device=device,\n",
    ")\n",
    "# Render.\n",
    "image = renderer(\n",
    "    vert_pos,\n",
    "    vert_col,\n",
    "    vert_rad,\n",
    "    cam_params,\n",
    "    1.0e-1,  # Renderer blending parameter gamma, in [1., 1e-5].\n",
    "    45.0,  # Maximum depth.\n",
    ")\n",
    "img = (image.cpu().detach() * 255.0).to(torch.uint8).numpy()\n",
    "plt.imshow(img)"
   ]
  },
  {
   "cell_type": "code",
   "execution_count": 24,
   "metadata": {},
   "outputs": [
    {
     "data": {
      "text/plain": [
       "<matplotlib.image.AxesImage at 0x7f98600aa490>"
      ]
     },
     "execution_count": 24,
     "metadata": {},
     "output_type": "execute_result"
    },
    {
     "data": {
      "image/png": "[encoded data removed]",
      "text/plain": [
       "<Figure size 432x288 with 1 Axes>"
      ]
     },
     "metadata": {
      "needs_background": "light"
     },
     "output_type": "display_data"
    }
   ],
   "source": [
    "n_points = verts.shape[0]\n",
    "width = 1_000\n",
    "height = 1_000\n",
    "# The PyTorch3D system is right handed; in pulsar you can choose the handedness.\n",
    "# For easy reproducibility we use a right handed coordinate system here.\n",
    "renderer = Renderer(width, height, n_points, right_handed_system=True).to(device)\n",
    "# Generate sample data.\n",
    "vert_pos = verts\n",
    "# vert_pos[:, 2] += 25.0\n",
    "# vert_pos[:, :2] -= 5.0\n",
    "vert_col = torch.rand(n_points, 3, dtype=torch.float32, device=device)\n",
    "vert_col = torch.zeros(n_points, 3, dtype=torch.float32, device=device)\n",
    "vert_rad = torch.ones(n_points, dtype=torch.float32, device=device)\n",
    "cam_params = torch.tensor(\n",
    "    [\n",
    "        0.0,\n",
    "        0.0,\n",
    "        0.0,  # Position 0, 0, 0 (x, y, z).\n",
    "        0.0,\n",
    "        math.pi,  # Because of the right handed system, the camera must look 'back'.\n",
    "        0.0,  # Rotation 0, 0, 0 (in axis-angle format).\n",
    "        5.0,  # Focal length in world size.\n",
    "        2.0,  # Sensor size in world size.\n",
    "    ],\n",
    "    dtype=torch.float32,\n",
    "    device=device,\n",
    ")\n",
    "# Render.\n",
    "image = renderer(\n",
    "    vert_pos,\n",
    "    vert_col,\n",
    "    vert_rad,\n",
    "    cam_params,\n",
    "    1.0e-1,  # Renderer blending parameter gamma, in [1., 1e-5].\n",
    "    45.0,  # Maximum depth.\n",
    ")\n",
    "img = (image.cpu().detach() * 255.0).to(torch.uint8).numpy()\n",
    "plt.imshow(img)"
   ]
  },
  {
   "cell_type": "code",
   "execution_count": 25,
   "metadata": {},
   "outputs": [
    {
     "ename": "TypeError",
     "evalue": "'NoneType' object is not iterable",
     "output_type": "error",
     "traceback": [
      "\u001b[0;31m---------------------------------------------------------------------------\u001b[0m",
      "\u001b[0;31mTypeError\u001b[0m                                 Traceback (most recent call last)",
      "\u001b[0;32m<ipython-input-25-148388bd28fe>\u001b[0m in \u001b[0;36m<module>\u001b[0;34m\u001b[0m\n\u001b[1;32m      4\u001b[0m ).to(device)\n\u001b[1;32m      5\u001b[0m \u001b[0;34m\u001b[0m\u001b[0m\n\u001b[0;32m----> 6\u001b[0;31m images = renderer(point_cloud, gamma=(1e-4,),\n\u001b[0m\u001b[1;32m      7\u001b[0m                   bg_col=torch.tensor([0.0, 1.0, 0.0, 1.0], dtype=torch.float32, device=device))\n\u001b[1;32m      8\u001b[0m \u001b[0mplt\u001b[0m\u001b[0;34m.\u001b[0m\u001b[0mfigure\u001b[0m\u001b[0;34m(\u001b[0m\u001b[0mfigsize\u001b[0m\u001b[0;34m=\u001b[0m\u001b[0;34m(\u001b[0m\u001b[0;36m10\u001b[0m\u001b[0;34m,\u001b[0m \u001b[0;36m10\u001b[0m\u001b[0;34m)\u001b[0m\u001b[0;34m)\u001b[0m\u001b[0;34m\u001b[0m\u001b[0;34m\u001b[0m\u001b[0m\n",
      "\u001b[0;32m~/.local/lib/python3.8/site-packages/torch/nn/modules/module.py\u001b[0m in \u001b[0;36m_call_impl\u001b[0;34m(self, *input, **kwargs)\u001b[0m\n\u001b[1;32m    725\u001b[0m             \u001b[0mresult\u001b[0m \u001b[0;34m=\u001b[0m \u001b[0mself\u001b[0m\u001b[0;34m.\u001b[0m\u001b[0m_slow_forward\u001b[0m\u001b[0;34m(\u001b[0m\u001b[0;34m*\u001b[0m\u001b[0minput\u001b[0m\u001b[0;34m,\u001b[0m \u001b[0;34m**\u001b[0m\u001b[0mkwargs\u001b[0m\u001b[0;34m)\u001b[0m\u001b[0;34m\u001b[0m\u001b[0;34m\u001b[0m\u001b[0m\n\u001b[1;32m    726\u001b[0m         \u001b[0;32melse\u001b[0m\u001b[0;34m:\u001b[0m\u001b[0;34m\u001b[0m\u001b[0;34m\u001b[0m\u001b[0m\n\u001b[0;32m--> 727\u001b[0;31m             \u001b[0mresult\u001b[0m \u001b[0;34m=\u001b[0m \u001b[0mself\u001b[0m\u001b[0;34m.\u001b[0m\u001b[0mforward\u001b[0m\u001b[0;34m(\u001b[0m\u001b[0;34m*\u001b[0m\u001b[0minput\u001b[0m\u001b[0;34m,\u001b[0m \u001b[0;34m**\u001b[0m\u001b[0mkwargs\u001b[0m\u001b[0;34m)\u001b[0m\u001b[0;34m\u001b[0m\u001b[0;34m\u001b[0m\u001b[0m\n\u001b[0m\u001b[1;32m    728\u001b[0m         for hook in itertools.chain(\n\u001b[1;32m    729\u001b[0m                 \u001b[0m_global_forward_hooks\u001b[0m\u001b[0;34m.\u001b[0m\u001b[0mvalues\u001b[0m\u001b[0;34m(\u001b[0m\u001b[0;34m)\u001b[0m\u001b[0;34m,\u001b[0m\u001b[0;34m\u001b[0m\u001b[0;34m\u001b[0m\u001b[0m\n",
      "\u001b[0;32m~/miniconda3/envs/pytorch3d/lib/python3.8/site-packages/pytorch3d/renderer/points/pulsar/unified.py\u001b[0m in \u001b[0;36mforward\u001b[0;34m(self, point_clouds, **kwargs)\u001b[0m\n\u001b[1;32m    476\u001b[0m         \u001b[0mimages\u001b[0m \u001b[0;34m=\u001b[0m \u001b[0;34m[\u001b[0m\u001b[0;34m]\u001b[0m\u001b[0;34m\u001b[0m\u001b[0;34m\u001b[0m\u001b[0m\n\u001b[1;32m    477\u001b[0m         for cloud_idx, (vert_pos, vert_col) in enumerate(\n\u001b[0;32m--> 478\u001b[0;31m             \u001b[0mzip\u001b[0m\u001b[0;34m(\u001b[0m\u001b[0mposition_list\u001b[0m\u001b[0;34m,\u001b[0m \u001b[0mfeatures_list\u001b[0m\u001b[0;34m)\u001b[0m\u001b[0;34m\u001b[0m\u001b[0;34m\u001b[0m\u001b[0m\n\u001b[0m\u001b[1;32m    479\u001b[0m         ):\n\u001b[1;32m    480\u001b[0m             \u001b[0;31m# Get extrinsics.\u001b[0m\u001b[0;34m\u001b[0m\u001b[0;34m\u001b[0m\u001b[0;34m\u001b[0m\u001b[0m\n",
      "\u001b[0;31mTypeError\u001b[0m: 'NoneType' object is not iterable"
     ]
    }
   ],
   "source": [
    "renderer = PulsarPointsRenderer(\n",
    "    rasterizer=PointsRasterizer(cameras=cameras, raster_settings=raster_settings),\n",
    "    n_channels=4\n",
    ").to(device)\n",
    "\n",
    "images = renderer(point_cloud, gamma=(1e-4,),\n",
    "                  bg_col=torch.tensor([0.0, 1.0, 0.0, 1.0], dtype=torch.float32, device=device))\n",
    "plt.figure(figsize=(10, 10))\n",
    "plt.imshow(images[0, ..., :3].cpu().numpy())\n",
    "plt.grid(\"off\")\n",
    "plt.axis(\"off\");"
   ]
  },
  {
   "cell_type": "code",
   "execution_count": null,
   "metadata": {},
   "outputs": [],
   "source": []
  }
 ],
 "metadata": {
  "kernelspec": {
   "display_name": "pytorch3d_0.3",
   "language": "python",
   "name": "pytorch3d_0.3"
  },
  "language_info": {
   "codemirror_mode": {
    "name": "ipython",
    "version": 3
   },
   "file_extension": ".py",
   "mimetype": "text/x-python",
   "name": "python",
   "nbconvert_exporter": "python",
   "pygments_lexer": "ipython3",
   "version": "3.8.5"
  }
 },
 "nbformat": 4,
 "nbformat_minor": 4
}
