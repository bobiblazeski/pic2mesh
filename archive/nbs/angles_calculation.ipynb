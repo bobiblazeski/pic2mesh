{
 "cells": [
  {
   "cell_type": "code",
   "execution_count": 2,
   "metadata": {},
   "outputs": [
    {
     "data": {
      "text/plain": [
       "2.1034893802906764"
      ]
     },
     "execution_count": 2,
     "metadata": {},
     "output_type": "execute_result"
    }
   ],
   "source": [
    "import numpy as np\n",
    "\n",
    "a = np.array([32.49, -39.96,-3.86])\n",
    "b = np.array([31.39, -39.28, -4.66])\n",
    "c = np.array([31.14, -38.09,-4.49])\n",
    "\n",
    "ba = a - b\n",
    "bc = c - b\n",
    "\n",
    "cosine_angle = np.dot(ba, bc) / (np.linalg.norm(ba) * np.linalg.norm(bc))\n",
    "np.arccos(cosine_angle)"
   ]
  },
  {
   "cell_type": "code",
   "execution_count": 3,
   "metadata": {},
   "outputs": [
    {
     "data": {
      "text/plain": [
       "tensor(2.1035)"
      ]
     },
     "execution_count": 3,
     "metadata": {},
     "output_type": "execute_result"
    }
   ],
   "source": [
    "import torch\n",
    "\n",
    "a = torch.tensor([32.49, -39.96,-3.86])\n",
    "b = torch.tensor([31.39, -39.28, -4.66])\n",
    "c = torch.tensor([31.14, -38.09,-4.49])\n",
    "\n",
    "ba = a - b\n",
    "bc = c - b\n",
    "\n",
    "cosine_angle = torch.dot(ba, bc) / (torch.norm(ba) * torch.norm(bc))\n",
    "torch.arccos(cosine_angle)"
   ]
  },
  {
   "cell_type": "code",
   "execution_count": 4,
   "metadata": {},
   "outputs": [
    {
     "data": {
      "text/plain": [
       "tensor(2.1035)"
      ]
     },
     "execution_count": 4,
     "metadata": {},
     "output_type": "execute_result"
    }
   ],
   "source": [
    "torch.arccos(torch.dot(ba / torch.norm(ba), bc / torch.norm(bc)))"
   ]
  },
  {
   "cell_type": "code",
   "execution_count": 15,
   "metadata": {},
   "outputs": [
    {
     "name": "stdout",
     "output_type": "stream",
     "text": [
      "torch.Size([1, 8, 3]) torch.Size([1, 8, 3]) torch.Size([1, 8, 3])\n",
      "torch.Size([1, 8, 3]) torch.Size([1, 8, 3])\n",
      "torch.Size([1, 8, 3]) torch.Size([1, 8, 3])\n"
     ]
    },
    {
     "data": {
      "text/plain": [
       "torch.Size([1, 8])"
      ]
     },
     "execution_count": 15,
     "metadata": {},
     "output_type": "execute_result"
    }
   ],
   "source": [
    "a =  torch.rand(1, 8, 3)\n",
    "b =  torch.rand(1, 8, 3)\n",
    "c =  torch.rand(1, 8, 3)\n",
    "print(a.shape, b.shape, c.shape)\n",
    "\n",
    "ba = a - b\n",
    "bc = c - b\n",
    "print(ba.shape, bc.shape)\n",
    "baNrm = ba / torch.norm(ba, dim=-1).unsqueeze(dim=-1)\n",
    "bcNrm = bc / torch.norm(bc, dim=-1).unsqueeze(dim=-1)\n",
    "print(baNrm.shape, bcNrm.shape)\n",
    "(ba * bc).shape\n",
    "\n",
    "ba_bc_dot = (ba * bc).sum(dim=-1)\n",
    "ba_bc_dot.shape"
   ]
  },
  {
   "cell_type": "code",
   "execution_count": 16,
   "metadata": {},
   "outputs": [
    {
     "data": {
      "text/plain": [
       "tensor([[1.5485, 1.3805, 1.2912, 1.3649, 1.4495, 1.5677, 1.4796, 1.2192]])"
      ]
     },
     "execution_count": 16,
     "metadata": {},
     "output_type": "execute_result"
    }
   ],
   "source": [
    "torch.arccos(ba_bc_dot)"
   ]
  },
  {
   "cell_type": "code",
   "execution_count": null,
   "metadata": {},
   "outputs": [],
   "source": []
  }
 ],
 "metadata": {
  "kernelspec": {
   "display_name": "pytorch3d_0.3",
   "language": "python",
   "name": "pytorch3d_0.3"
  },
  "language_info": {
   "codemirror_mode": {
    "name": "ipython",
    "version": 3
   },
   "file_extension": ".py",
   "mimetype": "text/x-python",
   "name": "python",
   "nbconvert_exporter": "python",
   "pygments_lexer": "ipython3",
   "version": "3.8.5"
  }
 },
 "nbformat": 4,
 "nbformat_minor": 4
}
