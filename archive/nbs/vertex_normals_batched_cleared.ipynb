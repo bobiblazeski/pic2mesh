{
 "cells": [
  {
   "cell_type": "code",
   "execution_count": 1,
   "metadata": {},
   "outputs": [
    {
     "data": {
      "text/html": [
       "        <script type=\"text/javascript\">\n",
       "        window.PlotlyConfig = {MathJaxConfig: 'local'};\n",
       "        if (window.MathJax) {MathJax.Hub.Config({SVG: {font: \"STIX-Web\"}});}\n",
       "        if (typeof require !== 'undefined') {\n",
       "        require.undef(\"plotly\");\n",
       "        requirejs.config({\n",
       "            paths: {\n",
       "                'plotly': ['https://cdn.plot.ly/plotly-latest.min']\n",
       "            }\n",
       "        });\n",
       "        require(['plotly'], function(Plotly) {\n",
       "            window._Plotly = Plotly;\n",
       "        });\n",
       "        }\n",
       "        </script>\n",
       "        "
      ]
     },
     "metadata": {},
     "output_type": "display_data"
    },
    {
     "data": {
      "text/html": [
       "        <script type=\"text/javascript\">\n",
       "        window.PlotlyConfig = {MathJaxConfig: 'local'};\n",
       "        if (window.MathJax) {MathJax.Hub.Config({SVG: {font: \"STIX-Web\"}});}\n",
       "        if (typeof require !== 'undefined') {\n",
       "        require.undef(\"plotly\");\n",
       "        requirejs.config({\n",
       "            paths: {\n",
       "                'plotly': ['https://cdn.plot.ly/plotly-latest.min']\n",
       "            }\n",
       "        });\n",
       "        require(['plotly'], function(Plotly) {\n",
       "            window._Plotly = Plotly;\n",
       "        });\n",
       "        }\n",
       "        </script>\n",
       "        "
      ]
     },
     "metadata": {},
     "output_type": "display_data"
    },
    {
     "data": {
      "text/html": [
       "        <script type=\"text/javascript\">\n",
       "        window.PlotlyConfig = {MathJaxConfig: 'local'};\n",
       "        if (window.MathJax) {MathJax.Hub.Config({SVG: {font: \"STIX-Web\"}});}\n",
       "        if (typeof require !== 'undefined') {\n",
       "        require.undef(\"plotly\");\n",
       "        requirejs.config({\n",
       "            paths: {\n",
       "                'plotly': ['https://cdn.plot.ly/plotly-latest.min']\n",
       "            }\n",
       "        });\n",
       "        require(['plotly'], function(Plotly) {\n",
       "            window._Plotly = Plotly;\n",
       "        });\n",
       "        }\n",
       "        </script>\n",
       "        "
      ]
     },
     "metadata": {},
     "output_type": "display_data"
    },
    {
     "data": {
      "text/html": [
       "        <script type=\"text/javascript\">\n",
       "        window.PlotlyConfig = {MathJaxConfig: 'local'};\n",
       "        if (window.MathJax) {MathJax.Hub.Config({SVG: {font: \"STIX-Web\"}});}\n",
       "        if (typeof require !== 'undefined') {\n",
       "        require.undef(\"plotly\");\n",
       "        requirejs.config({\n",
       "            paths: {\n",
       "                'plotly': ['https://cdn.plot.ly/plotly-latest.min']\n",
       "            }\n",
       "        });\n",
       "        require(['plotly'], function(Plotly) {\n",
       "            window._Plotly = Plotly;\n",
       "        });\n",
       "        }\n",
       "        </script>\n",
       "        "
      ]
     },
     "metadata": {},
     "output_type": "display_data"
    }
   ],
   "source": [
    "import numpy as np\n",
    "import torch\n",
    "import torch.nn.functional as  F\n",
    "import trimesh\n",
    "import pytorch3d\n",
    "from pytorch3d.utils import ico_sphere\n",
    "\n",
    "from src.config import get_parser\n",
    "from src.util import make_faces\n",
    "\n",
    "\n",
    "torch.set_printoptions(sci_mode=False, precision=4)"
   ]
  },
  {
   "cell_type": "code",
   "execution_count": 2,
   "metadata": {},
   "outputs": [],
   "source": [
    "def vertex_tris(faces):\n",
    "    res = []\n",
    "    for vid in range(faces.max()+1):\n",
    "        vertex_faces = []\n",
    "        for fid, face in enumerate(faces):\n",
    "            if vid in face:\n",
    "                vertex_faces.append(fid)\n",
    "        res.append(vertex_faces)\n",
    "    return res\n",
    "\n",
    "def vertex_tri_maps(faces):\n",
    "    vts = vertex_tris(faces)\n",
    "    r, c = len(vts), max([len(x) for  x in vts])\n",
    "    vert_tri_indices = torch.zeros(r, c, dtype=torch.long)\n",
    "    vert_tri_weights = torch.zeros(r, c)    \n",
    "    for r, tris in enumerate(vts):\n",
    "        weight = 1. / len(tris)\n",
    "        for c, tri_id in enumerate(tris):\n",
    "            vert_tri_indices[r, c] = tri_id\n",
    "            vert_tri_weights[r, c] = weight\n",
    "    return vert_tri_indices, vert_tri_weights.unsqueeze(dim=-1)[None]\n",
    "\n",
    "def get_face_normals(vrt, faces):    \n",
    "    v1 = vrt.index_select(1,faces[:, 1]) - vrt.index_select(1, faces[:, 0])\n",
    "    v2 = vrt.index_select(1,faces[:, 2]) - vrt.index_select(1, faces[:, 0])\n",
    "    face_normals = F.normalize(v1.cross(v2), p=2, dim=-1)  # [F, 3]\n",
    "    return face_normals\n",
    "\n",
    "def get_vertex_normals(face_normals, vert_tri_indices, vert_tri_weights):\n",
    "    bs = face_normals.size(0)\n",
    "    r, c = vert_tri_indices.shape\n",
    "    fn_group = face_normals.index_select(1, \n",
    "        vert_tri_indices.flatten()).reshape(bs, r, c, 3)\n",
    "    weighted_fn_group = fn_group * vert_tri_weights    \n",
    "    vertex_normals = weighted_fn_group.sum(dim=-2)\n",
    "    return F.normalize(vertex_normals, p=2, dim=-1)"
   ]
  },
  {
   "cell_type": "code",
   "execution_count": 3,
   "metadata": {},
   "outputs": [
    {
     "data": {
      "text/plain": [
       "(torch.Size([12, 3]),\n",
       " torch.Size([12, 3]),\n",
       " torch.Size([20, 3]),\n",
       " torch.Size([20, 3]))"
      ]
     },
     "execution_count": 3,
     "metadata": {},
     "output_type": "execute_result"
    }
   ],
   "source": [
    "device = torch.device(\"cuda:0\")\n",
    "\n",
    "src_mesh = ico_sphere(0, device)\n",
    "ico_vertices = src_mesh.verts_list()[0]\n",
    "ico_vertex_normals = src_mesh.verts_normals_list()[0]\n",
    "ico_faces = src_mesh.faces_list()[0]\n",
    "ico_face_normals = src_mesh.faces_normals_list()[0]\n",
    "ico_vertices.shape, ico_vertex_normals.shape, ico_faces.shape, ico_face_normals.shape"
   ]
  },
  {
   "cell_type": "code",
   "execution_count": 5,
   "metadata": {},
   "outputs": [
    {
     "data": {
      "text/plain": [
       "True"
      ]
     },
     "execution_count": 5,
     "metadata": {},
     "output_type": "execute_result"
    }
   ],
   "source": [
    "face_normals =  get_face_normals(ico_vertices[None], ico_faces)\n",
    "torch.allclose(face_normals[0], ico_face_normals)"
   ]
  },
  {
   "cell_type": "code",
   "execution_count": 6,
   "metadata": {},
   "outputs": [
    {
     "data": {
      "text/plain": [
       "(torch.Size([12, 5]), torch.Size([1, 12, 5, 1]))"
      ]
     },
     "execution_count": 6,
     "metadata": {},
     "output_type": "execute_result"
    }
   ],
   "source": [
    "vert_tri_indices, vert_tri_weights = vertex_tri_maps(ico_faces)\n",
    "vert_tri_indices = vert_tri_indices.to(device)\n",
    "vert_tri_weights = vert_tri_weights.to(device)\n",
    "vert_tri_indices.shape, vert_tri_weights.shape"
   ]
  },
  {
   "cell_type": "code",
   "execution_count": 7,
   "metadata": {},
   "outputs": [
    {
     "data": {
      "text/plain": [
       "torch.Size([1, 12, 3])"
      ]
     },
     "execution_count": 7,
     "metadata": {},
     "output_type": "execute_result"
    }
   ],
   "source": [
    "vert_normals = get_vertex_normals(face_normals, vert_tri_indices, vert_tri_weights)\n",
    "vert_normals.shape"
   ]
  },
  {
   "cell_type": "code",
   "execution_count": 13,
   "metadata": {},
   "outputs": [
    {
     "data": {
      "text/plain": [
       "True"
      ]
     },
     "execution_count": 13,
     "metadata": {},
     "output_type": "execute_result"
    }
   ],
   "source": [
    "torch.allclose(vert_normals[0], ico_vertex_normals, atol=1e-05)"
   ]
  },
  {
   "cell_type": "code",
   "execution_count": 11,
   "metadata": {},
   "outputs": [
    {
     "data": {
      "text/plain": [
       "'+0.000006'"
      ]
     },
     "execution_count": 11,
     "metadata": {},
     "output_type": "execute_result"
    }
   ],
   "source": [
    "md = torch.max(vert_normals[0] - ico_vertex_normals).item()\n",
    "\"{:+.6f}\".format(md)"
   ]
  },
  {
   "cell_type": "code",
   "execution_count": null,
   "metadata": {},
   "outputs": [],
   "source": []
  }
 ],
 "metadata": {
  "kernelspec": {
   "display_name": "pytorch3d_0.3",
   "language": "python",
   "name": "pytorch3d_0.3"
  },
  "language_info": {
   "codemirror_mode": {
    "name": "ipython",
    "version": 3
   },
   "file_extension": ".py",
   "mimetype": "text/x-python",
   "name": "python",
   "nbconvert_exporter": "python",
   "pygments_lexer": "ipython3",
   "version": "3.8.5"
  }
 },
 "nbformat": 4,
 "nbformat_minor": 4
}
