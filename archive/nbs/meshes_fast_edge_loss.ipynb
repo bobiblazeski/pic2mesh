{
 "cells": [
  {
   "cell_type": "code",
   "execution_count": 1,
   "metadata": {},
   "outputs": [],
   "source": [
    "import os\n",
    "import numpy as np\n",
    "import torch\n",
    "import pytorch3d\n",
    "from pytorch3d.io import load_obj, save_obj\n",
    "from pytorch3d.structures import Meshes\n",
    "from pytorch3d.utils import ico_sphere"
   ]
  },
  {
   "cell_type": "code",
   "execution_count": 6,
   "metadata": {},
   "outputs": [
    {
     "name": "stdout",
     "output_type": "stream",
     "text": [
      "torch.Size([2562, 3]) torch.Size([5120, 3])\n",
      "torch.Size([7, 2562, 3]) torch.Size([7, 5120, 3])\n"
     ]
    },
    {
     "data": {
      "text/plain": [
       "<pytorch3d.structures.meshes.Meshes at 0x7fb74e9522b0>"
      ]
     },
     "execution_count": 6,
     "metadata": {},
     "output_type": "execute_result"
    }
   ],
   "source": [
    "device = torch.device(\"cuda:0\")\n",
    "trg_obj = os.path.join('./data/dolphin.obj')\n",
    "verts, faces, aux = load_obj(trg_obj)\n",
    "\n",
    "faces_idx = faces.verts_idx.to(device)\n",
    "verts = verts.to(device)\n",
    "print(verts.shape, faces_idx.shape)\n",
    "\n",
    "center = verts.mean(0)\n",
    "verts = verts - center\n",
    "scale = max(verts.abs().max(0)[0])\n",
    "verts = verts / scale\n",
    "\n",
    "bs = 7\n",
    "verts = verts[None].expand(bs, -1, -1)\n",
    "faces_idx = faces_idx[None].expand(bs, -1, -1)\n",
    "\n",
    "print(verts.shape, faces_idx.shape)\n",
    "# We construct a Meshes structure for the target mesh\n",
    "trg_mesh = Meshes(verts=verts, faces=faces_idx)\n",
    "trg_mesh"
   ]
  },
  {
   "cell_type": "code",
   "execution_count": 11,
   "metadata": {},
   "outputs": [
    {
     "data": {
      "text/plain": [
       "(torch.Size([1, 3, 640, 640]), torch.Size([1, 3, 640, 640]))"
      ]
     },
     "execution_count": 11,
     "metadata": {},
     "output_type": "execute_result"
    }
   ],
   "source": [
    "import torch.nn.functional as F\n",
    "from src.config import get_parser\n",
    "from src.util import make_faces\n",
    "\n",
    "config = get_parser().parse_args(args=[])\n",
    "\n",
    "blueprint = np.load(os.path.join(config.data_dir, config.blueprint)) \n",
    "points = torch.tensor(blueprint['points'])\n",
    "normals = torch.tensor(blueprint['normals'])\n",
    "points = F.interpolate(points, size=config.data_blueprint_size,\n",
    "                               mode='bicubic', align_corners=True)\n",
    "normals = F.interpolate(normals, size=config.data_blueprint_size, \n",
    "                        mode='bicubic', align_corners=True)   \n",
    "points.shape, normals.shape"
   ]
  },
  {
   "cell_type": "code",
   "execution_count": 14,
   "metadata": {},
   "outputs": [
    {
     "data": {
      "text/plain": [
       "torch.Size([816642, 3])"
      ]
     },
     "execution_count": 14,
     "metadata": {},
     "output_type": "execute_result"
    }
   ],
   "source": [
    "faces = torch.tensor(make_faces(config.data_blueprint_size, config.data_blueprint_size))\n",
    "faces.shape"
   ]
  },
  {
   "cell_type": "code",
   "execution_count": 15,
   "metadata": {},
   "outputs": [
    {
     "data": {
      "text/plain": [
       "(torch.Size([5, 409600, 3]), torch.Size([5, 816642, 3]))"
      ]
     },
     "execution_count": 15,
     "metadata": {},
     "output_type": "execute_result"
    }
   ],
   "source": [
    "bs = 5\n",
    "vertices = points.reshape(1, 3, -1).permute(0, 2, 1).expand(bs, -1, -1)\n",
    "faces = faces[None].expand(bs, -1, -1)\n",
    "vertices.shape, faces.shape"
   ]
  },
  {
   "cell_type": "code",
   "execution_count": 16,
   "metadata": {},
   "outputs": [
    {
     "data": {
      "text/plain": [
       "<pytorch3d.structures.meshes.Meshes at 0x7fb7250375b0>"
      ]
     },
     "execution_count": 16,
     "metadata": {},
     "output_type": "execute_result"
    }
   ],
   "source": [
    "trg_mesh = Meshes(verts=vertices, faces=faces)\n",
    "trg_mesh"
   ]
  },
  {
   "cell_type": "code",
   "execution_count": 17,
   "metadata": {},
   "outputs": [
    {
     "data": {
      "text/plain": [
       "tensor(8.8543e-05)"
      ]
     },
     "execution_count": 17,
     "metadata": {},
     "output_type": "execute_result"
    }
   ],
   "source": [
    "mesh_edge_loss(trg_mesh)"
   ]
  },
  {
   "cell_type": "code",
   "execution_count": 19,
   "metadata": {},
   "outputs": [
    {
     "data": {
      "text/plain": [
       "tensor(8.8474e-05)"
      ]
     },
     "execution_count": 19,
     "metadata": {},
     "output_type": "execute_result"
    }
   ],
   "source": [
    "import torch\n",
    "\n",
    "from pytorch3d.structures import Meshes\n",
    "from src.util import make_faces\n",
    "\n",
    "class EdgeLoss(torch.nn.Module):\n",
    "    def __init__(self, config):\n",
    "        super(EdgeLoss, self).__init__()\n",
    "        self.patch_size = config.data_patch_size\n",
    "        faces = torch.tensor(make_faces(self.patch_size, self.patch_size))\n",
    "        vertices = torch.rand(self.patch_size ** 2, 3)\n",
    "        meshes = Meshes(verts=[vertices], faces=[faces])\n",
    "        self.no_edges = max(meshes.edges_packed().shape)\n",
    "        edges_packed = meshes.edges_packed()       \n",
    "        self.register_buffer('v0',  edges_packed[:, 0])\n",
    "        self.register_buffer('v1',  edges_packed[:, 1])\n",
    "\n",
    "    def forward(self, vertices, target_length=0):\n",
    "        bs = vertices.size(0)\n",
    "        no_edges = self.no_edges * bs        \n",
    "        v0 = vertices.index_select(1, self.v0)\n",
    "        v1 = vertices.index_select(1, self.v1)\n",
    "        loss = ((v0 - v1).norm(dim=1, p=2) - target_length) ** 2.0\n",
    "        return loss.sum() / no_edges\n",
    "\n",
    "config.data_patch_size = config.data_blueprint_size\n",
    "edgeLoss = EdgeLoss(config)\n",
    "edgeLoss(vertices)"
   ]
  },
  {
   "cell_type": "code",
   "execution_count": 20,
   "metadata": {},
   "outputs": [
    {
     "data": {
      "text/plain": [
       "tensor(8.8474e-05)"
      ]
     },
     "execution_count": 20,
     "metadata": {},
     "output_type": "execute_result"
    }
   ],
   "source": [
    "edgeLoss(vertices)"
   ]
  },
  {
   "cell_type": "code",
   "execution_count": 7,
   "metadata": {},
   "outputs": [
    {
     "data": {
      "text/plain": [
       "tensor(0.0020, device='cuda:0')"
      ]
     },
     "execution_count": 7,
     "metadata": {},
     "output_type": "execute_result"
    }
   ],
   "source": [
    "def mesh_edge_loss(meshes, target_length: float = 0.0):\n",
    "    \"\"\"\n",
    "    Computes mesh edge length regularization loss averaged across all meshes\n",
    "    in a batch. Each mesh contributes equally to the final loss, regardless of\n",
    "    the number of edges per mesh in the batch by weighting each mesh with the\n",
    "    inverse number of edges. For example, if mesh 3 (out of N) has only E=4\n",
    "    edges, then the loss for each edge in mesh 3 should be multiplied by 1/E to\n",
    "    contribute to the final loss.\n",
    "\n",
    "    Args:\n",
    "        meshes: Meshes object with a batch of meshes.\n",
    "        target_length: Resting value for the edge length.\n",
    "\n",
    "    Returns:\n",
    "        loss: Average loss across the batch. Returns 0 if meshes contains\n",
    "        no meshes or all empty meshes.\n",
    "    \"\"\"\n",
    "    if meshes.isempty():\n",
    "        return torch.tensor(\n",
    "            [0.0], dtype=torch.float32, device=meshes.device, requires_grad=True\n",
    "        )\n",
    "\n",
    "    N = len(meshes)\n",
    "    edges_packed = meshes.edges_packed()  # (sum(E_n), 3)\n",
    "    verts_packed = meshes.verts_packed()  # (sum(V_n), 3)\n",
    "    edge_to_mesh_idx = meshes.edges_packed_to_mesh_idx()  # (sum(E_n), )\n",
    "    num_edges_per_mesh = meshes.num_edges_per_mesh()  # N\n",
    "\n",
    "    # Determine the weight for each edge based on the number of edges in the\n",
    "    # mesh it corresponds to.\n",
    "    # TODO (nikhilar) Find a faster way of computing the weights for each edge\n",
    "    # as this is currently a bottleneck for meshes with a large number of faces.\n",
    "    weights = num_edges_per_mesh.gather(0, edge_to_mesh_idx)\n",
    "    weights = 1.0 / weights.float()\n",
    "\n",
    "    verts_edges = verts_packed[edges_packed]\n",
    "    v0, v1 = verts_edges.unbind(1)\n",
    "    loss = ((v0 - v1).norm(dim=1, p=2) - target_length) ** 2.0\n",
    "    loss = loss * weights\n",
    "\n",
    "    return loss.sum() / N\n",
    "\n",
    "mesh_edge_loss(trg_mesh)"
   ]
  },
  {
   "cell_type": "code",
   "execution_count": null,
   "metadata": {},
   "outputs": [],
   "source": []
  },
  {
   "cell_type": "code",
   "execution_count": null,
   "metadata": {},
   "outputs": [],
   "source": []
  },
  {
   "cell_type": "code",
   "execution_count": 27,
   "metadata": {},
   "outputs": [
    {
     "data": {
      "text/plain": [
       "tensor([0.0001, 0.0001, 0.0001,  ..., 0.0001, 0.0001, 0.0001], device='cuda:0')"
      ]
     },
     "execution_count": 27,
     "metadata": {},
     "output_type": "execute_result"
    }
   ],
   "source": [
    "N = len(meshes)\n",
    "edges_packed = meshes.edges_packed()  # (sum(E_n), 3)\n",
    "verts_packed = meshes.verts_packed()  # (sum(V_n), 3)\n",
    "edge_to_mesh_idx = meshes.edges_packed_to_mesh_idx()  # (sum(E_n), )\n",
    "num_edges_per_mesh = meshes.num_edges_per_mesh()  # N\n",
    "\n",
    "# Determine the weight for each edge based on the number of edges in the\n",
    "# mesh it corresponds to.\n",
    "# TODO (nikhilar) Find a faster way of computing the weights for each edge\n",
    "# as this is currently a bottleneck for meshes with a large number of faces.\n",
    "weights = num_edges_per_mesh.gather(0, edge_to_mesh_idx)\n",
    "weights = 1.0 / weights.float()\n",
    "weights"
   ]
  },
  {
   "cell_type": "code",
   "execution_count": 28,
   "metadata": {},
   "outputs": [
    {
     "data": {
      "text/plain": [
       "tensor([7680, 7680, 7680,  ..., 7680, 7680, 7680], device='cuda:0',\n",
       "       dtype=torch.int32)"
      ]
     },
     "execution_count": 28,
     "metadata": {},
     "output_type": "execute_result"
    }
   ],
   "source": [
    "num_edges_per_mesh.gather(0, edge_to_mesh_idx)"
   ]
  },
  {
   "cell_type": "code",
   "execution_count": 15,
   "metadata": {},
   "outputs": [
    {
     "data": {
      "text/plain": [
       "tensor([0.0002, 0.0007, 0.0008,  ..., 0.0041, 0.0030, 0.0006], device='cuda:0')"
      ]
     },
     "execution_count": 15,
     "metadata": {},
     "output_type": "execute_result"
    }
   ],
   "source": [
    "v0, v1 = verts_edges.unbind(1)\n",
    "loss = ((v0 - v1).norm(dim=1, p=2) - 0) ** 2.0\n",
    "loss"
   ]
  },
  {
   "cell_type": "code",
   "execution_count": 16,
   "metadata": {},
   "outputs": [
    {
     "data": {
      "text/plain": [
       "tensor([0.0151, 0.0267, 0.0291,  ..., 0.0642, 0.0547, 0.0250], device='cuda:0')"
      ]
     },
     "execution_count": 16,
     "metadata": {},
     "output_type": "execute_result"
    }
   ],
   "source": [
    "(v0 - v1).norm(dim=1, p=2) "
   ]
  },
  {
   "cell_type": "code",
   "execution_count": 15,
   "metadata": {},
   "outputs": [
    {
     "data": {
      "text/plain": [
       "EdgeLoss()"
      ]
     },
     "execution_count": 15,
     "metadata": {},
     "output_type": "execute_result"
    }
   ],
   "source": []
  },
  {
   "cell_type": "code",
   "execution_count": 23,
   "metadata": {},
   "outputs": [
    {
     "data": {
      "text/plain": [
       "torch.Size([1, 195585, 2])"
      ]
     },
     "execution_count": 23,
     "metadata": {},
     "output_type": "execute_result"
    }
   ],
   "source": [
    "def mesh_edge_loss(meshes, target_length: float = 0.0):\n",
    "    \"\"\"\n",
    "    Computes mesh edge length regularization loss averaged across all meshes\n",
    "    in a batch. Each mesh contributes equally to the final loss, regardless of\n",
    "    the number of edges per mesh in the batch by weighting each mesh with the\n",
    "    inverse number of edges. For example, if mesh 3 (out of N) has only E=4\n",
    "    edges, then the loss for each edge in mesh 3 should be multiplied by 1/E to\n",
    "    contribute to the final loss.\n",
    "\n",
    "    Args:\n",
    "        meshes: Meshes object with a batch of meshes.\n",
    "        target_length: Resting value for the edge length.\n",
    "\n",
    "    Returns:\n",
    "        loss: Average loss across the batch. Returns 0 if meshes contains\n",
    "        no meshes or all empty meshes.\n",
    "    \"\"\"\n",
    "    if meshes.isempty():\n",
    "        return torch.tensor(\n",
    "            [0.0], dtype=torch.float32, device=meshes.device, requires_grad=True\n",
    "        )\n",
    "\n",
    "    N = len(meshes)\n",
    "    edges_packed = meshes.edges_packed()  # (sum(E_n), 3)\n",
    "    verts_packed = meshes.verts_packed()  # (sum(V_n), 3)\n",
    "    edge_to_mesh_idx = meshes.edges_packed_to_mesh_idx()  # (sum(E_n), )\n",
    "    num_edges_per_mesh = meshes.num_edges_per_mesh()  # N\n",
    "\n",
    "    # Determine the weight for each edge based on the number of edges in the\n",
    "    # mesh it corresponds to.\n",
    "    # TODO (nikhilar) Find a faster way of computing the weights for each edge\n",
    "    # as this is currently a bottleneck for meshes with a large number of faces.\n",
    "    weights = num_edges_per_mesh.gather(0, edge_to_mesh_idx)\n",
    "    weights = 1.0 / weights.float()\n",
    "    print(verts_packed.shape)\n",
    "    print(edges_packed.shape)\n",
    "    verts_edges = verts_packed[edges_packed]\n",
    "    v0, v1 = verts_edges.unbind(1)\n",
    "    loss = ((v0 - v1).norm(dim=1, p=2) - target_length) ** 2.0\n",
    "    loss = loss * weights\n",
    "\n",
    "    return loss.sum() / N\n",
    "\n",
    "trg_mesh = Meshes(verts=verts[None].expand(5, -1, -1), \n",
    "                  faces=faces_idx[None].expand(5, -1, -1))\n",
    "\n",
    "\n",
    "mesh_edge_loss(trg_mesh)"
   ]
  },
  {
   "cell_type": "code",
   "execution_count": 24,
   "metadata": {},
   "outputs": [
    {
     "data": {
      "text/plain": [
       "torch.Size([4, 195585, 2])"
      ]
     },
     "execution_count": 24,
     "metadata": {},
     "output_type": "execute_result"
    }
   ],
   "source": [
    "edgeLoss.edges.expand(4, -1, -1).shape"
   ]
  },
  {
   "cell_type": "code",
   "execution_count": 25,
   "metadata": {},
   "outputs": [
    {
     "data": {
      "text/plain": [
       "111"
      ]
     },
     "execution_count": 25,
     "metadata": {},
     "output_type": "execute_result"
    }
   ],
   "source": [
    "max(torch.rand(3, 111, 4).shape)"
   ]
  },
  {
   "cell_type": "code",
   "execution_count": 17,
   "metadata": {},
   "outputs": [],
   "source": [
    "vertices = torch.rand(5, patch_size **2, 3)"
   ]
  },
  {
   "cell_type": "code",
   "execution_count": 18,
   "metadata": {},
   "outputs": [
    {
     "data": {
      "text/plain": [
       "tensor(0.5013)"
      ]
     },
     "execution_count": 18,
     "metadata": {},
     "output_type": "execute_result"
    }
   ],
   "source": [
    "patch_size = config.data_patch_size\n",
    "edgeLoss(vertices)"
   ]
  },
  {
   "cell_type": "code",
   "execution_count": 10,
   "metadata": {},
   "outputs": [
    {
     "name": "stdout",
     "output_type": "stream",
     "text": [
      "torch.Size([12810, 3])\n",
      "torch.Size([38400, 2])\n"
     ]
    },
    {
     "data": {
      "text/plain": [
       "tensor(0.0020, device='cuda:0')"
      ]
     },
     "execution_count": 10,
     "metadata": {},
     "output_type": "execute_result"
    }
   ],
   "source": []
  },
  {
   "cell_type": "code",
   "execution_count": 9,
   "metadata": {},
   "outputs": [
    {
     "data": {
      "text/plain": [
       "torch.Size([5120, 3])"
      ]
     },
     "execution_count": 9,
     "metadata": {},
     "output_type": "execute_result"
    }
   ],
   "source": [
    "faces_idx.shape"
   ]
  },
  {
   "cell_type": "code",
   "execution_count": 13,
   "metadata": {},
   "outputs": [
    {
     "data": {
      "text/plain": [
       "torch.Size([38400, 2])"
      ]
     },
     "execution_count": 13,
     "metadata": {},
     "output_type": "execute_result"
    }
   ],
   "source": [
    "trg_mesh.edges_packed().shape"
   ]
  },
  {
   "cell_type": "code",
   "execution_count": 15,
   "metadata": {},
   "outputs": [
    {
     "name": "stdout",
     "output_type": "stream",
     "text": [
      "torch.Size([7686, 3])\n",
      "torch.Size([23040, 2])\n"
     ]
    },
    {
     "data": {
      "text/plain": [
       "tensor(0.0020, device='cuda:0')"
      ]
     },
     "execution_count": 15,
     "metadata": {},
     "output_type": "execute_result"
    }
   ],
   "source": [
    "trg_mesh = Meshes(verts=verts[None].expand(3, -1, -1), \n",
    "                  faces=faces_idx[None].expand(3, -1, -1))\n",
    "mesh_edge_loss(trg_mesh)"
   ]
  },
  {
   "cell_type": "code",
   "execution_count": 6,
   "metadata": {},
   "outputs": [
    {
     "data": {
      "text/plain": [
       "torch.Size([7680, 2])"
      ]
     },
     "execution_count": 6,
     "metadata": {},
     "output_type": "execute_result"
    }
   ],
   "source": [
    "edges_packed.shape"
   ]
  },
  {
   "cell_type": "code",
   "execution_count": 7,
   "metadata": {},
   "outputs": [
    {
     "data": {
      "text/plain": [
       "(torch.Size([7680]), torch.Size([7680]))"
      ]
     },
     "execution_count": 7,
     "metadata": {},
     "output_type": "execute_result"
    }
   ],
   "source": [
    "edges_packed[:, 0].shape, edges_packed[:, 1].shape"
   ]
  },
  {
   "cell_type": "code",
   "execution_count": 8,
   "metadata": {},
   "outputs": [
    {
     "data": {
      "text/plain": [
       "torch.Size([12, 9000, 3])"
      ]
     },
     "execution_count": 8,
     "metadata": {},
     "output_type": "execute_result"
    }
   ],
   "source": [
    "vertices = torch.rand(12, 9000, 3)\n",
    "vertices.shape"
   ]
  },
  {
   "cell_type": "code",
   "execution_count": 12,
   "metadata": {
    "scrolled": true
   },
   "outputs": [
    {
     "data": {
      "text/plain": [
       "torch.Size([12, 7680, 3])"
      ]
     },
     "execution_count": 12,
     "metadata": {},
     "output_type": "execute_result"
    }
   ],
   "source": [
    "vertices.index_select(1, edges_packed[:, 0].cpu()).shape"
   ]
  },
  {
   "cell_type": "code",
   "execution_count": null,
   "metadata": {},
   "outputs": [],
   "source": []
  }
 ],
 "metadata": {
  "kernelspec": {
   "display_name": "pytorch3d_0.3",
   "language": "python",
   "name": "pytorch3d_0.3"
  },
  "language_info": {
   "codemirror_mode": {
    "name": "ipython",
    "version": 3
   },
   "file_extension": ".py",
   "mimetype": "text/x-python",
   "name": "python",
   "nbconvert_exporter": "python",
   "pygments_lexer": "ipython3",
   "version": "3.8.5"
  }
 },
 "nbformat": 4,
 "nbformat_minor": 4
}
