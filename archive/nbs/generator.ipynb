{
 "cells": [
  {
   "cell_type": "code",
   "execution_count": 11,
   "metadata": {},
   "outputs": [],
   "source": [
    "from argparse import Namespace\n",
    "from collections import OrderedDict\n",
    "\n",
    "import torch\n",
    "import torch.nn as nn\n",
    "import torch.nn.functional as F\n",
    "\n",
    "from src.stylegan2.op import fused_leaky_relu\n",
    "from src.stylegan2.Blocks import ModConvLayer"
   ]
  },
  {
   "cell_type": "code",
   "execution_count": 13,
   "metadata": {},
   "outputs": [
    {
     "name": "stdout",
     "output_type": "stream",
     "text": [
      "Generator(\n",
      "  (head): ModConvLayer(\n",
      "    (conv): EqualizedModConv2d(3, 32, 3, upsample=False, downsample=False)\n",
      "  )\n",
      "  (body): Sequential(\n",
      "    (block1): ConvBlock(\n",
      "      (conv): Conv2d(32, 32, kernel_size=(3, 3), stride=(1, 1), padding=(1, 1))\n",
      "      (norm): BatchNorm2d(32, eps=1e-05, momentum=0.1, affine=True, track_running_stats=True)\n",
      "      (LeakyRelu): LeakyReLU(negative_slope=0.2, inplace=True)\n",
      "    )\n",
      "    (block2): ConvBlock(\n",
      "      (conv): Conv2d(32, 32, kernel_size=(3, 3), stride=(1, 1), padding=(1, 1))\n",
      "      (norm): BatchNorm2d(32, eps=1e-05, momentum=0.1, affine=True, track_running_stats=True)\n",
      "      (LeakyRelu): LeakyReLU(negative_slope=0.2, inplace=True)\n",
      "    )\n",
      "    (block3): ConvBlock(\n",
      "      (conv): Conv2d(32, 32, kernel_size=(3, 3), stride=(1, 1), padding=(1, 1))\n",
      "      (norm): BatchNorm2d(32, eps=1e-05, momentum=0.1, affine=True, track_running_stats=True)\n",
      "      (LeakyRelu): LeakyReLU(negative_slope=0.2, inplace=True)\n",
      "    )\n",
      "  )\n",
      "  (tail): Sequential(\n",
      "    (0): Conv2d(32, 3, kernel_size=(3, 3), stride=(1, 1), padding=(1, 1))\n",
      "    (1): Tanh()\n",
      "  )\n",
      ")\n",
      "torch.Size([1, 3, 64, 64])\n",
      "torch.Size([1, 32, 64, 64])\n",
      "torch.Size([1, 32, 64, 64])\n",
      "torch.Size([1, 3, 64, 64])\n"
     ]
    },
    {
     "data": {
      "text/plain": [
       "torch.Size([1, 3, 64, 64])"
      ]
     },
     "execution_count": 13,
     "metadata": {},
     "output_type": "execute_result"
    }
   ],
   "source": [
    "# Generator\n",
    "# It takes a low resolution model and style\n",
    "# and produces a high resolution model\n",
    "class ConvBlock(nn.Sequential):\n",
    "    def __init__(self, in_channel, out_channel, ker_size, padd, stride):\n",
    "        super(ConvBlock,self).__init__()\n",
    "        self.add_module('conv',nn.Conv2d(in_channel ,out_channel,kernel_size=ker_size,stride=stride,padding=padd)),\n",
    "        self.add_module('norm',nn.BatchNorm2d(out_channel)),\n",
    "        self.add_module('LeakyRelu',nn.LeakyReLU(0.2, inplace=True))\n",
    "\n",
    "    def weights_init(m):\n",
    "        classname = m.__class__.__name__\n",
    "        if classname.find('Conv2d') != -1:\n",
    "            m.weight.data.normal_(0.0, 0.02)\n",
    "        elif classname.find('Norm') != -1:\n",
    "            m.weight.data.normal_(1.0, 0.02)\n",
    "            m.bias.data.fill_(0)\n",
    "        \n",
    "class Generator(nn.Module):\n",
    "    def __init__(self, opt):\n",
    "        super(Generator, self).__init__()\n",
    "        self.head = ModConvLayer(\n",
    "            opt.dlatent_size, \n",
    "            opt.in_channel,\n",
    "            opt.out_channel, \n",
    "            opt.kernel, \n",
    "        )\n",
    "        self.body = nn.Sequential()\n",
    "        for i in range(opt.num_layer-2):\n",
    "            N = int(opt.nfc/pow(2,(i+1)))\n",
    "            block = ConvBlock(max(2*N,opt.min_nfc),max(N, opt.min_nfc),opt.ker_size,opt.padd_size,1)\n",
    "            self.body.add_module('block%d'%(i+1),block)\n",
    "        \n",
    "#         self.body = nn.Sequential(OrderedDict({\n",
    "#             ''\n",
    "            \n",
    "#         }))\n",
    "        self.tail = nn.Sequential(\n",
    "            nn.Conv2d(max(N,opt.min_nfc),opt.nc_im,kernel_size=opt.ker_size,stride =1,padding=opt.padd_size),\n",
    "            nn.Tanh()\n",
    "        )\n",
    "    \n",
    "    def forward(self, x, style):\n",
    "        print(x.shape)\n",
    "        x = self.head(x, style)\n",
    "        print(x.shape)\n",
    "        x = self.body(x)\n",
    "        print(x.shape)\n",
    "        x = self.tail(x)\n",
    "        print(x.shape)\n",
    "        return x\n",
    "\n",
    "opt = Namespace(\n",
    "    dlatent_size=128,\n",
    "    in_channel=3,\n",
    "    out_channel=32,\n",
    "    kernel=3,\n",
    "    ker_size=3,\n",
    "    # Body\n",
    "    num_layer=5,\n",
    "    nfc=32,\n",
    "    min_nfc=32,\n",
    "    padd_size=1, #math.floor(opt.ker_size/2)\n",
    "    nc_im=3,  # image # channels\n",
    "    \n",
    ")\n",
    "G = Generator(opt)\n",
    "print(G)\n",
    "img = torch.rand(1, 3, 64, 64)\n",
    "style = torch.rand(1, opt.dlatent_size)\n",
    "G(img, style).shape"
   ]
  },
  {
   "cell_type": "code",
   "execution_count": 10,
   "metadata": {},
   "outputs": [],
   "source": []
  },
  {
   "cell_type": "code",
   "execution_count": null,
   "metadata": {},
   "outputs": [],
   "source": []
  }
 ],
 "metadata": {
  "kernelspec": {
   "display_name": "pytorch3d_0.3",
   "language": "python",
   "name": "pytorch3d_0.3"
  },
  "language_info": {
   "codemirror_mode": {
    "name": "ipython",
    "version": 3
   },
   "file_extension": ".py",
   "mimetype": "text/x-python",
   "name": "python",
   "nbconvert_exporter": "python",
   "pygments_lexer": "ipython3",
   "version": "3.8.5"
  }
 },
 "nbformat": 4,
 "nbformat_minor": 4
}
