{
 "cells": [
  {
   "cell_type": "code",
   "execution_count": 1,
   "metadata": {},
   "outputs": [
    {
     "data": {
      "text/html": [
       "        <script type=\"text/javascript\">\n",
       "        window.PlotlyConfig = {MathJaxConfig: 'local'};\n",
       "        if (window.MathJax) {MathJax.Hub.Config({SVG: {font: \"STIX-Web\"}});}\n",
       "        if (typeof require !== 'undefined') {\n",
       "        require.undef(\"plotly\");\n",
       "        requirejs.config({\n",
       "            paths: {\n",
       "                'plotly': ['https://cdn.plot.ly/plotly-latest.min']\n",
       "            }\n",
       "        });\n",
       "        require(['plotly'], function(Plotly) {\n",
       "            window._Plotly = Plotly;\n",
       "        });\n",
       "        }\n",
       "        </script>\n",
       "        "
      ]
     },
     "metadata": {},
     "output_type": "display_data"
    },
    {
     "data": {
      "text/html": [
       "        <script type=\"text/javascript\">\n",
       "        window.PlotlyConfig = {MathJaxConfig: 'local'};\n",
       "        if (window.MathJax) {MathJax.Hub.Config({SVG: {font: \"STIX-Web\"}});}\n",
       "        if (typeof require !== 'undefined') {\n",
       "        require.undef(\"plotly\");\n",
       "        requirejs.config({\n",
       "            paths: {\n",
       "                'plotly': ['https://cdn.plot.ly/plotly-latest.min']\n",
       "            }\n",
       "        });\n",
       "        require(['plotly'], function(Plotly) {\n",
       "            window._Plotly = Plotly;\n",
       "        });\n",
       "        }\n",
       "        </script>\n",
       "        "
      ]
     },
     "metadata": {},
     "output_type": "display_data"
    },
    {
     "data": {
      "text/html": [
       "        <script type=\"text/javascript\">\n",
       "        window.PlotlyConfig = {MathJaxConfig: 'local'};\n",
       "        if (window.MathJax) {MathJax.Hub.Config({SVG: {font: \"STIX-Web\"}});}\n",
       "        if (typeof require !== 'undefined') {\n",
       "        require.undef(\"plotly\");\n",
       "        requirejs.config({\n",
       "            paths: {\n",
       "                'plotly': ['https://cdn.plot.ly/plotly-latest.min']\n",
       "            }\n",
       "        });\n",
       "        require(['plotly'], function(Plotly) {\n",
       "            window._Plotly = Plotly;\n",
       "        });\n",
       "        }\n",
       "        </script>\n",
       "        "
      ]
     },
     "metadata": {},
     "output_type": "display_data"
    },
    {
     "data": {
      "text/html": [
       "        <script type=\"text/javascript\">\n",
       "        window.PlotlyConfig = {MathJaxConfig: 'local'};\n",
       "        if (window.MathJax) {MathJax.Hub.Config({SVG: {font: \"STIX-Web\"}});}\n",
       "        if (typeof require !== 'undefined') {\n",
       "        require.undef(\"plotly\");\n",
       "        requirejs.config({\n",
       "            paths: {\n",
       "                'plotly': ['https://cdn.plot.ly/plotly-latest.min']\n",
       "            }\n",
       "        });\n",
       "        require(['plotly'], function(Plotly) {\n",
       "            window._Plotly = Plotly;\n",
       "        });\n",
       "        }\n",
       "        </script>\n",
       "        "
      ]
     },
     "metadata": {},
     "output_type": "display_data"
    }
   ],
   "source": [
    "import numpy as np\n",
    "import torch\n",
    "import torch.nn.functional as  F\n",
    "import trimesh\n",
    "import pytorch3d\n",
    "from pytorch3d.utils import ico_sphere\n",
    "\n",
    "from src.config import get_parser\n",
    "from src.util import make_faces\n",
    "\n",
    "\n",
    "torch.set_printoptions(sci_mode=False, precision=4)"
   ]
  },
  {
   "cell_type": "code",
   "execution_count": 35,
   "metadata": {},
   "outputs": [],
   "source": [
    "def vertex_tris(faces):\n",
    "    res = []\n",
    "    for vid in range(faces.max()+1):\n",
    "        vertex_faces = []\n",
    "        for fid, face in enumerate(faces):\n",
    "            if vid in face:\n",
    "                vertex_faces.append(fid)\n",
    "        res.append(vertex_faces)\n",
    "    return res\n",
    "\n",
    "def vertex_tri_maps(faces):\n",
    "    vts = vertex_tris(faces)\n",
    "    r, c = len(vts), max([len(x) for  x in vts])\n",
    "    vert_tri_indices = torch.zeros(r, c, dtype=torch.long)\n",
    "    vert_tri_weights = torch.zeros(r, c)    \n",
    "    for r, tris in enumerate(vts):\n",
    "        weight = 1. / len(tris)\n",
    "        for c, tri_id in enumerate(tris):\n",
    "            vert_tri_indices[r, c] = tri_id\n",
    "            vert_tri_weights[r, c] = weight\n",
    "    return vert_tri_indices, vert_tri_weights.unsqueeze(dim=-1)[None]\n",
    "\n",
    "def get_face_normals(vertices, faces):\n",
    "    vec1 = vertices[faces[:, 1]] - vertices[faces[:, 0]]\n",
    "    vec2 = vertices[faces[:, 2]] - vertices[faces[:, 0]]\n",
    "    face_normals = F.normalize(vec1.cross(vec2), p=2, dim=-1)  # [F, 3]\n",
    "    return face_normals\n",
    "\n",
    "def get_vertex_normals(face_normals, vert_tri_indices, vert_tri_weights):    \n",
    "    weighted_face_normals = face_normals[vert_tri_indices] * vert_tri_weights\n",
    "    vertex_normals = weighted_face_normals.sum(dim=-2)\n",
    "    return  F.normalize(vertex_normals, p=2, dim=-1)"
   ]
  },
  {
   "cell_type": "code",
   "execution_count": 3,
   "metadata": {},
   "outputs": [
    {
     "data": {
      "text/plain": [
       "(torch.Size([12, 3]),\n",
       " torch.Size([12, 3]),\n",
       " torch.Size([20, 3]),\n",
       " torch.Size([20, 3]))"
      ]
     },
     "execution_count": 3,
     "metadata": {},
     "output_type": "execute_result"
    }
   ],
   "source": [
    "device = torch.device(\"cuda:0\")\n",
    "\n",
    "src_mesh = ico_sphere(0, device)\n",
    "ico_vertices = src_mesh.verts_list()[0]\n",
    "ico_vertex_normals = src_mesh.verts_normals_list()[0]\n",
    "ico_faces = src_mesh.faces_list()[0]\n",
    "ico_face_normals = src_mesh.faces_normals_list()[0]\n",
    "ico_vertices.shape, ico_vertex_normals.shape, ico_faces.shape, ico_face_normals.shape"
   ]
  },
  {
   "cell_type": "code",
   "execution_count": 4,
   "metadata": {},
   "outputs": [
    {
     "data": {
      "text/plain": [
       "torch.Size([20, 3, 3])"
      ]
     },
     "execution_count": 4,
     "metadata": {},
     "output_type": "execute_result"
    }
   ],
   "source": [
    "tris = ico_vertices[ico_faces]\n",
    "tris.shape"
   ]
  },
  {
   "cell_type": "code",
   "execution_count": 5,
   "metadata": {},
   "outputs": [
    {
     "data": {
      "text/plain": [
       "torch.Size([1, 20, 3])"
      ]
     },
     "execution_count": 5,
     "metadata": {},
     "output_type": "execute_result"
    }
   ],
   "source": [
    "faces_batch = ico_faces[None]\n",
    "faces_batch.shape"
   ]
  },
  {
   "cell_type": "code",
   "execution_count": 6,
   "metadata": {},
   "outputs": [
    {
     "data": {
      "text/plain": [
       "torch.Size([1, 12, 3])"
      ]
     },
     "execution_count": 6,
     "metadata": {},
     "output_type": "execute_result"
    }
   ],
   "source": [
    "vertices_batch = ico_vertices[None].clone()\n",
    "vertices_batch.shape"
   ]
  },
  {
   "cell_type": "code",
   "execution_count": 7,
   "metadata": {},
   "outputs": [
    {
     "data": {
      "text/plain": [
       "tensor([[[-0.5257,  0.8507,  0.0000],\n",
       "         [ 0.5257,  0.8507,  0.0000],\n",
       "         [-0.5257, -0.8507,  0.0000],\n",
       "         [ 0.5257, -0.8507,  0.0000],\n",
       "         [ 0.0000, -0.5257,  0.8507],\n",
       "         [ 0.0000,  0.5257,  0.8507],\n",
       "         [ 0.0000, -0.5257, -0.8507],\n",
       "         [ 0.0000,  0.5257, -0.8507],\n",
       "         [ 0.8507,  0.0000, -0.5257],\n",
       "         [ 0.8507,  0.0000,  0.5257],\n",
       "         [-0.8507,  0.0000, -0.5257],\n",
       "         [-0.8507,  0.0000,  0.5257]]], device='cuda:0')"
      ]
     },
     "execution_count": 7,
     "metadata": {},
     "output_type": "execute_result"
    }
   ],
   "source": [
    "vertices_batch"
   ]
  },
  {
   "cell_type": "code",
   "execution_count": 8,
   "metadata": {},
   "outputs": [
    {
     "data": {
      "text/plain": [
       "(torch.Size([1, 20, 3]), torch.Size([1, 20]), torch.Size([20]))"
      ]
     },
     "execution_count": 8,
     "metadata": {},
     "output_type": "execute_result"
    }
   ],
   "source": [
    "faces_batch.shape, faces_batch[:, :, 1].shape, faces_batch[0][:, 1].shape"
   ]
  },
  {
   "cell_type": "code",
   "execution_count": 9,
   "metadata": {
    "scrolled": true
   },
   "outputs": [
    {
     "data": {
      "text/plain": [
       "torch.Size([1, 12, 3])"
      ]
     },
     "execution_count": 9,
     "metadata": {},
     "output_type": "execute_result"
    }
   ],
   "source": [
    "vertices_batch.shape"
   ]
  },
  {
   "cell_type": "code",
   "execution_count": 10,
   "metadata": {},
   "outputs": [
    {
     "data": {
      "text/plain": [
       "torch.Size([4, 12, 3])"
      ]
     },
     "execution_count": 10,
     "metadata": {},
     "output_type": "execute_result"
    }
   ],
   "source": [
    "vt_bch = torch.randn((4, 12, 3), device=device)\n",
    "vt_bch.shape              "
   ]
  },
  {
   "cell_type": "code",
   "execution_count": 15,
   "metadata": {
    "scrolled": false
   },
   "outputs": [
    {
     "data": {
      "text/plain": [
       "torch.Size([2, 20, 3])"
      ]
     },
     "execution_count": 15,
     "metadata": {},
     "output_type": "execute_result"
    }
   ],
   "source": [
    "fc_bch= torch.randint(0, 12, (2, 20, 3), device=device)\n",
    "fc_bch.shape"
   ]
  },
  {
   "cell_type": "code",
   "execution_count": 16,
   "metadata": {},
   "outputs": [
    {
     "data": {
      "text/plain": [
       "(torch.Size([2, 20]), torch.Size([2, 3]))"
      ]
     },
     "execution_count": 16,
     "metadata": {},
     "output_type": "execute_result"
    }
   ],
   "source": [
    "fc_bch[:, :, 1].shape, fc_bch[:, 1].shape"
   ]
  },
  {
   "cell_type": "code",
   "execution_count": 17,
   "metadata": {
    "scrolled": true
   },
   "outputs": [
    {
     "data": {
      "text/plain": [
       "torch.Size([4, 20, 3])"
      ]
     },
     "execution_count": 17,
     "metadata": {},
     "output_type": "execute_result"
    }
   ],
   "source": [
    "torch.index_select(vt_bch, 1, ico_faces[:, 1]).shape"
   ]
  },
  {
   "cell_type": "code",
   "execution_count": 19,
   "metadata": {
    "scrolled": true
   },
   "outputs": [
    {
     "data": {
      "text/plain": [
       "torch.Size([4, 20, 3])"
      ]
     },
     "execution_count": 19,
     "metadata": {},
     "output_type": "execute_result"
    }
   ],
   "source": [
    "vt_bch.index_select(1, ico_faces[:, 1]).shape"
   ]
  },
  {
   "cell_type": "code",
   "execution_count": 20,
   "metadata": {},
   "outputs": [
    {
     "data": {
      "text/plain": [
       "torch.Size([20])"
      ]
     },
     "execution_count": 20,
     "metadata": {},
     "output_type": "execute_result"
    }
   ],
   "source": [
    "ico_faces[:, 1].shape"
   ]
  },
  {
   "cell_type": "code",
   "execution_count": 21,
   "metadata": {},
   "outputs": [
    {
     "data": {
      "text/plain": [
       "tensor([[[    -0.5774,      0.5774,      0.5774],\n",
       "         [    -0.0000,      0.9341,      0.3569],\n",
       "         [     0.0000,      0.9341,     -0.3569],\n",
       "         [    -0.5774,      0.5774,     -0.5774],\n",
       "         [    -0.9341,      0.3569,      0.0000],\n",
       "         [     0.5774,      0.5774,      0.5774],\n",
       "         [    -0.3569,      0.0000,      0.9341],\n",
       "         [    -0.9341,     -0.3569,     -0.0000],\n",
       "         [    -0.3569,     -0.0000,     -0.9341],\n",
       "         [     0.5774,      0.5774,     -0.5774],\n",
       "         [     0.5774,     -0.5774,      0.5774],\n",
       "         [     0.0000,     -0.9341,      0.3569],\n",
       "         [    -0.0000,     -0.9341,     -0.3569],\n",
       "         [     0.5774,     -0.5774,     -0.5774],\n",
       "         [     0.9341,     -0.3569,      0.0000],\n",
       "         [     0.3569,     -0.0000,      0.9341],\n",
       "         [    -0.5774,     -0.5774,      0.5774],\n",
       "         [    -0.5774,     -0.5774,     -0.5774],\n",
       "         [     0.3569,      0.0000,     -0.9341],\n",
       "         [     0.9341,      0.3569,      0.0000]]], device='cuda:0')"
      ]
     },
     "execution_count": 21,
     "metadata": {},
     "output_type": "execute_result"
    }
   ],
   "source": [
    "def get_face_normals(vrt, faces):    \n",
    "    v1 = vrt.index_select(1,faces[:, 1]) - vrt.index_select(1, faces[:, 0])\n",
    "    v2 = vrt.index_select(1,faces[:, 2]) - vrt.index_select(1, faces[:, 0])\n",
    "    face_normals = F.normalize(v1.cross(v2), p=2, dim=-1)  # [F, 3]\n",
    "    return face_normals\n",
    "\n",
    "face_normals_b =  get_face_normals(vertices_batch, ico_faces)\n",
    "face_normals_b"
   ]
  },
  {
   "cell_type": "code",
   "execution_count": 22,
   "metadata": {},
   "outputs": [
    {
     "data": {
      "text/plain": [
       "torch.Size([1, 20, 3])"
      ]
     },
     "execution_count": 22,
     "metadata": {},
     "output_type": "execute_result"
    }
   ],
   "source": [
    "face_normals_b.shape"
   ]
  },
  {
   "cell_type": "code",
   "execution_count": 23,
   "metadata": {},
   "outputs": [
    {
     "data": {
      "text/plain": [
       "True"
      ]
     },
     "execution_count": 23,
     "metadata": {},
     "output_type": "execute_result"
    }
   ],
   "source": [
    "torch.allclose(ico_face_normals, face_normals_b[0])"
   ]
  },
  {
   "cell_type": "code",
   "execution_count": 36,
   "metadata": {},
   "outputs": [
    {
     "data": {
      "text/plain": [
       "(torch.Size([12, 5]), torch.Size([1, 12, 5, 1]))"
      ]
     },
     "execution_count": 36,
     "metadata": {},
     "output_type": "execute_result"
    }
   ],
   "source": [
    "vert_tri_indices, vert_tri_weights = vertex_tri_maps(ico_faces)\n",
    "vert_tri_indices = vert_tri_indices.to(device)\n",
    "vert_tri_weights = vert_tri_weights.to(device)\n",
    "vert_tri_indices.shape, vert_tri_weights.shape"
   ]
  },
  {
   "cell_type": "code",
   "execution_count": 37,
   "metadata": {},
   "outputs": [
    {
     "ename": "RuntimeError",
     "evalue": "The size of tensor a (20) must match the size of tensor b (5) at non-singleton dimension 2",
     "output_type": "error",
     "traceback": [
      "\u001b[0;31m---------------------------------------------------------------------------\u001b[0m",
      "\u001b[0;31mRuntimeError\u001b[0m                              Traceback (most recent call last)",
      "\u001b[0;32m<ipython-input-37-a77b7ebfc73d>\u001b[0m in \u001b[0;36m<module>\u001b[0;34m\u001b[0m\n\u001b[1;32m      4\u001b[0m     \u001b[0;32mreturn\u001b[0m  \u001b[0mF\u001b[0m\u001b[0;34m.\u001b[0m\u001b[0mnormalize\u001b[0m\u001b[0;34m(\u001b[0m\u001b[0mvertex_normals\u001b[0m\u001b[0;34m,\u001b[0m \u001b[0mp\u001b[0m\u001b[0;34m=\u001b[0m\u001b[0;36m2\u001b[0m\u001b[0;34m,\u001b[0m \u001b[0mdim\u001b[0m\u001b[0;34m=\u001b[0m\u001b[0;34m-\u001b[0m\u001b[0;36m1\u001b[0m\u001b[0;34m)\u001b[0m\u001b[0;34m\u001b[0m\u001b[0;34m\u001b[0m\u001b[0m\n\u001b[1;32m      5\u001b[0m \u001b[0;34m\u001b[0m\u001b[0m\n\u001b[0;32m----> 6\u001b[0;31m \u001b[0mvert_normals_b\u001b[0m \u001b[0;34m=\u001b[0m \u001b[0mget_vertex_normals\u001b[0m\u001b[0;34m(\u001b[0m\u001b[0mface_normals_b\u001b[0m\u001b[0;34m,\u001b[0m \u001b[0mvert_tri_indices\u001b[0m\u001b[0;34m,\u001b[0m \u001b[0mvert_tri_weights\u001b[0m\u001b[0;34m)\u001b[0m\u001b[0;34m\u001b[0m\u001b[0;34m\u001b[0m\u001b[0m\n\u001b[0m\u001b[1;32m      7\u001b[0m \u001b[0mvert_normals_b\u001b[0m\u001b[0;34m.\u001b[0m\u001b[0mshape\u001b[0m\u001b[0;34m\u001b[0m\u001b[0;34m\u001b[0m\u001b[0m\n",
      "\u001b[0;32m<ipython-input-37-a77b7ebfc73d>\u001b[0m in \u001b[0;36mget_vertex_normals\u001b[0;34m(face_normals, vert_tri_indices, vert_tri_weights)\u001b[0m\n\u001b[1;32m      1\u001b[0m \u001b[0;32mdef\u001b[0m \u001b[0mget_vertex_normals\u001b[0m\u001b[0;34m(\u001b[0m\u001b[0mface_normals\u001b[0m\u001b[0;34m,\u001b[0m \u001b[0mvert_tri_indices\u001b[0m\u001b[0;34m,\u001b[0m \u001b[0mvert_tri_weights\u001b[0m\u001b[0;34m)\u001b[0m\u001b[0;34m:\u001b[0m\u001b[0;34m\u001b[0m\u001b[0;34m\u001b[0m\u001b[0m\n\u001b[0;32m----> 2\u001b[0;31m     \u001b[0mweighted_face_normals\u001b[0m \u001b[0;34m=\u001b[0m \u001b[0mface_normals\u001b[0m\u001b[0;34m[\u001b[0m\u001b[0mvert_tri_indices\u001b[0m\u001b[0;34m]\u001b[0m \u001b[0;34m*\u001b[0m \u001b[0mvert_tri_weights\u001b[0m\u001b[0;34m\u001b[0m\u001b[0;34m\u001b[0m\u001b[0m\n\u001b[0m\u001b[1;32m      3\u001b[0m     \u001b[0mvertex_normals\u001b[0m \u001b[0;34m=\u001b[0m \u001b[0mweighted_face_normals\u001b[0m\u001b[0;34m.\u001b[0m\u001b[0msum\u001b[0m\u001b[0;34m(\u001b[0m\u001b[0mdim\u001b[0m\u001b[0;34m=\u001b[0m\u001b[0;34m-\u001b[0m\u001b[0;36m2\u001b[0m\u001b[0;34m)\u001b[0m\u001b[0;34m\u001b[0m\u001b[0;34m\u001b[0m\u001b[0m\n\u001b[1;32m      4\u001b[0m     \u001b[0;32mreturn\u001b[0m  \u001b[0mF\u001b[0m\u001b[0;34m.\u001b[0m\u001b[0mnormalize\u001b[0m\u001b[0;34m(\u001b[0m\u001b[0mvertex_normals\u001b[0m\u001b[0;34m,\u001b[0m \u001b[0mp\u001b[0m\u001b[0;34m=\u001b[0m\u001b[0;36m2\u001b[0m\u001b[0;34m,\u001b[0m \u001b[0mdim\u001b[0m\u001b[0;34m=\u001b[0m\u001b[0;34m-\u001b[0m\u001b[0;36m1\u001b[0m\u001b[0;34m)\u001b[0m\u001b[0;34m\u001b[0m\u001b[0;34m\u001b[0m\u001b[0m\n\u001b[1;32m      5\u001b[0m \u001b[0;34m\u001b[0m\u001b[0m\n",
      "\u001b[0;31mRuntimeError\u001b[0m: The size of tensor a (20) must match the size of tensor b (5) at non-singleton dimension 2"
     ]
    }
   ],
   "source": [
    "def get_vertex_normals(face_normals, vert_tri_indices, vert_tri_weights):    \n",
    "    weighted_face_normals = face_normals[vert_tri_indices] * vert_tri_weights\n",
    "    vertex_normals = weighted_face_normals.sum(dim=-2)\n",
    "    return  F.normalize(vertex_normals, p=2, dim=-1)\n",
    "\n",
    "vert_normals_b = get_vertex_normals(face_normals_b, vert_tri_indices, vert_tri_weights)\n",
    "vert_normals_b.shape"
   ]
  },
  {
   "cell_type": "code",
   "execution_count": 30,
   "metadata": {},
   "outputs": [
    {
     "data": {
      "text/plain": [
       "(torch.Size([1, 20, 3]), torch.Size([12, 5]))"
      ]
     },
     "execution_count": 30,
     "metadata": {},
     "output_type": "execute_result"
    }
   ],
   "source": [
    "face_normals_b.shape, vert_tri_indices.shape"
   ]
  },
  {
   "cell_type": "code",
   "execution_count": 32,
   "metadata": {
    "scrolled": true
   },
   "outputs": [
    {
     "data": {
      "text/plain": [
       "torch.Size([1, 60, 3])"
      ]
     },
     "execution_count": 32,
     "metadata": {},
     "output_type": "execute_result"
    }
   ],
   "source": [
    "face_normals_b.index_select(1, vert_tri_indices.flatten()).shape"
   ]
  },
  {
   "cell_type": "code",
   "execution_count": 27,
   "metadata": {},
   "outputs": [
    {
     "data": {
      "text/plain": [
       "(device(type='cuda', index=0), device(type='cuda', index=0))"
      ]
     },
     "execution_count": 27,
     "metadata": {},
     "output_type": "execute_result"
    }
   ],
   "source": [
    "face_normals_b.device, vert_tri_indices.device"
   ]
  },
  {
   "cell_type": "code",
   "execution_count": 37,
   "metadata": {},
   "outputs": [
    {
     "data": {
      "text/plain": [
       "torch.Size([1, 12, 3])"
      ]
     },
     "execution_count": 37,
     "metadata": {},
     "output_type": "execute_result"
    }
   ],
   "source": [
    "def get_vertex_normals(face_normals, vert_tri_indices, vert_tri_weights):\n",
    "    bs = face_normals.size(0)\n",
    "    r, c = vert_tri_indices.shape\n",
    "    fn_group = face_normals.index_select(1, \n",
    "        vert_tri_indices.flatten()).reshape(bs, r, c, 3)\n",
    "    weighted_fn_group = fn_group * vert_tri_weights    \n",
    "    vertex_normals = weighted_fn_group.sum(dim=-2)\n",
    "    return F.normalize(vertex_normals, p=2, dim=-1)\n",
    "\n",
    "vert_normals_b = get_vertex_normals(face_normals_b, vert_tri_indices, vert_tri_weights)\n",
    "vert_normals_b.shape"
   ]
  },
  {
   "cell_type": "code",
   "execution_count": 38,
   "metadata": {},
   "outputs": [
    {
     "data": {
      "text/plain": [
       "tensor([[[    -0.5257,      0.8507,     -0.0000],\n",
       "         [     0.5257,      0.8507,      0.0000],\n",
       "         [    -0.5257,     -0.8507,      0.0000],\n",
       "         [     0.5257,     -0.8507,     -0.0000],\n",
       "         [     0.0000,     -0.5257,      0.8507],\n",
       "         [    -0.0000,      0.5257,      0.8507],\n",
       "         [     0.0000,     -0.5257,     -0.8507],\n",
       "         [     0.0000,      0.5257,     -0.8507],\n",
       "         [     0.8507,      0.0000,     -0.5257],\n",
       "         [     0.8507,      0.0000,      0.5257],\n",
       "         [    -0.8507,     -0.0000,     -0.5257],\n",
       "         [    -0.8507,      0.0000,      0.5257]]], device='cuda:0')"
      ]
     },
     "execution_count": 38,
     "metadata": {},
     "output_type": "execute_result"
    }
   ],
   "source": [
    "vert_normals_b"
   ]
  },
  {
   "cell_type": "code",
   "execution_count": 39,
   "metadata": {},
   "outputs": [
    {
     "data": {
      "text/plain": [
       "tensor([[    -0.5257,      0.8507,     -0.0000],\n",
       "        [     0.5257,      0.8507,      0.0000],\n",
       "        [    -0.5257,     -0.8507,      0.0000],\n",
       "        [     0.5257,     -0.8507,     -0.0000],\n",
       "        [    -0.0000,     -0.5257,      0.8507],\n",
       "        [     0.0000,      0.5257,      0.8507],\n",
       "        [     0.0000,     -0.5257,     -0.8507],\n",
       "        [    -0.0000,      0.5257,     -0.8507],\n",
       "        [     0.8507,     -0.0000,     -0.5257],\n",
       "        [     0.8507,      0.0000,      0.5257],\n",
       "        [    -0.8507,      0.0000,     -0.5257],\n",
       "        [    -0.8507,     -0.0000,      0.5257]], device='cuda:0')"
      ]
     },
     "execution_count": 39,
     "metadata": {},
     "output_type": "execute_result"
    }
   ],
   "source": [
    "ico_vertex_normals"
   ]
  },
  {
   "cell_type": "code",
   "execution_count": null,
   "metadata": {},
   "outputs": [],
   "source": []
  }
 ],
 "metadata": {
  "kernelspec": {
   "display_name": "pytorch3d_0.3",
   "language": "python",
   "name": "pytorch3d_0.3"
  },
  "language_info": {
   "codemirror_mode": {
    "name": "ipython",
    "version": 3
   },
   "file_extension": ".py",
   "mimetype": "text/x-python",
   "name": "python",
   "nbconvert_exporter": "python",
   "pygments_lexer": "ipython3",
   "version": "3.8.5"
  }
 },
 "nbformat": 4,
 "nbformat_minor": 4
}
