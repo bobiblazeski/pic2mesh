{
 "cells": [
  {
   "cell_type": "code",
   "execution_count": 1,
   "metadata": {},
   "outputs": [],
   "source": [
    "import os\n",
    "import numpy as np\n",
    "import torch\n",
    "import torchvision.transforms as transforms\n",
    "\n",
    "from random import randint\n",
    "from PIL import Image\n",
    "\n",
    "from src.config import get_parser"
   ]
  },
  {
   "cell_type": "code",
   "execution_count": 32,
   "metadata": {
    "scrolled": true
   },
   "outputs": [],
   "source": [
    "class MaskedDataset(torch.utils.data.Dataset):\n",
    "    def __init__(self, config):\n",
    "        self.patch_size = config.data_patch_size\n",
    "        self.img_dir = config.data_image_dir\n",
    "        self.mask_dir = config.data_mask_dir        \n",
    "        images =  set([x.replace('.png', '') for x \n",
    "                       in os.listdir(self.img_dir) if x.endswith('.png')])        \n",
    "        \n",
    "        masks = set([x.replace('.pt', '') for x \n",
    "                     in os.listdir(self.mask_dir ) if x.endswith('.pt')])        \n",
    "\n",
    "        self.entries = list(images & masks)        \n",
    "        if len(self.entries) < len(images):\n",
    "            print('Missing masks', images - masks)\n",
    "            \n",
    "        self.transform = {    \n",
    "            \"image_normed\": transforms.Compose([\n",
    "                transforms.ToTensor(),\n",
    "                #transforms.Resize(config.data_image_size),\n",
    "                transforms.Normalize(config.image_mean, config.image_std),\n",
    "                transforms.Grayscale(),\n",
    "            ]),\n",
    "            \"mask\": transforms.Lambda(lambda x: \n",
    "                torch.nn.functional.interpolate(x.float(), size=config.data_image_size, \n",
    "                                                mode='nearest').squeeze(0)),\n",
    "            \"style_img\": transforms.Compose([\n",
    "                transforms.Resize(config.data_style_img),\n",
    "            ]),\n",
    "            \"img_patch\": transforms.Compose([\n",
    "                transforms.Resize(config.data_image_resized),\n",
    "                transforms.RandomCrop(config.data_patch_size),\n",
    "            ]),            \n",
    "        }        \n",
    "        blueprint = np.load(os.path.join(config.data_dir, config.blueprint))\n",
    "        self.points = torch.tensor(blueprint['points'])[0]\n",
    "        self.normals = torch.tensor(blueprint['normals'])[0]        \n",
    "        self.wmax = self.points.size(1)\n",
    "        self.hmax = self.points.size(2)        \n",
    "        \n",
    "    def __len__(self):\n",
    "        return len(self.entries)\n",
    "    \n",
    "    def __getitem__(self, idx):\n",
    "        entry_path = self.entries[idx]\n",
    "        img = Image.open(os.path.join(self.img_dir, entry_path + '.png'))\n",
    "        mask =  torch.load(os.path.join(self.mask_dir, entry_path + '.pt'))\n",
    "\n",
    "        img_normed  = self.transform['image_normed'](img)\n",
    "        mask_resized = self.transform['mask'](mask)\n",
    "        res_masked =  img_normed * mask_resized\n",
    "        style_img = self.transform['style_img'](res_masked)\n",
    "        img_patch = self.transform['img_patch'](res_masked)\n",
    "                \n",
    "        w = randint(0, self.wmax - self.patch_size)\n",
    "        h = randint(0, self.hmax - self.patch_size)          \n",
    "        points = self.points[:, w:w + self.patch_size, h:h + self.patch_size]\n",
    "        normals = self.normals[:, w:w + self.patch_size, h:h + self.patch_size]\n",
    "        \n",
    "        return {\n",
    "            'style_img': style_img,\n",
    "            'img_patch': img_patch,\n",
    "            'points': points,\n",
    "            'normals': normals,\n",
    "        }\n",
    "\n",
    "\n",
    "config = get_parser().parse_args(args=[])    \n",
    "config.data_patch_size = 128\n",
    "ds = MaskedDataset(config)"
   ]
  },
  {
   "cell_type": "code",
   "execution_count": 33,
   "metadata": {},
   "outputs": [
    {
     "data": {
      "text/plain": [
       "(256, 256)"
      ]
     },
     "execution_count": 33,
     "metadata": {},
     "output_type": "execute_result"
    }
   ],
   "source": [
    "ds.wmax, ds.hmax"
   ]
  },
  {
   "cell_type": "code",
   "execution_count": 34,
   "metadata": {},
   "outputs": [
    {
     "name": "stdout",
     "output_type": "stream",
     "text": [
      "107 82\n",
      "style_img torch.Size([1, 192, 192])\n",
      "img_patch torch.Size([1, 128, 128])\n",
      "points torch.Size([3, 128, 128])\n",
      "normals torch.Size([3, 128, 128])\n"
     ]
    }
   ],
   "source": [
    "d1 = ds[0]\n",
    "for key in d1:\n",
    "    print(key, d1[key].shape)"
   ]
  },
  {
   "cell_type": "code",
   "execution_count": 5,
   "metadata": {},
   "outputs": [
    {
     "data": {
      "text/plain": [
       "(torch.Size([3, 256, 256]), torch.Size([3, 256, 256]))"
      ]
     },
     "execution_count": 5,
     "metadata": {},
     "output_type": "execute_result"
    }
   ],
   "source": [
    "blueprint = np.load(os.path.join(config.data_dir, config.blueprint))\n",
    "points = torch.tensor(blueprint['points'])[0]\n",
    "normals = torch.tensor(blueprint['normals'])[0]\n",
    "points.shape, normals.shape"
   ]
  },
  {
   "cell_type": "code",
   "execution_count": 16,
   "metadata": {},
   "outputs": [
    {
     "data": {
      "text/plain": [
       "(torch.Size([3, 56, 56]), torch.Size([3, 56, 56]))"
      ]
     },
     "execution_count": 16,
     "metadata": {},
     "output_type": "execute_result"
    }
   ],
   "source": [
    "patch_size = 56 #config.data_patch_size\n",
    "_, wmax, hmax = points.shape\n",
    "w, h = randint(0, wmax - patch_size + 1), randint(0, hmax - patch_size + 1)\n",
    "(points[:, w:w + patch_size, h:h + patch_size].shape,\n",
    " normals[:, w:w + patch_size, h:h + patch_size].shape)"
   ]
  },
  {
   "cell_type": "code",
   "execution_count": 20,
   "metadata": {},
   "outputs": [
    {
     "data": {
      "text/plain": [
       "256"
      ]
     },
     "execution_count": 20,
     "metadata": {},
     "output_type": "execute_result"
    }
   ],
   "source": [
    "config.data_patch_size"
   ]
  },
  {
   "cell_type": "code",
   "execution_count": 12,
   "metadata": {},
   "outputs": [
    {
     "data": {
      "text/plain": [
       "(256, 256)"
      ]
     },
     "execution_count": 12,
     "metadata": {},
     "output_type": "execute_result"
    }
   ],
   "source": [
    "_, wmax, hmax = points.shape\n",
    "wmax, hmax"
   ]
  },
  {
   "cell_type": "code",
   "execution_count": null,
   "metadata": {},
   "outputs": [],
   "source": []
  }
 ],
 "metadata": {
  "kernelspec": {
   "display_name": "pytorch3d_0.3",
   "language": "python",
   "name": "pytorch3d_0.3"
  },
  "language_info": {
   "codemirror_mode": {
    "name": "ipython",
    "version": 3
   },
   "file_extension": ".py",
   "mimetype": "text/x-python",
   "name": "python",
   "nbconvert_exporter": "python",
   "pygments_lexer": "ipython3",
   "version": "3.8.5"
  }
 },
 "nbformat": 4,
 "nbformat_minor": 4
}
