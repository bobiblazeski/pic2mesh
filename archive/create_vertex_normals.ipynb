{
 "cells": [
  {
   "cell_type": "code",
   "execution_count": 1,
   "metadata": {},
   "outputs": [
    {
     "data": {
      "text/html": [
       "        <script type=\"text/javascript\">\n",
       "        window.PlotlyConfig = {MathJaxConfig: 'local'};\n",
       "        if (window.MathJax) {MathJax.Hub.Config({SVG: {font: \"STIX-Web\"}});}\n",
       "        if (typeof require !== 'undefined') {\n",
       "        require.undef(\"plotly\");\n",
       "        requirejs.config({\n",
       "            paths: {\n",
       "                'plotly': ['https://cdn.plot.ly/plotly-latest.min']\n",
       "            }\n",
       "        });\n",
       "        require(['plotly'], function(Plotly) {\n",
       "            window._Plotly = Plotly;\n",
       "        });\n",
       "        }\n",
       "        </script>\n",
       "        "
      ]
     },
     "metadata": {},
     "output_type": "display_data"
    },
    {
     "data": {
      "text/html": [
       "        <script type=\"text/javascript\">\n",
       "        window.PlotlyConfig = {MathJaxConfig: 'local'};\n",
       "        if (window.MathJax) {MathJax.Hub.Config({SVG: {font: \"STIX-Web\"}});}\n",
       "        if (typeof require !== 'undefined') {\n",
       "        require.undef(\"plotly\");\n",
       "        requirejs.config({\n",
       "            paths: {\n",
       "                'plotly': ['https://cdn.plot.ly/plotly-latest.min']\n",
       "            }\n",
       "        });\n",
       "        require(['plotly'], function(Plotly) {\n",
       "            window._Plotly = Plotly;\n",
       "        });\n",
       "        }\n",
       "        </script>\n",
       "        "
      ]
     },
     "metadata": {},
     "output_type": "display_data"
    },
    {
     "data": {
      "text/html": [
       "        <script type=\"text/javascript\">\n",
       "        window.PlotlyConfig = {MathJaxConfig: 'local'};\n",
       "        if (window.MathJax) {MathJax.Hub.Config({SVG: {font: \"STIX-Web\"}});}\n",
       "        if (typeof require !== 'undefined') {\n",
       "        require.undef(\"plotly\");\n",
       "        requirejs.config({\n",
       "            paths: {\n",
       "                'plotly': ['https://cdn.plot.ly/plotly-latest.min']\n",
       "            }\n",
       "        });\n",
       "        require(['plotly'], function(Plotly) {\n",
       "            window._Plotly = Plotly;\n",
       "        });\n",
       "        }\n",
       "        </script>\n",
       "        "
      ]
     },
     "metadata": {},
     "output_type": "display_data"
    },
    {
     "data": {
      "text/html": [
       "        <script type=\"text/javascript\">\n",
       "        window.PlotlyConfig = {MathJaxConfig: 'local'};\n",
       "        if (window.MathJax) {MathJax.Hub.Config({SVG: {font: \"STIX-Web\"}});}\n",
       "        if (typeof require !== 'undefined') {\n",
       "        require.undef(\"plotly\");\n",
       "        requirejs.config({\n",
       "            paths: {\n",
       "                'plotly': ['https://cdn.plot.ly/plotly-latest.min']\n",
       "            }\n",
       "        });\n",
       "        require(['plotly'], function(Plotly) {\n",
       "            window._Plotly = Plotly;\n",
       "        });\n",
       "        }\n",
       "        </script>\n",
       "        "
      ]
     },
     "metadata": {},
     "output_type": "display_data"
    }
   ],
   "source": [
    "import torch\n",
    "from src.util import make_faces\n",
    "\n",
    "def vertex_tris(faces):\n",
    "    res = []\n",
    "    for vid in range(faces.max()+1):\n",
    "        vertex_faces = []\n",
    "        for fid, face in enumerate(faces):\n",
    "            if vid in face:\n",
    "                vertex_faces.append(fid)\n",
    "        res.append(vertex_faces)\n",
    "    return res\n",
    "\n",
    "def vertex_tri_maps(faces):\n",
    "    vts = vertex_tris(faces)\n",
    "    r, c = len(vts), max([len(x) for  x in vts])\n",
    "    vert_tri_indices = torch.zeros(r, c, dtype=torch.long)\n",
    "    vert_tri_weights = torch.zeros(r, c)    \n",
    "    for r, tris in enumerate(vts):\n",
    "        if r % 1000 == 0:\n",
    "            print(r, len(vts))\n",
    "        weight = 1. / len(tris)\n",
    "        for c, tri_id in enumerate(tris):\n",
    "            vert_tri_indices[r, c] = tri_id\n",
    "            vert_tri_weights[r, c] = weight\n",
    "    return vert_tri_indices, vert_tri_weights.unsqueeze(dim=-1)[None]\n",
    "\n",
    "def get_face_normals(vrt, faces):    \n",
    "    v1 = vrt.index_select(1,faces[:, 1]) - vrt.index_select(1, faces[:, 0])\n",
    "    v2 = vrt.index_select(1,faces[:, 2]) - vrt.index_select(1, faces[:, 0])\n",
    "    face_normals = F.normalize(v1.cross(v2), p=2, dim=-1)  # [F, 3]\n",
    "    return face_normals\n",
    "\n",
    "def get_vertex_normals(face_normals, vert_tri_indices, vert_tri_weights):\n",
    "    bs = face_normals.size(0)\n",
    "    r, c = vert_tri_indices.shape\n",
    "    fn_group = face_normals.index_select(1, \n",
    "        vert_tri_indices.flatten()).reshape(bs, r, c, 3)\n",
    "    weighted_fn_group = fn_group * vert_tri_weights    \n",
    "    vertex_normals = weighted_fn_group.sum(dim=-2)\n",
    "    return F.normalize(vertex_normals, p=2, dim=-1)"
   ]
  },
  {
   "cell_type": "code",
   "execution_count": 2,
   "metadata": {},
   "outputs": [
    {
     "data": {
      "text/plain": [
       "256"
      ]
     },
     "execution_count": 2,
     "metadata": {},
     "output_type": "execute_result"
    }
   ],
   "source": [
    "from src.config import get_parser\n",
    "\n",
    "opt = get_parser().parse_args(args=[])\n",
    "opt.raster_patch_size\n",
    "#vert_tri_indices, vert_tri_weights = vertex_tri_maps(faces)"
   ]
  },
  {
   "cell_type": "code",
   "execution_count": 3,
   "metadata": {},
   "outputs": [
    {
     "data": {
      "text/plain": [
       "(130050, 3)"
      ]
     },
     "execution_count": 3,
     "metadata": {},
     "output_type": "execute_result"
    }
   ],
   "source": [
    "faces = make_faces(opt.raster_patch_size, opt.raster_patch_size)\n",
    "faces.shape"
   ]
  },
  {
   "cell_type": "code",
   "execution_count": 4,
   "metadata": {
    "scrolled": true
   },
   "outputs": [
    {
     "name": "stdout",
     "output_type": "stream",
     "text": [
      "0 65536\n",
      "1000 65536\n",
      "2000 65536\n",
      "3000 65536\n",
      "4000 65536\n",
      "5000 65536\n",
      "6000 65536\n",
      "7000 65536\n",
      "8000 65536\n",
      "9000 65536\n",
      "10000 65536\n",
      "11000 65536\n",
      "12000 65536\n",
      "13000 65536\n",
      "14000 65536\n",
      "15000 65536\n",
      "16000 65536\n",
      "17000 65536\n",
      "18000 65536\n",
      "19000 65536\n",
      "20000 65536\n",
      "21000 65536\n",
      "22000 65536\n",
      "23000 65536\n",
      "24000 65536\n",
      "25000 65536\n",
      "26000 65536\n",
      "27000 65536\n",
      "28000 65536\n",
      "29000 65536\n",
      "30000 65536\n",
      "31000 65536\n",
      "32000 65536\n",
      "33000 65536\n",
      "34000 65536\n",
      "35000 65536\n",
      "36000 65536\n",
      "37000 65536\n",
      "38000 65536\n",
      "39000 65536\n",
      "40000 65536\n",
      "41000 65536\n",
      "42000 65536\n",
      "43000 65536\n",
      "44000 65536\n",
      "45000 65536\n",
      "46000 65536\n",
      "47000 65536\n",
      "48000 65536\n",
      "49000 65536\n",
      "50000 65536\n",
      "51000 65536\n",
      "52000 65536\n",
      "53000 65536\n",
      "54000 65536\n",
      "55000 65536\n",
      "56000 65536\n",
      "57000 65536\n",
      "58000 65536\n",
      "59000 65536\n",
      "60000 65536\n",
      "61000 65536\n",
      "62000 65536\n",
      "63000 65536\n",
      "64000 65536\n",
      "65000 65536\n",
      "0 65536\n",
      "1000 65536\n",
      "2000 65536\n",
      "3000 65536\n",
      "4000 65536\n",
      "5000 65536\n",
      "6000 65536\n",
      "7000 65536\n",
      "8000 65536\n",
      "9000 65536\n",
      "10000 65536\n",
      "11000 65536\n",
      "12000 65536\n",
      "13000 65536\n",
      "14000 65536\n",
      "15000 65536\n",
      "16000 65536\n",
      "17000 65536\n",
      "18000 65536\n",
      "19000 65536\n",
      "20000 65536\n",
      "21000 65536\n",
      "22000 65536\n",
      "23000 65536\n",
      "24000 65536\n",
      "25000 65536\n",
      "26000 65536\n",
      "27000 65536\n",
      "28000 65536\n",
      "29000 65536\n",
      "30000 65536\n",
      "31000 65536\n",
      "32000 65536\n",
      "33000 65536\n",
      "34000 65536\n",
      "35000 65536\n",
      "36000 65536\n",
      "37000 65536\n",
      "38000 65536\n",
      "39000 65536\n",
      "40000 65536\n",
      "41000 65536\n",
      "42000 65536\n",
      "43000 65536\n",
      "44000 65536\n",
      "45000 65536\n",
      "46000 65536\n",
      "47000 65536\n",
      "48000 65536\n",
      "49000 65536\n",
      "50000 65536\n",
      "51000 65536\n",
      "52000 65536\n",
      "53000 65536\n",
      "54000 65536\n",
      "55000 65536\n",
      "56000 65536\n",
      "57000 65536\n",
      "58000 65536\n",
      "59000 65536\n",
      "60000 65536\n",
      "61000 65536\n",
      "62000 65536\n",
      "63000 65536\n",
      "64000 65536\n",
      "65000 65536\n"
     ]
    }
   ],
   "source": [
    "def vertex_tris(faces):\n",
    "    res = []\n",
    "    for vid in range(faces.max()+1):\n",
    "        if vid % 1000 == 0:\n",
    "            print(vid, faces.max()+1)\n",
    "        vertex_faces = []\n",
    "        for fid, face in enumerate(faces):\n",
    "            if vid in face:\n",
    "                vertex_faces.append(fid)\n",
    "        res.append(vertex_faces)\n",
    "    return res\n",
    "\n",
    "faces = make_faces(opt.raster_patch_size, opt.raster_patch_size)\n",
    "vert_tri_indices, vert_tri_weights = vertex_tri_maps(faces)"
   ]
  },
  {
   "cell_type": "code",
   "execution_count": 7,
   "metadata": {},
   "outputs": [
    {
     "data": {
      "text/plain": [
       "array([[ 0,  1,  4],\n",
       "       [ 1,  5,  4],\n",
       "       [ 1,  2,  5],\n",
       "       [ 2,  6,  5],\n",
       "       [ 2,  3,  6],\n",
       "       [ 3,  7,  6],\n",
       "       [ 4,  5,  8],\n",
       "       [ 5,  9,  8],\n",
       "       [ 5,  6,  9],\n",
       "       [ 6, 10,  9],\n",
       "       [ 6,  7, 10],\n",
       "       [ 7, 11, 10],\n",
       "       [ 8,  9, 12],\n",
       "       [ 9, 13, 12],\n",
       "       [ 9, 10, 13],\n",
       "       [10, 14, 13],\n",
       "       [10, 11, 14],\n",
       "       [11, 15, 14]])"
      ]
     },
     "execution_count": 7,
     "metadata": {},
     "output_type": "execute_result"
    }
   ],
   "source": []
  },
  {
   "cell_type": "code",
   "execution_count": 8,
   "metadata": {},
   "outputs": [
    {
     "data": {
      "text/plain": [
       "(torch.Size([16384, 6]), torch.Size([1, 16384, 6, 1]))"
      ]
     },
     "execution_count": 8,
     "metadata": {},
     "output_type": "execute_result"
    }
   ],
   "source": [
    "vert_tri_indices.shape, vert_tri_weights.shape"
   ]
  },
  {
   "cell_type": "code",
   "execution_count": null,
   "metadata": {},
   "outputs": [],
   "source": [
    "import torch \n",
    "from collections import OrderedDict\n",
    "\n",
    "opt = get_parser().parse_args(args=[])\n",
    "\n",
    "\n",
    "opt.raster_patch_size = raster_patch_size\n",
    "faces = make_faces(opt.raster_patch_size, opt.raster_patch_size)\n",
    "\n",
    "loaded =  torch.load(os.path.join(opt.data_dir, \n",
    "            'vert_tri_{}.pth'.format(opt.raster_patch_size)))\n",
    "obj = OrderedDict(OrderedDict([\n",
    "  ('vert_tri_indices', vert_tri_indices),\n",
    "  ('vert_tri_weights', vert_tri_weights),\n",
    "  ('faces', torch.tensor(faces[None])),\n",
    "])\n",
    "file = './data/trimap_{}.pth'.format(opt.raster_patch_size)\n",
    "torch.save(obj, file)"
   ]
  },
  {
   "cell_type": "code",
   "execution_count": 9,
   "metadata": {
    "scrolled": true
   },
   "outputs": [
    {
     "data": {
      "text/plain": [
       "'./data/vert_tri_128.pth'"
      ]
     },
     "execution_count": 9,
     "metadata": {},
     "output_type": "execute_result"
    }
   ],
   "source": [
    "from collections import OrderedDict\n",
    "\n",
    "obj = OrderedDict(OrderedDict([\n",
    "  ('vert_tri_indices', vert_tri_indices),\n",
    "  ('vert_tri_weights', vert_tri_weights),\n",
    "  ('faces', torch.tensor(faces[None])),\n",
    "]))\n",
    "file = './data/vert_tri_{}.pth'.format(opt.raster_patch_size)\n",
    "torch.save(obj, file)\n",
    "file"
   ]
  },
  {
   "cell_type": "code",
   "execution_count": 10,
   "metadata": {
    "scrolled": true
   },
   "outputs": [
    {
     "data": {
      "text/plain": [
       "OrderedDict([('vert_tri_indices',\n",
       "              tensor([[    0,     0,     0,     0,     0,     0],\n",
       "                      [    0,     1,     2,     0,     0,     0],\n",
       "                      [    2,     3,     4,     0,     0,     0],\n",
       "                      ...,\n",
       "                      [32253, 32254, 32255,     0,     0,     0],\n",
       "                      [32255, 32256, 32257,     0,     0,     0],\n",
       "                      [32257,     0,     0,     0,     0,     0]])),\n",
       "             ('vert_tri_weights',\n",
       "              tensor([[[[1.0000],\n",
       "                        [0.0000],\n",
       "                        [0.0000],\n",
       "                        [0.0000],\n",
       "                        [0.0000],\n",
       "                        [0.0000]],\n",
       "              \n",
       "                       [[0.3333],\n",
       "                        [0.3333],\n",
       "                        [0.3333],\n",
       "                        [0.0000],\n",
       "                        [0.0000],\n",
       "                        [0.0000]],\n",
       "              \n",
       "                       [[0.3333],\n",
       "                        [0.3333],\n",
       "                        [0.3333],\n",
       "                        [0.0000],\n",
       "                        [0.0000],\n",
       "                        [0.0000]],\n",
       "              \n",
       "                       ...,\n",
       "              \n",
       "                       [[0.3333],\n",
       "                        [0.3333],\n",
       "                        [0.3333],\n",
       "                        [0.0000],\n",
       "                        [0.0000],\n",
       "                        [0.0000]],\n",
       "              \n",
       "                       [[0.3333],\n",
       "                        [0.3333],\n",
       "                        [0.3333],\n",
       "                        [0.0000],\n",
       "                        [0.0000],\n",
       "                        [0.0000]],\n",
       "              \n",
       "                       [[1.0000],\n",
       "                        [0.0000],\n",
       "                        [0.0000],\n",
       "                        [0.0000],\n",
       "                        [0.0000],\n",
       "                        [0.0000]]]]))])"
      ]
     },
     "execution_count": 10,
     "metadata": {},
     "output_type": "execute_result"
    }
   ],
   "source": [
    "loaded = torch.load(file)\n",
    "loaded"
   ]
  },
  {
   "cell_type": "code",
   "execution_count": 11,
   "metadata": {},
   "outputs": [
    {
     "data": {
      "text/plain": [
       "(torch.Size([16384, 6]), torch.Size([1, 16384, 6, 1]))"
      ]
     },
     "execution_count": 11,
     "metadata": {},
     "output_type": "execute_result"
    }
   ],
   "source": [
    "loaded['vert_tri_indices'].shape, loaded['vert_tri_weights'].shape"
   ]
  },
  {
   "cell_type": "code",
   "execution_count": null,
   "metadata": {},
   "outputs": [],
   "source": [
    "import numpy as np\n",
    "\n",
    "def make_faces(w, h):\n",
    "    mesh_indices = []\n",
    "    for iw  in range(w-1):\n",
    "        for ih in range(h-1):\n",
    "            mesh_indices.append([iw*w+ih, iw*w+ih+1, (iw+1)*w+ih])            \n",
    "            mesh_indices.append([iw*w+ih+1, (iw+1)*w+ih+1, (iw+1)*w+ih])\n",
    "    return np.array(mesh_indices)\n",
    "\n",
    "faces = make_faces(4, 4)\n",
    "faces"
   ]
  }
 ],
 "metadata": {
  "kernelspec": {
   "display_name": "pytorch3d_0.3",
   "language": "python",
   "name": "pytorch3d_0.3"
  },
  "language_info": {
   "codemirror_mode": {
    "name": "ipython",
    "version": 3
   },
   "file_extension": ".py",
   "mimetype": "text/x-python",
   "name": "python",
   "nbconvert_exporter": "python",
   "pygments_lexer": "ipython3",
   "version": "3.8.5"
  }
 },
 "nbformat": 4,
 "nbformat_minor": 4
}
