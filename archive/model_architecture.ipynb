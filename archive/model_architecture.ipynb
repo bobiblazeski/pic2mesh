{
 "cells": [
  {
   "cell_type": "code",
   "execution_count": 1,
   "metadata": {},
   "outputs": [],
   "source": [
    "import torch\n",
    "import torch.nn  as nn\n",
    "import torch.nn.functional as F\n",
    "\n",
    "import torchvision\n",
    "\n",
    "from torchsummary import summary\n",
    "\n",
    "from src.models.guidingNet import GuidingNet"
   ]
  },
  {
   "cell_type": "code",
   "execution_count": 2,
   "metadata": {
    "scrolled": true
   },
   "outputs": [
    {
     "data": {
      "text/plain": [
       "VGG(\n",
       "  (features): Sequential(\n",
       "    (0): Conv2d(3, 64, kernel_size=(3, 3), stride=(1, 1), padding=(1, 1))\n",
       "    (1): BatchNorm2d(64, eps=1e-05, momentum=0.1, affine=True, track_running_stats=True)\n",
       "    (2): ReLU(inplace=True)\n",
       "    (3): MaxPool2d(kernel_size=2, stride=2, padding=0, dilation=1, ceil_mode=False)\n",
       "    (4): Conv2d(64, 128, kernel_size=(3, 3), stride=(1, 1), padding=(1, 1))\n",
       "    (5): BatchNorm2d(128, eps=1e-05, momentum=0.1, affine=True, track_running_stats=True)\n",
       "    (6): ReLU(inplace=True)\n",
       "    (7): MaxPool2d(kernel_size=2, stride=2, padding=0, dilation=1, ceil_mode=False)\n",
       "    (8): Conv2d(128, 256, kernel_size=(3, 3), stride=(1, 1), padding=(1, 1))\n",
       "    (9): BatchNorm2d(256, eps=1e-05, momentum=0.1, affine=True, track_running_stats=True)\n",
       "    (10): ReLU(inplace=True)\n",
       "    (11): Conv2d(256, 256, kernel_size=(3, 3), stride=(1, 1), padding=(1, 1))\n",
       "    (12): BatchNorm2d(256, eps=1e-05, momentum=0.1, affine=True, track_running_stats=True)\n",
       "    (13): ReLU(inplace=True)\n",
       "    (14): MaxPool2d(kernel_size=2, stride=2, padding=0, dilation=1, ceil_mode=False)\n",
       "    (15): Conv2d(256, 512, kernel_size=(3, 3), stride=(1, 1), padding=(1, 1))\n",
       "    (16): BatchNorm2d(512, eps=1e-05, momentum=0.1, affine=True, track_running_stats=True)\n",
       "    (17): ReLU(inplace=True)\n",
       "    (18): Conv2d(512, 512, kernel_size=(3, 3), stride=(1, 1), padding=(1, 1))\n",
       "    (19): BatchNorm2d(512, eps=1e-05, momentum=0.1, affine=True, track_running_stats=True)\n",
       "    (20): ReLU(inplace=True)\n",
       "    (21): MaxPool2d(kernel_size=2, stride=2, padding=0, dilation=1, ceil_mode=False)\n",
       "    (22): Conv2d(512, 512, kernel_size=(3, 3), stride=(1, 1), padding=(1, 1))\n",
       "    (23): BatchNorm2d(512, eps=1e-05, momentum=0.1, affine=True, track_running_stats=True)\n",
       "    (24): ReLU(inplace=True)\n",
       "    (25): Conv2d(512, 512, kernel_size=(3, 3), stride=(1, 1), padding=(1, 1))\n",
       "    (26): BatchNorm2d(512, eps=1e-05, momentum=0.1, affine=True, track_running_stats=True)\n",
       "    (27): ReLU(inplace=True)\n",
       "    (28): MaxPool2d(kernel_size=2, stride=2, padding=0, dilation=1, ceil_mode=False)\n",
       "  )\n",
       "  (avgpool): AdaptiveAvgPool2d(output_size=(7, 7))\n",
       "  (classifier): Sequential(\n",
       "    (0): Linear(in_features=25088, out_features=4096, bias=True)\n",
       "    (1): ReLU(inplace=True)\n",
       "    (2): Dropout(p=0.5, inplace=False)\n",
       "    (3): Linear(in_features=4096, out_features=4096, bias=True)\n",
       "    (4): ReLU(inplace=True)\n",
       "    (5): Dropout(p=0.5, inplace=False)\n",
       "    (6): Linear(in_features=4096, out_features=1000, bias=True)\n",
       "  )\n",
       ")"
      ]
     },
     "execution_count": 2,
     "metadata": {},
     "output_type": "execute_result"
    }
   ],
   "source": [
    "vgg11 = torchvision.models.vgg11_bn(pretrained=True)\n",
    "vgg11"
   ]
  },
  {
   "cell_type": "code",
   "execution_count": 3,
   "metadata": {},
   "outputs": [
    {
     "name": "stdout",
     "output_type": "stream",
     "text": [
      "------------------------------------------------------------------------------------------\n",
      "Layer (type:depth-idx)                   Output Shape              Param #\n",
      "==========================================================================================\n",
      "├─Sequential: 1-1                        [-1, 512, 1, 1]           --\n",
      "|    └─Conv2d: 2-1                       [-1, 64, 32, 32]          1,792\n",
      "|    └─BatchNorm2d: 2-2                  [-1, 64, 32, 32]          128\n",
      "|    └─ReLU: 2-3                         [-1, 64, 32, 32]          --\n",
      "|    └─MaxPool2d: 2-4                    [-1, 64, 16, 16]          --\n",
      "|    └─Conv2d: 2-5                       [-1, 128, 16, 16]         73,856\n",
      "|    └─BatchNorm2d: 2-6                  [-1, 128, 16, 16]         256\n",
      "|    └─ReLU: 2-7                         [-1, 128, 16, 16]         --\n",
      "|    └─MaxPool2d: 2-8                    [-1, 128, 8, 8]           --\n",
      "|    └─Conv2d: 2-9                       [-1, 256, 8, 8]           295,168\n",
      "|    └─BatchNorm2d: 2-10                 [-1, 256, 8, 8]           512\n",
      "|    └─ReLU: 2-11                        [-1, 256, 8, 8]           --\n",
      "|    └─Conv2d: 2-12                      [-1, 256, 8, 8]           590,080\n",
      "|    └─BatchNorm2d: 2-13                 [-1, 256, 8, 8]           512\n",
      "|    └─ReLU: 2-14                        [-1, 256, 8, 8]           --\n",
      "|    └─MaxPool2d: 2-15                   [-1, 256, 4, 4]           --\n",
      "|    └─Conv2d: 2-16                      [-1, 512, 4, 4]           1,180,160\n",
      "|    └─BatchNorm2d: 2-17                 [-1, 512, 4, 4]           1,024\n",
      "|    └─ReLU: 2-18                        [-1, 512, 4, 4]           --\n",
      "|    └─Conv2d: 2-19                      [-1, 512, 4, 4]           2,359,808\n",
      "|    └─BatchNorm2d: 2-20                 [-1, 512, 4, 4]           1,024\n",
      "|    └─ReLU: 2-21                        [-1, 512, 4, 4]           --\n",
      "|    └─MaxPool2d: 2-22                   [-1, 512, 2, 2]           --\n",
      "|    └─Conv2d: 2-23                      [-1, 512, 2, 2]           2,359,808\n",
      "|    └─BatchNorm2d: 2-24                 [-1, 512, 2, 2]           1,024\n",
      "|    └─ReLU: 2-25                        [-1, 512, 2, 2]           --\n",
      "|    └─Conv2d: 2-26                      [-1, 512, 2, 2]           2,359,808\n",
      "|    └─BatchNorm2d: 2-27                 [-1, 512, 2, 2]           1,024\n",
      "|    └─ReLU: 2-28                        [-1, 512, 2, 2]           --\n",
      "|    └─MaxPool2d: 2-29                   [-1, 512, 1, 1]           --\n",
      "├─AdaptiveAvgPool2d: 1-2                 [-1, 512, 7, 7]           --\n",
      "├─Sequential: 1-3                        [-1, 1000]                --\n",
      "|    └─Linear: 2-30                      [-1, 4096]                102,764,544\n",
      "|    └─ReLU: 2-31                        [-1, 4096]                --\n",
      "|    └─Dropout: 2-32                     [-1, 4096]                --\n",
      "|    └─Linear: 2-33                      [-1, 4096]                16,781,312\n",
      "|    └─ReLU: 2-34                        [-1, 4096]                --\n",
      "|    └─Dropout: 2-35                     [-1, 4096]                --\n",
      "|    └─Linear: 2-36                      [-1, 1000]                4,097,000\n",
      "==========================================================================================\n",
      "Total params: 132,868,840\n",
      "Trainable params: 132,868,840\n",
      "Non-trainable params: 0\n",
      "Total mult-adds (M): 409.25\n",
      "------------------------------------------------------------------------------------------\n",
      "Input size (MB): 0.01\n",
      "Forward/backward pass size (MB): 2.38\n",
      "Params size (MB): 506.85\n",
      "Estimated Total Size (MB): 509.25\n",
      "------------------------------------------------------------------------------------------\n"
     ]
    },
    {
     "data": {
      "text/plain": [
       "------------------------------------------------------------------------------------------\n",
       "Layer (type:depth-idx)                   Output Shape              Param #\n",
       "==========================================================================================\n",
       "├─Sequential: 1-1                        [-1, 512, 1, 1]           --\n",
       "|    └─Conv2d: 2-1                       [-1, 64, 32, 32]          1,792\n",
       "|    └─BatchNorm2d: 2-2                  [-1, 64, 32, 32]          128\n",
       "|    └─ReLU: 2-3                         [-1, 64, 32, 32]          --\n",
       "|    └─MaxPool2d: 2-4                    [-1, 64, 16, 16]          --\n",
       "|    └─Conv2d: 2-5                       [-1, 128, 16, 16]         73,856\n",
       "|    └─BatchNorm2d: 2-6                  [-1, 128, 16, 16]         256\n",
       "|    └─ReLU: 2-7                         [-1, 128, 16, 16]         --\n",
       "|    └─MaxPool2d: 2-8                    [-1, 128, 8, 8]           --\n",
       "|    └─Conv2d: 2-9                       [-1, 256, 8, 8]           295,168\n",
       "|    └─BatchNorm2d: 2-10                 [-1, 256, 8, 8]           512\n",
       "|    └─ReLU: 2-11                        [-1, 256, 8, 8]           --\n",
       "|    └─Conv2d: 2-12                      [-1, 256, 8, 8]           590,080\n",
       "|    └─BatchNorm2d: 2-13                 [-1, 256, 8, 8]           512\n",
       "|    └─ReLU: 2-14                        [-1, 256, 8, 8]           --\n",
       "|    └─MaxPool2d: 2-15                   [-1, 256, 4, 4]           --\n",
       "|    └─Conv2d: 2-16                      [-1, 512, 4, 4]           1,180,160\n",
       "|    └─BatchNorm2d: 2-17                 [-1, 512, 4, 4]           1,024\n",
       "|    └─ReLU: 2-18                        [-1, 512, 4, 4]           --\n",
       "|    └─Conv2d: 2-19                      [-1, 512, 4, 4]           2,359,808\n",
       "|    └─BatchNorm2d: 2-20                 [-1, 512, 4, 4]           1,024\n",
       "|    └─ReLU: 2-21                        [-1, 512, 4, 4]           --\n",
       "|    └─MaxPool2d: 2-22                   [-1, 512, 2, 2]           --\n",
       "|    └─Conv2d: 2-23                      [-1, 512, 2, 2]           2,359,808\n",
       "|    └─BatchNorm2d: 2-24                 [-1, 512, 2, 2]           1,024\n",
       "|    └─ReLU: 2-25                        [-1, 512, 2, 2]           --\n",
       "|    └─Conv2d: 2-26                      [-1, 512, 2, 2]           2,359,808\n",
       "|    └─BatchNorm2d: 2-27                 [-1, 512, 2, 2]           1,024\n",
       "|    └─ReLU: 2-28                        [-1, 512, 2, 2]           --\n",
       "|    └─MaxPool2d: 2-29                   [-1, 512, 1, 1]           --\n",
       "├─AdaptiveAvgPool2d: 1-2                 [-1, 512, 7, 7]           --\n",
       "├─Sequential: 1-3                        [-1, 1000]                --\n",
       "|    └─Linear: 2-30                      [-1, 4096]                102,764,544\n",
       "|    └─ReLU: 2-31                        [-1, 4096]                --\n",
       "|    └─Dropout: 2-32                     [-1, 4096]                --\n",
       "|    └─Linear: 2-33                      [-1, 4096]                16,781,312\n",
       "|    └─ReLU: 2-34                        [-1, 4096]                --\n",
       "|    └─Dropout: 2-35                     [-1, 4096]                --\n",
       "|    └─Linear: 2-36                      [-1, 1000]                4,097,000\n",
       "==========================================================================================\n",
       "Total params: 132,868,840\n",
       "Trainable params: 132,868,840\n",
       "Non-trainable params: 0\n",
       "Total mult-adds (M): 409.25\n",
       "------------------------------------------------------------------------------------------\n",
       "Input size (MB): 0.01\n",
       "Forward/backward pass size (MB): 2.38\n",
       "Params size (MB): 506.85\n",
       "Estimated Total Size (MB): 509.25\n",
       "------------------------------------------------------------------------------------------"
      ]
     },
     "execution_count": 3,
     "metadata": {},
     "output_type": "execute_result"
    }
   ],
   "source": [
    "summary(vgg11, (3, 32, 32))"
   ]
  },
  {
   "cell_type": "code",
   "execution_count": null,
   "metadata": {},
   "outputs": [],
   "source": [
    "def creat_reals_pyramid(real,reals,opt):\n",
    "    real = real[:,0:3,:,:]\n",
    "    for i in range(0,opt.stop_scale+1,1):\n",
    "        scale = math.pow(opt.scale_factor,opt.stop_scale-i)\n",
    "        curr_real = imresize(real,scale,opt)\n",
    "        reals.append(curr_real)\n",
    "    return reals"
   ]
  },
  {
   "cell_type": "code",
   "execution_count": 2,
   "metadata": {
    "scrolled": true
   },
   "outputs": [
    {
     "data": {
      "text/plain": [
       "GuidingNet(\n",
       "  (features): Sequential(\n",
       "    (0): Conv2d(3, 64, kernel_size=(3, 3), stride=(1, 1), padding=(1, 1))\n",
       "    (1): BatchNorm2d(64, eps=1e-05, momentum=0.1, affine=True, track_running_stats=True)\n",
       "    (2): ReLU()\n",
       "    (3): MaxPool2d(kernel_size=2, stride=2, padding=0, dilation=1, ceil_mode=False)\n",
       "    (4): Conv2d(64, 128, kernel_size=(3, 3), stride=(1, 1), padding=(1, 1))\n",
       "    (5): BatchNorm2d(128, eps=1e-05, momentum=0.1, affine=True, track_running_stats=True)\n",
       "    (6): ReLU()\n",
       "    (7): MaxPool2d(kernel_size=2, stride=2, padding=0, dilation=1, ceil_mode=False)\n",
       "    (8): Conv2d(128, 256, kernel_size=(3, 3), stride=(1, 1), padding=(1, 1))\n",
       "    (9): BatchNorm2d(256, eps=1e-05, momentum=0.1, affine=True, track_running_stats=True)\n",
       "    (10): ReLU()\n",
       "    (11): Conv2d(256, 256, kernel_size=(3, 3), stride=(1, 1), padding=(1, 1))\n",
       "    (12): BatchNorm2d(256, eps=1e-05, momentum=0.1, affine=True, track_running_stats=True)\n",
       "    (13): ReLU()\n",
       "    (14): MaxPool2d(kernel_size=2, stride=2, padding=0, dilation=1, ceil_mode=False)\n",
       "    (15): Conv2d(256, 512, kernel_size=(3, 3), stride=(1, 1), padding=(1, 1))\n",
       "    (16): BatchNorm2d(512, eps=1e-05, momentum=0.1, affine=True, track_running_stats=True)\n",
       "    (17): ReLU()\n",
       "    (18): Conv2d(512, 512, kernel_size=(3, 3), stride=(1, 1), padding=(1, 1))\n",
       "    (19): BatchNorm2d(512, eps=1e-05, momentum=0.1, affine=True, track_running_stats=True)\n",
       "    (20): ReLU()\n",
       "    (21): MaxPool2d(kernel_size=2, stride=2, padding=0, dilation=1, ceil_mode=False)\n",
       "    (22): Conv2d(512, 512, kernel_size=(3, 3), stride=(1, 1), padding=(1, 1))\n",
       "    (23): BatchNorm2d(512, eps=1e-05, momentum=0.1, affine=True, track_running_stats=True)\n",
       "    (24): ReLU()\n",
       "    (25): Conv2d(512, 512, kernel_size=(3, 3), stride=(1, 1), padding=(1, 1))\n",
       "    (26): BatchNorm2d(512, eps=1e-05, momentum=0.1, affine=True, track_running_stats=True)\n",
       "    (27): ReLU()\n",
       "    (28): MaxPool2d(kernel_size=2, stride=2, padding=0, dilation=1, ceil_mode=False)\n",
       "  )\n",
       "  (disc): Linear(in_features=512, out_features=10, bias=True)\n",
       "  (cont): Linear(in_features=512, out_features=128, bias=True)\n",
       ")"
      ]
     },
     "execution_count": 2,
     "metadata": {},
     "output_type": "execute_result"
    }
   ],
   "source": [
    "guidingNet = GuidingNet()\n",
    "guidingNet"
   ]
  },
  {
   "cell_type": "code",
   "execution_count": 3,
   "metadata": {
    "scrolled": true
   },
   "outputs": [
    {
     "data": {
      "text/plain": [
       "{'cont': tensor([[-4.8382e-01,  8.1034e-02,  9.4387e-02, -3.3312e-01,  1.1611e-01,\n",
       "          -9.4480e-03,  6.3056e-02, -2.1939e-01, -1.5372e-01, -1.9722e-01,\n",
       "           2.5019e-01, -2.3939e-01,  1.0007e-01,  5.1015e-01,  6.7616e-02,\n",
       "           2.4888e-01, -2.0335e-01,  2.3131e-01, -2.5773e-02, -3.8011e-01,\n",
       "          -1.5347e-01,  2.6060e-01,  1.2654e-01, -1.8265e-02,  1.1021e-01,\n",
       "          -6.9091e-02, -2.7028e-01,  2.5938e-04,  5.0199e-01, -1.9544e-01,\n",
       "           7.5486e-02,  1.7804e-01,  4.6379e-01,  5.1320e-02,  1.5491e-01,\n",
       "           2.3889e-01,  2.2620e-01, -5.1508e-02, -2.9735e-01, -8.8635e-02,\n",
       "          -7.3717e-02, -1.2187e-01, -5.3706e-01, -3.8020e-01, -1.7354e-01,\n",
       "          -1.0583e-01,  2.1184e-01, -1.2461e-02,  4.7660e-01,  2.2504e-01,\n",
       "          -1.3281e-01, -2.8166e-01, -5.6271e-02, -4.2535e-01, -6.0716e-02,\n",
       "          -5.6350e-03,  6.0759e-02,  2.1511e-01,  3.3143e-01,  2.3448e-02,\n",
       "           1.2963e-01,  2.4538e-01, -1.0270e-01, -4.8538e-01,  1.7198e-01,\n",
       "          -5.1423e-01, -1.5264e-01,  4.5908e-01, -9.6037e-02, -1.7614e-01,\n",
       "          -1.9987e-01,  9.7108e-02, -1.3220e-01, -3.4750e-01, -4.3402e-02,\n",
       "           2.3577e-01, -1.8576e-02, -3.0906e-01,  2.4165e-02,  3.3249e-01,\n",
       "           1.4860e-01, -5.6266e-02,  3.2161e-01,  8.8168e-02,  3.0592e-01,\n",
       "          -7.0909e-01,  2.0496e-01,  1.7663e-02, -1.3866e-01, -9.3010e-02,\n",
       "          -2.2825e-02,  2.9392e-01,  2.5694e-01,  1.8486e-02,  3.8269e-02,\n",
       "          -4.4946e-02, -7.5045e-02,  5.7285e-01,  3.1789e-01,  5.7671e-01,\n",
       "          -4.0082e-02, -4.7116e-01, -2.5536e-02, -9.4175e-02,  8.0282e-02,\n",
       "          -6.2245e-02,  8.1327e-03, -1.8907e-01,  4.7204e-02,  1.6345e-01,\n",
       "           1.9406e-01, -1.2769e-02,  6.4547e-02,  5.3790e-02,  2.4466e-01,\n",
       "          -1.7652e-02,  2.1436e-01,  3.5675e-01,  3.0309e-01, -1.0573e-01,\n",
       "          -6.8567e-02, -3.3408e-01,  3.3251e-02,  3.4229e-01,  1.2303e-02,\n",
       "          -2.7874e-01, -5.3590e-01, -9.7838e-03]], grad_fn=<AddmmBackward>),\n",
       " 'disc': tensor([[ 0.0120,  0.0822,  0.5742, -0.3059,  0.1240, -0.0744, -0.1694,  0.1122,\n",
       "          -0.2383,  0.2257]], grad_fn=<AddmmBackward>)}"
      ]
     },
     "execution_count": 3,
     "metadata": {},
     "output_type": "execute_result"
    }
   ],
   "source": [
    "guidingNet(torch.rand(1, 3, 64, 64))"
   ]
  },
  {
   "cell_type": "code",
   "execution_count": 4,
   "metadata": {},
   "outputs": [
    {
     "name": "stdout",
     "output_type": "stream",
     "text": [
      "------------------------------------------------------------------------------------------\n",
      "Layer (type:depth-idx)                   Output Shape              Param #\n",
      "==========================================================================================\n",
      "├─Sequential: 1-1                        [-1, 512, 2, 2]           --\n",
      "|    └─Conv2d: 2-1                       [-1, 64, 64, 64]          1,792\n",
      "|    └─BatchNorm2d: 2-2                  [-1, 64, 64, 64]          128\n",
      "|    └─ReLU: 2-3                         [-1, 64, 64, 64]          --\n",
      "|    └─MaxPool2d: 2-4                    [-1, 64, 32, 32]          --\n",
      "|    └─Conv2d: 2-5                       [-1, 128, 32, 32]         73,856\n",
      "|    └─BatchNorm2d: 2-6                  [-1, 128, 32, 32]         256\n",
      "|    └─ReLU: 2-7                         [-1, 128, 32, 32]         --\n",
      "|    └─MaxPool2d: 2-8                    [-1, 128, 16, 16]         --\n",
      "|    └─Conv2d: 2-9                       [-1, 256, 16, 16]         295,168\n",
      "|    └─BatchNorm2d: 2-10                 [-1, 256, 16, 16]         512\n",
      "|    └─ReLU: 2-11                        [-1, 256, 16, 16]         --\n",
      "|    └─Conv2d: 2-12                      [-1, 256, 16, 16]         590,080\n",
      "|    └─BatchNorm2d: 2-13                 [-1, 256, 16, 16]         512\n",
      "|    └─ReLU: 2-14                        [-1, 256, 16, 16]         --\n",
      "|    └─MaxPool2d: 2-15                   [-1, 256, 8, 8]           --\n",
      "|    └─Conv2d: 2-16                      [-1, 512, 8, 8]           1,180,160\n",
      "|    └─BatchNorm2d: 2-17                 [-1, 512, 8, 8]           1,024\n",
      "|    └─ReLU: 2-18                        [-1, 512, 8, 8]           --\n",
      "|    └─Conv2d: 2-19                      [-1, 512, 8, 8]           2,359,808\n",
      "|    └─BatchNorm2d: 2-20                 [-1, 512, 8, 8]           1,024\n",
      "|    └─ReLU: 2-21                        [-1, 512, 8, 8]           --\n",
      "|    └─MaxPool2d: 2-22                   [-1, 512, 4, 4]           --\n",
      "|    └─Conv2d: 2-23                      [-1, 512, 4, 4]           2,359,808\n",
      "|    └─BatchNorm2d: 2-24                 [-1, 512, 4, 4]           1,024\n",
      "|    └─ReLU: 2-25                        [-1, 512, 4, 4]           --\n",
      "|    └─Conv2d: 2-26                      [-1, 512, 4, 4]           2,359,808\n",
      "|    └─BatchNorm2d: 2-27                 [-1, 512, 4, 4]           1,024\n",
      "|    └─ReLU: 2-28                        [-1, 512, 4, 4]           --\n",
      "|    └─MaxPool2d: 2-29                   [-1, 512, 2, 2]           --\n",
      "├─Linear: 1-2                            [-1, 128]                 65,664\n",
      "├─Linear: 1-3                            [-1, 10]                  5,130\n",
      "==========================================================================================\n",
      "Total params: 9,296,778\n",
      "Trainable params: 9,296,778\n",
      "Non-trainable params: 0\n",
      "Total mult-adds (M): 620.35\n",
      "------------------------------------------------------------------------------------------\n",
      "Input size (MB): 0.05\n",
      "Forward/backward pass size (MB): 9.25\n",
      "Params size (MB): 35.46\n",
      "Estimated Total Size (MB): 44.76\n",
      "------------------------------------------------------------------------------------------\n"
     ]
    },
    {
     "data": {
      "text/plain": [
       "------------------------------------------------------------------------------------------\n",
       "Layer (type:depth-idx)                   Output Shape              Param #\n",
       "==========================================================================================\n",
       "├─Sequential: 1-1                        [-1, 512, 2, 2]           --\n",
       "|    └─Conv2d: 2-1                       [-1, 64, 64, 64]          1,792\n",
       "|    └─BatchNorm2d: 2-2                  [-1, 64, 64, 64]          128\n",
       "|    └─ReLU: 2-3                         [-1, 64, 64, 64]          --\n",
       "|    └─MaxPool2d: 2-4                    [-1, 64, 32, 32]          --\n",
       "|    └─Conv2d: 2-5                       [-1, 128, 32, 32]         73,856\n",
       "|    └─BatchNorm2d: 2-6                  [-1, 128, 32, 32]         256\n",
       "|    └─ReLU: 2-7                         [-1, 128, 32, 32]         --\n",
       "|    └─MaxPool2d: 2-8                    [-1, 128, 16, 16]         --\n",
       "|    └─Conv2d: 2-9                       [-1, 256, 16, 16]         295,168\n",
       "|    └─BatchNorm2d: 2-10                 [-1, 256, 16, 16]         512\n",
       "|    └─ReLU: 2-11                        [-1, 256, 16, 16]         --\n",
       "|    └─Conv2d: 2-12                      [-1, 256, 16, 16]         590,080\n",
       "|    └─BatchNorm2d: 2-13                 [-1, 256, 16, 16]         512\n",
       "|    └─ReLU: 2-14                        [-1, 256, 16, 16]         --\n",
       "|    └─MaxPool2d: 2-15                   [-1, 256, 8, 8]           --\n",
       "|    └─Conv2d: 2-16                      [-1, 512, 8, 8]           1,180,160\n",
       "|    └─BatchNorm2d: 2-17                 [-1, 512, 8, 8]           1,024\n",
       "|    └─ReLU: 2-18                        [-1, 512, 8, 8]           --\n",
       "|    └─Conv2d: 2-19                      [-1, 512, 8, 8]           2,359,808\n",
       "|    └─BatchNorm2d: 2-20                 [-1, 512, 8, 8]           1,024\n",
       "|    └─ReLU: 2-21                        [-1, 512, 8, 8]           --\n",
       "|    └─MaxPool2d: 2-22                   [-1, 512, 4, 4]           --\n",
       "|    └─Conv2d: 2-23                      [-1, 512, 4, 4]           2,359,808\n",
       "|    └─BatchNorm2d: 2-24                 [-1, 512, 4, 4]           1,024\n",
       "|    └─ReLU: 2-25                        [-1, 512, 4, 4]           --\n",
       "|    └─Conv2d: 2-26                      [-1, 512, 4, 4]           2,359,808\n",
       "|    └─BatchNorm2d: 2-27                 [-1, 512, 4, 4]           1,024\n",
       "|    └─ReLU: 2-28                        [-1, 512, 4, 4]           --\n",
       "|    └─MaxPool2d: 2-29                   [-1, 512, 2, 2]           --\n",
       "├─Linear: 1-2                            [-1, 128]                 65,664\n",
       "├─Linear: 1-3                            [-1, 10]                  5,130\n",
       "==========================================================================================\n",
       "Total params: 9,296,778\n",
       "Trainable params: 9,296,778\n",
       "Non-trainable params: 0\n",
       "Total mult-adds (M): 620.35\n",
       "------------------------------------------------------------------------------------------\n",
       "Input size (MB): 0.05\n",
       "Forward/backward pass size (MB): 9.25\n",
       "Params size (MB): 35.46\n",
       "Estimated Total Size (MB): 44.76\n",
       "------------------------------------------------------------------------------------------"
      ]
     },
     "execution_count": 4,
     "metadata": {},
     "output_type": "execute_result"
    }
   ],
   "source": [
    "summary(guidingNet, (3, 64, 64))"
   ]
  },
  {
   "cell_type": "code",
   "execution_count": null,
   "metadata": {},
   "outputs": [],
   "source": [
    "# Generator\n"
   ]
  }
 ],
 "metadata": {
  "kernelspec": {
   "display_name": "pytorch3d_0.3",
   "language": "python",
   "name": "pytorch3d_0.3"
  },
  "language_info": {
   "codemirror_mode": {
    "name": "ipython",
    "version": 3
   },
   "file_extension": ".py",
   "mimetype": "text/x-python",
   "name": "python",
   "nbconvert_exporter": "python",
   "pygments_lexer": "ipython3",
   "version": "3.8.5"
  }
 },
 "nbformat": 4,
 "nbformat_minor": 4
}
