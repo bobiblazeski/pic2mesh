{
 "cells": [
  {
   "cell_type": "code",
   "execution_count": 1,
   "metadata": {},
   "outputs": [],
   "source": [
    "import matplotlib.pyplot as plt\n",
    "import torch\n",
    "\n",
    "from pytorch3d.structures import (\n",
    "    Pointclouds,\n",
    "    Meshes,\n",
    ")\n",
    "\n",
    "import torch\n",
    "from pytorch3d.ops import sample_points_from_meshes\n",
    "from pytorch3d.io import load_obj\n",
    "from pytorch3d.structures import (\n",
    "    Pointclouds,\n",
    "    Meshes,\n",
    ")\n",
    "from pytorch3d.renderer import TexturesVertex\n",
    "#from src.renderer import Renderer\n",
    "from src.config import get_parser\n",
    "from src.models.discriminator import Discriminator\n",
    "from src.models.generator import Generator\n",
    "from src.models.stylist import Stylist\n",
    "from src.data.masked_datamodule import MaskedDataModule"
   ]
  },
  {
   "cell_type": "code",
   "execution_count": 2,
   "metadata": {},
   "outputs": [],
   "source": [
    "config = get_parser().parse_args(args=[])\n",
    "\n",
    "# Set the cuda device\n",
    "device = torch.device(\"cuda:0\")\n",
    "torch.cuda.set_device(device)\n",
    "\n",
    "S = Stylist(config).to(device)\n",
    "G = Generator(config).to(device)"
   ]
  },
  {
   "cell_type": "code",
   "execution_count": 3,
   "metadata": {},
   "outputs": [
    {
     "name": "stdout",
     "output_type": "stream",
     "text": [
      "style_img torch.Size([8, 1, 192, 192])\n",
      "img_patch torch.Size([8, 1, 128, 128])\n",
      "points torch.Size([8, 3, 128, 128])\n",
      "normals torch.Size([8, 3, 128, 128])\n"
     ]
    }
   ],
   "source": [
    "mdm = MaskedDataModule(config)    \n",
    "mdm.setup()\n",
    "loader = mdm.train_dataloader()\n",
    "batch = next(iter(loader))\n",
    "for key in batch.keys():\n",
    "    print(key, batch[key].shape)"
   ]
  },
  {
   "cell_type": "code",
   "execution_count": 4,
   "metadata": {},
   "outputs": [],
   "source": [
    "style_img = batch['style_img']\n",
    "img_patch = batch['img_patch']\n",
    "points =  batch['points']\n",
    "normals = batch['normals']   \n",
    "style_img = style_img.to(device)\n",
    "img_patch = img_patch.to(device)\n",
    "points = points.to(device)\n",
    "normals = normals.to(device)"
   ]
  },
  {
   "cell_type": "code",
   "execution_count": 5,
   "metadata": {
    "scrolled": true
   },
   "outputs": [
    {
     "data": {
      "text/plain": [
       "torch.Size([8, 128])"
      ]
     },
     "execution_count": 5,
     "metadata": {},
     "output_type": "execute_result"
    }
   ],
   "source": [
    "style = S(style_img)\n",
    "style.shape"
   ]
  },
  {
   "cell_type": "code",
   "execution_count": 6,
   "metadata": {
    "scrolled": true
   },
   "outputs": [
    {
     "data": {
      "text/plain": [
       "torch.Size([8, 3, 128, 128])"
      ]
     },
     "execution_count": 6,
     "metadata": {},
     "output_type": "execute_result"
    }
   ],
   "source": [
    "vertices = G(points, normals, style)    \n",
    "vertices.shape"
   ]
  },
  {
   "cell_type": "code",
   "execution_count": 7,
   "metadata": {},
   "outputs": [
    {
     "data": {
      "text/plain": [
       "Renderer(\n",
       "  (renderer): ShadingPointsRenderer(\n",
       "    (rasterizer): PointsRasterizer(\n",
       "      (cameras): FoVPerspectiveCameras()\n",
       "    )\n",
       "    (compositor): ShadingCompositor(\n",
       "      (lights): PointLights()\n",
       "      (materials): Materials()\n",
       "      (cameras): FoVPerspectiveCameras()\n",
       "    )\n",
       "  )\n",
       ")"
      ]
     },
     "execution_count": 7,
     "metadata": {},
     "output_type": "execute_result"
    }
   ],
   "source": [
    "import torch \n",
    "\n",
    "from pytorch3d.renderer import (\n",
    "    FoVPerspectiveCameras,\n",
    "    look_at_view_transform,\n",
    "    PointLights,\n",
    "    PointsRasterizer,\n",
    "    PointsRasterizationSettings,\n",
    ")\n",
    "\n",
    "from src.ShadingPointsRenderer import (\n",
    "    ShadingCompositor,\n",
    "    ShadingPointsRenderer,\n",
    ")\n",
    "\n",
    "class Renderer(torch.nn.Module):\n",
    "    def __init__(self, opt):    \n",
    "        super(Renderer, self).__init__()\n",
    "        self.opt = opt\n",
    "    \n",
    "    def to(self, device):\n",
    "        new_self = super(Renderer, self).to(device)\n",
    "        \n",
    "        \n",
    "        R, T = look_at_view_transform(\n",
    "            self.opt.viewpoint_distance, \n",
    "            self.opt.viewpoint_elevation, \n",
    "            self.opt.viewpoint_azimuth, \n",
    "            device=device)\n",
    "        cameras = FoVPerspectiveCameras(\n",
    "            device=device, R=R, T=T)\n",
    "        raster_settings = PointsRasterizationSettings(\n",
    "            image_size= self.opt.raster_image_size, \n",
    "            radius = self.opt.raster_radius,\n",
    "            points_per_pixel = self.opt.raster_points_per_pixel,\n",
    "        )\n",
    "        rasterizer = PointsRasterizer(\n",
    "            cameras= cameras, \n",
    "            raster_settings=raster_settings\n",
    "        )\n",
    "        lights = PointLights(device=device, \n",
    "                             location=[self.opt.lights_location])\n",
    "        compositor = ShadingCompositor(\n",
    "            device=device, \n",
    "            cameras=cameras,\n",
    "            lights=lights\n",
    "        )        \n",
    "        new_self.renderer = ShadingPointsRenderer(\n",
    "            rasterizer=rasterizer,\n",
    "            compositor=compositor,\n",
    "        ) \n",
    "        return new_self\n",
    "    \n",
    "    def __call__(self, point_cloud):\n",
    "        return self.renderer(point_cloud)\n",
    "    \n",
    "R = Renderer(config).to(device)\n",
    "R"
   ]
  },
  {
   "cell_type": "code",
   "execution_count": 8,
   "metadata": {},
   "outputs": [
    {
     "name": "stdout",
     "output_type": "stream",
     "text": [
      "torch.Size([16384, 3]) torch.Size([16384, 3])\n"
     ]
    },
    {
     "data": {
      "image/png": "[encoded data removed]",
      "text/plain": [
       "<Figure size 720x720 with 1 Axes>"
      ]
     },
     "metadata": {
      "needs_background": "light"
     },
     "output_type": "display_data"
    }
   ],
   "source": [
    "pt_points =  points[0].reshape(3, -1).t()#.to(device)\n",
    "pt_normals =  normals[0].reshape(3, -1).t()#.to(device)\n",
    "print(pt_normals.shape, pt_normals.shape)\n",
    "\n",
    "rgb = torch.ones((pt_points.size(0), 4), device=device) - 0.3\n",
    "\n",
    "\n",
    "point_cloud = Pointclouds(points=[pt_points], \n",
    "                          normals=[pt_normals],\n",
    "                          features=[rgb])\n",
    "\n",
    "images = R(point_cloud)\n",
    "plt.figure(figsize=(10, 10))\n",
    "plt.imshow(images[0, ..., :3].cpu().numpy())\n",
    "plt.grid(\"off\")\n",
    "plt.axis(\"off\");"
   ]
  },
  {
   "cell_type": "code",
   "execution_count": 9,
   "metadata": {},
   "outputs": [
    {
     "data": {
      "text/plain": [
       "torch.Size([8, 3, 128, 128])"
      ]
     },
     "execution_count": 9,
     "metadata": {},
     "output_type": "execute_result"
    }
   ],
   "source": [
    "points.shape"
   ]
  },
  {
   "cell_type": "code",
   "execution_count": 10,
   "metadata": {},
   "outputs": [
    {
     "name": "stdout",
     "output_type": "stream",
     "text": [
      "torch.Size([16384, 3]) torch.Size([16384, 3])\n",
      "torch.Size([16384, 3]) torch.Size([16384, 3])\n"
     ]
    },
    {
     "data": {
      "image/png": "[encoded data removed]",
      "text/plain": [
       "<Figure size 720x720 with 1 Axes>"
      ]
     },
     "metadata": {
      "needs_background": "light"
     },
     "output_type": "display_data"
    }
   ],
   "source": [
    "import torch.nn.functional as F\n",
    "\n",
    "pt_points =  points[0].reshape(3, -1).t()#.to(device)\n",
    "pt_normals =  normals[0].reshape(3, -1).t()#.to(device)\n",
    "print(pt_normals.shape, pt_normals.shape)\n",
    "\n",
    "\n",
    "#  'nearest' | 'linear' | 'bilinear' | 'bicubic' |\n",
    "scaled_points = F.interpolate(points, scale_factor=1, mode='bicubic', align_corners=True)\n",
    "scaled_normals = F.interpolate(normals, scale_factor=1, mode='bicubic', align_corners=True)\n",
    "\n",
    "pt_points =  scaled_points[0].reshape(3, -1).t()#.to(device)\n",
    "pt_normals =  scaled_normals[0].reshape(3, -1).t()#.to(device)\n",
    "print(pt_normals.shape, pt_normals.shape)\n",
    "rgb = torch.ones((pt_points.size(0), 4), device=device) - 0.3\n",
    "point_cloud = Pointclouds(points=[pt_points], \n",
    "                          normals=[pt_normals],\n",
    "                          features=[rgb])\n",
    "\n",
    "images = R(point_cloud)\n",
    "plt.figure(figsize=(10, 10))\n",
    "plt.imshow(images[0, ..., :3].cpu().numpy())\n",
    "plt.grid(\"off\")\n",
    "plt.axis(\"off\");"
   ]
  },
  {
   "cell_type": "code",
   "execution_count": 11,
   "metadata": {},
   "outputs": [
    {
     "data": {
      "text/plain": [
       "torch.Size([8, 3, 128, 128])"
      ]
     },
     "execution_count": 11,
     "metadata": {},
     "output_type": "execute_result"
    }
   ],
   "source": [
    "vertices = G(scaled_points, scaled_normals, style)    \n",
    "vertices.shape"
   ]
  },
  {
   "cell_type": "code",
   "execution_count": 12,
   "metadata": {},
   "outputs": [
    {
     "data": {
      "text/html": [
       "        <script type=\"text/javascript\">\n",
       "        window.PlotlyConfig = {MathJaxConfig: 'local'};\n",
       "        if (window.MathJax) {MathJax.Hub.Config({SVG: {font: \"STIX-Web\"}});}\n",
       "        if (typeof require !== 'undefined') {\n",
       "        require.undef(\"plotly\");\n",
       "        requirejs.config({\n",
       "            paths: {\n",
       "                'plotly': ['https://cdn.plot.ly/plotly-latest.min']\n",
       "            }\n",
       "        });\n",
       "        require(['plotly'], function(Plotly) {\n",
       "            window._Plotly = Plotly;\n",
       "        });\n",
       "        }\n",
       "        </script>\n",
       "        "
      ]
     },
     "metadata": {},
     "output_type": "display_data"
    },
    {
     "data": {
      "text/html": [
       "        <script type=\"text/javascript\">\n",
       "        window.PlotlyConfig = {MathJaxConfig: 'local'};\n",
       "        if (window.MathJax) {MathJax.Hub.Config({SVG: {font: \"STIX-Web\"}});}\n",
       "        if (typeof require !== 'undefined') {\n",
       "        require.undef(\"plotly\");\n",
       "        requirejs.config({\n",
       "            paths: {\n",
       "                'plotly': ['https://cdn.plot.ly/plotly-latest.min']\n",
       "            }\n",
       "        });\n",
       "        require(['plotly'], function(Plotly) {\n",
       "            window._Plotly = Plotly;\n",
       "        });\n",
       "        }\n",
       "        </script>\n",
       "        "
      ]
     },
     "metadata": {},
     "output_type": "display_data"
    },
    {
     "data": {
      "text/html": [
       "        <script type=\"text/javascript\">\n",
       "        window.PlotlyConfig = {MathJaxConfig: 'local'};\n",
       "        if (window.MathJax) {MathJax.Hub.Config({SVG: {font: \"STIX-Web\"}});}\n",
       "        if (typeof require !== 'undefined') {\n",
       "        require.undef(\"plotly\");\n",
       "        requirejs.config({\n",
       "            paths: {\n",
       "                'plotly': ['https://cdn.plot.ly/plotly-latest.min']\n",
       "            }\n",
       "        });\n",
       "        require(['plotly'], function(Plotly) {\n",
       "            window._Plotly = Plotly;\n",
       "        });\n",
       "        }\n",
       "        </script>\n",
       "        "
      ]
     },
     "metadata": {},
     "output_type": "display_data"
    },
    {
     "data": {
      "text/html": [
       "        <script type=\"text/javascript\">\n",
       "        window.PlotlyConfig = {MathJaxConfig: 'local'};\n",
       "        if (window.MathJax) {MathJax.Hub.Config({SVG: {font: \"STIX-Web\"}});}\n",
       "        if (typeof require !== 'undefined') {\n",
       "        require.undef(\"plotly\");\n",
       "        requirejs.config({\n",
       "            paths: {\n",
       "                'plotly': ['https://cdn.plot.ly/plotly-latest.min']\n",
       "            }\n",
       "        });\n",
       "        require(['plotly'], function(Plotly) {\n",
       "            window._Plotly = Plotly;\n",
       "        });\n",
       "        }\n",
       "        </script>\n",
       "        "
      ]
     },
     "metadata": {},
     "output_type": "display_data"
    },
    {
     "data": {
      "text/plain": [
       "tensor([[    0,     1,   128],\n",
       "        [    1,   129,   128],\n",
       "        [    1,     2,   129],\n",
       "        ...,\n",
       "        [16254, 16382, 16381],\n",
       "        [16254, 16255, 16382],\n",
       "        [16255, 16383, 16382]])"
      ]
     },
     "execution_count": 12,
     "metadata": {},
     "output_type": "execute_result"
    }
   ],
   "source": [
    "from src.util import make_faces\n",
    "_, _, w, h = vertices.shape\n",
    "faces = torch.tensor(make_faces(w, h)).cpu()\n",
    "faces"
   ]
  },
  {
   "cell_type": "code",
   "execution_count": 20,
   "metadata": {},
   "outputs": [
    {
     "data": {
      "text/plain": [
       "<pytorch3d.structures.meshes.Meshes at 0x7f3cc968cd30>"
      ]
     },
     "execution_count": 20,
     "metadata": {},
     "output_type": "execute_result"
    }
   ],
   "source": [
    "from pytorch3d.structures import Meshes\n",
    "\n",
    "\n",
    "mesh = Meshes(verts=[vertices[0].reshape(3, -1).t().cpu()], faces=[faces])\n",
    "mesh"
   ]
  },
  {
   "cell_type": "code",
   "execution_count": 19,
   "metadata": {},
   "outputs": [
    {
     "data": {
      "text/plain": [
       "(torch.Size([8, 3, 128, 128]), torch.Size([16384, 3]))"
      ]
     },
     "execution_count": 19,
     "metadata": {},
     "output_type": "execute_result"
    }
   ],
   "source": [
    "vertices.shape, vertices[0].reshape(3, -1).t().shape"
   ]
  },
  {
   "cell_type": "code",
   "execution_count": 24,
   "metadata": {},
   "outputs": [
    {
     "data": {
      "text/plain": [
       "torch.Size([16384, 3])"
      ]
     },
     "execution_count": 24,
     "metadata": {},
     "output_type": "execute_result"
    }
   ],
   "source": [
    "mesh.verts_normals_list()[0].shape"
   ]
  },
  {
   "cell_type": "code",
   "execution_count": 28,
   "metadata": {},
   "outputs": [
    {
     "name": "stdout",
     "output_type": "stream",
     "text": [
      "torch.Size([16384, 3]) torch.Size([16384, 3])\n"
     ]
    },
    {
     "data": {
      "image/png": "[encoded data removed]",
      "text/plain": [
       "<Figure size 720x720 with 1 Axes>"
      ]
     },
     "metadata": {
      "needs_background": "light"
     },
     "output_type": "display_data"
    }
   ],
   "source": [
    "from src.util import make_faces\n",
    "_, _, w, h = vertices.shape\n",
    "faces = torch.tensor(make_faces(w, h)).cpu()\n",
    "\n",
    "gen_points =  vertices[0].reshape(3, -1).t()\n",
    "\n",
    "mesh = Meshes(verts=[vertices[0].reshape(3, -1).t().detach().cpu()], faces=[faces])\n",
    "\n",
    "\n",
    "gen_normals =  mesh.verts_normals_list()[0].to(device)\n",
    "print(pt_normals.shape, pt_normals.shape)\n",
    "rgb = torch.ones((gen_points.size(0), 4), device=device) - 0.3\n",
    "point_cloud = Pointclouds(points=[gen_points], \n",
    "                          normals=[gen_normals],\n",
    "                          features=[rgb])\n",
    "\n",
    "images = R(point_cloud)\n",
    "plt.figure(figsize=(10, 10))\n",
    "plt.imshow(images[0, ..., :3].cpu().detach().numpy())\n",
    "plt.grid(\"off\")\n",
    "plt.axis(\"off\");"
   ]
  },
  {
   "cell_type": "code",
   "execution_count": 25,
   "metadata": {},
   "outputs": [
    {
     "data": {
      "text/plain": [
       "tensor([[-0.4589,  0.3760,  0.8050],\n",
       "        [ 0.1291, -0.5620, -0.8170],\n",
       "        [ 0.4577, -0.0175, -0.8889],\n",
       "        ...,\n",
       "        [ 0.9751,  0.1932,  0.1085],\n",
       "        [-0.0477, -0.9330, -0.3567],\n",
       "        [ 0.3152,  0.1789, -0.9320]], grad_fn=<SplitWithSizesBackward>)"
      ]
     },
     "execution_count": 25,
     "metadata": {},
     "output_type": "execute_result"
    }
   ],
   "source": [
    "mesh.verts_normals_list()[0]"
   ]
  },
  {
   "cell_type": "code",
   "execution_count": null,
   "metadata": {},
   "outputs": [],
   "source": []
  }
 ],
 "metadata": {
  "kernelspec": {
   "display_name": "pytorch3d_0.3",
   "language": "python",
   "name": "pytorch3d_0.3"
  },
  "language_info": {
   "codemirror_mode": {
    "name": "ipython",
    "version": 3
   },
   "file_extension": ".py",
   "mimetype": "text/x-python",
   "name": "python",
   "nbconvert_exporter": "python",
   "pygments_lexer": "ipython3",
   "version": "3.8.5"
  }
 },
 "nbformat": 4,
 "nbformat_minor": 4
}
