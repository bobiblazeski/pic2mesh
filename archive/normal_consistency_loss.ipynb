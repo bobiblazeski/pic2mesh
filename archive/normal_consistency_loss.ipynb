{
 "cells": [
  {
   "cell_type": "code",
   "execution_count": 2,
   "metadata": {},
   "outputs": [
    {
     "data": {
      "text/plain": [
       "(torch.Size([1, 3, 640, 640]), torch.Size([1, 3, 640, 640]))"
      ]
     },
     "execution_count": 2,
     "metadata": {},
     "output_type": "execute_result"
    }
   ],
   "source": [
    "import os\n",
    "import numpy as np\n",
    "import torch\n",
    "import torch.nn.functional as F\n",
    "from src.config import get_parser\n",
    "from src.util import make_faces\n",
    "from pytorch3d.structures import Meshes\n",
    "\n",
    "config = get_parser().parse_args(args=[])\n",
    "\n",
    "blueprint = np.load(os.path.join(config.data_dir, config.blueprint)) \n",
    "points = torch.tensor(blueprint['points'])\n",
    "normals = torch.tensor(blueprint['normals'])\n",
    "points = F.interpolate(points, size=config.data_blueprint_size,\n",
    "                               mode='bicubic', align_corners=True)\n",
    "normals = F.interpolate(normals, size=config.data_blueprint_size, \n",
    "                        mode='bicubic', align_corners=True)\n",
    "normals = F.normalize(normals,  p=2, dim=1)\n",
    "points.shape, normals.shape"
   ]
  },
  {
   "cell_type": "code",
   "execution_count": 10,
   "metadata": {},
   "outputs": [
    {
     "data": {
      "text/plain": [
       "tensor(1.)"
      ]
     },
     "execution_count": 10,
     "metadata": {},
     "output_type": "execute_result"
    }
   ],
   "source": [
    "cos_sim = torch.cosine_similarity(normals, normals)\n",
    "cos_sim.sum() / cos_sim.numel()"
   ]
  },
  {
   "cell_type": "code",
   "execution_count": 14,
   "metadata": {},
   "outputs": [
    {
     "data": {
      "text/plain": [
       "tensor(0.9900)"
      ]
     },
     "execution_count": 14,
     "metadata": {},
     "output_type": "execute_result"
    }
   ],
   "source": [
    "wt = 0.1\n",
    "cos_sim = torch.cosine_similarity(normals, normals + wt * torch.randn_like(normals))\n",
    "cos_sim.sum() / cos_sim.numel()"
   ]
  },
  {
   "cell_type": "code",
   "execution_count": 15,
   "metadata": {},
   "outputs": [
    {
     "ename": "RuntimeError",
     "evalue": "1D tensors expected, but got 4D and 4D tensors",
     "output_type": "error",
     "traceback": [
      "\u001b[0;31m---------------------------------------------------------------------------\u001b[0m",
      "\u001b[0;31mRuntimeError\u001b[0m                              Traceback (most recent call last)",
      "\u001b[0;32m<ipython-input-15-a0198452f59e>\u001b[0m in \u001b[0;36m<module>\u001b[0;34m\u001b[0m\n\u001b[0;32m----> 1\u001b[0;31m \u001b[0mtorch\u001b[0m\u001b[0;34m.\u001b[0m\u001b[0mdot\u001b[0m\u001b[0;34m(\u001b[0m\u001b[0mnormals\u001b[0m\u001b[0;34m,\u001b[0m \u001b[0mnormals\u001b[0m\u001b[0;34m)\u001b[0m\u001b[0;34m\u001b[0m\u001b[0;34m\u001b[0m\u001b[0m\n\u001b[0m",
      "\u001b[0;31mRuntimeError\u001b[0m: 1D tensors expected, but got 4D and 4D tensors"
     ]
    }
   ],
   "source": [
    "torch.dot(normals, normals)"
   ]
  },
  {
   "cell_type": "code",
   "execution_count": 17,
   "metadata": {},
   "outputs": [
    {
     "data": {
      "text/plain": [
       "tensor(-0.9900)"
      ]
     },
     "execution_count": 17,
     "metadata": {},
     "output_type": "execute_result"
    }
   ],
   "source": [
    "cos_sim = torch.cosine_similarity(normals, -(normals + wt * torch.randn_like(normals)))\n",
    "cos_sim.sum() / cos_sim.numel()"
   ]
  },
  {
   "cell_type": "code",
   "execution_count": null,
   "metadata": {},
   "outputs": [],
   "source": [
    "torch.bmm(A.view(6, 1, 256), B.view(6, 256, 1)) "
   ]
  },
  {
   "cell_type": "code",
   "execution_count": 21,
   "metadata": {},
   "outputs": [
    {
     "data": {
      "text/plain": [
       "tensor([[[ 2.2519e+05,  4.1372e+02, -1.8156e+02],\n",
       "         [ 4.1372e+02,  8.0160e+04,  9.0691e+03],\n",
       "         [-1.8156e+02,  9.0691e+03,  1.0425e+05]]])"
      ]
     },
     "execution_count": 21,
     "metadata": {},
     "output_type": "execute_result"
    }
   ],
   "source": [
    "norms = normals.reshape(1, 3, -1)\n",
    "\n",
    "torch.bmm(norms, norms.permute(0, 2, 1))"
   ]
  },
  {
   "cell_type": "code",
   "execution_count": 20,
   "metadata": {},
   "outputs": [
    {
     "data": {
      "text/plain": [
       "torch.Size([1, 3, 409600])"
      ]
     },
     "execution_count": 20,
     "metadata": {},
     "output_type": "execute_result"
    }
   ],
   "source": [
    "norms.shape"
   ]
  },
  {
   "cell_type": "code",
   "execution_count": 22,
   "metadata": {},
   "outputs": [
    {
     "name": "stdout",
     "output_type": "stream",
     "text": [
      "-1.0 2.0\n",
      "-0.5 1.5\n",
      "0.0 1.0\n",
      "0.5 0.5\n",
      "1.0 -0.0\n"
     ]
    }
   ],
   "source": [
    "for i in [-1., -0.5, 0., 0.5, 1.0]:\n",
    "    print(i, -(i-1))"
   ]
  },
  {
   "cell_type": "code",
   "execution_count": null,
   "metadata": {},
   "outputs": [],
   "source": []
  }
 ],
 "metadata": {
  "kernelspec": {
   "display_name": "pytorch3d_0.3",
   "language": "python",
   "name": "pytorch3d_0.3"
  },
  "language_info": {
   "codemirror_mode": {
    "name": "ipython",
    "version": 3
   },
   "file_extension": ".py",
   "mimetype": "text/x-python",
   "name": "python",
   "nbconvert_exporter": "python",
   "pygments_lexer": "ipython3",
   "version": "3.8.5"
  }
 },
 "nbformat": 4,
 "nbformat_minor": 4
}
