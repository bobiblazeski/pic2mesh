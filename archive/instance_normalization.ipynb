{
 "cells": [
  {
   "cell_type": "code",
   "execution_count": 1,
   "metadata": {},
   "outputs": [],
   "source": [
    "#Import packages\n",
    "import numpy as np\n",
    "import matplotlib.pyplot as plt\n",
    "from functools import partial"
   ]
  },
  {
   "cell_type": "code",
   "execution_count": 2,
   "metadata": {},
   "outputs": [
    {
     "data": {
      "text/plain": [
       "((1000,), 0.5925166510395966, 2.2965173294272496)"
      ]
     },
     "execution_count": 2,
     "metadata": {},
     "output_type": "execute_result"
    }
   ],
   "source": [
    "scale = 4.1\n",
    "bias = -13\n",
    "\n",
    "# Random data\n",
    "data = np.random.normal(0.7, 2.3, [1000])\n",
    "\n",
    "# Normalize data\n",
    "normalized_data = (data - np.mean(data)) / np.std(data)\n",
    "\n",
    "data.shape, np.mean(data), np.std(data)"
   ]
  },
  {
   "cell_type": "code",
   "execution_count": 3,
   "metadata": {},
   "outputs": [
    {
     "data": {
      "image/png": "[encoded data removed]",
      "text/plain": [
       "<Figure size 432x288 with 1 Axes>"
      ]
     },
     "metadata": {
      "needs_background": "light"
     },
     "output_type": "display_data"
    }
   ],
   "source": [
    "# Scale and bias data\n",
    "new_data = (normalized_data * scale) + bias\n",
    "\n",
    "\n",
    "# Plot data \n",
    "plt.hist(data, bins= 20)\n",
    "\n",
    "plt.hist(normalized_data, bins = 20)\n",
    "\n",
    "plt.hist(new_data, bins=20)\n",
    "\n",
    "plt.show()"
   ]
  },
  {
   "cell_type": "code",
   "execution_count": null,
   "metadata": {},
   "outputs": [],
   "source": [
    "# Fully-connected layer.\n",
    "\n",
    "def dense_layer(x, fmaps, gain=1, use_wscale=True, lrmul=1, weight_var='weight'):\n",
    "    if len(x.shape) > 2:\n",
    "        x = tf.reshape(x, [-1, np.prod([d.value for d in x.shape[1:]])])\n",
    "    # 定义一个权重张量w\n",
    "    w = get_weight([x.shape[1].value, fmaps], gain=gain, use_wscale=use_wscale, lrmul=lrmul, weight_var=weight_var)\n",
    "    w = tf.cast(w, x.dtype)\n",
    "    return tf.matmul(x, w)  # 输入x与权重张量w，矩阵相乘\n",
    "\n",
    "......\n",
    "\n",
    "# Modulated convolution layer.\n",
    "\n",
    "def modulated_conv2d_layer(x, y, fmaps, kernel, up=False, down=False, demodulate=True, resample_kernel=None, \n",
    "                           gain=1, use_wscale=True, lrmul=1, fused_modconv=True, weight_var='weight', \n",
    "                           mod_weight_var='mod_weight', mod_bias_var='mod_bias'):\n",
    "    assert not (up and down)\n",
    "    assert kernel >= 1 and kernel % 2 == 1\n",
    "\n",
    "    # Get weight.\n",
    "    # 定义权重w\n",
    "    w = get_weight([kernel, kernel, x.shape[1].value, fmaps], gain=gain, use_wscale=use_wscale, \n",
    "                   lrmul=lrmul, weight_var=weight_var)\n",
    "    ww = w[np.newaxis] # [BkkIO] Introduce minibatch dimension.\n",
    "\n",
    "    # Modulate.\n",
    "    s = dense_layer(y, fmaps=x.shape[1].value, weight_var=mod_weight_var) # [BI] Transform incoming W to style.\n",
    "    s = apply_bias_act(s, bias_var=mod_bias_var) + 1 # [BI] Add bias (initially 1).\n",
    "    ww *= tf.cast(s[:, np.newaxis, np.newaxis, :, np.newaxis], w.dtype) # [BkkIO] Scale input feature maps.\n",
    "\n",
    "    # Demodulate.\n",
    "    if demodulate:\n",
    "        d = tf.rsqrt(tf.reduce_sum(tf.square(ww), axis=[1,2,3]) + 1e-8) # [BO] Scaling factor.\n",
    "        ww *= d[:, np.newaxis, np.newaxis, np.newaxis, :] # [BkkIO] Scale output feature maps."
   ]
  }
 ],
 "metadata": {
  "kernelspec": {
   "display_name": "pytorch3d_0.3",
   "language": "python",
   "name": "pytorch3d_0.3"
  },
  "language_info": {
   "codemirror_mode": {
    "name": "ipython",
    "version": 3
   },
   "file_extension": ".py",
   "mimetype": "text/x-python",
   "name": "python",
   "nbconvert_exporter": "python",
   "pygments_lexer": "ipython3",
   "version": "3.8.5"
  }
 },
 "nbformat": 4,
 "nbformat_minor": 4
}
