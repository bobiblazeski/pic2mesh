{
 "cells": [
  {
   "cell_type": "code",
   "execution_count": 11,
   "metadata": {},
   "outputs": [
    {
     "name": "stdout",
     "output_type": "stream",
     "text": [
      "torch.Size([16, 3, 512, 512])\n"
     ]
    },
    {
     "data": {
      "text/plain": [
       "<__main__.Trainer at 0x7f9ecc4e60a0>"
      ]
     },
     "execution_count": 11,
     "metadata": {},
     "output_type": "execute_result"
    }
   ],
   "source": [
    "import torch\n",
    "import torch.nn as nn\n",
    "\n",
    "from src.data.adversarial import AdversarialDataProvider\n",
    "from src.data.reconstruction import ReconstructionDataProvider\n",
    "from src.models.stylist import Stylist\n",
    "from src.models.generator import Generator\n",
    "from src.models.discriminator import Discriminator\n",
    "from src.render.mesh_renderer import MeshPointsRenderer\n",
    "\n",
    "class Trainer:\n",
    "    \n",
    "    def __init__(self, config):\n",
    "        self.G_noise_amp =  config.G_noise_amp\n",
    "        self.z_size = config.latent_size\n",
    "        \n",
    "        self.device = torch.device(\"cuda\")\n",
    "        \n",
    "        # Data providers\n",
    "        self.RDP = ReconstructionDataProvider(config)\n",
    "        self.ADP = AdversarialDataProvider(config)\n",
    "        \n",
    "        self.S = Stylist(config).to(self.device)\n",
    "        self.G = Generator(config).to(self.device)\n",
    "        self.D = Discriminator(config).to(self.device)\n",
    "        self.R = MeshPointsRenderer(config).to(self.device)\n",
    "        self.R.setup(self.device)\n",
    "        \n",
    "        # Optimizers\n",
    "        self.optim_G = torch.optim.Adam(self.G.parameters())\n",
    "        self.optim_S = torch.optim.Adam(self.S.parameters())\n",
    "        self.optim_D = torch.optim.Adam(self.D.parameters())\n",
    "        # Loss functions\n",
    "        self.adversarial_loss = nn.BCELoss()\n",
    "        self.reconstruction_loss = nn.L1Loss()\n",
    "        \n",
    "    def step(self):\n",
    "        pass\n",
    "        \n",
    "    \n",
    "    def adversarial_step(self):\n",
    "        batch, mean_std = self.ADP.next_batch(labels=True, device=self.device)\n",
    "        images, points = batch['large'], batch['points'] # ?????\n",
    "        label_real = batch['label_real']\n",
    "        label_fake = batch['label_fake']\n",
    "        \n",
    "        # (1) Update Discriminator\n",
    "        ## Train with all-real batch\n",
    "        self.optim_D.zero_grad()\n",
    "        output = self.D(images)        \n",
    "        errD_real =  self.adversarial_loss(output, label_real)\n",
    "        errD_real.backward()\n",
    "        D_x = output.mean().item() \n",
    "        \n",
    "        ## Train with all-fake batch\n",
    "        style = self.S(images)\n",
    "        pts =  self.G(points, style)\n",
    "        g_images = self.R(pts, mean_std=mean_std)                \n",
    "        output = self.D(g_images.detach())  \n",
    "        errD_fake = self.adversarial_loss(output, label_fake)    \n",
    "        errD_fake.backward()\n",
    "        \n",
    "        self.optim_D.step()\n",
    "        \n",
    "        # (2) Update Generator and Stylist\n",
    "        self.optim_S.zero_grad()\n",
    "        self.optim_G.zero_grad()\n",
    "        \n",
    "        output = self.D(g_images)    \n",
    "        errG = self.adversarial_loss(output, label_real)\n",
    "        errG.backward()\n",
    "        \n",
    "        self.optim_S.step()\n",
    "        self.optim_G.step()\n",
    "        \n",
    "    def reconstruction_step(self):\n",
    "        batch = self.RDP.next_batch(self.device)        \n",
    "        pts_fine = batch['points']\n",
    "        bs = pts_fine.size(0)\n",
    "        \n",
    "        pts_noise = pts_fine + torch.randn_like(pts_fine) * self.G_noise_amp\n",
    "        style = torch.zeros(bs, self.z_size, device=self.device)\n",
    "        \n",
    "        self.optim_G.zero_grad()\n",
    "        \n",
    "        vertices = self.G(pts_noise, style)\n",
    "        errG_rec = self.reconstruction_loss(vertices, pts_fine)\n",
    "        \n",
    "        errG_rec.backward()\n",
    "        \n",
    "        self.optim_G.step()\n",
    "\n",
    "\n",
    "from src.config import get_parser\n",
    "\n",
    "config = get_parser().parse_args(args=[])    \n",
    "trainer = Trainer(config)\n",
    "trainer"
   ]
  },
  {
   "cell_type": "code",
   "execution_count": 7,
   "metadata": {
    "scrolled": true
   },
   "outputs": [
    {
     "name": "stdout",
     "output_type": "stream",
     "text": [
      "torch.Size([8, 128, 128, 4])\n"
     ]
    }
   ],
   "source": [
    "trainer.adversarial_step()"
   ]
  },
  {
   "cell_type": "code",
   "execution_count": 10,
   "metadata": {},
   "outputs": [
    {
     "ename": "NameError",
     "evalue": "name 'bs' is not defined",
     "output_type": "error",
     "traceback": [
      "\u001b[0;31m---------------------------------------------------------------------------\u001b[0m",
      "\u001b[0;31mNameError\u001b[0m                                 Traceback (most recent call last)",
      "\u001b[0;32m<ipython-input-10-447ebc4bc2d2>\u001b[0m in \u001b[0;36m<module>\u001b[0;34m\u001b[0m\n\u001b[0;32m----> 1\u001b[0;31m \u001b[0mtrainer\u001b[0m\u001b[0;34m.\u001b[0m\u001b[0mreconstruction_step\u001b[0m\u001b[0;34m(\u001b[0m\u001b[0;34m)\u001b[0m\u001b[0;34m\u001b[0m\u001b[0;34m\u001b[0m\u001b[0m\n\u001b[0m",
      "\u001b[0;32m<ipython-input-9-ea867f6b393e>\u001b[0m in \u001b[0;36mreconstruction_step\u001b[0;34m(self)\u001b[0m\n\u001b[1;32m     80\u001b[0m \u001b[0;34m\u001b[0m\u001b[0m\n\u001b[1;32m     81\u001b[0m         \u001b[0mpts_noise\u001b[0m \u001b[0;34m=\u001b[0m \u001b[0mpts_fine\u001b[0m \u001b[0;34m+\u001b[0m \u001b[0mtorch\u001b[0m\u001b[0;34m.\u001b[0m\u001b[0mrandn_like\u001b[0m\u001b[0;34m(\u001b[0m\u001b[0mpts_fine\u001b[0m\u001b[0;34m)\u001b[0m \u001b[0;34m*\u001b[0m \u001b[0mself\u001b[0m\u001b[0;34m.\u001b[0m\u001b[0mG_noise_amp\u001b[0m\u001b[0;34m\u001b[0m\u001b[0;34m\u001b[0m\u001b[0m\n\u001b[0;32m---> 82\u001b[0;31m         \u001b[0mstyle\u001b[0m \u001b[0;34m=\u001b[0m \u001b[0mtorch\u001b[0m\u001b[0;34m.\u001b[0m\u001b[0mzeros\u001b[0m\u001b[0;34m(\u001b[0m\u001b[0mbs\u001b[0m\u001b[0;34m,\u001b[0m \u001b[0mself\u001b[0m\u001b[0;34m.\u001b[0m\u001b[0mz_size\u001b[0m\u001b[0;34m,\u001b[0m \u001b[0mdevice\u001b[0m\u001b[0;34m=\u001b[0m\u001b[0mself\u001b[0m\u001b[0;34m.\u001b[0m\u001b[0mdevice\u001b[0m\u001b[0;34m)\u001b[0m\u001b[0;34m\u001b[0m\u001b[0;34m\u001b[0m\u001b[0m\n\u001b[0m\u001b[1;32m     83\u001b[0m \u001b[0;34m\u001b[0m\u001b[0m\n\u001b[1;32m     84\u001b[0m         \u001b[0mself\u001b[0m\u001b[0;34m.\u001b[0m\u001b[0moptim_G\u001b[0m\u001b[0;34m.\u001b[0m\u001b[0mzero_grad\u001b[0m\u001b[0;34m(\u001b[0m\u001b[0;34m)\u001b[0m\u001b[0;34m\u001b[0m\u001b[0;34m\u001b[0m\u001b[0m\n",
      "\u001b[0;31mNameError\u001b[0m: name 'bs' is not defined"
     ]
    }
   ],
   "source": [
    "trainer.reconstruction_step()"
   ]
  },
  {
   "cell_type": "code",
   "execution_count": 4,
   "metadata": {},
   "outputs": [
    {
     "name": "stdout",
     "output_type": "stream",
     "text": [
      "torch.Size([8, 128, 128, 4])\n"
     ]
    }
   ],
   "source": [
    "self = trainer\n",
    "\n",
    "batch, mean_std = self.ADP.next_batch(labels=True, device=self.device)\n",
    "images, points = batch['large'], batch['points'] # ?????\n",
    "label_real = batch['label_real']\n",
    "label_fake = batch['label_fake']\n",
    "\n",
    "# (1) Update Discriminator\n",
    "## Train with all-real batch\n",
    "self.optim_D.zero_grad()\n",
    "output = self.D(images)        \n",
    "errD_real =  self.adversarial_loss(output, label_real)\n",
    "errD_real.backward()\n",
    "D_x = output.mean().item() \n",
    "\n",
    "## Train with all-fake batch\n",
    "style = self.S(images)\n",
    "pts =  self.G(points, style)\n",
    "g_images = self.R(pts, mean_std=mean_std)\n",
    "#g_img_clone =  g_images.contiguous().detach()\n",
    "output = self.D(g_images.detach())        \n",
    "errD_fake = self.adversarial_loss(output, label_fake)    \n",
    "errD_fake.backward()\n",
    "\n",
    "self.optim_D.step()\n",
    "\n",
    "# (2) Update Generator and Stylist\n",
    "self.optim_S.zero_grad()\n",
    "self.optim_G.zero_grad()\n",
    "\n",
    "output = self.D(g_images)    \n",
    "errG = self.adversarial_loss(output, label_real)\n",
    "errG.backward()\n",
    "\n",
    "self.optim_S.step()\n",
    "self.optim_G.step()"
   ]
  },
  {
   "cell_type": "code",
   "execution_count": 8,
   "metadata": {},
   "outputs": [
    {
     "data": {
      "text/plain": [
       "torch.Size([8, 3, 128, 128])"
      ]
     },
     "execution_count": 8,
     "metadata": {},
     "output_type": "execute_result"
    }
   ],
   "source": [
    "pts.shape"
   ]
  },
  {
   "cell_type": "code",
   "execution_count": 17,
   "metadata": {},
   "outputs": [
    {
     "data": {
      "text/plain": [
       "tensor([0.6146, 0.0308, 0.7004, 0.5932, 0.1845, 0.9701, 0.3037, 0.7716, 0.3100,\n",
       "        0.9828, 0.2576])"
      ]
     },
     "execution_count": 17,
     "metadata": {},
     "output_type": "execute_result"
    }
   ],
   "source": [
    "t =  torch.rand(11)\n",
    "t"
   ]
  },
  {
   "cell_type": "code",
   "execution_count": 18,
   "metadata": {},
   "outputs": [
    {
     "data": {
      "text/plain": [
       "tensor([0.6146, 0.0308, 0.7004, 0.5932, 0.1845, 0.9701, 0.3037, 0.7716, 0.3100,\n",
       "        0.9828, 0.2576])"
      ]
     },
     "execution_count": 18,
     "metadata": {},
     "output_type": "execute_result"
    }
   ],
   "source": [
    "t.clone()"
   ]
  },
  {
   "cell_type": "code",
   "execution_count": 3,
   "metadata": {},
   "outputs": [
    {
     "data": {
      "text/plain": [
       "torch.Size([8, 4, 128, 1])"
      ]
     },
     "execution_count": 3,
     "metadata": {},
     "output_type": "execute_result"
    }
   ],
   "source": [
    "g_img_clone.shape"
   ]
  },
  {
   "cell_type": "code",
   "execution_count": null,
   "metadata": {},
   "outputs": [],
   "source": []
  }
 ],
 "metadata": {
  "kernelspec": {
   "display_name": "pytorch3d_0.3",
   "language": "python",
   "name": "pytorch3d_0.3"
  },
  "language_info": {
   "codemirror_mode": {
    "name": "ipython",
    "version": 3
   },
   "file_extension": ".py",
   "mimetype": "text/x-python",
   "name": "python",
   "nbconvert_exporter": "python",
   "pygments_lexer": "ipython3",
   "version": "3.8.5"
  }
 },
 "nbformat": 4,
 "nbformat_minor": 4
}
