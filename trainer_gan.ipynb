{
 "cells": [
  {
   "cell_type": "code",
   "execution_count": 1,
   "metadata": {},
   "outputs": [
    {
     "data": {
      "text/html": [
       "        <script type=\"text/javascript\">\n",
       "        window.PlotlyConfig = {MathJaxConfig: 'local'};\n",
       "        if (window.MathJax) {MathJax.Hub.Config({SVG: {font: \"STIX-Web\"}});}\n",
       "        if (typeof require !== 'undefined') {\n",
       "        require.undef(\"plotly\");\n",
       "        requirejs.config({\n",
       "            paths: {\n",
       "                'plotly': ['https://cdn.plot.ly/plotly-latest.min']\n",
       "            }\n",
       "        });\n",
       "        require(['plotly'], function(Plotly) {\n",
       "            window._Plotly = Plotly;\n",
       "        });\n",
       "        }\n",
       "        </script>\n",
       "        "
      ]
     },
     "metadata": {},
     "output_type": "display_data"
    },
    {
     "data": {
      "text/html": [
       "        <script type=\"text/javascript\">\n",
       "        window.PlotlyConfig = {MathJaxConfig: 'local'};\n",
       "        if (window.MathJax) {MathJax.Hub.Config({SVG: {font: \"STIX-Web\"}});}\n",
       "        if (typeof require !== 'undefined') {\n",
       "        require.undef(\"plotly\");\n",
       "        requirejs.config({\n",
       "            paths: {\n",
       "                'plotly': ['https://cdn.plot.ly/plotly-latest.min']\n",
       "            }\n",
       "        });\n",
       "        require(['plotly'], function(Plotly) {\n",
       "            window._Plotly = Plotly;\n",
       "        });\n",
       "        }\n",
       "        </script>\n",
       "        "
      ]
     },
     "metadata": {},
     "output_type": "display_data"
    },
    {
     "data": {
      "text/html": [
       "        <script type=\"text/javascript\">\n",
       "        window.PlotlyConfig = {MathJaxConfig: 'local'};\n",
       "        if (window.MathJax) {MathJax.Hub.Config({SVG: {font: \"STIX-Web\"}});}\n",
       "        if (typeof require !== 'undefined') {\n",
       "        require.undef(\"plotly\");\n",
       "        requirejs.config({\n",
       "            paths: {\n",
       "                'plotly': ['https://cdn.plot.ly/plotly-latest.min']\n",
       "            }\n",
       "        });\n",
       "        require(['plotly'], function(Plotly) {\n",
       "            window._Plotly = Plotly;\n",
       "        });\n",
       "        }\n",
       "        </script>\n",
       "        "
      ]
     },
     "metadata": {},
     "output_type": "display_data"
    },
    {
     "data": {
      "text/html": [
       "        <script type=\"text/javascript\">\n",
       "        window.PlotlyConfig = {MathJaxConfig: 'local'};\n",
       "        if (window.MathJax) {MathJax.Hub.Config({SVG: {font: \"STIX-Web\"}});}\n",
       "        if (typeof require !== 'undefined') {\n",
       "        require.undef(\"plotly\");\n",
       "        requirejs.config({\n",
       "            paths: {\n",
       "                'plotly': ['https://cdn.plot.ly/plotly-latest.min']\n",
       "            }\n",
       "        });\n",
       "        require(['plotly'], function(Plotly) {\n",
       "            window._Plotly = Plotly;\n",
       "        });\n",
       "        }\n",
       "        </script>\n",
       "        "
      ]
     },
     "metadata": {},
     "output_type": "display_data"
    },
    {
     "name": "stdout",
     "output_type": "stream",
     "text": [
      "torch.Size([16, 3, 512, 512])\n"
     ]
    },
    {
     "data": {
      "text/plain": [
       "<__main__.Trainer at 0x7f71df1c0790>"
      ]
     },
     "execution_count": 1,
     "metadata": {},
     "output_type": "execute_result"
    }
   ],
   "source": [
    "import torch\n",
    "import torch.nn as nn\n",
    "\n",
    "from src.data.adversarial import AdversarialDataProvider\n",
    "from src.data.reconstruction import ReconstructionDataProvider\n",
    "from src.models.stylist import Stylist\n",
    "from src.models.generator import Generator\n",
    "from src.models.discriminator import Discriminator\n",
    "from src.render.mesh_renderer import MeshPointsRenderer\n",
    "\n",
    "class Trainer:\n",
    "    \n",
    "    def __init__(self, config):\n",
    "        self.G_noise_amp =  config.G_noise_amp\n",
    "        self.z_size = config.latent_size\n",
    "        \n",
    "        self.device = torch.device(\"cuda\")\n",
    "        \n",
    "        # Data providers\n",
    "        self.RDP = ReconstructionDataProvider(config)\n",
    "        self.ADP = AdversarialDataProvider(config)\n",
    "        \n",
    "        self.S = Stylist(config).to(self.device)\n",
    "        self.G = Generator(config).to(self.device)\n",
    "        self.D = Discriminator(config).to(self.device)\n",
    "        self.R = MeshPointsRenderer(config).to(self.device)\n",
    "        self.R.setup(self.device)\n",
    "        \n",
    "        # Optimizers\n",
    "        self.optim_G = torch.optim.Adam(self.G.parameters(), lr=0.0001)\n",
    "        self.optim_S = torch.optim.Adam(self.S.parameters(), lr=0.0001)\n",
    "        self.optim_D = torch.optim.Adam(self.D.parameters(), lr=0.0001)\n",
    "        # Loss functions\n",
    "        self.adversarial_loss = nn.BCELoss()\n",
    "        self.reconstruction_loss = nn.L1Loss()\n",
    "        \n",
    "    def step(self):\n",
    "        pass\n",
    "        \n",
    "    \n",
    "    def adversarial_step(self):\n",
    "        batch, mean_std = self.ADP.next_batch(labels=True, device=self.device)\n",
    "        images, points = batch['large'], batch['points'] # ?????\n",
    "        label_real = batch['label_real']\n",
    "        label_fake = batch['label_fake']\n",
    "        \n",
    "        # (1) Update Discriminator\n",
    "        ## Train with all-real batch\n",
    "        self.optim_D.zero_grad()\n",
    "        output = self.D(images)        \n",
    "        errD_real =  self.adversarial_loss(output, label_real)\n",
    "        errD_real.backward()\n",
    "        D_x = output.mean().item() \n",
    "        \n",
    "        ## Train with all-fake batch\n",
    "        style = self.S(images)\n",
    "        pts =  self.G(points, style)\n",
    "        g_images = self.R(pts, mean_std=mean_std)                \n",
    "        output = self.D(g_images.detach())  \n",
    "        errD_fake = self.adversarial_loss(output, label_fake)    \n",
    "        errD_fake.backward()\n",
    "        \n",
    "        self.optim_D.step()\n",
    "        \n",
    "        # (2) Update Generator and Stylist\n",
    "        self.optim_S.zero_grad()\n",
    "        self.optim_G.zero_grad()\n",
    "        \n",
    "        output = self.D(g_images)    \n",
    "        errG = self.adversarial_loss(output, label_real)\n",
    "        errG.backward()\n",
    "        \n",
    "        self.optim_S.step()\n",
    "        self.optim_G.step()\n",
    "        \n",
    "        return {\n",
    "            'errD_real': errD_real.item(),\n",
    "            'errD_fake': errD_fake.item(),\n",
    "            'errD': (errD_real + errD_fake).item(),\n",
    "            'errG': errD_fake.item(),\n",
    "        }\n",
    "        \n",
    "    def reconstruction_step(self):\n",
    "        batch = self.RDP.next_batch(self.device)        \n",
    "        pts_fine = batch['points']\n",
    "        bs = pts_fine.size(0)\n",
    "        \n",
    "        pts_noise = pts_fine + torch.randn_like(pts_fine) * self.G_noise_amp\n",
    "        style = torch.zeros(bs, self.z_size, device=self.device)\n",
    "        \n",
    "        self.optim_G.zero_grad()\n",
    "        \n",
    "        vertices = self.G(pts_noise, style)\n",
    "        errG_rec = self.reconstruction_loss(vertices, pts_fine)\n",
    "        \n",
    "        errG_rec.backward()\n",
    "        \n",
    "        self.optim_G.step()\n",
    "        return {\n",
    "            'errG_rec': errG_rec.item(),\n",
    "        }\n",
    "\n",
    "\n",
    "from src.config import get_parser\n",
    "\n",
    "config = get_parser().parse_args(args=[])    \n",
    "trainer = Trainer(config)\n",
    "trainer"
   ]
  },
  {
   "cell_type": "code",
   "execution_count": 4,
   "metadata": {},
   "outputs": [],
   "source": [
    "from torch.utils.tensorboard import SummaryWriter\n",
    "writer = SummaryWriter()"
   ]
  },
  {
   "cell_type": "code",
   "execution_count": 5,
   "metadata": {},
   "outputs": [
    {
     "data": {
      "text/plain": [
       "0.9127995548808574"
      ]
     },
     "execution_count": 5,
     "metadata": {},
     "output_type": "execute_result"
    }
   ],
   "source": [
    "import random\n",
    "random.random()"
   ]
  },
  {
   "cell_type": "code",
   "execution_count": 6,
   "metadata": {},
   "outputs": [
    {
     "name": "stderr",
     "output_type": "stream",
     "text": [
      "/home/bobi/miniconda3/envs/pytorch3d/lib/python3.8/site-packages/pytorch3d/transforms/transform3d.py:726: UserWarning:\n",
      "\n",
      "R is not a valid rotation matrix\n",
      "\n"
     ]
    },
    {
     "ename": "KeyboardInterrupt",
     "evalue": "",
     "output_type": "error",
     "traceback": [
      "\u001b[0;31m---------------------------------------------------------------------------\u001b[0m",
      "\u001b[0;31mKeyboardInterrupt\u001b[0m                         Traceback (most recent call last)",
      "\u001b[0;32m<ipython-input-6-39d5b22c5816>\u001b[0m in \u001b[0;36m<module>\u001b[0;34m\u001b[0m\n\u001b[1;32m      9\u001b[0m             \u001b[0mlosses\u001b[0m \u001b[0;34m=\u001b[0m \u001b[0mtrainer\u001b[0m\u001b[0;34m.\u001b[0m\u001b[0mreconstruction_step\u001b[0m\u001b[0;34m(\u001b[0m\u001b[0;34m)\u001b[0m\u001b[0;34m\u001b[0m\u001b[0;34m\u001b[0m\u001b[0m\n\u001b[1;32m     10\u001b[0m         \u001b[0;32melse\u001b[0m\u001b[0;34m:\u001b[0m\u001b[0;34m\u001b[0m\u001b[0;34m\u001b[0m\u001b[0m\n\u001b[0;32m---> 11\u001b[0;31m             \u001b[0mlosses\u001b[0m \u001b[0;34m=\u001b[0m \u001b[0mtrainer\u001b[0m\u001b[0;34m.\u001b[0m\u001b[0madversarial_step\u001b[0m\u001b[0;34m(\u001b[0m\u001b[0;34m)\u001b[0m\u001b[0;34m\u001b[0m\u001b[0;34m\u001b[0m\u001b[0m\n\u001b[0m\u001b[1;32m     12\u001b[0m         \u001b[0;32mfor\u001b[0m \u001b[0mkey\u001b[0m \u001b[0;32min\u001b[0m \u001b[0mlosses\u001b[0m\u001b[0;34m.\u001b[0m\u001b[0mkeys\u001b[0m\u001b[0;34m(\u001b[0m\u001b[0;34m)\u001b[0m\u001b[0;34m:\u001b[0m\u001b[0;34m\u001b[0m\u001b[0;34m\u001b[0m\u001b[0m\n\u001b[1;32m     13\u001b[0m             \u001b[0mwriter\u001b[0m\u001b[0;34m.\u001b[0m\u001b[0madd_scalar\u001b[0m\u001b[0;34m(\u001b[0m\u001b[0;34mf'Loss/{key}'\u001b[0m\u001b[0;34m,\u001b[0m \u001b[0mlosses\u001b[0m\u001b[0;34m[\u001b[0m\u001b[0mkey\u001b[0m\u001b[0;34m]\u001b[0m\u001b[0;34m,\u001b[0m \u001b[0mepoch_no\u001b[0m \u001b[0;34m*\u001b[0m \u001b[0msteps\u001b[0m \u001b[0;34m+\u001b[0m \u001b[0mstep_no\u001b[0m\u001b[0;34m)\u001b[0m\u001b[0;34m\u001b[0m\u001b[0;34m\u001b[0m\u001b[0m\n",
      "\u001b[0;32m<ipython-input-1-00d36e9d7adb>\u001b[0m in \u001b[0;36madversarial_step\u001b[0;34m(self)\u001b[0m\n\u001b[1;32m     51\u001b[0m         \u001b[0merrD_real\u001b[0m \u001b[0;34m=\u001b[0m  \u001b[0mself\u001b[0m\u001b[0;34m.\u001b[0m\u001b[0madversarial_loss\u001b[0m\u001b[0;34m(\u001b[0m\u001b[0moutput\u001b[0m\u001b[0;34m,\u001b[0m \u001b[0mlabel_real\u001b[0m\u001b[0;34m)\u001b[0m\u001b[0;34m\u001b[0m\u001b[0;34m\u001b[0m\u001b[0m\n\u001b[1;32m     52\u001b[0m         \u001b[0merrD_real\u001b[0m\u001b[0;34m.\u001b[0m\u001b[0mbackward\u001b[0m\u001b[0;34m(\u001b[0m\u001b[0;34m)\u001b[0m\u001b[0;34m\u001b[0m\u001b[0;34m\u001b[0m\u001b[0m\n\u001b[0;32m---> 53\u001b[0;31m         \u001b[0mD_x\u001b[0m \u001b[0;34m=\u001b[0m \u001b[0moutput\u001b[0m\u001b[0;34m.\u001b[0m\u001b[0mmean\u001b[0m\u001b[0;34m(\u001b[0m\u001b[0;34m)\u001b[0m\u001b[0;34m.\u001b[0m\u001b[0mitem\u001b[0m\u001b[0;34m(\u001b[0m\u001b[0;34m)\u001b[0m\u001b[0;34m\u001b[0m\u001b[0;34m\u001b[0m\u001b[0m\n\u001b[0m\u001b[1;32m     54\u001b[0m \u001b[0;34m\u001b[0m\u001b[0m\n\u001b[1;32m     55\u001b[0m         \u001b[0;31m## Train with all-fake batch\u001b[0m\u001b[0;34m\u001b[0m\u001b[0;34m\u001b[0m\u001b[0;34m\u001b[0m\u001b[0m\n",
      "\u001b[0;31mKeyboardInterrupt\u001b[0m: "
     ]
    }
   ],
   "source": [
    "epochs = 100\n",
    "steps = len(trainer.RDP) + len(trainer.ADP)\n",
    "\n",
    "threshold = len(trainer.RDP) / len(trainer.ADP)\n",
    "\n",
    "for epoch_no in range(epochs):\n",
    "    for step_no in range(steps):\n",
    "        if random.random() < 0.5: #threshold:\n",
    "            losses = trainer.reconstruction_step()\n",
    "        else:\n",
    "            losses = trainer.adversarial_step()\n",
    "        for key in losses.keys():\n",
    "            writer.add_scalar(f'Loss/{key}', losses[key], epoch_no * steps + step_no)\n",
    "    print(epoch_no)"
   ]
  },
  {
   "cell_type": "code",
   "execution_count": 2,
   "metadata": {},
   "outputs": [
    {
     "data": {
      "text/plain": [
       "{'errG_rec': 0.26973843574523926}"
      ]
     },
     "execution_count": 2,
     "metadata": {},
     "output_type": "execute_result"
    }
   ],
   "source": [
    "trainer.reconstruction_step()"
   ]
  },
  {
   "cell_type": "code",
   "execution_count": null,
   "metadata": {},
   "outputs": [],
   "source": []
  }
 ],
 "metadata": {
  "kernelspec": {
   "display_name": "pytorch3d_0.3",
   "language": "python",
   "name": "pytorch3d_0.3"
  },
  "language_info": {
   "codemirror_mode": {
    "name": "ipython",
    "version": 3
   },
   "file_extension": ".py",
   "mimetype": "text/x-python",
   "name": "python",
   "nbconvert_exporter": "python",
   "pygments_lexer": "ipython3",
   "version": "3.8.5"
  }
 },
 "nbformat": 4,
 "nbformat_minor": 4
}
