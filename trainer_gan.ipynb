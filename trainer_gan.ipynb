{
 "cells": [
  {
   "cell_type": "code",
   "execution_count": 19,
   "metadata": {},
   "outputs": [
    {
     "name": "stdout",
     "output_type": "stream",
     "text": [
      "torch.Size([16, 3, 512, 512])\n"
     ]
    },
    {
     "data": {
      "text/plain": [
       "<__main__.Trainer at 0x7fdda40acaf0>"
      ]
     },
     "execution_count": 19,
     "metadata": {},
     "output_type": "execute_result"
    }
   ],
   "source": [
    "import math \n",
    "import os\n",
    "import trimesh\n",
    "\n",
    "import torch\n",
    "import torch.nn as nn\n",
    "import torchvision\n",
    "from torch.utils.tensorboard import SummaryWriter\n",
    "\n",
    "\n",
    "from src.data.adversarial import AdversarialDataProvider\n",
    "from src.data.reconstruction import ReconstructionDataProvider\n",
    "from src.models.stylist import Stylist\n",
    "from src.models.generator import Generator\n",
    "from src.models.discriminator import Discriminator\n",
    "from src.render.mesh_renderer import MeshPointsRenderer\n",
    "from src.utilities.util import make_faces, grid_to_list\n",
    "\n",
    "class Trainer:\n",
    "    \n",
    "    def __init__(self, config):\n",
    "        self.G_noise_amp =  config.G_noise_amp\n",
    "        self.z_size = config.latent_size\n",
    "        size = config.adversarial_data_patch_size\n",
    "        self.faces = make_faces(size, size)\n",
    "        \n",
    "        self.device = torch.device(\"cuda\")\n",
    "        \n",
    "        self.writer = SummaryWriter()\n",
    "        # Data providers\n",
    "        self.RDP = ReconstructionDataProvider(config)\n",
    "        self.ADP = AdversarialDataProvider(config)\n",
    "        \n",
    "        self.S = Stylist(config).to(self.device)\n",
    "        self.G = Generator(config).to(self.device)\n",
    "        self.D = Discriminator(config).to(self.device)\n",
    "        self.R = MeshPointsRenderer(config).to(self.device)\n",
    "        self.R.setup(self.device)\n",
    "        \n",
    "        # Optimizers\n",
    "        self.optim_G = torch.optim.Adam(self.G.parameters(), lr=0.0001)\n",
    "        self.optim_S = torch.optim.Adam(self.S.parameters(), lr=0.0001)\n",
    "        self.optim_D = torch.optim.Adam(self.D.parameters(), lr=0.0001)\n",
    "        # Loss functions\n",
    "        self.adversarial_loss = nn.BCELoss()\n",
    "        self.reconstruction_loss = nn.L1Loss()\n",
    "        \n",
    "    def step(self):\n",
    "        pass\n",
    "        \n",
    "    \n",
    "    def adversarial_step(self):\n",
    "        batch, mean_std = self.ADP.next_batch(labels=True, device=self.device)\n",
    "        images, points = batch['large'], batch['points'] # ?????\n",
    "        label_real = batch['label_real']\n",
    "        label_fake = batch['label_fake']\n",
    "        \n",
    "        # (1) Update Discriminator\n",
    "        ## Train with all-real batch\n",
    "        self.optim_D.zero_grad()\n",
    "        output = self.D(images)        \n",
    "        errD_real =  self.adversarial_loss(output, label_real)\n",
    "        errD_real.backward()\n",
    "        D_x = output.mean().item() \n",
    "        \n",
    "        ## Train with all-fake batch\n",
    "        style = self.S(images)\n",
    "        pts =  self.G(points, style)\n",
    "        g_images = self.R(pts, mean_std=mean_std, align=True)\n",
    "        output = self.D(g_images.detach())  \n",
    "        errD_fake = self.adversarial_loss(output, label_fake)    \n",
    "        errD_fake.backward()\n",
    "        \n",
    "        self.optim_D.step()\n",
    "        \n",
    "        # (2) Update Generator and Stylist\n",
    "        self.optim_S.zero_grad()\n",
    "        self.optim_G.zero_grad()\n",
    "        \n",
    "        output = self.D(g_images)    \n",
    "        errG = self.adversarial_loss(output, label_real)\n",
    "        errG.backward()\n",
    "        \n",
    "        self.optim_S.step()\n",
    "        self.optim_G.step()                \n",
    "        \n",
    "        return {\n",
    "            'errD_real': errD_real.item(),\n",
    "            'errD_fake': errD_fake.item(),\n",
    "            'errD': (errD_real + errD_fake).item(),\n",
    "            'errG': errD_fake.item(),\n",
    "        }\n",
    "        \n",
    "    def reconstruction_step(self):\n",
    "        batch = self.RDP.next_batch(self.device)        \n",
    "        pts_fine = batch['points']\n",
    "        bs = pts_fine.size(0)\n",
    "        \n",
    "        pts_noise = pts_fine + torch.randn_like(pts_fine) * self.G_noise_amp\n",
    "        style = torch.zeros(bs, self.z_size, device=self.device)\n",
    "        \n",
    "        self.optim_G.zero_grad()\n",
    "        \n",
    "        vertices = self.G(pts_noise, style)\n",
    "        errG_rec = self.reconstruction_loss(vertices, pts_fine)\n",
    "        \n",
    "        errG_rec.backward()\n",
    "        \n",
    "        self.optim_G.step()\n",
    "        return {\n",
    "            'errG_rec': errG_rec.item(),\n",
    "        }\n",
    "    \n",
    "    def checkpoint(self, log_dir, step):\n",
    "        torch.save(self.G.state_dict(), os.path.join(log_dir, f'G{step}.pth'))\n",
    "        torch.save(self.S.state_dict(), os.path.join(log_dir, f'S{step}.pth'))\n",
    "        torch.save(self.D.state_dict(), os.path.join(log_dir, f'D{step}.pth'))\n",
    "    \n",
    "    def log_loss(self, losses, step_no):\n",
    "        for key in losses.keys():\n",
    "            self.writer.add_scalar(f'Loss/{key}', losses[key], step_no)\n",
    "    \n",
    "    def log_stl(self, step_no):\n",
    "        mesh_dir = os.path.join(self.writer.log_dir, 'mesh')\n",
    "        if not os.path.exists(mesh_dir):\n",
    "            os.makedirs(mesh_dir)\n",
    "            \n",
    "        batch, mean_std = self.ADP.next_batch(labels=False, device=self.device)\n",
    "        images, points = batch['large'], batch['points']                \n",
    "                \n",
    "        with torch.no_grad():\n",
    "            style = self.S(images)\n",
    "            style[0] = 0 # Default style\n",
    "            pts_batch =  grid_to_list(self.G(points, style))\n",
    "            for i, pts in enumerate(pts_batch):\n",
    "                vertices = pts.detach().cpu()\n",
    "                mesh = trimesh.Trimesh(vertices=vertices, faces=self.faces)\n",
    "                mesh.export(os.path.join(mesh_dir, f'mesh_{step_no}_{i}.stl'))\n",
    "                \n",
    "    def log_images(self, step_no):\n",
    "        batch, _ = self.ADP.next_batch(labels=False, device=self.device)\n",
    "        images, points = batch['large'], batch['points'] \n",
    "        \n",
    "        with torch.no_grad():\n",
    "            style = self.S(images)\n",
    "            style[0] = 0 # Default style\n",
    "            pts =  self.G(points, style)\n",
    "            pts[-1] = points[-1] # One default point\n",
    "            \n",
    "            g_images = self.R(pts, mean_std=None, align=True)\n",
    "            print(g_images.shape)\n",
    "            nrow = math.ceil(g_images.size(0) / 2.)\n",
    "            grid = torchvision.utils.make_grid(g_images, nrow=nrow)\n",
    "            self.writer.add_image('images', grid, step_no)\n",
    "            \n",
    "        \n",
    "\n",
    "from src.config import get_parser\n",
    "\n",
    "config = get_parser().parse_args(args=[])    \n",
    "trainer = Trainer(config)\n",
    "trainer"
   ]
  },
  {
   "cell_type": "code",
   "execution_count": 18,
   "metadata": {},
   "outputs": [
    {
     "name": "stdout",
     "output_type": "stream",
     "text": [
      "torch.Size([8, 1, 128, 128])\n"
     ]
    },
    {
     "data": {
      "image/png": "[encoded data removed]",
      "text/plain": [
       "<Figure size 432x288 with 1 Axes>"
      ]
     },
     "metadata": {
      "needs_background": "light"
     },
     "output_type": "display_data"
    }
   ],
   "source": [
    "import matplotlib.pyplot as plt \n",
    "\n",
    "self = trainer\n",
    "\n",
    "batch, _ = self.ADP.next_batch(labels=False, device=self.device)\n",
    "images, points = batch['large'], batch['points'] \n",
    "\n",
    "g_images_2 = self.R(points, mean_std=None, align=True)\n",
    "print(g_images_2.shape)\n",
    "grid_2 = torchvision.utils.make_grid(g_images_2, nrow=4)\n",
    "#self.writer.add_image('images', grid, step_no+1)\n",
    "\n",
    "\n",
    "\n",
    "plt.imshow(grid_2.permute(1, 2, 0).cpu());    "
   ]
  },
  {
   "cell_type": "code",
   "execution_count": 20,
   "metadata": {},
   "outputs": [
    {
     "name": "stdout",
     "output_type": "stream",
     "text": [
      "torch.Size([8, 1, 128, 128])\n"
     ]
    }
   ],
   "source": [
    "trainer.log_images(1)"
   ]
  },
  {
   "cell_type": "code",
   "execution_count": 31,
   "metadata": {},
   "outputs": [],
   "source": [
    "trainer.log_stl(11)"
   ]
  },
  {
   "cell_type": "code",
   "execution_count": 8,
   "metadata": {},
   "outputs": [],
   "source": [
    "writer.log_dir\n",
    "trainer.checkpoint(writer.log_dir, 0)"
   ]
  },
  {
   "cell_type": "code",
   "execution_count": 5,
   "metadata": {},
   "outputs": [
    {
     "data": {
      "text/plain": [
       "0.9127995548808574"
      ]
     },
     "execution_count": 5,
     "metadata": {},
     "output_type": "execute_result"
    }
   ],
   "source": [
    "import random\n",
    "random.random()"
   ]
  },
  {
   "cell_type": "code",
   "execution_count": 32,
   "metadata": {
    "scrolled": true
   },
   "outputs": [
    {
     "ename": "KeyboardInterrupt",
     "evalue": "",
     "output_type": "error",
     "traceback": [
      "\u001b[0;31m---------------------------------------------------------------------------\u001b[0m",
      "\u001b[0;31mKeyboardInterrupt\u001b[0m                         Traceback (most recent call last)",
      "\u001b[0;32m<ipython-input-32-1733d3f53ffd>\u001b[0m in \u001b[0;36m<module>\u001b[0;34m\u001b[0m\n\u001b[1;32m      7\u001b[0m     \u001b[0;32mfor\u001b[0m \u001b[0mstep_no\u001b[0m \u001b[0;32min\u001b[0m \u001b[0mrange\u001b[0m\u001b[0;34m(\u001b[0m\u001b[0msteps\u001b[0m\u001b[0;34m)\u001b[0m\u001b[0;34m:\u001b[0m\u001b[0;34m\u001b[0m\u001b[0;34m\u001b[0m\u001b[0m\n\u001b[1;32m      8\u001b[0m         \u001b[0;32mif\u001b[0m \u001b[0;32mTrue\u001b[0m\u001b[0;34m:\u001b[0m \u001b[0;31m#random.random() < 0.5: #threshold:\u001b[0m\u001b[0;34m\u001b[0m\u001b[0;34m\u001b[0m\u001b[0m\n\u001b[0;32m----> 9\u001b[0;31m             \u001b[0mlosses\u001b[0m \u001b[0;34m=\u001b[0m \u001b[0mtrainer\u001b[0m\u001b[0;34m.\u001b[0m\u001b[0mreconstruction_step\u001b[0m\u001b[0;34m(\u001b[0m\u001b[0;34m)\u001b[0m\u001b[0;34m\u001b[0m\u001b[0;34m\u001b[0m\u001b[0m\n\u001b[0m\u001b[1;32m     10\u001b[0m         \u001b[0;32melse\u001b[0m\u001b[0;34m:\u001b[0m\u001b[0;34m\u001b[0m\u001b[0;34m\u001b[0m\u001b[0m\n\u001b[1;32m     11\u001b[0m             \u001b[0mlosses\u001b[0m \u001b[0;34m=\u001b[0m \u001b[0mtrainer\u001b[0m\u001b[0;34m.\u001b[0m\u001b[0madversarial_step\u001b[0m\u001b[0;34m(\u001b[0m\u001b[0;34m)\u001b[0m\u001b[0;34m\u001b[0m\u001b[0;34m\u001b[0m\u001b[0m\n",
      "\u001b[0;32m<ipython-input-30-5a40952f7375>\u001b[0m in \u001b[0;36mreconstruction_step\u001b[0;34m(self)\u001b[0m\n\u001b[1;32m     98\u001b[0m         \u001b[0mself\u001b[0m\u001b[0;34m.\u001b[0m\u001b[0moptim_G\u001b[0m\u001b[0;34m.\u001b[0m\u001b[0mzero_grad\u001b[0m\u001b[0;34m(\u001b[0m\u001b[0;34m)\u001b[0m\u001b[0;34m\u001b[0m\u001b[0;34m\u001b[0m\u001b[0m\n\u001b[1;32m     99\u001b[0m \u001b[0;34m\u001b[0m\u001b[0m\n\u001b[0;32m--> 100\u001b[0;31m         \u001b[0mvertices\u001b[0m \u001b[0;34m=\u001b[0m \u001b[0mself\u001b[0m\u001b[0;34m.\u001b[0m\u001b[0mG\u001b[0m\u001b[0;34m(\u001b[0m\u001b[0mpts_noise\u001b[0m\u001b[0;34m,\u001b[0m \u001b[0mstyle\u001b[0m\u001b[0;34m)\u001b[0m\u001b[0;34m\u001b[0m\u001b[0;34m\u001b[0m\u001b[0m\n\u001b[0m\u001b[1;32m    101\u001b[0m         \u001b[0merrG_rec\u001b[0m \u001b[0;34m=\u001b[0m \u001b[0mself\u001b[0m\u001b[0;34m.\u001b[0m\u001b[0mreconstruction_loss\u001b[0m\u001b[0;34m(\u001b[0m\u001b[0mvertices\u001b[0m\u001b[0;34m,\u001b[0m \u001b[0mpts_fine\u001b[0m\u001b[0;34m)\u001b[0m\u001b[0;34m\u001b[0m\u001b[0;34m\u001b[0m\u001b[0m\n\u001b[1;32m    102\u001b[0m \u001b[0;34m\u001b[0m\u001b[0m\n",
      "\u001b[0;32m~/miniconda3/envs/pytorch3d/lib/python3.8/site-packages/torch/nn/modules/module.py\u001b[0m in \u001b[0;36m_call_impl\u001b[0;34m(self, *input, **kwargs)\u001b[0m\n\u001b[1;32m    725\u001b[0m             \u001b[0mresult\u001b[0m \u001b[0;34m=\u001b[0m \u001b[0mself\u001b[0m\u001b[0;34m.\u001b[0m\u001b[0m_slow_forward\u001b[0m\u001b[0;34m(\u001b[0m\u001b[0;34m*\u001b[0m\u001b[0minput\u001b[0m\u001b[0;34m,\u001b[0m \u001b[0;34m**\u001b[0m\u001b[0mkwargs\u001b[0m\u001b[0;34m)\u001b[0m\u001b[0;34m\u001b[0m\u001b[0;34m\u001b[0m\u001b[0m\n\u001b[1;32m    726\u001b[0m         \u001b[0;32melse\u001b[0m\u001b[0;34m:\u001b[0m\u001b[0;34m\u001b[0m\u001b[0;34m\u001b[0m\u001b[0m\n\u001b[0;32m--> 727\u001b[0;31m             \u001b[0mresult\u001b[0m \u001b[0;34m=\u001b[0m \u001b[0mself\u001b[0m\u001b[0;34m.\u001b[0m\u001b[0mforward\u001b[0m\u001b[0;34m(\u001b[0m\u001b[0;34m*\u001b[0m\u001b[0minput\u001b[0m\u001b[0;34m,\u001b[0m \u001b[0;34m**\u001b[0m\u001b[0mkwargs\u001b[0m\u001b[0;34m)\u001b[0m\u001b[0;34m\u001b[0m\u001b[0;34m\u001b[0m\u001b[0m\n\u001b[0m\u001b[1;32m    728\u001b[0m         for hook in itertools.chain(\n\u001b[1;32m    729\u001b[0m                 \u001b[0m_global_forward_hooks\u001b[0m\u001b[0;34m.\u001b[0m\u001b[0mvalues\u001b[0m\u001b[0;34m(\u001b[0m\u001b[0;34m)\u001b[0m\u001b[0;34m,\u001b[0m\u001b[0;34m\u001b[0m\u001b[0;34m\u001b[0m\u001b[0m\n",
      "\u001b[0;32m~/Desktop/pic2mesh/src/models/generator.py\u001b[0m in \u001b[0;36mforward\u001b[0;34m(self, points, style)\u001b[0m\n\u001b[1;32m     78\u001b[0m         \u001b[0mx\u001b[0m \u001b[0;34m=\u001b[0m \u001b[0mself\u001b[0m\u001b[0;34m.\u001b[0m\u001b[0mhead\u001b[0m\u001b[0;34m(\u001b[0m\u001b[0mpoints\u001b[0m\u001b[0;34m)\u001b[0m\u001b[0;34m\u001b[0m\u001b[0;34m\u001b[0m\u001b[0m\n\u001b[1;32m     79\u001b[0m \u001b[0;34m\u001b[0m\u001b[0m\n\u001b[0;32m---> 80\u001b[0;31m         \u001b[0mx\u001b[0m\u001b[0;34m,\u001b[0m \u001b[0mvrt\u001b[0m \u001b[0;34m=\u001b[0m \u001b[0mself\u001b[0m\u001b[0;34m.\u001b[0m\u001b[0mb1\u001b[0m\u001b[0;34m(\u001b[0m\u001b[0mx\u001b[0m\u001b[0;34m,\u001b[0m \u001b[0mstyle\u001b[0m\u001b[0;34m,\u001b[0m \u001b[0mpoints\u001b[0m\u001b[0;34m)\u001b[0m\u001b[0;34m\u001b[0m\u001b[0;34m\u001b[0m\u001b[0m\n\u001b[0m\u001b[1;32m     81\u001b[0m         \u001b[0mx\u001b[0m\u001b[0;34m,\u001b[0m \u001b[0mvrt\u001b[0m \u001b[0;34m=\u001b[0m \u001b[0mself\u001b[0m\u001b[0;34m.\u001b[0m\u001b[0mb2\u001b[0m\u001b[0;34m(\u001b[0m\u001b[0mx\u001b[0m\u001b[0;34m,\u001b[0m \u001b[0mstyle\u001b[0m\u001b[0;34m,\u001b[0m \u001b[0mvrt\u001b[0m\u001b[0;34m)\u001b[0m\u001b[0;34m\u001b[0m\u001b[0;34m\u001b[0m\u001b[0m\n\u001b[1;32m     82\u001b[0m         \u001b[0;31m# x, vrt = self.b3(x, latents[2], vrt)\u001b[0m\u001b[0;34m\u001b[0m\u001b[0;34m\u001b[0m\u001b[0;34m\u001b[0m\u001b[0m\n",
      "\u001b[0;32m~/miniconda3/envs/pytorch3d/lib/python3.8/site-packages/torch/nn/modules/module.py\u001b[0m in \u001b[0;36m_call_impl\u001b[0;34m(self, *input, **kwargs)\u001b[0m\n\u001b[1;32m    725\u001b[0m             \u001b[0mresult\u001b[0m \u001b[0;34m=\u001b[0m \u001b[0mself\u001b[0m\u001b[0;34m.\u001b[0m\u001b[0m_slow_forward\u001b[0m\u001b[0;34m(\u001b[0m\u001b[0;34m*\u001b[0m\u001b[0minput\u001b[0m\u001b[0;34m,\u001b[0m \u001b[0;34m**\u001b[0m\u001b[0mkwargs\u001b[0m\u001b[0;34m)\u001b[0m\u001b[0;34m\u001b[0m\u001b[0;34m\u001b[0m\u001b[0m\n\u001b[1;32m    726\u001b[0m         \u001b[0;32melse\u001b[0m\u001b[0;34m:\u001b[0m\u001b[0;34m\u001b[0m\u001b[0;34m\u001b[0m\u001b[0m\n\u001b[0;32m--> 727\u001b[0;31m             \u001b[0mresult\u001b[0m \u001b[0;34m=\u001b[0m \u001b[0mself\u001b[0m\u001b[0;34m.\u001b[0m\u001b[0mforward\u001b[0m\u001b[0;34m(\u001b[0m\u001b[0;34m*\u001b[0m\u001b[0minput\u001b[0m\u001b[0;34m,\u001b[0m \u001b[0;34m**\u001b[0m\u001b[0mkwargs\u001b[0m\u001b[0;34m)\u001b[0m\u001b[0;34m\u001b[0m\u001b[0;34m\u001b[0m\u001b[0m\n\u001b[0m\u001b[1;32m    728\u001b[0m         for hook in itertools.chain(\n\u001b[1;32m    729\u001b[0m                 \u001b[0m_global_forward_hooks\u001b[0m\u001b[0;34m.\u001b[0m\u001b[0mvalues\u001b[0m\u001b[0;34m(\u001b[0m\u001b[0;34m)\u001b[0m\u001b[0;34m,\u001b[0m\u001b[0;34m\u001b[0m\u001b[0;34m\u001b[0m\u001b[0m\n",
      "\u001b[0;32m~/Desktop/pic2mesh/src/models/generator.py\u001b[0m in \u001b[0;36mforward\u001b[0;34m(self, x, z, prev_vrt)\u001b[0m\n\u001b[1;32m     47\u001b[0m \u001b[0;34m\u001b[0m\u001b[0m\n\u001b[1;32m     48\u001b[0m     \u001b[0;32mdef\u001b[0m \u001b[0mforward\u001b[0m\u001b[0;34m(\u001b[0m\u001b[0mself\u001b[0m\u001b[0;34m,\u001b[0m \u001b[0mx\u001b[0m\u001b[0;34m,\u001b[0m \u001b[0mz\u001b[0m\u001b[0;34m,\u001b[0m \u001b[0mprev_vrt\u001b[0m\u001b[0;34m)\u001b[0m\u001b[0;34m:\u001b[0m\u001b[0;34m\u001b[0m\u001b[0;34m\u001b[0m\u001b[0m\n\u001b[0;32m---> 49\u001b[0;31m         \u001b[0mx\u001b[0m \u001b[0;34m=\u001b[0m \u001b[0mself\u001b[0m\u001b[0;34m.\u001b[0m\u001b[0mmod_conv\u001b[0m\u001b[0;34m(\u001b[0m\u001b[0mx\u001b[0m\u001b[0;34m,\u001b[0m \u001b[0mz\u001b[0m\u001b[0;34m)\u001b[0m\u001b[0;34m\u001b[0m\u001b[0;34m\u001b[0m\u001b[0m\n\u001b[0m\u001b[1;32m     50\u001b[0m         \u001b[0mx\u001b[0m \u001b[0;34m=\u001b[0m \u001b[0mself\u001b[0m\u001b[0;34m.\u001b[0m\u001b[0mconv1\u001b[0m\u001b[0;34m(\u001b[0m\u001b[0mx\u001b[0m\u001b[0;34m)\u001b[0m\u001b[0;34m\u001b[0m\u001b[0;34m\u001b[0m\u001b[0m\n\u001b[1;32m     51\u001b[0m         \u001b[0mx\u001b[0m \u001b[0;34m=\u001b[0m \u001b[0mself\u001b[0m\u001b[0;34m.\u001b[0m\u001b[0mconv2\u001b[0m\u001b[0;34m(\u001b[0m\u001b[0mx\u001b[0m\u001b[0;34m)\u001b[0m\u001b[0;34m\u001b[0m\u001b[0;34m\u001b[0m\u001b[0m\n",
      "\u001b[0;32m~/miniconda3/envs/pytorch3d/lib/python3.8/site-packages/torch/nn/modules/module.py\u001b[0m in \u001b[0;36m_call_impl\u001b[0;34m(self, *input, **kwargs)\u001b[0m\n\u001b[1;32m    725\u001b[0m             \u001b[0mresult\u001b[0m \u001b[0;34m=\u001b[0m \u001b[0mself\u001b[0m\u001b[0;34m.\u001b[0m\u001b[0m_slow_forward\u001b[0m\u001b[0;34m(\u001b[0m\u001b[0;34m*\u001b[0m\u001b[0minput\u001b[0m\u001b[0;34m,\u001b[0m \u001b[0;34m**\u001b[0m\u001b[0mkwargs\u001b[0m\u001b[0;34m)\u001b[0m\u001b[0;34m\u001b[0m\u001b[0;34m\u001b[0m\u001b[0m\n\u001b[1;32m    726\u001b[0m         \u001b[0;32melse\u001b[0m\u001b[0;34m:\u001b[0m\u001b[0;34m\u001b[0m\u001b[0;34m\u001b[0m\u001b[0m\n\u001b[0;32m--> 727\u001b[0;31m             \u001b[0mresult\u001b[0m \u001b[0;34m=\u001b[0m \u001b[0mself\u001b[0m\u001b[0;34m.\u001b[0m\u001b[0mforward\u001b[0m\u001b[0;34m(\u001b[0m\u001b[0;34m*\u001b[0m\u001b[0minput\u001b[0m\u001b[0;34m,\u001b[0m \u001b[0;34m**\u001b[0m\u001b[0mkwargs\u001b[0m\u001b[0;34m)\u001b[0m\u001b[0;34m\u001b[0m\u001b[0;34m\u001b[0m\u001b[0m\n\u001b[0m\u001b[1;32m    728\u001b[0m         for hook in itertools.chain(\n\u001b[1;32m    729\u001b[0m                 \u001b[0m_global_forward_hooks\u001b[0m\u001b[0;34m.\u001b[0m\u001b[0mvalues\u001b[0m\u001b[0;34m(\u001b[0m\u001b[0;34m)\u001b[0m\u001b[0;34m,\u001b[0m\u001b[0;34m\u001b[0m\u001b[0;34m\u001b[0m\u001b[0m\n",
      "\u001b[0;32m~/Desktop/pic2mesh/src/models/layers.py\u001b[0m in \u001b[0;36mforward\u001b[0;34m(self, x, w)\u001b[0m\n\u001b[1;32m    284\u001b[0m \u001b[0;34m\u001b[0m\u001b[0m\n\u001b[1;32m    285\u001b[0m         \u001b[0;32mif\u001b[0m \u001b[0mself\u001b[0m\u001b[0;34m.\u001b[0m\u001b[0madd_noise\u001b[0m\u001b[0;34m:\u001b[0m\u001b[0;34m\u001b[0m\u001b[0;34m\u001b[0m\u001b[0m\n\u001b[0;32m--> 286\u001b[0;31m             \u001b[0mnoise\u001b[0m \u001b[0;34m=\u001b[0m \u001b[0mtorch\u001b[0m\u001b[0;34m.\u001b[0m\u001b[0mrandn\u001b[0m\u001b[0;34m(\u001b[0m\u001b[0mx\u001b[0m\u001b[0;34m.\u001b[0m\u001b[0mshape\u001b[0m\u001b[0;34m[\u001b[0m\u001b[0;36m0\u001b[0m\u001b[0;34m]\u001b[0m\u001b[0;34m,\u001b[0m \u001b[0;36m1\u001b[0m\u001b[0;34m,\u001b[0m \u001b[0mres\u001b[0m\u001b[0;34m,\u001b[0m \u001b[0mres\u001b[0m\u001b[0;34m)\u001b[0m\u001b[0;34m.\u001b[0m\u001b[0mto\u001b[0m\u001b[0;34m(\u001b[0m\u001b[0mx\u001b[0m\u001b[0;34m)\u001b[0m\u001b[0;34m\u001b[0m\u001b[0;34m\u001b[0m\u001b[0m\n\u001b[0m\u001b[1;32m    287\u001b[0m             \u001b[0mx\u001b[0m \u001b[0;34m=\u001b[0m \u001b[0mx\u001b[0m \u001b[0;34m+\u001b[0m \u001b[0mnoise\u001b[0m \u001b[0;34m*\u001b[0m \u001b[0mself\u001b[0m\u001b[0;34m.\u001b[0m\u001b[0mnoise_strength\u001b[0m\u001b[0;34m.\u001b[0m\u001b[0mview\u001b[0m\u001b[0;34m(\u001b[0m\u001b[0;36m1\u001b[0m\u001b[0;34m,\u001b[0m \u001b[0;36m1\u001b[0m\u001b[0;34m,\u001b[0m \u001b[0;36m1\u001b[0m\u001b[0;34m,\u001b[0m \u001b[0;36m1\u001b[0m\u001b[0;34m)\u001b[0m\u001b[0;34m\u001b[0m\u001b[0;34m\u001b[0m\u001b[0m\n\u001b[1;32m    288\u001b[0m \u001b[0;34m\u001b[0m\u001b[0m\n",
      "\u001b[0;31mKeyboardInterrupt\u001b[0m: "
     ]
    }
   ],
   "source": [
    "epochs = 100\n",
    "steps = len(trainer.RDP) + len(trainer.ADP)\n",
    "\n",
    "threshold = len(trainer.RDP) / len(trainer.ADP)\n",
    "\n",
    "for epoch_no in range(epochs):\n",
    "    for step_no in range(steps):\n",
    "        if True: #random.random() < 0.5: #threshold:\n",
    "            losses = trainer.reconstruction_step()\n",
    "        else:\n",
    "            losses = trainer.adversarial_step()\n",
    "        trainer.log_loss(losses, epoch_no * steps + step_no)\n",
    "        if step_no % 1000 == 0:\n",
    "            trainer.log_stl(step_no)\n",
    "    print(epoch_no)"
   ]
  },
  {
   "cell_type": "code",
   "execution_count": 2,
   "metadata": {},
   "outputs": [
    {
     "data": {
      "text/plain": [
       "{'errG_rec': 0.26973843574523926}"
      ]
     },
     "execution_count": 2,
     "metadata": {},
     "output_type": "execute_result"
    }
   ],
   "source": [
    "trainer.reconstruction_step()"
   ]
  },
  {
   "cell_type": "code",
   "execution_count": 10,
   "metadata": {},
   "outputs": [
    {
     "data": {
      "text/plain": [
       "tensor([[0.0319, 0.8361, 0.5539, 0.7249],\n",
       "        [0.8414, 0.6477, 0.6841, 0.8900],\n",
       "        [0.0676, 0.9530, 0.3478, 0.7463],\n",
       "        [0.2505, 0.2242, 0.0347, 0.2237],\n",
       "        [0.0170, 0.9637, 0.8571, 0.3297],\n",
       "        [0.7080, 0.7523, 0.0012, 0.0251],\n",
       "        [0.6757, 0.7713, 0.1670, 0.6092],\n",
       "        [0.7938, 0.4849, 0.7749, 0.1687]])"
      ]
     },
     "execution_count": 10,
     "metadata": {},
     "output_type": "execute_result"
    }
   ],
   "source": [
    "s  = torch.rand((8, 4))\n",
    "s"
   ]
  },
  {
   "cell_type": "code",
   "execution_count": 11,
   "metadata": {},
   "outputs": [],
   "source": [
    "s[0] = 0"
   ]
  },
  {
   "cell_type": "code",
   "execution_count": 12,
   "metadata": {},
   "outputs": [
    {
     "data": {
      "text/plain": [
       "tensor([[0.0000, 0.0000, 0.0000, 0.0000],\n",
       "        [0.8414, 0.6477, 0.6841, 0.8900],\n",
       "        [0.0676, 0.9530, 0.3478, 0.7463],\n",
       "        [0.2505, 0.2242, 0.0347, 0.2237],\n",
       "        [0.0170, 0.9637, 0.8571, 0.3297],\n",
       "        [0.7080, 0.7523, 0.0012, 0.0251],\n",
       "        [0.6757, 0.7713, 0.1670, 0.6092],\n",
       "        [0.7938, 0.4849, 0.7749, 0.1687]])"
      ]
     },
     "execution_count": 12,
     "metadata": {},
     "output_type": "execute_result"
    }
   ],
   "source": [
    "s"
   ]
  },
  {
   "cell_type": "code",
   "execution_count": 14,
   "metadata": {},
   "outputs": [
    {
     "data": {
      "text/plain": [
       "torch.Size([1, 32258, 3])"
      ]
     },
     "execution_count": 14,
     "metadata": {},
     "output_type": "execute_result"
    }
   ],
   "source": [
    "trainer.R.faces.shape"
   ]
  },
  {
   "cell_type": "code",
   "execution_count": 15,
   "metadata": {},
   "outputs": [
    {
     "data": {
      "text/plain": [
       "16384"
      ]
     },
     "execution_count": 15,
     "metadata": {},
     "output_type": "execute_result"
    }
   ],
   "source": [
    "128**2"
   ]
  },
  {
   "cell_type": "code",
   "execution_count": 16,
   "metadata": {},
   "outputs": [],
   "source": [
    "from src.utilities.util import make_faces"
   ]
  },
  {
   "cell_type": "code",
   "execution_count": 18,
   "metadata": {},
   "outputs": [
    {
     "data": {
      "text/plain": [
       "(32258, 3)"
      ]
     },
     "execution_count": 18,
     "metadata": {},
     "output_type": "execute_result"
    }
   ],
   "source": [
    "make_faces(128, 128).shape"
   ]
  },
  {
   "cell_type": "code",
   "execution_count": 8,
   "metadata": {
    "scrolled": true
   },
   "outputs": [
    {
     "data": {
      "text/plain": [
       "(tensor([[[[0.3380, 0.5406],\n",
       "           [0.1369, 0.7331]],\n",
       " \n",
       "          [[0.3781, 0.6741],\n",
       "           [0.8704, 0.0892]],\n",
       " \n",
       "          [[0.5798, 0.1139],\n",
       "           [0.6858, 0.5406]]],\n",
       " \n",
       " \n",
       "         [[[0.5159, 0.1733],\n",
       "           [0.8737, 0.9063]],\n",
       " \n",
       "          [[0.6460, 0.7371],\n",
       "           [0.2221, 0.6811]],\n",
       " \n",
       "          [[0.5960, 0.5843],\n",
       "           [0.6762, 0.4539]]]]),\n",
       " tensor([[[[0., 0.],\n",
       "           [0., 0.]],\n",
       " \n",
       "          [[0., 0.],\n",
       "           [0., 0.]],\n",
       " \n",
       "          [[0., 0.],\n",
       "           [0., 0.]]],\n",
       " \n",
       " \n",
       "         [[[0., 0.],\n",
       "           [0., 0.]],\n",
       " \n",
       "          [[0., 0.],\n",
       "           [0., 0.]],\n",
       " \n",
       "          [[0., 0.],\n",
       "           [0., 0.]]]]))"
      ]
     },
     "execution_count": 8,
     "metadata": {},
     "output_type": "execute_result"
    }
   ],
   "source": [
    "pts = torch.rand(2, 3, 2, 2)\n",
    "pts1 = torch.zeros(2, 3, 2, 2)\n",
    "pts, pts1"
   ]
  },
  {
   "cell_type": "code",
   "execution_count": 10,
   "metadata": {},
   "outputs": [
    {
     "data": {
      "text/plain": [
       "tensor([[[[0.3380, 0.5406],\n",
       "          [0.1369, 0.7331]],\n",
       "\n",
       "         [[0.3781, 0.6741],\n",
       "          [0.8704, 0.0892]],\n",
       "\n",
       "         [[0.5798, 0.1139],\n",
       "          [0.6858, 0.5406]]],\n",
       "\n",
       "\n",
       "        [[[0.0000, 0.0000],\n",
       "          [0.0000, 0.0000]],\n",
       "\n",
       "         [[0.0000, 0.0000],\n",
       "          [0.0000, 0.0000]],\n",
       "\n",
       "         [[0.0000, 0.0000],\n",
       "          [0.0000, 0.0000]]]])"
      ]
     },
     "execution_count": 10,
     "metadata": {},
     "output_type": "execute_result"
    }
   ],
   "source": [
    "pts[-1] = pts1[-1]\n",
    "pts"
   ]
  },
  {
   "cell_type": "code",
   "execution_count": null,
   "metadata": {},
   "outputs": [],
   "source": []
  }
 ],
 "metadata": {
  "kernelspec": {
   "display_name": "pytorch3d_0.3",
   "language": "python",
   "name": "pytorch3d_0.3"
  },
  "language_info": {
   "codemirror_mode": {
    "name": "ipython",
    "version": 3
   },
   "file_extension": ".py",
   "mimetype": "text/x-python",
   "name": "python",
   "nbconvert_exporter": "python",
   "pygments_lexer": "ipython3",
   "version": "3.8.5"
  }
 },
 "nbformat": 4,
 "nbformat_minor": 4
}
