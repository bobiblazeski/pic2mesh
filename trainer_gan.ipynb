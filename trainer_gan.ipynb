{
 "cells": [
  {
   "cell_type": "code",
   "execution_count": 1,
   "metadata": {},
   "outputs": [
    {
     "data": {
      "text/html": [
       "        <script type=\"text/javascript\">\n",
       "        window.PlotlyConfig = {MathJaxConfig: 'local'};\n",
       "        if (window.MathJax) {MathJax.Hub.Config({SVG: {font: \"STIX-Web\"}});}\n",
       "        if (typeof require !== 'undefined') {\n",
       "        require.undef(\"plotly\");\n",
       "        requirejs.config({\n",
       "            paths: {\n",
       "                'plotly': ['https://cdn.plot.ly/plotly-latest.min']\n",
       "            }\n",
       "        });\n",
       "        require(['plotly'], function(Plotly) {\n",
       "            window._Plotly = Plotly;\n",
       "        });\n",
       "        }\n",
       "        </script>\n",
       "        "
      ]
     },
     "metadata": {},
     "output_type": "display_data"
    },
    {
     "data": {
      "text/html": [
       "        <script type=\"text/javascript\">\n",
       "        window.PlotlyConfig = {MathJaxConfig: 'local'};\n",
       "        if (window.MathJax) {MathJax.Hub.Config({SVG: {font: \"STIX-Web\"}});}\n",
       "        if (typeof require !== 'undefined') {\n",
       "        require.undef(\"plotly\");\n",
       "        requirejs.config({\n",
       "            paths: {\n",
       "                'plotly': ['https://cdn.plot.ly/plotly-latest.min']\n",
       "            }\n",
       "        });\n",
       "        require(['plotly'], function(Plotly) {\n",
       "            window._Plotly = Plotly;\n",
       "        });\n",
       "        }\n",
       "        </script>\n",
       "        "
      ]
     },
     "metadata": {},
     "output_type": "display_data"
    },
    {
     "data": {
      "text/html": [
       "        <script type=\"text/javascript\">\n",
       "        window.PlotlyConfig = {MathJaxConfig: 'local'};\n",
       "        if (window.MathJax) {MathJax.Hub.Config({SVG: {font: \"STIX-Web\"}});}\n",
       "        if (typeof require !== 'undefined') {\n",
       "        require.undef(\"plotly\");\n",
       "        requirejs.config({\n",
       "            paths: {\n",
       "                'plotly': ['https://cdn.plot.ly/plotly-latest.min']\n",
       "            }\n",
       "        });\n",
       "        require(['plotly'], function(Plotly) {\n",
       "            window._Plotly = Plotly;\n",
       "        });\n",
       "        }\n",
       "        </script>\n",
       "        "
      ]
     },
     "metadata": {},
     "output_type": "display_data"
    },
    {
     "data": {
      "text/html": [
       "        <script type=\"text/javascript\">\n",
       "        window.PlotlyConfig = {MathJaxConfig: 'local'};\n",
       "        if (window.MathJax) {MathJax.Hub.Config({SVG: {font: \"STIX-Web\"}});}\n",
       "        if (typeof require !== 'undefined') {\n",
       "        require.undef(\"plotly\");\n",
       "        requirejs.config({\n",
       "            paths: {\n",
       "                'plotly': ['https://cdn.plot.ly/plotly-latest.min']\n",
       "            }\n",
       "        });\n",
       "        require(['plotly'], function(Plotly) {\n",
       "            window._Plotly = Plotly;\n",
       "        });\n",
       "        }\n",
       "        </script>\n",
       "        "
      ]
     },
     "metadata": {},
     "output_type": "display_data"
    }
   ],
   "source": [
    "from src.config import get_parser\n",
    "\n",
    "\n",
    "config = get_parser().parse_args(args=[])"
   ]
  },
  {
   "cell_type": "code",
   "execution_count": null,
   "metadata": {},
   "outputs": [],
   "source": [
    "import torch\n",
    "import torch.nn as nn\n",
    "\n",
    "from src.data.provider import Provider\n",
    "from src.models.stylist import Stylist\n",
    "from src.models.generator import Generator\n",
    "from src.models.discriminator import Discriminator\n",
    "from src.render.mesh_renderer import MeshPointsRenderer\n",
    "\n",
    "class Trainer:\n",
    "    \n",
    "    def __init__(self, config):\n",
    "        self.self.G_noise_amp =  config.G_noise_amp\n",
    "        self.z_size = config.latent_size\n",
    "        \n",
    "        self.device = torch.device(\"cuda\")\n",
    "        \n",
    "        self.S = Stylist(config).to(self.device)\n",
    "        self.G = Generator(config).to(self.device)\n",
    "        self.D = Discriminator(config).to(self.device)\n",
    "        self.R = MeshPointsRenderer(config).to(self.device)\n",
    "        \n",
    "        # Optimizers\n",
    "        self.optim_G = torch.optim.Adam(self.G.params())\n",
    "        self.optim_S = torch.optim.Adam(self.S.params())\n",
    "        self.optim_D = torch.optim.Adam(self.D.params())\n",
    "        # Loss functions\n",
    "        self.adversarial_loss = nn.BCELoss()\n",
    "        self.reconstruction_loss = nn.L1Loss()\n",
    "        \n",
    "    def step(self):\n",
    "        pass\n",
    "        \n",
    "    \n",
    "    def adversarial_step(self):\n",
    "        batch, mean_std = self.provider.adversarial(self.device)\n",
    "        images, points = batch['large'], batch['points'] # ?????\n",
    "        real_label = batch['real_label']\n",
    "        fake_label = batch['fake_label']\n",
    "        \n",
    "        # (1) Update Discriminator\n",
    "        ## Train with all-real batch\n",
    "        self.optim_D.zero_grad()\n",
    "        output = self.D(images)\n",
    "        errD_real =  self.adversarial_loss(output, real_label)\n",
    "        errD_real.backward()\n",
    "        D_x = output.mean().item() \n",
    "        \n",
    "        ## Train with all-fake batch\n",
    "        style = self.S(images)\n",
    "        pts =  self.G(pts, style)\n",
    "        g_images = self.R(pts, mean_std=mean_std)        \n",
    "        output = self.D(g_images)\n",
    "        errD_fake = self.adversarial_loss(output, label)    \n",
    "        errD_fake.backward()\n",
    "        \n",
    "        self.optim_D.step()\n",
    "        \n",
    "        # (2) Update Generator and Stylist\n",
    "        self.optim_S.zero_grad()\n",
    "        self.optim_G.zero_grad()\n",
    "        \n",
    "        output = discriminator(g_images)    \n",
    "        errG = self.adversarial_loss(output, real_label)\n",
    "        errG.backward()\n",
    "        \n",
    "        self.optim_S.step()\n",
    "        self.optim_G.step()\n",
    "        \n",
    "    def reconstruction_step(self):\n",
    "        batch = self.provider.reconstruction(self.device)\n",
    "        pts_coarse = batch['points_coarse']\n",
    "        pts_fine = batch['points']\n",
    "        vs = pts_fine.size(0)\n",
    "        \n",
    "        pts_noise = pts_coarse + torch.randn_like(pts_coarse) * self.G_noise_amp\n",
    "        style = torch.zeros(bs, z_size, device=self.device)\n",
    "        \n",
    "        self.optim_G.zero_grad()\n",
    "        \n",
    "        vertices = self.G(pts_noise, style)\n",
    "        errG_rec = self.reconstruction_loss(vertices, pts_fine)\n",
    "        \n",
    "        errG_rec.backward()\n",
    "        \n",
    "        self.optim_G.step()\n",
    "        \n",
    "        \n",
    "        \n",
    "        \n",
    "        \n",
    "        \n",
    "        \n",
    "        "
   ]
  }
 ],
 "metadata": {
  "kernelspec": {
   "display_name": "pytorch3d_0.3",
   "language": "python",
   "name": "pytorch3d_0.3"
  },
  "language_info": {
   "codemirror_mode": {
    "name": "ipython",
    "version": 3
   },
   "file_extension": ".py",
   "mimetype": "text/x-python",
   "name": "python",
   "nbconvert_exporter": "python",
   "pygments_lexer": "ipython3",
   "version": "3.8.5"
  }
 },
 "nbformat": 4,
 "nbformat_minor": 4
}
