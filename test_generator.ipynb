{
 "cells": [
  {
   "cell_type": "code",
   "execution_count": 1,
   "metadata": {},
   "outputs": [],
   "source": [
    "from argparse import Namespace\n",
    "\n",
    "\n",
    "import torch\n",
    "import torch.nn as nn\n",
    "import torch.nn.functional as F\n",
    "\n",
    "\n",
    "from src.models.generator import Generator\n",
    "from src.config import get_parser"
   ]
  },
  {
   "cell_type": "code",
   "execution_count": 2,
   "metadata": {},
   "outputs": [
    {
     "name": "stdout",
     "output_type": "stream",
     "text": [
      "Generator(\n",
      "  (head): ModConvLayer(\n",
      "    (conv): EqualizedModConv2d(3, 32, 3, upsample=False, downsample=False)\n",
      "  )\n",
      "  (body): Sequential(\n",
      "    (block1): ConvBlock(\n",
      "      (conv): Conv2d(32, 32, kernel_size=(3, 3), stride=(1, 1), padding=(1, 1))\n",
      "      (norm): BatchNorm2d(32, eps=1e-05, momentum=0.1, affine=True, track_running_stats=True)\n",
      "      (LeakyRelu): LeakyReLU(negative_slope=0.2, inplace=True)\n",
      "    )\n",
      "    (block2): ConvBlock(\n",
      "      (conv): Conv2d(32, 32, kernel_size=(3, 3), stride=(1, 1), padding=(1, 1))\n",
      "      (norm): BatchNorm2d(32, eps=1e-05, momentum=0.1, affine=True, track_running_stats=True)\n",
      "      (LeakyRelu): LeakyReLU(negative_slope=0.2, inplace=True)\n",
      "    )\n",
      "    (block3): ConvBlock(\n",
      "      (conv): Conv2d(32, 32, kernel_size=(3, 3), stride=(1, 1), padding=(1, 1))\n",
      "      (norm): BatchNorm2d(32, eps=1e-05, momentum=0.1, affine=True, track_running_stats=True)\n",
      "      (LeakyRelu): LeakyReLU(negative_slope=0.2, inplace=True)\n",
      "    )\n",
      "  )\n",
      "  (tail): Sequential(\n",
      "    (0): Conv2d(32, 3, kernel_size=(3, 3), stride=(1, 1), padding=(1, 1))\n",
      "    (1): Tanh()\n",
      "  )\n",
      ")\n"
     ]
    },
    {
     "data": {
      "text/plain": [
       "torch.Size([1, 3, 512, 512])"
      ]
     },
     "execution_count": 2,
     "metadata": {},
     "output_type": "execute_result"
    }
   ],
   "source": [
    "# opt = Namespace(\n",
    "#     dlatent_size=128,\n",
    "#     in_channel=3,\n",
    "#     out_channel=32,\n",
    "#     kernel=3,\n",
    "#     ker_size=3,\n",
    "#     # Body\n",
    "#     num_layer=5,\n",
    "#     nfc=32,\n",
    "#     min_nfc=32,\n",
    "#     padd_size=1, #math.floor(opt.ker_size/2)\n",
    "#     nc_im=3,  # image # channels\n",
    "    \n",
    "# )\n",
    "# from argparse import Namespace\n",
    "# from collections import OrderedDict\n",
    "\n",
    "# import torch\n",
    "# import torch.nn as nn\n",
    "# import torch.nn.functional as F\n",
    "\n",
    "# from src.stylegan2.op import fused_leaky_relu\n",
    "# from src.stylegan2.Blocks import ModConvLayer\n",
    "\n",
    "\n",
    "# class ConvBlock(nn.Sequential):\n",
    "#     def __init__(self, in_channel, out_channel, ker_size, padd, stride):\n",
    "#         super(ConvBlock,self).__init__()\n",
    "#         self.add_module('conv',nn.Conv2d(in_channel ,out_channel,kernel_size=ker_size,stride=stride,padding=padd)),\n",
    "#         self.add_module('norm',nn.BatchNorm2d(out_channel)),\n",
    "#         self.add_module('LeakyRelu',nn.LeakyReLU(0.2, inplace=True))\n",
    "\n",
    "#     def weights_init(m):\n",
    "#         classname = m.__class__.__name__\n",
    "#         if classname.find('Conv2d') != -1:\n",
    "#             m.weight.data.normal_(0.0, 0.02)\n",
    "#         elif classname.find('Norm') != -1:\n",
    "#             m.weight.data.normal_(1.0, 0.02)\n",
    "#             m.bias.data.fill_(0)\n",
    "\n",
    "# # Generator\n",
    "# # Takes a style and produces a high resolution model            \n",
    "# class Generator(nn.Module):\n",
    "#     def __init__(self, opt):\n",
    "#         super(Generator, self).__init__()\n",
    "#         self.noise_amp = opt.G_noise_amp\n",
    "#         blueprint = torch.load(opt.blueprint)\n",
    "#         self.register_buffer('vertices', blueprint['vertices'])\n",
    "#         self.register_buffer('normals', blueprint['normals'])\n",
    "        \n",
    "\n",
    "#         self.head = ModConvLayer(\n",
    "#             opt.dlatent_size, \n",
    "#             opt.in_channel,\n",
    "#             opt.out_channel, \n",
    "#             opt.ker_size, \n",
    "#         )\n",
    "#         self.body = nn.Sequential()\n",
    "#         for i in range(opt.num_layer-2):\n",
    "#             N = int(opt.nfc/pow(2,(i+1)))\n",
    "#             block = ConvBlock(max(2*N,opt.min_nfc),max(N, opt.min_nfc),opt.ker_size,opt.padd_size,1)\n",
    "#             self.body.add_module('block%d'%(i+1),block)\n",
    "        \n",
    "#         self.tail = nn.Sequential(\n",
    "#             nn.Conv2d(max(N,opt.min_nfc),opt.nc_im,kernel_size=opt.ker_size,stride =1,padding=opt.padd_size),\n",
    "#             nn.Tanh()\n",
    "#         )\n",
    "    \n",
    "#     def forward(self, style):\n",
    "#         vertices = self.vertices.expand(style.size(0), -1, -1, -1)\n",
    "#         noise = torch.randn_like(vertices) * self.noise_amp\n",
    "#         x = vertices + noise        \n",
    "#         x = self.head(x, style)        \n",
    "#         x = self.body(x)        \n",
    "#         x = self.tail(x)        \n",
    "#         return x\n",
    "    \n",
    "\n",
    "parser = get_parser()\n",
    "opt = parser.parse_args(args=[])\n",
    "opt\n",
    "\n",
    "G = Generator(opt)\n",
    "print(G)\n",
    "img = torch.rand(1, 3, 128, 128)\n",
    "style = torch.rand(1, opt.dlatent_size)\n",
    "G(style).shape"
   ]
  },
  {
   "cell_type": "code",
   "execution_count": 13,
   "metadata": {},
   "outputs": [
    {
     "data": {
      "text/plain": [
       "(torch.Size([1, 3, 512, 512]), torch.float64)"
      ]
     },
     "execution_count": 13,
     "metadata": {},
     "output_type": "execute_result"
    }
   ],
   "source": [
    "blueprint = torch.load(opt.blueprint)\n",
    "blueprint['vertices'].shape, blueprint['vertices'].dtype"
   ]
  },
  {
   "cell_type": "code",
   "execution_count": 5,
   "metadata": {},
   "outputs": [
    {
     "data": {
      "text/plain": [
       "torch.Size([1, 3, 512, 512])"
      ]
     },
     "execution_count": 5,
     "metadata": {},
     "output_type": "execute_result"
    }
   ],
   "source": [
    "blueprint['vertices'].permute(2, 0, 1)[None].shape"
   ]
  },
  {
   "cell_type": "code",
   "execution_count": 6,
   "metadata": {},
   "outputs": [],
   "source": [
    "blueprint = OrderedDict({\n",
    "    'vertices': blueprint['vertices'].permute(2, 0, 1)[None],\n",
    "    'normals': blueprint['normals'].permute(2, 0, 1)[None],\n",
    "})\n",
    "torch.save(blueprint, './data/blueprint.pt')"
   ]
  },
  {
   "cell_type": "code",
   "execution_count": 7,
   "metadata": {},
   "outputs": [
    {
     "data": {
      "text/plain": [
       "torch.Size([1, 2, 12, 12])"
      ]
     },
     "execution_count": 7,
     "metadata": {},
     "output_type": "execute_result"
    }
   ],
   "source": [
    "x =  torch.rand((1, 2, 12, 12))\n",
    "x.shape"
   ]
  },
  {
   "cell_type": "code",
   "execution_count": 9,
   "metadata": {},
   "outputs": [
    {
     "data": {
      "text/plain": [
       "torch.Size([3, 2, 12, 12])"
      ]
     },
     "execution_count": 9,
     "metadata": {},
     "output_type": "execute_result"
    }
   ],
   "source": [
    "x.expand_as(torch.rand((3, 2, 12, 12))).shape"
   ]
  },
  {
   "cell_type": "code",
   "execution_count": 11,
   "metadata": {},
   "outputs": [
    {
     "data": {
      "text/plain": [
       "torch.Size([4, 2, 12, 12])"
      ]
     },
     "execution_count": 11,
     "metadata": {},
     "output_type": "execute_result"
    }
   ],
   "source": [
    "x.expand(4, -1, -1, -1).shape"
   ]
  },
  {
   "cell_type": "code",
   "execution_count": 14,
   "metadata": {},
   "outputs": [],
   "source": [
    "blueprint = OrderedDict({\n",
    "    'vertices': blueprint['vertices'].float(),\n",
    "    'normals': blueprint['normals'].float(),\n",
    "})\n",
    "torch.save(blueprint, './data/blueprint.pt')"
   ]
  },
  {
   "cell_type": "code",
   "execution_count": null,
   "metadata": {},
   "outputs": [],
   "source": []
  }
 ],
 "metadata": {
  "kernelspec": {
   "display_name": "Python 3",
   "language": "python",
   "name": "python3"
  },
  "language_info": {
   "codemirror_mode": {
    "name": "ipython",
    "version": 3
   },
   "file_extension": ".py",
   "mimetype": "text/x-python",
   "name": "python",
   "nbconvert_exporter": "python",
   "pygments_lexer": "ipython3",
   "version": "3.8.5"
  }
 },
 "nbformat": 4,
 "nbformat_minor": 4
}
