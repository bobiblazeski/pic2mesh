{
 "cells": [
  {
   "cell_type": "code",
   "execution_count": 1,
   "metadata": {},
   "outputs": [
    {
     "data": {
      "text/html": [
       "        <script type=\"text/javascript\">\n",
       "        window.PlotlyConfig = {MathJaxConfig: 'local'};\n",
       "        if (window.MathJax) {MathJax.Hub.Config({SVG: {font: \"STIX-Web\"}});}\n",
       "        if (typeof require !== 'undefined') {\n",
       "        require.undef(\"plotly\");\n",
       "        requirejs.config({\n",
       "            paths: {\n",
       "                'plotly': ['https://cdn.plot.ly/plotly-latest.min']\n",
       "            }\n",
       "        });\n",
       "        require(['plotly'], function(Plotly) {\n",
       "            window._Plotly = Plotly;\n",
       "        });\n",
       "        }\n",
       "        </script>\n",
       "        "
      ]
     },
     "metadata": {},
     "output_type": "display_data"
    },
    {
     "data": {
      "text/html": [
       "        <script type=\"text/javascript\">\n",
       "        window.PlotlyConfig = {MathJaxConfig: 'local'};\n",
       "        if (window.MathJax) {MathJax.Hub.Config({SVG: {font: \"STIX-Web\"}});}\n",
       "        if (typeof require !== 'undefined') {\n",
       "        require.undef(\"plotly\");\n",
       "        requirejs.config({\n",
       "            paths: {\n",
       "                'plotly': ['https://cdn.plot.ly/plotly-latest.min']\n",
       "            }\n",
       "        });\n",
       "        require(['plotly'], function(Plotly) {\n",
       "            window._Plotly = Plotly;\n",
       "        });\n",
       "        }\n",
       "        </script>\n",
       "        "
      ]
     },
     "metadata": {},
     "output_type": "display_data"
    },
    {
     "data": {
      "text/html": [
       "        <script type=\"text/javascript\">\n",
       "        window.PlotlyConfig = {MathJaxConfig: 'local'};\n",
       "        if (window.MathJax) {MathJax.Hub.Config({SVG: {font: \"STIX-Web\"}});}\n",
       "        if (typeof require !== 'undefined') {\n",
       "        require.undef(\"plotly\");\n",
       "        requirejs.config({\n",
       "            paths: {\n",
       "                'plotly': ['https://cdn.plot.ly/plotly-latest.min']\n",
       "            }\n",
       "        });\n",
       "        require(['plotly'], function(Plotly) {\n",
       "            window._Plotly = Plotly;\n",
       "        });\n",
       "        }\n",
       "        </script>\n",
       "        "
      ]
     },
     "metadata": {},
     "output_type": "display_data"
    },
    {
     "data": {
      "text/html": [
       "        <script type=\"text/javascript\">\n",
       "        window.PlotlyConfig = {MathJaxConfig: 'local'};\n",
       "        if (window.MathJax) {MathJax.Hub.Config({SVG: {font: \"STIX-Web\"}});}\n",
       "        if (typeof require !== 'undefined') {\n",
       "        require.undef(\"plotly\");\n",
       "        requirejs.config({\n",
       "            paths: {\n",
       "                'plotly': ['https://cdn.plot.ly/plotly-latest.min']\n",
       "            }\n",
       "        });\n",
       "        require(['plotly'], function(Plotly) {\n",
       "            window._Plotly = Plotly;\n",
       "        });\n",
       "        }\n",
       "        </script>\n",
       "        "
      ]
     },
     "metadata": {},
     "output_type": "display_data"
    }
   ],
   "source": [
    "import torch\n",
    "import torch.nn as nn\n",
    "import torch.nn.functional as F\n",
    "import pytorch_lightning as pl\n",
    "from pytorch3d.loss import (\n",
    "    chamfer_distance,    \n",
    ")\n",
    "from pytorch3d.structures import Meshes\n",
    "from pytorch3d.ops import sample_points_from_meshes\n",
    "from src.callback.log_render_sample import LogRenderSample\n",
    "from src.utilities.util import (\n",
    "    grid_to_list,\n",
    "    make_faces,\n",
    "    list_to_grid,\n",
    ")"
   ]
  },
  {
   "cell_type": "code",
   "execution_count": 2,
   "metadata": {},
   "outputs": [
    {
     "data": {
      "text/plain": [
       "VariationalGenerator(\n",
       "  (encoder): Encoder(\n",
       "    (trunk): Sequential(\n",
       "      (conv0): ConvPoolBlock(\n",
       "        (conv): Conv2d(3, 256, kernel_size=(3, 3), stride=(1, 1), padding=(1, 1), bias=False)\n",
       "        (lrelu): LeakyReLU(negative_slope=0.2)\n",
       "        (pool): MaxPool2d(kernel_size=2, stride=2, padding=0, dilation=1, ceil_mode=False)\n",
       "      )\n",
       "      (conv1): ConvPoolBlock(\n",
       "        (conv): Conv2d(256, 256, kernel_size=(3, 3), stride=(1, 1), padding=(1, 1), bias=False)\n",
       "        (lrelu): LeakyReLU(negative_slope=0.2)\n",
       "        (pool): MaxPool2d(kernel_size=2, stride=2, padding=0, dilation=1, ceil_mode=False)\n",
       "      )\n",
       "      (avgpool): AdaptiveAvgPool2d(output_size=(1, 1))\n",
       "      (flatten): Flatten(start_dim=1, end_dim=-1)\n",
       "    )\n",
       "    (mu): Linear(in_features=256, out_features=128, bias=True)\n",
       "    (logVar): Linear(in_features=256, out_features=128, bias=True)\n",
       "  )\n",
       "  (synthesis): VariationalSynthesis(\n",
       "    (input): Slices2D()\n",
       "    (head): StyledConv2d(\n",
       "      (conv): ModulatedConv2d(\n",
       "        (modulation): Linear(in_features=128, out_features=3, bias=True)\n",
       "      )\n",
       "      (noise): NoiseInjection()\n",
       "      (act): LeakyReLU(negative_slope=0.2)\n",
       "    )\n",
       "    (trunk): ModuleList(\n",
       "      (0): StyledConv2d(\n",
       "        (conv): ModulatedConv2d(\n",
       "          (modulation): Linear(in_features=128, out_features=256, bias=True)\n",
       "        )\n",
       "        (noise): NoiseInjection()\n",
       "        (act): LeakyReLU(negative_slope=0.2)\n",
       "      )\n",
       "      (1): StyledConv2d(\n",
       "        (conv): ModulatedConv2d(\n",
       "          (modulation): Linear(in_features=128, out_features=256, bias=True)\n",
       "        )\n",
       "        (noise): NoiseInjection()\n",
       "        (act): LeakyReLU(negative_slope=0.2)\n",
       "      )\n",
       "    )\n",
       "    (tail): Sequential(\n",
       "      (0): Conv2d(256, 3, kernel_size=(3, 3), stride=(1, 1), padding=(1, 1), bias=False)\n",
       "      (1): Tanh()\n",
       "    )\n",
       "    (linear): Linear(in_features=128, out_features=128, bias=True)\n",
       "  )\n",
       ")"
      ]
     },
     "execution_count": 2,
     "metadata": {},
     "output_type": "execute_result"
    }
   ],
   "source": [
    "from src.models.style_generator import VariationalGenerator\n",
    "from src.config import get_parser\n",
    "\n",
    "config = get_parser().parse_args(args=[])  \n",
    "\n",
    "config.fast_image_size = 128\n",
    "config.grid_full_size = 16\n",
    "config.grid_slice_size = 16\n",
    "config.batch_size = 32\n",
    "config.stylist_channels = [3, 256, 256]\n",
    "config.synthesis_channels = [256, 256, 256]\n",
    "config.style_dim = 128\n",
    "config.log_mesh_interval = 250\n",
    "config.initial_input_fixed = True\n",
    "G = VariationalGenerator(config)    \n",
    "\n",
    "G#, decoder"
   ]
  },
  {
   "cell_type": "code",
   "execution_count": 3,
   "metadata": {
    "scrolled": true
   },
   "outputs": [
    {
     "name": "stdout",
     "output_type": "stream",
     "text": [
      "slice_data torch.Size([32, 3, 16, 16])\n",
      "slice_idx torch.Size([32, 2])\n"
     ]
    }
   ],
   "source": [
    "from src.data.sliced_render import SlicedRenderDataModule\n",
    "\n",
    "dm = SlicedRenderDataModule(config)\n",
    "batch = next(iter(dm.train_dataloader()))\n",
    "for k,v in batch.items():\n",
    "    print(k, v.shape)"
   ]
  },
  {
   "cell_type": "code",
   "execution_count": 4,
   "metadata": {
    "scrolled": true
   },
   "outputs": [
    {
     "data": {
      "text/plain": [
       "RenderToSurface(\n",
       "  (G): VariationalGenerator(\n",
       "    (encoder): Encoder(\n",
       "      (trunk): Sequential(\n",
       "        (conv0): ConvPoolBlock(\n",
       "          (conv): Conv2d(3, 256, kernel_size=(3, 3), stride=(1, 1), padding=(1, 1), bias=False)\n",
       "          (lrelu): LeakyReLU(negative_slope=0.2)\n",
       "          (pool): MaxPool2d(kernel_size=2, stride=2, padding=0, dilation=1, ceil_mode=False)\n",
       "        )\n",
       "        (conv1): ConvPoolBlock(\n",
       "          (conv): Conv2d(256, 256, kernel_size=(3, 3), stride=(1, 1), padding=(1, 1), bias=False)\n",
       "          (lrelu): LeakyReLU(negative_slope=0.2)\n",
       "          (pool): MaxPool2d(kernel_size=2, stride=2, padding=0, dilation=1, ceil_mode=False)\n",
       "        )\n",
       "        (avgpool): AdaptiveAvgPool2d(output_size=(1, 1))\n",
       "        (flatten): Flatten(start_dim=1, end_dim=-1)\n",
       "      )\n",
       "      (mu): Linear(in_features=256, out_features=128, bias=True)\n",
       "      (logVar): Linear(in_features=256, out_features=128, bias=True)\n",
       "    )\n",
       "    (synthesis): VariationalSynthesis(\n",
       "      (input): Slices2D()\n",
       "      (head): StyledConv2d(\n",
       "        (conv): ModulatedConv2d(\n",
       "          (modulation): Linear(in_features=128, out_features=3, bias=True)\n",
       "        )\n",
       "        (noise): NoiseInjection()\n",
       "        (act): LeakyReLU(negative_slope=0.2)\n",
       "      )\n",
       "      (trunk): ModuleList(\n",
       "        (0): StyledConv2d(\n",
       "          (conv): ModulatedConv2d(\n",
       "            (modulation): Linear(in_features=128, out_features=256, bias=True)\n",
       "          )\n",
       "          (noise): NoiseInjection()\n",
       "          (act): LeakyReLU(negative_slope=0.2)\n",
       "        )\n",
       "        (1): StyledConv2d(\n",
       "          (conv): ModulatedConv2d(\n",
       "            (modulation): Linear(in_features=128, out_features=256, bias=True)\n",
       "          )\n",
       "          (noise): NoiseInjection()\n",
       "          (act): LeakyReLU(negative_slope=0.2)\n",
       "        )\n",
       "      )\n",
       "      (tail): Sequential(\n",
       "        (0): Conv2d(256, 3, kernel_size=(3, 3), stride=(1, 1), padding=(1, 1), bias=False)\n",
       "        (1): Tanh()\n",
       "      )\n",
       "      (linear): Linear(in_features=128, out_features=128, bias=True)\n",
       "    )\n",
       "  )\n",
       ")"
      ]
     },
     "execution_count": 4,
     "metadata": {},
     "output_type": "execute_result"
    }
   ],
   "source": [
    "class RenderToSurface(pl.LightningModule):\n",
    "    \n",
    "    def __init__(self, hparams):\n",
    "        super().__init__()        \n",
    "        self.save_hyperparameters(hparams)\n",
    "        \n",
    "        self.G = VariationalGenerator(hparams)\n",
    "        self.faces = None                     \n",
    "\n",
    "    def kl_loss(self, mu, logVar):\n",
    "        return -0.5 * torch.sum(1 + logVar - mu.pow(2) - logVar.exp())\n",
    "         \n",
    "        \n",
    "    def training_step(self, batch, batch_idx):        \n",
    "        size = batch['slice_data'].shape[-1]\n",
    "        #v, rcn = self.G(batch['image'], batch['slice_idx'], size)\n",
    "        v, mu, logVar = self.G(batch['slice_data'], batch['slice_idx'], size)\n",
    "#         if self.faces is None:\n",
    "#             _, _, w, h = v.shape\n",
    "#             faces = make_faces(w, h)[None]\n",
    "#             self.faces = torch.tensor(faces, device=v.device)\n",
    "        #print(batch['image'].shape, v.shape, batch['grid'].shape)        \n",
    "        grid_loss = F.l1_loss(v, batch['slice_data'].reshape_as(v))\n",
    "        kl_loss = self.kl_loss(mu, logVar)\n",
    "        #loss_rcn =  F.l1_loss(rcn, batch['slice_data'])\n",
    "        #loss_rcn =  F.l1_loss(rcn, batch['image'])\n",
    "        #loss_grid = F.mse_loss(v, batch['grid'].reshape_as(v))\n",
    "        #loss_grid = F.l1_loss(v, list_to_grid(batch['grid']))\n",
    "        #v = grid_to_list(v)        \n",
    "        #meshes = Meshes(verts=v, faces=self.faces.expand(v.size(0), -1, -1))\n",
    "        #samples = sample_points_from_meshes(meshes)\n",
    "                \n",
    "        \n",
    "        #loss_samples, _ = chamfer_distance(samples, batch['samples'])        \n",
    "        loss = grid_loss + kl_loss #+ loss_rcn#+ loss_samples\n",
    "        \n",
    "        #self.log(f\"train/loss_samples\", loss_samples.item())\n",
    "        self.log(f\"train/loss_grid\", grid_loss.item())\n",
    "        self.log(f\"train/loss_kl\", kl_loss.item())\n",
    "        #self.log(f\"train/loss_rcn\", loss_rcn.item())\n",
    "        self.log(f\"train/loss\", loss.item())\n",
    "        return loss\n",
    "        \n",
    "        \n",
    "    def configure_optimizers(self):\n",
    "        lr, betas = 0.0003, (0.5, 0.999)        \n",
    "        opt_g = torch.optim.Adam(self.G.parameters(),  lr=lr)#, betas=betas)\n",
    "        return [opt_g], []\n",
    "                 \n",
    "model = RenderToSurface(config)\n",
    "model"
   ]
  },
  {
   "cell_type": "code",
   "execution_count": 5,
   "metadata": {},
   "outputs": [
    {
     "name": "stderr",
     "output_type": "stream",
     "text": [
      "/home/bobi/miniconda3/envs/pytorch3d_05/lib/python3.8/site-packages/torch/nn/functional.py:718: UserWarning:\n",
      "\n",
      "Named tensors and all their associated APIs are an experimental feature and subject to change. Please do not use them for anything important until they are released as stable. (Triggered internally at  /opt/conda/conda-bld/pytorch_1623448278899/work/c10/core/TensorImpl.h:1156.)\n",
      "\n"
     ]
    }
   ],
   "source": [
    "self = model\n",
    "size = batch['slice_data'].shape[-1]\n",
    "v, _, _ = self.G(batch['slice_data'], batch['slice_idx'], size)"
   ]
  },
  {
   "cell_type": "code",
   "execution_count": 6,
   "metadata": {
    "scrolled": false
   },
   "outputs": [
    {
     "name": "stderr",
     "output_type": "stream",
     "text": [
      "GPU available: True, used: True\n",
      "TPU available: False, using: 0 TPU cores\n",
      "IPU available: False, using: 0 IPUs\n",
      "LOCAL_RANK: 0 - CUDA_VISIBLE_DEVICES: [0]\n",
      "\n",
      "  | Name | Type                 | Params\n",
      "----------------------------------------------\n",
      "0 | G    | VariationalGenerator | 1.9 M \n",
      "----------------------------------------------\n",
      "1.9 M     Trainable params\n",
      "0         Non-trainable params\n",
      "1.9 M     Total params\n",
      "7.759     Total estimated model params size (MB)\n"
     ]
    },
    {
     "data": {
      "application/vnd.jupyter.widget-view+json": {
       "model_id": "9a43e3f0a7174506892f0e74e76f8ecb",
       "version_major": 2,
       "version_minor": 0
      },
      "text/plain": [
       "HBox(children=(FloatProgress(value=1.0, bar_style='info', description='Training', layout=Layout(flex='2'), max…"
      ]
     },
     "metadata": {},
     "output_type": "display_data"
    },
    {
     "name": "stderr",
     "output_type": "stream",
     "text": [
      "/home/bobi/miniconda3/envs/pytorch3d_05/lib/python3.8/site-packages/pytorch_lightning/trainer/trainer.py:1047: UserWarning:\n",
      "\n",
      "Detected KeyboardInterrupt, attempting graceful shutdown...\n",
      "\n"
     ]
    }
   ],
   "source": [
    "trainer = pl.Trainer(gpus=1, max_epochs=3000, #progress_bar_refresh_rate=5,\n",
    "                     #terminate_on_nan=True, \n",
    "                     #profiler=\"pytorch\",\n",
    "                     #log_every_n_steps=2, \n",
    "                     callbacks=[LogRenderSample(config)],\n",
    "                     precision=32,\n",
    "                     #resume_from_checkpoint=\"./lightning_logs/version_16/checkpoints/epoch=0-step=581.ckpt\"\n",
    "                    )\n",
    "trainer.fit(model, dm)"
   ]
  },
  {
   "cell_type": "code",
   "execution_count": 7,
   "metadata": {},
   "outputs": [
    {
     "ename": "AttributeError",
     "evalue": "'NoneType' object has no attribute 'shape'",
     "output_type": "error",
     "traceback": [
      "\u001b[0;31m---------------------------------------------------------------------------\u001b[0m",
      "\u001b[0;31mAttributeError\u001b[0m                            Traceback (most recent call last)",
      "\u001b[0;32m<ipython-input-7-caf15bae9ea4>\u001b[0m in \u001b[0;36m<module>\u001b[0;34m\u001b[0m\n\u001b[1;32m      2\u001b[0m \u001b[0msize\u001b[0m \u001b[0;34m=\u001b[0m \u001b[0mbatch\u001b[0m\u001b[0;34m[\u001b[0m\u001b[0;34m'slice_data'\u001b[0m\u001b[0;34m]\u001b[0m\u001b[0;34m.\u001b[0m\u001b[0mshape\u001b[0m\u001b[0;34m[\u001b[0m\u001b[0;34m-\u001b[0m\u001b[0;36m1\u001b[0m\u001b[0;34m]\u001b[0m\u001b[0;34m\u001b[0m\u001b[0;34m\u001b[0m\u001b[0m\n\u001b[1;32m      3\u001b[0m \u001b[0mv\u001b[0m\u001b[0;34m,\u001b[0m \u001b[0mrcn\u001b[0m \u001b[0;34m=\u001b[0m \u001b[0mself\u001b[0m\u001b[0;34m.\u001b[0m\u001b[0mG\u001b[0m\u001b[0;34m(\u001b[0m\u001b[0mbatch\u001b[0m\u001b[0;34m[\u001b[0m\u001b[0;34m'slice_data'\u001b[0m\u001b[0;34m]\u001b[0m\u001b[0;34m,\u001b[0m \u001b[0mbatch\u001b[0m\u001b[0;34m[\u001b[0m\u001b[0;34m'slice_idx'\u001b[0m\u001b[0;34m]\u001b[0m\u001b[0;34m,\u001b[0m \u001b[0msize\u001b[0m\u001b[0;34m)\u001b[0m\u001b[0;34m\u001b[0m\u001b[0;34m\u001b[0m\u001b[0m\n\u001b[0;32m----> 4\u001b[0;31m \u001b[0mv\u001b[0m\u001b[0;34m.\u001b[0m\u001b[0mshape\u001b[0m\u001b[0;34m,\u001b[0m \u001b[0mrcn\u001b[0m\u001b[0;34m.\u001b[0m\u001b[0mshape\u001b[0m\u001b[0;34m\u001b[0m\u001b[0;34m\u001b[0m\u001b[0m\n\u001b[0m",
      "\u001b[0;31mAttributeError\u001b[0m: 'NoneType' object has no attribute 'shape'"
     ]
    }
   ],
   "source": [
    "self = model\n",
    "size = batch['slice_data'].shape[-1]\n",
    "v, rcn = self.G(batch['slice_data'], batch['slice_idx'], size)\n",
    "v.shape, rcn.shape"
   ]
  },
  {
   "cell_type": "code",
   "execution_count": null,
   "metadata": {},
   "outputs": [],
   "source": [
    "self.G.stylist(batch['slice_data']).shape #[0]"
   ]
  },
  {
   "cell_type": "code",
   "execution_count": null,
   "metadata": {},
   "outputs": [],
   "source": [
    "grids = dm.train_dataloader().dataset.grids"
   ]
  },
  {
   "cell_type": "code",
   "execution_count": null,
   "metadata": {},
   "outputs": [],
   "source": [
    "res = torch.empty(len(grids), 3, grids[0].size(-2), grids[0].size(-1))\n",
    "res.shape"
   ]
  },
  {
   "cell_type": "code",
   "execution_count": null,
   "metadata": {},
   "outputs": [],
   "source": [
    "for i, t in enumerate(grids):\n",
    "    print(i)\n",
    "    res[i] = t"
   ]
  },
  {
   "cell_type": "code",
   "execution_count": null,
   "metadata": {},
   "outputs": [],
   "source": [
    "res.shape"
   ]
  },
  {
   "cell_type": "code",
   "execution_count": null,
   "metadata": {},
   "outputs": [],
   "source": [
    "torch.save(res, './data/scaled_32.pth')"
   ]
  },
  {
   "cell_type": "code",
   "execution_count": null,
   "metadata": {},
   "outputs": [],
   "source": [
    "import os"
   ]
  },
  {
   "cell_type": "code",
   "execution_count": null,
   "metadata": {},
   "outputs": [],
   "source": [
    "os.path.exists('./data/scaled_321.pth')"
   ]
  },
  {
   "cell_type": "code",
   "execution_count": null,
   "metadata": {},
   "outputs": [],
   "source": []
  }
 ],
 "metadata": {
  "kernelspec": {
   "display_name": "Python 3",
   "language": "python",
   "name": "python3"
  },
  "language_info": {
   "codemirror_mode": {
    "name": "ipython",
    "version": 3
   },
   "file_extension": ".py",
   "mimetype": "text/x-python",
   "name": "python",
   "nbconvert_exporter": "python",
   "pygments_lexer": "ipython3",
   "version": "3.8.11"
  }
 },
 "nbformat": 4,
 "nbformat_minor": 4
}
