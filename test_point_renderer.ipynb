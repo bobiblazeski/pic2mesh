{
 "cells": [
  {
   "cell_type": "code",
   "execution_count": 1,
   "metadata": {},
   "outputs": [
    {
     "data": {
      "text/html": [
       "        <script type=\"text/javascript\">\n",
       "        window.PlotlyConfig = {MathJaxConfig: 'local'};\n",
       "        if (window.MathJax) {MathJax.Hub.Config({SVG: {font: \"STIX-Web\"}});}\n",
       "        if (typeof require !== 'undefined') {\n",
       "        require.undef(\"plotly\");\n",
       "        requirejs.config({\n",
       "            paths: {\n",
       "                'plotly': ['https://cdn.plot.ly/plotly-latest.min']\n",
       "            }\n",
       "        });\n",
       "        require(['plotly'], function(Plotly) {\n",
       "            window._Plotly = Plotly;\n",
       "        });\n",
       "        }\n",
       "        </script>\n",
       "        "
      ]
     },
     "metadata": {},
     "output_type": "display_data"
    },
    {
     "data": {
      "text/html": [
       "        <script type=\"text/javascript\">\n",
       "        window.PlotlyConfig = {MathJaxConfig: 'local'};\n",
       "        if (window.MathJax) {MathJax.Hub.Config({SVG: {font: \"STIX-Web\"}});}\n",
       "        if (typeof require !== 'undefined') {\n",
       "        require.undef(\"plotly\");\n",
       "        requirejs.config({\n",
       "            paths: {\n",
       "                'plotly': ['https://cdn.plot.ly/plotly-latest.min']\n",
       "            }\n",
       "        });\n",
       "        require(['plotly'], function(Plotly) {\n",
       "            window._Plotly = Plotly;\n",
       "        });\n",
       "        }\n",
       "        </script>\n",
       "        "
      ]
     },
     "metadata": {},
     "output_type": "display_data"
    },
    {
     "data": {
      "text/html": [
       "        <script type=\"text/javascript\">\n",
       "        window.PlotlyConfig = {MathJaxConfig: 'local'};\n",
       "        if (window.MathJax) {MathJax.Hub.Config({SVG: {font: \"STIX-Web\"}});}\n",
       "        if (typeof require !== 'undefined') {\n",
       "        require.undef(\"plotly\");\n",
       "        requirejs.config({\n",
       "            paths: {\n",
       "                'plotly': ['https://cdn.plot.ly/plotly-latest.min']\n",
       "            }\n",
       "        });\n",
       "        require(['plotly'], function(Plotly) {\n",
       "            window._Plotly = Plotly;\n",
       "        });\n",
       "        }\n",
       "        </script>\n",
       "        "
      ]
     },
     "metadata": {},
     "output_type": "display_data"
    },
    {
     "data": {
      "text/html": [
       "        <script type=\"text/javascript\">\n",
       "        window.PlotlyConfig = {MathJaxConfig: 'local'};\n",
       "        if (window.MathJax) {MathJax.Hub.Config({SVG: {font: \"STIX-Web\"}});}\n",
       "        if (typeof require !== 'undefined') {\n",
       "        require.undef(\"plotly\");\n",
       "        requirejs.config({\n",
       "            paths: {\n",
       "                'plotly': ['https://cdn.plot.ly/plotly-latest.min']\n",
       "            }\n",
       "        });\n",
       "        require(['plotly'], function(Plotly) {\n",
       "            window._Plotly = Plotly;\n",
       "        });\n",
       "        }\n",
       "        </script>\n",
       "        "
      ]
     },
     "metadata": {},
     "output_type": "display_data"
    }
   ],
   "source": [
    "import time\n",
    "import matplotlib.pyplot as plt\n",
    "import torch\n",
    "\n",
    "from pytorch3d.structures import (\n",
    "    Pointclouds,\n",
    "    Meshes,\n",
    ")\n",
    "\n",
    "import torch\n",
    "from pytorch3d.ops import sample_points_from_meshes\n",
    "from pytorch3d.io import load_obj\n",
    "from pytorch3d.structures import (\n",
    "    Pointclouds,\n",
    "    Meshes,\n",
    ")\n",
    "from pytorch3d.renderer.blending import BlendParams\n",
    "from pytorch3d.renderer import TexturesVertex\n",
    "from src.render.points_renderer import PointsRenderer\n",
    "from src.render.pulsar_renderer import PulsarRenderer\n",
    "from src.config import get_parser\n",
    "from src.blueprint_sampler import BlueprintSampler\n",
    "from src.util import grid_to_list"
   ]
  },
  {
   "cell_type": "code",
   "execution_count": 2,
   "metadata": {},
   "outputs": [
    {
     "data": {
      "text/plain": [
       "(torch.Size([8, 65536, 3]),\n",
       " torch.Size([8, 65536, 3]),\n",
       " torch.Size([8, 130050, 3]))"
      ]
     },
     "execution_count": 2,
     "metadata": {},
     "output_type": "execute_result"
    }
   ],
   "source": [
    "# Set the cuda device\n",
    "device = torch.device(\"cuda:0\")\n",
    "torch.cuda.set_device(device)\n",
    "\n",
    "bs = 8\n",
    "    \n",
    "config = get_parser().parse_args(args=[])\n",
    "\n",
    "config.raster_image_size = 128\n",
    "\n",
    "blueprintSampler = BlueprintSampler(config)\n",
    "res = blueprintSampler(bs)\n",
    "points = res['points']\n",
    "normals = res['normals']\n",
    "faces = res['faces']\n",
    "\n",
    "points = grid_to_list(points).to(device)\n",
    "normals = grid_to_list(normals).to(device)\n",
    "faces = faces.to(device)\n",
    "\n",
    "points.shape, normals.shape, faces.shape"
   ]
  },
  {
   "cell_type": "code",
   "execution_count": 14,
   "metadata": {},
   "outputs": [],
   "source": [
    "import os\n",
    "import torch \n",
    "import torch.nn.functional as F \n",
    "\n",
    "from pytorch3d.structures import Pointclouds\n",
    "import pytorch3d.transforms as T3\n",
    "\n",
    "from pytorch3d.renderer import (\n",
    "    FoVPerspectiveCameras,\n",
    "    look_at_view_transform,\n",
    "    PointLights,\n",
    "    RasterizationSettings,\n",
    "    MeshRenderer, \n",
    "    MeshRasterizer,  \n",
    "    SoftPhongShader,\n",
    ")\n",
    "\n",
    "\n",
    "class MeshPointsRenderer(torch.nn.Module):\n",
    "    def __init__(self, opt):    \n",
    "        super(MeshPointsRenderer, self).__init__()\n",
    "        self.opt = opt\n",
    "        self.max_brightness = opt.raster_max_brightness        \n",
    "        trimap =  torch.load(os.path.join(opt.data_dir, \n",
    "            'trimap_{}.pth'.format(opt.data_patch_size)))        \n",
    "        self.register_buffer('faces',  trimap['faces'])\n",
    "        self.register_buffer('vert_tri_indices', trimap['vert_tri_indices'])\n",
    "        self.register_buffer('vert_tri_weights', trimap['vert_tri_weights'])\n",
    "        self.renderer = None\n",
    "    \n",
    "    def setup(self, device):\n",
    "        if  self.renderer is not None: return              \n",
    "        R, T = look_at_view_transform(\n",
    "            self.opt.viewpoint_distance, \n",
    "            self.opt.viewpoint_elevation, \n",
    "            self.opt.viewpoint_azimuth, \n",
    "            device=device)\n",
    "        cameras = FoVPerspectiveCameras(\n",
    "            device=device, R=R, T=T)\n",
    "        raster_settings = RasterizationSettings(\n",
    "            image_size= self.opt.raster_image_size, \n",
    "            blur_radius=0.0, \n",
    "            faces_per_pixel=1,\n",
    "        )\n",
    "        rasterizer= MeshRasterizer(\n",
    "            cameras=cameras, \n",
    "            raster_settings=raster_settings\n",
    "        )        \n",
    "        lights = PointLights(device=device, \n",
    "                             location=[self.opt.lights_location])\n",
    "        blend_params = BlendParams(background_color= (0.0, 0.0, 0.0),)\n",
    "        shader = SoftPhongShader(\n",
    "            device=device, \n",
    "            cameras=cameras,\n",
    "            lights=lights,\n",
    "            blend_params=blend_params,\n",
    "        )        \n",
    "        self.renderer = MeshRenderer(\n",
    "            rasterizer=rasterizer,\n",
    "            shader=shader\n",
    "        )                \n",
    "        \n",
    "    \n",
    "    def get_face_normals(self, vrt):\n",
    "        faces = self.faces\n",
    "        v1 = vrt.index_select(1,faces[:, 1]) - vrt.index_select(1, faces[:, 0])\n",
    "        v2 = vrt.index_select(1,faces[:, 2]) - vrt.index_select(1, faces[:, 0])\n",
    "        face_normals = F.normalize(v1.cross(v2), p=2, dim=-1)  # [F, 3]\n",
    "        return face_normals\n",
    "\n",
    "    def get_vertex_normals(self, vrt):\n",
    "        face_normals = self.get_face_normals(vrt)\n",
    "        bs = face_normals.size(0)\n",
    "        r, c = self.vert_tri_indices.shape\n",
    "        fn_group = face_normals.index_select(1, \n",
    "            self.vert_tri_indices.flatten()).reshape(bs, r, c, 3)\n",
    "        weighted_fn_group = fn_group * self.vert_tri_weights    \n",
    "        vertex_normals = weighted_fn_group.sum(dim=-2)\n",
    "        return F.normalize(vertex_normals, p=2, dim=-1)\n",
    "\n",
    "    \n",
    "    def __call__(self, verts, faces):\n",
    "        assert len(verts.shape) == 3 and verts.shape[-1] == 3\n",
    "        bs = verts.size(0)\n",
    "        verts_rgb = torch.ones_like(verts)\n",
    "        textures = TexturesVertex(verts_features=verts_rgb)        \n",
    "        mesh = Meshes(verts=verts, \n",
    "                      faces=faces,\n",
    "                      textures=textures)\n",
    "        return self.renderer(mesh)\n",
    "\n",
    "M = MeshPointsRenderer(config)    \n",
    "M.setup(device)\n",
    "\n",
    "R = PointsRenderer(config)\n",
    "R.setup(device)"
   ]
  },
  {
   "cell_type": "code",
   "execution_count": 18,
   "metadata": {
    "scrolled": false
   },
   "outputs": [
    {
     "name": "stdout",
     "output_type": "stream",
     "text": [
      "0.03169846534729004\n"
     ]
    },
    {
     "data": {
      "image/png": "[encoded data removed]",
      "text/plain": [
       "<Figure size 720x720 with 1 Axes>"
      ]
     },
     "metadata": {
      "needs_background": "light"
     },
     "output_type": "display_data"
    }
   ],
   "source": [
    "start_time = time.time()\n",
    "images = R(points, normals=normals)\n",
    "print(time.time() - start_time)\n",
    "\n",
    "plt.figure(figsize=(10, 10))\n",
    "plt.imshow(images[0, ..., :3].cpu().numpy())\n",
    "plt.grid(\"off\")\n",
    "plt.axis(\"off\");"
   ]
  },
  {
   "cell_type": "code",
   "execution_count": 9,
   "metadata": {},
   "outputs": [
    {
     "data": {
      "text/plain": [
       "(device(type='cuda', index=0), device(type='cuda', index=0))"
      ]
     },
     "execution_count": 9,
     "metadata": {},
     "output_type": "execute_result"
    }
   ],
   "source": [
    "points.device, faces.device"
   ]
  },
  {
   "cell_type": "code",
   "execution_count": 17,
   "metadata": {
    "scrolled": false
   },
   "outputs": [
    {
     "name": "stdout",
     "output_type": "stream",
     "text": [
      "0.08612370491027832\n"
     ]
    },
    {
     "data": {
      "image/png": "[encoded data removed]",
      "text/plain": [
       "<Figure size 720x720 with 1 Axes>"
      ]
     },
     "metadata": {
      "needs_background": "light"
     },
     "output_type": "display_data"
    }
   ],
   "source": [
    "start_time = time.time()\n",
    "images = M(points, faces)\n",
    "print(time.time() - start_time)\n",
    "\n",
    "plt.figure(figsize=(10, 10))\n",
    "plt.imshow(images[0, ..., :3].cpu().numpy())\n",
    "plt.grid(\"off\")\n",
    "plt.axis(\"off\");"
   ]
  },
  {
   "cell_type": "code",
   "execution_count": null,
   "metadata": {},
   "outputs": [],
   "source": [
    "P = PulsarRenderer(config)\n",
    "P.setup(device)"
   ]
  },
  {
   "cell_type": "code",
   "execution_count": 42,
   "metadata": {},
   "outputs": [
    {
     "name": "stdout",
     "output_type": "stream",
     "text": [
      "0.03096461296081543\n"
     ]
    },
    {
     "data": {
      "image/png": "[encoded data removed]",
      "text/plain": [
       "<Figure size 720x720 with 1 Axes>"
      ]
     },
     "metadata": {
      "needs_background": "light"
     },
     "output_type": "display_data"
    }
   ],
   "source": [
    "start_time = time.time()\n",
    "images = P(points)\n",
    "print(time.time() - start_time)\n",
    "\n",
    "plt.figure(figsize=(10, 10))\n",
    "plt.imshow(images[0, ..., :3].cpu().numpy())\n",
    "plt.grid(\"off\")\n",
    "plt.axis(\"off\");"
   ]
  },
  {
   "cell_type": "code",
   "execution_count": 27,
   "metadata": {},
   "outputs": [
    {
     "data": {
      "text/plain": [
       "(256, 128)"
      ]
     },
     "execution_count": 27,
     "metadata": {},
     "output_type": "execute_result"
    }
   ],
   "source": [
    "config.data_patch_size,  config.raster_image_size"
   ]
  },
  {
   "cell_type": "code",
   "execution_count": 19,
   "metadata": {},
   "outputs": [
    {
     "ename": "TypeError",
     "evalue": "__init__() got an unexpected keyword argument 'rasterizer'",
     "output_type": "error",
     "traceback": [
      "\u001b[0;31m---------------------------------------------------------------------------\u001b[0m",
      "\u001b[0;31mTypeError\u001b[0m                                 Traceback (most recent call last)",
      "\u001b[0;32m<ipython-input-19-388bb99ec09d>\u001b[0m in \u001b[0;36m<module>\u001b[0;34m\u001b[0m\n\u001b[1;32m     24\u001b[0m     \u001b[0mlights\u001b[0m\u001b[0;34m=\u001b[0m\u001b[0mlights\u001b[0m\u001b[0;34m\u001b[0m\u001b[0;34m\u001b[0m\u001b[0m\n\u001b[1;32m     25\u001b[0m )        \n\u001b[0;32m---> 26\u001b[0;31m self.renderer = MeshRenderer(\n\u001b[0m\u001b[1;32m     27\u001b[0m     \u001b[0mrasterizer\u001b[0m\u001b[0;34m=\u001b[0m\u001b[0mrasterizer\u001b[0m\u001b[0;34m,\u001b[0m\u001b[0;34m\u001b[0m\u001b[0;34m\u001b[0m\u001b[0m\n\u001b[1;32m     28\u001b[0m     \u001b[0mshader\u001b[0m\u001b[0;34m=\u001b[0m\u001b[0mshader\u001b[0m\u001b[0;34m\u001b[0m\u001b[0;34m\u001b[0m\u001b[0m\n",
      "\u001b[0;31mTypeError\u001b[0m: __init__() got an unexpected keyword argument 'rasterizer'"
     ]
    }
   ],
   "source": [
    "opt = config\n",
    "\n",
    "R, T = look_at_view_transform(\n",
    "    opt.viewpoint_distance, \n",
    "    opt.viewpoint_elevation, \n",
    "    opt.viewpoint_azimuth, \n",
    "    device=device)\n",
    "cameras = FoVPerspectiveCameras(\n",
    "    device=device, R=R, T=T)\n",
    "raster_settings = RasterizationSettings(\n",
    "    image_size= opt.raster_image_size, \n",
    "    blur_radius=0.0, \n",
    "    faces_per_pixel=1,\n",
    ")\n",
    "rasterizer= MeshRasterizer(\n",
    "    cameras=cameras, \n",
    "    raster_settings=raster_settings\n",
    ")        \n",
    "lights = PointLights(device=device, \n",
    "                     location=[opt.lights_location])\n",
    "shader = SoftPhongShader(\n",
    "    device=device, \n",
    "    cameras=cameras,\n",
    "    lights=lights\n",
    ")        \n",
    "self.renderer = MeshRenderer(\n",
    "    rasterizer=rasterizer,\n",
    "    shader=shader\n",
    ")     "
   ]
  },
  {
   "cell_type": "code",
   "execution_count": null,
   "metadata": {},
   "outputs": [],
   "source": []
  }
 ],
 "metadata": {
  "kernelspec": {
   "display_name": "pytorch3d_0.3",
   "language": "python",
   "name": "pytorch3d_0.3"
  },
  "language_info": {
   "codemirror_mode": {
    "name": "ipython",
    "version": 3
   },
   "file_extension": ".py",
   "mimetype": "text/x-python",
   "name": "python",
   "nbconvert_exporter": "python",
   "pygments_lexer": "ipython3",
   "version": "3.8.5"
  }
 },
 "nbformat": 4,
 "nbformat_minor": 4
}
