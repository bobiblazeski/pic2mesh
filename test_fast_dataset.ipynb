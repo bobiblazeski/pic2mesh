{
 "cells": [
  {
   "cell_type": "code",
   "execution_count": 1,
   "metadata": {},
   "outputs": [
    {
     "name": "stdout",
     "output_type": "stream",
     "text": [
      "18000\n"
     ]
    },
    {
     "data": {
      "text/plain": [
       "(torch.Size([3, 64, 64]), torch.Size([3, 256, 256]))"
      ]
     },
     "execution_count": 1,
     "metadata": {},
     "output_type": "execute_result"
    }
   ],
   "source": [
    "from src.data.fast_dataset import FastDataset\n",
    "from src.config import get_parser\n",
    "\n",
    "config = get_parser().parse_args(args=[])   \n",
    "\n",
    "ds = FastDataset(config)\n",
    "print(len(ds))\n",
    "\n",
    "ds[0]['outline'].shape, ds[0]['image'].shape"
   ]
  },
  {
   "cell_type": "code",
   "execution_count": 3,
   "metadata": {},
   "outputs": [
    {
     "name": "stdout",
     "output_type": "stream",
     "text": [
      "image torch.Size([3, 256, 256])\n",
      "outline torch.Size([3, 64, 64])\n"
     ]
    }
   ],
   "source": [
    "res = ds[0]\n",
    "for key in res.keys():\n",
    "    print(key, res[key].shape)"
   ]
  },
  {
   "cell_type": "code",
   "execution_count": 1,
   "metadata": {},
   "outputs": [
    {
     "data": {
      "text/plain": [
       "<src.data.fast_datamodule.FastDataModule at 0x7f96384a8520>"
      ]
     },
     "execution_count": 1,
     "metadata": {},
     "output_type": "execute_result"
    }
   ],
   "source": [
    "from src.config import get_parser\n",
    "\n",
    "config = get_parser().parse_args(args=[])   \n",
    "\n",
    "from src.data.fast_datamodule import FastDataModule\n",
    "    \n",
    "dm = FastDataModule(config)    \n",
    "dm"
   ]
  },
  {
   "cell_type": "code",
   "execution_count": 2,
   "metadata": {},
   "outputs": [
    {
     "name": "stdout",
     "output_type": "stream",
     "text": [
      "image torch.Size([8, 3, 256, 256])\n",
      "outline torch.Size([8, 3, 64, 64])\n"
     ]
    }
   ],
   "source": [
    "res =  next(iter(dm.train_dataloader()))\n",
    "for key in res.keys():\n",
    "    print(key, res[key].shape)"
   ]
  },
  {
   "cell_type": "code",
   "execution_count": null,
   "metadata": {},
   "outputs": [],
   "source": []
  }
 ],
 "metadata": {
  "kernelspec": {
   "display_name": "pytorch3d_0.3",
   "language": "python",
   "name": "pytorch3d_0.3"
  },
  "language_info": {
   "codemirror_mode": {
    "name": "ipython",
    "version": 3
   },
   "file_extension": ".py",
   "mimetype": "text/x-python",
   "name": "python",
   "nbconvert_exporter": "python",
   "pygments_lexer": "ipython3",
   "version": "3.8.5"
  }
 },
 "nbformat": 4,
 "nbformat_minor": 4
}
