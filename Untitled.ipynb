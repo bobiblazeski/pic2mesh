{
 "cells": [
  {
   "cell_type": "code",
   "execution_count": 29,
   "metadata": {
    "scrolled": true
   },
   "outputs": [
    {
     "data": {
      "text/plain": [
       "Generator(\n",
       "  (head): ConvBlock(\n",
       "    (conv): Conv2d(3, 256, kernel_size=(3, 3), stride=(1, 1), padding=(1, 1))\n",
       "    (norm): BatchNorm2d(256, eps=1e-05, momentum=0.1, affine=True, track_running_stats=True)\n",
       "    (LeakyRelu): LeakyReLU(negative_slope=0.2, inplace=True)\n",
       "  )\n",
       "  (b1): ConvBlock(\n",
       "    (conv): Conv2d(256, 256, kernel_size=(3, 3), stride=(1, 1), padding=(1, 1))\n",
       "    (norm): BatchNorm2d(256, eps=1e-05, momentum=0.1, affine=True, track_running_stats=True)\n",
       "    (LeakyRelu): LeakyReLU(negative_slope=0.2, inplace=True)\n",
       "  )\n",
       "  (b2): ConvBlock(\n",
       "    (conv): Conv2d(256, 256, kernel_size=(3, 3), stride=(1, 1), padding=(1, 1))\n",
       "    (norm): BatchNorm2d(256, eps=1e-05, momentum=0.1, affine=True, track_running_stats=True)\n",
       "    (LeakyRelu): LeakyReLU(negative_slope=0.2, inplace=True)\n",
       "  )\n",
       "  (b3): ConvBlock(\n",
       "    (conv): Conv2d(256, 256, kernel_size=(3, 3), stride=(1, 1), padding=(1, 1))\n",
       "    (norm): BatchNorm2d(256, eps=1e-05, momentum=0.1, affine=True, track_running_stats=True)\n",
       "    (LeakyRelu): LeakyReLU(negative_slope=0.2, inplace=True)\n",
       "  )\n",
       "  (s1): Conv2d(256, 3, kernel_size=(3, 3), stride=(1, 1), padding=(1, 1))\n",
       "  (s2): Conv2d(256, 3, kernel_size=(3, 3), stride=(1, 1), padding=(1, 1))\n",
       "  (s3): Conv2d(256, 3, kernel_size=(3, 3), stride=(1, 1), padding=(1, 1))\n",
       "  (p1): AvgPool2d(kernel_size=4, stride=4, padding=0)\n",
       "  (p2): AvgPool2d(kernel_size=2, stride=2, padding=0)\n",
       ")"
      ]
     },
     "execution_count": 29,
     "metadata": {},
     "output_type": "execute_result"
    }
   ],
   "source": [
    "import math\n",
    "from collections import OrderedDict\n",
    "\n",
    "import torch\n",
    "import torch.nn as nn\n",
    "import torch.nn.functional as F\n",
    "\n",
    "from src.stylegan2.op import fused_leaky_relu\n",
    "from src.stylegan2.Blocks import ModConvLayer\n",
    "#from src.models.blocks import ConvBlock\n",
    "from src.utilities.util import grid_to_list\n",
    "\n",
    "class ConvBlock(nn.Sequential):\n",
    "    def __init__(self, in_channel, out_ch, ker_size, stride, padding):\n",
    "        super(ConvBlock,self).__init__()\n",
    "        self.add_module('conv',nn.Conv2d(in_channel, out_ch, \n",
    "                                         kernel_size=ker_size,\n",
    "                                         stride=stride,\n",
    "                                         padding=padding)),\n",
    "        self.add_module('norm',nn.BatchNorm2d(out_ch)),\n",
    "        #self.add_module('norm',nn.InstanceNorm2d(out_ch)),\n",
    "        self.add_module('LeakyRelu',nn.LeakyReLU(0.2, inplace=True))\n",
    "        #self.add_module('Nonlinearity',nn.Tanh())\n",
    "        #self.add_module('GELU',nn.GELU())\n",
    "        #self.add_module('Nonlinearity', nn.Hardswish(inplace=True))\n",
    "\n",
    "#     def weights_init(m):\n",
    "#         classname = m.__class__.__name__\n",
    "#         if classname.find('Conv2d') != -1:\n",
    "#             m.weight.data.normal_(0.0, 0.02)\n",
    "#         elif classname.find('Norm') != -1:\n",
    "#             m.weight.data.normal_(1.0, 0.02)\n",
    "#             m.bias.data.fill_(0) \n",
    "\n",
    "\n",
    "    \n",
    "class Generator(nn.Module):\n",
    "    def __init__(self, opt):\n",
    "        super(Generator, self).__init__()                      \n",
    "        in_ch, out_ch, ker_size, stride, padding = (opt.G_in_ch,\n",
    "            opt.G_out_ch, opt.ker_size, opt.stride, opt.padd_size)\n",
    "        self.head =  ConvBlock(in_ch, out_ch, ker_size, stride=stride, padding=padding)\n",
    "        self.b1 = ConvBlock(out_ch, out_ch, ker_size, stride=stride, padding=padding)\n",
    "        self.b2 = ConvBlock(out_ch, out_ch, ker_size, stride=stride, padding=padding)\n",
    "        self.b3 = ConvBlock(out_ch, out_ch, ker_size, stride=stride, padding=padding)        \n",
    "        \n",
    "        \n",
    "        self.s1 = nn.Conv2d(out_ch, 3, ker_size, stride=stride, padding=padding)\n",
    "        self.s2 = nn.Conv2d(out_ch, 3, ker_size, stride=stride, padding=padding)\n",
    "        self.s3 = nn.Conv2d(out_ch, 3, ker_size, stride=stride, padding=padding)\n",
    "        \n",
    "        self.p1 = nn.AvgPool2d(kernel_size=4, stride=4)\n",
    "        self.p2 = nn.AvgPool2d(kernel_size=2, stride=2)\n",
    "        #self.p3 = nn.AvgPool2d(kernel_size=2, stride=2)\n",
    "        \n",
    "    \n",
    "    def upscale(self, x, scale_factor):#, mode='nearest'):\n",
    "        #return F.interpolate(x, size=size, mode='bicubic', align_corners=True)\n",
    "        return F.interpolate(x, scale_factor=scale_factor, mode='bilinear', align_corners=True)\n",
    "        #return F.interpolate(x, size=size, mode=mode)\n",
    "    \n",
    "    def forward(self, points):                        \n",
    "        x = self.head(points)\n",
    "        \n",
    "        x = self.b1(x)\n",
    "        vrt = self.upscale(self.s1(self.p1(x)), 4) + points\n",
    "        \n",
    "        x = self.b2(x)\n",
    "        vrt = self.upscale(self.s2(self.p2(x)), 2) + vrt\n",
    "        \n",
    "        x = self.b3(x)        \n",
    "        vrt = self.s3(x) + vrt\n",
    "        \n",
    "        return vrt  \n",
    " \n",
    "from src.config import get_parser\n",
    "\n",
    "config = get_parser().parse_args(args=[])\n",
    "\n",
    "G = Generator(config)\n",
    "G"
   ]
  },
  {
   "cell_type": "code",
   "execution_count": 30,
   "metadata": {
    "scrolled": true
   },
   "outputs": [
    {
     "data": {
      "text/plain": [
       "torch.Size([1, 3, 64, 64])"
      ]
     },
     "execution_count": 30,
     "metadata": {},
     "output_type": "execute_result"
    }
   ],
   "source": [
    "G(torch.rand(1, 3, 64, 64)).shape"
   ]
  },
  {
   "cell_type": "code",
   "execution_count": 23,
   "metadata": {},
   "outputs": [
    {
     "name": "stdout",
     "output_type": "stream",
     "text": [
      "Conv2d(3, 3, kernel_size=(3, 3), stride=(1, 1), padding=(2, 2), dilation=(2, 2))\n"
     ]
    },
    {
     "data": {
      "text/plain": [
       "torch.Size([1, 3, 64, 64])"
      ]
     },
     "execution_count": 23,
     "metadata": {},
     "output_type": "execute_result"
    }
   ],
   "source": [
    "conv = nn.Conv2d(3, 3, kernel_size=(3, 3), stride=(1, 1), padding=(2, 2), dilation=(2, 2))\n",
    "print(conv)\n",
    "conv(torch.rand(1, 3, 64, 64)).shape"
   ]
  },
  {
   "cell_type": "code",
   "execution_count": 26,
   "metadata": {},
   "outputs": [
    {
     "data": {
      "text/plain": [
       "torch.Size([1, 3, 32, 32])"
      ]
     },
     "execution_count": 26,
     "metadata": {},
     "output_type": "execute_result"
    }
   ],
   "source": [
    "nn.AvgPool2d(kernel_size=2, stride=2)(torch.rand(1, 3, 64, 64)).shape"
   ]
  },
  {
   "cell_type": "code",
   "execution_count": 28,
   "metadata": {},
   "outputs": [
    {
     "data": {
      "text/plain": [
       "torch.Size([1, 3, 16, 16])"
      ]
     },
     "execution_count": 28,
     "metadata": {},
     "output_type": "execute_result"
    }
   ],
   "source": [
    "nn.AvgPool2d(kernel_size=4, stride=4)(torch.rand(1, 3, 64, 64)).shape"
   ]
  },
  {
   "cell_type": "code",
   "execution_count": null,
   "metadata": {},
   "outputs": [],
   "source": []
  }
 ],
 "metadata": {
  "kernelspec": {
   "display_name": "pytorch3d_0.3",
   "language": "python",
   "name": "pytorch3d_0.3"
  },
  "language_info": {
   "codemirror_mode": {
    "name": "ipython",
    "version": 3
   },
   "file_extension": ".py",
   "mimetype": "text/x-python",
   "name": "python",
   "nbconvert_exporter": "python",
   "pygments_lexer": "ipython3",
   "version": "3.8.5"
  }
 },
 "nbformat": 4,
 "nbformat_minor": 4
}
