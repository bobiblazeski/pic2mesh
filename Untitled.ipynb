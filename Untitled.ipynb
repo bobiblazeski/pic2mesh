{
 "cells": [
  {
   "cell_type": "code",
   "execution_count": 21,
   "metadata": {},
   "outputs": [],
   "source": [
    "import torch\n",
    "import torch.nn.functional as F\n",
    "from pytorch3d.io import (\n",
    "    load_obj,\n",
    "    load_ply,\n",
    "\n",
    ")\n",
    "from pytorch3d.ops import sample_points_from_meshes\n",
    "from pytorch3d.structures import Meshes\n",
    "\n",
    "from src.utilities.util import scale_geometry"
   ]
  },
  {
   "cell_type": "code",
   "execution_count": 6,
   "metadata": {},
   "outputs": [],
   "source": [
    "trg_obj = '/home/bobi/Desktop/pic2mesh/data/stl_corrected/abe_white_inpatient.stl'\n",
    "\n",
    "device = torch.device('cpu')\n",
    "# We read the target 3D model using load_obj\n",
    "verts, faces = scale_geometry(trg_obj, device, offset=0.02)\n",
    "\n",
    "trg_mesh = Meshes(verts=[verts], faces=[faces])"
   ]
  },
  {
   "cell_type": "code",
   "execution_count": 13,
   "metadata": {},
   "outputs": [
    {
     "data": {
      "text/plain": [
       "torch.Size([16384, 3])"
      ]
     },
     "execution_count": 13,
     "metadata": {},
     "output_type": "execute_result"
    }
   ],
   "source": [
    "samples = sample_points_from_meshes(trg_mesh, 128**2)[0]\n",
    "samples.shape"
   ]
  },
  {
   "cell_type": "code",
   "execution_count": 16,
   "metadata": {},
   "outputs": [
    {
     "data": {
      "text/plain": [
       "torch.Size([3, 128, 128])"
      ]
     },
     "execution_count": 16,
     "metadata": {},
     "output_type": "execute_result"
    }
   ],
   "source": [
    "samples =  samples.t().reshape(3, 128, 128)\n",
    "samples.shape"
   ]
  },
  {
   "cell_type": "code",
   "execution_count": 18,
   "metadata": {},
   "outputs": [
    {
     "data": {
      "text/plain": [
       "torch.Size([3, 128, 128])"
      ]
     },
     "execution_count": 18,
     "metadata": {},
     "output_type": "execute_result"
    }
   ],
   "source": [
    "samples.contiguous().shape"
   ]
  },
  {
   "cell_type": "code",
   "execution_count": 20,
   "metadata": {},
   "outputs": [
    {
     "data": {
      "text/plain": [
       "(torch.Size([3, 256, 256]), torch.Size([3, 256, 256]))"
      ]
     },
     "execution_count": 20,
     "metadata": {},
     "output_type": "execute_result"
    }
   ],
   "source": [
    "grid = torch.load('/home/bobi/Desktop/pic2mesh/data/stl_grid/anakin_skywalker_battlefront_2_256.pth')\n",
    "grid['vertices'].shape, grid['normals'].shape"
   ]
  },
  {
   "cell_type": "code",
   "execution_count": null,
   "metadata": {},
   "outputs": [],
   "source": [
    "F.normalize(grid['vertices'])\n",
    "\n",
    "grid = torch.load(grid_file)\n",
    "vertices, normals = grid['vertices'][None], grid['normals'][None]\n",
    "#vertices = scale(vertices, self.baseline_size)\n",
    "#normals = self.scale(normals, self.baseline_size)\n",
    "\n",
    "normals = F.normalize(normals, dim=1 )"
   ]
  }
 ],
 "metadata": {
  "kernelspec": {
   "display_name": "pytorch3d_0.3",
   "language": "python",
   "name": "pytorch3d_0.3"
  },
  "language_info": {
   "codemirror_mode": {
    "name": "ipython",
    "version": 3
   },
   "file_extension": ".py",
   "mimetype": "text/x-python",
   "name": "python",
   "nbconvert_exporter": "python",
   "pygments_lexer": "ipython3",
   "version": "3.8.5"
  }
 },
 "nbformat": 4,
 "nbformat_minor": 4
}
