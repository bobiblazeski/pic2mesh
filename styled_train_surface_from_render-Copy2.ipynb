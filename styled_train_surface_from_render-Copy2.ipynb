{
 "cells": [
  {
   "cell_type": "code",
   "execution_count": 1,
   "metadata": {},
   "outputs": [
    {
     "data": {
      "text/html": [
       "        <script type=\"text/javascript\">\n",
       "        window.PlotlyConfig = {MathJaxConfig: 'local'};\n",
       "        if (window.MathJax) {MathJax.Hub.Config({SVG: {font: \"STIX-Web\"}});}\n",
       "        if (typeof require !== 'undefined') {\n",
       "        require.undef(\"plotly\");\n",
       "        requirejs.config({\n",
       "            paths: {\n",
       "                'plotly': ['https://cdn.plot.ly/plotly-latest.min']\n",
       "            }\n",
       "        });\n",
       "        require(['plotly'], function(Plotly) {\n",
       "            window._Plotly = Plotly;\n",
       "        });\n",
       "        }\n",
       "        </script>\n",
       "        "
      ]
     },
     "metadata": {},
     "output_type": "display_data"
    },
    {
     "data": {
      "text/html": [
       "        <script type=\"text/javascript\">\n",
       "        window.PlotlyConfig = {MathJaxConfig: 'local'};\n",
       "        if (window.MathJax) {MathJax.Hub.Config({SVG: {font: \"STIX-Web\"}});}\n",
       "        if (typeof require !== 'undefined') {\n",
       "        require.undef(\"plotly\");\n",
       "        requirejs.config({\n",
       "            paths: {\n",
       "                'plotly': ['https://cdn.plot.ly/plotly-latest.min']\n",
       "            }\n",
       "        });\n",
       "        require(['plotly'], function(Plotly) {\n",
       "            window._Plotly = Plotly;\n",
       "        });\n",
       "        }\n",
       "        </script>\n",
       "        "
      ]
     },
     "metadata": {},
     "output_type": "display_data"
    },
    {
     "data": {
      "text/html": [
       "        <script type=\"text/javascript\">\n",
       "        window.PlotlyConfig = {MathJaxConfig: 'local'};\n",
       "        if (window.MathJax) {MathJax.Hub.Config({SVG: {font: \"STIX-Web\"}});}\n",
       "        if (typeof require !== 'undefined') {\n",
       "        require.undef(\"plotly\");\n",
       "        requirejs.config({\n",
       "            paths: {\n",
       "                'plotly': ['https://cdn.plot.ly/plotly-latest.min']\n",
       "            }\n",
       "        });\n",
       "        require(['plotly'], function(Plotly) {\n",
       "            window._Plotly = Plotly;\n",
       "        });\n",
       "        }\n",
       "        </script>\n",
       "        "
      ]
     },
     "metadata": {},
     "output_type": "display_data"
    },
    {
     "data": {
      "text/html": [
       "        <script type=\"text/javascript\">\n",
       "        window.PlotlyConfig = {MathJaxConfig: 'local'};\n",
       "        if (window.MathJax) {MathJax.Hub.Config({SVG: {font: \"STIX-Web\"}});}\n",
       "        if (typeof require !== 'undefined') {\n",
       "        require.undef(\"plotly\");\n",
       "        requirejs.config({\n",
       "            paths: {\n",
       "                'plotly': ['https://cdn.plot.ly/plotly-latest.min']\n",
       "            }\n",
       "        });\n",
       "        require(['plotly'], function(Plotly) {\n",
       "            window._Plotly = Plotly;\n",
       "        });\n",
       "        }\n",
       "        </script>\n",
       "        "
      ]
     },
     "metadata": {},
     "output_type": "display_data"
    }
   ],
   "source": [
    "import torch\n",
    "import torch.nn as nn\n",
    "import torch.nn.functional as F\n",
    "import pytorch_lightning as pl\n",
    "from pytorch3d.loss import (\n",
    "    chamfer_distance,    \n",
    ")\n",
    "from pytorch3d.structures import Meshes\n",
    "from pytorch3d.ops import sample_points_from_meshes\n",
    "from src.callback.log_render_sample import LogRenderSample\n",
    "from src.utilities.util import (\n",
    "    grid_to_list,\n",
    "    make_faces,\n",
    "    list_to_grid,\n",
    ")"
   ]
  },
  {
   "cell_type": "code",
   "execution_count": 2,
   "metadata": {},
   "outputs": [
    {
     "data": {
      "text/plain": [
       "StyleGenerator(\n",
       "  (stylist): Stylist(\n",
       "    (conv0): ConvPoolBlock(\n",
       "      (conv): Conv2d(1, 64, kernel_size=(3, 3), stride=(1, 1), padding=(1, 1), bias=False)\n",
       "      (lrelu): LeakyReLU(negative_slope=0.2)\n",
       "      (pool): MaxPool2d(kernel_size=2, stride=2, padding=0, dilation=1, ceil_mode=False)\n",
       "    )\n",
       "    (conv1): ConvPoolBlock(\n",
       "      (conv): Conv2d(64, 64, kernel_size=(3, 3), stride=(1, 1), padding=(1, 1), bias=False)\n",
       "      (lrelu): LeakyReLU(negative_slope=0.2)\n",
       "      (pool): MaxPool2d(kernel_size=2, stride=2, padding=0, dilation=1, ceil_mode=False)\n",
       "    )\n",
       "    (conv2): ConvPoolBlock(\n",
       "      (conv): Conv2d(64, 64, kernel_size=(3, 3), stride=(1, 1), padding=(1, 1), bias=False)\n",
       "      (lrelu): LeakyReLU(negative_slope=0.2)\n",
       "      (pool): MaxPool2d(kernel_size=2, stride=2, padding=0, dilation=1, ceil_mode=False)\n",
       "    )\n",
       "    (avgpool): AdaptiveAvgPool2d(output_size=(1, 1))\n",
       "    (flatten): Flatten(start_dim=1, end_dim=-1)\n",
       "    (linear): Linear(in_features=64, out_features=8, bias=True)\n",
       "  )\n",
       "  (synthesis): Synthesis(\n",
       "    (input): Slices2D()\n",
       "    (head): ModulatedConv2d(\n",
       "      (modulation): Linear(in_features=8, out_features=3, bias=True)\n",
       "    )\n",
       "    (trunk): ModuleList(\n",
       "      (0): ConvBlock(\n",
       "        (conv): Conv2d(128, 128, kernel_size=(3, 3), stride=(1, 1), padding=(1, 1), bias=False)\n",
       "        (lrelu): LeakyReLU(negative_slope=0.2)\n",
       "      )\n",
       "      (1): ConvBlock(\n",
       "        (conv): Conv2d(128, 128, kernel_size=(3, 3), stride=(1, 1), padding=(1, 1), bias=False)\n",
       "        (lrelu): LeakyReLU(negative_slope=0.2)\n",
       "      )\n",
       "    )\n",
       "    (tail): Sequential(\n",
       "      (0): Conv2d(128, 3, kernel_size=(3, 3), stride=(1, 1), padding=(1, 1), bias=False)\n",
       "      (1): Tanh()\n",
       "    )\n",
       "  )\n",
       "  (decoder): Decoder(\n",
       "    (head): Linear(in_features=8, out_features=256, bias=True)\n",
       "    (trunk): Sequential(\n",
       "      (0): UpBlock(\n",
       "        (upsample): UpsamplingBilinear2d(scale_factor=2.0, mode=bilinear)\n",
       "        (conv): Conv2d(1, 64, kernel_size=(3, 3), stride=(1, 1), padding=(1, 1), bias=False)\n",
       "        (lrelu): LeakyReLU(negative_slope=0.2)\n",
       "      )\n",
       "      (1): UpBlock(\n",
       "        (upsample): UpsamplingBilinear2d(scale_factor=2.0, mode=bilinear)\n",
       "        (conv): Conv2d(64, 64, kernel_size=(3, 3), stride=(1, 1), padding=(1, 1), bias=False)\n",
       "        (lrelu): LeakyReLU(negative_slope=0.2)\n",
       "      )\n",
       "      (2): UpBlock(\n",
       "        (upsample): UpsamplingBilinear2d(scale_factor=2.0, mode=bilinear)\n",
       "        (conv): Conv2d(64, 64, kernel_size=(3, 3), stride=(1, 1), padding=(1, 1), bias=False)\n",
       "        (lrelu): LeakyReLU(negative_slope=0.2)\n",
       "      )\n",
       "    )\n",
       "    (tail): Sequential(\n",
       "      (0): Conv2d(64, 1, kernel_size=(3, 3), stride=(1, 1), padding=(1, 1), bias=False)\n",
       "      (1): Tanh()\n",
       "    )\n",
       "  )\n",
       ")"
      ]
     },
     "execution_count": 2,
     "metadata": {},
     "output_type": "execute_result"
    }
   ],
   "source": [
    "from src.models.style_generator import StyleGenerator\n",
    "from src.config import get_parser\n",
    "\n",
    "config = get_parser().parse_args(args=[])  \n",
    "\n",
    "config.fast_image_size = 128\n",
    "config.grid_full_size = 32\n",
    "config.grid_slice_size = 16\n",
    "config.batch_size = 32\n",
    "config.stylist_channels = [1, 64, 64, 64]\n",
    "config.synthesis_channels = [128, 128, 128]\n",
    "config.style_dim = 8\n",
    "config.log_mesh_interval = 1000\n",
    "config.initial_input_fixed = True\n",
    "G = StyleGenerator(config)    \n",
    "\n",
    "G#, decoder"
   ]
  },
  {
   "cell_type": "code",
   "execution_count": 3,
   "metadata": {
    "scrolled": true
   },
   "outputs": [
    {
     "name": "stdout",
     "output_type": "stream",
     "text": [
      "image torch.Size([32, 1, 128, 128])\n",
      "slice_data torch.Size([32, 3, 16, 16])\n",
      "slice_idx torch.Size([32, 2])\n"
     ]
    }
   ],
   "source": [
    "from src.data.sliced_render import SlicedRenderDataModule\n",
    "\n",
    "dm = SlicedRenderDataModule(config)\n",
    "batch = next(iter(dm.train_dataloader()))\n",
    "for k,v in batch.items():\n",
    "    print(k, v.shape)"
   ]
  },
  {
   "cell_type": "code",
   "execution_count": 4,
   "metadata": {},
   "outputs": [
    {
     "data": {
      "text/plain": [
       "RenderToSurface(\n",
       "  (G): StyleGenerator(\n",
       "    (stylist): Stylist(\n",
       "      (conv0): ConvPoolBlock(\n",
       "        (conv): Conv2d(1, 64, kernel_size=(3, 3), stride=(1, 1), padding=(1, 1), bias=False)\n",
       "        (lrelu): LeakyReLU(negative_slope=0.2)\n",
       "        (pool): MaxPool2d(kernel_size=2, stride=2, padding=0, dilation=1, ceil_mode=False)\n",
       "      )\n",
       "      (conv1): ConvPoolBlock(\n",
       "        (conv): Conv2d(64, 64, kernel_size=(3, 3), stride=(1, 1), padding=(1, 1), bias=False)\n",
       "        (lrelu): LeakyReLU(negative_slope=0.2)\n",
       "        (pool): MaxPool2d(kernel_size=2, stride=2, padding=0, dilation=1, ceil_mode=False)\n",
       "      )\n",
       "      (conv2): ConvPoolBlock(\n",
       "        (conv): Conv2d(64, 64, kernel_size=(3, 3), stride=(1, 1), padding=(1, 1), bias=False)\n",
       "        (lrelu): LeakyReLU(negative_slope=0.2)\n",
       "        (pool): MaxPool2d(kernel_size=2, stride=2, padding=0, dilation=1, ceil_mode=False)\n",
       "      )\n",
       "      (avgpool): AdaptiveAvgPool2d(output_size=(1, 1))\n",
       "      (flatten): Flatten(start_dim=1, end_dim=-1)\n",
       "      (linear): Linear(in_features=64, out_features=8, bias=True)\n",
       "    )\n",
       "    (synthesis): Synthesis(\n",
       "      (input): Slices2D()\n",
       "      (head): ModulatedConv2d(\n",
       "        (modulation): Linear(in_features=8, out_features=3, bias=True)\n",
       "      )\n",
       "      (trunk): ModuleList(\n",
       "        (0): ConvBlock(\n",
       "          (conv): Conv2d(128, 128, kernel_size=(3, 3), stride=(1, 1), padding=(1, 1), bias=False)\n",
       "          (lrelu): LeakyReLU(negative_slope=0.2)\n",
       "        )\n",
       "        (1): ConvBlock(\n",
       "          (conv): Conv2d(128, 128, kernel_size=(3, 3), stride=(1, 1), padding=(1, 1), bias=False)\n",
       "          (lrelu): LeakyReLU(negative_slope=0.2)\n",
       "        )\n",
       "      )\n",
       "      (tail): Sequential(\n",
       "        (0): Conv2d(128, 3, kernel_size=(3, 3), stride=(1, 1), padding=(1, 1), bias=False)\n",
       "        (1): Tanh()\n",
       "      )\n",
       "    )\n",
       "    (decoder): Decoder(\n",
       "      (head): Linear(in_features=8, out_features=256, bias=True)\n",
       "      (trunk): Sequential(\n",
       "        (0): UpBlock(\n",
       "          (upsample): UpsamplingBilinear2d(scale_factor=2.0, mode=bilinear)\n",
       "          (conv): Conv2d(1, 64, kernel_size=(3, 3), stride=(1, 1), padding=(1, 1), bias=False)\n",
       "          (lrelu): LeakyReLU(negative_slope=0.2)\n",
       "        )\n",
       "        (1): UpBlock(\n",
       "          (upsample): UpsamplingBilinear2d(scale_factor=2.0, mode=bilinear)\n",
       "          (conv): Conv2d(64, 64, kernel_size=(3, 3), stride=(1, 1), padding=(1, 1), bias=False)\n",
       "          (lrelu): LeakyReLU(negative_slope=0.2)\n",
       "        )\n",
       "        (2): UpBlock(\n",
       "          (upsample): UpsamplingBilinear2d(scale_factor=2.0, mode=bilinear)\n",
       "          (conv): Conv2d(64, 64, kernel_size=(3, 3), stride=(1, 1), padding=(1, 1), bias=False)\n",
       "          (lrelu): LeakyReLU(negative_slope=0.2)\n",
       "        )\n",
       "      )\n",
       "      (tail): Sequential(\n",
       "        (0): Conv2d(64, 1, kernel_size=(3, 3), stride=(1, 1), padding=(1, 1), bias=False)\n",
       "        (1): Tanh()\n",
       "      )\n",
       "    )\n",
       "  )\n",
       ")"
      ]
     },
     "execution_count": 4,
     "metadata": {},
     "output_type": "execute_result"
    }
   ],
   "source": [
    "class RenderToSurface(pl.LightningModule):\n",
    "    \n",
    "    def __init__(self, hparams):\n",
    "        super().__init__()        \n",
    "        self.save_hyperparameters(hparams)\n",
    "        \n",
    "        self.G = StyleGenerator(hparams)\n",
    "        self.faces = None                     \n",
    "\n",
    "    def training_step(self, batch, batch_idx):        \n",
    "        size = batch['slice_data'].shape[-1]\n",
    "        v, rcn = self.G(batch['image'], batch['slice_idx'], size)\n",
    "#         if self.faces is None:\n",
    "#             _, _, w, h = v.shape\n",
    "#             faces = make_faces(w, h)[None]\n",
    "#             self.faces = torch.tensor(faces, device=v.device)\n",
    "        #print(batch['image'].shape, v.shape, batch['grid'].shape)        \n",
    "        loss_grid = F.l1_loss(v, batch['slice_data'].reshape_as(v))\n",
    "        loss_rcn =  F.l1_loss(rcn, batch['image'])\n",
    "        #loss_grid = F.mse_loss(v, batch['grid'].reshape_as(v))\n",
    "        #loss_grid = F.l1_loss(v, list_to_grid(batch['grid']))\n",
    "        #v = grid_to_list(v)        \n",
    "        #meshes = Meshes(verts=v, faces=self.faces.expand(v.size(0), -1, -1))\n",
    "        #samples = sample_points_from_meshes(meshes)\n",
    "                \n",
    "        \n",
    "        #loss_samples, _ = chamfer_distance(samples, batch['samples'])        \n",
    "        loss = loss_grid + loss_rcn#+ loss_samples\n",
    "        \n",
    "        #self.log(f\"train/loss_samples\", loss_samples.item())\n",
    "        self.log(f\"train/loss_grid\", loss_grid.item())\n",
    "        self.log(f\"train/loss_rcn\", loss_rcn.item())\n",
    "        self.log(f\"train/loss\", loss.item())\n",
    "        return loss\n",
    "        \n",
    "        \n",
    "    def configure_optimizers(self):\n",
    "        lr, betas = 0.0003, (0.5, 0.999)        \n",
    "        opt_g = torch.optim.Adam(self.G.parameters(),  lr=lr)#, betas=betas)\n",
    "        return [opt_g], []\n",
    "                 \n",
    "model = RenderToSurface(config)\n",
    "model"
   ]
  },
  {
   "cell_type": "code",
   "execution_count": 5,
   "metadata": {
    "scrolled": false
   },
   "outputs": [
    {
     "name": "stderr",
     "output_type": "stream",
     "text": [
      "Using native 16bit precision.\n",
      "GPU available: True, used: True\n",
      "TPU available: False, using: 0 TPU cores\n",
      "IPU available: False, using: 0 IPUs\n",
      "LOCAL_RANK: 0 - CUDA_VISIBLE_DEVICES: [0]\n",
      "\n",
      "  | Name | Type           | Params\n",
      "----------------------------------------\n",
      "0 | G    | StyleGenerator | 453 K \n",
      "----------------------------------------\n",
      "453 K     Trainable params\n",
      "0         Non-trainable params\n",
      "453 K     Total params\n",
      "1.815     Total estimated model params size (MB)\n"
     ]
    },
    {
     "data": {
      "application/vnd.jupyter.widget-view+json": {
       "model_id": "bb27c3f399c64001a068a9938c271a04",
       "version_major": 2,
       "version_minor": 0
      },
      "text/plain": [
       "HBox(children=(FloatProgress(value=1.0, bar_style='info', description='Training', layout=Layout(flex='2'), max…"
      ]
     },
     "metadata": {},
     "output_type": "display_data"
    },
    {
     "name": "stderr",
     "output_type": "stream",
     "text": [
      "/home/bobi/miniconda3/envs/pytorch3d_05/lib/python3.8/site-packages/torch/nn/functional.py:718: UserWarning:\n",
      "\n",
      "Named tensors and all their associated APIs are an experimental feature and subject to change. Please do not use them for anything important until they are released as stable. (Triggered internally at  /opt/conda/conda-bld/pytorch_1623448278899/work/c10/core/TensorImpl.h:1156.)\n",
      "\n",
      "/home/bobi/miniconda3/envs/pytorch3d_05/lib/python3.8/site-packages/pytorch_lightning/trainer/trainer.py:1047: UserWarning:\n",
      "\n",
      "Detected KeyboardInterrupt, attempting graceful shutdown...\n",
      "\n"
     ]
    }
   ],
   "source": [
    "trainer = pl.Trainer(gpus=1, max_epochs=3000, #progress_bar_refresh_rate=5,\n",
    "                     #terminate_on_nan=True, \n",
    "                     #profiler=\"pytorch\",\n",
    "                     #log_every_n_steps=2, \n",
    "                     callbacks=[LogRenderSample(config)],\n",
    "                     precision=16,\n",
    "                     #resume_from_checkpoint=\"./lightning_logs/version_9/checkpoints/epoch=1999-step=23999.ckpt\"\n",
    "                    )\n",
    "trainer.fit(model, dm)"
   ]
  },
  {
   "cell_type": "code",
   "execution_count": 8,
   "metadata": {},
   "outputs": [],
   "source": [
    "self = model\n",
    "size = batch['slice_data'].shape[-1]\n",
    "v, rcn = self.G(batch['image'], batch['slice_idx'], size)"
   ]
  },
  {
   "cell_type": "code",
   "execution_count": 9,
   "metadata": {},
   "outputs": [
    {
     "data": {
      "text/plain": [
       "(torch.Size([32, 3, 16, 16]), torch.Size([32, 1, 128, 128]))"
      ]
     },
     "execution_count": 9,
     "metadata": {},
     "output_type": "execute_result"
    }
   ],
   "source": [
    "v.shape, rcn.shape"
   ]
  },
  {
   "cell_type": "code",
   "execution_count": 10,
   "metadata": {},
   "outputs": [
    {
     "data": {
      "text/plain": [
       "tensor([[-1.0226,  0.8807, -0.3657, -0.6904,  1.0401,  0.8720,  1.1700, -0.5188],\n",
       "        [-0.8217,  0.7772,  0.0413, -0.8641,  1.0386,  0.5999,  1.1482, -0.3408],\n",
       "        [-1.0579,  0.9156, -0.4911, -0.6044,  1.0112,  0.9509,  1.1178, -0.5456],\n",
       "        [-0.6509,  0.6294,  0.4034, -1.0065,  1.0236,  0.3012,  1.0982, -0.2688],\n",
       "        [-0.5713,  0.4965,  0.6352, -1.1897,  1.0227,  0.1270,  1.2363, -0.2466],\n",
       "        [-0.7948,  0.8238,  0.0101, -0.8180,  1.0484,  0.6456,  1.1308, -0.2480],\n",
       "        [-0.7577,  0.7039,  0.1555, -0.9168,  1.0161,  0.4917,  1.1491, -0.3155],\n",
       "        [-1.1769,  1.0255, -0.7767, -0.4522,  1.0176,  1.1695,  1.0952, -0.5868],\n",
       "        [-0.9000,  0.6225, -0.1199, -0.8851,  1.0262,  0.6168,  1.3350, -0.5491],\n",
       "        [-0.7998,  0.4916,  0.1014, -0.9935,  0.9912,  0.4122,  1.3441, -0.5564],\n",
       "        [-1.1851,  1.0156, -0.7473, -0.4690,  1.0285,  1.1374,  1.0693, -0.6395],\n",
       "        [-1.0189,  0.8386, -0.3561, -0.7060,  1.0420,  0.8357,  1.1737, -0.5898],\n",
       "        [-0.7803,  0.6358,  0.1426, -0.9908,  1.0563,  0.4787,  1.3314, -0.4125],\n",
       "        [-0.8954,  0.9420, -0.1856, -0.7135,  1.0704,  0.8053,  1.0992, -0.3220],\n",
       "        [-0.8335,  0.5769,  0.0477, -0.9579,  1.0184,  0.4905,  1.3129, -0.5276],\n",
       "        [-1.0313,  0.8705, -0.4156, -0.6710,  1.0254,  0.8876,  1.1732, -0.5537],\n",
       "        [-1.2087,  1.0908, -0.8643, -0.3982,  1.0219,  1.2548,  1.0738, -0.5783],\n",
       "        [-0.9864,  0.8508, -0.3238, -0.7144,  1.0285,  0.8372,  1.1914, -0.5024],\n",
       "        [-1.1538,  0.9490, -0.7168, -0.5233,  1.0244,  1.1037,  1.1661, -0.6358],\n",
       "        [-0.7161,  0.3852,  0.2818, -1.1071,  0.9871,  0.2673,  1.4075, -0.5059],\n",
       "        [-1.2563,  1.0716, -0.8742, -0.3995,  1.0362,  1.2348,  1.0388, -0.6941],\n",
       "        [-0.7850,  0.6072,  0.1327, -0.9707,  1.0286,  0.4437,  1.2580, -0.4998],\n",
       "        [-1.1805,  0.9865, -0.7797, -0.4619,  1.0135,  1.1393,  1.0893, -0.6555],\n",
       "        [-0.9727,  0.8143, -0.3072, -0.7314,  1.0305,  0.8063,  1.2060, -0.5012],\n",
       "        [-0.8233,  0.6854, -0.0194, -0.9169,  1.0129,  0.6038,  1.3303, -0.3933],\n",
       "        [-1.0891,  0.9551, -0.5892, -0.5628,  1.0063,  1.0406,  1.1207, -0.4990],\n",
       "        [-0.9663,  0.8560, -0.3161, -0.7177,  1.0343,  0.8449,  1.2113, -0.4367],\n",
       "        [-0.5650,  0.4391,  0.6259, -1.2339,  1.0274,  0.1036,  1.3277, -0.3140],\n",
       "        [-1.0255,  0.9599, -0.4596, -0.6232,  1.0361,  0.9823,  1.1581, -0.4187],\n",
       "        [-0.9677,  0.8461, -0.3006, -0.6893,  1.0053,  0.8081,  1.1105, -0.4832],\n",
       "        [-0.9917,  0.7958, -0.3408, -0.7190,  1.0272,  0.8054,  1.2088, -0.5796],\n",
       "        [-1.1144,  0.8659, -0.6159, -0.5888,  1.0215,  1.0070,  1.2172, -0.6555]],\n",
       "       grad_fn=<AddmmBackward>)"
      ]
     },
     "execution_count": 10,
     "metadata": {},
     "output_type": "execute_result"
    }
   ],
   "source": [
    "self.G.stylist(batch['image'])"
   ]
  },
  {
   "cell_type": "code",
   "execution_count": null,
   "metadata": {},
   "outputs": [],
   "source": []
  }
 ],
 "metadata": {
  "kernelspec": {
   "display_name": "Python 3",
   "language": "python",
   "name": "python3"
  },
  "language_info": {
   "codemirror_mode": {
    "name": "ipython",
    "version": 3
   },
   "file_extension": ".py",
   "mimetype": "text/x-python",
   "name": "python",
   "nbconvert_exporter": "python",
   "pygments_lexer": "ipython3",
   "version": "3.8.11"
  }
 },
 "nbformat": 4,
 "nbformat_minor": 4
}
