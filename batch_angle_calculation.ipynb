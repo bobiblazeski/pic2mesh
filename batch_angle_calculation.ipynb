{
 "cells": [
  {
   "cell_type": "code",
   "execution_count": 1,
   "metadata": {},
   "outputs": [
    {
     "data": {
      "text/html": [
       "        <script type=\"text/javascript\">\n",
       "        window.PlotlyConfig = {MathJaxConfig: 'local'};\n",
       "        if (window.MathJax) {MathJax.Hub.Config({SVG: {font: \"STIX-Web\"}});}\n",
       "        if (typeof require !== 'undefined') {\n",
       "        require.undef(\"plotly\");\n",
       "        requirejs.config({\n",
       "            paths: {\n",
       "                'plotly': ['https://cdn.plot.ly/plotly-latest.min']\n",
       "            }\n",
       "        });\n",
       "        require(['plotly'], function(Plotly) {\n",
       "            window._Plotly = Plotly;\n",
       "        });\n",
       "        }\n",
       "        </script>\n",
       "        "
      ]
     },
     "metadata": {},
     "output_type": "display_data"
    },
    {
     "data": {
      "text/html": [
       "        <script type=\"text/javascript\">\n",
       "        window.PlotlyConfig = {MathJaxConfig: 'local'};\n",
       "        if (window.MathJax) {MathJax.Hub.Config({SVG: {font: \"STIX-Web\"}});}\n",
       "        if (typeof require !== 'undefined') {\n",
       "        require.undef(\"plotly\");\n",
       "        requirejs.config({\n",
       "            paths: {\n",
       "                'plotly': ['https://cdn.plot.ly/plotly-latest.min']\n",
       "            }\n",
       "        });\n",
       "        require(['plotly'], function(Plotly) {\n",
       "            window._Plotly = Plotly;\n",
       "        });\n",
       "        }\n",
       "        </script>\n",
       "        "
      ]
     },
     "metadata": {},
     "output_type": "display_data"
    },
    {
     "data": {
      "text/html": [
       "        <script type=\"text/javascript\">\n",
       "        window.PlotlyConfig = {MathJaxConfig: 'local'};\n",
       "        if (window.MathJax) {MathJax.Hub.Config({SVG: {font: \"STIX-Web\"}});}\n",
       "        if (typeof require !== 'undefined') {\n",
       "        require.undef(\"plotly\");\n",
       "        requirejs.config({\n",
       "            paths: {\n",
       "                'plotly': ['https://cdn.plot.ly/plotly-latest.min']\n",
       "            }\n",
       "        });\n",
       "        require(['plotly'], function(Plotly) {\n",
       "            window._Plotly = Plotly;\n",
       "        });\n",
       "        }\n",
       "        </script>\n",
       "        "
      ]
     },
     "metadata": {},
     "output_type": "display_data"
    },
    {
     "data": {
      "text/html": [
       "        <script type=\"text/javascript\">\n",
       "        window.PlotlyConfig = {MathJaxConfig: 'local'};\n",
       "        if (window.MathJax) {MathJax.Hub.Config({SVG: {font: \"STIX-Web\"}});}\n",
       "        if (typeof require !== 'undefined') {\n",
       "        require.undef(\"plotly\");\n",
       "        requirejs.config({\n",
       "            paths: {\n",
       "                'plotly': ['https://cdn.plot.ly/plotly-latest.min']\n",
       "            }\n",
       "        });\n",
       "        require(['plotly'], function(Plotly) {\n",
       "            window._Plotly = Plotly;\n",
       "        });\n",
       "        }\n",
       "        </script>\n",
       "        "
      ]
     },
     "metadata": {},
     "output_type": "display_data"
    }
   ],
   "source": [
    "import os\n",
    "from collections import OrderedDict\n",
    "import torch\n",
    "import torch.nn.functional as F\n",
    "from src.util import (\n",
    "    make_faces,    \n",
    ")    \n",
    "\n",
    "def vertex_tris(faces):\n",
    "    res = [[] for _ in range(faces.max()+1)]\n",
    "    for fid, face in enumerate(faces):        \n",
    "        for vid in face:\n",
    "            res[vid].append(fid)        \n",
    "    return res\n",
    "\n",
    "def vertex_tri_maps(faces):\n",
    "    vts = vertex_tris(faces)\n",
    "    r, c = len(vts), max([len(x) for  x in vts])\n",
    "    vert_tri_indices = torch.zeros(r, c, dtype=torch.long)\n",
    "    vert_tri_weights = torch.zeros(r, c)    \n",
    "    for r, tris in enumerate(vts):        \n",
    "        weight = 1. #/ len(tris)\n",
    "        for c, tri_id in enumerate(tris):\n",
    "            vert_tri_indices[r, c] = tri_id\n",
    "            vert_tri_weights[r, c] = weight\n",
    "    return vert_tri_indices, vert_tri_weights.unsqueeze(dim=-1)[None]\n"
   ]
  },
  {
   "cell_type": "code",
   "execution_count": 2,
   "metadata": {
    "scrolled": true
   },
   "outputs": [
    {
     "data": {
      "text/plain": [
       "array([[3, 0, 4],\n",
       "       [1, 4, 0],\n",
       "       [4, 1, 5],\n",
       "       [2, 5, 1],\n",
       "       [6, 3, 7],\n",
       "       [4, 7, 3],\n",
       "       [7, 4, 8],\n",
       "       [5, 8, 4]])"
      ]
     },
     "execution_count": 2,
     "metadata": {},
     "output_type": "execute_result"
    }
   ],
   "source": [
    "faces = make_faces(3, 3)\n",
    "faces"
   ]
  },
  {
   "cell_type": "code",
   "execution_count": 3,
   "metadata": {},
   "outputs": [
    {
     "data": {
      "text/plain": [
       "[[0, 1],\n",
       " [1, 2, 3],\n",
       " [3],\n",
       " [0, 4, 5],\n",
       " [0, 1, 2, 5, 6, 7],\n",
       " [2, 3, 7],\n",
       " [4],\n",
       " [4, 5, 6],\n",
       " [6, 7]]"
      ]
     },
     "execution_count": 3,
     "metadata": {},
     "output_type": "execute_result"
    }
   ],
   "source": [
    "vertex_tris(faces)"
   ]
  },
  {
   "cell_type": "code",
   "execution_count": 4,
   "metadata": {},
   "outputs": [
    {
     "data": {
      "text/plain": [
       "torch.Size([1, 9, 3])"
      ]
     },
     "execution_count": 4,
     "metadata": {},
     "output_type": "execute_result"
    }
   ],
   "source": [
    "# bs vrt_no 3 3\n",
    "vrt = torch.rand(1, 9, 3)\n",
    "vrt.shape"
   ]
  },
  {
   "cell_type": "code",
   "execution_count": 5,
   "metadata": {},
   "outputs": [
    {
     "data": {
      "text/plain": [
       "9"
      ]
     },
     "execution_count": 5,
     "metadata": {},
     "output_type": "execute_result"
    }
   ],
   "source": [
    "vrt_no = vrt.shape[1]\n",
    "vrt_no"
   ]
  },
  {
   "cell_type": "code",
   "execution_count": 19,
   "metadata": {
    "scrolled": true
   },
   "outputs": [
    {
     "name": "stdout",
     "output_type": "stream",
     "text": [
      "torch.Size([9, 6, 3])\n"
     ]
    },
    {
     "data": {
      "text/plain": [
       "tensor([[[1, 3, 5],\n",
       "         [0, 2, 4],\n",
       "         [4, 7, 2],\n",
       "         [4, 8, 8],\n",
       "         [4, 5, 6],\n",
       "         [6, 4, 0]],\n",
       "\n",
       "        [[7, 4, 1],\n",
       "         [5, 6, 7],\n",
       "         [2, 3, 6],\n",
       "         [6, 3, 3],\n",
       "         [7, 0, 3],\n",
       "         [4, 3, 7]],\n",
       "\n",
       "        [[4, 7, 7],\n",
       "         [0, 6, 0],\n",
       "         [3, 6, 1],\n",
       "         [2, 5, 1],\n",
       "         [5, 4, 7],\n",
       "         [1, 3, 8]],\n",
       "\n",
       "        [[8, 6, 5],\n",
       "         [7, 8, 8],\n",
       "         [5, 2, 7],\n",
       "         [8, 0, 6],\n",
       "         [6, 8, 8],\n",
       "         [7, 6, 6]],\n",
       "\n",
       "        [[6, 5, 3],\n",
       "         [1, 5, 0],\n",
       "         [7, 0, 8],\n",
       "         [4, 4, 2],\n",
       "         [7, 0, 8],\n",
       "         [5, 3, 5]],\n",
       "\n",
       "        [[4, 2, 0],\n",
       "         [5, 1, 1],\n",
       "         [0, 5, 6],\n",
       "         [6, 2, 3],\n",
       "         [7, 8, 5],\n",
       "         [2, 3, 0]],\n",
       "\n",
       "        [[3, 6, 2],\n",
       "         [8, 8, 0],\n",
       "         [0, 7, 7],\n",
       "         [1, 7, 5],\n",
       "         [6, 3, 8],\n",
       "         [3, 0, 5]],\n",
       "\n",
       "        [[0, 3, 0],\n",
       "         [1, 4, 0],\n",
       "         [3, 4, 6],\n",
       "         [7, 2, 6],\n",
       "         [4, 3, 6],\n",
       "         [7, 3, 2]],\n",
       "\n",
       "        [[5, 5, 2],\n",
       "         [7, 5, 8],\n",
       "         [8, 3, 7],\n",
       "         [5, 8, 5],\n",
       "         [2, 3, 4],\n",
       "         [5, 3, 1]]])"
      ]
     },
     "execution_count": 19,
     "metadata": {},
     "output_type": "execute_result"
    }
   ],
   "source": [
    "angle_sel = torch.randint(0, vrt_no, (vrt_no, 6, 3))\n",
    "print(angle_sel.shape)\n",
    "angle_sel"
   ]
  },
  {
   "cell_type": "code",
   "execution_count": 21,
   "metadata": {
    "scrolled": true
   },
   "outputs": [
    {
     "name": "stdout",
     "output_type": "stream",
     "text": [
      "torch.Size([1, 9, 6, 3, 3])\n"
     ]
    },
    {
     "data": {
      "text/plain": [
       "tensor([[[[[0.3252, 0.9688, 0.8584],\n",
       "           [0.1242, 0.2599, 0.5692],\n",
       "           [0.5787, 0.5036, 0.5874]],\n",
       "\n",
       "          [[0.2990, 0.7059, 0.3558],\n",
       "           [0.4478, 0.2418, 0.3900],\n",
       "           [0.3643, 0.3132, 0.3545]],\n",
       "\n",
       "          [[0.3643, 0.3132, 0.3545],\n",
       "           [0.1571, 0.1381, 0.4521],\n",
       "           [0.4478, 0.2418, 0.3900]],\n",
       "\n",
       "          [[0.3643, 0.3132, 0.3545],\n",
       "           [0.6385, 0.9155, 0.9512],\n",
       "           [0.6385, 0.9155, 0.9512]],\n",
       "\n",
       "          [[0.3643, 0.3132, 0.3545],\n",
       "           [0.5787, 0.5036, 0.5874],\n",
       "           [0.8140, 0.4826, 0.2013]],\n",
       "\n",
       "          [[0.8140, 0.4826, 0.2013],\n",
       "           [0.3643, 0.3132, 0.3545],\n",
       "           [0.2990, 0.7059, 0.3558]]],\n",
       "\n",
       "\n",
       "         [[[0.1571, 0.1381, 0.4521],\n",
       "           [0.3643, 0.3132, 0.3545],\n",
       "           [0.3252, 0.9688, 0.8584]],\n",
       "\n",
       "          [[0.5787, 0.5036, 0.5874],\n",
       "           [0.8140, 0.4826, 0.2013],\n",
       "           [0.1571, 0.1381, 0.4521]],\n",
       "\n",
       "          [[0.4478, 0.2418, 0.3900],\n",
       "           [0.1242, 0.2599, 0.5692],\n",
       "           [0.8140, 0.4826, 0.2013]],\n",
       "\n",
       "          [[0.8140, 0.4826, 0.2013],\n",
       "           [0.1242, 0.2599, 0.5692],\n",
       "           [0.1242, 0.2599, 0.5692]],\n",
       "\n",
       "          [[0.1571, 0.1381, 0.4521],\n",
       "           [0.2990, 0.7059, 0.3558],\n",
       "           [0.1242, 0.2599, 0.5692]],\n",
       "\n",
       "          [[0.3643, 0.3132, 0.3545],\n",
       "           [0.1242, 0.2599, 0.5692],\n",
       "           [0.1571, 0.1381, 0.4521]]],\n",
       "\n",
       "\n",
       "         [[[0.3643, 0.3132, 0.3545],\n",
       "           [0.1571, 0.1381, 0.4521],\n",
       "           [0.1571, 0.1381, 0.4521]],\n",
       "\n",
       "          [[0.2990, 0.7059, 0.3558],\n",
       "           [0.8140, 0.4826, 0.2013],\n",
       "           [0.2990, 0.7059, 0.3558]],\n",
       "\n",
       "          [[0.1242, 0.2599, 0.5692],\n",
       "           [0.8140, 0.4826, 0.2013],\n",
       "           [0.3252, 0.9688, 0.8584]],\n",
       "\n",
       "          [[0.4478, 0.2418, 0.3900],\n",
       "           [0.5787, 0.5036, 0.5874],\n",
       "           [0.3252, 0.9688, 0.8584]],\n",
       "\n",
       "          [[0.5787, 0.5036, 0.5874],\n",
       "           [0.3643, 0.3132, 0.3545],\n",
       "           [0.1571, 0.1381, 0.4521]],\n",
       "\n",
       "          [[0.3252, 0.9688, 0.8584],\n",
       "           [0.1242, 0.2599, 0.5692],\n",
       "           [0.6385, 0.9155, 0.9512]]],\n",
       "\n",
       "\n",
       "         [[[0.6385, 0.9155, 0.9512],\n",
       "           [0.8140, 0.4826, 0.2013],\n",
       "           [0.5787, 0.5036, 0.5874]],\n",
       "\n",
       "          [[0.1571, 0.1381, 0.4521],\n",
       "           [0.6385, 0.9155, 0.9512],\n",
       "           [0.6385, 0.9155, 0.9512]],\n",
       "\n",
       "          [[0.5787, 0.5036, 0.5874],\n",
       "           [0.4478, 0.2418, 0.3900],\n",
       "           [0.1571, 0.1381, 0.4521]],\n",
       "\n",
       "          [[0.6385, 0.9155, 0.9512],\n",
       "           [0.2990, 0.7059, 0.3558],\n",
       "           [0.8140, 0.4826, 0.2013]],\n",
       "\n",
       "          [[0.8140, 0.4826, 0.2013],\n",
       "           [0.6385, 0.9155, 0.9512],\n",
       "           [0.6385, 0.9155, 0.9512]],\n",
       "\n",
       "          [[0.1571, 0.1381, 0.4521],\n",
       "           [0.8140, 0.4826, 0.2013],\n",
       "           [0.8140, 0.4826, 0.2013]]],\n",
       "\n",
       "\n",
       "         [[[0.8140, 0.4826, 0.2013],\n",
       "           [0.5787, 0.5036, 0.5874],\n",
       "           [0.1242, 0.2599, 0.5692]],\n",
       "\n",
       "          [[0.3252, 0.9688, 0.8584],\n",
       "           [0.5787, 0.5036, 0.5874],\n",
       "           [0.2990, 0.7059, 0.3558]],\n",
       "\n",
       "          [[0.1571, 0.1381, 0.4521],\n",
       "           [0.2990, 0.7059, 0.3558],\n",
       "           [0.6385, 0.9155, 0.9512]],\n",
       "\n",
       "          [[0.3643, 0.3132, 0.3545],\n",
       "           [0.3643, 0.3132, 0.3545],\n",
       "           [0.4478, 0.2418, 0.3900]],\n",
       "\n",
       "          [[0.1571, 0.1381, 0.4521],\n",
       "           [0.2990, 0.7059, 0.3558],\n",
       "           [0.6385, 0.9155, 0.9512]],\n",
       "\n",
       "          [[0.5787, 0.5036, 0.5874],\n",
       "           [0.1242, 0.2599, 0.5692],\n",
       "           [0.5787, 0.5036, 0.5874]]],\n",
       "\n",
       "\n",
       "         [[[0.3643, 0.3132, 0.3545],\n",
       "           [0.4478, 0.2418, 0.3900],\n",
       "           [0.2990, 0.7059, 0.3558]],\n",
       "\n",
       "          [[0.5787, 0.5036, 0.5874],\n",
       "           [0.3252, 0.9688, 0.8584],\n",
       "           [0.3252, 0.9688, 0.8584]],\n",
       "\n",
       "          [[0.2990, 0.7059, 0.3558],\n",
       "           [0.5787, 0.5036, 0.5874],\n",
       "           [0.8140, 0.4826, 0.2013]],\n",
       "\n",
       "          [[0.8140, 0.4826, 0.2013],\n",
       "           [0.4478, 0.2418, 0.3900],\n",
       "           [0.1242, 0.2599, 0.5692]],\n",
       "\n",
       "          [[0.1571, 0.1381, 0.4521],\n",
       "           [0.6385, 0.9155, 0.9512],\n",
       "           [0.5787, 0.5036, 0.5874]],\n",
       "\n",
       "          [[0.4478, 0.2418, 0.3900],\n",
       "           [0.1242, 0.2599, 0.5692],\n",
       "           [0.2990, 0.7059, 0.3558]]],\n",
       "\n",
       "\n",
       "         [[[0.1242, 0.2599, 0.5692],\n",
       "           [0.8140, 0.4826, 0.2013],\n",
       "           [0.4478, 0.2418, 0.3900]],\n",
       "\n",
       "          [[0.6385, 0.9155, 0.9512],\n",
       "           [0.6385, 0.9155, 0.9512],\n",
       "           [0.2990, 0.7059, 0.3558]],\n",
       "\n",
       "          [[0.2990, 0.7059, 0.3558],\n",
       "           [0.1571, 0.1381, 0.4521],\n",
       "           [0.1571, 0.1381, 0.4521]],\n",
       "\n",
       "          [[0.3252, 0.9688, 0.8584],\n",
       "           [0.1571, 0.1381, 0.4521],\n",
       "           [0.5787, 0.5036, 0.5874]],\n",
       "\n",
       "          [[0.8140, 0.4826, 0.2013],\n",
       "           [0.1242, 0.2599, 0.5692],\n",
       "           [0.6385, 0.9155, 0.9512]],\n",
       "\n",
       "          [[0.1242, 0.2599, 0.5692],\n",
       "           [0.2990, 0.7059, 0.3558],\n",
       "           [0.5787, 0.5036, 0.5874]]],\n",
       "\n",
       "\n",
       "         [[[0.2990, 0.7059, 0.3558],\n",
       "           [0.1242, 0.2599, 0.5692],\n",
       "           [0.2990, 0.7059, 0.3558]],\n",
       "\n",
       "          [[0.3252, 0.9688, 0.8584],\n",
       "           [0.3643, 0.3132, 0.3545],\n",
       "           [0.2990, 0.7059, 0.3558]],\n",
       "\n",
       "          [[0.1242, 0.2599, 0.5692],\n",
       "           [0.3643, 0.3132, 0.3545],\n",
       "           [0.8140, 0.4826, 0.2013]],\n",
       "\n",
       "          [[0.1571, 0.1381, 0.4521],\n",
       "           [0.4478, 0.2418, 0.3900],\n",
       "           [0.8140, 0.4826, 0.2013]],\n",
       "\n",
       "          [[0.3643, 0.3132, 0.3545],\n",
       "           [0.1242, 0.2599, 0.5692],\n",
       "           [0.8140, 0.4826, 0.2013]],\n",
       "\n",
       "          [[0.1571, 0.1381, 0.4521],\n",
       "           [0.1242, 0.2599, 0.5692],\n",
       "           [0.4478, 0.2418, 0.3900]]],\n",
       "\n",
       "\n",
       "         [[[0.5787, 0.5036, 0.5874],\n",
       "           [0.5787, 0.5036, 0.5874],\n",
       "           [0.4478, 0.2418, 0.3900]],\n",
       "\n",
       "          [[0.1571, 0.1381, 0.4521],\n",
       "           [0.5787, 0.5036, 0.5874],\n",
       "           [0.6385, 0.9155, 0.9512]],\n",
       "\n",
       "          [[0.6385, 0.9155, 0.9512],\n",
       "           [0.1242, 0.2599, 0.5692],\n",
       "           [0.1571, 0.1381, 0.4521]],\n",
       "\n",
       "          [[0.5787, 0.5036, 0.5874],\n",
       "           [0.6385, 0.9155, 0.9512],\n",
       "           [0.5787, 0.5036, 0.5874]],\n",
       "\n",
       "          [[0.4478, 0.2418, 0.3900],\n",
       "           [0.1242, 0.2599, 0.5692],\n",
       "           [0.3643, 0.3132, 0.3545]],\n",
       "\n",
       "          [[0.5787, 0.5036, 0.5874],\n",
       "           [0.1242, 0.2599, 0.5692],\n",
       "           [0.3252, 0.9688, 0.8584]]]]])"
      ]
     },
     "execution_count": 21,
     "metadata": {},
     "output_type": "execute_result"
    }
   ],
   "source": [
    "vrt.shape\n",
    "angle_pts = vrt.index_select(1, angle_sel.view(-1)).reshape(1, 9, 6, 3, 3)\n",
    "print(angle_pts.shape)\n",
    "angle_pts"
   ]
  },
  {
   "cell_type": "code",
   "execution_count": 22,
   "metadata": {},
   "outputs": [
    {
     "name": "stdout",
     "output_type": "stream",
     "text": [
      "torch.Size([1, 9, 6, 3, 3])\n"
     ]
    }
   ],
   "source": [
    "print(angle_pts.shape)\n",
    "a = angle_pts[:, :, :, 0]\n",
    "b = angle_pts[:, :, :, 1]\n",
    "c = angle_pts[:, :, :, 2]\n",
    "\n",
    "ba = a - b\n",
    "bc = c - b\n",
    "\n",
    "#cosine_angle = torch.dot(ba, bc) / (torch.norm(ba) * torch.norm(bc))\n",
    "#torch.arccos(cosine_angle)\n",
    "# torch.arccos(torch.dot(ba / torch.norm(ba), bc / torch.norm(bc)))"
   ]
  },
  {
   "cell_type": "code",
   "execution_count": 28,
   "metadata": {},
   "outputs": [
    {
     "data": {
      "text/plain": [
       "(torch.Size([1, 9, 6, 3]), torch.Size([1, 9, 6, 1]))"
      ]
     },
     "execution_count": 28,
     "metadata": {},
     "output_type": "execute_result"
    }
   ],
   "source": [
    "ba.shape, torch.norm(ba, dim=-1).unsqueeze(-1).shape"
   ]
  },
  {
   "cell_type": "code",
   "execution_count": 39,
   "metadata": {
    "scrolled": true
   },
   "outputs": [
    {
     "data": {
      "text/plain": [
       "tensor([[[[ 0.2539,  0.8956,  0.3653],\n",
       "          [-0.3046,  0.9499, -0.0699],\n",
       "          [ 0.7187,  0.6074, -0.3384],\n",
       "          [-0.3076, -0.6760, -0.6696],\n",
       "          [-0.5803, -0.5155, -0.6305],\n",
       "          [ 0.8916,  0.3359, -0.3038]],\n",
       "\n",
       "         [[-0.7187, -0.6074,  0.3384],\n",
       "          [-0.5197,  0.0465,  0.8531],\n",
       "          [ 0.8737, -0.0487, -0.4840],\n",
       "          [ 0.8485,  0.2740, -0.4527],\n",
       "          [-0.2392, -0.9573,  0.1622],\n",
       "          [ 0.7354,  0.1632, -0.6577]],\n",
       "\n",
       "         [[ 0.7187,  0.6074, -0.3384],\n",
       "          [-0.8845,  0.3835,  0.2655],\n",
       "          [-0.8485, -0.2740,  0.4527],\n",
       "          [-0.3707, -0.7415, -0.5592],\n",
       "          [ 0.5803,  0.5155,  0.6305],\n",
       "          [ 0.2539,  0.8956,  0.3653]],\n",
       "\n",
       "         [[-0.1986,  0.4900,  0.8488],\n",
       "          [-0.4620, -0.7463, -0.4791],\n",
       "          [ 0.3707,  0.7415,  0.5592],\n",
       "          [ 0.4736,  0.2926,  0.8307],\n",
       "          [ 0.1986, -0.4900, -0.8488],\n",
       "          [-0.8389, -0.4400,  0.3203]],\n",
       "\n",
       "         [[ 0.5197, -0.0465, -0.8531],\n",
       "          [-0.4260,  0.7817,  0.4554],\n",
       "          [-0.2392, -0.9573,  0.1622],\n",
       "          [    nan,     nan,     nan],\n",
       "          [-0.2392, -0.9573,  0.1622],\n",
       "          [ 0.8807,  0.4723,  0.0353]],\n",
       "\n",
       "         [[-0.7235,  0.6181, -0.3074],\n",
       "          [ 0.4260, -0.7817, -0.4554],\n",
       "          [-0.6730,  0.4865, -0.5571],\n",
       "          [ 0.7674,  0.5046, -0.3955],\n",
       "          [-0.4620, -0.7463, -0.4791],\n",
       "          [ 0.8737, -0.0487, -0.4840]],\n",
       "\n",
       "         [[-0.8485, -0.2740,  0.4527],\n",
       "          [    nan,     nan,     nan],\n",
       "          [ 0.2392,  0.9573, -0.1622],\n",
       "          [ 0.1788,  0.8838,  0.4323],\n",
       "          [ 0.8485,  0.2740, -0.4527],\n",
       "          [-0.3333, -0.8505,  0.4069]],\n",
       "\n",
       "         [[ 0.3333,  0.8505, -0.4069],\n",
       "          [-0.0472,  0.7920,  0.6087],\n",
       "          [-0.7354, -0.1632,  0.6577],\n",
       "          [-0.9233, -0.3296,  0.1972],\n",
       "          [ 0.7354,  0.1632, -0.6577],\n",
       "          [ 0.1911, -0.7075, -0.6804]],\n",
       "\n",
       "         [[    nan,     nan,     nan],\n",
       "          [-0.7342, -0.6367, -0.2357],\n",
       "          [ 0.5610,  0.7153,  0.4167],\n",
       "          [-0.1081, -0.7451, -0.6581],\n",
       "          [ 0.8737, -0.0487, -0.4840],\n",
       "          [ 0.8807,  0.4723,  0.0353]]]])"
      ]
     },
     "execution_count": 39,
     "metadata": {},
     "output_type": "execute_result"
    }
   ],
   "source": [
    "baNrm"
   ]
  },
  {
   "cell_type": "code",
   "execution_count": 31,
   "metadata": {
    "scrolled": true
   },
   "outputs": [
    {
     "data": {
      "text/plain": [
       "(torch.Size([1, 9, 6, 3]), torch.Size([1, 9, 6, 3]))"
      ]
     },
     "execution_count": 31,
     "metadata": {},
     "output_type": "execute_result"
    }
   ],
   "source": [
    "baNrm = ba / torch.norm(ba, dim=-1).unsqueeze(-1)\n",
    "bcNrm = bc / torch.norm(bc, dim=-1).unsqueeze(-1)\n",
    "baNrm.shape, bcNrm.shape"
   ]
  },
  {
   "cell_type": "code",
   "execution_count": 36,
   "metadata": {},
   "outputs": [
    {
     "data": {
      "text/plain": [
       "torch.Size([1, 9, 6, 1])"
      ]
     },
     "execution_count": 36,
     "metadata": {},
     "output_type": "execute_result"
    }
   ],
   "source": [
    "dotBac = (baNrm * bcNrm).sum(dim=-1).unsqueeze(-1)\n",
    "dotBac.shape"
   ]
  },
  {
   "cell_type": "code",
   "execution_count": 38,
   "metadata": {},
   "outputs": [
    {
     "data": {
      "text/plain": [
       "torch.Size([1, 9, 6, 1])"
      ]
     },
     "execution_count": 38,
     "metadata": {},
     "output_type": "execute_result"
    }
   ],
   "source": [
    "torch.arccos(dotBac).shape"
   ]
  },
  {
   "cell_type": "code",
   "execution_count": null,
   "metadata": {},
   "outputs": [],
   "source": []
  }
 ],
 "metadata": {
  "kernelspec": {
   "display_name": "pytorch3d_0.3",
   "language": "python",
   "name": "pytorch3d_0.3"
  },
  "language_info": {
   "codemirror_mode": {
    "name": "ipython",
    "version": 3
   },
   "file_extension": ".py",
   "mimetype": "text/x-python",
   "name": "python",
   "nbconvert_exporter": "python",
   "pygments_lexer": "ipython3",
   "version": "3.8.5"
  }
 },
 "nbformat": 4,
 "nbformat_minor": 4
}
